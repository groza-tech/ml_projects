{
 "cells": [
  {
   "cell_type": "markdown",
   "metadata": {
    "toc": true
   },
   "source": [
    "<h1>Содержание<span class=\"tocSkip\"></span></h1>\n",
    "<div class=\"toc\"><ul class=\"toc-item\"><li><ul class=\"toc-item\"><li><span><a href=\"#Общее-впечатление\" data-toc-modified-id=\"Общее-впечатление-0.1\"><span class=\"toc-item-num\">0.1&nbsp;&nbsp;</span><font color=\"orange\">Общее впечатление</font></a></span></li><li><span><a href=\"#Общее-впечатление-(ревью-2)\" data-toc-modified-id=\"Общее-впечатление-(ревью-2)-0.2\"><span class=\"toc-item-num\">0.2&nbsp;&nbsp;</span><font color=\"orange\">Общее впечатление (ревью 2)</font></a></span></li></ul></li><li><span><a href=\"#Подготовка-данных\" data-toc-modified-id=\"Подготовка-данных-1\"><span class=\"toc-item-num\">1&nbsp;&nbsp;</span>Подготовка данных</a></span></li><li><span><a href=\"#Исследование-задачи\" data-toc-modified-id=\"Исследование-задачи-2\"><span class=\"toc-item-num\">2&nbsp;&nbsp;</span>Исследование задачи</a></span></li><li><span><a href=\"#Борьба-с-дисбалансом\" data-toc-modified-id=\"Борьба-с-дисбалансом-3\"><span class=\"toc-item-num\">3&nbsp;&nbsp;</span>Борьба с дисбалансом</a></span></li><li><span><a href=\"#Тестирование-модели\" data-toc-modified-id=\"Тестирование-модели-4\"><span class=\"toc-item-num\">4&nbsp;&nbsp;</span>Тестирование модели</a></span></li><li><span><a href=\"#Чек-лист-готовности-проекта\" data-toc-modified-id=\"Чек-лист-готовности-проекта-5\"><span class=\"toc-item-num\">5&nbsp;&nbsp;</span>Чек-лист готовности проекта</a></span></li></ul></div>"
   ]
  },
  {
   "cell_type": "markdown",
   "metadata": {},
   "source": [
    "# Отток клиентов"
   ]
  },
  {
   "cell_type": "markdown",
   "metadata": {},
   "source": [
    "Из «Бета-Банка» стали уходить клиенты. Каждый месяц. Немного, но заметно. Банковские маркетологи посчитали: сохранять текущих клиентов дешевле, чем привлекать новых.\n",
    "\n",
    "Нужно спрогнозировать, уйдёт клиент из банка в ближайшее время или нет. Вам предоставлены исторические данные о поведении клиентов и расторжении договоров с банком. \n",
    "\n",
    "Постройте модель с предельно большим значением *F1*-меры. Чтобы сдать проект успешно, нужно довести метрику до 0.59. Проверьте *F1*-меру на тестовой выборке самостоятельно.\n",
    "\n",
    "Дополнительно измеряйте *AUC-ROC*, сравнивайте её значение с *F1*-мерой.\n",
    "\n",
    "Источник данных: [https://www.kaggle.com/barelydedicated/bank-customer-churn-modeling](https://www.kaggle.com/barelydedicated/bank-customer-churn-modeling)"
   ]
  },
  {
   "cell_type": "code",
   "execution_count": 18,
   "metadata": {},
   "outputs": [],
   "source": [
    "import pandas as pd\n",
    "import numpy as np\n",
    "import matplotlib as plt \n",
    "from random import randrange\n",
    "from sklearn.model_selection import train_test_split\n",
    "from sklearn.linear_model import LogisticRegression\n",
    "from sklearn.ensemble import RandomForestClassifier\n",
    "from sklearn.metrics import f1_score\n",
    "from sklearn.metrics import roc_auc_score\n",
    "from sklearn.preprocessing import StandardScaler\n",
    "from sklearn.utils import shuffle"
   ]
  },
  {
   "cell_type": "markdown",
   "metadata": {},
   "source": [
    "## Подготовка данных"
   ]
  },
  {
   "cell_type": "markdown",
   "metadata": {},
   "source": [
    "Начнем предобработку данных"
   ]
  },
  {
   "cell_type": "code",
   "execution_count": 2,
   "metadata": {},
   "outputs": [
    {
     "data": {
      "text/html": [
       "<div>\n",
       "<style scoped>\n",
       "    .dataframe tbody tr th:only-of-type {\n",
       "        vertical-align: middle;\n",
       "    }\n",
       "\n",
       "    .dataframe tbody tr th {\n",
       "        vertical-align: top;\n",
       "    }\n",
       "\n",
       "    .dataframe thead th {\n",
       "        text-align: right;\n",
       "    }\n",
       "</style>\n",
       "<table border=\"1\" class=\"dataframe\">\n",
       "  <thead>\n",
       "    <tr style=\"text-align: right;\">\n",
       "      <th></th>\n",
       "      <th>RowNumber</th>\n",
       "      <th>CustomerId</th>\n",
       "      <th>Surname</th>\n",
       "      <th>CreditScore</th>\n",
       "      <th>Geography</th>\n",
       "      <th>Gender</th>\n",
       "      <th>Age</th>\n",
       "      <th>Tenure</th>\n",
       "      <th>Balance</th>\n",
       "      <th>NumOfProducts</th>\n",
       "      <th>HasCrCard</th>\n",
       "      <th>IsActiveMember</th>\n",
       "      <th>EstimatedSalary</th>\n",
       "      <th>Exited</th>\n",
       "    </tr>\n",
       "  </thead>\n",
       "  <tbody>\n",
       "    <tr>\n",
       "      <td>0</td>\n",
       "      <td>1</td>\n",
       "      <td>15634602</td>\n",
       "      <td>Hargrave</td>\n",
       "      <td>619</td>\n",
       "      <td>France</td>\n",
       "      <td>Female</td>\n",
       "      <td>42</td>\n",
       "      <td>2.0</td>\n",
       "      <td>0.00</td>\n",
       "      <td>1</td>\n",
       "      <td>1</td>\n",
       "      <td>1</td>\n",
       "      <td>101348.88</td>\n",
       "      <td>1</td>\n",
       "    </tr>\n",
       "    <tr>\n",
       "      <td>1</td>\n",
       "      <td>2</td>\n",
       "      <td>15647311</td>\n",
       "      <td>Hill</td>\n",
       "      <td>608</td>\n",
       "      <td>Spain</td>\n",
       "      <td>Female</td>\n",
       "      <td>41</td>\n",
       "      <td>1.0</td>\n",
       "      <td>83807.86</td>\n",
       "      <td>1</td>\n",
       "      <td>0</td>\n",
       "      <td>1</td>\n",
       "      <td>112542.58</td>\n",
       "      <td>0</td>\n",
       "    </tr>\n",
       "    <tr>\n",
       "      <td>2</td>\n",
       "      <td>3</td>\n",
       "      <td>15619304</td>\n",
       "      <td>Onio</td>\n",
       "      <td>502</td>\n",
       "      <td>France</td>\n",
       "      <td>Female</td>\n",
       "      <td>42</td>\n",
       "      <td>8.0</td>\n",
       "      <td>159660.80</td>\n",
       "      <td>3</td>\n",
       "      <td>1</td>\n",
       "      <td>0</td>\n",
       "      <td>113931.57</td>\n",
       "      <td>1</td>\n",
       "    </tr>\n",
       "    <tr>\n",
       "      <td>3</td>\n",
       "      <td>4</td>\n",
       "      <td>15701354</td>\n",
       "      <td>Boni</td>\n",
       "      <td>699</td>\n",
       "      <td>France</td>\n",
       "      <td>Female</td>\n",
       "      <td>39</td>\n",
       "      <td>1.0</td>\n",
       "      <td>0.00</td>\n",
       "      <td>2</td>\n",
       "      <td>0</td>\n",
       "      <td>0</td>\n",
       "      <td>93826.63</td>\n",
       "      <td>0</td>\n",
       "    </tr>\n",
       "    <tr>\n",
       "      <td>4</td>\n",
       "      <td>5</td>\n",
       "      <td>15737888</td>\n",
       "      <td>Mitchell</td>\n",
       "      <td>850</td>\n",
       "      <td>Spain</td>\n",
       "      <td>Female</td>\n",
       "      <td>43</td>\n",
       "      <td>2.0</td>\n",
       "      <td>125510.82</td>\n",
       "      <td>1</td>\n",
       "      <td>1</td>\n",
       "      <td>1</td>\n",
       "      <td>79084.10</td>\n",
       "      <td>0</td>\n",
       "    </tr>\n",
       "  </tbody>\n",
       "</table>\n",
       "</div>"
      ],
      "text/plain": [
       "   RowNumber  CustomerId   Surname  CreditScore Geography  Gender  Age  \\\n",
       "0          1    15634602  Hargrave          619    France  Female   42   \n",
       "1          2    15647311      Hill          608     Spain  Female   41   \n",
       "2          3    15619304      Onio          502    France  Female   42   \n",
       "3          4    15701354      Boni          699    France  Female   39   \n",
       "4          5    15737888  Mitchell          850     Spain  Female   43   \n",
       "\n",
       "   Tenure    Balance  NumOfProducts  HasCrCard  IsActiveMember  \\\n",
       "0     2.0       0.00              1          1               1   \n",
       "1     1.0   83807.86              1          0               1   \n",
       "2     8.0  159660.80              3          1               0   \n",
       "3     1.0       0.00              2          0               0   \n",
       "4     2.0  125510.82              1          1               1   \n",
       "\n",
       "   EstimatedSalary  Exited  \n",
       "0        101348.88       1  \n",
       "1        112542.58       0  \n",
       "2        113931.57       1  \n",
       "3         93826.63       0  \n",
       "4         79084.10       0  "
      ]
     },
     "metadata": {},
     "output_type": "display_data"
    }
   ],
   "source": [
    "data = pd.read_csv('/datasets/Churn.csv')\n",
    "display(data.head())"
   ]
  },
  {
   "cell_type": "code",
   "execution_count": 3,
   "metadata": {},
   "outputs": [
    {
     "data": {
      "text/plain": [
       "(10000, 14)"
      ]
     },
     "execution_count": 3,
     "metadata": {},
     "output_type": "execute_result"
    }
   ],
   "source": [
    "data.shape"
   ]
  },
  {
   "cell_type": "code",
   "execution_count": 4,
   "metadata": {},
   "outputs": [
    {
     "name": "stdout",
     "output_type": "stream",
     "text": [
      "<class 'pandas.core.frame.DataFrame'>\n",
      "RangeIndex: 10000 entries, 0 to 9999\n",
      "Data columns (total 14 columns):\n",
      "RowNumber          10000 non-null int64\n",
      "CustomerId         10000 non-null int64\n",
      "Surname            10000 non-null object\n",
      "CreditScore        10000 non-null int64\n",
      "Geography          10000 non-null object\n",
      "Gender             10000 non-null object\n",
      "Age                10000 non-null int64\n",
      "Tenure             9091 non-null float64\n",
      "Balance            10000 non-null float64\n",
      "NumOfProducts      10000 non-null int64\n",
      "HasCrCard          10000 non-null int64\n",
      "IsActiveMember     10000 non-null int64\n",
      "EstimatedSalary    10000 non-null float64\n",
      "Exited             10000 non-null int64\n",
      "dtypes: float64(3), int64(8), object(3)\n",
      "memory usage: 1.1+ MB\n"
     ]
    }
   ],
   "source": [
    "data.info()"
   ]
  },
  {
   "cell_type": "code",
   "execution_count": 5,
   "metadata": {},
   "outputs": [
    {
     "data": {
      "text/html": [
       "<div>\n",
       "<style scoped>\n",
       "    .dataframe tbody tr th:only-of-type {\n",
       "        vertical-align: middle;\n",
       "    }\n",
       "\n",
       "    .dataframe tbody tr th {\n",
       "        vertical-align: top;\n",
       "    }\n",
       "\n",
       "    .dataframe thead th {\n",
       "        text-align: right;\n",
       "    }\n",
       "</style>\n",
       "<table border=\"1\" class=\"dataframe\">\n",
       "  <thead>\n",
       "    <tr style=\"text-align: right;\">\n",
       "      <th></th>\n",
       "      <th>CreditScore</th>\n",
       "      <th>Age</th>\n",
       "      <th>Tenure</th>\n",
       "      <th>Balance</th>\n",
       "      <th>NumOfProducts</th>\n",
       "      <th>HasCrCard</th>\n",
       "      <th>IsActiveMember</th>\n",
       "      <th>EstimatedSalary</th>\n",
       "    </tr>\n",
       "  </thead>\n",
       "  <tbody>\n",
       "    <tr>\n",
       "      <td>count</td>\n",
       "      <td>10000.00</td>\n",
       "      <td>10000.00</td>\n",
       "      <td>9091.00</td>\n",
       "      <td>10000.00</td>\n",
       "      <td>10000.00</td>\n",
       "      <td>10000.00</td>\n",
       "      <td>10000.00</td>\n",
       "      <td>10000.00</td>\n",
       "    </tr>\n",
       "    <tr>\n",
       "      <td>mean</td>\n",
       "      <td>650.53</td>\n",
       "      <td>38.92</td>\n",
       "      <td>5.00</td>\n",
       "      <td>76485.89</td>\n",
       "      <td>1.53</td>\n",
       "      <td>0.71</td>\n",
       "      <td>0.52</td>\n",
       "      <td>100090.24</td>\n",
       "    </tr>\n",
       "    <tr>\n",
       "      <td>std</td>\n",
       "      <td>96.65</td>\n",
       "      <td>10.49</td>\n",
       "      <td>2.89</td>\n",
       "      <td>62397.41</td>\n",
       "      <td>0.58</td>\n",
       "      <td>0.46</td>\n",
       "      <td>0.50</td>\n",
       "      <td>57510.49</td>\n",
       "    </tr>\n",
       "    <tr>\n",
       "      <td>min</td>\n",
       "      <td>350.00</td>\n",
       "      <td>18.00</td>\n",
       "      <td>0.00</td>\n",
       "      <td>0.00</td>\n",
       "      <td>1.00</td>\n",
       "      <td>0.00</td>\n",
       "      <td>0.00</td>\n",
       "      <td>11.58</td>\n",
       "    </tr>\n",
       "    <tr>\n",
       "      <td>25%</td>\n",
       "      <td>584.00</td>\n",
       "      <td>32.00</td>\n",
       "      <td>2.00</td>\n",
       "      <td>0.00</td>\n",
       "      <td>1.00</td>\n",
       "      <td>0.00</td>\n",
       "      <td>0.00</td>\n",
       "      <td>51002.11</td>\n",
       "    </tr>\n",
       "    <tr>\n",
       "      <td>50%</td>\n",
       "      <td>652.00</td>\n",
       "      <td>37.00</td>\n",
       "      <td>5.00</td>\n",
       "      <td>97198.54</td>\n",
       "      <td>1.00</td>\n",
       "      <td>1.00</td>\n",
       "      <td>1.00</td>\n",
       "      <td>100193.92</td>\n",
       "    </tr>\n",
       "    <tr>\n",
       "      <td>75%</td>\n",
       "      <td>718.00</td>\n",
       "      <td>44.00</td>\n",
       "      <td>7.00</td>\n",
       "      <td>127644.24</td>\n",
       "      <td>2.00</td>\n",
       "      <td>1.00</td>\n",
       "      <td>1.00</td>\n",
       "      <td>149388.25</td>\n",
       "    </tr>\n",
       "    <tr>\n",
       "      <td>max</td>\n",
       "      <td>850.00</td>\n",
       "      <td>92.00</td>\n",
       "      <td>10.00</td>\n",
       "      <td>250898.09</td>\n",
       "      <td>4.00</td>\n",
       "      <td>1.00</td>\n",
       "      <td>1.00</td>\n",
       "      <td>199992.48</td>\n",
       "    </tr>\n",
       "  </tbody>\n",
       "</table>\n",
       "</div>"
      ],
      "text/plain": [
       "       CreditScore       Age   Tenure    Balance  NumOfProducts  HasCrCard  \\\n",
       "count     10000.00  10000.00  9091.00   10000.00       10000.00   10000.00   \n",
       "mean        650.53     38.92     5.00   76485.89           1.53       0.71   \n",
       "std          96.65     10.49     2.89   62397.41           0.58       0.46   \n",
       "min         350.00     18.00     0.00       0.00           1.00       0.00   \n",
       "25%         584.00     32.00     2.00       0.00           1.00       0.00   \n",
       "50%         652.00     37.00     5.00   97198.54           1.00       1.00   \n",
       "75%         718.00     44.00     7.00  127644.24           2.00       1.00   \n",
       "max         850.00     92.00    10.00  250898.09           4.00       1.00   \n",
       "\n",
       "       IsActiveMember  EstimatedSalary  \n",
       "count        10000.00         10000.00  \n",
       "mean             0.52        100090.24  \n",
       "std              0.50         57510.49  \n",
       "min              0.00            11.58  \n",
       "25%              0.00         51002.11  \n",
       "50%              1.00        100193.92  \n",
       "75%              1.00        149388.25  \n",
       "max              1.00        199992.48  "
      ]
     },
     "execution_count": 5,
     "metadata": {},
     "output_type": "execute_result"
    }
   ],
   "source": [
    "data.drop(['CustomerId','RowNumber', 'Exited'], axis=1).describe().round(2)"
   ]
  },
  {
   "cell_type": "markdown",
   "metadata": {},
   "source": [
    "Изучим nan значения"
   ]
  },
  {
   "cell_type": "code",
   "execution_count": 6,
   "metadata": {},
   "outputs": [
    {
     "data": {
      "text/plain": [
       "RowNumber            0\n",
       "CustomerId           0\n",
       "Surname              0\n",
       "CreditScore          0\n",
       "Geography            0\n",
       "Gender               0\n",
       "Age                  0\n",
       "Tenure             909\n",
       "Balance              0\n",
       "NumOfProducts        0\n",
       "HasCrCard            0\n",
       "IsActiveMember       0\n",
       "EstimatedSalary      0\n",
       "Exited               0\n",
       "dtype: int64"
      ]
     },
     "execution_count": 6,
     "metadata": {},
     "output_type": "execute_result"
    }
   ],
   "source": [
    "data.isna().sum()"
   ]
  },
  {
   "cell_type": "markdown",
   "metadata": {},
   "source": [
    "Чтобы не испортить распределения значений заполним Nan случайными значениями в промежутке от 1 до 10"
   ]
  },
  {
   "cell_type": "code",
   "execution_count": 7,
   "metadata": {},
   "outputs": [],
   "source": [
    "data.loc[data['Tenure'].isna(), 'Tenure'] = data.loc[data['Tenure'].isna(), 'Tenure'].apply(lambda x: randrange(11))"
   ]
  },
  {
   "cell_type": "code",
   "execution_count": 8,
   "metadata": {},
   "outputs": [
    {
     "data": {
      "text/plain": [
       "0"
      ]
     },
     "execution_count": 8,
     "metadata": {},
     "output_type": "execute_result"
    }
   ],
   "source": [
    "data.duplicated().sum()"
   ]
  },
  {
   "cell_type": "markdown",
   "metadata": {},
   "source": [
    "Уберем все неинформативные наблюдения"
   ]
  },
  {
   "cell_type": "code",
   "execution_count": 9,
   "metadata": {},
   "outputs": [
    {
     "data": {
      "text/html": [
       "<div>\n",
       "<style scoped>\n",
       "    .dataframe tbody tr th:only-of-type {\n",
       "        vertical-align: middle;\n",
       "    }\n",
       "\n",
       "    .dataframe tbody tr th {\n",
       "        vertical-align: top;\n",
       "    }\n",
       "\n",
       "    .dataframe thead th {\n",
       "        text-align: right;\n",
       "    }\n",
       "</style>\n",
       "<table border=\"1\" class=\"dataframe\">\n",
       "  <thead>\n",
       "    <tr style=\"text-align: right;\">\n",
       "      <th></th>\n",
       "      <th>CreditScore</th>\n",
       "      <th>Geography</th>\n",
       "      <th>Gender</th>\n",
       "      <th>Age</th>\n",
       "      <th>Tenure</th>\n",
       "      <th>Balance</th>\n",
       "      <th>NumOfProducts</th>\n",
       "      <th>HasCrCard</th>\n",
       "      <th>IsActiveMember</th>\n",
       "      <th>EstimatedSalary</th>\n",
       "      <th>Exited</th>\n",
       "    </tr>\n",
       "  </thead>\n",
       "  <tbody>\n",
       "    <tr>\n",
       "      <td>0</td>\n",
       "      <td>619</td>\n",
       "      <td>France</td>\n",
       "      <td>Female</td>\n",
       "      <td>42</td>\n",
       "      <td>2.0</td>\n",
       "      <td>0.00</td>\n",
       "      <td>1</td>\n",
       "      <td>1</td>\n",
       "      <td>1</td>\n",
       "      <td>101348.88</td>\n",
       "      <td>1</td>\n",
       "    </tr>\n",
       "    <tr>\n",
       "      <td>1</td>\n",
       "      <td>608</td>\n",
       "      <td>Spain</td>\n",
       "      <td>Female</td>\n",
       "      <td>41</td>\n",
       "      <td>1.0</td>\n",
       "      <td>83807.86</td>\n",
       "      <td>1</td>\n",
       "      <td>0</td>\n",
       "      <td>1</td>\n",
       "      <td>112542.58</td>\n",
       "      <td>0</td>\n",
       "    </tr>\n",
       "    <tr>\n",
       "      <td>2</td>\n",
       "      <td>502</td>\n",
       "      <td>France</td>\n",
       "      <td>Female</td>\n",
       "      <td>42</td>\n",
       "      <td>8.0</td>\n",
       "      <td>159660.80</td>\n",
       "      <td>3</td>\n",
       "      <td>1</td>\n",
       "      <td>0</td>\n",
       "      <td>113931.57</td>\n",
       "      <td>1</td>\n",
       "    </tr>\n",
       "    <tr>\n",
       "      <td>3</td>\n",
       "      <td>699</td>\n",
       "      <td>France</td>\n",
       "      <td>Female</td>\n",
       "      <td>39</td>\n",
       "      <td>1.0</td>\n",
       "      <td>0.00</td>\n",
       "      <td>2</td>\n",
       "      <td>0</td>\n",
       "      <td>0</td>\n",
       "      <td>93826.63</td>\n",
       "      <td>0</td>\n",
       "    </tr>\n",
       "    <tr>\n",
       "      <td>4</td>\n",
       "      <td>850</td>\n",
       "      <td>Spain</td>\n",
       "      <td>Female</td>\n",
       "      <td>43</td>\n",
       "      <td>2.0</td>\n",
       "      <td>125510.82</td>\n",
       "      <td>1</td>\n",
       "      <td>1</td>\n",
       "      <td>1</td>\n",
       "      <td>79084.10</td>\n",
       "      <td>0</td>\n",
       "    </tr>\n",
       "  </tbody>\n",
       "</table>\n",
       "</div>"
      ],
      "text/plain": [
       "   CreditScore Geography  Gender  Age  Tenure    Balance  NumOfProducts  \\\n",
       "0          619    France  Female   42     2.0       0.00              1   \n",
       "1          608     Spain  Female   41     1.0   83807.86              1   \n",
       "2          502    France  Female   42     8.0  159660.80              3   \n",
       "3          699    France  Female   39     1.0       0.00              2   \n",
       "4          850     Spain  Female   43     2.0  125510.82              1   \n",
       "\n",
       "   HasCrCard  IsActiveMember  EstimatedSalary  Exited  \n",
       "0          1               1        101348.88       1  \n",
       "1          0               1        112542.58       0  \n",
       "2          1               0        113931.57       1  \n",
       "3          0               0         93826.63       0  \n",
       "4          1               1         79084.10       0  "
      ]
     },
     "metadata": {},
     "output_type": "display_data"
    }
   ],
   "source": [
    "data = data.drop(['RowNumber', 'CustomerId','Surname'], axis= 1)\n",
    "display(data.head())"
   ]
  },
  {
   "cell_type": "markdown",
   "metadata": {},
   "source": [
    "Закодируем методом One-hot категориальные признаки"
   ]
  },
  {
   "cell_type": "code",
   "execution_count": 10,
   "metadata": {},
   "outputs": [
    {
     "data": {
      "text/html": [
       "<div>\n",
       "<style scoped>\n",
       "    .dataframe tbody tr th:only-of-type {\n",
       "        vertical-align: middle;\n",
       "    }\n",
       "\n",
       "    .dataframe tbody tr th {\n",
       "        vertical-align: top;\n",
       "    }\n",
       "\n",
       "    .dataframe thead th {\n",
       "        text-align: right;\n",
       "    }\n",
       "</style>\n",
       "<table border=\"1\" class=\"dataframe\">\n",
       "  <thead>\n",
       "    <tr style=\"text-align: right;\">\n",
       "      <th></th>\n",
       "      <th>CreditScore</th>\n",
       "      <th>Age</th>\n",
       "      <th>Tenure</th>\n",
       "      <th>Balance</th>\n",
       "      <th>NumOfProducts</th>\n",
       "      <th>HasCrCard</th>\n",
       "      <th>IsActiveMember</th>\n",
       "      <th>EstimatedSalary</th>\n",
       "      <th>Exited</th>\n",
       "      <th>Geography_France</th>\n",
       "      <th>Geography_Germany</th>\n",
       "      <th>Geography_Spain</th>\n",
       "      <th>Gender_Female</th>\n",
       "      <th>Gender_Male</th>\n",
       "    </tr>\n",
       "  </thead>\n",
       "  <tbody>\n",
       "    <tr>\n",
       "      <td>0</td>\n",
       "      <td>619</td>\n",
       "      <td>42</td>\n",
       "      <td>2.0</td>\n",
       "      <td>0.00</td>\n",
       "      <td>1</td>\n",
       "      <td>1</td>\n",
       "      <td>1</td>\n",
       "      <td>101348.88</td>\n",
       "      <td>1</td>\n",
       "      <td>1</td>\n",
       "      <td>0</td>\n",
       "      <td>0</td>\n",
       "      <td>1</td>\n",
       "      <td>0</td>\n",
       "    </tr>\n",
       "    <tr>\n",
       "      <td>1</td>\n",
       "      <td>608</td>\n",
       "      <td>41</td>\n",
       "      <td>1.0</td>\n",
       "      <td>83807.86</td>\n",
       "      <td>1</td>\n",
       "      <td>0</td>\n",
       "      <td>1</td>\n",
       "      <td>112542.58</td>\n",
       "      <td>0</td>\n",
       "      <td>0</td>\n",
       "      <td>0</td>\n",
       "      <td>1</td>\n",
       "      <td>1</td>\n",
       "      <td>0</td>\n",
       "    </tr>\n",
       "    <tr>\n",
       "      <td>2</td>\n",
       "      <td>502</td>\n",
       "      <td>42</td>\n",
       "      <td>8.0</td>\n",
       "      <td>159660.80</td>\n",
       "      <td>3</td>\n",
       "      <td>1</td>\n",
       "      <td>0</td>\n",
       "      <td>113931.57</td>\n",
       "      <td>1</td>\n",
       "      <td>1</td>\n",
       "      <td>0</td>\n",
       "      <td>0</td>\n",
       "      <td>1</td>\n",
       "      <td>0</td>\n",
       "    </tr>\n",
       "    <tr>\n",
       "      <td>3</td>\n",
       "      <td>699</td>\n",
       "      <td>39</td>\n",
       "      <td>1.0</td>\n",
       "      <td>0.00</td>\n",
       "      <td>2</td>\n",
       "      <td>0</td>\n",
       "      <td>0</td>\n",
       "      <td>93826.63</td>\n",
       "      <td>0</td>\n",
       "      <td>1</td>\n",
       "      <td>0</td>\n",
       "      <td>0</td>\n",
       "      <td>1</td>\n",
       "      <td>0</td>\n",
       "    </tr>\n",
       "    <tr>\n",
       "      <td>4</td>\n",
       "      <td>850</td>\n",
       "      <td>43</td>\n",
       "      <td>2.0</td>\n",
       "      <td>125510.82</td>\n",
       "      <td>1</td>\n",
       "      <td>1</td>\n",
       "      <td>1</td>\n",
       "      <td>79084.10</td>\n",
       "      <td>0</td>\n",
       "      <td>0</td>\n",
       "      <td>0</td>\n",
       "      <td>1</td>\n",
       "      <td>1</td>\n",
       "      <td>0</td>\n",
       "    </tr>\n",
       "  </tbody>\n",
       "</table>\n",
       "</div>"
      ],
      "text/plain": [
       "   CreditScore  Age  Tenure    Balance  NumOfProducts  HasCrCard  \\\n",
       "0          619   42     2.0       0.00              1          1   \n",
       "1          608   41     1.0   83807.86              1          0   \n",
       "2          502   42     8.0  159660.80              3          1   \n",
       "3          699   39     1.0       0.00              2          0   \n",
       "4          850   43     2.0  125510.82              1          1   \n",
       "\n",
       "   IsActiveMember  EstimatedSalary  Exited  Geography_France  \\\n",
       "0               1        101348.88       1                 1   \n",
       "1               1        112542.58       0                 0   \n",
       "2               0        113931.57       1                 1   \n",
       "3               0         93826.63       0                 1   \n",
       "4               1         79084.10       0                 0   \n",
       "\n",
       "   Geography_Germany  Geography_Spain  Gender_Female  Gender_Male  \n",
       "0                  0                0              1            0  \n",
       "1                  0                1              1            0  \n",
       "2                  0                0              1            0  \n",
       "3                  0                0              1            0  \n",
       "4                  0                1              1            0  "
      ]
     },
     "metadata": {},
     "output_type": "display_data"
    }
   ],
   "source": [
    "data_ohe = pd.get_dummies(data)\n",
    "display(data_ohe.head())"
   ]
  },
  {
   "cell_type": "markdown",
   "metadata": {},
   "source": [
    "Теперь разобьем датасет на тренировочную, валидационную и тестовую выборки"
   ]
  },
  {
   "cell_type": "code",
   "execution_count": 11,
   "metadata": {},
   "outputs": [],
   "source": [
    "target = data_ohe['Exited']\n",
    "features = data_ohe.drop('Exited', axis=1)\n",
    "features_train, X, target_train, y = train_test_split(features, target, test_size=0.4, stratify=target, random_state=12345)\n",
    "features_valid, features_test, target_valid, target_test = train_test_split(X, y, test_size=0.5, stratify=y, random_state=12345)\n",
    "\n"
   ]
  },
  {
   "cell_type": "markdown",
   "metadata": {},
   "source": [
    "Следом надо стандартизировать численные характеристики"
   ]
  },
  {
   "cell_type": "code",
   "execution_count": 12,
   "metadata": {},
   "outputs": [
    {
     "name": "stderr",
     "output_type": "stream",
     "text": [
      "/opt/conda/lib/python3.7/site-packages/ipykernel_launcher.py:5: SettingWithCopyWarning: \n",
      "A value is trying to be set on a copy of a slice from a DataFrame.\n",
      "Try using .loc[row_indexer,col_indexer] = value instead\n",
      "\n",
      "See the caveats in the documentation: http://pandas.pydata.org/pandas-docs/stable/user_guide/indexing.html#returning-a-view-versus-a-copy\n",
      "  \"\"\"\n",
      "/opt/conda/lib/python3.7/site-packages/pandas/core/indexing.py:494: SettingWithCopyWarning: \n",
      "A value is trying to be set on a copy of a slice from a DataFrame.\n",
      "Try using .loc[row_indexer,col_indexer] = value instead\n",
      "\n",
      "See the caveats in the documentation: http://pandas.pydata.org/pandas-docs/stable/user_guide/indexing.html#returning-a-view-versus-a-copy\n",
      "  self.obj[item] = s\n",
      "/opt/conda/lib/python3.7/site-packages/ipykernel_launcher.py:6: SettingWithCopyWarning: \n",
      "A value is trying to be set on a copy of a slice from a DataFrame.\n",
      "Try using .loc[row_indexer,col_indexer] = value instead\n",
      "\n",
      "See the caveats in the documentation: http://pandas.pydata.org/pandas-docs/stable/user_guide/indexing.html#returning-a-view-versus-a-copy\n",
      "  \n",
      "/opt/conda/lib/python3.7/site-packages/pandas/core/indexing.py:494: SettingWithCopyWarning: \n",
      "A value is trying to be set on a copy of a slice from a DataFrame.\n",
      "Try using .loc[row_indexer,col_indexer] = value instead\n",
      "\n",
      "See the caveats in the documentation: http://pandas.pydata.org/pandas-docs/stable/user_guide/indexing.html#returning-a-view-versus-a-copy\n",
      "  self.obj[item] = s\n",
      "/opt/conda/lib/python3.7/site-packages/ipykernel_launcher.py:7: SettingWithCopyWarning: \n",
      "A value is trying to be set on a copy of a slice from a DataFrame.\n",
      "Try using .loc[row_indexer,col_indexer] = value instead\n",
      "\n",
      "See the caveats in the documentation: http://pandas.pydata.org/pandas-docs/stable/user_guide/indexing.html#returning-a-view-versus-a-copy\n",
      "  import sys\n",
      "/opt/conda/lib/python3.7/site-packages/pandas/core/indexing.py:494: SettingWithCopyWarning: \n",
      "A value is trying to be set on a copy of a slice from a DataFrame.\n",
      "Try using .loc[row_indexer,col_indexer] = value instead\n",
      "\n",
      "See the caveats in the documentation: http://pandas.pydata.org/pandas-docs/stable/user_guide/indexing.html#returning-a-view-versus-a-copy\n",
      "  self.obj[item] = s\n"
     ]
    }
   ],
   "source": [
    "numeric = ['Age', 'Balance', 'EstimatedSalary']\n",
    "\n",
    "scaler = StandardScaler()\n",
    "scaler.fit(features_train[numeric])\n",
    "features_train[numeric] = scaler.transform(features_train[numeric])\n",
    "features_valid[numeric] = scaler.transform(features_valid[numeric])\n",
    "features_test[numeric] = scaler.transform(features_test[numeric])\n",
    "pd.options.mode.chained_assignment = None"
   ]
  },
  {
   "cell_type": "markdown",
   "metadata": {},
   "source": [
    "## Исследование задачи"
   ]
  },
  {
   "cell_type": "markdown",
   "metadata": {},
   "source": [
    "Теперь попробуем обучить модели без учета дисбаланса"
   ]
  },
  {
   "cell_type": "code",
   "execution_count": 13,
   "metadata": {},
   "outputs": [
    {
     "name": "stdout",
     "output_type": "stream",
     "text": [
      "F1 score - 0.5388127853881278\n",
      "roc auc score - 0.8202817087890433\n"
     ]
    },
    {
     "name": "stderr",
     "output_type": "stream",
     "text": [
      "/opt/conda/lib/python3.7/site-packages/sklearn/ensemble/forest.py:245: FutureWarning: The default value of n_estimators will change from 10 in version 0.20 to 100 in 0.22.\n",
      "  \"10 in version 0.20 to 100 in 0.22.\", FutureWarning)\n"
     ]
    }
   ],
   "source": [
    "RandomForest_model = RandomForestClassifier(random_state=12345) \n",
    "RandomForest_model.fit(features_train, target_train) \n",
    "predicted_valid = RandomForest_model.predict(features_valid)\n",
    "probabilities_valid = RandomForest_model.predict_proba(features_valid)\n",
    "probabilities_one_valid = probabilities_valid[:, 1]\n",
    "\n",
    "f1 = f1_score(target_valid, predicted_valid)\n",
    "auc_roc = roc_auc_score(target_valid, probabilities_one_valid)\n",
    "print('F1 score -', f1)\n",
    "print('roc auc score -', auc_roc)"
   ]
  },
  {
   "cell_type": "code",
   "execution_count": 14,
   "metadata": {},
   "outputs": [
    {
     "name": "stdout",
     "output_type": "stream",
     "text": [
      "F1 score - 0.3088235294117647\n",
      "roc auc score - 0.7874790619765495\n"
     ]
    }
   ],
   "source": [
    "model = LogisticRegression(random_state=12345, solver='liblinear')\n",
    "model.fit(features_train, target_train)\n",
    "predicted_valid = model.predict(features_valid)\n",
    "probabilities_valid = model.predict_proba(features_valid)\n",
    "probabilities_one_valid = probabilities_valid[:, 1]\n",
    "\n",
    "f1 = f1_score(target_valid, predicted_valid)\n",
    "auc_roc = roc_auc_score(target_valid, probabilities_one_valid)\n",
    "print('F1 score -', f1)\n",
    "print('roc auc score -', auc_roc)"
   ]
  },
  {
   "cell_type": "markdown",
   "metadata": {},
   "source": [
    "По итогу обучения без учета дисбаланса можно сделать следующий вывод: у обеих моделей RandomForestClassifier и LogisticRegression очень низкий показатель метрики F1. Возможно уменьшение дисбаланса поможет повысить данную оценку"
   ]
  },
  {
   "cell_type": "markdown",
   "metadata": {},
   "source": [
    "## Борьба с дисбалансом"
   ]
  },
  {
   "cell_type": "code",
   "execution_count": 16,
   "metadata": {},
   "outputs": [
    {
     "data": {
      "text/plain": [
       "0    0.7963\n",
       "1    0.2037\n",
       "Name: Exited, dtype: float64"
      ]
     },
     "execution_count": 16,
     "metadata": {},
     "output_type": "execute_result"
    }
   ],
   "source": [
    "data['Exited'].value_counts() / len(data['Exited'])"
   ]
  },
  {
   "cell_type": "markdown",
   "metadata": {},
   "source": [
    "Можно заметить, что объектов класса 0 в 4 раза больше, чем объектов класса 1"
   ]
  },
  {
   "cell_type": "markdown",
   "metadata": {},
   "source": [
    "Начнем разбираться с дисбалансом классов с помощью методики upsample. Попробую увеличить количество классов 1 в 4 раза"
   ]
  },
  {
   "cell_type": "code",
   "execution_count": 24,
   "metadata": {},
   "outputs": [],
   "source": [
    "def upsample(features, target, repeat):\n",
    "    features_zeros = features[target == 0]\n",
    "    features_ones = features[target == 1]\n",
    "    target_zeros = target[target == 0]\n",
    "    target_ones = target[target == 1]\n",
    "\n",
    "    features_upsampled = pd.concat([features_zeros] + [features_ones] * repeat)\n",
    "    target_upsampled = pd.concat([target_zeros] + [target_ones] * repeat)\n",
    "    \n",
    "    features_upsampled, target_upsampled = shuffle(\n",
    "        features_upsampled, target_upsampled, random_state=12345)\n",
    "    \n",
    "    return features_upsampled, target_upsampled\n",
    "\n",
    "features_upsampled, target_upsampled = upsample(features_train, target_train, 4)"
   ]
  },
  {
   "cell_type": "code",
   "execution_count": 25,
   "metadata": {},
   "outputs": [
    {
     "data": {
      "text/plain": [
       "1    0.50569\n",
       "0    0.49431\n",
       "Name: Exited, dtype: float64"
      ]
     },
     "execution_count": 25,
     "metadata": {},
     "output_type": "execute_result"
    }
   ],
   "source": [
    "target_upsampled.value_counts() / len(target_upsampled)"
   ]
  },
  {
   "cell_type": "code",
   "execution_count": 46,
   "metadata": {},
   "outputs": [
    {
     "name": "stdout",
     "output_type": "stream",
     "text": [
      "f1 наилучшей модели на валидационной выборке: 0.6049999999999999\n",
      "Характеристика лучшей модели: \n",
      " RandomForestClassifier(bootstrap=True, class_weight=None, criterion='gini',\n",
      "                       max_depth=4, max_features='auto', max_leaf_nodes=None,\n",
      "                       min_impurity_decrease=0.0, min_impurity_split=None,\n",
      "                       min_samples_leaf=1, min_samples_split=2,\n",
      "                       min_weight_fraction_leaf=0.0, n_estimators=20,\n",
      "                       n_jobs=None, oob_score=False, random_state=12345,\n",
      "                       verbose=0, warm_start=False)\n"
     ]
    }
   ],
   "source": [
    "for est in range(20, 50, 70):\n",
    "    for depth in range(4, 6, 8):\n",
    "        RandomForest_model = RandomForestClassifier(random_state=12345, n_estimators= est, max_depth= depth) \n",
    "        RandomForest_model.fit(features_upsampled, target_upsampled) \n",
    "        predicted_valid = RandomForest_model.predict(features_valid)\n",
    "        probabilities_valid = RandomForest_model.predict_proba(features_valid)\n",
    "        probabilities_one_valid = probabilities_valid[:, 1]\n",
    "\n",
    "        f1 = f1_score(target_valid, predicted_valid)\n",
    "        auc_roc = roc_auc_score(target_valid, probabilities_one_valid)\n",
    "        if f1 > best_result:\n",
    "            best_model = RandomForest_model \n",
    "            best_result = f1\n",
    "\n",
    "print(\"f1 наилучшей модели на валидационной выборке:\", best_result)\n",
    "print('Характеристика лучшей модели:', '\\n', best_model)"
   ]
  },
  {
   "cell_type": "code",
   "execution_count": 44,
   "metadata": {},
   "outputs": [
    {
     "name": "stdout",
     "output_type": "stream",
     "text": [
      "F1 score - 0.5260416666666667\n",
      "roc auc score - 0.7935557074588628\n"
     ]
    }
   ],
   "source": [
    "model = LogisticRegression(random_state=12345, solver='liblinear')\n",
    "model.fit(features_upsampled, target_upsampled)\n",
    "predicted_valid = model.predict(features_valid)\n",
    "probabilities_valid = model.predict_proba(features_valid)\n",
    "probabilities_one_valid = probabilities_valid[:, 1]\n",
    "\n",
    "f1 = f1_score(target_valid, predicted_valid)\n",
    "auc_roc = roc_auc_score(target_valid, probabilities_one_valid)\n",
    "print('F1 score -', f1)\n",
    "print('roc auc score -', auc_roc)"
   ]
  },
  {
   "cell_type": "markdown",
   "metadata": {},
   "source": [
    "Теперь, когда классы примерно одинакового объема, метрика f1 прилично повысилась у двух моделей. Особенно резко у модели логистической регрессии. "
   ]
  },
  {
   "cell_type": "markdown",
   "metadata": {},
   "source": [
    "Перейдем к следующему методу сбалансирования классов - downsampling. Сократим объем класса 0 на 40%"
   ]
  },
  {
   "cell_type": "code",
   "execution_count": 32,
   "metadata": {},
   "outputs": [],
   "source": [
    "def downsample(features, target, fraction):\n",
    "    features_zeros = features[target == 0]\n",
    "    features_ones = features[target == 1]\n",
    "    target_zeros = target[target == 0]\n",
    "    target_ones = target[target == 1]\n",
    "\n",
    "    features_downsampled = pd.concat(\n",
    "        [features_zeros.sample(frac=fraction, random_state=12345)] + [features_ones])\n",
    "    target_downsampled = pd.concat(\n",
    "        [target_zeros.sample(frac=fraction, random_state=12345)] + [target_ones])\n",
    "    \n",
    "    features_downsampled, target_downsampled = shuffle(\n",
    "        features_downsampled, target_downsampled, random_state=12345)\n",
    "    \n",
    "    return features_downsampled, target_downsampled\n",
    "\n",
    "features_downsampled, target_downsampled = downsample(features_train, target_train, 0.4)"
   ]
  },
  {
   "cell_type": "code",
   "execution_count": 33,
   "metadata": {},
   "outputs": [
    {
     "data": {
      "text/plain": [
       "0    0.609959\n",
       "1    0.390041\n",
       "Name: Exited, dtype: float64"
      ]
     },
     "execution_count": 33,
     "metadata": {},
     "output_type": "execute_result"
    }
   ],
   "source": [
    "target_downsampled.value_counts() / len(target_downsampled)"
   ]
  },
  {
   "cell_type": "code",
   "execution_count": 45,
   "metadata": {},
   "outputs": [
    {
     "name": "stdout",
     "output_type": "stream",
     "text": [
      "f1 наилучшей модели на валидационной выборке: 0.6049999999999999\n",
      "Характеристика лучшей модели: \n",
      " RandomForestClassifier(bootstrap=True, class_weight=None, criterion='gini',\n",
      "                       max_depth=4, max_features='auto', max_leaf_nodes=None,\n",
      "                       min_impurity_decrease=0.0, min_impurity_split=None,\n",
      "                       min_samples_leaf=1, min_samples_split=2,\n",
      "                       min_weight_fraction_leaf=0.0, n_estimators=20,\n",
      "                       n_jobs=None, oob_score=False, random_state=12345,\n",
      "                       verbose=0, warm_start=False)\n"
     ]
    }
   ],
   "source": [
    "best_model = None\n",
    "best_result = 0\n",
    "for est in range(20, 50, 70):\n",
    "    for depth in range(4, 6, 8):\n",
    "        RandomForest_model = RandomForestClassifier(random_state=12345, n_estimators= est, max_depth= depth) \n",
    "        RandomForest_model.fit(features_downsampled, target_downsampled) \n",
    "        predicted_valid = RandomForest_model.predict(features_valid)\n",
    "        probabilities_valid = RandomForest_model.predict_proba(features_valid)\n",
    "        probabilities_one_valid = probabilities_valid[:, 1]\n",
    "        f1 = f1_score(target_valid, predicted_valid)\n",
    "        auc_roc = roc_auc_score(target_valid, probabilities_one_valid)\n",
    "        if f1 > best_result:\n",
    "            best_model = RandomForest_model \n",
    "            best_result = f1\n",
    "\n",
    "print(\"f1 наилучшей модели на валидационной выборке:\", best_result)\n",
    "print('Характеристика лучшей модели:', '\\n', best_model)"
   ]
  },
  {
   "cell_type": "code",
   "execution_count": 41,
   "metadata": {},
   "outputs": [
    {
     "name": "stdout",
     "output_type": "stream",
     "text": [
      "F1 score - 0.5308964316797214\n",
      "roc auc score - 0.7937265986796729\n"
     ]
    }
   ],
   "source": [
    "model = LogisticRegression(random_state=12345, solver='liblinear', class_weight= 'balanced')\n",
    "model.fit(features_downsampled, target_downsampled)\n",
    "predicted_valid = model.predict(features_valid)\n",
    "probabilities_valid = model.predict_proba(features_valid)\n",
    "probabilities_one_valid = probabilities_valid[:, 1]\n",
    "\n",
    "f1 = f1_score(target_valid, predicted_valid)\n",
    "auc_roc = roc_auc_score(target_valid, probabilities_one_valid)\n",
    "print('F1 score -', f1)\n",
    "print('roc auc score -', auc_roc)"
   ]
  },
  {
   "cell_type": "markdown",
   "metadata": {},
   "source": [
    "Вывод: Применив методы upsampling и downsampling к данным, и, подобрав коэффициенты к этим методом, смогли достичь значения F1-меры до 0.60 на валидационных данных. При этом повысили значение метрики AUC-ROC до 0.79."
   ]
  },
  {
   "cell_type": "markdown",
   "metadata": {},
   "source": [
    "## Тестирование модели"
   ]
  },
  {
   "cell_type": "code",
   "execution_count": 49,
   "metadata": {},
   "outputs": [
    {
     "name": "stdout",
     "output_type": "stream",
     "text": [
      "0.5910064239828694\n",
      "0.8375262782042443\n"
     ]
    }
   ],
   "source": [
    "RandomForest_model = RandomForestClassifier(random_state=12345, n_estimators= 50, max_depth= 8) \n",
    "RandomForest_model.fit(features_upsampled, target_upsampled) \n",
    "predicted_test = RandomForest_model.predict(features_test)\n",
    "probabilities_test = best_model.predict_proba(features_test)\n",
    "probabilities_one_test = probabilities_test[:, 1]\n",
    "f1 = f1_score(target_test, predicted_test)\n",
    "auc_roc = roc_auc_score(target_test, probabilities_one_test)\n",
    "print(f1)\n",
    "print(auc_roc)"
   ]
  }
 ],
 "metadata": {
  "ExecuteTimeLog": [
   {
    "duration": 1119,
    "start_time": "2022-02-11T10:49:56.261Z"
   },
   {
    "duration": 283,
    "start_time": "2022-02-11T10:50:20.633Z"
   },
   {
    "duration": 600,
    "start_time": "2022-02-11T10:50:26.714Z"
   },
   {
    "duration": 56,
    "start_time": "2022-02-11T10:51:09.034Z"
   },
   {
    "duration": 6,
    "start_time": "2022-02-11T10:51:23.559Z"
   },
   {
    "duration": 12,
    "start_time": "2022-02-11T10:51:39.204Z"
   },
   {
    "duration": 338,
    "start_time": "2022-02-11T10:52:59.720Z"
   },
   {
    "duration": 313,
    "start_time": "2022-02-11T10:53:03.177Z"
   },
   {
    "duration": 63,
    "start_time": "2022-02-11T10:53:41.857Z"
   },
   {
    "duration": 84,
    "start_time": "2022-02-11T10:53:56.227Z"
   },
   {
    "duration": 60,
    "start_time": "2022-02-11T10:54:45.930Z"
   },
   {
    "duration": 10,
    "start_time": "2022-02-11T10:55:19.482Z"
   },
   {
    "duration": 298,
    "start_time": "2022-02-11T10:55:50.424Z"
   },
   {
    "duration": 21,
    "start_time": "2022-02-11T10:55:58.133Z"
   },
   {
    "duration": 300,
    "start_time": "2022-02-11T10:56:04.781Z"
   },
   {
    "duration": 298,
    "start_time": "2022-02-11T10:56:24.005Z"
   },
   {
    "duration": 101,
    "start_time": "2022-02-11T10:56:52.686Z"
   },
   {
    "duration": 299,
    "start_time": "2022-02-11T10:56:56.798Z"
   },
   {
    "duration": 336,
    "start_time": "2022-02-11T10:57:01.537Z"
   },
   {
    "duration": 19,
    "start_time": "2022-02-11T10:57:27.868Z"
   },
   {
    "duration": 17,
    "start_time": "2022-02-11T10:58:07.846Z"
   },
   {
    "duration": 17,
    "start_time": "2022-02-11T10:58:12.016Z"
   },
   {
    "duration": 1290,
    "start_time": "2022-02-11T11:09:38.117Z"
   },
   {
    "duration": 59,
    "start_time": "2022-02-11T11:09:39.410Z"
   },
   {
    "duration": 5,
    "start_time": "2022-02-11T11:09:39.472Z"
   },
   {
    "duration": 20,
    "start_time": "2022-02-11T11:09:39.480Z"
   },
   {
    "duration": 70,
    "start_time": "2022-02-11T11:09:39.503Z"
   },
   {
    "duration": 9,
    "start_time": "2022-02-11T11:09:39.575Z"
   },
   {
    "duration": 37,
    "start_time": "2022-02-11T11:09:39.586Z"
   },
   {
    "duration": 1316,
    "start_time": "2022-02-11T15:59:25.091Z"
   },
   {
    "duration": 59,
    "start_time": "2022-02-11T15:59:26.410Z"
   },
   {
    "duration": 5,
    "start_time": "2022-02-11T15:59:26.473Z"
   },
   {
    "duration": 14,
    "start_time": "2022-02-11T15:59:26.480Z"
   },
   {
    "duration": 86,
    "start_time": "2022-02-11T15:59:26.496Z"
   },
   {
    "duration": 11,
    "start_time": "2022-02-11T15:59:26.584Z"
   },
   {
    "duration": 21,
    "start_time": "2022-02-11T15:59:26.597Z"
   },
   {
    "duration": 597,
    "start_time": "2022-02-11T15:59:26.621Z"
   },
   {
    "duration": 6,
    "start_time": "2022-02-11T16:03:07.813Z"
   },
   {
    "duration": 1428,
    "start_time": "2022-02-11T16:03:22.137Z"
   },
   {
    "duration": 55,
    "start_time": "2022-02-11T16:03:23.570Z"
   },
   {
    "duration": 5,
    "start_time": "2022-02-11T16:03:23.628Z"
   },
   {
    "duration": 33,
    "start_time": "2022-02-11T16:03:23.636Z"
   },
   {
    "duration": 56,
    "start_time": "2022-02-11T16:03:23.672Z"
   },
   {
    "duration": 8,
    "start_time": "2022-02-11T16:03:23.731Z"
   },
   {
    "duration": 46,
    "start_time": "2022-02-11T16:03:23.742Z"
   },
   {
    "duration": 6,
    "start_time": "2022-02-11T16:03:23.791Z"
   },
   {
    "duration": 11,
    "start_time": "2022-02-11T16:03:35.924Z"
   },
   {
    "duration": 11,
    "start_time": "2022-02-11T16:03:43.813Z"
   },
   {
    "duration": 20,
    "start_time": "2022-02-11T16:05:13.254Z"
   },
   {
    "duration": 322,
    "start_time": "2022-02-11T16:06:29.143Z"
   },
   {
    "duration": 315,
    "start_time": "2022-02-11T16:06:43.059Z"
   },
   {
    "duration": 8,
    "start_time": "2022-02-11T16:07:12.161Z"
   },
   {
    "duration": 12,
    "start_time": "2022-02-11T16:07:25.405Z"
   },
   {
    "duration": 31,
    "start_time": "2022-02-11T16:09:05.369Z"
   },
   {
    "duration": 440,
    "start_time": "2022-02-11T16:09:10.843Z"
   },
   {
    "duration": 1488,
    "start_time": "2022-02-11T16:09:30.433Z"
   },
   {
    "duration": 59,
    "start_time": "2022-02-11T16:09:31.923Z"
   },
   {
    "duration": 5,
    "start_time": "2022-02-11T16:09:31.985Z"
   },
   {
    "duration": 22,
    "start_time": "2022-02-11T16:09:31.992Z"
   },
   {
    "duration": 79,
    "start_time": "2022-02-11T16:09:32.016Z"
   },
   {
    "duration": 9,
    "start_time": "2022-02-11T16:09:32.098Z"
   },
   {
    "duration": 20,
    "start_time": "2022-02-11T16:09:32.110Z"
   },
   {
    "duration": 46,
    "start_time": "2022-02-11T16:09:32.133Z"
   },
   {
    "duration": 12,
    "start_time": "2022-02-11T16:09:32.181Z"
   },
   {
    "duration": 38,
    "start_time": "2022-02-11T16:09:48.663Z"
   },
   {
    "duration": 1225,
    "start_time": "2022-02-13T09:22:13.155Z"
   },
   {
    "duration": 45,
    "start_time": "2022-02-13T09:22:14.382Z"
   },
   {
    "duration": 3,
    "start_time": "2022-02-13T09:22:14.429Z"
   },
   {
    "duration": 7,
    "start_time": "2022-02-13T09:22:14.434Z"
   },
   {
    "duration": 48,
    "start_time": "2022-02-13T09:22:14.443Z"
   },
   {
    "duration": 5,
    "start_time": "2022-02-13T09:22:14.493Z"
   },
   {
    "duration": 17,
    "start_time": "2022-02-13T09:22:14.500Z"
   },
   {
    "duration": 11,
    "start_time": "2022-02-13T09:22:14.519Z"
   },
   {
    "duration": 21,
    "start_time": "2022-02-13T09:22:14.532Z"
   },
   {
    "duration": 8,
    "start_time": "2022-02-13T09:22:14.571Z"
   },
   {
    "duration": 1017,
    "start_time": "2022-02-13T09:34:43.768Z"
   },
   {
    "duration": 41,
    "start_time": "2022-02-13T09:34:44.787Z"
   },
   {
    "duration": 3,
    "start_time": "2022-02-13T09:34:44.830Z"
   },
   {
    "duration": 12,
    "start_time": "2022-02-13T09:34:44.835Z"
   },
   {
    "duration": 41,
    "start_time": "2022-02-13T09:34:44.848Z"
   },
   {
    "duration": 6,
    "start_time": "2022-02-13T09:34:44.891Z"
   },
   {
    "duration": 14,
    "start_time": "2022-02-13T09:34:44.898Z"
   },
   {
    "duration": 10,
    "start_time": "2022-02-13T09:34:44.914Z"
   },
   {
    "duration": 20,
    "start_time": "2022-02-13T09:34:44.926Z"
   },
   {
    "duration": 30,
    "start_time": "2022-02-13T09:34:44.947Z"
   },
   {
    "duration": 15,
    "start_time": "2022-02-13T09:34:44.978Z"
   },
   {
    "duration": 15,
    "start_time": "2022-02-13T09:35:05.033Z"
   },
   {
    "duration": 13,
    "start_time": "2022-02-13T09:35:12.236Z"
   },
   {
    "duration": 13,
    "start_time": "2022-02-13T09:35:52.702Z"
   },
   {
    "duration": 347,
    "start_time": "2022-02-13T10:05:21.454Z"
   },
   {
    "duration": 969,
    "start_time": "2022-02-13T10:06:21.128Z"
   },
   {
    "duration": 39,
    "start_time": "2022-02-13T10:06:22.099Z"
   },
   {
    "duration": 4,
    "start_time": "2022-02-13T10:06:22.141Z"
   },
   {
    "duration": 14,
    "start_time": "2022-02-13T10:06:22.147Z"
   },
   {
    "duration": 40,
    "start_time": "2022-02-13T10:06:22.163Z"
   },
   {
    "duration": 7,
    "start_time": "2022-02-13T10:06:22.205Z"
   },
   {
    "duration": 18,
    "start_time": "2022-02-13T10:06:22.213Z"
   },
   {
    "duration": 13,
    "start_time": "2022-02-13T10:06:22.233Z"
   },
   {
    "duration": 27,
    "start_time": "2022-02-13T10:06:22.247Z"
   },
   {
    "duration": 19,
    "start_time": "2022-02-13T10:06:22.275Z"
   },
   {
    "duration": 22,
    "start_time": "2022-02-13T10:06:22.295Z"
   },
   {
    "duration": 424,
    "start_time": "2022-02-13T10:06:22.318Z"
   },
   {
    "duration": -41,
    "start_time": "2022-02-13T10:06:22.786Z"
   },
   {
    "duration": 1013,
    "start_time": "2022-02-13T10:10:23.061Z"
   },
   {
    "duration": 40,
    "start_time": "2022-02-13T10:10:24.076Z"
   },
   {
    "duration": 3,
    "start_time": "2022-02-13T10:10:24.119Z"
   },
   {
    "duration": 9,
    "start_time": "2022-02-13T10:10:24.124Z"
   },
   {
    "duration": 54,
    "start_time": "2022-02-13T10:10:24.135Z"
   },
   {
    "duration": 7,
    "start_time": "2022-02-13T10:10:24.191Z"
   },
   {
    "duration": 1543,
    "start_time": "2022-02-13T10:10:24.200Z"
   },
   {
    "duration": -5,
    "start_time": "2022-02-13T10:10:25.750Z"
   },
   {
    "duration": -6,
    "start_time": "2022-02-13T10:10:25.752Z"
   },
   {
    "duration": -8,
    "start_time": "2022-02-13T10:10:25.755Z"
   },
   {
    "duration": -9,
    "start_time": "2022-02-13T10:10:25.757Z"
   },
   {
    "duration": -12,
    "start_time": "2022-02-13T10:10:25.761Z"
   },
   {
    "duration": -14,
    "start_time": "2022-02-13T10:10:25.764Z"
   },
   {
    "duration": -15,
    "start_time": "2022-02-13T10:10:25.766Z"
   },
   {
    "duration": 960,
    "start_time": "2022-02-13T10:10:56.813Z"
   },
   {
    "duration": 39,
    "start_time": "2022-02-13T10:10:57.774Z"
   },
   {
    "duration": 3,
    "start_time": "2022-02-13T10:10:57.815Z"
   },
   {
    "duration": 9,
    "start_time": "2022-02-13T10:10:57.820Z"
   },
   {
    "duration": 45,
    "start_time": "2022-02-13T10:10:57.830Z"
   },
   {
    "duration": 6,
    "start_time": "2022-02-13T10:10:57.876Z"
   },
   {
    "duration": 7,
    "start_time": "2022-02-13T10:10:57.883Z"
   },
   {
    "duration": 11,
    "start_time": "2022-02-13T10:10:57.892Z"
   },
   {
    "duration": 10,
    "start_time": "2022-02-13T10:10:57.904Z"
   },
   {
    "duration": 17,
    "start_time": "2022-02-13T10:10:57.916Z"
   },
   {
    "duration": 41,
    "start_time": "2022-02-13T10:10:57.935Z"
   },
   {
    "duration": 15,
    "start_time": "2022-02-13T10:10:57.977Z"
   },
   {
    "duration": 100,
    "start_time": "2022-02-13T10:10:57.994Z"
   },
   {
    "duration": 79,
    "start_time": "2022-02-13T10:10:58.096Z"
   },
   {
    "duration": 1012,
    "start_time": "2022-02-13T10:21:47.678Z"
   },
   {
    "duration": 41,
    "start_time": "2022-02-13T10:21:48.692Z"
   },
   {
    "duration": 4,
    "start_time": "2022-02-13T10:21:48.735Z"
   },
   {
    "duration": 9,
    "start_time": "2022-02-13T10:21:48.740Z"
   },
   {
    "duration": 40,
    "start_time": "2022-02-13T10:21:48.750Z"
   },
   {
    "duration": 6,
    "start_time": "2022-02-13T10:21:48.792Z"
   },
   {
    "duration": 6,
    "start_time": "2022-02-13T10:21:48.799Z"
   },
   {
    "duration": 11,
    "start_time": "2022-02-13T10:21:48.807Z"
   },
   {
    "duration": 12,
    "start_time": "2022-02-13T10:21:48.819Z"
   },
   {
    "duration": 53,
    "start_time": "2022-02-13T10:21:48.833Z"
   },
   {
    "duration": 14,
    "start_time": "2022-02-13T10:21:48.888Z"
   },
   {
    "duration": 102,
    "start_time": "2022-02-13T10:21:48.904Z"
   },
   {
    "duration": 83,
    "start_time": "2022-02-13T10:21:48.925Z"
   },
   {
    "duration": 75,
    "start_time": "2022-02-13T10:21:48.934Z"
   },
   {
    "duration": 1230,
    "start_time": "2022-02-13T10:22:11.524Z"
   },
   {
    "duration": 47,
    "start_time": "2022-02-13T10:22:12.756Z"
   },
   {
    "duration": 4,
    "start_time": "2022-02-13T10:22:12.808Z"
   },
   {
    "duration": 34,
    "start_time": "2022-02-13T10:22:12.814Z"
   },
   {
    "duration": 73,
    "start_time": "2022-02-13T10:22:12.849Z"
   },
   {
    "duration": 8,
    "start_time": "2022-02-13T10:22:12.924Z"
   },
   {
    "duration": 7,
    "start_time": "2022-02-13T10:22:12.935Z"
   },
   {
    "duration": 10,
    "start_time": "2022-02-13T10:22:12.943Z"
   },
   {
    "duration": 32,
    "start_time": "2022-02-13T10:22:12.954Z"
   },
   {
    "duration": 29,
    "start_time": "2022-02-13T10:22:12.988Z"
   },
   {
    "duration": 14,
    "start_time": "2022-02-13T10:22:13.018Z"
   },
   {
    "duration": 43,
    "start_time": "2022-02-13T10:22:13.033Z"
   },
   {
    "duration": 99,
    "start_time": "2022-02-13T10:22:13.078Z"
   },
   {
    "duration": 96,
    "start_time": "2022-02-13T10:22:13.179Z"
   },
   {
    "duration": 5,
    "start_time": "2022-02-13T10:23:04.113Z"
   },
   {
    "duration": 10,
    "start_time": "2022-02-13T10:23:29.611Z"
   },
   {
    "duration": 536,
    "start_time": "2022-02-13T10:33:36.344Z"
   },
   {
    "duration": 4,
    "start_time": "2022-02-13T10:33:54.333Z"
   },
   {
    "duration": 13,
    "start_time": "2022-02-13T10:33:59.829Z"
   },
   {
    "duration": 6,
    "start_time": "2022-02-13T10:34:02.904Z"
   },
   {
    "duration": 7,
    "start_time": "2022-02-13T10:34:30.861Z"
   },
   {
    "duration": 85,
    "start_time": "2022-02-13T10:34:35.579Z"
   },
   {
    "duration": 46,
    "start_time": "2022-02-13T10:34:43.627Z"
   },
   {
    "duration": 12,
    "start_time": "2022-02-13T10:35:33.412Z"
   },
   {
    "duration": 6,
    "start_time": "2022-02-13T10:35:35.237Z"
   },
   {
    "duration": 96,
    "start_time": "2022-02-13T10:35:38.544Z"
   },
   {
    "duration": 72,
    "start_time": "2022-02-13T10:35:44.603Z"
   },
   {
    "duration": 13,
    "start_time": "2022-02-13T10:44:58.334Z"
   },
   {
    "duration": 6,
    "start_time": "2022-02-13T10:46:07.461Z"
   },
   {
    "duration": 14,
    "start_time": "2022-02-13T10:47:41.034Z"
   },
   {
    "duration": 7,
    "start_time": "2022-02-13T10:47:41.881Z"
   },
   {
    "duration": 13,
    "start_time": "2022-02-13T10:47:51.121Z"
   },
   {
    "duration": 6,
    "start_time": "2022-02-13T10:47:53.172Z"
   },
   {
    "duration": 50,
    "start_time": "2022-02-13T11:01:15.146Z"
   },
   {
    "duration": 62,
    "start_time": "2022-02-13T11:01:19.809Z"
   },
   {
    "duration": 66,
    "start_time": "2022-02-13T11:24:23.380Z"
   },
   {
    "duration": 62,
    "start_time": "2022-02-13T11:25:11.135Z"
   },
   {
    "duration": 96,
    "start_time": "2022-02-13T11:25:44.630Z"
   },
   {
    "duration": 92,
    "start_time": "2022-02-13T11:26:06.576Z"
   },
   {
    "duration": 21,
    "start_time": "2022-02-13T11:27:24.440Z"
   },
   {
    "duration": 18,
    "start_time": "2022-02-13T11:27:44.099Z"
   },
   {
    "duration": 302,
    "start_time": "2022-02-13T11:28:13.698Z"
   },
   {
    "duration": 38,
    "start_time": "2022-02-13T11:28:34.112Z"
   },
   {
    "duration": 76,
    "start_time": "2022-02-13T11:28:46.597Z"
   },
   {
    "duration": 60,
    "start_time": "2022-02-13T11:36:45.919Z"
   },
   {
    "duration": 108,
    "start_time": "2022-02-13T11:37:44.791Z"
   },
   {
    "duration": 324,
    "start_time": "2022-02-13T11:46:48.542Z"
   },
   {
    "duration": 109,
    "start_time": "2022-02-13T11:46:59.774Z"
   },
   {
    "duration": 323,
    "start_time": "2022-02-13T11:47:12.171Z"
   }
  ],
  "kernelspec": {
   "display_name": "Python 3 (ipykernel)",
   "language": "python",
   "name": "python3"
  },
  "language_info": {
   "codemirror_mode": {
    "name": "ipython",
    "version": 3
   },
   "file_extension": ".py",
   "mimetype": "text/x-python",
   "name": "python",
   "nbconvert_exporter": "python",
   "pygments_lexer": "ipython3",
   "version": "3.9.5"
  },
  "toc": {
   "base_numbering": 1,
   "nav_menu": {},
   "number_sections": true,
   "sideBar": true,
   "skip_h1_title": true,
   "title_cell": "Содержание",
   "title_sidebar": "Contents",
   "toc_cell": true,
   "toc_position": {},
   "toc_section_display": true,
   "toc_window_display": false
  }
 },
 "nbformat": 4,
 "nbformat_minor": 2
}
