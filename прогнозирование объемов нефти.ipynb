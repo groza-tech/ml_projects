{
 "cells": [
  {
   "cell_type": "markdown",
   "metadata": {},
   "source": [
    "Привет, меня зовут Артем Хуршудов. Сегодня я проверю твой проект.\n",
    "<br> Дальнейшее общение будет происходить на \"ты\" если это не вызывает никаких проблем.\n",
    "<br> Желательно реагировать на каждый мой комментарий ('исправил', 'не понятно как исправить ошибку', ...)\n",
    "<br> Пожалуйста, не удаляй комментарии ревьюера, так как они повышают качество повторного ревью.\n",
    "\n",
    "Комментарии будут в <font color='green'>зеленой</font>, <font color='blue'>синей</font> или <font color='red'>красной</font> рамках:\n",
    "\n",
    "<div class=\"alert alert-block alert-success\">\n",
    "<b>Успех:</b> Если все сделано отлично\n",
    "</div>\n",
    "\n",
    "<div class=\"alert alert-block alert-info\">\n",
    "<b>Совет: </b> Если можно немного улучшить\n",
    "</div>\n",
    "\n",
    "<div class=\"alert alert-block alert-danger\">\n",
    "<b>Ошибка:</b> Если требуются исправления. Работа не может быть принята с красными комментариями.\n",
    "</div>\n",
    "\n",
    "-------------------\n",
    "\n",
    "Будет очень хорошо, если ты будешь помечать свои действия следующим образом:\n",
    "<div class=\"alert alert-block alert-warning\">\n",
    "<b>Комментарий студента:</b> ...\n",
    "</div>\n",
    "\n",
    "<div class=\"alert alert-block alert-warning\">\n",
    "<b>Изменения:</b> Были внесены следующие изменения ...\n",
    "</div>\n",
    "\n",
    "### <font color='orange'>Общее впечатление</font>\n",
    "* Большое спасибо за проделанную работу. Видно, что приложено много усилий.\n",
    "* Выводы и рассуждения получились содержательными, их было интересно читать.\n",
    "* Радует, что тебе удалось разобраться с техникой бутстрапа.\n",
    "* Отлично, что доверительный интервал и риск убытков посчитаны верно.\n",
    "* Я оставил несколько советов, надеюсь, что они будут учтены в будущих проектах.\n",
    "* Редко, кто сдает эту работу с первого раза, молодец!\n",
    "* Проект может быть зачтен, но я его отправлю назад, чтобы у тебя была возможность задать вопросы и внести правки, при желании. Однако, ты можешь просто вернуть проект в таком же виде и я его зачту."
   ]
  },
  {
   "cell_type": "markdown",
   "metadata": {},
   "source": [
    "### <font color='orange'>Общее впечатление (ревью 2)</font>\n",
    "* Проект зачтен!\n",
    "* Удачи в дальнейшем обучении и следующих работах!"
   ]
  },
  {
   "cell_type": "markdown",
   "metadata": {},
   "source": [
    "# Выбор локации для скважины"
   ]
  },
  {
   "cell_type": "markdown",
   "metadata": {},
   "source": [
    "Допустим, вы работаете в добывающей компании «ГлавРосГосНефть». Нужно решить, где бурить новую скважину.\n",
    "\n",
    "Вам предоставлены пробы нефти в трёх регионах: в каждом 10 000 месторождений, где измерили качество нефти и объём её запасов. Постройте модель машинного обучения, которая поможет определить регион, где добыча принесёт наибольшую прибыль. Проанализируйте возможную прибыль и риски техникой *Bootstrap.*\n",
    "\n",
    "Шаги для выбора локации:\n",
    "\n",
    "- В избранном регионе ищут месторождения, для каждого определяют значения признаков;\n",
    "- Строят модель и оценивают объём запасов;\n",
    "- Выбирают месторождения с самым высокими оценками значений. Количество месторождений зависит от бюджета компании и стоимости разработки одной скважины;\n",
    "- Прибыль равна суммарной прибыли отобранных месторождений."
   ]
  },
  {
   "cell_type": "markdown",
   "metadata": {},
   "source": [
    "## Загрузка и подготовка данных"
   ]
  },
  {
   "cell_type": "code",
   "execution_count": 1,
   "metadata": {},
   "outputs": [],
   "source": [
    "import pandas as pd\n",
    "import numpy as np\n",
    "import matplotlib as plt \n",
    "from random import randrange\n",
    "from sklearn.model_selection import train_test_split\n",
    "from sklearn.linear_model import LinearRegression\n",
    "from sklearn.metrics import mean_squared_error"
   ]
  },
  {
   "cell_type": "markdown",
   "metadata": {},
   "source": [
    "<div class=\"alert alert-block alert-success\">\n",
    "<b>Успех:</b> Отлично, что все импорты собраны в первой ячейке ноутбука! Если у того, кто будет запускать твой ноутбук будут отсутствовать некоторые библиотеки, то он это увидит сразу, а не в процессе!\n",
    "</div>"
   ]
  },
  {
   "cell_type": "code",
   "execution_count": 2,
   "metadata": {},
   "outputs": [],
   "source": [
    "data0 = pd.read_csv('/datasets/geo_data_0.csv')\n",
    "data1 = pd.read_csv('/datasets/geo_data_1.csv')\n",
    "data2 = pd.read_csv('/datasets/geo_data_2.csv')"
   ]
  },
  {
   "cell_type": "markdown",
   "metadata": {},
   "source": [
    "Для начала применим базовые техники предобработки данных: проверим на Nan значения и дублирование. "
   ]
  },
  {
   "cell_type": "code",
   "execution_count": 3,
   "metadata": {},
   "outputs": [
    {
     "data": {
      "text/html": [
       "<div>\n",
       "<style scoped>\n",
       "    .dataframe tbody tr th:only-of-type {\n",
       "        vertical-align: middle;\n",
       "    }\n",
       "\n",
       "    .dataframe tbody tr th {\n",
       "        vertical-align: top;\n",
       "    }\n",
       "\n",
       "    .dataframe thead th {\n",
       "        text-align: right;\n",
       "    }\n",
       "</style>\n",
       "<table border=\"1\" class=\"dataframe\">\n",
       "  <thead>\n",
       "    <tr style=\"text-align: right;\">\n",
       "      <th></th>\n",
       "      <th>id</th>\n",
       "      <th>f0</th>\n",
       "      <th>f1</th>\n",
       "      <th>f2</th>\n",
       "      <th>product</th>\n",
       "    </tr>\n",
       "  </thead>\n",
       "  <tbody>\n",
       "    <tr>\n",
       "      <td>0</td>\n",
       "      <td>txEyH</td>\n",
       "      <td>0.705745</td>\n",
       "      <td>-0.497823</td>\n",
       "      <td>1.221170</td>\n",
       "      <td>105.280062</td>\n",
       "    </tr>\n",
       "    <tr>\n",
       "      <td>1</td>\n",
       "      <td>2acmU</td>\n",
       "      <td>1.334711</td>\n",
       "      <td>-0.340164</td>\n",
       "      <td>4.365080</td>\n",
       "      <td>73.037750</td>\n",
       "    </tr>\n",
       "    <tr>\n",
       "      <td>2</td>\n",
       "      <td>409Wp</td>\n",
       "      <td>1.022732</td>\n",
       "      <td>0.151990</td>\n",
       "      <td>1.419926</td>\n",
       "      <td>85.265647</td>\n",
       "    </tr>\n",
       "    <tr>\n",
       "      <td>3</td>\n",
       "      <td>iJLyR</td>\n",
       "      <td>-0.032172</td>\n",
       "      <td>0.139033</td>\n",
       "      <td>2.978566</td>\n",
       "      <td>168.620776</td>\n",
       "    </tr>\n",
       "    <tr>\n",
       "      <td>4</td>\n",
       "      <td>Xdl7t</td>\n",
       "      <td>1.988431</td>\n",
       "      <td>0.155413</td>\n",
       "      <td>4.751769</td>\n",
       "      <td>154.036647</td>\n",
       "    </tr>\n",
       "  </tbody>\n",
       "</table>\n",
       "</div>"
      ],
      "text/plain": [
       "      id        f0        f1        f2     product\n",
       "0  txEyH  0.705745 -0.497823  1.221170  105.280062\n",
       "1  2acmU  1.334711 -0.340164  4.365080   73.037750\n",
       "2  409Wp  1.022732  0.151990  1.419926   85.265647\n",
       "3  iJLyR -0.032172  0.139033  2.978566  168.620776\n",
       "4  Xdl7t  1.988431  0.155413  4.751769  154.036647"
      ]
     },
     "metadata": {},
     "output_type": "display_data"
    },
    {
     "data": {
      "text/html": [
       "<div>\n",
       "<style scoped>\n",
       "    .dataframe tbody tr th:only-of-type {\n",
       "        vertical-align: middle;\n",
       "    }\n",
       "\n",
       "    .dataframe tbody tr th {\n",
       "        vertical-align: top;\n",
       "    }\n",
       "\n",
       "    .dataframe thead th {\n",
       "        text-align: right;\n",
       "    }\n",
       "</style>\n",
       "<table border=\"1\" class=\"dataframe\">\n",
       "  <thead>\n",
       "    <tr style=\"text-align: right;\">\n",
       "      <th></th>\n",
       "      <th>id</th>\n",
       "      <th>f0</th>\n",
       "      <th>f1</th>\n",
       "      <th>f2</th>\n",
       "      <th>product</th>\n",
       "    </tr>\n",
       "  </thead>\n",
       "  <tbody>\n",
       "    <tr>\n",
       "      <td>0</td>\n",
       "      <td>kBEdx</td>\n",
       "      <td>-15.001348</td>\n",
       "      <td>-8.276000</td>\n",
       "      <td>-0.005876</td>\n",
       "      <td>3.179103</td>\n",
       "    </tr>\n",
       "    <tr>\n",
       "      <td>1</td>\n",
       "      <td>62mP7</td>\n",
       "      <td>14.272088</td>\n",
       "      <td>-3.475083</td>\n",
       "      <td>0.999183</td>\n",
       "      <td>26.953261</td>\n",
       "    </tr>\n",
       "    <tr>\n",
       "      <td>2</td>\n",
       "      <td>vyE1P</td>\n",
       "      <td>6.263187</td>\n",
       "      <td>-5.948386</td>\n",
       "      <td>5.001160</td>\n",
       "      <td>134.766305</td>\n",
       "    </tr>\n",
       "    <tr>\n",
       "      <td>3</td>\n",
       "      <td>KcrkZ</td>\n",
       "      <td>-13.081196</td>\n",
       "      <td>-11.506057</td>\n",
       "      <td>4.999415</td>\n",
       "      <td>137.945408</td>\n",
       "    </tr>\n",
       "    <tr>\n",
       "      <td>4</td>\n",
       "      <td>AHL4O</td>\n",
       "      <td>12.702195</td>\n",
       "      <td>-8.147433</td>\n",
       "      <td>5.004363</td>\n",
       "      <td>134.766305</td>\n",
       "    </tr>\n",
       "  </tbody>\n",
       "</table>\n",
       "</div>"
      ],
      "text/plain": [
       "      id         f0         f1        f2     product\n",
       "0  kBEdx -15.001348  -8.276000 -0.005876    3.179103\n",
       "1  62mP7  14.272088  -3.475083  0.999183   26.953261\n",
       "2  vyE1P   6.263187  -5.948386  5.001160  134.766305\n",
       "3  KcrkZ -13.081196 -11.506057  4.999415  137.945408\n",
       "4  AHL4O  12.702195  -8.147433  5.004363  134.766305"
      ]
     },
     "metadata": {},
     "output_type": "display_data"
    },
    {
     "data": {
      "text/html": [
       "<div>\n",
       "<style scoped>\n",
       "    .dataframe tbody tr th:only-of-type {\n",
       "        vertical-align: middle;\n",
       "    }\n",
       "\n",
       "    .dataframe tbody tr th {\n",
       "        vertical-align: top;\n",
       "    }\n",
       "\n",
       "    .dataframe thead th {\n",
       "        text-align: right;\n",
       "    }\n",
       "</style>\n",
       "<table border=\"1\" class=\"dataframe\">\n",
       "  <thead>\n",
       "    <tr style=\"text-align: right;\">\n",
       "      <th></th>\n",
       "      <th>id</th>\n",
       "      <th>f0</th>\n",
       "      <th>f1</th>\n",
       "      <th>f2</th>\n",
       "      <th>product</th>\n",
       "    </tr>\n",
       "  </thead>\n",
       "  <tbody>\n",
       "    <tr>\n",
       "      <td>0</td>\n",
       "      <td>fwXo0</td>\n",
       "      <td>-1.146987</td>\n",
       "      <td>0.963328</td>\n",
       "      <td>-0.828965</td>\n",
       "      <td>27.758673</td>\n",
       "    </tr>\n",
       "    <tr>\n",
       "      <td>1</td>\n",
       "      <td>WJtFt</td>\n",
       "      <td>0.262778</td>\n",
       "      <td>0.269839</td>\n",
       "      <td>-2.530187</td>\n",
       "      <td>56.069697</td>\n",
       "    </tr>\n",
       "    <tr>\n",
       "      <td>2</td>\n",
       "      <td>ovLUW</td>\n",
       "      <td>0.194587</td>\n",
       "      <td>0.289035</td>\n",
       "      <td>-5.586433</td>\n",
       "      <td>62.871910</td>\n",
       "    </tr>\n",
       "    <tr>\n",
       "      <td>3</td>\n",
       "      <td>q6cA6</td>\n",
       "      <td>2.236060</td>\n",
       "      <td>-0.553760</td>\n",
       "      <td>0.930038</td>\n",
       "      <td>114.572842</td>\n",
       "    </tr>\n",
       "    <tr>\n",
       "      <td>4</td>\n",
       "      <td>WPMUX</td>\n",
       "      <td>-0.515993</td>\n",
       "      <td>1.716266</td>\n",
       "      <td>5.899011</td>\n",
       "      <td>149.600746</td>\n",
       "    </tr>\n",
       "  </tbody>\n",
       "</table>\n",
       "</div>"
      ],
      "text/plain": [
       "      id        f0        f1        f2     product\n",
       "0  fwXo0 -1.146987  0.963328 -0.828965   27.758673\n",
       "1  WJtFt  0.262778  0.269839 -2.530187   56.069697\n",
       "2  ovLUW  0.194587  0.289035 -5.586433   62.871910\n",
       "3  q6cA6  2.236060 -0.553760  0.930038  114.572842\n",
       "4  WPMUX -0.515993  1.716266  5.899011  149.600746"
      ]
     },
     "metadata": {},
     "output_type": "display_data"
    }
   ],
   "source": [
    "display(data0.head())\n",
    "display(data1.head())\n",
    "display(data2.head())"
   ]
  },
  {
   "cell_type": "code",
   "execution_count": 4,
   "metadata": {},
   "outputs": [
    {
     "name": "stdout",
     "output_type": "stream",
     "text": [
      "id         0\n",
      "f0         0\n",
      "f1         0\n",
      "f2         0\n",
      "product    0\n",
      "dtype: int64\n",
      "------------\n",
      "id         0\n",
      "f0         0\n",
      "f1         0\n",
      "f2         0\n",
      "product    0\n",
      "dtype: int64\n",
      "------------\n",
      "id         0\n",
      "f0         0\n",
      "f1         0\n",
      "f2         0\n",
      "product    0\n",
      "dtype: int64\n"
     ]
    }
   ],
   "source": [
    "print(data0.isna().sum())\n",
    "print('------------')\n",
    "print(data1.isna().sum())\n",
    "print('------------')\n",
    "print(data2.isna().sum())"
   ]
  },
  {
   "cell_type": "code",
   "execution_count": 5,
   "metadata": {},
   "outputs": [
    {
     "name": "stdout",
     "output_type": "stream",
     "text": [
      "0\n",
      "------------\n",
      "0\n",
      "------------\n",
      "0\n"
     ]
    }
   ],
   "source": [
    "print(data0.duplicated().sum())\n",
    "print('------------')\n",
    "print(data1.duplicated().sum())\n",
    "print('------------')\n",
    "print(data2.duplicated().sum())"
   ]
  },
  {
   "cell_type": "code",
   "execution_count": 6,
   "metadata": {},
   "outputs": [
    {
     "name": "stdout",
     "output_type": "stream",
     "text": [
      "                  f0             f1             f2        product\n",
      "count  100000.000000  100000.000000  100000.000000  100000.000000\n",
      "mean        0.500419       0.250143       2.502647      92.500000\n",
      "std         0.871832       0.504433       3.248248      44.288691\n",
      "min        -1.408605      -0.848218     -12.088328       0.000000\n",
      "25%        -0.072580      -0.200881       0.287748      56.497507\n",
      "50%         0.502360       0.250252       2.515969      91.849972\n",
      "75%         1.073581       0.700646       4.715088     128.564089\n",
      "max         2.362331       1.343769      16.003790     185.364347\n",
      "------------\n",
      "                  f0             f1             f2        product\n",
      "count  100000.000000  100000.000000  100000.000000  100000.000000\n",
      "mean        1.141296      -4.796579       2.494541      68.825000\n",
      "std         8.965932       5.119872       1.703572      45.944423\n",
      "min       -31.609576     -26.358598      -0.018144       0.000000\n",
      "25%        -6.298551      -8.267985       1.000021      26.953261\n",
      "50%         1.153055      -4.813172       2.011479      57.085625\n",
      "75%         8.621015      -1.332816       3.999904     107.813044\n",
      "max        29.421755      18.734063       5.019721     137.945408\n",
      "------------\n",
      "                  f0             f1             f2        product\n",
      "count  100000.000000  100000.000000  100000.000000  100000.000000\n",
      "mean        0.002023      -0.002081       2.495128      95.000000\n",
      "std         1.732045       1.730417       3.473445      44.749921\n",
      "min        -8.760004      -7.084020     -11.970335       0.000000\n",
      "25%        -1.162288      -1.174820       0.130359      59.450441\n",
      "50%         0.009424      -0.009482       2.484236      94.925613\n",
      "75%         1.158535       1.163678       4.858794     130.595027\n",
      "max         7.238262       7.844801      16.739402     190.029838\n"
     ]
    }
   ],
   "source": [
    "print(data0.describe())\n",
    "print('------------')\n",
    "print(data1.describe())\n",
    "print('------------')\n",
    "print(data2.describe())"
   ]
  },
  {
   "cell_type": "code",
   "execution_count": 7,
   "metadata": {},
   "outputs": [
    {
     "name": "stdout",
     "output_type": "stream",
     "text": [
      "100000\n",
      "100000\n",
      "100000\n"
     ]
    }
   ],
   "source": [
    "print(len(data0))\n",
    "print(len(data1))\n",
    "print(len(data2))"
   ]
  },
  {
   "cell_type": "markdown",
   "metadata": {},
   "source": [
    "<div class=\"alert alert-block alert-success\">\n",
    "<b>Успех:</b> Данные загружены корректно, первичный осмотр проведен.\n",
    "</div>"
   ]
  },
  {
   "cell_type": "markdown",
   "metadata": {},
   "source": [
    "## Обучение и проверка модели"
   ]
  },
  {
   "cell_type": "code",
   "execution_count": 8,
   "metadata": {},
   "outputs": [],
   "source": [
    "data0 = data0.drop('id', axis=1)\n",
    "data1 = data1.drop('id', axis=1)\n",
    "data2 = data2.drop('id', axis=1)"
   ]
  },
  {
   "cell_type": "markdown",
   "metadata": {},
   "source": [
    "<div class=\"alert alert-block alert-success\">\n",
    "<b>Успех:</b> Согласен, что колокна id нам не нужна.\n",
    "</div>"
   ]
  },
  {
   "cell_type": "markdown",
   "metadata": {},
   "source": [
    "После того, как были убраны неинформативные признаки, приступим к подготовке модели. Как было заявлено в условии проекта должна быть модель линейной регрессии"
   ]
  },
  {
   "cell_type": "code",
   "execution_count": 9,
   "metadata": {},
   "outputs": [],
   "source": [
    "def model_making(data):\n",
    "    model = LinearRegression()\n",
    "    features = data.drop('product', axis =1)\n",
    "    target = data['product']\n",
    "    features_train, features_valid, target_train, target_valid = train_test_split(features, target, test_size=0.25, random_state=12345)\n",
    "    print('Train shape:', features_train.shape)\n",
    "    print('Valid shape:', features_valid.shape)\n",
    "    print('Beginning model training...')\n",
    "    model.fit(features_train, target_train)\n",
    "    print('Model trained succesfully')\n",
    "    predictions = model.predict(features_valid)\n",
    "    print('Mean predicted product volume: ', predictions.mean().round(4))\n",
    "    rmse = mean_squared_error(target_valid, predictions) ** 0.5\n",
    "    print('RMSE :', rmse.round(4))\n",
    "    return predictions, target_valid\n",
    "    \n",
    "    \n",
    "    \n",
    "    \n",
    "    \n",
    "    "
   ]
  },
  {
   "cell_type": "markdown",
   "metadata": {},
   "source": [
    "#### Для первого региона:"
   ]
  },
  {
   "cell_type": "code",
   "execution_count": 10,
   "metadata": {},
   "outputs": [
    {
     "name": "stdout",
     "output_type": "stream",
     "text": [
      "Train shape: (75000, 3)\n",
      "Valid shape: (25000, 3)\n",
      "Beginning model training...\n",
      "Model trained succesfully\n",
      "Mean predicted product volume:  92.5926\n",
      "RMSE : 37.5794\n"
     ]
    }
   ],
   "source": [
    "data0_predicted, data0_target_valid = model_making(data0)"
   ]
  },
  {
   "cell_type": "markdown",
   "metadata": {},
   "source": [
    "#### Для второго региона:"
   ]
  },
  {
   "cell_type": "code",
   "execution_count": 11,
   "metadata": {},
   "outputs": [
    {
     "name": "stdout",
     "output_type": "stream",
     "text": [
      "Train shape: (75000, 3)\n",
      "Valid shape: (25000, 3)\n",
      "Beginning model training...\n",
      "Model trained succesfully\n",
      "Mean predicted product volume:  68.7285\n",
      "RMSE : 0.8931\n"
     ]
    }
   ],
   "source": [
    "data1_predicted, data1_target_valid = model_making(data1)"
   ]
  },
  {
   "cell_type": "markdown",
   "metadata": {},
   "source": [
    "#### Для третьего региона:"
   ]
  },
  {
   "cell_type": "code",
   "execution_count": 12,
   "metadata": {},
   "outputs": [
    {
     "name": "stdout",
     "output_type": "stream",
     "text": [
      "Train shape: (75000, 3)\n",
      "Valid shape: (25000, 3)\n",
      "Beginning model training...\n",
      "Model trained succesfully\n",
      "Mean predicted product volume:  94.965\n",
      "RMSE : 40.0297\n"
     ]
    }
   ],
   "source": [
    "data2_predicted, data2_target_valid = model_making(data2)"
   ]
  },
  {
   "cell_type": "markdown",
   "metadata": {},
   "source": [
    "Для данного этапа исследования можно сделать следующие выводы:\n",
    "1. В первом и третьем регионе более высокие показатели среднего предсказанного объема запасов нефти\n",
    "2. В этих же регионах гораздо более высокий показатель средне-квадратичной ошибки \n",
    "Можно сказать о неоднозначности предсказанных показателей в данных регионах. Второй регион был предсказан наиболее точно"
   ]
  },
  {
   "cell_type": "markdown",
   "metadata": {},
   "source": [
    "<div class=\"alert alert-block alert-success\">\n",
    "<b>Успех:</b> Модели обучены корректно. Радует, что ты активно используешь функции. Это помогает избежать дублирования кода, а значит уменьшает вероятность совершить ошибку/опечатку!\n",
    "</div>"
   ]
  },
  {
   "cell_type": "markdown",
   "metadata": {},
   "source": [
    "## Подготовка к расчёту прибыли"
   ]
  },
  {
   "cell_type": "markdown",
   "metadata": {},
   "source": [
    "Говорить о прибыли на данном этапе пока рано, однако можно найти точку безубыточности скважин. \n",
    "Рассчитаем безубыточность для региона. \n",
    "Итак, формула следующая: Бюджет/(количество скважин * доход с одной скважины)\n",
    "Подставим данные и получим следующее:"
   ]
  },
  {
   "cell_type": "code",
   "execution_count": 13,
   "metadata": {},
   "outputs": [],
   "source": [
    "BUDGET = 10 ** 10 \n",
    "TOP_WELLS = 200\n",
    "PROFIT = 450 * 10 **3\n",
    "TOTAL_WELLS = 500 "
   ]
  },
  {
   "cell_type": "code",
   "execution_count": 14,
   "metadata": {},
   "outputs": [],
   "source": [
    "mean_volume = BUDGET / (TOP_WELLS * PROFIT)"
   ]
  },
  {
   "cell_type": "markdown",
   "metadata": {},
   "source": [
    "<div class=\"alert alert-block alert-success\">\n",
    "<b>Успех:</b> Хорошо, что в названиях константных переменных использовались только большие буквы!\n",
    "</div>"
   ]
  },
  {
   "cell_type": "code",
   "execution_count": 15,
   "metadata": {},
   "outputs": [
    {
     "name": "stdout",
     "output_type": "stream",
     "text": [
      "Объем скважины для безубыточной добычи:  111.11111111111111\n"
     ]
    }
   ],
   "source": [
    "print('Объем скважины для безубыточной добычи: ', mean_volume)"
   ]
  },
  {
   "cell_type": "markdown",
   "metadata": {},
   "source": [
    "Итак, по рассчетам можно сказать, что необходимый порог для безубыточной добычи гораздо выше, чем предсказанные средние объемы во всех регионах. Полученные данные вызывают сомнения о целесобразности операции"
   ]
  },
  {
   "cell_type": "markdown",
   "metadata": {},
   "source": [
    "<div class=\"alert alert-block alert-success\">\n",
    "<b>Успех:</b> Точка безубыточности найдена верно, сравнение проведено!\n",
    "</div>"
   ]
  },
  {
   "cell_type": "markdown",
   "metadata": {},
   "source": [
    "## Расчёт прибыли и рисков "
   ]
  },
  {
   "cell_type": "code",
   "execution_count": 17,
   "metadata": {},
   "outputs": [
    {
     "data": {
      "text/plain": [
       "71751     10.038645\n",
       "80493    114.551489\n",
       "2655     132.603635\n",
       "53233    169.072125\n",
       "91141    122.325180\n",
       "            ...    \n",
       "12581    170.116726\n",
       "18456     93.632175\n",
       "73035    127.352259\n",
       "63834     99.782700\n",
       "43558    177.821022\n",
       "Name: product, Length: 25000, dtype: float64"
      ]
     },
     "metadata": {},
     "output_type": "display_data"
    }
   ],
   "source": [
    "display(data0_target_valid)"
   ]
  },
  {
   "cell_type": "code",
   "execution_count": 18,
   "metadata": {},
   "outputs": [],
   "source": [
    "data0_target_valid = pd.Series(data0_target_valid).reset_index(drop=True)\n",
    "data1_target_valid = pd.Series(data1_target_valid).reset_index(drop=True)\n",
    "data2_target_valid = pd.Series(data2_target_valid).reset_index(drop=True)\n",
    "\n",
    "data0_predicted = pd.Series(*data0_predicted.reshape(1,-1))\n",
    "data1_predicted = pd.Series(*data1_predicted.reshape(1,-1))\n",
    "data2_predicted = pd.Series(*data2_predicted.reshape(1,-1))"
   ]
  },
  {
   "cell_type": "code",
   "execution_count": 23,
   "metadata": {},
   "outputs": [],
   "source": [
    "def show_predicted_income(region, top_wells_mean, volume, income):\n",
    "    print('===', region, '===')\n",
    "    print('Средний запас сырья среди скважин с максимальным показателем: {:.2f}'.format(top_wells_mean))\n",
    "    print('Суммарный целевой объём сырья: {:.2f}'.format(volume))\n",
    "    print('Прибыль для полученного объёма сырья: {:.2f}'.format(income))\n",
    "    \n",
    "    \n",
    "state = 12345\n",
    "def predicted_income(target, predicts, region, state, replace=False, show_res=True, return_res=False):\n",
    "    \"\"\"\n",
    "    input: predicts - предсказания линейной модели для объёма сырья\n",
    "    output: None\n",
    "    description: - Функция берёт выборку размера SAMP_WELLS, выбирает TOP_WELLS наивысших значений,\n",
    "                   Функция считает:    среднее значение объёма сырья для выбранных скважин.\n",
    "                                       суммарный целевой объём сырья\n",
    "                                       прибыль для полученного объёма сырья\n",
    "    \"\"\"\n",
    "    sample_preds = predicts.sample(n=TOTAL_WELLS, \n",
    "                                   replace=replace, \n",
    "                                   random_state=state)\n",
    "    top_preds = sample_preds.sort_values(ascending=False)[:TOP_WELLS]\n",
    "    top_targets = target[top_preds.index]\n",
    "    top_wells_mean = top_targets.mean()\n",
    "    volume = sum(top_targets)\n",
    "    income = volume * PROFIT - BUDGET\n",
    "    if show_res:\n",
    "        show_predicted_income(region, top_wells_mean, volume, income)\n",
    "    if return_res:\n",
    "        return income\n",
    "    "
   ]
  },
  {
   "cell_type": "code",
   "execution_count": 24,
   "metadata": {},
   "outputs": [
    {
     "name": "stdout",
     "output_type": "stream",
     "text": [
      "=== Регион 0 ===\n",
      "Средний запас сырья среди скважин с максимальным показателем: 118.66\n",
      "Суммарный целевой объём сырья: 23731.26\n",
      "Прибыль для полученного объёма сырья: 679068857.89\n"
     ]
    }
   ],
   "source": [
    "predicted_income(data0_target_valid, data0_predicted, 'Регион 0', state)"
   ]
  },
  {
   "cell_type": "code",
   "execution_count": 25,
   "metadata": {},
   "outputs": [
    {
     "name": "stdout",
     "output_type": "stream",
     "text": [
      "=== Регион 1 ===\n",
      "Средний запас сырья среди скважин с максимальным показателем: 119.77\n",
      "Суммарный целевой объём сырья: 23954.40\n",
      "Прибыль для полученного объёма сырья: 779479884.18\n"
     ]
    }
   ],
   "source": [
    "predicted_income(data1_target_valid, data1_predicted, 'Регион 1', state)"
   ]
  },
  {
   "cell_type": "code",
   "execution_count": 27,
   "metadata": {},
   "outputs": [
    {
     "name": "stdout",
     "output_type": "stream",
     "text": [
      "=== Регион 2 ===\n",
      "Средний запас сырья среди скважин с максимальным показателем: 116.00\n",
      "Суммарный целевой объём сырья: 23199.98\n",
      "Прибыль для полученного объёма сырья: 439990143.02\n"
     ]
    }
   ],
   "source": [
    "predicted_income(data2_target_valid, data2_predicted, 'Регион 2', state)"
   ]
  },
  {
   "cell_type": "markdown",
   "metadata": {},
   "source": [
    "Теперь перейдем к подсчету рисков "
   ]
  },
  {
   "cell_type": "code",
   "execution_count": 28,
   "metadata": {},
   "outputs": [],
   "source": [
    "def show_risks(region, income_mean, conf_int_left, conf_int_right, loss_rate):\n",
    "    print('===', region, '===')\n",
    "    print('Средняя прибыль {:.2f} (млн. Р)'.format(income_mean / 10**6))\n",
    "    print('95% доверительный интервал: {:.2f} : {:.2f} (млн. Р)'.format(conf_int_left / 10**6, conf_int_right / 10**6))\n",
    "    print('Риск убытков: {:.2f} %'.format(loss_rate * 100))"
   ]
  },
  {
   "cell_type": "code",
   "execution_count": 31,
   "metadata": {},
   "outputs": [],
   "source": [
    "\n",
    "def risk_calc(target, predicts, region):\n",
    "    alpha = 0.05\n",
    "    incomes = []\n",
    "    state = np.random.RandomState(12345)\n",
    "    for _ in range(1000):\n",
    "        income = predicted_income(target, predicts, region, state, replace=True, show_res=False, return_res=True)\n",
    "        incomes.append(income)\n",
    "\n",
    "    incomes = pd.Series(incomes)\n",
    "    income_mean = incomes.mean()\n",
    "    conf_int_left = incomes.quantile(alpha/2)\n",
    "    conf_int_right = incomes.quantile(1 - alpha/2)\n",
    "    \n",
    "    loss_count = 0\n",
    "    for inc in incomes :\n",
    "        if inc < 0 :\n",
    "            loss_count += 1\n",
    "    loss_rate = loss_count / 1000\n",
    "    \n",
    "    show_risks(region, income_mean, conf_int_left, conf_int_right, loss_rate)"
   ]
  },
  {
   "cell_type": "markdown",
   "metadata": {},
   "source": [
    "<div class=\"alert alert-block alert-info\">\n",
    "\n",
    "<b>Совет: </b> Риск можно было найти чуть проще: `(values < 0).mean()`, если объект типа pandas Series или numpy array.\n",
    "</div>"
   ]
  },
  {
   "cell_type": "markdown",
   "metadata": {},
   "source": [
    "<div class=\"alert alert-block alert-success\">\n",
    "<b>Успех:</b> Отлично, что для подсчета доверительного интервала использовался именно метод квантилей!\n",
    "</div>"
   ]
  },
  {
   "cell_type": "code",
   "execution_count": 32,
   "metadata": {},
   "outputs": [
    {
     "name": "stdout",
     "output_type": "stream",
     "text": [
      "=== Регион 0 ===\n",
      "Средняя прибыль 396.16 (млн. Р)\n",
      "95% доверительный интервал: -111.22 : 909.77 (млн. Р)\n",
      "Риск убытков: 6.90 %\n"
     ]
    }
   ],
   "source": [
    "risk_calc(data0_target_valid, data0_predicted, 'Регион 0')"
   ]
  },
  {
   "cell_type": "code",
   "execution_count": 33,
   "metadata": {},
   "outputs": [
    {
     "name": "stdout",
     "output_type": "stream",
     "text": [
      "=== Регион 1 ===\n",
      "Средняя прибыль 456.05 (млн. Р)\n",
      "95% доверительный интервал: 33.82 : 852.29 (млн. Р)\n",
      "Риск убытков: 1.50 %\n"
     ]
    }
   ],
   "source": [
    "risk_calc(data1_target_valid, data1_predicted, 'Регион 1')"
   ]
  },
  {
   "cell_type": "code",
   "execution_count": 34,
   "metadata": {},
   "outputs": [
    {
     "name": "stdout",
     "output_type": "stream",
     "text": [
      "=== Регион 2 ===\n",
      "Средняя прибыль 404.40 (млн. Р)\n",
      "95% доверительный интервал: -163.35 : 950.36 (млн. Р)\n",
      "Риск убытков: 7.60 %\n"
     ]
    }
   ],
   "source": [
    "risk_calc(data2_target_valid, data2_predicted, 'Регион 2')"
   ]
  },
  {
   "cell_type": "markdown",
   "metadata": {},
   "source": [
    "Итак, я бы рекомендовал для разработки месторождений регион 1, потому что там наиболее низкий риск убытков, плюс как следует из второй части проекта, там наиболее точно были предсказаны объемы залежей нефти. "
   ]
  },
  {
   "cell_type": "markdown",
   "metadata": {},
   "source": [
    "<div class=\"alert alert-block alert-success\">\n",
    "<b>Успех:</b> Все статистики посчитаны правильно, с выбором региона согласен.\n",
    "</div>"
   ]
  },
  {
   "cell_type": "markdown",
   "metadata": {},
   "source": [
    "<div class=\"alert alert-block alert-info\">\n",
    "<b>Совет: </b> Желательно было добавить вывод по всему проекту.\n",
    "</div>"
   ]
  },
  {
   "cell_type": "markdown",
   "metadata": {},
   "source": [
    "## Чек-лист готовности проекта"
   ]
  },
  {
   "cell_type": "markdown",
   "metadata": {},
   "source": [
    "Поставьте 'x' в выполненных пунктах. Далее нажмите Shift+Enter."
   ]
  },
  {
   "cell_type": "markdown",
   "metadata": {},
   "source": [
    "- [x]  Jupyter Notebook открыт\n",
    "- [ ]  Весь код выполняется без ошибок\n",
    "- [ ]  Ячейки с кодом расположены в порядке исполнения\n",
    "- [ ]  Выполнен шаг 1: данные подготовлены\n",
    "- [ ]  Выполнен шаг 2: модели обучены и проверены\n",
    "    - [ ]  Данные корректно разбиты на обучающую и валидационную выборки\n",
    "    - [ ]  Модели обучены, предсказания сделаны\n",
    "    - [ ]  Предсказания и правильные ответы на валидационной выборке сохранены\n",
    "    - [ ]  На экране напечатаны результаты\n",
    "    - [ ]  Сделаны выводы\n",
    "- [ ]  Выполнен шаг 3: проведена подготовка к расчёту прибыли\n",
    "    - [ ]  Для всех ключевых значений созданы константы Python\n",
    "    - [ ]  Посчитано минимальное среднее количество продукта в месторождениях региона, достаточное для разработки\n",
    "    - [ ]  По предыдущему пункту сделаны выводы\n",
    "    - [ ]  Написана функция расчёта прибыли\n",
    "- [ ]  Выполнен шаг 4: посчитаны риски и прибыль\n",
    "    - [ ]  Проведена процедура *Bootstrap*\n",
    "    - [ ]  Все параметры бутстрепа соответствуют условию\n",
    "    - [ ]  Найдены все нужные величины\n",
    "    - [ ]  Предложен регион для разработки месторождения\n",
    "    - [ ]  Выбор региона обоснован"
   ]
  },
  {
   "cell_type": "code",
   "execution_count": null,
   "metadata": {},
   "outputs": [],
   "source": []
  }
 ],
 "metadata": {
  "ExecuteTimeLog": [
   {
    "duration": 1014,
    "start_time": "2022-03-02T15:15:11.197Z"
   },
   {
    "duration": 346,
    "start_time": "2022-03-02T15:16:27.028Z"
   },
   {
    "duration": 23,
    "start_time": "2022-03-02T15:16:50.666Z"
   },
   {
    "duration": 18,
    "start_time": "2022-03-02T15:17:36.575Z"
   },
   {
    "duration": 18,
    "start_time": "2022-03-02T15:17:53.655Z"
   },
   {
    "duration": 18,
    "start_time": "2022-03-02T15:18:11.928Z"
   },
   {
    "duration": 326,
    "start_time": "2022-03-02T15:18:39.249Z"
   },
   {
    "duration": 97,
    "start_time": "2022-03-02T15:18:48.825Z"
   },
   {
    "duration": 79,
    "start_time": "2022-03-02T15:19:32.801Z"
   },
   {
    "duration": 14,
    "start_time": "2022-03-02T15:26:04.784Z"
   },
   {
    "duration": 3,
    "start_time": "2022-03-02T15:26:55.766Z"
   },
   {
    "duration": 8,
    "start_time": "2022-03-02T15:27:58.859Z"
   },
   {
    "duration": 1270,
    "start_time": "2022-03-03T09:28:58.415Z"
   },
   {
    "duration": 429,
    "start_time": "2022-03-03T09:28:59.688Z"
   },
   {
    "duration": 43,
    "start_time": "2022-03-03T09:29:00.121Z"
   },
   {
    "duration": 31,
    "start_time": "2022-03-03T09:29:00.187Z"
   },
   {
    "duration": 207,
    "start_time": "2022-03-03T09:29:00.221Z"
   },
   {
    "duration": 145,
    "start_time": "2022-03-03T09:29:00.431Z"
   },
   {
    "duration": 6,
    "start_time": "2022-03-03T09:29:00.586Z"
   },
   {
    "duration": 53,
    "start_time": "2022-03-03T09:29:00.594Z"
   },
   {
    "duration": 4,
    "start_time": "2022-03-03T09:38:34.229Z"
   },
   {
    "duration": 6,
    "start_time": "2022-03-03T09:40:18.468Z"
   },
   {
    "duration": 699,
    "start_time": "2022-03-03T09:41:40.648Z"
   },
   {
    "duration": 6,
    "start_time": "2022-03-03T09:42:16.977Z"
   },
   {
    "duration": 38,
    "start_time": "2022-03-03T09:42:20.046Z"
   },
   {
    "duration": 6,
    "start_time": "2022-03-03T09:42:53.775Z"
   },
   {
    "duration": 37,
    "start_time": "2022-03-03T09:42:54.705Z"
   },
   {
    "duration": 71,
    "start_time": "2022-03-03T09:43:47.820Z"
   },
   {
    "duration": 129,
    "start_time": "2022-03-03T09:43:53.066Z"
   },
   {
    "duration": 92,
    "start_time": "2022-03-03T09:44:04.398Z"
   },
   {
    "duration": 4,
    "start_time": "2022-03-03T09:55:23.424Z"
   },
   {
    "duration": 253,
    "start_time": "2022-03-03T09:56:26.127Z"
   },
   {
    "duration": 249,
    "start_time": "2022-03-03T09:56:31.963Z"
   },
   {
    "duration": 275,
    "start_time": "2022-03-03T09:57:10.132Z"
   },
   {
    "duration": 4,
    "start_time": "2022-03-03T09:57:13.785Z"
   },
   {
    "duration": 249,
    "start_time": "2022-03-03T09:57:14.433Z"
   },
   {
    "duration": 4,
    "start_time": "2022-03-03T09:57:18.546Z"
   },
   {
    "duration": 248,
    "start_time": "2022-03-03T09:57:25.787Z"
   },
   {
    "duration": 5,
    "start_time": "2022-03-03T09:57:34.237Z"
   },
   {
    "duration": 1363,
    "start_time": "2022-03-03T11:34:38.478Z"
   },
   {
    "duration": 684,
    "start_time": "2022-03-03T11:34:39.844Z"
   },
   {
    "duration": 73,
    "start_time": "2022-03-03T11:34:40.532Z"
   },
   {
    "duration": 42,
    "start_time": "2022-03-03T11:34:40.608Z"
   },
   {
    "duration": 271,
    "start_time": "2022-03-03T11:34:40.653Z"
   },
   {
    "duration": 199,
    "start_time": "2022-03-03T11:34:40.927Z"
   },
   {
    "duration": 6,
    "start_time": "2022-03-03T11:34:41.129Z"
   },
   {
    "duration": 50,
    "start_time": "2022-03-03T11:34:41.140Z"
   },
   {
    "duration": 10,
    "start_time": "2022-03-03T11:34:41.192Z"
   },
   {
    "duration": 89,
    "start_time": "2022-03-03T11:34:41.204Z"
   },
   {
    "duration": 118,
    "start_time": "2022-03-03T11:34:41.297Z"
   },
   {
    "duration": 138,
    "start_time": "2022-03-03T11:34:41.488Z"
   },
   {
    "duration": 7,
    "start_time": "2022-03-03T11:34:41.689Z"
   },
   {
    "duration": 95,
    "start_time": "2022-03-03T11:34:41.700Z"
   },
   {
    "duration": 11,
    "start_time": "2022-03-03T11:34:41.797Z"
   },
   {
    "duration": 7,
    "start_time": "2022-03-03T11:45:45.087Z"
   },
   {
    "duration": 36,
    "start_time": "2022-03-03T11:45:46.858Z"
   },
   {
    "duration": 98,
    "start_time": "2022-03-03T11:45:48.889Z"
   },
   {
    "duration": 40,
    "start_time": "2022-03-03T11:45:50.205Z"
   },
   {
    "duration": 4,
    "start_time": "2022-03-03T11:45:57.669Z"
   },
   {
    "duration": 3,
    "start_time": "2022-03-03T11:45:58.010Z"
   },
   {
    "duration": 4,
    "start_time": "2022-03-03T11:45:58.536Z"
   },
   {
    "duration": 604,
    "start_time": "2022-03-03T11:46:07.637Z"
   },
   {
    "duration": 554,
    "start_time": "2022-03-03T11:46:16.986Z"
   },
   {
    "duration": 429,
    "start_time": "2022-03-03T11:46:41.137Z"
   },
   {
    "duration": 464,
    "start_time": "2022-03-03T13:32:18.278Z"
   },
   {
    "duration": 6,
    "start_time": "2022-03-03T13:33:06.340Z"
   },
   {
    "duration": 37,
    "start_time": "2022-03-03T13:33:07.457Z"
   },
   {
    "duration": 32,
    "start_time": "2022-03-03T13:33:07.968Z"
   },
   {
    "duration": 32,
    "start_time": "2022-03-03T13:33:08.392Z"
   },
   {
    "duration": 4,
    "start_time": "2022-03-03T13:33:10.837Z"
   },
   {
    "duration": 4,
    "start_time": "2022-03-03T13:33:11.368Z"
   },
   {
    "duration": 5,
    "start_time": "2022-03-03T13:33:12.798Z"
   },
   {
    "duration": 457,
    "start_time": "2022-03-03T13:33:22.739Z"
   },
   {
    "duration": 454,
    "start_time": "2022-03-03T13:33:49.116Z"
   },
   {
    "duration": 460,
    "start_time": "2022-03-03T13:38:13.640Z"
   },
   {
    "duration": 497,
    "start_time": "2022-03-03T13:38:34.063Z"
   },
   {
    "duration": 423,
    "start_time": "2022-03-03T13:39:00.825Z"
   },
   {
    "duration": 8,
    "start_time": "2022-03-03T13:39:38.269Z"
   },
   {
    "duration": 466,
    "start_time": "2022-03-03T13:40:07.203Z"
   },
   {
    "duration": 491,
    "start_time": "2022-03-03T13:40:17.730Z"
   },
   {
    "duration": 1191,
    "start_time": "2022-03-03T13:42:11.725Z"
   },
   {
    "duration": 482,
    "start_time": "2022-03-03T13:42:31.507Z"
   },
   {
    "duration": 13,
    "start_time": "2022-03-03T13:43:08.346Z"
   },
   {
    "duration": 441,
    "start_time": "2022-03-03T13:51:25.562Z"
   },
   {
    "duration": 432,
    "start_time": "2022-03-03T13:51:42.256Z"
   },
   {
    "duration": 437,
    "start_time": "2022-03-03T13:51:56.561Z"
   },
   {
    "duration": 426,
    "start_time": "2022-03-03T13:52:13.821Z"
   },
   {
    "duration": 285,
    "start_time": "2022-03-03T13:53:18.845Z"
   },
   {
    "duration": 513,
    "start_time": "2022-03-03T13:53:27.275Z"
   },
   {
    "duration": 8,
    "start_time": "2022-03-03T13:53:45.341Z"
   },
   {
    "duration": 4,
    "start_time": "2022-03-03T14:01:33.877Z"
   },
   {
    "duration": 3,
    "start_time": "2022-03-03T14:01:34.336Z"
   },
   {
    "duration": 5,
    "start_time": "2022-03-03T14:01:34.882Z"
   },
   {
    "duration": 8,
    "start_time": "2022-03-03T14:04:44.687Z"
   },
   {
    "duration": 22,
    "start_time": "2022-03-03T14:05:16.328Z"
   },
   {
    "duration": 8,
    "start_time": "2022-03-03T14:05:26.058Z"
   },
   {
    "duration": 1310,
    "start_time": "2022-03-03T14:05:49.967Z"
   },
   {
    "duration": 8,
    "start_time": "2022-03-03T14:06:04.599Z"
   },
   {
    "duration": 1288,
    "start_time": "2022-03-05T15:48:36.444Z"
   },
   {
    "duration": 502,
    "start_time": "2022-03-05T15:48:37.735Z"
   },
   {
    "duration": 42,
    "start_time": "2022-03-05T15:48:38.240Z"
   },
   {
    "duration": 55,
    "start_time": "2022-03-05T15:48:38.285Z"
   },
   {
    "duration": 189,
    "start_time": "2022-03-05T15:48:38.343Z"
   },
   {
    "duration": 136,
    "start_time": "2022-03-05T15:48:38.535Z"
   },
   {
    "duration": 5,
    "start_time": "2022-03-05T15:48:38.673Z"
   },
   {
    "duration": 19,
    "start_time": "2022-03-05T15:48:38.682Z"
   },
   {
    "duration": 30,
    "start_time": "2022-03-05T15:48:38.704Z"
   },
   {
    "duration": 97,
    "start_time": "2022-03-05T15:48:38.736Z"
   },
   {
    "duration": 123,
    "start_time": "2022-03-05T15:48:38.837Z"
   },
   {
    "duration": 127,
    "start_time": "2022-03-05T15:48:39.034Z"
   },
   {
    "duration": 5,
    "start_time": "2022-03-05T15:48:39.235Z"
   },
   {
    "duration": 8,
    "start_time": "2022-03-05T15:48:39.333Z"
   },
   {
    "duration": 5,
    "start_time": "2022-03-05T15:48:39.344Z"
   },
   {
    "duration": 3730,
    "start_time": "2022-03-05T15:48:39.352Z"
   },
   {
    "duration": 8,
    "start_time": "2022-03-05T15:50:03.504Z"
   },
   {
    "duration": 6,
    "start_time": "2022-03-05T15:50:22.583Z"
   },
   {
    "duration": 8,
    "start_time": "2022-03-05T15:50:56.120Z"
   },
   {
    "duration": 551,
    "start_time": "2022-03-05T15:51:24.602Z"
   },
   {
    "duration": 8,
    "start_time": "2022-03-05T15:51:57.507Z"
   },
   {
    "duration": 715,
    "start_time": "2022-03-05T15:51:59.057Z"
   },
   {
    "duration": 9,
    "start_time": "2022-03-05T15:52:12.468Z"
   },
   {
    "duration": 10,
    "start_time": "2022-03-05T15:52:12.963Z"
   },
   {
    "duration": 9,
    "start_time": "2022-03-05T15:52:39.792Z"
   },
   {
    "duration": 9,
    "start_time": "2022-03-05T15:52:40.078Z"
   },
   {
    "duration": 10,
    "start_time": "2022-03-05T15:52:48.924Z"
   },
   {
    "duration": 7,
    "start_time": "2022-03-05T15:56:47.296Z"
   },
   {
    "duration": 7,
    "start_time": "2022-03-05T15:56:48.447Z"
   },
   {
    "duration": 2888,
    "start_time": "2022-03-05T15:57:24.862Z"
   },
   {
    "duration": 7,
    "start_time": "2022-03-05T15:57:38.752Z"
   },
   {
    "duration": 2405,
    "start_time": "2022-03-05T15:57:39.282Z"
   },
   {
    "duration": 2437,
    "start_time": "2022-03-05T15:58:15.446Z"
   },
   {
    "duration": 2452,
    "start_time": "2022-03-05T15:58:20.890Z"
   }
  ],
  "kernelspec": {
   "display_name": "Python 3 (ipykernel)",
   "language": "python",
   "name": "python3"
  },
  "language_info": {
   "codemirror_mode": {
    "name": "ipython",
    "version": 3
   },
   "file_extension": ".py",
   "mimetype": "text/x-python",
   "name": "python",
   "nbconvert_exporter": "python",
   "pygments_lexer": "ipython3",
   "version": "3.9.7"
  },
  "toc": {
   "base_numbering": 1,
   "nav_menu": {},
   "number_sections": true,
   "sideBar": true,
   "skip_h1_title": true,
   "title_cell": "Table of Contents",
   "title_sidebar": "Contents",
   "toc_cell": false,
   "toc_position": {},
   "toc_section_display": true,
   "toc_window_display": false
  }
 },
 "nbformat": 4,
 "nbformat_minor": 2
}
