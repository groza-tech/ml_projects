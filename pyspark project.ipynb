{
 "cells": [
  {
   "cell_type": "markdown",
   "id": "GEqQaHzsZ_bA",
   "metadata": {
    "id": "GEqQaHzsZ_bA"
   },
   "source": [
    "## Предсказание стоимости жилья\n",
    "\n",
    "В проекте вам нужно обучить модель линейной регрессии на данных о жилье в Калифорнии в 1990 году. На основе данных нужно предсказать медианную стоимость дома в жилом массиве. Обучите модель и сделайте предсказания на тестовой выборке. Для оценки качества модели используйте метрики RMSE, MAE и R2."
   ]
  },
  {
   "cell_type": "code",
   "execution_count": 5,
   "id": "88e95205",
   "metadata": {},
   "outputs": [],
   "source": [
    "import pandas as pd \n",
    "import numpy as np\n",
    "\n",
    "import pyspark\n",
    "from pyspark.sql import SparkSession\n",
    "from pyspark.sql.types import *\n",
    "import pyspark.sql.functions as F\n",
    "\n",
    "from pyspark.ml.feature import StringIndexer, VectorAssembler, StandardScaler\n",
    "from pyspark.ml.regression import LinearRegression\n",
    "from pyspark.mllib.evaluation import RegressionMetrics\n",
    "\n",
    "pyspark_version = pyspark.__version__\n",
    "if int(pyspark_version[:1]) == 3:\n",
    "    from pyspark.ml.feature import OneHotEncoder    \n",
    "elif int(pyspark_version[:1]) == 2:\n",
    "    from pyspark.ml.feature import OneHotEncodeEstimator\n",
    "        \n",
    "from pyspark.sql.functions import isnan, when, count, col\n",
    "RANDOM_SEED = 2022 "
   ]
  },
  {
   "cell_type": "code",
   "execution_count": 3,
   "id": "565727fe",
   "metadata": {},
   "outputs": [],
   "source": [
    "spark = SparkSession.builder \\\n",
    "                    .master(\"local\") \\\n",
    "                    .appName(\"Housing - Linear regression\") \\\n",
    "                    .getOrCreate()"
   ]
  },
  {
   "cell_type": "code",
   "execution_count": 71,
   "id": "a4ef2ef7",
   "metadata": {},
   "outputs": [],
   "source": [
    "df = spark.read.option('header', 'true').csv('/datasets/housing.csv', inferSchema = True) "
   ]
  },
  {
   "cell_type": "markdown",
   "id": "53871372",
   "metadata": {
    "id": "53871372"
   },
   "source": [
    "# Подготовка данных"
   ]
  },
  {
   "cell_type": "code",
   "execution_count": 6,
   "id": "df92e3ec",
   "metadata": {
    "id": "df92e3ec"
   },
   "outputs": [
    {
     "name": "stdout",
     "output_type": "stream",
     "text": [
      "root\n",
      " |-- longitude: double (nullable = true)\n",
      " |-- latitude: double (nullable = true)\n",
      " |-- housing_median_age: double (nullable = true)\n",
      " |-- total_rooms: double (nullable = true)\n",
      " |-- total_bedrooms: double (nullable = true)\n",
      " |-- population: double (nullable = true)\n",
      " |-- households: double (nullable = true)\n",
      " |-- median_income: double (nullable = true)\n",
      " |-- median_house_value: double (nullable = true)\n",
      " |-- ocean_proximity: string (nullable = true)\n",
      "\n"
     ]
    }
   ],
   "source": [
    "df.printSchema()"
   ]
  },
  {
   "cell_type": "code",
   "execution_count": 74,
   "id": "5c0c0c1a",
   "metadata": {},
   "outputs": [
    {
     "name": "stdout",
     "output_type": "stream",
     "text": [
      "+-------+-------------------+\n",
      "|summary|          longitude|\n",
      "+-------+-------------------+\n",
      "|  count|              20640|\n",
      "|   mean|-119.56970445736148|\n",
      "| stddev|  2.003531723502584|\n",
      "|    min|            -124.35|\n",
      "|    max|            -114.31|\n",
      "+-------+-------------------+\n",
      "\n",
      "+-------+-----------------+\n",
      "|summary|         latitude|\n",
      "+-------+-----------------+\n",
      "|  count|            20640|\n",
      "|   mean| 35.6318614341087|\n",
      "| stddev|2.135952397457101|\n",
      "|    min|            32.54|\n",
      "|    max|            41.95|\n",
      "+-------+-----------------+\n",
      "\n",
      "+-------+------------------+\n",
      "|summary|housing_median_age|\n",
      "+-------+------------------+\n",
      "|  count|             20640|\n",
      "|   mean|28.639486434108527|\n",
      "| stddev| 12.58555761211163|\n",
      "|    min|               1.0|\n",
      "|    max|              52.0|\n",
      "+-------+------------------+\n",
      "\n",
      "+-------+------------------+\n",
      "|summary|       total_rooms|\n",
      "+-------+------------------+\n",
      "|  count|             20640|\n",
      "|   mean|2635.7630813953488|\n",
      "| stddev|2181.6152515827944|\n",
      "|    min|               2.0|\n",
      "|    max|           39320.0|\n",
      "+-------+------------------+\n",
      "\n",
      "+-------+------------------+\n",
      "|summary|    total_bedrooms|\n",
      "+-------+------------------+\n",
      "|  count|             20433|\n",
      "|   mean| 537.8705525375618|\n",
      "| stddev|421.38507007403115|\n",
      "|    min|               1.0|\n",
      "|    max|            6445.0|\n",
      "+-------+------------------+\n",
      "\n",
      "+-------+------------------+\n",
      "|summary|        population|\n",
      "+-------+------------------+\n",
      "|  count|             20640|\n",
      "|   mean|1425.4767441860465|\n",
      "| stddev|  1132.46212176534|\n",
      "|    min|               3.0|\n",
      "|    max|           35682.0|\n",
      "+-------+------------------+\n",
      "\n",
      "+-------+-----------------+\n",
      "|summary|       households|\n",
      "+-------+-----------------+\n",
      "|  count|            20640|\n",
      "|   mean|499.5396802325581|\n",
      "| stddev|382.3297528316098|\n",
      "|    min|              1.0|\n",
      "|    max|           6082.0|\n",
      "+-------+-----------------+\n",
      "\n",
      "+-------+------------------+\n",
      "|summary|     median_income|\n",
      "+-------+------------------+\n",
      "|  count|             20640|\n",
      "|   mean|3.8706710029070246|\n",
      "| stddev| 1.899821717945263|\n",
      "|    min|            0.4999|\n",
      "|    max|           15.0001|\n",
      "+-------+------------------+\n",
      "\n",
      "+-------+------------------+\n",
      "|summary|median_house_value|\n",
      "+-------+------------------+\n",
      "|  count|             20640|\n",
      "|   mean|206855.81690891474|\n",
      "| stddev|115395.61587441359|\n",
      "|    min|           14999.0|\n",
      "|    max|          500001.0|\n",
      "+-------+------------------+\n",
      "\n",
      "+-------+---------------+\n",
      "|summary|ocean_proximity|\n",
      "+-------+---------------+\n",
      "|  count|          20640|\n",
      "|   mean|           null|\n",
      "| stddev|           null|\n",
      "|    min|      <1H OCEAN|\n",
      "|    max|     NEAR OCEAN|\n",
      "+-------+---------------+\n",
      "\n"
     ]
    }
   ],
   "source": [
    "for column in df.columns:\n",
    "    df.describe([column]).show()"
   ]
  },
  {
   "cell_type": "code",
   "execution_count": 7,
   "id": "564084e6",
   "metadata": {},
   "outputs": [
    {
     "name": "stderr",
     "output_type": "stream",
     "text": [
      "[Stage 4:>                                                          (0 + 1) / 1]\r"
     ]
    },
    {
     "name": "stdout",
     "output_type": "stream",
     "text": [
      "+---------+--------+------------------+-----------+--------------+----------+----------+-------------+------------------+---------------+\n",
      "|longitude|latitude|housing_median_age|total_rooms|total_bedrooms|population|households|median_income|median_house_value|ocean_proximity|\n",
      "+---------+--------+------------------+-----------+--------------+----------+----------+-------------+------------------+---------------+\n",
      "|        0|       0|                 0|          0|             0|         0|         0|            0|                 0|              0|\n",
      "+---------+--------+------------------+-----------+--------------+----------+----------+-------------+------------------+---------------+\n",
      "\n"
     ]
    },
    {
     "name": "stderr",
     "output_type": "stream",
     "text": [
      "                                                                                \r"
     ]
    }
   ],
   "source": [
    "df.select([count(when(isnan(c), c)).alias(c) for c in df.columns]).show()\n"
   ]
  },
  {
   "cell_type": "markdown",
   "id": "6988f026",
   "metadata": {},
   "source": [
    "Получается, что в данном датасете нет Nan значений "
   ]
  },
  {
   "cell_type": "code",
   "execution_count": 8,
   "id": "35842a01",
   "metadata": {},
   "outputs": [
    {
     "name": "stdout",
     "output_type": "stream",
     "text": [
      "+---------+--------+------------------+-----------+--------------+----------+----------+-------------+------------------+---------------+\n",
      "|longitude|latitude|housing_median_age|total_rooms|total_bedrooms|population|households|median_income|median_house_value|ocean_proximity|\n",
      "+---------+--------+------------------+-----------+--------------+----------+----------+-------------+------------------+---------------+\n",
      "|        0|       0|                 0|          0|           207|         0|         0|            0|                 0|              0|\n",
      "+---------+--------+------------------+-----------+--------------+----------+----------+-------------+------------------+---------------+\n",
      "\n"
     ]
    }
   ],
   "source": [
    "df.select([count(when(col(c).isNull(), c)).alias(c) for c in df.columns]).show()"
   ]
  },
  {
   "cell_type": "code",
   "execution_count": 9,
   "id": "592222d0",
   "metadata": {},
   "outputs": [
    {
     "name": "stdout",
     "output_type": "stream",
     "text": [
      "+---------+--------+------------------+-----------+--------------+----------+----------+-------------+------------------+---------------+\n",
      "|longitude|latitude|housing_median_age|total_rooms|total_bedrooms|population|households|median_income|median_house_value|ocean_proximity|\n",
      "+---------+--------+------------------+-----------+--------------+----------+----------+-------------+------------------+---------------+\n",
      "|        0|       0|                 0|          0|             0|         0|         0|            0|                 0|              0|\n",
      "+---------+--------+------------------+-----------+--------------+----------+----------+-------------+------------------+---------------+\n",
      "\n"
     ]
    }
   ],
   "source": [
    "df = df.withColumn('total_bedrooms', when(df['total_bedrooms'].isNull(), df['total_rooms'] * 0.2).otherwise(df['total_bedrooms']))\n",
    "df.select([count(when(col(c).isNull(), c)).alias(c) for c in df.columns]).show()"
   ]
  },
  {
   "cell_type": "code",
   "execution_count": 10,
   "id": "67394e29",
   "metadata": {},
   "outputs": [],
   "source": [
    "categorical_cols = ['ocean_proximity']\n",
    "numerical_cols  = [\"longitude\", \"latitude\", \"housing_median_age\", \n",
    "                   \"total_rooms\", \"total_bedrooms\", \"population\",\n",
    "                  \"households\", \"median_income\"]\n",
    "target = \"median_house_value\" "
   ]
  },
  {
   "cell_type": "markdown",
   "id": "c2e5fb1a",
   "metadata": {},
   "source": [
    "Соберем новый датасет из численных признаков"
   ]
  },
  {
   "cell_type": "code",
   "execution_count": 44,
   "id": "2fd5bf30",
   "metadata": {},
   "outputs": [],
   "source": [
    "numeric_df = df[numerical_cols]"
   ]
  },
  {
   "cell_type": "markdown",
   "id": "a85b4ef0",
   "metadata": {},
   "source": [
    "Трансформируем категориальные признаки с помощью трансформера StringIndexer"
   ]
  },
  {
   "cell_type": "code",
   "execution_count": 12,
   "id": "b348cbdb",
   "metadata": {},
   "outputs": [
    {
     "name": "stderr",
     "output_type": "stream",
     "text": [
      "                                                                                \r"
     ]
    }
   ],
   "source": [
    "indexer = StringIndexer(inputCol=\"ocean_proximity\", outputCol=\"ocean_proximity_index\")\n",
    "df = indexer.fit(df).transform(df)"
   ]
  },
  {
   "cell_type": "code",
   "execution_count": 21,
   "id": "25d46081",
   "metadata": {},
   "outputs": [
    {
     "name": "stderr",
     "output_type": "stream",
     "text": [
      "[Stage 21:============================================>           (60 + 1) / 75]\r"
     ]
    },
    {
     "name": "stdout",
     "output_type": "stream",
     "text": [
      "+---------------------+-----+\n",
      "|ocean_proximity_index|count|\n",
      "+---------------------+-----+\n",
      "|                  0.0| 9136|\n",
      "|                  1.0| 6551|\n",
      "|                  4.0|    5|\n",
      "|                  3.0| 2290|\n",
      "|                  2.0| 2658|\n",
      "+---------------------+-----+\n",
      "\n"
     ]
    },
    {
     "name": "stderr",
     "output_type": "stream",
     "text": [
      "                                                                                \r"
     ]
    }
   ],
   "source": [
    "df.groupBy('ocean_proximity_index').count().show()"
   ]
  },
  {
   "cell_type": "markdown",
   "id": "801e5411",
   "metadata": {},
   "source": [
    "Теперь можно создать OHE-кодирование для полученных категорий."
   ]
  },
  {
   "cell_type": "code",
   "execution_count": 22,
   "id": "7e4c5cba",
   "metadata": {},
   "outputs": [],
   "source": [
    "encoder = OneHotEncoder(inputCols= ['ocean_proximity_index'],\n",
    "                        outputCols=['ocean_proximity_index_ohe'])\n",
    "df = encoder.fit(df).transform(df)"
   ]
  },
  {
   "cell_type": "code",
   "execution_count": 23,
   "id": "e39982bf",
   "metadata": {},
   "outputs": [
    {
     "name": "stdout",
     "output_type": "stream",
     "text": [
      "root\n",
      " |-- longitude: double (nullable = true)\n",
      " |-- latitude: double (nullable = true)\n",
      " |-- housing_median_age: double (nullable = true)\n",
      " |-- total_rooms: double (nullable = true)\n",
      " |-- total_bedrooms: double (nullable = true)\n",
      " |-- population: double (nullable = true)\n",
      " |-- households: double (nullable = true)\n",
      " |-- median_income: double (nullable = true)\n",
      " |-- median_house_value: double (nullable = true)\n",
      " |-- ocean_proximity: string (nullable = true)\n",
      " |-- ocean_proximity_index: double (nullable = false)\n",
      " |-- ocean_proximity_index_ohe: vector (nullable = true)\n",
      "\n"
     ]
    }
   ],
   "source": [
    "df.printSchema()"
   ]
  },
  {
   "cell_type": "markdown",
   "id": "fa277f23",
   "metadata": {},
   "source": [
    "Удалим ненужные признаки"
   ]
  },
  {
   "cell_type": "code",
   "execution_count": 24,
   "id": "10f7ac87",
   "metadata": {},
   "outputs": [],
   "source": [
    "columns_to_drop = ['ocean_proximity', 'ocean_proximity_index']\n",
    "df = df.drop(*columns_to_drop)"
   ]
  },
  {
   "cell_type": "markdown",
   "id": "69e3c9ee",
   "metadata": {},
   "source": [
    "Векторизуем и стандартизируем числовые признаки"
   ]
  },
  {
   "cell_type": "code",
   "execution_count": 25,
   "id": "298a60b3",
   "metadata": {},
   "outputs": [],
   "source": [
    "numerical_assembler = VectorAssembler(inputCols=numerical_cols, outputCol=\"numerical_features\")\n",
    "df = numerical_assembler.transform(df)"
   ]
  },
  {
   "cell_type": "code",
   "execution_count": 26,
   "id": "4d02fd2e",
   "metadata": {},
   "outputs": [
    {
     "name": "stderr",
     "output_type": "stream",
     "text": [
      "                                                                                \r"
     ]
    }
   ],
   "source": [
    "standardScaler = StandardScaler(inputCol='numerical_features',\n",
    "                                                                outputCol=\"numerical_features_scaled\")\n",
    "df = standardScaler.fit(df).transform(df)"
   ]
  },
  {
   "cell_type": "code",
   "execution_count": 27,
   "id": "0c1db5fa",
   "metadata": {},
   "outputs": [
    {
     "name": "stdout",
     "output_type": "stream",
     "text": [
      "['longitude', 'latitude', 'housing_median_age', 'total_rooms', 'total_bedrooms', 'population', 'households', 'median_income', 'median_house_value', 'ocean_proximity_index_ohe', 'numerical_features', 'numerical_features_scaled']\n"
     ]
    }
   ],
   "source": [
    "print(df.columns)"
   ]
  },
  {
   "cell_type": "code",
   "execution_count": 28,
   "id": "5ad77529",
   "metadata": {},
   "outputs": [],
   "source": [
    "categorical_assembler = \\\n",
    "        VectorAssembler(inputCols=['ocean_proximity_index_ohe'],\n",
    "                                        outputCol=\"categorical_features\")\n",
    "df = categorical_assembler.transform(df) "
   ]
  },
  {
   "cell_type": "markdown",
   "id": "716ef4f7",
   "metadata": {},
   "source": [
    "Для обучения модели в будущем соберем все признаки в один и снова векторизуем"
   ]
  },
  {
   "cell_type": "code",
   "execution_count": 29,
   "id": "add7efa1",
   "metadata": {},
   "outputs": [
    {
     "name": "stdout",
     "output_type": "stream",
     "text": [
      "+--------------------+-------------------------+\n",
      "|categorical_features|numerical_features_scaled|\n",
      "+--------------------+-------------------------+\n",
      "|       (4,[3],[1.0])|     [-61.007269596069...|\n",
      "|       (4,[3],[1.0])|     [-61.002278409814...|\n",
      "|       (4,[3],[1.0])|     [-61.012260782324...|\n",
      "+--------------------+-------------------------+\n",
      "only showing top 3 rows\n",
      "\n"
     ]
    }
   ],
   "source": [
    "all_features = ['categorical_features','numerical_features_scaled']\n",
    "\n",
    "final_assembler = VectorAssembler(inputCols=all_features, \n",
    "                                  outputCol=\"features\") \n",
    "df = final_assembler.transform(df)\n",
    "\n",
    "df.select(all_features).show(3) "
   ]
  },
  {
   "cell_type": "code",
   "execution_count": 56,
   "id": "7d74b5da",
   "metadata": {},
   "outputs": [],
   "source": [
    "numeric_df = df[['numerical_features_scaled','median_house_value']]"
   ]
  },
  {
   "cell_type": "code",
   "execution_count": 57,
   "id": "90c57d04",
   "metadata": {},
   "outputs": [
    {
     "name": "stdout",
     "output_type": "stream",
     "text": [
      "+-------------------------+------------------+\n",
      "|numerical_features_scaled|median_house_value|\n",
      "+-------------------------+------------------+\n",
      "|     [-61.007269596069...|          452600.0|\n",
      "|     [-61.002278409814...|          358500.0|\n",
      "|     [-61.012260782324...|          352100.0|\n",
      "|     [-61.017251968579...|          341300.0|\n",
      "|     [-61.017251968579...|          342200.0|\n",
      "|     [-61.017251968579...|          269700.0|\n",
      "|     [-61.017251968579...|          299200.0|\n",
      "|     [-61.017251968579...|          241400.0|\n",
      "|     [-61.022243154834...|          226700.0|\n",
      "|     [-61.017251968579...|          261100.0|\n",
      "|     [-61.022243154834...|          281500.0|\n",
      "|     [-61.022243154834...|          241800.0|\n",
      "|     [-61.022243154834...|          213500.0|\n",
      "|     [-61.022243154834...|          191300.0|\n",
      "|     [-61.022243154834...|          159200.0|\n",
      "|     [-61.022243154834...|          140000.0|\n",
      "|     [-61.027234341089...|          152500.0|\n",
      "|     [-61.027234341089...|          155500.0|\n",
      "|     [-61.022243154834...|          158700.0|\n",
      "|     [-61.027234341089...|          162900.0|\n",
      "+-------------------------+------------------+\n",
      "only showing top 20 rows\n",
      "\n"
     ]
    }
   ],
   "source": [
    "numeric_df.show()"
   ]
  },
  {
   "cell_type": "markdown",
   "id": "9f0a82f3",
   "metadata": {
    "id": "9f0a82f3"
   },
   "source": [
    "# Обучение моделей"
   ]
  },
  {
   "cell_type": "markdown",
   "id": "423ef791",
   "metadata": {},
   "source": [
    "Разделим датасет на обучающие и тестовые выборки"
   ]
  },
  {
   "cell_type": "code",
   "execution_count": 35,
   "id": "64fd80b3",
   "metadata": {},
   "outputs": [
    {
     "name": "stderr",
     "output_type": "stream",
     "text": [
      "[Stage 29:>                                                         (0 + 1) / 1]\r"
     ]
    },
    {
     "name": "stdout",
     "output_type": "stream",
     "text": [
      "16418 4222\n"
     ]
    },
    {
     "name": "stderr",
     "output_type": "stream",
     "text": [
      "                                                                                \r"
     ]
    }
   ],
   "source": [
    "train_data, test_data = df.randomSplit([.8,.2], seed=RANDOM_SEED)\n",
    "print(train_data.count(), test_data.count())"
   ]
  },
  {
   "cell_type": "code",
   "execution_count": 58,
   "id": "2a4dc4e4",
   "metadata": {},
   "outputs": [
    {
     "name": "stderr",
     "output_type": "stream",
     "text": [
      "                                                                                \r"
     ]
    },
    {
     "name": "stdout",
     "output_type": "stream",
     "text": [
      "16418 4222\n"
     ]
    }
   ],
   "source": [
    "numeric_train_data, numeric_test_data = numeric_df.randomSplit([.8,.2], seed=RANDOM_SEED)\n",
    "print(numeric_train_data.count(), numeric_test_data.count())"
   ]
  },
  {
   "cell_type": "markdown",
   "id": "b1036462",
   "metadata": {},
   "source": [
    "Теперь иницируем и обучим модели для общего датасета и числового "
   ]
  },
  {
   "cell_type": "code",
   "execution_count": 39,
   "id": "ca5503e2",
   "metadata": {},
   "outputs": [],
   "source": [
    "lr = LinearRegression(labelCol=target, featuresCol='features')"
   ]
  },
  {
   "cell_type": "code",
   "execution_count": 40,
   "id": "eab9b60a",
   "metadata": {},
   "outputs": [
    {
     "name": "stderr",
     "output_type": "stream",
     "text": [
      "22/06/06 21:32:50 WARN Instrumentation: [37873356] regParam is zero, which might cause numerical instability and overfitting.\n",
      "22/06/06 21:32:51 WARN BLAS: Failed to load implementation from: com.github.fommil.netlib.NativeSystemBLAS\n",
      "22/06/06 21:32:51 WARN BLAS: Failed to load implementation from: com.github.fommil.netlib.NativeRefBLAS\n",
      "22/06/06 21:32:52 WARN LAPACK: Failed to load implementation from: com.github.fommil.netlib.NativeSystemLAPACK\n",
      "22/06/06 21:32:52 WARN LAPACK: Failed to load implementation from: com.github.fommil.netlib.NativeRefLAPACK\n",
      "22/06/06 21:32:52 WARN Instrumentation: [37873356] Cholesky solver failed due to singular covariance matrix. Retrying with Quasi-Newton solver.\n",
      "22/06/06 21:32:54 ERROR LBFGS: Failure! Resetting history: breeze.optimize.FirstOrderException: Line search zoom failed\n",
      "                                                                                \r"
     ]
    }
   ],
   "source": [
    "model = lr.fit(train_data)"
   ]
  },
  {
   "cell_type": "code",
   "execution_count": 59,
   "id": "a298b3a5",
   "metadata": {},
   "outputs": [],
   "source": [
    "numeric_lr = LinearRegression(labelCol=target, featuresCol='numerical_features_scaled')"
   ]
  },
  {
   "cell_type": "code",
   "execution_count": 60,
   "id": "1ea34938",
   "metadata": {},
   "outputs": [
    {
     "name": "stderr",
     "output_type": "stream",
     "text": [
      "22/06/06 21:43:55 WARN Instrumentation: [3cfdc765] regParam is zero, which might cause numerical instability and overfitting.\n",
      "                                                                                \r"
     ]
    }
   ],
   "source": [
    "numeric_model = numeric_lr.fit(numeric_train_data)"
   ]
  },
  {
   "cell_type": "markdown",
   "id": "757fd103",
   "metadata": {
    "id": "757fd103"
   },
   "source": [
    "# Анализ результатов"
   ]
  },
  {
   "cell_type": "code",
   "execution_count": 61,
   "id": "5eef17eb",
   "metadata": {},
   "outputs": [
    {
     "name": "stdout",
     "output_type": "stream",
     "text": [
      "+------------------+------------------+\n",
      "|median_house_value|        prediction|\n",
      "+------------------+------------------+\n",
      "|          103600.0| 152791.2402468701|\n",
      "|           50800.0|215668.98234039592|\n",
      "|           58100.0|143288.28411708027|\n",
      "|           68400.0| 132092.2624493139|\n",
      "|           72200.0|163042.00581792276|\n",
      "|           67000.0|154688.45326637244|\n",
      "|           81300.0|151650.22712867148|\n",
      "|           70500.0| 163065.2669858574|\n",
      "|           60000.0| 144079.0329603944|\n",
      "|          109400.0| 170363.0811676453|\n",
      "|           74100.0|151317.53441630676|\n",
      "|           74700.0|167066.84335186938|\n",
      "|           90000.0| 208699.3061046577|\n",
      "|          104200.0|199438.52662651055|\n",
      "|           74100.0|156257.78715729248|\n",
      "|           67500.0|147619.24190479936|\n",
      "|          103100.0| 47775.59587908862|\n",
      "|           92500.0|165487.87888506847|\n",
      "|          128100.0|221371.33085720055|\n",
      "|           99600.0| 186257.7123783962|\n",
      "+------------------+------------------+\n",
      "only showing top 20 rows\n",
      "\n"
     ]
    },
    {
     "name": "stderr",
     "output_type": "stream",
     "text": [
      "                                                                                \r"
     ]
    }
   ],
   "source": [
    "predictions = model.transform(test_data)\n",
    "\n",
    "predictedLabes = predictions.select(\"median_house_value\", \"prediction\")\n",
    "predictedLabes.show() "
   ]
  },
  {
   "cell_type": "code",
   "execution_count": 62,
   "id": "2eb54b7e",
   "metadata": {},
   "outputs": [
    {
     "name": "stderr",
     "output_type": "stream",
     "text": [
      "                                                                                \r"
     ]
    }
   ],
   "source": [
    "results = predictions.select([\"median_house_value\", \"prediction\"])\n",
    " \n",
    "## prepare score-label set\n",
    "results_collect = results.collect()\n",
    "results_list = [ (float(i[0]), float(i[1])) for i in results_collect]\n",
    "scoreAndLabels = spark.sparkContext.parallelize(results_list)"
   ]
  },
  {
   "cell_type": "code",
   "execution_count": 63,
   "id": "2b12c001",
   "metadata": {},
   "outputs": [
    {
     "name": "stderr",
     "output_type": "stream",
     "text": [
      "                                                                                \r"
     ]
    },
    {
     "name": "stdout",
     "output_type": "stream",
     "text": [
      "MSE =  4690473909.587973\n",
      "RMSE =  68487.03460939138\n",
      "R-squared =  0.44778824110748505\n"
     ]
    }
   ],
   "source": [
    "# Instantiate metrics object\n",
    "metrics = RegressionMetrics(scoreAndLabels)\n",
    "\n",
    "# Squared Error\n",
    "print(\"MSE = \", metrics.meanSquaredError)\n",
    "print(\"RMSE = \", metrics.rootMeanSquaredError)\n",
    "\n",
    "# R-squared\n",
    "print(\"R-squared = \", metrics.r2)"
   ]
  },
  {
   "cell_type": "code",
   "execution_count": 64,
   "id": "ba2bebc8",
   "metadata": {},
   "outputs": [
    {
     "name": "stdout",
     "output_type": "stream",
     "text": [
      "+------------------+------------------+\n",
      "|median_house_value|        prediction|\n",
      "+------------------+------------------+\n",
      "|          103600.0|101896.46677056747|\n",
      "|           50800.0|184434.60668721003|\n",
      "|           58100.0|110635.08713017311|\n",
      "|           68400.0|  80726.3918724223|\n",
      "|           72200.0|129197.00442492217|\n",
      "|           67000.0|121117.80250556301|\n",
      "|           81300.0|117145.66684774077|\n",
      "|           70500.0|129408.49222369958|\n",
      "|           60000.0|111917.55108316895|\n",
      "|          109400.0|117924.63941164035|\n",
      "|           74100.0| 118874.6584638399|\n",
      "|           74700.0|133893.89174431656|\n",
      "|           90000.0|175112.48979143891|\n",
      "|          104200.0| 165773.2110000332|\n",
      "|           74100.0|122401.84285740973|\n",
      "|           67500.0|113396.27866047854|\n",
      "|          103100.0|-7202.959182919469|\n",
      "|           92500.0| 139824.6806590967|\n",
      "|          128100.0| 190793.7435223218|\n",
      "|           99600.0|151974.29617243353|\n",
      "+------------------+------------------+\n",
      "only showing top 20 rows\n",
      "\n"
     ]
    }
   ],
   "source": [
    "numeric_predictions = numeric_model.transform(numeric_test_data)\n",
    "\n",
    "numeric_predictedLabes = numeric_predictions.select(\"median_house_value\", \"prediction\")\n",
    "numeric_predictedLabes.show() "
   ]
  },
  {
   "cell_type": "code",
   "execution_count": 65,
   "id": "786a7c7e",
   "metadata": {},
   "outputs": [],
   "source": [
    "numeric_results = numeric_predictions.select([\"median_house_value\", \"prediction\"])\n",
    " \n",
    "## prepare score-label set\n",
    "numeric_results_collect = numeric_results.collect()\n",
    "numeric_results_list = [ (float(i[0]), float(i[1])) for i in numeric_results_collect]\n",
    "numeric_scoreAndLabels = spark.sparkContext.parallelize(numeric_results_list)"
   ]
  },
  {
   "cell_type": "code",
   "execution_count": 66,
   "id": "21fb6bab",
   "metadata": {},
   "outputs": [
    {
     "name": "stdout",
     "output_type": "stream",
     "text": [
      "MSE =  4791411332.064669\n",
      "RMSE =  69220.02117931393\n",
      "R-squared =  0.42590728351452134\n"
     ]
    }
   ],
   "source": [
    "# Instantiate metrics object\n",
    "numeric_metrics = RegressionMetrics(numeric_scoreAndLabels)\n",
    "\n",
    "# Squared Error\n",
    "print(\"MSE = \", numeric_metrics.meanSquaredError)\n",
    "print(\"RMSE = \", numeric_metrics.rootMeanSquaredError)\n",
    "\n",
    "# R-squared\n",
    "print(\"R-squared = \", numeric_metrics.r2)"
   ]
  },
  {
   "cell_type": "markdown",
   "id": "406f1b67",
   "metadata": {},
   "source": [
    "# Вывод "
   ]
  },
  {
   "cell_type": "markdown",
   "id": "52457cbb",
   "metadata": {},
   "source": [
    "Из приведенного выше анализа результатов можно сделать вывод, что модель обученная на исключительно на числовых признаках показывает  результаты хуже, чем модель с числовыми и категориальными признаками"
   ]
  },
  {
   "cell_type": "code",
   "execution_count": 76,
   "id": "40cdaa3f",
   "metadata": {},
   "outputs": [],
   "source": [
    " spark.stop()"
   ]
  }
 ],
 "metadata": {
  "ExecuteTimeLog": [
   {
    "duration": 28623,
    "start_time": "2022-06-04T21:26:42.994Z"
   },
   {
    "duration": 94,
    "start_time": "2022-06-04T21:31:33.612Z"
   },
   {
    "duration": 1005,
    "start_time": "2022-06-04T21:32:00.985Z"
   },
   {
    "duration": 53,
    "start_time": "2022-06-04T21:33:42.926Z"
   },
   {
    "duration": 6,
    "start_time": "2022-06-04T21:35:09.002Z"
   },
   {
    "duration": 2076,
    "start_time": "2022-06-04T21:38:02.493Z"
   },
   {
    "duration": 1170,
    "start_time": "2022-06-04T21:38:41.935Z"
   },
   {
    "duration": 9,
    "start_time": "2022-06-04T21:43:00.460Z"
   },
   {
    "duration": 817,
    "start_time": "2022-06-04T21:43:10.475Z"
   },
   {
    "duration": 2981,
    "start_time": "2022-06-04T21:43:56.485Z"
   },
   {
    "duration": 593,
    "start_time": "2022-06-04T21:44:39.372Z"
   },
   {
    "duration": 15,
    "start_time": "2022-06-04T21:49:28.716Z"
   },
   {
    "duration": 37,
    "start_time": "2022-06-04T21:49:45.916Z"
   },
   {
    "duration": 22,
    "start_time": "2022-06-04T21:49:58.138Z"
   },
   {
    "duration": 18,
    "start_time": "2022-06-04T21:54:47.396Z"
   },
   {
    "duration": 821,
    "start_time": "2022-06-04T21:55:14.252Z"
   },
   {
    "duration": 3,
    "start_time": "2022-06-04T22:00:24.119Z"
   },
   {
    "duration": 110,
    "start_time": "2022-06-04T22:00:25.519Z"
   },
   {
    "duration": 18,
    "start_time": "2022-06-04T22:02:34.482Z"
   },
   {
    "duration": 17,
    "start_time": "2022-06-04T22:03:52.274Z"
   },
   {
    "duration": 25,
    "start_time": "2022-06-04T22:03:58.844Z"
   },
   {
    "duration": 1862,
    "start_time": "2022-06-04T22:06:02.429Z"
   },
   {
    "duration": 493,
    "start_time": "2022-06-04T22:06:31.884Z"
   },
   {
    "duration": 917,
    "start_time": "2022-06-04T22:07:35.382Z"
   },
   {
    "duration": 722,
    "start_time": "2022-06-04T22:07:47.054Z"
   },
   {
    "duration": 579,
    "start_time": "2022-06-04T22:07:53.316Z"
   },
   {
    "duration": 545,
    "start_time": "2022-06-04T22:08:08.175Z"
   },
   {
    "duration": 492,
    "start_time": "2022-06-04T22:08:49.076Z"
   },
   {
    "duration": 647,
    "start_time": "2022-06-04T22:09:10.554Z"
   },
   {
    "duration": 18,
    "start_time": "2022-06-04T22:11:19.777Z"
   },
   {
    "duration": 523,
    "start_time": "2022-06-04T22:11:32.078Z"
   },
   {
    "duration": 29,
    "start_time": "2022-06-04T22:11:50.234Z"
   },
   {
    "duration": 4,
    "start_time": "2022-06-04T22:12:29.057Z"
   },
   {
    "duration": 223,
    "start_time": "2022-06-04T22:14:38.658Z"
   },
   {
    "duration": 4,
    "start_time": "2022-06-04T22:14:52.347Z"
   },
   {
    "duration": 11,
    "start_time": "2022-06-04T22:15:58.297Z"
   },
   {
    "duration": 20,
    "start_time": "2022-06-04T22:19:42.399Z"
   },
   {
    "duration": 3,
    "start_time": "2022-06-04T22:19:59.440Z"
   },
   {
    "duration": 33,
    "start_time": "2022-06-04T22:20:58.524Z"
   },
   {
    "duration": 1877,
    "start_time": "2022-06-04T22:21:06.994Z"
   },
   {
    "duration": 999,
    "start_time": "2022-06-04T22:21:12.891Z"
   },
   {
    "duration": 48,
    "start_time": "2022-06-04T22:22:43.024Z"
   },
   {
    "duration": 969,
    "start_time": "2022-06-04T22:22:58.005Z"
   },
   {
    "duration": 9,
    "start_time": "2022-06-04T22:23:14.430Z"
   },
   {
    "duration": 17,
    "start_time": "2022-06-04T22:24:33.890Z"
   },
   {
    "duration": 20,
    "start_time": "2022-06-04T22:24:44.120Z"
   },
   {
    "duration": 400,
    "start_time": "2022-06-04T22:25:10.086Z"
   },
   {
    "duration": 3,
    "start_time": "2022-06-04T22:25:38.406Z"
   },
   {
    "duration": 9,
    "start_time": "2022-06-04T22:25:45.102Z"
   },
   {
    "duration": 11,
    "start_time": "2022-06-04T22:26:46.489Z"
   },
   {
    "duration": 2348,
    "start_time": "2022-06-04T22:26:59.831Z"
   },
   {
    "duration": 10,
    "start_time": "2022-06-04T22:27:09.190Z"
   },
   {
    "duration": 10,
    "start_time": "2022-06-04T22:27:58.300Z"
   },
   {
    "duration": 1198,
    "start_time": "2022-06-04T22:28:00.994Z"
   },
   {
    "duration": 231,
    "start_time": "2022-06-04T22:29:06.810Z"
   },
   {
    "duration": 20,
    "start_time": "2022-06-04T22:29:26.689Z"
   },
   {
    "duration": 21,
    "start_time": "2022-06-04T22:30:07.899Z"
   },
   {
    "duration": 10,
    "start_time": "2022-06-04T22:30:32.047Z"
   },
   {
    "duration": 1530,
    "start_time": "2022-06-04T22:30:36.044Z"
   },
   {
    "duration": 64,
    "start_time": "2022-06-04T22:30:48.119Z"
   },
   {
    "duration": 57,
    "start_time": "2022-06-04T22:31:40.088Z"
   },
   {
    "duration": 1726,
    "start_time": "2022-06-04T22:32:30.461Z"
   },
   {
    "duration": 25647,
    "start_time": "2022-06-05T12:45:48.247Z"
   },
   {
    "duration": 19,
    "start_time": "2022-06-05T12:46:20.496Z"
   },
   {
    "duration": 2881,
    "start_time": "2022-06-05T12:46:22.380Z"
   },
   {
    "duration": 1101,
    "start_time": "2022-06-05T12:46:33.958Z"
   },
   {
    "duration": 1213,
    "start_time": "2022-06-05T12:46:51.055Z"
   },
   {
    "duration": 3,
    "start_time": "2022-06-05T12:46:52.506Z"
   },
   {
    "duration": 1660,
    "start_time": "2022-06-05T12:46:56.108Z"
   },
   {
    "duration": 1685,
    "start_time": "2022-06-05T12:47:00.075Z"
   },
   {
    "duration": 201,
    "start_time": "2022-06-05T12:47:05.793Z"
   },
   {
    "duration": 4,
    "start_time": "2022-06-05T12:47:11.216Z"
   },
   {
    "duration": 16,
    "start_time": "2022-06-05T12:47:13.589Z"
   },
   {
    "duration": 94,
    "start_time": "2022-06-05T12:47:53.774Z"
   },
   {
    "duration": 1575,
    "start_time": "2022-06-05T12:47:54.982Z"
   },
   {
    "duration": 8,
    "start_time": "2022-06-05T12:47:58.017Z"
   },
   {
    "duration": 24,
    "start_time": "2022-06-05T12:47:58.825Z"
   },
   {
    "duration": 510,
    "start_time": "2022-06-05T12:48:00.159Z"
   },
   {
    "duration": 37,
    "start_time": "2022-06-05T12:48:05.777Z"
   },
   {
    "duration": 11,
    "start_time": "2022-06-05T12:48:21.785Z"
   },
   {
    "duration": 2854,
    "start_time": "2022-06-05T12:48:32.298Z"
   },
   {
    "duration": 1475,
    "start_time": "2022-06-05T12:48:37.620Z"
   },
   {
    "duration": 81,
    "start_time": "2022-06-05T12:49:19.275Z"
   },
   {
    "duration": 8,
    "start_time": "2022-06-05T12:49:34.625Z"
   },
   {
    "duration": 42,
    "start_time": "2022-06-05T12:49:57.417Z"
   },
   {
    "duration": 66,
    "start_time": "2022-06-05T12:50:01.397Z"
   },
   {
    "duration": 16,
    "start_time": "2022-06-05T12:50:37.679Z"
   },
   {
    "duration": 62,
    "start_time": "2022-06-05T12:50:40.180Z"
   },
   {
    "duration": 4228,
    "start_time": "2022-06-05T12:51:18.628Z"
   },
   {
    "duration": 20,
    "start_time": "2022-06-05T12:52:20.013Z"
   },
   {
    "duration": 80,
    "start_time": "2022-06-05T12:53:07.295Z"
   },
   {
    "duration": 18,
    "start_time": "2022-06-05T12:53:37.973Z"
   },
   {
    "duration": 29,
    "start_time": "2022-06-05T12:53:50.377Z"
   },
   {
    "duration": 55,
    "start_time": "2022-06-05T12:54:08.200Z"
   },
   {
    "duration": 554,
    "start_time": "2022-06-05T12:54:22.004Z"
   },
   {
    "duration": 135,
    "start_time": "2022-06-05T12:55:22.696Z"
   },
   {
    "duration": 95,
    "start_time": "2022-06-05T12:55:51.887Z"
   },
   {
    "duration": 5,
    "start_time": "2022-06-05T12:56:12.597Z"
   },
   {
    "duration": 6,
    "start_time": "2022-06-05T12:56:42.451Z"
   },
   {
    "duration": 138,
    "start_time": "2022-06-05T12:56:45.212Z"
   },
   {
    "duration": 62,
    "start_time": "2022-06-05T12:59:02.727Z"
   },
   {
    "duration": 7,
    "start_time": "2022-06-05T12:59:31.007Z"
   },
   {
    "duration": 4,
    "start_time": "2022-06-05T12:59:55.784Z"
   },
   {
    "duration": 20,
    "start_time": "2022-06-05T13:00:02.354Z"
   },
   {
    "duration": 2938,
    "start_time": "2022-06-05T13:00:36.788Z"
   },
   {
    "duration": 8,
    "start_time": "2022-06-05T13:01:16.221Z"
   },
   {
    "duration": 25,
    "start_time": "2022-06-05T13:01:25.244Z"
   },
   {
    "duration": 2173,
    "start_time": "2022-06-05T13:01:49.559Z"
   },
   {
    "duration": 1412,
    "start_time": "2022-06-05T13:02:13.743Z"
   },
   {
    "duration": 1565,
    "start_time": "2022-06-05T13:02:21.087Z"
   },
   {
    "duration": 9,
    "start_time": "2022-06-05T13:02:32.645Z"
   },
   {
    "duration": 9,
    "start_time": "2022-06-05T13:02:57.449Z"
   },
   {
    "duration": 75,
    "start_time": "2022-06-05T13:03:21.581Z"
   },
   {
    "duration": 35,
    "start_time": "2022-06-05T13:05:46.147Z"
   },
   {
    "duration": 9,
    "start_time": "2022-06-05T13:06:30.072Z"
   },
   {
    "duration": 3,
    "start_time": "2022-06-05T13:07:01.735Z"
   },
   {
    "duration": 21,
    "start_time": "2022-06-05T13:07:10.151Z"
   },
   {
    "duration": 27,
    "start_time": "2022-06-05T13:07:17.495Z"
   },
   {
    "duration": 575,
    "start_time": "2022-06-05T13:07:18.388Z"
   },
   {
    "duration": 5,
    "start_time": "2022-06-05T13:07:21.088Z"
   },
   {
    "duration": 5,
    "start_time": "2022-06-05T13:07:22.815Z"
   },
   {
    "duration": 20,
    "start_time": "2022-06-05T13:07:25.017Z"
   },
   {
    "duration": 1778,
    "start_time": "2022-06-05T13:07:29.475Z"
   },
   {
    "duration": 8,
    "start_time": "2022-06-05T13:07:39.011Z"
   },
   {
    "duration": 74,
    "start_time": "2022-06-05T13:07:42.381Z"
   },
   {
    "duration": 1341,
    "start_time": "2022-06-05T13:07:51.247Z"
   },
   {
    "duration": 7,
    "start_time": "2022-06-05T13:07:55.901Z"
   },
   {
    "duration": 2207,
    "start_time": "2022-06-05T13:08:02.149Z"
   },
   {
    "duration": 874,
    "start_time": "2022-06-05T13:11:37.379Z"
   },
   {
    "duration": 956,
    "start_time": "2022-06-05T13:18:31.928Z"
   },
   {
    "duration": 10,
    "start_time": "2022-06-05T13:19:21.748Z"
   },
   {
    "duration": 14,
    "start_time": "2022-06-05T13:20:52.174Z"
   },
   {
    "duration": 10,
    "start_time": "2022-06-05T13:21:07.408Z"
   },
   {
    "duration": 11,
    "start_time": "2022-06-05T13:22:18.700Z"
   },
   {
    "duration": 8,
    "start_time": "2022-06-05T14:15:26.982Z"
   },
   {
    "duration": 115,
    "start_time": "2022-06-05T14:17:54.350Z"
   },
   {
    "duration": 693,
    "start_time": "2022-06-05T14:18:09.543Z"
   },
   {
    "duration": 17,
    "start_time": "2022-06-05T14:18:18.575Z"
   },
   {
    "duration": 593,
    "start_time": "2022-06-05T14:20:03.192Z"
   },
   {
    "duration": 1162,
    "start_time": "2022-06-05T14:20:11.792Z"
   },
   {
    "duration": 61,
    "start_time": "2022-06-05T14:22:36.054Z"
   },
   {
    "duration": 53,
    "start_time": "2022-06-05T14:23:03.821Z"
   },
   {
    "duration": 652,
    "start_time": "2022-06-05T14:23:17.138Z"
   },
   {
    "duration": 579,
    "start_time": "2022-06-05T14:24:03.291Z"
   },
   {
    "duration": 281,
    "start_time": "2022-06-05T14:24:33.099Z"
   },
   {
    "duration": 32677,
    "start_time": "2022-06-06T20:22:51.495Z"
   },
   {
    "duration": 78,
    "start_time": "2022-06-06T20:23:24.174Z"
   },
   {
    "duration": 2602,
    "start_time": "2022-06-06T20:23:24.254Z"
   },
   {
    "duration": 1377,
    "start_time": "2022-06-06T20:23:26.859Z"
   },
   {
    "duration": 1390,
    "start_time": "2022-06-06T20:23:28.238Z"
   },
   {
    "duration": 11,
    "start_time": "2022-06-06T20:23:29.633Z"
   },
   {
    "duration": 2497,
    "start_time": "2022-06-06T20:23:29.648Z"
   },
   {
    "duration": 1987,
    "start_time": "2022-06-06T20:23:32.147Z"
   },
   {
    "duration": 532,
    "start_time": "2022-06-06T20:23:34.136Z"
   },
   {
    "duration": 5,
    "start_time": "2022-06-06T20:23:34.736Z"
   },
   {
    "duration": 106,
    "start_time": "2022-06-06T20:23:34.742Z"
   },
   {
    "duration": 392,
    "start_time": "2022-06-06T20:23:34.849Z"
   },
   {
    "duration": 1789,
    "start_time": "2022-06-06T20:23:35.242Z"
   },
   {
    "duration": 12,
    "start_time": "2022-06-06T20:23:37.036Z"
   },
   {
    "duration": 85,
    "start_time": "2022-06-06T20:23:37.054Z"
   },
   {
    "duration": 584,
    "start_time": "2022-06-06T20:23:37.143Z"
   },
   {
    "duration": 102,
    "start_time": "2022-06-06T20:23:37.729Z"
   },
   {
    "duration": 32,
    "start_time": "2022-06-06T20:23:37.833Z"
   },
   {
    "duration": 877,
    "start_time": "2022-06-06T20:23:37.868Z"
   },
   {
    "duration": 5,
    "start_time": "2022-06-06T20:23:38.748Z"
   },
   {
    "duration": 76,
    "start_time": "2022-06-06T20:23:38.755Z"
   },
   {
    "duration": 35,
    "start_time": "2022-06-06T20:23:38.833Z"
   },
   {
    "duration": 3701,
    "start_time": "2022-06-06T20:23:38.870Z"
   },
   {
    "duration": 3658,
    "start_time": "2022-06-06T20:23:42.573Z"
   },
   {
    "duration": 2019,
    "start_time": "2022-06-06T20:23:46.234Z"
   },
   {
    "duration": 217,
    "start_time": "2022-06-06T20:23:48.255Z"
   },
   {
    "duration": 6371,
    "start_time": "2022-06-06T20:23:48.475Z"
   },
   {
    "duration": 10,
    "start_time": "2022-06-06T20:23:54.850Z"
   },
   {
    "duration": 2928,
    "start_time": "2022-06-06T20:23:54.866Z"
   },
   {
    "duration": 1000,
    "start_time": "2022-06-06T20:23:57.797Z"
   },
   {
    "duration": 1090,
    "start_time": "2022-06-06T20:23:58.799Z"
   },
   {
    "duration": 1558,
    "start_time": "2022-06-06T20:23:59.891Z"
   },
   {
    "duration": 990,
    "start_time": "2022-06-06T20:24:01.450Z"
   },
   {
    "duration": 900,
    "start_time": "2022-06-06T20:24:02.445Z"
   },
   {
    "duration": 481,
    "start_time": "2022-06-06T20:24:03.347Z"
   },
   {
    "duration": 774,
    "start_time": "2022-06-06T20:38:11.632Z"
   },
   {
    "duration": 136,
    "start_time": "2022-06-06T20:38:30.614Z"
   },
   {
    "duration": 392,
    "start_time": "2022-06-06T20:38:46.251Z"
   },
   {
    "duration": 6081,
    "start_time": "2022-06-06T20:39:19.295Z"
   },
   {
    "duration": 34834,
    "start_time": "2022-06-06T21:16:56.762Z"
   },
   {
    "duration": 9,
    "start_time": "2022-06-06T21:18:26.898Z"
   },
   {
    "duration": 4,
    "start_time": "2022-06-06T21:18:29.066Z"
   },
   {
    "duration": 1259,
    "start_time": "2022-06-06T21:18:34.611Z"
   },
   {
    "duration": 8,
    "start_time": "2022-06-06T21:19:35.980Z"
   },
   {
    "duration": 27,
    "start_time": "2022-06-06T21:19:50.111Z"
   },
   {
    "duration": 2590,
    "start_time": "2022-06-06T21:19:54.390Z"
   },
   {
    "duration": 1260,
    "start_time": "2022-06-06T21:22:00.525Z"
   },
   {
    "duration": 1326,
    "start_time": "2022-06-06T21:22:01.789Z"
   },
   {
    "duration": 2,
    "start_time": "2022-06-06T21:22:56.236Z"
   },
   {
    "duration": 34,
    "start_time": "2022-06-06T21:23:34.808Z"
   },
   {
    "duration": 1941,
    "start_time": "2022-06-06T21:23:40.541Z"
   },
   {
    "duration": 142,
    "start_time": "2022-06-06T21:24:09.462Z"
   },
   {
    "duration": 28,
    "start_time": "2022-06-06T21:24:29.236Z"
   },
   {
    "duration": 33,
    "start_time": "2022-06-06T21:26:02.456Z"
   },
   {
    "duration": 16,
    "start_time": "2022-06-06T21:26:19.159Z"
   },
   {
    "duration": 19,
    "start_time": "2022-06-06T21:26:33.792Z"
   },
   {
    "duration": 31,
    "start_time": "2022-06-06T21:27:20.631Z"
   },
   {
    "duration": 21,
    "start_time": "2022-06-06T21:27:30.011Z"
   },
   {
    "duration": 26,
    "start_time": "2022-06-06T21:27:41.644Z"
   },
   {
    "duration": 7785,
    "start_time": "2022-06-06T21:28:23.691Z"
   },
   {
    "duration": 379,
    "start_time": "2022-06-06T21:29:02.991Z"
   },
   {
    "duration": 4,
    "start_time": "2022-06-06T21:29:06.559Z"
   },
   {
    "duration": 20,
    "start_time": "2022-06-06T21:29:09.960Z"
   },
   {
    "duration": 78,
    "start_time": "2022-06-06T21:29:12.208Z"
   },
   {
    "duration": 1904,
    "start_time": "2022-06-06T21:29:23.907Z"
   },
   {
    "duration": 10,
    "start_time": "2022-06-06T21:29:51.104Z"
   },
   {
    "duration": 32,
    "start_time": "2022-06-06T21:29:55.805Z"
   },
   {
    "duration": 667,
    "start_time": "2022-06-06T21:29:56.731Z"
   },
   {
    "duration": 28,
    "start_time": "2022-06-06T21:30:04.927Z"
   },
   {
    "duration": 989,
    "start_time": "2022-06-06T21:30:06.707Z"
   },
   {
    "duration": 7,
    "start_time": "2022-06-06T21:30:18.329Z"
   },
   {
    "duration": 6,
    "start_time": "2022-06-06T21:30:19.690Z"
   },
   {
    "duration": 4,
    "start_time": "2022-06-06T21:32:14.245Z"
   },
   {
    "duration": 4365,
    "start_time": "2022-06-06T21:32:17.602Z"
   },
   {
    "duration": 14,
    "start_time": "2022-06-06T21:32:24.302Z"
   },
   {
    "duration": 12,
    "start_time": "2022-06-06T21:32:30.120Z"
   },
   {
    "duration": 2180,
    "start_time": "2022-06-06T21:32:31.897Z"
   },
   {
    "duration": 202,
    "start_time": "2022-06-06T21:32:40.112Z"
   },
   {
    "duration": 7145,
    "start_time": "2022-06-06T21:32:49.647Z"
   },
   {
    "duration": 31,
    "start_time": "2022-06-06T21:33:12.985Z"
   },
   {
    "duration": 12,
    "start_time": "2022-06-06T21:33:19.349Z"
   },
   {
    "duration": 102,
    "start_time": "2022-06-06T21:33:24.252Z"
   },
   {
    "duration": 31,
    "start_time": "2022-06-06T21:36:29.831Z"
   },
   {
    "duration": 34,
    "start_time": "2022-06-06T21:37:18.591Z"
   },
   {
    "duration": 721,
    "start_time": "2022-06-06T21:37:21.374Z"
   },
   {
    "duration": 8,
    "start_time": "2022-06-06T21:37:23.881Z"
   },
   {
    "duration": 11,
    "start_time": "2022-06-06T21:37:47.133Z"
   },
   {
    "duration": 2976,
    "start_time": "2022-06-06T21:37:53.743Z"
   },
   {
    "duration": 400,
    "start_time": "2022-06-06T21:38:03.685Z"
   },
   {
    "duration": 27,
    "start_time": "2022-06-06T21:38:21.668Z"
   },
   {
    "duration": 87,
    "start_time": "2022-06-06T21:38:24.335Z"
   },
   {
    "duration": 1498,
    "start_time": "2022-06-06T21:41:40.410Z"
   },
   {
    "duration": 87,
    "start_time": "2022-06-06T21:41:47.883Z"
   },
   {
    "duration": 19,
    "start_time": "2022-06-06T21:42:47.039Z"
   },
   {
    "duration": 19,
    "start_time": "2022-06-06T21:43:14.694Z"
   },
   {
    "duration": 301,
    "start_time": "2022-06-06T21:43:20.119Z"
   },
   {
    "duration": 1840,
    "start_time": "2022-06-06T21:43:25.627Z"
   },
   {
    "duration": 10,
    "start_time": "2022-06-06T21:43:53.431Z"
   },
   {
    "duration": 2772,
    "start_time": "2022-06-06T21:43:54.796Z"
   },
   {
    "duration": 979,
    "start_time": "2022-06-06T21:44:02.741Z"
   },
   {
    "duration": 1101,
    "start_time": "2022-06-06T21:44:08.192Z"
   },
   {
    "duration": 1421,
    "start_time": "2022-06-06T21:44:12.256Z"
   },
   {
    "duration": 627,
    "start_time": "2022-06-06T21:44:20.398Z"
   },
   {
    "duration": 625,
    "start_time": "2022-06-06T21:44:23.859Z"
   },
   {
    "duration": 261,
    "start_time": "2022-06-06T21:44:27.544Z"
   },
   {
    "duration": 638,
    "start_time": "2022-06-06T21:46:46.450Z"
   },
   {
    "duration": 2454,
    "start_time": "2022-06-06T21:46:58.849Z"
   },
   {
    "duration": 1504,
    "start_time": "2022-06-06T21:47:20.808Z"
   },
   {
    "duration": 1306,
    "start_time": "2022-06-06T21:48:45.964Z"
   },
   {
    "duration": 390,
    "start_time": "2022-06-06T21:49:05.704Z"
   },
   {
    "duration": 995,
    "start_time": "2022-06-06T21:49:10.682Z"
   },
   {
    "duration": 1280,
    "start_time": "2022-06-06T21:50:52.124Z"
   },
   {
    "duration": 4235,
    "start_time": "2022-06-06T21:51:28.353Z"
   },
   {
    "duration": 46,
    "start_time": "2022-06-06T21:53:50.649Z"
   },
   {
    "duration": 1100,
    "start_time": "2022-06-06T21:58:45.652Z"
   }
  ],
  "colab": {
   "name": "PySparkSprint.ipynb",
   "provenance": []
  },
  "kernelspec": {
   "display_name": "Python 3 (ipykernel)",
   "language": "python",
   "name": "python3"
  },
  "language_info": {
   "codemirror_mode": {
    "name": "ipython",
    "version": 3
   },
   "file_extension": ".py",
   "mimetype": "text/x-python",
   "name": "python",
   "nbconvert_exporter": "python",
   "pygments_lexer": "ipython3",
   "version": "3.9.5"
  },
  "toc": {
   "base_numbering": 1,
   "nav_menu": {},
   "number_sections": true,
   "sideBar": true,
   "skip_h1_title": true,
   "title_cell": "Table of Contents",
   "title_sidebar": "Contents",
   "toc_cell": false,
   "toc_position": {},
   "toc_section_display": true,
   "toc_window_display": false
  }
 },
 "nbformat": 4,
 "nbformat_minor": 5
}
