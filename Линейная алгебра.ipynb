{
 "cells": [
  {
   "cell_type": "markdown",
   "metadata": {
    "toc": true
   },
   "source": [
    "<h1>Содержание<span class=\"tocSkip\"></span></h1>\n",
    "<div class=\"toc\"><ul class=\"toc-item\"><li><span><a href=\"#Загрузка-данных\" data-toc-modified-id=\"Загрузка-данных-1\"><span class=\"toc-item-num\">1&nbsp;&nbsp;</span>Загрузка данных</a></span></li><li><span><a href=\"#Умножение-матриц\" data-toc-modified-id=\"Умножение-матриц-2\"><span class=\"toc-item-num\">2&nbsp;&nbsp;</span>Умножение матриц</a></span><ul class=\"toc-item\"><li><span><a href=\"#Проверим-R2-на-искомых-данных\" data-toc-modified-id=\"Проверим-R2-на-искомых-данных-2.1\"><span class=\"toc-item-num\">2.1&nbsp;&nbsp;</span>Проверим R2 на искомых данных</a></span></li><li><span><a href=\"#Проверим-вектор-весов-после-изменения\" data-toc-modified-id=\"Проверим-вектор-весов-после-изменения-2.2\"><span class=\"toc-item-num\">2.2&nbsp;&nbsp;</span>Проверим вектор весов после изменения</a></span></li></ul></li><li><span><a href=\"#Алгоритм-преобразования\" data-toc-modified-id=\"Алгоритм-преобразования-3\"><span class=\"toc-item-num\">3&nbsp;&nbsp;</span>Алгоритм преобразования</a></span></li><li><span><a href=\"#Проверка-алгоритма\" data-toc-modified-id=\"Проверка-алгоритма-4\"><span class=\"toc-item-num\">4&nbsp;&nbsp;</span>Проверка алгоритма</a></span></li><li><span><a href=\"#Чек-лист-проверки\" data-toc-modified-id=\"Чек-лист-проверки-5\"><span class=\"toc-item-num\">5&nbsp;&nbsp;</span>Чек-лист проверки</a></span></li></ul></div>"
   ]
  },
  {
   "cell_type": "markdown",
   "metadata": {},
   "source": [
    "# Защита персональных данных клиентов"
   ]
  },
  {
   "cell_type": "markdown",
   "metadata": {},
   "source": [
    "Вам нужно защитить данные клиентов страховой компании «Хоть потоп». Разработайте такой метод преобразования данных, чтобы по ним было сложно восстановить персональную информацию. Обоснуйте корректность его работы.\n",
    "\n",
    "Нужно защитить данные, чтобы при преобразовании качество моделей машинного обучения не ухудшилось. Подбирать наилучшую модель не требуется."
   ]
  },
  {
   "cell_type": "markdown",
   "metadata": {},
   "source": [
    "## Загрузка данных"
   ]
  },
  {
   "cell_type": "code",
   "execution_count": 1,
   "metadata": {},
   "outputs": [],
   "source": [
    "import pandas as pd\n",
    "import numpy as np\n",
    "from sklearn.model_selection import train_test_split\n",
    "from sklearn.preprocessing import StandardScaler\n",
    "from sklearn.pipeline import Pipeline\n",
    "from sklearn.linear_model import LinearRegression\n",
    "from sklearn.metrics import r2_score"
   ]
  },
  {
   "cell_type": "code",
   "execution_count": 2,
   "metadata": {},
   "outputs": [],
   "source": [
    "df = pd.read_csv('/datasets/insurance.csv')"
   ]
  },
  {
   "cell_type": "code",
   "execution_count": 3,
   "metadata": {},
   "outputs": [
    {
     "data": {
      "text/html": [
       "<div>\n",
       "<style scoped>\n",
       "    .dataframe tbody tr th:only-of-type {\n",
       "        vertical-align: middle;\n",
       "    }\n",
       "\n",
       "    .dataframe tbody tr th {\n",
       "        vertical-align: top;\n",
       "    }\n",
       "\n",
       "    .dataframe thead th {\n",
       "        text-align: right;\n",
       "    }\n",
       "</style>\n",
       "<table border=\"1\" class=\"dataframe\">\n",
       "  <thead>\n",
       "    <tr style=\"text-align: right;\">\n",
       "      <th></th>\n",
       "      <th>Пол</th>\n",
       "      <th>Возраст</th>\n",
       "      <th>Зарплата</th>\n",
       "      <th>Члены семьи</th>\n",
       "      <th>Страховые выплаты</th>\n",
       "    </tr>\n",
       "  </thead>\n",
       "  <tbody>\n",
       "    <tr>\n",
       "      <th>0</th>\n",
       "      <td>1</td>\n",
       "      <td>41.0</td>\n",
       "      <td>49600.0</td>\n",
       "      <td>1</td>\n",
       "      <td>0</td>\n",
       "    </tr>\n",
       "    <tr>\n",
       "      <th>1</th>\n",
       "      <td>0</td>\n",
       "      <td>46.0</td>\n",
       "      <td>38000.0</td>\n",
       "      <td>1</td>\n",
       "      <td>1</td>\n",
       "    </tr>\n",
       "    <tr>\n",
       "      <th>2</th>\n",
       "      <td>0</td>\n",
       "      <td>29.0</td>\n",
       "      <td>21000.0</td>\n",
       "      <td>0</td>\n",
       "      <td>0</td>\n",
       "    </tr>\n",
       "    <tr>\n",
       "      <th>3</th>\n",
       "      <td>0</td>\n",
       "      <td>21.0</td>\n",
       "      <td>41700.0</td>\n",
       "      <td>2</td>\n",
       "      <td>0</td>\n",
       "    </tr>\n",
       "    <tr>\n",
       "      <th>4</th>\n",
       "      <td>1</td>\n",
       "      <td>28.0</td>\n",
       "      <td>26100.0</td>\n",
       "      <td>0</td>\n",
       "      <td>0</td>\n",
       "    </tr>\n",
       "  </tbody>\n",
       "</table>\n",
       "</div>"
      ],
      "text/plain": [
       "   Пол  Возраст  Зарплата  Члены семьи  Страховые выплаты\n",
       "0    1     41.0   49600.0            1                  0\n",
       "1    0     46.0   38000.0            1                  1\n",
       "2    0     29.0   21000.0            0                  0\n",
       "3    0     21.0   41700.0            2                  0\n",
       "4    1     28.0   26100.0            0                  0"
      ]
     },
     "execution_count": 3,
     "metadata": {},
     "output_type": "execute_result"
    }
   ],
   "source": [
    "df.head()"
   ]
  },
  {
   "cell_type": "code",
   "execution_count": 4,
   "metadata": {},
   "outputs": [
    {
     "data": {
      "text/plain": [
       "(5000, 5)"
      ]
     },
     "execution_count": 4,
     "metadata": {},
     "output_type": "execute_result"
    }
   ],
   "source": [
    "df.shape"
   ]
  },
  {
   "cell_type": "markdown",
   "metadata": {},
   "source": [
    "## Умножение матриц"
   ]
  },
  {
   "cell_type": "markdown",
   "metadata": {},
   "source": [
    "В этом задании вы можете записывать формулы в *Jupyter Notebook.*\n",
    "\n",
    "Чтобы записать формулу внутри текста, окружите её символами доллара \\\\$; если снаружи —  двойными символами \\\\$\\\\$. Эти формулы записываются на языке вёрстки *LaTeX.* \n",
    "\n",
    "Для примера мы записали формулы линейной регрессии. Можете их скопировать и отредактировать, чтобы решить задачу.\n",
    "\n",
    "Работать в *LaTeX* необязательно."
   ]
  },
  {
   "cell_type": "markdown",
   "metadata": {},
   "source": [
    "Обозначения:\n",
    "\n",
    "- $X$ — матрица признаков (нулевой столбец состоит из единиц)\n",
    "\n",
    "- $y$ — вектор целевого признака\n",
    "\n",
    "- $P$ — матрица, на которую умножаются признаки\n",
    "\n",
    "- $w$ — вектор весов линейной регрессии (нулевой элемент равен сдвигу)"
   ]
  },
  {
   "cell_type": "markdown",
   "metadata": {},
   "source": [
    "Предсказания:\n",
    "\n",
    "$$\n",
    "a = Xw\n",
    "$$\n",
    "\n",
    "Задача обучения:\n",
    "\n",
    "$$\n",
    "w = \\arg\\min_w MSE(Xw, y)\n",
    "$$\n",
    "\n",
    "Формула обучения:\n",
    "\n",
    "$$\n",
    "w = (X^T X)^{-1} X^T y\n",
    "$$"
   ]
  },
  {
   "cell_type": "markdown",
   "metadata": {},
   "source": [
    "### Проверим R2 на искомых данных"
   ]
  },
  {
   "cell_type": "code",
   "execution_count": 5,
   "metadata": {},
   "outputs": [],
   "source": [
    "features = df.drop('Страховые выплаты',axis=1)\n",
    "target = df['Страховые выплаты']"
   ]
  },
  {
   "cell_type": "code",
   "execution_count": 6,
   "metadata": {},
   "outputs": [],
   "source": [
    "features_train, features_test, target_train, target_test = train_test_split(features, target,\n",
    "                                                                            test_size=0.4, random_state=12345)"
   ]
  },
  {
   "cell_type": "code",
   "execution_count": 7,
   "metadata": {},
   "outputs": [],
   "source": [
    "model = LinearRegression().fit(features_train, target_train)\n",
    "predictions = model.predict(features_test)"
   ]
  },
  {
   "cell_type": "code",
   "execution_count": 8,
   "metadata": {},
   "outputs": [
    {
     "data": {
      "text/plain": [
       "0.42375177725680335"
      ]
     },
     "execution_count": 8,
     "metadata": {},
     "output_type": "execute_result"
    }
   ],
   "source": [
    "r2_score(target_test, predictions)"
   ]
  },
  {
   "cell_type": "markdown",
   "metadata": {},
   "source": [
    "### Проверим вектор весов после изменения"
   ]
  },
  {
   "cell_type": "code",
   "execution_count": 9,
   "metadata": {},
   "outputs": [
    {
     "data": {
      "text/plain": [
       "array([ 7.92580543e-03,  3.57083050e-02, -1.70080492e-07, -1.35676623e-02])"
      ]
     },
     "metadata": {},
     "output_type": "display_data"
    },
    {
     "data": {
      "text/plain": [
       "array([ 7.92580543e-03,  3.57083050e-02, -1.70080492e-07, -1.35676623e-02])"
      ]
     },
     "execution_count": 9,
     "metadata": {},
     "output_type": "execute_result"
    }
   ],
   "source": [
    "X = np.concatenate((np.ones((features.shape[0], 1)), features), axis=1)\n",
    "y = target\n",
    "w = np.linalg.inv(X.T @ X) @ X.T @ y\n",
    "display(w[1:])\n",
    "model = LinearRegression()\n",
    "model.fit(features, target)\n",
    "model.coef_"
   ]
  },
  {
   "cell_type": "markdown",
   "metadata": {},
   "source": [
    "**Ответ:** веса совпадают\n",
    "\n",
    "**Обоснование:** "
   ]
  },
  {
   "cell_type": "markdown",
   "metadata": {},
   "source": [
    "- w' = (Y^TY)^{-1} Y^Ty =\n",
    "- = ((XP)^T(XP))^{-1} (XP)^Ty =\n",
    "- = P^{-1}((XP)^{T}X)^{-1} (XP)^Ty =\n",
    "- = P^{-1}((XP)^{T}X)^{-1} P^TX^Ty =\n",
    "- = P^{-1}(P^TX^TX)^{-1} P^TX^Ty =\n",
    "= P^{-1}(X^TX)^{-1}(P^T)^{-1} P^TX^Ty\n",
    "Сократим\n",
    "\n",
    "(P^{T})^{-1} P^T = P^{-1}(X^TX)^{-1} X^Ty\n",
    "\n",
    "Произведем замену\n",
    "\n",
    "w = (X^TX)^{-1}X^Ty = P^{-1}w\n",
    "\n",
    "Тогда: w(y)= P^{-1}w\n",
    "\n",
    "Подставим для X' и w' в формулу для расчета a':\n",
    "\n",
    "a'=X'w' = XPP^{-1}w = Xw = a\n",
    "\n",
    "Выражения тождественны. Векторы предсказаний совпали."
   ]
  },
  {
   "cell_type": "markdown",
   "metadata": {},
   "source": [
    "## Алгоритм преобразования"
   ]
  },
  {
   "cell_type": "markdown",
   "metadata": {},
   "source": [
    "**Алгоритм**\n",
    "* Отделяем целевой признак от набора данных\n",
    "* Генерируем и фиксируем случайную квадратную матрицу в качестве ключа шифрования\n",
    "* Производим матричное умножение набора данных и ключа шифровнаия\n",
    "* Производим необходимые операции с датасетом\n",
    "* Производим дешифрование с помощью матричного умножения преобразованного набора на обратную матрицу ключа шифрования"
   ]
  },
  {
   "cell_type": "markdown",
   "metadata": {},
   "source": [
    "**Обоснование**\n",
    "Произведение матрицы состоит из всех возможных комбинаций скалярных произведений вектор-строк матрицы Features и вектор-столбцов матрицы Random. Таким образом мы произведем умножение каждого набора признаков (строка-вектор) из Features на одинаковые наборы векторов (столбец - вектор) из Random и запишем их в новый вектор - строку. Соответственно итоговые веса каждого такого вектора будут примерно соотносится с весами набора признаков для каждого нового набора векторов в результирующей матрице."
   ]
  },
  {
   "cell_type": "markdown",
   "metadata": {},
   "source": [
    "## Проверка алгоритма"
   ]
  },
  {
   "cell_type": "code",
   "execution_count": 10,
   "metadata": {},
   "outputs": [],
   "source": [
    "random_2 = []\n",
    "for i in range (50):\n",
    "    try:\n",
    "          i = np.random.randint(0,5, size=(4,4))\n",
    "          k = np.linalg.inv(i)\n",
    "          one = np.eye(4)\n",
    "          m = i @ k\n",
    "          if m[3].tolist() == one[3].tolist():\n",
    "              if m[2].tolist() == one[2].tolist():\n",
    "                  if m[1].tolist() == one[1].tolist():\n",
    "                      if m[0].tolist() == one[0].tolist():\n",
    "                          random_2.append(i)\n",
    "    except: print('Найдена сингулярная матрица')"
   ]
  },
  {
   "cell_type": "code",
   "execution_count": 11,
   "metadata": {},
   "outputs": [
    {
     "name": "stdout",
     "output_type": "stream",
     "text": [
      "[array([[4, 0, 1, 4],\n",
      "       [2, 4, 1, 4],\n",
      "       [1, 0, 1, 0],\n",
      "       [4, 4, 2, 0]]), array([[1, 2, 1, 0],\n",
      "       [2, 4, 1, 2],\n",
      "       [0, 4, 4, 4],\n",
      "       [2, 0, 4, 0]]), array([[4, 0, 2, 3],\n",
      "       [2, 4, 4, 1],\n",
      "       [1, 3, 4, 1],\n",
      "       [4, 0, 2, 4]])]\n"
     ]
    }
   ],
   "source": [
    "print(random_2)"
   ]
  },
  {
   "cell_type": "code",
   "execution_count": 12,
   "metadata": {},
   "outputs": [
    {
     "name": "stdout",
     "output_type": "stream",
     "text": [
      "[[4 0 1 4]\n",
      " [2 4 1 4]\n",
      " [1 0 1 0]\n",
      " [4 4 2 0]]\n"
     ]
    }
   ],
   "source": [
    "random = random_2[0]\n",
    "print(random)"
   ]
  },
  {
   "cell_type": "code",
   "execution_count": 13,
   "metadata": {},
   "outputs": [],
   "source": [
    "inverse = np.linalg.inv(random)"
   ]
  },
  {
   "cell_type": "code",
   "execution_count": 14,
   "metadata": {},
   "outputs": [
    {
     "data": {
      "text/plain": [
       "array([[1., 0., 0., 0.],\n",
       "       [0., 1., 0., 0.],\n",
       "       [0., 0., 1., 0.],\n",
       "       [0., 0., 0., 1.]])"
      ]
     },
     "execution_count": 14,
     "metadata": {},
     "output_type": "execute_result"
    }
   ],
   "source": [
    "random @ inverse"
   ]
  },
  {
   "cell_type": "code",
   "execution_count": 15,
   "metadata": {},
   "outputs": [],
   "source": [
    "check = features.values @ random"
   ]
  },
  {
   "cell_type": "code",
   "execution_count": 16,
   "metadata": {},
   "outputs": [],
   "source": [
    "\n",
    "check_train, check_test, target_c_train, target_c_test = train_test_split(check, target, \n",
    "                                                                            test_size=0.4, random_state=12345)"
   ]
  },
  {
   "cell_type": "code",
   "execution_count": 17,
   "metadata": {},
   "outputs": [],
   "source": [
    "model = LinearRegression().fit(check_train, target_c_train)\n",
    "predictions_c = model.predict(check_test)"
   ]
  },
  {
   "cell_type": "code",
   "execution_count": 18,
   "metadata": {},
   "outputs": [
    {
     "data": {
      "text/plain": [
       "0.42375177725680546"
      ]
     },
     "execution_count": 18,
     "metadata": {},
     "output_type": "execute_result"
    }
   ],
   "source": [
    "r2_score(target_c_test, predictions_c)"
   ]
  },
  {
   "cell_type": "markdown",
   "metadata": {},
   "source": [
    "Метрика R2 совпадает с метрикой модели, обученной на искомых данных. Задача решена"
   ]
  }
 ],
 "metadata": {
  "ExecuteTimeLog": [
   {
    "duration": 436,
    "start_time": "2022-06-30T12:34:07.423Z"
   },
   {
    "duration": 96,
    "start_time": "2022-06-30T12:34:25.319Z"
   },
   {
    "duration": 15,
    "start_time": "2022-06-30T12:34:27.334Z"
   },
   {
    "duration": 676,
    "start_time": "2022-06-30T12:41:58.406Z"
   },
   {
    "duration": 90,
    "start_time": "2022-06-30T12:43:18.485Z"
   },
   {
    "duration": 5,
    "start_time": "2022-06-30T12:43:29.500Z"
   },
   {
    "duration": 16,
    "start_time": "2022-06-30T12:44:11.319Z"
   },
   {
    "duration": 13,
    "start_time": "2022-06-30T12:55:22.327Z"
   },
   {
    "duration": 5,
    "start_time": "2022-06-30T12:55:29.097Z"
   },
   {
    "duration": 8,
    "start_time": "2022-06-30T13:05:49.726Z"
   },
   {
    "duration": 2,
    "start_time": "2022-06-30T13:05:55.144Z"
   },
   {
    "duration": 3,
    "start_time": "2022-06-30T13:06:06.463Z"
   },
   {
    "duration": 4,
    "start_time": "2022-06-30T13:06:16.062Z"
   },
   {
    "duration": 11,
    "start_time": "2022-06-30T13:07:04.630Z"
   },
   {
    "duration": 4,
    "start_time": "2022-06-30T13:07:17.928Z"
   },
   {
    "duration": 3,
    "start_time": "2022-06-30T13:07:31.423Z"
   },
   {
    "duration": 2,
    "start_time": "2022-06-30T13:07:46.839Z"
   },
   {
    "duration": 4,
    "start_time": "2022-06-30T13:07:49.291Z"
   },
   {
    "duration": 4,
    "start_time": "2022-06-30T13:08:18.627Z"
   },
   {
    "duration": 296,
    "start_time": "2022-06-30T13:09:19.854Z"
   },
   {
    "duration": 4,
    "start_time": "2022-06-30T13:09:48.773Z"
   },
   {
    "duration": 3,
    "start_time": "2022-06-30T13:09:52.871Z"
   },
   {
    "duration": 4,
    "start_time": "2022-06-30T13:09:53.733Z"
   },
   {
    "duration": 13,
    "start_time": "2022-06-30T13:10:25.163Z"
   },
   {
    "duration": 3,
    "start_time": "2022-06-30T13:10:25.722Z"
   },
   {
    "duration": 3,
    "start_time": "2022-06-30T13:10:28.275Z"
   },
   {
    "duration": 2,
    "start_time": "2022-06-30T13:10:35.923Z"
   },
   {
    "duration": 3,
    "start_time": "2022-06-30T13:10:36.434Z"
   },
   {
    "duration": 3,
    "start_time": "2022-06-30T13:11:14.802Z"
   },
   {
    "duration": 5,
    "start_time": "2022-06-30T13:11:15.559Z"
   },
   {
    "duration": 5,
    "start_time": "2022-06-30T13:11:16.130Z"
   },
   {
    "duration": 6,
    "start_time": "2022-06-30T13:11:16.705Z"
   },
   {
    "duration": 107,
    "start_time": "2022-06-30T13:12:45.724Z"
   },
   {
    "duration": 7,
    "start_time": "2022-06-30T13:12:56.533Z"
   },
   {
    "duration": 16,
    "start_time": "2022-06-30T13:13:03.204Z"
   },
   {
    "duration": 5,
    "start_time": "2022-06-30T13:13:19.409Z"
   },
   {
    "duration": 7,
    "start_time": "2022-06-30T13:13:45.768Z"
   },
   {
    "duration": 13,
    "start_time": "2022-06-30T13:13:56.519Z"
   },
   {
    "duration": 7,
    "start_time": "2022-06-30T13:14:10.409Z"
   },
   {
    "duration": 5,
    "start_time": "2022-06-30T13:14:14.015Z"
   },
   {
    "duration": 5,
    "start_time": "2022-06-30T13:14:39.734Z"
   },
   {
    "duration": 4,
    "start_time": "2022-06-30T13:16:14.457Z"
   },
   {
    "duration": 5,
    "start_time": "2022-06-30T13:16:47.829Z"
   },
   {
    "duration": 7,
    "start_time": "2022-06-30T13:17:02.408Z"
   },
   {
    "duration": 5,
    "start_time": "2022-06-30T13:17:10.372Z"
   },
   {
    "duration": 3118,
    "start_time": "2022-06-30T15:44:07.991Z"
   },
   {
    "duration": 17,
    "start_time": "2022-06-30T15:44:11.111Z"
   },
   {
    "duration": 15,
    "start_time": "2022-06-30T15:44:11.129Z"
   },
   {
    "duration": 6,
    "start_time": "2022-06-30T15:44:11.145Z"
   },
   {
    "duration": 10,
    "start_time": "2022-06-30T15:44:11.153Z"
   },
   {
    "duration": 11,
    "start_time": "2022-06-30T15:44:11.165Z"
   },
   {
    "duration": 9,
    "start_time": "2022-06-30T15:44:11.178Z"
   },
   {
    "duration": 19,
    "start_time": "2022-06-30T15:44:11.188Z"
   },
   {
    "duration": 19,
    "start_time": "2022-06-30T15:44:11.209Z"
   },
   {
    "duration": 97,
    "start_time": "2022-06-30T15:44:11.230Z"
   },
   {
    "duration": 95,
    "start_time": "2022-06-30T15:44:11.330Z"
   },
   {
    "duration": 11,
    "start_time": "2022-06-30T15:44:11.427Z"
   },
   {
    "duration": 4,
    "start_time": "2022-06-30T15:44:11.522Z"
   },
   {
    "duration": 96,
    "start_time": "2022-06-30T15:44:11.529Z"
   },
   {
    "duration": 10,
    "start_time": "2022-06-30T15:44:11.627Z"
   },
   {
    "duration": 6,
    "start_time": "2022-06-30T15:44:11.724Z"
   },
   {
    "duration": 6,
    "start_time": "2022-06-30T15:44:11.732Z"
   },
   {
    "duration": 8,
    "start_time": "2022-06-30T15:44:11.740Z"
   }
  ],
  "kernelspec": {
   "display_name": "Python 3 (ipykernel)",
   "language": "python",
   "name": "python3"
  },
  "language_info": {
   "codemirror_mode": {
    "name": "ipython",
    "version": 3
   },
   "file_extension": ".py",
   "mimetype": "text/x-python",
   "name": "python",
   "nbconvert_exporter": "python",
   "pygments_lexer": "ipython3",
   "version": "3.9.5"
  },
  "toc": {
   "base_numbering": 1,
   "nav_menu": {},
   "number_sections": true,
   "sideBar": true,
   "skip_h1_title": true,
   "title_cell": "Содержание",
   "title_sidebar": "Contents",
   "toc_cell": true,
   "toc_position": {
    "height": "calc(100% - 180px)",
    "left": "10px",
    "top": "150px",
    "width": "237px"
   },
   "toc_section_display": true,
   "toc_window_display": true
  }
 },
 "nbformat": 4,
 "nbformat_minor": 2
}
