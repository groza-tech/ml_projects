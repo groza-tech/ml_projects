{
 "cells": [
  {
   "cell_type": "code",
   "execution_count": 2,
   "id": "3cd398e2",
   "metadata": {},
   "outputs": [
    {
     "name": "stdout",
     "output_type": "stream",
     "text": [
      "Looking in links: https://download.pytorch.org/whl/torch_stable.html\n",
      "Collecting torch==1.10.0+cpu\n",
      "  Downloading https://download.pytorch.org/whl/cpu/torch-1.10.0%2Bcpu-cp39-cp39-linux_x86_64.whl (199.3 MB)\n",
      "\u001b[K     |████████████████████████████████| 199.3 MB 11 kB/s /s eta 0:00:01MB 109.5 MB/s eta 0:00:01\n",
      "\u001b[?25hCollecting torchvision==0.11.0+cpu\n",
      "  Downloading https://download.pytorch.org/whl/cpu/torchvision-0.11.0%2Bcpu-cp39-cp39-linux_x86_64.whl (16.1 MB)\n",
      "\u001b[K     |████████████████████████████████| 16.1 MB 80 kB/s  eta 0:00:01\n",
      "\u001b[?25hCollecting torchaudio==0.10.0\n",
      "  Downloading https://download.pytorch.org/whl/rocm4.1/torchaudio-0.10.0%2Brocm4.1-cp39-cp39-linux_x86_64.whl (2.7 MB)\n",
      "\u001b[K     |████████████████████████████████| 2.7 MB 955 kB/s eta 0:00:01\n",
      "\u001b[?25hRequirement already satisfied: typing-extensions in /opt/conda/lib/python3.9/site-packages (from torch==1.10.0+cpu) (4.3.0)\n",
      "Requirement already satisfied: pillow!=8.3.0,>=5.3.0 in /opt/conda/lib/python3.9/site-packages (from torchvision==0.11.0+cpu) (8.4.0)\n",
      "Requirement already satisfied: numpy in /opt/conda/lib/python3.9/site-packages (from torchvision==0.11.0+cpu) (1.21.1)\n",
      "Installing collected packages: torch, torchvision, torchaudio\n",
      "\u001b[33m  WARNING: The scripts convert-caffe2-to-onnx, convert-onnx-to-caffe2 and torchrun are installed in '/home/jovyan/.local/bin' which is not on PATH.\n",
      "  Consider adding this directory to PATH or, if you prefer to suppress this warning, use --no-warn-script-location.\u001b[0m\n",
      "Successfully installed torch-1.10.0+cpu torchaudio-0.10.0+rocm4.1 torchvision-0.11.0+cpu\n"
     ]
    }
   ],
   "source": [
    "!pip install torch==1.10.0+cpu torchvision==0.11.0+cpu torchaudio==0.10.0 -f https://download.pytorch.org/whl/torch_stable.html --user"
   ]
  },
  {
   "cell_type": "code",
   "execution_count": 112,
   "id": "7be5f3d2",
   "metadata": {},
   "outputs": [
    {
     "name": "stdout",
     "output_type": "stream",
     "text": [
      "Collecting skorch\n",
      "  Downloading skorch-0.11.0-py3-none-any.whl (155 kB)\n",
      "\u001b[K     |████████████████████████████████| 155 kB 1.9 MB/s eta 0:00:01\n",
      "\u001b[?25hCollecting tabulate>=0.7.7\n",
      "  Downloading tabulate-0.8.10-py3-none-any.whl (29 kB)\n",
      "Requirement already satisfied: tqdm>=4.14.0 in /opt/conda/lib/python3.9/site-packages (from skorch) (4.61.2)\n",
      "Requirement already satisfied: scipy>=1.1.0 in /opt/conda/lib/python3.9/site-packages (from skorch) (1.9.1)\n",
      "Requirement already satisfied: numpy>=1.13.3 in /opt/conda/lib/python3.9/site-packages (from skorch) (1.21.1)\n",
      "Requirement already satisfied: scikit-learn>=0.19.1 in /opt/conda/lib/python3.9/site-packages (from skorch) (0.24.1)\n",
      "Requirement already satisfied: joblib>=0.11 in /opt/conda/lib/python3.9/site-packages (from scikit-learn>=0.19.1->skorch) (1.1.0)\n",
      "Requirement already satisfied: threadpoolctl>=2.0.0 in /opt/conda/lib/python3.9/site-packages (from scikit-learn>=0.19.1->skorch) (3.1.0)\n",
      "Installing collected packages: tabulate, skorch\n",
      "Successfully installed skorch-0.11.0 tabulate-0.8.10\n"
     ]
    }
   ],
   "source": [
    "!pip install skorch"
   ]
  },
  {
   "cell_type": "code",
   "execution_count": 200,
   "id": "4fb21ed5",
   "metadata": {},
   "outputs": [],
   "source": [
    "import pandas as pd \n",
    "import numpy as np\n",
    "import matplotlib.pyplot as plt \n",
    "import seaborn as sb\n",
    "from sklearn.preprocessing import LabelEncoder\n",
    "from sklearn.preprocessing import OrdinalEncoder\n",
    "from sklearn.model_selection import train_test_split\n",
    "from sklearn.preprocessing import StandardScaler\n",
    "from sklearn.metrics import mean_squared_error\n",
    "from sklearn.model_selection import RandomizedSearchCV\n",
    "import torch\n",
    "import torch.nn as nn\n",
    "import torchvision\n",
    "import torchvision.transforms as transforms\n",
    "import warnings\n",
    "warnings.filterwarnings('ignore')"
   ]
  },
  {
   "cell_type": "markdown",
   "id": "corresponding-armstrong",
   "metadata": {
    "ExecuteTime": {
     "end_time": "2022-05-05T04:58:05.692448Z",
     "start_time": "2022-05-05T04:58:05.688565Z"
    }
   },
   "source": [
    "## Загрузка данных"
   ]
  },
  {
   "cell_type": "code",
   "execution_count": 74,
   "id": "spectacular-folder",
   "metadata": {},
   "outputs": [
    {
     "data": {
      "text/html": [
       "<div>\n",
       "<style scoped>\n",
       "    .dataframe tbody tr th:only-of-type {\n",
       "        vertical-align: middle;\n",
       "    }\n",
       "\n",
       "    .dataframe tbody tr th {\n",
       "        vertical-align: top;\n",
       "    }\n",
       "\n",
       "    .dataframe thead th {\n",
       "        text-align: right;\n",
       "    }\n",
       "</style>\n",
       "<table border=\"1\" class=\"dataframe\">\n",
       "  <thead>\n",
       "    <tr style=\"text-align: right;\">\n",
       "      <th></th>\n",
       "      <th>Unnamed: 0</th>\n",
       "      <th>Temperature (K)</th>\n",
       "      <th>Luminosity(L/Lo)</th>\n",
       "      <th>Radius(R/Ro)</th>\n",
       "      <th>Absolute magnitude(Mv)</th>\n",
       "      <th>Star type</th>\n",
       "      <th>Star color</th>\n",
       "    </tr>\n",
       "  </thead>\n",
       "  <tbody>\n",
       "    <tr>\n",
       "      <th>0</th>\n",
       "      <td>0</td>\n",
       "      <td>3068</td>\n",
       "      <td>0.002400</td>\n",
       "      <td>0.1700</td>\n",
       "      <td>16.12</td>\n",
       "      <td>0</td>\n",
       "      <td>Red</td>\n",
       "    </tr>\n",
       "    <tr>\n",
       "      <th>1</th>\n",
       "      <td>1</td>\n",
       "      <td>3042</td>\n",
       "      <td>0.000500</td>\n",
       "      <td>0.1542</td>\n",
       "      <td>16.60</td>\n",
       "      <td>0</td>\n",
       "      <td>Red</td>\n",
       "    </tr>\n",
       "    <tr>\n",
       "      <th>2</th>\n",
       "      <td>2</td>\n",
       "      <td>2600</td>\n",
       "      <td>0.000300</td>\n",
       "      <td>0.1020</td>\n",
       "      <td>18.70</td>\n",
       "      <td>0</td>\n",
       "      <td>Red</td>\n",
       "    </tr>\n",
       "    <tr>\n",
       "      <th>3</th>\n",
       "      <td>3</td>\n",
       "      <td>2800</td>\n",
       "      <td>0.000200</td>\n",
       "      <td>0.1600</td>\n",
       "      <td>16.65</td>\n",
       "      <td>0</td>\n",
       "      <td>Red</td>\n",
       "    </tr>\n",
       "    <tr>\n",
       "      <th>4</th>\n",
       "      <td>4</td>\n",
       "      <td>1939</td>\n",
       "      <td>0.000138</td>\n",
       "      <td>0.1030</td>\n",
       "      <td>20.06</td>\n",
       "      <td>0</td>\n",
       "      <td>Red</td>\n",
       "    </tr>\n",
       "  </tbody>\n",
       "</table>\n",
       "</div>"
      ],
      "text/plain": [
       "   Unnamed: 0  Temperature (K)  Luminosity(L/Lo)  Radius(R/Ro)  \\\n",
       "0           0             3068          0.002400        0.1700   \n",
       "1           1             3042          0.000500        0.1542   \n",
       "2           2             2600          0.000300        0.1020   \n",
       "3           3             2800          0.000200        0.1600   \n",
       "4           4             1939          0.000138        0.1030   \n",
       "\n",
       "   Absolute magnitude(Mv)  Star type Star color  \n",
       "0                   16.12          0        Red  \n",
       "1                   16.60          0        Red  \n",
       "2                   18.70          0        Red  \n",
       "3                   16.65          0        Red  \n",
       "4                   20.06          0        Red  "
      ]
     },
     "execution_count": 74,
     "metadata": {},
     "output_type": "execute_result"
    }
   ],
   "source": [
    "data = pd.read_csv('/datasets/6_class.csv')\n",
    "data.head()"
   ]
  },
  {
   "cell_type": "markdown",
   "id": "simple-subdivision",
   "metadata": {},
   "source": [
    "## Предобработка и анализ данных"
   ]
  },
  {
   "cell_type": "code",
   "execution_count": 75,
   "id": "flush-dream",
   "metadata": {},
   "outputs": [
    {
     "name": "stdout",
     "output_type": "stream",
     "text": [
      "<class 'pandas.core.frame.DataFrame'>\n",
      "RangeIndex: 240 entries, 0 to 239\n",
      "Data columns (total 7 columns):\n",
      " #   Column                  Non-Null Count  Dtype  \n",
      "---  ------                  --------------  -----  \n",
      " 0   Unnamed: 0              240 non-null    int64  \n",
      " 1   Temperature (K)         240 non-null    int64  \n",
      " 2   Luminosity(L/Lo)        240 non-null    float64\n",
      " 3   Radius(R/Ro)            240 non-null    float64\n",
      " 4   Absolute magnitude(Mv)  240 non-null    float64\n",
      " 5   Star type               240 non-null    int64  \n",
      " 6   Star color              240 non-null    object \n",
      "dtypes: float64(3), int64(3), object(1)\n",
      "memory usage: 13.2+ KB\n"
     ]
    }
   ],
   "source": [
    "data.info()"
   ]
  },
  {
   "cell_type": "code",
   "execution_count": 76,
   "id": "55ddc3df",
   "metadata": {},
   "outputs": [],
   "source": [
    "data = data.drop('Unnamed: 0', axis=1)"
   ]
  },
  {
   "cell_type": "markdown",
   "id": "621113a7",
   "metadata": {},
   "source": [
    "На данном этапе уже можно разделить признаки на количественные и категориальнные. "
   ]
  },
  {
   "cell_type": "code",
   "execution_count": 77,
   "id": "1954b2d1",
   "metadata": {},
   "outputs": [
    {
     "name": "stdout",
     "output_type": "stream",
     "text": [
      "['Luminosity(L/Lo)', 'Radius(R/Ro)', 'Absolute magnitude(Mv)']\n"
     ]
    }
   ],
   "source": [
    "cat_features = ['Star type', 'Star color']\n",
    "num_features = list(data.drop(cat_features, axis=1).columns)\n",
    "num_features.remove('Temperature (K)') \n",
    "print(num_features)"
   ]
  },
  {
   "cell_type": "code",
   "execution_count": 78,
   "id": "5df4c276",
   "metadata": {},
   "outputs": [
    {
     "data": {
      "text/plain": [
       "<BarContainer object of 240 artists>"
      ]
     },
     "execution_count": 78,
     "metadata": {},
     "output_type": "execute_result"
    },
    {
     "data": {
      "image/png": "[encoded data removed]",
      "text/plain": [
       "<Figure size 432x288 with 1 Axes>"
      ]
     },
     "metadata": {
      "needs_background": "light"
     },
     "output_type": "display_data"
    }
   ],
   "source": [
    "plt.bar(data['Star type'], data['Temperature (K)'])"
   ]
  },
  {
   "cell_type": "code",
   "execution_count": 79,
   "id": "be38cafd",
   "metadata": {},
   "outputs": [
    {
     "data": {
      "text/plain": [
       "<AxesSubplot:>"
      ]
     },
     "execution_count": 79,
     "metadata": {},
     "output_type": "execute_result"
    },
    {
     "data": {
      "image/png": "[encoded data removed]",
      "text/plain": [
       "<Figure size 432x288 with 2 Axes>"
      ]
     },
     "metadata": {
      "needs_background": "light"
     },
     "output_type": "display_data"
    }
   ],
   "source": [
    "sb.heatmap(data[['Star type','Temperature (K)']].corr(), cmap=\"YlGnBu\", annot=True)"
   ]
  },
  {
   "cell_type": "markdown",
   "id": "ac1a4ffc",
   "metadata": {},
   "source": [
    "Итак, по предыдущим двум графикам можно судить, что наибольшую температуру имеют Звёзды главной последовательности, Сверхгиганты и Гипергиганты. Так же можно заметить, что между температурой и типом звезды есть относительно средняя кореляция. "
   ]
  },
  {
   "cell_type": "code",
   "execution_count": 80,
   "id": "ac6e63c1",
   "metadata": {},
   "outputs": [],
   "source": [
    "data['Star color'] = data['Star color'].str.lower()\n",
    "data['Star color'] = data['Star color'].str.strip()"
   ]
  },
  {
   "cell_type": "code",
   "execution_count": 81,
   "id": "57a3a22e",
   "metadata": {},
   "outputs": [
    {
     "name": "stdout",
     "output_type": "stream",
     "text": [
      "['red' 'blue white' 'white' 'yellowish white' 'pale yellow orange' 'blue'\n",
      " 'blue-white' 'whitish' 'yellow-white' 'orange' 'white-yellow' 'yellowish'\n",
      " 'orange-red']\n"
     ]
    }
   ],
   "source": [
    "print(data['Star color'].unique())"
   ]
  },
  {
   "cell_type": "code",
   "execution_count": 82,
   "id": "0607cfd9",
   "metadata": {},
   "outputs": [
    {
     "data": {
      "text/plain": [
       "<BarContainer object of 240 artists>"
      ]
     },
     "execution_count": 82,
     "metadata": {},
     "output_type": "execute_result"
    },
    {
     "data": {
      "image/png": "[encoded data removed]",
      "text/plain": [
       "<Figure size 1440x720 with 1 Axes>"
      ]
     },
     "metadata": {
      "needs_background": "light"
     },
     "output_type": "display_data"
    }
   ],
   "source": [
    "fig = plt.figure(figsize=(20, 10))\n",
    "ax = fig.add_subplot(111)\n",
    "ax.bar(data['Star color'], data['Temperature (K)'])"
   ]
  },
  {
   "cell_type": "markdown",
   "id": "ad8788c8",
   "metadata": {},
   "source": [
    "Итак, здесь мы можем наблюдать, что самые высокие температуры характерны для звезд голубого и бело-голубого цвета "
   ]
  },
  {
   "cell_type": "code",
   "execution_count": 83,
   "id": "02bf520f",
   "metadata": {},
   "outputs": [
    {
     "data": {
      "text/html": [
       "<div>\n",
       "<style scoped>\n",
       "    .dataframe tbody tr th:only-of-type {\n",
       "        vertical-align: middle;\n",
       "    }\n",
       "\n",
       "    .dataframe tbody tr th {\n",
       "        vertical-align: top;\n",
       "    }\n",
       "\n",
       "    .dataframe thead th {\n",
       "        text-align: right;\n",
       "    }\n",
       "</style>\n",
       "<table border=\"1\" class=\"dataframe\">\n",
       "  <thead>\n",
       "    <tr style=\"text-align: right;\">\n",
       "      <th></th>\n",
       "      <th>Luminosity(L/Lo)</th>\n",
       "      <th>Radius(R/Ro)</th>\n",
       "      <th>Absolute magnitude(Mv)</th>\n",
       "    </tr>\n",
       "  </thead>\n",
       "  <tbody>\n",
       "    <tr>\n",
       "      <th>count</th>\n",
       "      <td>240.000000</td>\n",
       "      <td>240.000000</td>\n",
       "      <td>240.000000</td>\n",
       "    </tr>\n",
       "    <tr>\n",
       "      <th>mean</th>\n",
       "      <td>107188.361635</td>\n",
       "      <td>237.157781</td>\n",
       "      <td>4.382396</td>\n",
       "    </tr>\n",
       "    <tr>\n",
       "      <th>std</th>\n",
       "      <td>179432.244940</td>\n",
       "      <td>517.155763</td>\n",
       "      <td>10.532512</td>\n",
       "    </tr>\n",
       "    <tr>\n",
       "      <th>min</th>\n",
       "      <td>0.000080</td>\n",
       "      <td>0.008400</td>\n",
       "      <td>-11.920000</td>\n",
       "    </tr>\n",
       "    <tr>\n",
       "      <th>25%</th>\n",
       "      <td>0.000865</td>\n",
       "      <td>0.102750</td>\n",
       "      <td>-6.232500</td>\n",
       "    </tr>\n",
       "    <tr>\n",
       "      <th>50%</th>\n",
       "      <td>0.070500</td>\n",
       "      <td>0.762500</td>\n",
       "      <td>8.313000</td>\n",
       "    </tr>\n",
       "    <tr>\n",
       "      <th>75%</th>\n",
       "      <td>198050.000000</td>\n",
       "      <td>42.750000</td>\n",
       "      <td>13.697500</td>\n",
       "    </tr>\n",
       "    <tr>\n",
       "      <th>max</th>\n",
       "      <td>849420.000000</td>\n",
       "      <td>1948.500000</td>\n",
       "      <td>20.060000</td>\n",
       "    </tr>\n",
       "  </tbody>\n",
       "</table>\n",
       "</div>"
      ],
      "text/plain": [
       "       Luminosity(L/Lo)  Radius(R/Ro)  Absolute magnitude(Mv)\n",
       "count        240.000000    240.000000              240.000000\n",
       "mean      107188.361635    237.157781                4.382396\n",
       "std       179432.244940    517.155763               10.532512\n",
       "min            0.000080      0.008400              -11.920000\n",
       "25%            0.000865      0.102750               -6.232500\n",
       "50%            0.070500      0.762500                8.313000\n",
       "75%       198050.000000     42.750000               13.697500\n",
       "max       849420.000000   1948.500000               20.060000"
      ]
     },
     "execution_count": 83,
     "metadata": {},
     "output_type": "execute_result"
    }
   ],
   "source": [
    "data[num_features].describe()"
   ]
  },
  {
   "cell_type": "code",
   "execution_count": 84,
   "id": "6412138b",
   "metadata": {},
   "outputs": [
    {
     "data": {
      "text/plain": [
       "0"
      ]
     },
     "execution_count": 84,
     "metadata": {},
     "output_type": "execute_result"
    }
   ],
   "source": [
    "data.duplicated().sum()"
   ]
  },
  {
   "cell_type": "code",
   "execution_count": 85,
   "id": "609ef988",
   "metadata": {},
   "outputs": [
    {
     "data": {
      "text/plain": [
       "Temperature (K)           0\n",
       "Luminosity(L/Lo)          0\n",
       "Radius(R/Ro)              0\n",
       "Absolute magnitude(Mv)    0\n",
       "Star type                 0\n",
       "Star color                0\n",
       "dtype: int64"
      ]
     },
     "execution_count": 85,
     "metadata": {},
     "output_type": "execute_result"
    }
   ],
   "source": [
    "data.isna().sum()"
   ]
  },
  {
   "cell_type": "code",
   "execution_count": 86,
   "id": "dd5ee855",
   "metadata": {},
   "outputs": [
    {
     "data": {
      "image/png": "[encoded data removed]",
      "text/plain": [
       "<Figure size 432x864 with 1 Axes>"
      ]
     },
     "metadata": {
      "needs_background": "light"
     },
     "output_type": "display_data"
    }
   ],
   "source": [
    "plt.subplots(figsize=(6, 12))\n",
    "plt.boxplot(data[num_features], vert=True)\n",
    "plt.ylabel(\"Numeric Features\")\n",
    "plt.show()"
   ]
  },
  {
   "cell_type": "markdown",
   "id": "f42cb434",
   "metadata": {},
   "source": [
    "Здесь можно заметить, что во втором признаке очень много выбросов. Количественные данные необходимо стандартизировать"
   ]
  },
  {
   "cell_type": "markdown",
   "id": "f40390e6",
   "metadata": {},
   "source": [
    "Преобразование категориальных и количественных признаков "
   ]
  },
  {
   "cell_type": "code",
   "execution_count": 87,
   "id": "e717f71e",
   "metadata": {},
   "outputs": [
    {
     "data": {
      "text/html": [
       "<div>\n",
       "<style scoped>\n",
       "    .dataframe tbody tr th:only-of-type {\n",
       "        vertical-align: middle;\n",
       "    }\n",
       "\n",
       "    .dataframe tbody tr th {\n",
       "        vertical-align: top;\n",
       "    }\n",
       "\n",
       "    .dataframe thead th {\n",
       "        text-align: right;\n",
       "    }\n",
       "</style>\n",
       "<table border=\"1\" class=\"dataframe\">\n",
       "  <thead>\n",
       "    <tr style=\"text-align: right;\">\n",
       "      <th></th>\n",
       "      <th>Temperature (K)</th>\n",
       "      <th>Luminosity(L/Lo)</th>\n",
       "      <th>Radius(R/Ro)</th>\n",
       "      <th>Absolute magnitude(Mv)</th>\n",
       "      <th>Star type</th>\n",
       "      <th>Star color</th>\n",
       "    </tr>\n",
       "  </thead>\n",
       "  <tbody>\n",
       "    <tr>\n",
       "      <th>0</th>\n",
       "      <td>3068</td>\n",
       "      <td>0.002400</td>\n",
       "      <td>0.1700</td>\n",
       "      <td>16.12</td>\n",
       "      <td>0</td>\n",
       "      <td>red</td>\n",
       "    </tr>\n",
       "    <tr>\n",
       "      <th>1</th>\n",
       "      <td>3042</td>\n",
       "      <td>0.000500</td>\n",
       "      <td>0.1542</td>\n",
       "      <td>16.60</td>\n",
       "      <td>0</td>\n",
       "      <td>red</td>\n",
       "    </tr>\n",
       "    <tr>\n",
       "      <th>2</th>\n",
       "      <td>2600</td>\n",
       "      <td>0.000300</td>\n",
       "      <td>0.1020</td>\n",
       "      <td>18.70</td>\n",
       "      <td>0</td>\n",
       "      <td>red</td>\n",
       "    </tr>\n",
       "    <tr>\n",
       "      <th>3</th>\n",
       "      <td>2800</td>\n",
       "      <td>0.000200</td>\n",
       "      <td>0.1600</td>\n",
       "      <td>16.65</td>\n",
       "      <td>0</td>\n",
       "      <td>red</td>\n",
       "    </tr>\n",
       "    <tr>\n",
       "      <th>4</th>\n",
       "      <td>1939</td>\n",
       "      <td>0.000138</td>\n",
       "      <td>0.1030</td>\n",
       "      <td>20.06</td>\n",
       "      <td>0</td>\n",
       "      <td>red</td>\n",
       "    </tr>\n",
       "  </tbody>\n",
       "</table>\n",
       "</div>"
      ],
      "text/plain": [
       "   Temperature (K)  Luminosity(L/Lo)  Radius(R/Ro)  Absolute magnitude(Mv)  \\\n",
       "0             3068          0.002400        0.1700                   16.12   \n",
       "1             3042          0.000500        0.1542                   16.60   \n",
       "2             2600          0.000300        0.1020                   18.70   \n",
       "3             2800          0.000200        0.1600                   16.65   \n",
       "4             1939          0.000138        0.1030                   20.06   \n",
       "\n",
       "   Star type Star color  \n",
       "0          0        red  \n",
       "1          0        red  \n",
       "2          0        red  \n",
       "3          0        red  \n",
       "4          0        red  "
      ]
     },
     "execution_count": 87,
     "metadata": {},
     "output_type": "execute_result"
    }
   ],
   "source": [
    "data.head()"
   ]
  },
  {
   "cell_type": "code",
   "execution_count": 88,
   "id": "7671ffed",
   "metadata": {},
   "outputs": [],
   "source": [
    "features = data.drop('Temperature (K)', axis=1)\n",
    "target = data['Temperature (K)']"
   ]
  },
  {
   "cell_type": "code",
   "execution_count": 2,
   "id": "be59ca58",
   "metadata": {},
   "outputs": [],
   "source": [
    "features_train, features_test, target_train, target_test = train_test_split(features,target, random_state=123)"
   ]
  },
  {
   "cell_type": "code",
   "execution_count": 90,
   "id": "b88432d9",
   "metadata": {},
   "outputs": [
    {
     "name": "stdout",
     "output_type": "stream",
     "text": [
      "(180, 5)\n",
      "(60, 5)\n"
     ]
    }
   ],
   "source": [
    "print(features_train.shape)\n",
    "print(features_test.shape)"
   ]
  },
  {
   "cell_type": "code",
   "execution_count": 91,
   "id": "c7daeed8",
   "metadata": {},
   "outputs": [
    {
     "name": "stdout",
     "output_type": "stream",
     "text": [
      "(180,)\n",
      "(60,)\n"
     ]
    }
   ],
   "source": [
    "print(target_train.shape)\n",
    "print(target_test.shape)"
   ]
  },
  {
   "cell_type": "code",
   "execution_count": 92,
   "id": "bf8e85c2",
   "metadata": {},
   "outputs": [
    {
     "name": "stderr",
     "output_type": "stream",
     "text": [
      "/tmp/ipykernel_67/4047798367.py:4: SettingWithCopyWarning: \n",
      "A value is trying to be set on a copy of a slice from a DataFrame.\n",
      "Try using .loc[row_indexer,col_indexer] = value instead\n",
      "\n",
      "See the caveats in the documentation: https://pandas.pydata.org/pandas-docs/stable/user_guide/indexing.html#returning-a-view-versus-a-copy\n",
      "  features_train[cat_features] = enc.transform(features_train[cat_features])\n",
      "/opt/conda/lib/python3.9/site-packages/pandas/core/indexing.py:1738: SettingWithCopyWarning: \n",
      "A value is trying to be set on a copy of a slice from a DataFrame.\n",
      "Try using .loc[row_indexer,col_indexer] = value instead\n",
      "\n",
      "See the caveats in the documentation: https://pandas.pydata.org/pandas-docs/stable/user_guide/indexing.html#returning-a-view-versus-a-copy\n",
      "  self._setitem_single_column(loc, value[:, i].tolist(), pi)\n",
      "/tmp/ipykernel_67/4047798367.py:5: SettingWithCopyWarning: \n",
      "A value is trying to be set on a copy of a slice from a DataFrame.\n",
      "Try using .loc[row_indexer,col_indexer] = value instead\n",
      "\n",
      "See the caveats in the documentation: https://pandas.pydata.org/pandas-docs/stable/user_guide/indexing.html#returning-a-view-versus-a-copy\n",
      "  features_test[cat_features] = enc.transform(features_test[cat_features])\n",
      "/opt/conda/lib/python3.9/site-packages/pandas/core/indexing.py:1738: SettingWithCopyWarning: \n",
      "A value is trying to be set on a copy of a slice from a DataFrame.\n",
      "Try using .loc[row_indexer,col_indexer] = value instead\n",
      "\n",
      "See the caveats in the documentation: https://pandas.pydata.org/pandas-docs/stable/user_guide/indexing.html#returning-a-view-versus-a-copy\n",
      "  self._setitem_single_column(loc, value[:, i].tolist(), pi)\n"
     ]
    }
   ],
   "source": [
    "enc = OrdinalEncoder(handle_unknown='use_encoded_value',\n",
    "                                 unknown_value=-1)\n",
    "enc.fit(features_train[cat_features])\n",
    "features_train[cat_features] = enc.transform(features_train[cat_features])\n",
    "features_test[cat_features] = enc.transform(features_test[cat_features])"
   ]
  },
  {
   "cell_type": "code",
   "execution_count": 93,
   "id": "6512e97b",
   "metadata": {},
   "outputs": [
    {
     "name": "stderr",
     "output_type": "stream",
     "text": [
      "/tmp/ipykernel_67/2738894779.py:3: SettingWithCopyWarning: \n",
      "A value is trying to be set on a copy of a slice from a DataFrame.\n",
      "Try using .loc[row_indexer,col_indexer] = value instead\n",
      "\n",
      "See the caveats in the documentation: https://pandas.pydata.org/pandas-docs/stable/user_guide/indexing.html#returning-a-view-versus-a-copy\n",
      "  features_train[num_features] = scaler.transform(features_train[num_features])\n",
      "/opt/conda/lib/python3.9/site-packages/pandas/core/indexing.py:1637: SettingWithCopyWarning: \n",
      "A value is trying to be set on a copy of a slice from a DataFrame\n",
      "\n",
      "See the caveats in the documentation: https://pandas.pydata.org/pandas-docs/stable/user_guide/indexing.html#returning-a-view-versus-a-copy\n",
      "  self._setitem_single_block(indexer, value, name)\n",
      "/opt/conda/lib/python3.9/site-packages/pandas/core/indexing.py:692: SettingWithCopyWarning: \n",
      "A value is trying to be set on a copy of a slice from a DataFrame\n",
      "\n",
      "See the caveats in the documentation: https://pandas.pydata.org/pandas-docs/stable/user_guide/indexing.html#returning-a-view-versus-a-copy\n",
      "  iloc._setitem_with_indexer(indexer, value, self.name)\n",
      "/tmp/ipykernel_67/2738894779.py:4: SettingWithCopyWarning: \n",
      "A value is trying to be set on a copy of a slice from a DataFrame.\n",
      "Try using .loc[row_indexer,col_indexer] = value instead\n",
      "\n",
      "See the caveats in the documentation: https://pandas.pydata.org/pandas-docs/stable/user_guide/indexing.html#returning-a-view-versus-a-copy\n",
      "  features_test[num_features] = scaler.transform(features_test[num_features])\n",
      "/opt/conda/lib/python3.9/site-packages/pandas/core/indexing.py:1637: SettingWithCopyWarning: \n",
      "A value is trying to be set on a copy of a slice from a DataFrame\n",
      "\n",
      "See the caveats in the documentation: https://pandas.pydata.org/pandas-docs/stable/user_guide/indexing.html#returning-a-view-versus-a-copy\n",
      "  self._setitem_single_block(indexer, value, name)\n",
      "/opt/conda/lib/python3.9/site-packages/pandas/core/indexing.py:692: SettingWithCopyWarning: \n",
      "A value is trying to be set on a copy of a slice from a DataFrame\n",
      "\n",
      "See the caveats in the documentation: https://pandas.pydata.org/pandas-docs/stable/user_guide/indexing.html#returning-a-view-versus-a-copy\n",
      "  iloc._setitem_with_indexer(indexer, value, self.name)\n"
     ]
    }
   ],
   "source": [
    "scaler = StandardScaler()\n",
    "scaler.fit(features_train[num_features])\n",
    "features_train[num_features] = scaler.transform(features_train[num_features])\n",
    "features_test[num_features] = scaler.transform(features_test[num_features])"
   ]
  },
  {
   "cell_type": "code",
   "execution_count": 94,
   "id": "63ba2b42",
   "metadata": {},
   "outputs": [
    {
     "data": {
      "text/html": [
       "<div>\n",
       "<style scoped>\n",
       "    .dataframe tbody tr th:only-of-type {\n",
       "        vertical-align: middle;\n",
       "    }\n",
       "\n",
       "    .dataframe tbody tr th {\n",
       "        vertical-align: top;\n",
       "    }\n",
       "\n",
       "    .dataframe thead th {\n",
       "        text-align: right;\n",
       "    }\n",
       "</style>\n",
       "<table border=\"1\" class=\"dataframe\">\n",
       "  <thead>\n",
       "    <tr style=\"text-align: right;\">\n",
       "      <th></th>\n",
       "      <th>Luminosity(L/Lo)</th>\n",
       "      <th>Radius(R/Ro)</th>\n",
       "      <th>Absolute magnitude(Mv)</th>\n",
       "      <th>Star type</th>\n",
       "      <th>Star color</th>\n",
       "    </tr>\n",
       "  </thead>\n",
       "  <tbody>\n",
       "    <tr>\n",
       "      <th>205</th>\n",
       "      <td>-0.635640</td>\n",
       "      <td>-0.477004</td>\n",
       "      <td>0.716459</td>\n",
       "      <td>2.0</td>\n",
       "      <td>0.0</td>\n",
       "    </tr>\n",
       "    <tr>\n",
       "      <th>179</th>\n",
       "      <td>0.696747</td>\n",
       "      <td>1.655950</td>\n",
       "      <td>-1.133393</td>\n",
       "      <td>5.0</td>\n",
       "      <td>2.0</td>\n",
       "    </tr>\n",
       "    <tr>\n",
       "      <th>185</th>\n",
       "      <td>-0.635640</td>\n",
       "      <td>-0.476847</td>\n",
       "      <td>1.244584</td>\n",
       "      <td>0.0</td>\n",
       "      <td>6.0</td>\n",
       "    </tr>\n",
       "    <tr>\n",
       "      <th>192</th>\n",
       "      <td>-0.635640</td>\n",
       "      <td>-0.476504</td>\n",
       "      <td>0.915805</td>\n",
       "      <td>1.0</td>\n",
       "      <td>6.0</td>\n",
       "    </tr>\n",
       "    <tr>\n",
       "      <th>229</th>\n",
       "      <td>3.379859</td>\n",
       "      <td>-0.304061</td>\n",
       "      <td>-1.048931</td>\n",
       "      <td>4.0</td>\n",
       "      <td>0.0</td>\n",
       "    </tr>\n",
       "  </tbody>\n",
       "</table>\n",
       "</div>"
      ],
      "text/plain": [
       "     Luminosity(L/Lo)  Radius(R/Ro)  Absolute magnitude(Mv)  Star type  \\\n",
       "205         -0.635640     -0.477004                0.716459        2.0   \n",
       "179          0.696747      1.655950               -1.133393        5.0   \n",
       "185         -0.635640     -0.476847                1.244584        0.0   \n",
       "192         -0.635640     -0.476504                0.915805        1.0   \n",
       "229          3.379859     -0.304061               -1.048931        4.0   \n",
       "\n",
       "     Star color  \n",
       "205         0.0  \n",
       "179         2.0  \n",
       "185         6.0  \n",
       "192         6.0  \n",
       "229         0.0  "
      ]
     },
     "execution_count": 94,
     "metadata": {},
     "output_type": "execute_result"
    }
   ],
   "source": [
    "features_train.head()"
   ]
  },
  {
   "cell_type": "code",
   "execution_count": 95,
   "id": "94840e77",
   "metadata": {},
   "outputs": [
    {
     "data": {
      "text/html": [
       "<div>\n",
       "<style scoped>\n",
       "    .dataframe tbody tr th:only-of-type {\n",
       "        vertical-align: middle;\n",
       "    }\n",
       "\n",
       "    .dataframe tbody tr th {\n",
       "        vertical-align: top;\n",
       "    }\n",
       "\n",
       "    .dataframe thead th {\n",
       "        text-align: right;\n",
       "    }\n",
       "</style>\n",
       "<table border=\"1\" class=\"dataframe\">\n",
       "  <thead>\n",
       "    <tr style=\"text-align: right;\">\n",
       "      <th></th>\n",
       "      <th>Luminosity(L/Lo)</th>\n",
       "      <th>Radius(R/Ro)</th>\n",
       "      <th>Absolute magnitude(Mv)</th>\n",
       "      <th>Star type</th>\n",
       "      <th>Star color</th>\n",
       "    </tr>\n",
       "  </thead>\n",
       "  <tbody>\n",
       "    <tr>\n",
       "      <th>128</th>\n",
       "      <td>-0.635640</td>\n",
       "      <td>-0.476883</td>\n",
       "      <td>1.493057</td>\n",
       "      <td>0.0</td>\n",
       "      <td>6.0</td>\n",
       "    </tr>\n",
       "    <tr>\n",
       "      <th>160</th>\n",
       "      <td>0.560071</td>\n",
       "      <td>-0.369864</td>\n",
       "      <td>-0.914207</td>\n",
       "      <td>4.0</td>\n",
       "      <td>0.0</td>\n",
       "    </tr>\n",
       "    <tr>\n",
       "      <th>62</th>\n",
       "      <td>-0.635640</td>\n",
       "      <td>-0.476854</td>\n",
       "      <td>1.165223</td>\n",
       "      <td>0.0</td>\n",
       "      <td>6.0</td>\n",
       "    </tr>\n",
       "    <tr>\n",
       "      <th>206</th>\n",
       "      <td>-0.635640</td>\n",
       "      <td>-0.477006</td>\n",
       "      <td>0.641823</td>\n",
       "      <td>2.0</td>\n",
       "      <td>0.0</td>\n",
       "    </tr>\n",
       "    <tr>\n",
       "      <th>79</th>\n",
       "      <td>-0.635640</td>\n",
       "      <td>-0.476728</td>\n",
       "      <td>0.965878</td>\n",
       "      <td>1.0</td>\n",
       "      <td>6.0</td>\n",
       "    </tr>\n",
       "  </tbody>\n",
       "</table>\n",
       "</div>"
      ],
      "text/plain": [
       "     Luminosity(L/Lo)  Radius(R/Ro)  Absolute magnitude(Mv)  Star type  \\\n",
       "128         -0.635640     -0.476883                1.493057        0.0   \n",
       "160          0.560071     -0.369864               -0.914207        4.0   \n",
       "62          -0.635640     -0.476854                1.165223        0.0   \n",
       "206         -0.635640     -0.477006                0.641823        2.0   \n",
       "79          -0.635640     -0.476728                0.965878        1.0   \n",
       "\n",
       "     Star color  \n",
       "128         6.0  \n",
       "160         0.0  \n",
       "62          6.0  \n",
       "206         0.0  \n",
       "79          6.0  "
      ]
     },
     "execution_count": 95,
     "metadata": {},
     "output_type": "execute_result"
    }
   ],
   "source": [
    "features_test.head()"
   ]
  },
  {
   "cell_type": "markdown",
   "id": "funded-electric",
   "metadata": {},
   "source": [
    "## Построение базовой нейронной сети"
   ]
  },
  {
   "cell_type": "code",
   "execution_count": 133,
   "id": "4ba4d051",
   "metadata": {},
   "outputs": [],
   "source": [
    "n_in_neurons = 5\n",
    "n_hidden_neurons_1 = 4\n",
    "n_hidden_neurons_2 = 3\n",
    "n_out_neurons = 1 \n",
    "n_hidden_neurons_3 = 3 \n",
    "n_hidden_neurons_4 = 3"
   ]
  },
  {
   "cell_type": "code",
   "execution_count": 97,
   "id": "forced-concentrate",
   "metadata": {},
   "outputs": [],
   "source": [
    "class NeuralNet(nn.Module):\n",
    "    def __init__(self, n_in_neurons, n_hidden_neurons_1, n_hidden_neurons_2, n_out_neurons):\n",
    "        super(NeuralNet, self).__init__()\n",
    "        self.fc1 = nn.Linear(n_in_neurons, n_hidden_neurons_1) \n",
    "        self.relu = nn.ReLU() \n",
    "        self.fc3 = nn.Linear(n_hidden_neurons_1, n_out_neurons)\n",
    "        self.out = nn.ReLU()\n",
    "    \n",
    "    def forward(self, x):\n",
    "        out = self.fc1(x)\n",
    "        out = self.relu(out)\n",
    "        out = self.fc3(out)\n",
    "        out = self.out(out)\n",
    "        return out\n",
    "\n",
    "\n",
    "    \n",
    "net = NeuralNet(n_in_neurons, n_hidden_neurons_1, n_hidden_neurons_2, n_out_neurons)"
   ]
  },
  {
   "cell_type": "code",
   "execution_count": 98,
   "id": "943c0b95",
   "metadata": {},
   "outputs": [],
   "source": [
    "features_train = torch.FloatTensor(features_train.values)\n",
    "features_test = torch.FloatTensor(features_test.values)\n",
    "target_train = torch.FloatTensor(target_train.values)\n",
    "target_test = torch.FloatTensor(target_test.values)"
   ]
  },
  {
   "cell_type": "code",
   "execution_count": 110,
   "id": "0dc7fdd6",
   "metadata": {},
   "outputs": [
    {
     "name": "stdout",
     "output_type": "stream",
     "text": [
      "134926000.0\n",
      "134376140.0\n",
      "133808670.0\n",
      "133223500.0\n",
      "132617010.0\n",
      "131989690.0\n",
      "131338480.0\n",
      "130668410.0\n",
      "129977530.0\n",
      "129262184.0\n",
      "128531120.0\n",
      "127782120.0\n",
      "127019530.0\n",
      "126235550.0\n",
      "125434120.0\n",
      "124616630.0\n",
      "123782320.0\n",
      "122932024.0\n",
      "122067304.0\n",
      "121190920.0\n",
      "120342320.0\n"
     ]
    }
   ],
   "source": [
    "optimizer = torch.optim.Adam(net.parameters(), lr=0.01)\n",
    "\n",
    "loss = nn.L1Loss()\n",
    "\n",
    "num_epochs = 400\n",
    "        \n",
    "for epoch in range(num_epochs):\n",
    "    optimizer.zero_grad()\n",
    "    \n",
    "    preds = net.forward(features_train).flatten()\n",
    "\n",
    "    loss_value = loss(preds, target_train)\n",
    "\n",
    "    loss_value.backward()\n",
    "\n",
    "    optimizer.step()\n",
    "\n",
    "    if epoch % 20 == 0 or epoch == num_epochs - 1:\n",
    "        net.eval()\n",
    "        test_preds = net.forward(features_test)\n",
    "        mse = mean_squared_error(target_test.detach().numpy(), test_preds.detach().numpy())\n",
    "        print(mse)\n"
   ]
  },
  {
   "cell_type": "code",
   "execution_count": 103,
   "id": "0eb7e52e",
   "metadata": {},
   "outputs": [
    {
     "name": "stdout",
     "output_type": "stream",
     "text": [
      "    Target       Preds\n",
      "0   2856.0  626.080505\n",
      "1  25390.0  382.384979\n",
      "2   2983.0  622.369202\n",
      "3  24020.0  274.261505\n",
      "4   3158.0  697.259460\n"
     ]
    }
   ],
   "source": [
    "plot_data = pd.DataFrame(target_test)\n",
    "plot_data['Preds'] = test_preds.detach().numpy()\n",
    "plot_data.columns = ['Target', 'Preds']\n",
    "print(plot_data.head())"
   ]
  },
  {
   "cell_type": "code",
   "execution_count": 104,
   "id": "a019a50a",
   "metadata": {},
   "outputs": [
    {
     "data": {
      "text/plain": [
       "<AxesSubplot:>"
      ]
     },
     "execution_count": 104,
     "metadata": {},
     "output_type": "execute_result"
    },
    {
     "data": {
      "image/png": "[encoded data removed]",
      "text/plain": [
       "<Figure size 432x288 with 1 Axes>"
      ]
     },
     "metadata": {
      "needs_background": "light"
     },
     "output_type": "display_data"
    }
   ],
   "source": [
    "plot_data.loc[:12].plot(kind='bar')"
   ]
  },
  {
   "cell_type": "markdown",
   "id": "c5ba6724",
   "metadata": {},
   "source": [
    "Итак, пока можно сказать, что модель плохо справляется со своей задачей. Это можно увидеть и по метрике RMSE и по графику. Вся надежда на подбор параметров модели"
   ]
  },
  {
   "cell_type": "markdown",
   "id": "growing-supply",
   "metadata": {},
   "source": [
    "## Улучшение нейронной сети"
   ]
  },
  {
   "cell_type": "code",
   "execution_count": 242,
   "id": "b1a53ce1",
   "metadata": {},
   "outputs": [],
   "source": [
    "class Model(nn.Module):\n",
    "    def __init__(self, n_hidden_neurons_1, n_hidden_neurons_2, n_hidden_neurons_3, n_hidden_neurons_4, dropout, activation):\n",
    "        super(Model, self).__init__()\n",
    "        self.layer1 = nn.Linear(5, n_hidden_neurons_1)\n",
    "        self.dp = nn.Dropout(p=dropout)\n",
    "        self.layer2 = nn.Linear(n_hidden_neurons_1, n_hidden_neurons_2)\n",
    "        self.layer3 = nn.Linear(n_hidden_neurons_2, n_hidden_neurons_3)\n",
    "        self.layer4 = nn.Linear(n_hidden_neurons_3, n_hidden_neurons_4)\n",
    "        self.layer5 = nn.Linear(n_hidden_neurons_4, 1)\n",
    "        self.activation = activation\n",
    "        \n",
    "    def forward(self, x):\n",
    "        x = self.layer1(x)\n",
    "        x = self.activation(x)\n",
    "        x = self.dp(x)\n",
    "        x = self.layer2(x)\n",
    "        x = self.activation(x)\n",
    "        x = self.dp(x)\n",
    "        x = self.layer3(x)\n",
    "        x = self.activation(x)\n",
    "        x = self.dp(x)\n",
    "        x = self.layer4(x)\n",
    "        x = self.activation(x)\n",
    "        x = self.dp(x)\n",
    "        x = self.layer5(x)\n",
    "        \n",
    "        \n",
    "        return x"
   ]
  },
  {
   "cell_type": "code",
   "execution_count": 243,
   "id": "7952f1b7",
   "metadata": {},
   "outputs": [],
   "source": [
    "n_in_neurons = 5\n",
    "n_hidden_neurons_1 = 4\n",
    "n_hidden_neurons_2 = 3\n",
    "n_hidden_neurons_3 = 3\n",
    "n_hidden_neurons_4 = 3\n",
    "activation = nn.ReLU()\n",
    "dropout = 0\n",
    "n_out_neurons = 1"
   ]
  },
  {
   "cell_type": "code",
   "execution_count": 244,
   "id": "4c9e5c63",
   "metadata": {},
   "outputs": [],
   "source": [
    "model_base = Model(n_hidden_neurons_1, n_hidden_neurons_2, n_hidden_neurons_3, n_hidden_neurons_4, dropout, activation)"
   ]
  },
  {
   "cell_type": "code",
   "execution_count": 245,
   "id": "9c2622e3",
   "metadata": {},
   "outputs": [],
   "source": [
    "from sklearn.metrics import make_scorer\n",
    "def rmse(y_true, y_pred):\n",
    "    return mean_squared_error(y_true, y_pred) ** 0.5\n",
    "\n",
    "rmse_scorer = make_scorer(rmse) "
   ]
  },
  {
   "cell_type": "code",
   "execution_count": 250,
   "id": "3a3a6053",
   "metadata": {},
   "outputs": [],
   "source": [
    "params = {\n",
    "    'module__dropout': [0, 0.2, 0.5],\n",
    "    'module__n_hidden_neurons_1': range(15, 30, 5),\n",
    "    'module__n_hidden_neurons_2': range(10, 20, 4),\n",
    "    'module__n_hidden_neurons_3': range(6, 13, 3),\n",
    "    'module__n_hidden_neurons_4': range(3, 8, 2),\n",
    "    'module__activation': [nn.LeakyReLU(), nn.Tanh(), nn.ReLU(), nn.ELU()],\n",
    "    'lr': [1e-3, 1e-4]\n",
    "}"
   ]
  },
  {
   "cell_type": "code",
   "execution_count": 251,
   "id": "7f14f753",
   "metadata": {},
   "outputs": [],
   "source": [
    "from skorch.callbacks import EpochScoring, EarlyStopping\n",
    "from skorch.regressor import NeuralNetClassifier\n",
    "from skorch.dataset import ValidSplit\n",
    "skorch_regressor = NeuralNetClassifier(module=model_base, \n",
    "                                      device='cpu',  \n",
    "                                      verbose=3,\n",
    "                                      batch_size=4,\n",
    "                                      optimizer=torch.optim.Adam, \n",
    "                                      max_epochs=2500, \n",
    "                                      lr=1e-3,\n",
    "                                      train_split=ValidSplit(cv=5),\n",
    "                                      criterion =nn.MSELoss,\n",
    "                                      callbacks=[\n",
    "                ('val_rmse', EpochScoring(scoring=rmse_scorer, lower_is_better=True, name='RMSE')),\n",
    "                ('estoper', EarlyStopping( lower_is_better=True, monitor='RMSE', patience=5)),\n",
    "            ],\n",
    "                                     ) "
   ]
  },
  {
   "cell_type": "code",
   "execution_count": 252,
   "id": "d7737533",
   "metadata": {},
   "outputs": [
    {
     "name": "stdout",
     "output_type": "stream",
     "text": [
      "Fitting 3 folds for each of 10 candidates, totalling 30 fits\n",
      "  epoch       RMSE      train_loss     valid_loss     dur\n",
      "-------  ---------  --------------  -------------  ------\n",
      "      1  \u001b[36m7853.4660\u001b[0m  \u001b[32m246712232.9583\u001b[0m  \u001b[35m61676930.6667\u001b[0m  0.0277\n",
      "      2  \u001b[36m7853.4505\u001b[0m  \u001b[32m246711820.3333\u001b[0m  \u001b[35m61676682.0000\u001b[0m  0.0282\n",
      "      3  \u001b[36m7853.4334\u001b[0m  \u001b[32m246711367.6250\u001b[0m  \u001b[35m61676421.0000\u001b[0m  0.0286\n",
      "      4  \u001b[36m7853.4151\u001b[0m  \u001b[32m246710879.5833\u001b[0m  \u001b[35m61676130.3333\u001b[0m  0.0268\n",
      "      5  \u001b[36m7853.3954\u001b[0m  \u001b[32m246710357.6667\u001b[0m  \u001b[35m61675819.0000\u001b[0m  0.0270\n",
      "Stopping since RMSE has not improved in the last 5 epochs.\n",
      "[CV 1/3] END lr=0.0001, module__activation=ELU(alpha=1.0), module__dropout=0, module__n_hidden_neurons_1=15, module__n_hidden_neurons_2=10, module__n_hidden_neurons_3=12, module__n_hidden_neurons_4=7; total time=   0.2s\n",
      "  epoch        RMSE      train_loss      valid_loss     dur\n",
      "-------  ----------  --------------  --------------  ------\n",
      "      1  \u001b[36m14942.3024\u001b[0m  \u001b[32m252359519.4167\u001b[0m  \u001b[35m223272416.0000\u001b[0m  0.0272\n",
      "      2  \u001b[36m14942.2676\u001b[0m  \u001b[32m252358425.7917\u001b[0m  \u001b[35m223271377.6667\u001b[0m  0.0252\n",
      "      3  \u001b[36m14942.2312\u001b[0m  \u001b[32m252357260.3333\u001b[0m  \u001b[35m223270248.6667\u001b[0m  0.0259\n",
      "      4  \u001b[36m14942.1899\u001b[0m  \u001b[32m252356007.8750\u001b[0m  \u001b[35m223269035.3333\u001b[0m  0.0275\n",
      "      5  \u001b[36m14942.1450\u001b[0m  \u001b[32m252354639.6667\u001b[0m  \u001b[35m223267699.0000\u001b[0m  0.0264\n",
      "Stopping since RMSE has not improved in the last 5 epochs.\n",
      "[CV 2/3] END lr=0.0001, module__activation=ELU(alpha=1.0), module__dropout=0, module__n_hidden_neurons_1=15, module__n_hidden_neurons_2=10, module__n_hidden_neurons_3=12, module__n_hidden_neurons_4=7; total time=   0.2s\n",
      "  epoch        RMSE      train_loss      valid_loss     dur\n",
      "-------  ----------  --------------  --------------  ------\n",
      "      1  \u001b[36m14942.8206\u001b[0m  \u001b[32m199131777.1250\u001b[0m  \u001b[35m223287918.3333\u001b[0m  0.0366\n",
      "      2  \u001b[36m14942.7944\u001b[0m  \u001b[32m199131042.0000\u001b[0m  \u001b[35m223287100.0000\u001b[0m  0.0280\n",
      "      3  \u001b[36m14942.7665\u001b[0m  \u001b[32m199130278.0833\u001b[0m  \u001b[35m223286258.0000\u001b[0m  0.0327\n",
      "      4  \u001b[36m14942.7366\u001b[0m  \u001b[32m199129491.6667\u001b[0m  \u001b[35m223285365.3333\u001b[0m  0.0317\n",
      "      5  \u001b[36m14942.7050\u001b[0m  \u001b[32m199128669.2083\u001b[0m  \u001b[35m223284447.6667\u001b[0m  0.0270\n",
      "Stopping since RMSE has not improved in the last 5 epochs.\n",
      "[CV 3/3] END lr=0.0001, module__activation=ELU(alpha=1.0), module__dropout=0, module__n_hidden_neurons_1=15, module__n_hidden_neurons_2=10, module__n_hidden_neurons_3=12, module__n_hidden_neurons_4=7; total time=   0.2s\n",
      "  epoch       RMSE      train_loss     valid_loss     dur\n",
      "-------  ---------  --------------  -------------  ------\n",
      "      1  \u001b[36m7853.1678\u001b[0m  \u001b[32m246705600.7500\u001b[0m  \u001b[35m61672246.3333\u001b[0m  0.0359\n",
      "      2  \u001b[36m7853.0667\u001b[0m  \u001b[32m246702574.1667\u001b[0m  \u001b[35m61670658.6667\u001b[0m  0.0307\n",
      "      3  \u001b[36m7852.9454\u001b[0m  \u001b[32m246699389.0000\u001b[0m  \u001b[35m61668749.0000\u001b[0m  0.0314\n",
      "      4  \u001b[36m7852.7761\u001b[0m  \u001b[32m246695211.6667\u001b[0m  \u001b[35m61666089.3333\u001b[0m  0.0328\n",
      "      5  \u001b[36m7852.5367\u001b[0m  \u001b[32m246690782.4167\u001b[0m  \u001b[35m61662333.0000\u001b[0m  0.0319\n",
      "      6  \u001b[36m7852.2351\u001b[0m  \u001b[32m246688713.8750\u001b[0m  \u001b[35m61657597.6667\u001b[0m  0.0366\n",
      "      7  \u001b[36m7851.7303\u001b[0m  \u001b[32m246672057.4167\u001b[0m  \u001b[35m61649669.0000\u001b[0m  0.0312\n",
      "      8  \u001b[36m7850.8364\u001b[0m  \u001b[32m246643454.8750\u001b[0m  \u001b[35m61635630.0000\u001b[0m  0.0311\n",
      "      9  \u001b[36m7849.2764\u001b[0m  \u001b[32m246613373.8333\u001b[0m  \u001b[35m61611138.6667\u001b[0m  0.0389\n",
      "     10  \u001b[36m7846.8019\u001b[0m  \u001b[32m246549162.0000\u001b[0m  \u001b[35m61572299.6667\u001b[0m  0.0307\n",
      "     11  \u001b[36m7842.7947\u001b[0m  \u001b[32m246474683.5833\u001b[0m  \u001b[35m61509430.0000\u001b[0m  0.0319\n",
      "     12  \u001b[36m7836.8851\u001b[0m  \u001b[32m246360585.5000\u001b[0m  \u001b[35m61416768.3333\u001b[0m  0.0359\n",
      "     13  \u001b[36m7826.2530\u001b[0m  \u001b[32m246039576.0000\u001b[0m  \u001b[35m61250234.6667\u001b[0m  0.0303\n",
      "     14  \u001b[36m7810.3892\u001b[0m  \u001b[32m245510794.0417\u001b[0m  \u001b[35m61002180.6667\u001b[0m  0.0304\n",
      "     15  \u001b[36m7787.9941\u001b[0m  \u001b[32m245206335.3750\u001b[0m  \u001b[35m60652857.6667\u001b[0m  0.0364\n",
      "     16  \u001b[36m7757.9453\u001b[0m  \u001b[32m244797494.2083\u001b[0m  \u001b[35m60185715.3333\u001b[0m  0.0325\n",
      "     17  \u001b[36m7712.3963\u001b[0m  \u001b[32m243347781.6250\u001b[0m  \u001b[35m59481052.0000\u001b[0m  0.0300\n",
      "     18  \u001b[36m7641.5551\u001b[0m  \u001b[32m241030184.5833\u001b[0m  \u001b[35m58393362.0000\u001b[0m  0.0362\n",
      "     19  \u001b[36m7559.2791\u001b[0m  \u001b[32m238321904.4167\u001b[0m  \u001b[35m57142694.3333\u001b[0m  0.0325\n",
      "     20  \u001b[36m7441.5095\u001b[0m  \u001b[32m233785622.3333\u001b[0m  \u001b[35m55376062.3333\u001b[0m  0.0319\n",
      "     21  \u001b[36m7301.5790\u001b[0m  234178173.6667  \u001b[35m53313053.0000\u001b[0m  0.0314\n",
      "     22  \u001b[36m7135.3699\u001b[0m  \u001b[32m226322509.8542\u001b[0m  \u001b[35m50913505.6667\u001b[0m  0.0298\n",
      "     23  \u001b[36m6929.9088\u001b[0m  \u001b[32m222822678.5833\u001b[0m  \u001b[35m48023636.6667\u001b[0m  0.0346\n",
      "     24  \u001b[36m6718.2519\u001b[0m  \u001b[32m219046409.0000\u001b[0m  \u001b[35m45134905.1667\u001b[0m  0.0319\n",
      "     25  \u001b[36m6522.3815\u001b[0m  \u001b[32m212998543.8750\u001b[0m  \u001b[35m42541459.6667\u001b[0m  0.0312\n",
      "     26  \u001b[36m6324.8459\u001b[0m  \u001b[32m208768755.2760\u001b[0m  \u001b[35m40003680.7500\u001b[0m  0.0339\n",
      "     27  \u001b[36m6171.0502\u001b[0m  209400963.6250  \u001b[35m38081860.6667\u001b[0m  0.0289\n",
      "     28  \u001b[36m6034.3142\u001b[0m  \u001b[32m195797107.5417\u001b[0m  \u001b[35m36412946.5000\u001b[0m  0.0291\n",
      "     29  \u001b[36m5922.0196\u001b[0m  200220821.3333  \u001b[35m35070315.5417\u001b[0m  0.0310\n",
      "     30  \u001b[36m5849.2830\u001b[0m  \u001b[32m188755806.9167\u001b[0m  \u001b[35m34214115.4583\u001b[0m  0.0299\n",
      "     31  \u001b[36m5787.8340\u001b[0m  194758061.1875  \u001b[35m33499022.4167\u001b[0m  0.0302\n",
      "     32  \u001b[36m5744.2387\u001b[0m  197778687.1458  \u001b[35m32996279.5000\u001b[0m  0.0351\n",
      "     33  \u001b[36m5700.5431\u001b[0m  189843333.0000  \u001b[35m32496190.3333\u001b[0m  0.0302\n",
      "     34  5706.8142  224712282.2292  32567729.1667  0.0310\n",
      "     35  \u001b[36m5699.6772\u001b[0m  192498031.0000  \u001b[35m32486320.8333\u001b[0m  0.0391\n",
      "     36  \u001b[36m5667.9513\u001b[0m  \u001b[32m182190452.4583\u001b[0m  \u001b[35m32125671.1667\u001b[0m  0.0303\n",
      "     37  \u001b[36m5649.0178\u001b[0m  202080375.3333  \u001b[35m31911403.8333\u001b[0m  0.0318\n",
      "     38  \u001b[36m5648.8553\u001b[0m  205766936.1667  \u001b[35m31909565.6667\u001b[0m  0.0334\n",
      "     39  \u001b[36m5637.8627\u001b[0m  183920345.0000  \u001b[35m31785493.7500\u001b[0m  0.0321\n",
      "     40  \u001b[36m5598.0673\u001b[0m  \u001b[32m178711627.0833\u001b[0m  \u001b[35m31338358.1667\u001b[0m  0.0304\n",
      "     41  \u001b[36m5578.0900\u001b[0m  197648467.5000  \u001b[35m31115087.1667\u001b[0m  0.0428\n",
      "     42  \u001b[36m5549.5335\u001b[0m  \u001b[32m171962269.0208\u001b[0m  \u001b[35m30797323.0833\u001b[0m  0.0327\n",
      "     43  \u001b[36m5533.7765\u001b[0m  175985801.6667  \u001b[35m30622684.0000\u001b[0m  0.0322\n",
      "     44  \u001b[36m5524.2370\u001b[0m  186460983.2708  \u001b[35m30517193.5833\u001b[0m  0.0341\n",
      "     45  \u001b[36m5518.0134\u001b[0m  \u001b[32m158837821.5833\u001b[0m  \u001b[35m30448472.8333\u001b[0m  0.0320\n",
      "     46  \u001b[36m5511.2010\u001b[0m  178002875.0000  \u001b[35m30373335.5000\u001b[0m  0.0374\n",
      "     47  \u001b[36m5500.2187\u001b[0m  168934832.0208  \u001b[35m30252406.3333\u001b[0m  0.0322\n",
      "     48  \u001b[36m5499.2525\u001b[0m  172063527.7500  \u001b[35m30241779.6667\u001b[0m  0.0336\n",
      "     49  \u001b[36m5496.4168\u001b[0m  159314004.8333  \u001b[35m30210598.0000\u001b[0m  0.0361\n",
      "     50  5501.6805  161707119.5625  30268489.3333  0.0315\n",
      "     51  5500.7249  180802427.7500  30257975.0000  0.0320\n",
      "     52  5513.8604  168676165.7083  30402654.1667  0.0372\n",
      "     53  \u001b[36m5490.7815\u001b[0m  183483010.7917  \u001b[35m30148684.3333\u001b[0m  0.0337\n",
      "     54  \u001b[36m5487.8499\u001b[0m  182460942.7083  \u001b[35m30116496.3333\u001b[0m  0.0431\n",
      "     55  \u001b[36m5482.2968\u001b[0m  171407013.2604  \u001b[35m30055580.5000\u001b[0m  0.0312\n",
      "     56  \u001b[36m5462.2310\u001b[0m  187826495.2500  \u001b[35m29835968.3333\u001b[0m  0.0323\n",
      "     57  \u001b[36m5441.8932\u001b[0m  201981387.7292  \u001b[35m29614203.0000\u001b[0m  0.0393\n",
      "     58  5447.2960  \u001b[32m151601202.5000\u001b[0m  29673031.8333  0.0316\n",
      "     59  \u001b[36m5429.2254\u001b[0m  190210994.1667  \u001b[35m29476486.8333\u001b[0m  0.0310\n",
      "     60  \u001b[36m5409.8200\u001b[0m  193165925.5833  \u001b[35m29266153.8333\u001b[0m  0.0404\n",
      "     61  \u001b[36m5387.6178\u001b[0m  178730712.1250  \u001b[35m29026426.6667\u001b[0m  0.0311\n",
      "     62  \u001b[36m5382.0221\u001b[0m  159721309.0625  \u001b[35m28966162.9167\u001b[0m  0.0304\n",
      "     63  \u001b[36m5377.0810\u001b[0m  174218535.9167  \u001b[35m28913001.9167\u001b[0m  0.0370\n",
      "     64  5380.5165  152038352.9167  28949959.0000  0.0316\n",
      "     65  \u001b[36m5371.1029\u001b[0m  165591311.4167  \u001b[35m28848746.8333\u001b[0m  0.0327\n",
      "     66  \u001b[36m5368.3346\u001b[0m  179364509.5000  \u001b[35m28819015.2500\u001b[0m  0.0313\n",
      "     67  \u001b[36m5360.5477\u001b[0m  \u001b[32m149303105.9167\u001b[0m  \u001b[35m28735474.1667\u001b[0m  0.0314\n",
      "     68  5361.7564  156799526.2292  28748431.3333  0.0356\n",
      "     69  \u001b[36m5349.1465\u001b[0m  168747081.0833  \u001b[35m28613368.0833\u001b[0m  0.0327\n",
      "     70  \u001b[36m5344.4641\u001b[0m  180780103.5000  \u001b[35m28563296.6667\u001b[0m  0.0319\n",
      "     71  \u001b[36m5329.7469\u001b[0m  168879535.3958  \u001b[35m28406200.2500\u001b[0m  0.0385\n",
      "     72  \u001b[36m5323.2839\u001b[0m  157335370.4167  \u001b[35m28337351.2500\u001b[0m  0.0341\n",
      "     73  \u001b[36m5310.4145\u001b[0m  182520438.9583  \u001b[35m28200499.9167\u001b[0m  0.0353\n",
      "     74  \u001b[36m5310.2864\u001b[0m  159281314.8021  \u001b[35m28199140.6667\u001b[0m  0.0407\n",
      "     75  5318.7185  \u001b[32m143383038.5208\u001b[0m  28288766.4167  0.0330\n",
      "     76  5330.2976  \u001b[32m142584680.0833\u001b[0m  28412073.1667  0.0380\n",
      "     77  5340.2163  143493442.8333  28517906.6667  0.0317\n",
      "Stopping since RMSE has not improved in the last 5 epochs.\n",
      "[CV 1/3] END lr=0.001, module__activation=ELU(alpha=1.0), module__dropout=0.5, module__n_hidden_neurons_1=20, module__n_hidden_neurons_2=10, module__n_hidden_neurons_3=12, module__n_hidden_neurons_4=7; total time=   2.8s\n",
      "  epoch        RMSE      train_loss      valid_loss     dur\n",
      "-------  ----------  --------------  --------------  ------\n",
      "      1  \u001b[36m14942.3870\u001b[0m  \u001b[32m252362253.6667\u001b[0m  \u001b[35m223274935.3333\u001b[0m  0.0448\n",
      "      2  \u001b[36m14942.2799\u001b[0m  \u001b[32m252360011.8750\u001b[0m  \u001b[35m223271715.0000\u001b[0m  0.0318\n",
      "      3  \u001b[36m14942.1541\u001b[0m  \u001b[32m252356481.5000\u001b[0m  \u001b[35m223267971.6667\u001b[0m  0.0313\n",
      "      4  \u001b[36m14941.9442\u001b[0m  \u001b[32m252350530.7500\u001b[0m  \u001b[35m223261683.3333\u001b[0m  0.0311\n",
      "      5  \u001b[36m14941.6631\u001b[0m  \u001b[32m252344416.3333\u001b[0m  \u001b[35m223253302.6667\u001b[0m  0.0315\n",
      "Stopping since RMSE has not improved in the last 5 epochs.\n",
      "[CV 2/3] END lr=0.001, module__activation=ELU(alpha=1.0), module__dropout=0.5, module__n_hidden_neurons_1=20, module__n_hidden_neurons_2=10, module__n_hidden_neurons_3=12, module__n_hidden_neurons_4=7; total time=   0.2s\n",
      "  epoch        RMSE      train_loss      valid_loss     dur\n",
      "-------  ----------  --------------  --------------  ------\n",
      "      1  \u001b[36m14942.6381\u001b[0m  \u001b[32m199131247.0417\u001b[0m  \u001b[35m223282434.3333\u001b[0m  0.0323\n",
      "      2  \u001b[36m14942.4582\u001b[0m  \u001b[32m199125002.3333\u001b[0m  \u001b[35m223277068.0000\u001b[0m  0.0325\n",
      "      3  \u001b[36m14942.2338\u001b[0m  \u001b[32m199118789.6667\u001b[0m  \u001b[35m223270351.3333\u001b[0m  0.0363\n",
      "      4  \u001b[36m14941.8890\u001b[0m  \u001b[32m199111213.9167\u001b[0m  \u001b[35m223260033.3333\u001b[0m  0.0323\n",
      "      5  \u001b[36m14941.3788\u001b[0m  \u001b[32m199100725.6667\u001b[0m  \u001b[35m223244796.6667\u001b[0m  0.0326\n",
      "      6  \u001b[36m14940.6094\u001b[0m  \u001b[32m199081543.3333\u001b[0m  \u001b[35m223221802.6667\u001b[0m  0.0322\n",
      "      7  \u001b[36m14939.6005\u001b[0m  \u001b[32m199071339.1667\u001b[0m  \u001b[35m223191666.6667\u001b[0m  0.0313\n",
      "      8  \u001b[36m14938.4085\u001b[0m  \u001b[32m199056250.8333\u001b[0m  \u001b[35m223156045.6667\u001b[0m  0.0386\n",
      "      9  \u001b[36m14936.2276\u001b[0m  \u001b[32m198992344.4583\u001b[0m  \u001b[35m223090896.6667\u001b[0m  0.0331\n",
      "     10  \u001b[36m14933.2065\u001b[0m  \u001b[32m198929260.8333\u001b[0m  \u001b[35m223000648.0000\u001b[0m  0.0344\n",
      "     11  \u001b[36m14928.4475\u001b[0m  \u001b[32m198811697.4167\u001b[0m  \u001b[35m222858545.6667\u001b[0m  0.0461\n",
      "     12  \u001b[36m14919.5560\u001b[0m  \u001b[32m198463955.3333\u001b[0m  \u001b[35m222593156.3333\u001b[0m  0.0320\n",
      "     13  \u001b[36m14908.4819\u001b[0m  \u001b[32m198327353.7500\u001b[0m  \u001b[35m222262824.0000\u001b[0m  0.0313\n",
      "     14  \u001b[36m14892.9981\u001b[0m  \u001b[32m197871727.1667\u001b[0m  \u001b[35m221801387.3333\u001b[0m  0.0358\n",
      "     15  \u001b[36m14874.4275\u001b[0m  197953066.9167  \u001b[35m221248601.6667\u001b[0m  0.0311\n",
      "     16  \u001b[36m14850.6765\u001b[0m  \u001b[32m197044431.7917\u001b[0m  \u001b[35m220542610.6667\u001b[0m  0.0408\n",
      "     17  \u001b[36m14817.1150\u001b[0m  \u001b[32m196439839.2083\u001b[0m  \u001b[35m219546903.0000\u001b[0m  0.0322\n",
      "     18  \u001b[36m14776.0368\u001b[0m  \u001b[32m194754687.4167\u001b[0m  \u001b[35m218331247.3333\u001b[0m  0.0308\n",
      "     19  \u001b[36m14722.7220\u001b[0m  \u001b[32m194689271.1250\u001b[0m  \u001b[35m216758530.0000\u001b[0m  0.0379\n",
      "     20  \u001b[36m14669.6001\u001b[0m  \u001b[32m193693974.8333\u001b[0m  \u001b[35m215197172.0000\u001b[0m  0.0317\n",
      "     21  \u001b[36m14600.1792\u001b[0m  \u001b[32m192715403.3542\u001b[0m  \u001b[35m213165218.0000\u001b[0m  0.0315\n",
      "     22  \u001b[36m14508.8663\u001b[0m  \u001b[32m188683964.2083\u001b[0m  \u001b[35m210507188.0000\u001b[0m  0.0386\n",
      "     23  \u001b[36m14408.6257\u001b[0m  \u001b[32m186114761.7500\u001b[0m  \u001b[35m207608477.3333\u001b[0m  0.0320\n",
      "     24  \u001b[36m14293.7502\u001b[0m  \u001b[32m183474895.4583\u001b[0m  \u001b[35m204311280.6667\u001b[0m  0.0364\n",
      "     25  \u001b[36m14178.1370\u001b[0m  185477037.0833  \u001b[35m201019562.6667\u001b[0m  0.0320\n",
      "     26  \u001b[36m14062.1552\u001b[0m  \u001b[32m181536025.7917\u001b[0m  \u001b[35m197744223.0000\u001b[0m  0.0299\n",
      "     27  \u001b[36m13926.9425\u001b[0m  \u001b[32m171865766.4583\u001b[0m  \u001b[35m193959712.0000\u001b[0m  0.0360\n",
      "     28  \u001b[36m13838.1727\u001b[0m  182946835.9479  \u001b[35m191495016.6667\u001b[0m  0.0388\n",
      "     29  \u001b[36m13765.6413\u001b[0m  176923175.1250  \u001b[35m189492886.0833\u001b[0m  0.0366\n",
      "     30  \u001b[36m13629.5326\u001b[0m  \u001b[32m162347732.4062\u001b[0m  \u001b[35m185764160.7500\u001b[0m  0.0365\n",
      "     31  \u001b[36m13509.0701\u001b[0m  169070291.2500  \u001b[35m182494999.3333\u001b[0m  0.0394\n",
      "     32  \u001b[36m13416.9707\u001b[0m  165055148.3438  \u001b[35m180015099.6667\u001b[0m  0.0459\n",
      "     33  \u001b[36m13329.1590\u001b[0m  168908771.6458  \u001b[35m177666491.4167\u001b[0m  0.0341\n",
      "     34  \u001b[36m13192.1850\u001b[0m  \u001b[32m150531837.0000\u001b[0m  \u001b[35m174033735.2500\u001b[0m  0.0318\n",
      "     35  \u001b[36m13101.8100\u001b[0m  171425055.2917  \u001b[35m171657422.5000\u001b[0m  0.0366\n",
      "     36  \u001b[36m13042.6138\u001b[0m  168541656.2917  \u001b[35m170109797.5000\u001b[0m  0.0314\n",
      "     37  \u001b[36m12994.0657\u001b[0m  156561988.7708  \u001b[35m168845739.6667\u001b[0m  0.0320\n",
      "     38  \u001b[36m12908.1444\u001b[0m  152496394.6458  \u001b[35m166620194.3750\u001b[0m  0.0408\n",
      "     39  \u001b[36m12869.9563\u001b[0m  169087775.5833  \u001b[35m165635777.0000\u001b[0m  0.0326\n",
      "     40  \u001b[36m12852.2533\u001b[0m  168839564.5260  \u001b[35m165180417.0417\u001b[0m  0.0379\n",
      "     41  12880.6230  172120422.7917  165910456.2917  0.0317\n",
      "     42  \u001b[36m12848.3917\u001b[0m  167648919.7083  \u001b[35m165081180.7083\u001b[0m  0.0308\n",
      "     43  \u001b[36m12831.9844\u001b[0m  159320735.1250  \u001b[35m164659817.8750\u001b[0m  0.0361\n",
      "     44  \u001b[36m12741.6922\u001b[0m  159635305.8750  \u001b[35m162350718.4583\u001b[0m  0.0391\n",
      "     45  \u001b[36m12713.7626\u001b[0m  165066965.3750  \u001b[35m161639757.6250\u001b[0m  0.0340\n",
      "     46  \u001b[36m12662.9532\u001b[0m  152766280.5208  \u001b[35m160350390.6250\u001b[0m  0.0393\n",
      "     47  \u001b[36m12615.6455\u001b[0m  151088605.6042  \u001b[35m159154507.9583\u001b[0m  0.0313\n",
      "     48  \u001b[36m12541.9922\u001b[0m  154009087.4167  \u001b[35m157301565.7500\u001b[0m  0.0399\n",
      "     49  12633.1551  191830870.3750  159596611.3333  0.0347\n",
      "     50  12647.1518  155149439.6250  159950453.5417  0.0344\n",
      "     51  12572.8768  \u001b[32m147767101.0417\u001b[0m  158077228.5833  0.0402\n",
      "     52  \u001b[36m12500.0627\u001b[0m  \u001b[32m141899924.2708\u001b[0m  \u001b[35m156251559.5417\u001b[0m  0.0331\n",
      "     53  \u001b[36m12445.5827\u001b[0m  150014566.9167  \u001b[35m154892513.4167\u001b[0m  0.0332\n",
      "     54  \u001b[36m12409.7349\u001b[0m  163528687.3854  \u001b[35m154001517.2500\u001b[0m  0.0378\n",
      "     55  12411.5952  168195354.0417  154047705.4167  0.0330\n",
      "     56  \u001b[36m12394.1980\u001b[0m  154211453.3333  \u001b[35m153616155.9583\u001b[0m  0.0371\n",
      "     57  \u001b[36m12342.9455\u001b[0m  \u001b[32m141279894.4792\u001b[0m  \u001b[35m152348299.4167\u001b[0m  0.0335\n",
      "     58  12408.5815  190752577.9583  153972902.5417  0.0330\n",
      "     59  12405.0074  151259885.2083  153884205.1667  0.0409\n",
      "     60  12381.7382  153862343.3333  153307423.7917  0.0322\n",
      "     61  \u001b[36m12326.0914\u001b[0m  141721850.3750  \u001b[35m151932522.0417\u001b[0m  0.0336\n",
      "     62  \u001b[36m12287.2422\u001b[0m  152601289.3750  \u001b[35m150976327.1250\u001b[0m  0.0416\n",
      "     63  \u001b[36m12259.9876\u001b[0m  150658917.2344  \u001b[35m150307297.5000\u001b[0m  0.0323\n",
      "     64  \u001b[36m12239.1647\u001b[0m  171408218.9375  \u001b[35m149797152.0833\u001b[0m  0.0345\n",
      "     65  \u001b[36m12208.0990\u001b[0m  155802270.6250  \u001b[35m149037679.8333\u001b[0m  0.0310\n",
      "     66  \u001b[36m12153.7069\u001b[0m  \u001b[32m133256678.9375\u001b[0m  \u001b[35m147712584.4583\u001b[0m  0.0366\n",
      "     67  \u001b[36m12142.1902\u001b[0m  161747428.7917  \u001b[35m147432783.4167\u001b[0m  0.0505\n",
      "     68  12168.7488  166650006.4792  148078437.9583  0.0474\n",
      "     69  12186.8598  171571931.9167  148519555.7917  0.0460\n",
      "     70  12167.4313  147803213.2083  148046387.9583  0.0422\n",
      "     71  \u001b[36m12140.9515\u001b[0m  160864640.4167  \u001b[35m147402716.6250\u001b[0m  0.0450\n",
      "     72  \u001b[36m12111.5502\u001b[0m  142432316.3750  \u001b[35m146689640.8333\u001b[0m  0.0312\n",
      "     73  12119.2798  156744385.3125  146876939.6667  0.0308\n",
      "     74  \u001b[36m12073.8375\u001b[0m  146258223.3125  \u001b[35m145777564.5417\u001b[0m  0.0362\n",
      "     75  \u001b[36m12063.8833\u001b[0m  160107676.8333  \u001b[35m145537284.3750\u001b[0m  0.0308\n",
      "     76  12064.8866  166131339.7917  145561495.3333  0.0299\n",
      "     77  \u001b[36m12056.3524\u001b[0m  151594293.9792  \u001b[35m145355628.4167\u001b[0m  0.0369\n",
      "     78  \u001b[36m12004.6744\u001b[0m  135753058.3802  \u001b[35m144112210.5000\u001b[0m  0.0397\n",
      "     79  \u001b[36m11939.1122\u001b[0m  156705781.0625  \u001b[35m142542396.3750\u001b[0m  0.0337\n",
      "     80  \u001b[36m11898.9761\u001b[0m  135137378.6875  \u001b[35m141585627.8750\u001b[0m  0.0324\n",
      "     81  \u001b[36m11876.6615\u001b[0m  156464729.9167  \u001b[35m141055084.0417\u001b[0m  0.0331\n",
      "     82  \u001b[36m11850.7498\u001b[0m  155802387.2500  \u001b[35m140440275.6250\u001b[0m  0.0428\n",
      "     83  \u001b[36m11802.4221\u001b[0m  151642753.9375  \u001b[35m139297165.4583\u001b[0m  0.0311\n",
      "     84  \u001b[36m11735.2726\u001b[0m  144569734.7292  \u001b[35m137716630.1250\u001b[0m  0.0310\n",
      "     85  \u001b[36m11705.4681\u001b[0m  158430666.4583  \u001b[35m137017980.8333\u001b[0m  0.0377\n",
      "     86  \u001b[36m11679.7568\u001b[0m  156996393.2083  \u001b[35m136416716.2917\u001b[0m  0.0328\n",
      "     87  \u001b[36m11656.4880\u001b[0m  137509855.2917  \u001b[35m135873717.4167\u001b[0m  0.0415\n",
      "     88  \u001b[36m11636.5060\u001b[0m  146887141.2292  \u001b[35m135408285.7917\u001b[0m  0.0320\n",
      "     89  11652.6502  166225309.2083  135784261.3750  0.0301\n",
      "     90  11645.1157  138944066.8958  135608716.0833  0.0358\n",
      "     91  \u001b[36m11605.4146\u001b[0m  141141580.3333  \u001b[35m134685664.8750\u001b[0m  0.0302\n",
      "     92  \u001b[36m11593.6748\u001b[0m  152184486.5208  \u001b[35m134413298.9583\u001b[0m  0.0317\n",
      "     93  \u001b[36m11576.0083\u001b[0m  134942456.9583  \u001b[35m134003976.5833\u001b[0m  0.0374\n",
      "     94  \u001b[36m11558.9941\u001b[0m  160896554.7812  \u001b[35m133610346.3333\u001b[0m  0.0309\n",
      "     95  \u001b[36m11532.5182\u001b[0m  142188551.0208  \u001b[35m132998977.8750\u001b[0m  0.0312\n",
      "     96  \u001b[36m11519.6344\u001b[0m  154111355.5000  \u001b[35m132701980.6250\u001b[0m  0.0380\n",
      "     97  \u001b[36m11488.2340\u001b[0m  141388283.1042  \u001b[35m131979516.5833\u001b[0m  0.0376\n",
      "     98  \u001b[36m11410.5677\u001b[0m  138905946.8958  \u001b[35m130201054.7500\u001b[0m  0.0442\n",
      "     99  \u001b[36m11372.8037\u001b[0m  136015011.1458  \u001b[35m129340656.6667\u001b[0m  0.0415\n",
      "    100  \u001b[36m11361.2073\u001b[0m  149062111.3750  \u001b[35m129077025.0000\u001b[0m  0.0309\n",
      "    101  \u001b[36m11304.2650\u001b[0m  \u001b[32m122774103.4896\u001b[0m  \u001b[35m127786419.8750\u001b[0m  0.0396\n",
      "    102  \u001b[36m11237.5595\u001b[0m  \u001b[32m112673318.2917\u001b[0m  \u001b[35m126282742.9167\u001b[0m  0.0310\n",
      "    103  11318.7748  174626128.7083  128114661.2083  0.0317\n",
      "    104  11360.2518  168718232.6875  129055318.7500  0.0319\n",
      "    105  11387.2490  136174420.7708  129669449.1667  0.0313\n",
      "    106  11383.5306  132207532.8750  129584762.7917  0.0322\n",
      "Stopping since RMSE has not improved in the last 5 epochs.\n",
      "[CV 3/3] END lr=0.001, module__activation=ELU(alpha=1.0), module__dropout=0.5, module__n_hidden_neurons_1=20, module__n_hidden_neurons_2=10, module__n_hidden_neurons_3=12, module__n_hidden_neurons_4=7; total time=   4.0s\n",
      "  epoch       RMSE      train_loss     valid_loss     dur\n",
      "-------  ---------  --------------  -------------  ------\n",
      "      1  \u001b[36m7853.0180\u001b[0m  \u001b[32m246701111.7917\u001b[0m  \u001b[35m61669893.3333\u001b[0m  0.0322\n",
      "      2  \u001b[36m7853.0083\u001b[0m  \u001b[32m246699201.2500\u001b[0m  \u001b[35m61669736.6667\u001b[0m  0.0367\n",
      "      3  \u001b[36m7852.9982\u001b[0m  246699445.5417  \u001b[35m61669581.0000\u001b[0m  0.0291\n",
      "      4  \u001b[36m7852.9892\u001b[0m  246699897.4167  \u001b[35m61669442.3333\u001b[0m  0.0322\n",
      "      5  \u001b[36m7852.9808\u001b[0m  246699557.8750  \u001b[35m61669309.6667\u001b[0m  0.0429\n",
      "Stopping since RMSE has not improved in the last 5 epochs.\n",
      "[CV 1/3] END lr=0.0001, module__activation=ELU(alpha=1.0), module__dropout=0.5, module__n_hidden_neurons_1=25, module__n_hidden_neurons_2=10, module__n_hidden_neurons_3=9, module__n_hidden_neurons_4=3; total time=   0.2s\n",
      "  epoch        RMSE      train_loss      valid_loss     dur\n",
      "-------  ----------  --------------  --------------  ------\n",
      "      1  \u001b[36m14942.5138\u001b[0m  \u001b[32m252366698.6667\u001b[0m  \u001b[35m223278696.0000\u001b[0m  0.0403\n",
      "      2  \u001b[36m14942.5080\u001b[0m  \u001b[32m252365795.5000\u001b[0m  \u001b[35m223278560.0000\u001b[0m  0.0326\n",
      "      3  \u001b[36m14942.5037\u001b[0m  \u001b[32m252365533.4167\u001b[0m  \u001b[35m223278424.0000\u001b[0m  0.0300\n",
      "      4  \u001b[36m14942.4983\u001b[0m  \u001b[32m252365267.0000\u001b[0m  \u001b[35m223278268.6667\u001b[0m  0.0367\n",
      "      5  \u001b[36m14942.4930\u001b[0m  252365688.3333  \u001b[35m223278109.3333\u001b[0m  0.0305\n",
      "Stopping since RMSE has not improved in the last 5 epochs.\n",
      "[CV 2/3] END lr=0.0001, module__activation=ELU(alpha=1.0), module__dropout=0.5, module__n_hidden_neurons_1=25, module__n_hidden_neurons_2=10, module__n_hidden_neurons_3=9, module__n_hidden_neurons_4=3; total time=   0.2s\n",
      "  epoch        RMSE      train_loss      valid_loss     dur\n",
      "-------  ----------  --------------  --------------  ------\n",
      "      1  \u001b[36m14942.4239\u001b[0m  \u001b[32m199121690.3333\u001b[0m  \u001b[35m223276032.0000\u001b[0m  0.0378\n",
      "      2  \u001b[36m14942.4132\u001b[0m  199123061.2500  \u001b[35m223275702.6667\u001b[0m  0.0417\n",
      "      3  \u001b[36m14942.3998\u001b[0m  \u001b[32m199120922.0000\u001b[0m  \u001b[35m223275307.0000\u001b[0m  0.0371\n",
      "      4  \u001b[36m14942.3875\u001b[0m  \u001b[32m199119849.7917\u001b[0m  \u001b[35m223274948.0000\u001b[0m  0.0317\n",
      "      5  \u001b[36m14942.3741\u001b[0m  \u001b[32m199117752.3333\u001b[0m  \u001b[35m223274541.3333\u001b[0m  0.0317\n",
      "Stopping since RMSE has not improved in the last 5 epochs.\n",
      "[CV 3/3] END lr=0.0001, module__activation=ELU(alpha=1.0), module__dropout=0.5, module__n_hidden_neurons_1=25, module__n_hidden_neurons_2=10, module__n_hidden_neurons_3=9, module__n_hidden_neurons_4=3; total time=   0.2s\n",
      "  epoch       RMSE      train_loss     valid_loss     dur\n",
      "-------  ---------  --------------  -------------  ------\n",
      "      1  \u001b[36m7853.0575\u001b[0m  \u001b[32m246701183.0833\u001b[0m  \u001b[35m61670510.6667\u001b[0m  0.0384\n",
      "      2  \u001b[36m7853.0496\u001b[0m  \u001b[32m246700994.7500\u001b[0m  \u001b[35m61670389.3333\u001b[0m  0.0300\n",
      "      3  \u001b[36m7853.0402\u001b[0m  \u001b[32m246700784.9167\u001b[0m  \u001b[35m61670241.6667\u001b[0m  0.0354\n",
      "      4  \u001b[36m7853.0300\u001b[0m  \u001b[32m246700558.5000\u001b[0m  \u001b[35m61670076.6667\u001b[0m  0.0296\n",
      "      5  \u001b[36m7853.0180\u001b[0m  \u001b[32m246700311.0000\u001b[0m  \u001b[35m61669895.3333\u001b[0m  0.0288\n",
      "Stopping since RMSE has not improved in the last 5 epochs.\n",
      "[CV 1/3] END lr=0.0001, module__activation=ReLU(), module__dropout=0, module__n_hidden_neurons_1=20, module__n_hidden_neurons_2=14, module__n_hidden_neurons_3=9, module__n_hidden_neurons_4=3; total time=   0.2s\n",
      "  epoch        RMSE      train_loss      valid_loss     dur\n",
      "-------  ----------  --------------  --------------  ------\n",
      "      1  \u001b[36m14942.6193\u001b[0m  \u001b[32m252369136.6667\u001b[0m  \u001b[35m223281911.3333\u001b[0m  0.0288\n",
      "      2  \u001b[36m14942.6129\u001b[0m  \u001b[32m252368921.7500\u001b[0m  \u001b[35m223281683.0000\u001b[0m  0.0289\n",
      "      3  \u001b[36m14942.6054\u001b[0m  \u001b[32m252368689.2500\u001b[0m  \u001b[35m223281450.6667\u001b[0m  0.0406\n",
      "      4  \u001b[36m14942.5979\u001b[0m  \u001b[32m252368450.0000\u001b[0m  \u001b[35m223281227.3333\u001b[0m  0.0337\n",
      "      5  \u001b[36m14942.5909\u001b[0m  \u001b[32m252368199.5000\u001b[0m  \u001b[35m223281008.6667\u001b[0m  0.0349\n",
      "Stopping since RMSE has not improved in the last 5 epochs.\n",
      "[CV 2/3] END lr=0.0001, module__activation=ReLU(), module__dropout=0, module__n_hidden_neurons_1=20, module__n_hidden_neurons_2=14, module__n_hidden_neurons_3=9, module__n_hidden_neurons_4=3; total time=   0.2s\n",
      "  epoch        RMSE      train_loss      valid_loss     dur\n",
      "-------  ----------  --------------  --------------  ------\n",
      "      1  \u001b[36m14942.5818\u001b[0m  \u001b[32m199125293.4583\u001b[0m  \u001b[35m223280755.3333\u001b[0m  0.0323\n",
      "      2  \u001b[36m14942.5765\u001b[0m  \u001b[32m199125154.4167\u001b[0m  \u001b[35m223280612.3333\u001b[0m  0.0371\n",
      "      3  \u001b[36m14942.5711\u001b[0m  \u001b[32m199125024.6667\u001b[0m  \u001b[35m223280454.6667\u001b[0m  0.0313\n",
      "      4  \u001b[36m14942.5652\u001b[0m  \u001b[32m199124886.5000\u001b[0m  \u001b[35m223280276.6667\u001b[0m  0.0289\n",
      "      5  \u001b[36m14942.5610\u001b[0m  \u001b[32m199124741.4583\u001b[0m  \u001b[35m223280128.6667\u001b[0m  0.0303\n",
      "Stopping since RMSE has not improved in the last 5 epochs.\n",
      "[CV 3/3] END lr=0.0001, module__activation=ReLU(), module__dropout=0, module__n_hidden_neurons_1=20, module__n_hidden_neurons_2=14, module__n_hidden_neurons_3=9, module__n_hidden_neurons_4=3; total time=   0.2s\n",
      "  epoch       RMSE      train_loss     valid_loss     dur\n",
      "-------  ---------  --------------  -------------  ------\n",
      "      1  \u001b[36m7853.8034\u001b[0m  \u001b[32m246721423.8333\u001b[0m  \u001b[35m61682228.6667\u001b[0m  0.0368\n",
      "      2  \u001b[36m7853.7960\u001b[0m  \u001b[32m246721226.1667\u001b[0m  \u001b[35m61682107.0000\u001b[0m  0.0303\n",
      "      3  \u001b[36m7853.7886\u001b[0m  \u001b[32m246721009.4583\u001b[0m  \u001b[35m61681993.3333\u001b[0m  0.0313\n",
      "      4  \u001b[36m7853.7810\u001b[0m  \u001b[32m246720808.5417\u001b[0m  \u001b[35m61681873.0000\u001b[0m  0.0367\n",
      "      5  \u001b[36m7853.7734\u001b[0m  \u001b[32m246720599.8333\u001b[0m  \u001b[35m61681751.3333\u001b[0m  0.0334\n",
      "Stopping since RMSE has not improved in the last 5 epochs.\n",
      "[CV 1/3] END lr=0.0001, module__activation=ReLU(), module__dropout=0, module__n_hidden_neurons_1=25, module__n_hidden_neurons_2=18, module__n_hidden_neurons_3=6, module__n_hidden_neurons_4=3; total time=   0.2s\n",
      "  epoch        RMSE      train_loss      valid_loss     dur\n",
      "-------  ----------  --------------  --------------  ------\n",
      "      1  \u001b[36m14943.0407\u001b[0m  \u001b[32m252382468.9167\u001b[0m  \u001b[35m223294448.0000\u001b[0m  0.0435\n",
      "      2  \u001b[36m14943.0305\u001b[0m  \u001b[32m252382168.7500\u001b[0m  \u001b[35m223294168.0000\u001b[0m  0.0362\n",
      "      3  \u001b[36m14943.0219\u001b[0m  \u001b[32m252381882.1667\u001b[0m  \u001b[35m223293913.3333\u001b[0m  0.0459\n",
      "      4  \u001b[36m14943.0134\u001b[0m  \u001b[32m252381612.7917\u001b[0m  \u001b[35m223293659.3333\u001b[0m  0.0300\n",
      "      5  \u001b[36m14943.0059\u001b[0m  \u001b[32m252381356.4583\u001b[0m  \u001b[35m223293434.0000\u001b[0m  0.0323\n",
      "Stopping since RMSE has not improved in the last 5 epochs.\n",
      "[CV 2/3] END lr=0.0001, module__activation=ReLU(), module__dropout=0, module__n_hidden_neurons_1=25, module__n_hidden_neurons_2=18, module__n_hidden_neurons_3=6, module__n_hidden_neurons_4=3; total time=   0.2s\n",
      "  epoch        RMSE      train_loss      valid_loss     dur\n",
      "-------  ----------  --------------  --------------  ------\n",
      "      1  \u001b[36m14942.5610\u001b[0m  \u001b[32m199124783.2083\u001b[0m  \u001b[35m223280156.6667\u001b[0m  0.0314\n",
      "      2  \u001b[36m14942.5561\u001b[0m  \u001b[32m199124620.3750\u001b[0m  \u001b[35m223279972.0000\u001b[0m  0.0354\n",
      "      3  \u001b[36m14942.5497\u001b[0m  \u001b[32m199124456.0417\u001b[0m  \u001b[35m223279795.3333\u001b[0m  0.0316\n",
      "      4  \u001b[36m14942.5444\u001b[0m  \u001b[32m199124301.2083\u001b[0m  \u001b[35m223279638.0000\u001b[0m  0.0304\n",
      "      5  \u001b[36m14942.5411\u001b[0m  \u001b[32m199124177.1250\u001b[0m  \u001b[35m223279515.0000\u001b[0m  0.0392\n",
      "Stopping since RMSE has not improved in the last 5 epochs.\n",
      "[CV 3/3] END lr=0.0001, module__activation=ReLU(), module__dropout=0, module__n_hidden_neurons_1=25, module__n_hidden_neurons_2=18, module__n_hidden_neurons_3=6, module__n_hidden_neurons_4=3; total time=   0.2s\n",
      "  epoch       RMSE      train_loss     valid_loss     dur\n",
      "-------  ---------  --------------  -------------  ------\n",
      "      1  \u001b[36m7853.0124\u001b[0m  \u001b[32m246700975.2500\u001b[0m  \u001b[35m61669800.6667\u001b[0m  0.0372\n",
      "      2  \u001b[36m7852.9044\u001b[0m  \u001b[32m246698740.7083\u001b[0m  \u001b[35m61668103.3333\u001b[0m  0.0307\n",
      "      3  \u001b[36m7852.7786\u001b[0m  \u001b[32m246695711.9167\u001b[0m  \u001b[35m61666132.0000\u001b[0m  0.0304\n",
      "      4  \u001b[36m7852.6574\u001b[0m  \u001b[32m246692014.2917\u001b[0m  \u001b[35m61664225.3333\u001b[0m  0.0365\n",
      "      5  \u001b[36m7852.5173\u001b[0m  \u001b[32m246689393.9167\u001b[0m  \u001b[35m61662028.3333\u001b[0m  0.0306\n",
      "Stopping since RMSE has not improved in the last 5 epochs.\n",
      "[CV 1/3] END lr=0.001, module__activation=Tanh(), module__dropout=0.5, module__n_hidden_neurons_1=25, module__n_hidden_neurons_2=18, module__n_hidden_neurons_3=12, module__n_hidden_neurons_4=3; total time=   0.2s\n",
      "  epoch        RMSE      train_loss      valid_loss     dur\n",
      "-------  ----------  --------------  --------------  ------\n",
      "      1  \u001b[36m14942.9695\u001b[0m  \u001b[32m252382066.4167\u001b[0m  \u001b[35m223292338.0000\u001b[0m  0.0333\n",
      "      2  \u001b[36m14942.7623\u001b[0m  \u001b[32m252376351.3750\u001b[0m  \u001b[35m223286148.6667\u001b[0m  0.0321\n",
      "      3  \u001b[36m14942.5481\u001b[0m  \u001b[32m252372027.0000\u001b[0m  \u001b[35m223279745.6667\u001b[0m  0.0322\n",
      "      4  \u001b[36m14942.3618\u001b[0m  \u001b[32m252367299.5833\u001b[0m  \u001b[35m223274193.3333\u001b[0m  0.0394\n",
      "      5  \u001b[36m14942.1755\u001b[0m  \u001b[32m252359196.4167\u001b[0m  \u001b[35m223268609.3333\u001b[0m  0.0323\n",
      "Stopping since RMSE has not improved in the last 5 epochs.\n",
      "[CV 2/3] END lr=0.001, module__activation=Tanh(), module__dropout=0.5, module__n_hidden_neurons_1=25, module__n_hidden_neurons_2=18, module__n_hidden_neurons_3=12, module__n_hidden_neurons_4=3; total time=   0.2s\n",
      "  epoch        RMSE      train_loss      valid_loss     dur\n",
      "-------  ----------  --------------  --------------  ------\n",
      "      1  \u001b[36m14942.5246\u001b[0m  \u001b[32m199124286.2500\u001b[0m  \u001b[35m223279035.3333\u001b[0m  0.0326\n",
      "      2  \u001b[36m14942.4539\u001b[0m  \u001b[32m199122799.2500\u001b[0m  \u001b[35m223276924.0000\u001b[0m  0.0332\n",
      "      3  \u001b[36m14942.3709\u001b[0m  \u001b[32m199121523.4583\u001b[0m  \u001b[35m223274461.0000\u001b[0m  0.0413\n",
      "      4  \u001b[36m14942.2820\u001b[0m  \u001b[32m199119882.5833\u001b[0m  \u001b[35m223271791.6667\u001b[0m  0.0334\n",
      "      5  \u001b[36m14942.1653\u001b[0m  \u001b[32m199117220.6667\u001b[0m  \u001b[35m223268340.6667\u001b[0m  0.0303\n",
      "Stopping since RMSE has not improved in the last 5 epochs.\n",
      "[CV 3/3] END lr=0.001, module__activation=Tanh(), module__dropout=0.5, module__n_hidden_neurons_1=25, module__n_hidden_neurons_2=18, module__n_hidden_neurons_3=12, module__n_hidden_neurons_4=3; total time=   0.2s\n",
      "  epoch       RMSE      train_loss     valid_loss     dur\n",
      "-------  ---------  --------------  -------------  ------\n",
      "      1  \u001b[36m7853.5752\u001b[0m  \u001b[32m246717136.8750\u001b[0m  \u001b[35m61678645.6667\u001b[0m  0.0280\n",
      "      2  \u001b[36m7853.2844\u001b[0m  \u001b[32m246710555.5833\u001b[0m  \u001b[35m61674075.3333\u001b[0m  0.0289\n",
      "      3  \u001b[36m7852.6388\u001b[0m  \u001b[32m246697250.0000\u001b[0m  \u001b[35m61663932.3333\u001b[0m  0.0344\n",
      "      4  \u001b[36m7851.2409\u001b[0m  \u001b[32m246668783.7083\u001b[0m  \u001b[35m61641977.6667\u001b[0m  0.0281\n",
      "      5  \u001b[36m7848.4207\u001b[0m  \u001b[32m246610649.9167\u001b[0m  \u001b[35m61597706.3333\u001b[0m  0.0288\n",
      "      6  \u001b[36m7842.9395\u001b[0m  \u001b[32m246496260.9167\u001b[0m  \u001b[35m61511699.3333\u001b[0m  0.0330\n",
      "      7  \u001b[36m7832.5148\u001b[0m  \u001b[32m246276112.2500\u001b[0m  \u001b[35m61348282.3333\u001b[0m  0.0287\n",
      "      8  \u001b[36m7813.4809\u001b[0m  \u001b[32m245865956.9583\u001b[0m  \u001b[35m61050486.0000\u001b[0m  0.0281\n",
      "      9  \u001b[36m7780.6036\u001b[0m  \u001b[32m245139660.0833\u001b[0m  \u001b[35m60537792.0000\u001b[0m  0.0323\n",
      "     10  \u001b[36m7727.0178\u001b[0m  \u001b[32m243925136.8750\u001b[0m  \u001b[35m59706804.3333\u001b[0m  0.0282\n",
      "     11  \u001b[36m7644.3935\u001b[0m  \u001b[32m242003812.2500\u001b[0m  \u001b[35m58436749.3333\u001b[0m  0.0279\n",
      "     12  \u001b[36m7523.5183\u001b[0m  \u001b[32m239117933.2917\u001b[0m  \u001b[35m56603327.0000\u001b[0m  0.0390\n",
      "     13  \u001b[36m7355.6661\u001b[0m  \u001b[32m234990939.9792\u001b[0m  \u001b[35m54105824.0000\u001b[0m  0.0273\n",
      "     14  \u001b[36m7135.1757\u001b[0m  \u001b[32m229366352.9792\u001b[0m  \u001b[35m50910727.3333\u001b[0m  0.0269\n",
      "     15  \u001b[36m6863.6620\u001b[0m  \u001b[32m222069287.2500\u001b[0m  \u001b[35m47109858.5000\u001b[0m  0.0325\n",
      "     16  \u001b[36m6555.9362\u001b[0m  \u001b[32m213087753.6979\u001b[0m  \u001b[35m42980299.3333\u001b[0m  0.0278\n",
      "     17  \u001b[36m6246.1777\u001b[0m  \u001b[32m202657752.0104\u001b[0m  \u001b[35m39014737.1667\u001b[0m  0.0278\n",
      "     18  \u001b[36m5988.9468\u001b[0m  \u001b[32m191313598.2656\u001b[0m  \u001b[35m35867485.6250\u001b[0m  0.0277\n",
      "     19  \u001b[36m5844.5712\u001b[0m  \u001b[32m179839476.4375\u001b[0m  \u001b[35m34159014.7500\u001b[0m  0.0276\n",
      "     20  5844.9770  \u001b[32m169063809.5000\u001b[0m  34163753.2500  0.0285\n",
      "     21  5968.3428  \u001b[32m159545988.6667\u001b[0m  35621115.6667  0.0303\n",
      "     22  6160.5159  \u001b[32m151405626.0833\u001b[0m  37951957.1667  0.0341\n",
      "     23  6375.0169  \u001b[32m144470108.1667\u001b[0m  40640838.6667  0.0286\n",
      "Stopping since RMSE has not improved in the last 5 epochs.\n",
      "[CV 1/3] END lr=0.001, module__activation=ELU(alpha=1.0), module__dropout=0, module__n_hidden_neurons_1=20, module__n_hidden_neurons_2=10, module__n_hidden_neurons_3=12, module__n_hidden_neurons_4=3; total time=   0.8s\n",
      "  epoch        RMSE      train_loss      valid_loss     dur\n",
      "-------  ----------  --------------  --------------  ------\n",
      "      1  \u001b[36m14942.7242\u001b[0m  \u001b[32m252374381.2083\u001b[0m  \u001b[35m223285004.3333\u001b[0m  0.0295\n",
      "      2  \u001b[36m14942.5551\u001b[0m  \u001b[32m252369831.1667\u001b[0m  \u001b[35m223279960.0000\u001b[0m  0.0292\n",
      "      3  \u001b[36m14942.2842\u001b[0m  \u001b[32m252363039.0000\u001b[0m  \u001b[35m223271851.6667\u001b[0m  0.0374\n",
      "      4  \u001b[36m14941.8355\u001b[0m  \u001b[32m252351912.0000\u001b[0m  \u001b[35m223258428.6667\u001b[0m  0.0311\n",
      "      5  \u001b[36m14941.0420\u001b[0m  \u001b[32m252332856.3333\u001b[0m  \u001b[35m223234754.0000\u001b[0m  0.0310\n",
      "      6  \u001b[36m14939.5197\u001b[0m  \u001b[32m252297442.5833\u001b[0m  \u001b[35m223189245.6667\u001b[0m  0.0353\n",
      "      7  \u001b[36m14936.4697\u001b[0m  \u001b[32m252227023.1667\u001b[0m  \u001b[35m223098125.0000\u001b[0m  0.0295\n",
      "      8  \u001b[36m14930.5062\u001b[0m  \u001b[32m252086757.8333\u001b[0m  \u001b[35m222920011.3333\u001b[0m  0.0328\n",
      "      9  \u001b[36m14919.4895\u001b[0m  \u001b[32m251820148.0000\u001b[0m  \u001b[35m222591177.6667\u001b[0m  0.0352\n",
      "     10  \u001b[36m14900.3624\u001b[0m  \u001b[32m251343770.4167\u001b[0m  \u001b[35m222020798.3333\u001b[0m  0.0320\n",
      "     11  \u001b[36m14869.0024\u001b[0m  \u001b[32m250543140.2500\u001b[0m  \u001b[35m221087228.0000\u001b[0m  0.0416\n",
      "     12  \u001b[36m14820.1895\u001b[0m  \u001b[32m249270068.5000\u001b[0m  \u001b[35m219638031.0000\u001b[0m  0.0391\n",
      "     13  \u001b[36m14747.6436\u001b[0m  \u001b[32m247343379.6667\u001b[0m  \u001b[35m217492988.3333\u001b[0m  0.0362\n",
      "     14  \u001b[36m14644.2382\u001b[0m  \u001b[32m244556235.1250\u001b[0m  \u001b[35m214453736.6667\u001b[0m  0.0369\n",
      "     15  \u001b[36m14502.4494\u001b[0m  \u001b[32m240691806.5000\u001b[0m  \u001b[35m210321043.6667\u001b[0m  0.0306\n",
      "     16  \u001b[36m14315.1495\u001b[0m  \u001b[32m235547844.4167\u001b[0m  \u001b[35m204923496.6667\u001b[0m  0.0310\n",
      "     17  \u001b[36m14076.7883\u001b[0m  \u001b[32m228973155.6667\u001b[0m  \u001b[35m198155966.1667\u001b[0m  0.0375\n",
      "     18  \u001b[36m13785.0470\u001b[0m  \u001b[32m220915430.8750\u001b[0m  \u001b[35m190027522.8333\u001b[0m  0.0292\n",
      "     19  \u001b[36m13442.8491\u001b[0m  \u001b[32m211475107.8542\u001b[0m  \u001b[35m180710180.0000\u001b[0m  0.0306\n",
      "     20  \u001b[36m13060.2658\u001b[0m  \u001b[32m200950103.7344\u001b[0m  \u001b[35m170570552.8333\u001b[0m  0.0336\n",
      "     21  \u001b[36m12655.2339\u001b[0m  \u001b[32m189845104.6146\u001b[0m  \u001b[35m160154948.8750\u001b[0m  0.0284\n",
      "     22  \u001b[36m12251.2967\u001b[0m  \u001b[32m178808360.9948\u001b[0m  \u001b[35m150094276.6250\u001b[0m  0.0320\n",
      "     23  \u001b[36m11871.0761\u001b[0m  \u001b[32m168470166.2500\u001b[0m  \u001b[35m140922455.7917\u001b[0m  0.0383\n",
      "     24  \u001b[36m11528.1901\u001b[0m  \u001b[32m159230910.5417\u001b[0m  \u001b[35m132899171.2917\u001b[0m  0.0305\n",
      "     25  \u001b[36m11225.2376\u001b[0m  \u001b[32m151168547.1667\u001b[0m  \u001b[35m126005964.4167\u001b[0m  0.0315\n",
      "     26  \u001b[36m10959.0383\u001b[0m  \u001b[32m144162147.4167\u001b[0m  \u001b[35m120100527.3333\u001b[0m  0.0357\n",
      "     27  \u001b[36m10725.1693\u001b[0m  \u001b[32m138052109.4167\u001b[0m  \u001b[35m115029263.3333\u001b[0m  0.0297\n",
      "     28  \u001b[36m10519.1984\u001b[0m  \u001b[32m132695762.6667\u001b[0m  \u001b[35m110653527.2500\u001b[0m  0.0296\n",
      "     29  \u001b[36m10336.8750\u001b[0m  \u001b[32m127969062.7500\u001b[0m  \u001b[35m106850988.0833\u001b[0m  0.0354\n",
      "     30  \u001b[36m10174.2691\u001b[0m  \u001b[32m123764002.8333\u001b[0m  \u001b[35m103515761.5833\u001b[0m  0.0318\n",
      "     31  \u001b[36m10027.7710\u001b[0m  \u001b[32m119987949.6667\u001b[0m  \u001b[35m100556191.7500\u001b[0m  0.0292\n",
      "     32  \u001b[36m9894.1692\u001b[0m  \u001b[32m116559977.5000\u001b[0m  \u001b[35m97894583.5833\u001b[0m  0.0344\n",
      "     33  \u001b[36m9771.1563\u001b[0m  \u001b[32m113427487.8333\u001b[0m  \u001b[35m95475499.4167\u001b[0m  0.0288\n",
      "     34  \u001b[36m9656.2552\u001b[0m  \u001b[32m110541584.7500\u001b[0m  \u001b[35m93243261.0833\u001b[0m  0.0281\n",
      "     35  \u001b[36m9551.0121\u001b[0m  \u001b[32m107868889.9167\u001b[0m  \u001b[35m91221832.0833\u001b[0m  0.0336\n",
      "     36  \u001b[36m9454.5553\u001b[0m  \u001b[32m105389465.0833\u001b[0m  \u001b[35m89388611.3333\u001b[0m  0.0300\n",
      "     37  \u001b[36m9365.8670\u001b[0m  \u001b[32m103073097.7083\u001b[0m  \u001b[35m87719465.6667\u001b[0m  0.0298\n",
      "     38  \u001b[36m9283.9703\u001b[0m  \u001b[32m100932975.3750\u001b[0m  \u001b[35m86192107.7500\u001b[0m  0.0341\n",
      "     39  \u001b[36m9207.8454\u001b[0m  \u001b[32m98953747.0000\u001b[0m  \u001b[35m84784420.3750\u001b[0m  0.0286\n",
      "     40  \u001b[36m9136.6344\u001b[0m  \u001b[32m97111503.2083\u001b[0m  \u001b[35m83478086.0417\u001b[0m  0.0290\n",
      "     41  \u001b[36m9069.5857\u001b[0m  \u001b[32m95386307.1250\u001b[0m  \u001b[35m82257383.9583\u001b[0m  0.0330\n",
      "     42  \u001b[36m9005.9487\u001b[0m  \u001b[32m93761069.7917\u001b[0m  \u001b[35m81107109.7500\u001b[0m  0.0273\n",
      "     43  \u001b[36m8944.9467\u001b[0m  \u001b[32m92218918.2917\u001b[0m  \u001b[35m80012075.5833\u001b[0m  0.0297\n",
      "     44  \u001b[36m8885.5123\u001b[0m  \u001b[32m90740013.7917\u001b[0m  \u001b[35m78952323.0833\u001b[0m  0.0385\n",
      "     45  \u001b[36m8825.6748\u001b[0m  \u001b[32m89292902.0833\u001b[0m  \u001b[35m77892534.6667\u001b[0m  0.0277\n",
      "     46  \u001b[36m8760.6735\u001b[0m  \u001b[32m87813866.0417\u001b[0m  \u001b[35m76749393.0625\u001b[0m  0.0302\n",
      "     47  \u001b[36m8685.1957\u001b[0m  \u001b[32m86185800.9583\u001b[0m  \u001b[35m75432623.7083\u001b[0m  0.0354\n",
      "     48  \u001b[36m8611.2926\u001b[0m  \u001b[32m84510958.0417\u001b[0m  \u001b[35m74154355.9583\u001b[0m  0.0311\n",
      "     49  \u001b[36m8541.6397\u001b[0m  \u001b[32m82938013.3333\u001b[0m  \u001b[35m72959608.0833\u001b[0m  0.0291\n",
      "     50  \u001b[36m8475.2586\u001b[0m  \u001b[32m81449805.7083\u001b[0m  \u001b[35m71830002.1250\u001b[0m  0.0341\n",
      "     51  \u001b[36m8411.5882\u001b[0m  \u001b[32m80031433.6875\u001b[0m  \u001b[35m70754816.1250\u001b[0m  0.0290\n",
      "     52  \u001b[36m8350.3432\u001b[0m  \u001b[32m78674220.3542\u001b[0m  \u001b[35m69728232.7083\u001b[0m  0.0288\n",
      "     53  \u001b[36m8291.3362\u001b[0m  \u001b[32m77372469.0625\u001b[0m  \u001b[35m68746255.9583\u001b[0m  0.0413\n",
      "     54  \u001b[36m8234.4098\u001b[0m  \u001b[32m76120374.8750\u001b[0m  \u001b[35m67805509.0625\u001b[0m  0.0303\n",
      "     55  \u001b[36m8179.4836\u001b[0m  \u001b[32m74911896.7708\u001b[0m  \u001b[35m66903948.2708\u001b[0m  0.0295\n",
      "     56  \u001b[36m8125.9675\u001b[0m  \u001b[32m73743098.8958\u001b[0m  \u001b[35m66031345.6042\u001b[0m  0.0294\n",
      "     57  \u001b[36m8073.4996\u001b[0m  \u001b[32m72613010.0833\u001b[0m  \u001b[35m65181394.9375\u001b[0m  0.0289\n",
      "     58  \u001b[36m8022.0716\u001b[0m  \u001b[32m71521464.3333\u001b[0m  \u001b[35m64353632.7500\u001b[0m  0.0284\n",
      "     59  \u001b[36m7971.6892\u001b[0m  \u001b[32m70468601.1458\u001b[0m  \u001b[35m63547824.4167\u001b[0m  0.0347\n",
      "     60  \u001b[36m7922.3651\u001b[0m  \u001b[32m69454515.7083\u001b[0m  \u001b[35m62763870.3333\u001b[0m  0.0295\n",
      "     61  \u001b[36m7874.0310\u001b[0m  \u001b[32m68478053.6875\u001b[0m  \u001b[35m62000362.8333\u001b[0m  0.0291\n",
      "     62  \u001b[36m7826.5709\u001b[0m  \u001b[32m67534875.0208\u001b[0m  \u001b[35m61255209.5000\u001b[0m  0.0354\n",
      "     63  \u001b[36m7779.9229\u001b[0m  \u001b[32m66623201.0417\u001b[0m  \u001b[35m60527201.7917\u001b[0m  0.0344\n",
      "     64  \u001b[36m7734.0290\u001b[0m  \u001b[32m65740992.1458\u001b[0m  \u001b[35m59815205.9583\u001b[0m  0.0420\n",
      "     65  \u001b[36m7688.8420\u001b[0m  \u001b[32m64886351.9583\u001b[0m  \u001b[35m59118296.9167\u001b[0m  0.0291\n",
      "     66  \u001b[36m7644.2420\u001b[0m  \u001b[32m64056823.6250\u001b[0m  \u001b[35m58434438.1250\u001b[0m  0.0282\n",
      "     67  \u001b[36m7600.1208\u001b[0m  \u001b[32m63249003.0417\u001b[0m  \u001b[35m57761835.7917\u001b[0m  0.0274\n",
      "     68  \u001b[36m7556.4386\u001b[0m  \u001b[32m62460923.9167\u001b[0m  \u001b[35m57099763.0833\u001b[0m  0.0279\n",
      "     69  \u001b[36m7513.1799\u001b[0m  \u001b[32m61691550.3125\u001b[0m  \u001b[35m56447866.9583\u001b[0m  0.0279\n",
      "     70  \u001b[36m7470.3325\u001b[0m  \u001b[32m60940113.3958\u001b[0m  \u001b[35m55805867.1667\u001b[0m  0.0277\n",
      "     71  \u001b[36m7427.8985\u001b[0m  \u001b[32m60206053.6875\u001b[0m  \u001b[35m55173672.0833\u001b[0m  0.0328\n",
      "     72  \u001b[36m7385.8814\u001b[0m  \u001b[32m59489162.6042\u001b[0m  \u001b[35m54551248.3333\u001b[0m  0.0270\n",
      "     73  \u001b[36m7344.2753\u001b[0m  \u001b[32m58788569.8958\u001b[0m  \u001b[35m53938376.4583\u001b[0m  0.0276\n",
      "     74  \u001b[36m7303.0689\u001b[0m  \u001b[32m58103559.4167\u001b[0m  \u001b[35m53334819.4167\u001b[0m  0.0340\n",
      "     75  \u001b[36m7262.2567\u001b[0m  \u001b[32m57433371.0417\u001b[0m  \u001b[35m52740369.5000\u001b[0m  0.0296\n",
      "     76  \u001b[36m7221.8266\u001b[0m  \u001b[32m56777078.8750\u001b[0m  \u001b[35m52154783.2500\u001b[0m  0.0288\n",
      "     77  \u001b[36m7181.8051\u001b[0m  \u001b[32m56134246.8542\u001b[0m  \u001b[35m51578325.9167\u001b[0m  0.0337\n",
      "     78  \u001b[36m7142.2156\u001b[0m  \u001b[32m55504513.2083\u001b[0m  \u001b[35m51011236.0833\u001b[0m  0.0285\n",
      "     79  \u001b[36m7103.0633\u001b[0m  \u001b[32m54887459.3958\u001b[0m  \u001b[35m50453513.2500\u001b[0m  0.0291\n",
      "     80  \u001b[36m7064.3601\u001b[0m  \u001b[32m54282482.7188\u001b[0m  \u001b[35m49905185.5000\u001b[0m  0.0335\n",
      "     81  \u001b[36m7026.1304\u001b[0m  \u001b[32m53689503.9688\u001b[0m  \u001b[35m49366508.1667\u001b[0m  0.0270\n",
      "     82  \u001b[36m6988.3938\u001b[0m  \u001b[32m53108519.6354\u001b[0m  \u001b[35m48837648.0833\u001b[0m  0.0269\n",
      "     83  \u001b[36m6951.1613\u001b[0m  \u001b[32m52539273.8958\u001b[0m  \u001b[35m48318650.4167\u001b[0m  0.0332\n",
      "     84  \u001b[36m6914.4431\u001b[0m  \u001b[32m51981590.5521\u001b[0m  \u001b[35m47809523.6667\u001b[0m  0.0275\n",
      "     85  \u001b[36m6878.2495\u001b[0m  \u001b[32m51435281.9688\u001b[0m  \u001b[35m47310311.0000\u001b[0m  0.0275\n",
      "     86  \u001b[36m6842.6062\u001b[0m  \u001b[32m50900432.1875\u001b[0m  \u001b[35m46821256.9167\u001b[0m  0.0335\n",
      "     87  \u001b[36m6807.5261\u001b[0m  \u001b[32m50376995.4792\u001b[0m  \u001b[35m46342411.0833\u001b[0m  0.0273\n",
      "     88  \u001b[36m6773.0138\u001b[0m  \u001b[32m49864766.1354\u001b[0m  \u001b[35m45873716.2500\u001b[0m  0.0278\n",
      "     89  \u001b[36m6739.0801\u001b[0m  \u001b[32m49363574.8125\u001b[0m  \u001b[35m45415200.7500\u001b[0m  0.0287\n",
      "     90  \u001b[36m6705.7334\u001b[0m  \u001b[32m48873276.1875\u001b[0m  \u001b[35m44966859.0000\u001b[0m  0.0296\n",
      "     91  \u001b[36m6672.9709\u001b[0m  \u001b[32m48393586.0208\u001b[0m  \u001b[35m44528540.9167\u001b[0m  0.0293\n",
      "     92  \u001b[36m6640.8027\u001b[0m  \u001b[32m47924312.5729\u001b[0m  \u001b[35m44100260.0000\u001b[0m  0.0295\n",
      "     93  \u001b[36m6609.2435\u001b[0m  \u001b[32m47465524.0417\u001b[0m  \u001b[35m43682102.0000\u001b[0m  0.0292\n",
      "     94  \u001b[36m6578.3065\u001b[0m  \u001b[32m47017222.7292\u001b[0m  \u001b[35m43274119.6667\u001b[0m  0.0288\n",
      "     95  \u001b[36m6548.0024\u001b[0m  \u001b[32m46579405.1146\u001b[0m  \u001b[35m42876335.9167\u001b[0m  0.0287\n",
      "     96  \u001b[36m6518.3372\u001b[0m  \u001b[32m46152060.6042\u001b[0m  \u001b[35m42488717.0833\u001b[0m  0.0291\n",
      "     97  \u001b[36m6489.3343\u001b[0m  \u001b[32m45735211.5312\u001b[0m  \u001b[35m42111460.7500\u001b[0m  0.0284\n",
      "     98  \u001b[36m6461.0002\u001b[0m  \u001b[32m45329058.8750\u001b[0m  \u001b[35m41744524.5000\u001b[0m  0.0279\n",
      "     99  \u001b[36m6433.3354\u001b[0m  \u001b[32m44933550.2812\u001b[0m  \u001b[35m41387805.6667\u001b[0m  0.0458\n",
      "    100  \u001b[36m6406.3440\u001b[0m  \u001b[32m44548548.3229\u001b[0m  \u001b[35m41041243.0000\u001b[0m  0.0286\n",
      "    101  \u001b[36m6380.0223\u001b[0m  \u001b[32m44173864.5938\u001b[0m  \u001b[35m40704687.2500\u001b[0m  0.0332\n",
      "    102  \u001b[36m6354.3676\u001b[0m  \u001b[32m43809420.7396\u001b[0m  \u001b[35m40377988.8333\u001b[0m  0.0292\n",
      "    103  \u001b[36m6329.3668\u001b[0m  \u001b[32m43455058.5000\u001b[0m  \u001b[35m40060883.0000\u001b[0m  0.0273\n",
      "    104  \u001b[36m6305.0088\u001b[0m  \u001b[32m43110604.6667\u001b[0m  \u001b[35m39753136.0000\u001b[0m  0.0338\n",
      "    105  \u001b[36m6281.2976\u001b[0m  \u001b[32m42775814.6875\u001b[0m  \u001b[35m39454701.0000\u001b[0m  0.0275\n",
      "    106  \u001b[36m6258.2365\u001b[0m  \u001b[32m42450521.4375\u001b[0m  \u001b[35m39165528.6250\u001b[0m  0.0281\n",
      "    107  \u001b[36m6235.8226\u001b[0m  \u001b[32m42134619.1875\u001b[0m  \u001b[35m38885486.7917\u001b[0m  0.0283\n",
      "    108  \u001b[36m6214.0547\u001b[0m  \u001b[32m41827959.5521\u001b[0m  \u001b[35m38614477.7083\u001b[0m  0.0290\n",
      "    109  \u001b[36m6192.9247\u001b[0m  \u001b[32m41530365.0833\u001b[0m  \u001b[35m38352313.1667\u001b[0m  0.0276\n",
      "    110  \u001b[36m6172.4199\u001b[0m  \u001b[32m41241608.1771\u001b[0m  \u001b[35m38098770.2500\u001b[0m  0.0289\n",
      "    111  \u001b[36m6152.5302\u001b[0m  \u001b[32m40961527.6771\u001b[0m  \u001b[35m37853629.1667\u001b[0m  0.0393\n",
      "    112  \u001b[36m6133.2435\u001b[0m  \u001b[32m40689949.9479\u001b[0m  \u001b[35m37616677.6250\u001b[0m  0.0294\n",
      "    113  \u001b[36m6114.5463\u001b[0m  \u001b[32m40426586.9062\u001b[0m  \u001b[35m37387673.7917\u001b[0m  0.0303\n",
      "    114  \u001b[36m6096.4294\u001b[0m  \u001b[32m40171256.7292\u001b[0m  \u001b[35m37166455.7917\u001b[0m  0.0377\n",
      "    115  \u001b[36m6078.8811\u001b[0m  \u001b[32m39923731.6979\u001b[0m  \u001b[35m36952795.8333\u001b[0m  0.0286\n",
      "    116  \u001b[36m6061.8852\u001b[0m  \u001b[32m39683687.0208\u001b[0m  \u001b[35m36746451.6667\u001b[0m  0.0303\n",
      "    117  \u001b[36m6045.4307\u001b[0m  \u001b[32m39450898.9271\u001b[0m  \u001b[35m36547231.8750\u001b[0m  0.0352\n",
      "    118  \u001b[36m6029.5111\u001b[0m  \u001b[32m39225210.3542\u001b[0m  \u001b[35m36355005.2500\u001b[0m  0.0320\n",
      "    119  \u001b[36m6014.1134\u001b[0m  \u001b[32m39006496.7188\u001b[0m  \u001b[35m36169558.6667\u001b[0m  0.0368\n",
      "    120  \u001b[36m5999.2270\u001b[0m  \u001b[32m38794585.7396\u001b[0m  \u001b[35m35990726.5833\u001b[0m  0.0300\n",
      "    121  \u001b[36m5984.8305\u001b[0m  \u001b[32m38589139.9062\u001b[0m  \u001b[35m35818197.8750\u001b[0m  0.0338\n",
      "    122  \u001b[36m5970.9098\u001b[0m  \u001b[32m38389919.8021\u001b[0m  \u001b[35m35651764.7083\u001b[0m  0.0367\n",
      "    123  \u001b[36m5957.4508\u001b[0m  \u001b[32m38196736.2708\u001b[0m  \u001b[35m35491222.2917\u001b[0m  0.0322\n",
      "    124  \u001b[36m5944.4431\u001b[0m  \u001b[32m38009420.5573\u001b[0m  \u001b[35m35336403.5417\u001b[0m  0.0297\n",
      "    125  \u001b[36m5931.8732\u001b[0m  \u001b[32m37827803.1875\u001b[0m  \u001b[35m35187116.5417\u001b[0m  0.0364\n",
      "    126  \u001b[36m5919.7270\u001b[0m  \u001b[32m37651689.2292\u001b[0m  \u001b[35m35043165.1250\u001b[0m  0.0287\n",
      "    127  \u001b[36m5908.0010\u001b[0m  \u001b[32m37481121.6875\u001b[0m  \u001b[35m34904474.4583\u001b[0m  0.0282\n",
      "    128  \u001b[36m5896.6825\u001b[0m  \u001b[32m37316035.9375\u001b[0m  \u001b[35m34770864.0417\u001b[0m  0.0340\n",
      "    129  \u001b[36m5885.7564\u001b[0m  \u001b[32m37156178.9271\u001b[0m  \u001b[35m34642132.8750\u001b[0m  0.0280\n",
      "    130  \u001b[36m5875.2103\u001b[0m  \u001b[32m37001465.5208\u001b[0m  \u001b[35m34518095.7500\u001b[0m  0.0295\n",
      "    131  \u001b[36m5865.0357\u001b[0m  \u001b[32m36851814.2292\u001b[0m  \u001b[35m34398642.8333\u001b[0m  0.0331\n",
      "    132  \u001b[36m5855.2168\u001b[0m  \u001b[32m36707160.9271\u001b[0m  \u001b[35m34283565.7500\u001b[0m  0.0286\n",
      "    133  \u001b[36m5845.7396\u001b[0m  \u001b[32m36567260.0938\u001b[0m  \u001b[35m34172672.2917\u001b[0m  0.0282\n",
      "    134  \u001b[36m5836.6137\u001b[0m  \u001b[32m36431993.8229\u001b[0m  \u001b[35m34066064.6667\u001b[0m  0.0336\n",
      "    135  \u001b[36m5827.9269\u001b[0m  \u001b[32m36301349.1719\u001b[0m  \u001b[35m33964731.6667\u001b[0m  0.0285\n",
      "    136  \u001b[36m5819.6567\u001b[0m  \u001b[32m36175101.3438\u001b[0m  \u001b[35m33868401.2500\u001b[0m  0.0289\n",
      "    137  \u001b[36m5811.8090\u001b[0m  \u001b[32m36053350.6042\u001b[0m  \u001b[35m33777124.4583\u001b[0m  0.0386\n",
      "    138  \u001b[36m5804.3573\u001b[0m  \u001b[32m35936193.1719\u001b[0m  \u001b[35m33690566.7500\u001b[0m  0.0291\n",
      "    139  \u001b[36m5797.2631\u001b[0m  \u001b[32m35823259.5365\u001b[0m  \u001b[35m33608260.4167\u001b[0m  0.0286\n",
      "    140  \u001b[36m5790.5248\u001b[0m  \u001b[32m35714343.2344\u001b[0m  \u001b[35m33530175.7917\u001b[0m  0.0347\n",
      "    141  \u001b[36m5784.1167\u001b[0m  \u001b[32m35609356.4661\u001b[0m  \u001b[35m33456005.2500\u001b[0m  0.0288\n",
      "    142  \u001b[36m5778.0031\u001b[0m  \u001b[32m35508235.9375\u001b[0m  \u001b[35m33385320.3333\u001b[0m  0.0298\n",
      "    143  \u001b[36m5772.1538\u001b[0m  \u001b[32m35410709.8203\u001b[0m  \u001b[35m33317759.3333\u001b[0m  0.0341\n",
      "    144  \u001b[36m5766.5574\u001b[0m  \u001b[32m35316886.3958\u001b[0m  \u001b[35m33253185.7500\u001b[0m  0.0294\n",
      "    145  \u001b[36m5761.1848\u001b[0m  \u001b[32m35226676.9167\u001b[0m  \u001b[35m33191251.4167\u001b[0m  0.0303\n",
      "    146  \u001b[36m5756.0057\u001b[0m  \u001b[32m35139705.7135\u001b[0m  \u001b[35m33131602.0000\u001b[0m  0.0354\n",
      "    147  \u001b[36m5750.9999\u001b[0m  \u001b[32m35055665.1042\u001b[0m  \u001b[35m33073998.6667\u001b[0m  0.0284\n",
      "    148  \u001b[36m5746.1718\u001b[0m  \u001b[32m34974287.4167\u001b[0m  \u001b[35m33018492.3750\u001b[0m  0.0310\n",
      "    149  \u001b[36m5741.5059\u001b[0m  \u001b[32m34895328.9714\u001b[0m  \u001b[35m32964889.8750\u001b[0m  0.0432\n",
      "    150  \u001b[36m5736.9910\u001b[0m  \u001b[32m34818649.0312\u001b[0m  \u001b[35m32913067.5833\u001b[0m  0.0372\n",
      "    151  \u001b[36m5732.6125\u001b[0m  \u001b[32m34744191.4167\u001b[0m  \u001b[35m32862846.2083\u001b[0m  0.0379\n",
      "    152  \u001b[36m5728.3745\u001b[0m  \u001b[32m34671777.0104\u001b[0m  \u001b[35m32814276.3750\u001b[0m  0.0433\n",
      "    153  \u001b[36m5724.2795\u001b[0m  \u001b[32m34601223.6875\u001b[0m  \u001b[35m32767376.1250\u001b[0m  0.0357\n",
      "    154  \u001b[36m5720.3105\u001b[0m  \u001b[32m34532395.1667\u001b[0m  \u001b[35m32721953.1667\u001b[0m  0.0369\n",
      "    155  \u001b[36m5716.4569\u001b[0m  \u001b[32m34465257.4427\u001b[0m  \u001b[35m32677876.8333\u001b[0m  0.0293\n",
      "    156  \u001b[36m5712.7058\u001b[0m  \u001b[32m34399707.1458\u001b[0m  \u001b[35m32635007.6250\u001b[0m  0.0292\n",
      "    157  \u001b[36m5709.0474\u001b[0m  \u001b[32m34335627.2448\u001b[0m  \u001b[35m32593222.2917\u001b[0m  0.0377\n",
      "    158  \u001b[36m5705.4709\u001b[0m  \u001b[32m34272891.9010\u001b[0m  \u001b[35m32552398.9167\u001b[0m  0.0288\n",
      "    159  \u001b[36m5701.9697\u001b[0m  \u001b[32m34211437.0781\u001b[0m  \u001b[35m32512457.6667\u001b[0m  0.0282\n",
      "    160  \u001b[36m5698.5368\u001b[0m  \u001b[32m34151168.5794\u001b[0m  \u001b[35m32473323.7500\u001b[0m  0.0328\n",
      "    161  \u001b[36m5695.1692\u001b[0m  \u001b[32m34092010.4688\u001b[0m  \u001b[35m32434953.9583\u001b[0m  0.0293\n",
      "    162  \u001b[36m5691.8609\u001b[0m  \u001b[32m34033918.7773\u001b[0m  \u001b[35m32397278.2500\u001b[0m  0.0302\n",
      "    163  \u001b[36m5688.6074\u001b[0m  \u001b[32m33976829.3099\u001b[0m  \u001b[35m32360254.8750\u001b[0m  0.0386\n",
      "    164  \u001b[36m5685.4068\u001b[0m  \u001b[32m33920686.6693\u001b[0m  \u001b[35m32323850.0833\u001b[0m  0.0293\n",
      "    165  \u001b[36m5682.2564\u001b[0m  \u001b[32m33865460.5052\u001b[0m  \u001b[35m32288038.5000\u001b[0m  0.0293\n",
      "    166  \u001b[36m5679.1536\u001b[0m  \u001b[32m33811110.5130\u001b[0m  \u001b[35m32252785.9167\u001b[0m  0.0343\n",
      "    167  \u001b[36m5676.0946\u001b[0m  \u001b[32m33757592.3815\u001b[0m  \u001b[35m32218051.8333\u001b[0m  0.0289\n",
      "    168  \u001b[36m5673.0787\u001b[0m  \u001b[32m33704883.3047\u001b[0m  \u001b[35m32183821.1250\u001b[0m  0.0295\n",
      "    169  \u001b[36m5670.1042\u001b[0m  \u001b[32m33652952.1849\u001b[0m  \u001b[35m32150081.7917\u001b[0m  0.0333\n",
      "    170  \u001b[36m5667.1686\u001b[0m  \u001b[32m33601777.9557\u001b[0m  \u001b[35m32116799.9583\u001b[0m  0.0302\n",
      "    171  \u001b[36m5664.2721\u001b[0m  \u001b[32m33551331.6146\u001b[0m  \u001b[35m32083975.8333\u001b[0m  0.0311\n",
      "    172  \u001b[36m5661.4106\u001b[0m  \u001b[32m33501581.3698\u001b[0m  \u001b[35m32051567.5000\u001b[0m  0.0344\n",
      "    173  \u001b[36m5658.5852\u001b[0m  \u001b[32m33452513.3477\u001b[0m  \u001b[35m32019588.2083\u001b[0m  0.0297\n",
      "    174  \u001b[36m5655.7940\u001b[0m  \u001b[32m33404108.9909\u001b[0m  \u001b[35m31988003.4167\u001b[0m  0.0305\n",
      "    175  \u001b[36m5653.0365\u001b[0m  \u001b[32m33356341.5443\u001b[0m  \u001b[35m31956817.2083\u001b[0m  0.0396\n",
      "    176  \u001b[36m5650.3097\u001b[0m  \u001b[32m33309201.9336\u001b[0m  \u001b[35m31925999.2500\u001b[0m  0.0296\n",
      "    177  \u001b[36m5647.6149\u001b[0m  \u001b[32m33262684.9857\u001b[0m  \u001b[35m31895555.5417\u001b[0m  0.0304\n",
      "    178  \u001b[36m5644.9523\u001b[0m  \u001b[32m33216755.7682\u001b[0m  \u001b[35m31865484.2500\u001b[0m  0.0354\n",
      "    179  \u001b[36m5642.3174\u001b[0m  \u001b[32m33171415.4479\u001b[0m  \u001b[35m31835745.5833\u001b[0m  0.0294\n",
      "    180  \u001b[36m5639.7119\u001b[0m  \u001b[32m33126655.2943\u001b[0m  \u001b[35m31806350.4583\u001b[0m  0.0296\n",
      "    181  \u001b[36m5637.1363\u001b[0m  \u001b[32m33082439.6016\u001b[0m  \u001b[35m31777308.2083\u001b[0m  0.0400\n",
      "    182  \u001b[36m5634.5875\u001b[0m  \u001b[32m33038784.1615\u001b[0m  \u001b[35m31748576.4167\u001b[0m  0.0336\n",
      "    183  \u001b[36m5632.0662\u001b[0m  \u001b[32m32995657.9688\u001b[0m  \u001b[35m31720166.5000\u001b[0m  0.0314\n",
      "    184  \u001b[36m5629.5712\u001b[0m  \u001b[32m32953065.1471\u001b[0m  \u001b[35m31692072.0833\u001b[0m  0.0296\n",
      "    185  \u001b[36m5627.1021\u001b[0m  \u001b[32m32910997.7904\u001b[0m  \u001b[35m31664277.3750\u001b[0m  0.0301\n",
      "    186  \u001b[36m5624.6595\u001b[0m  \u001b[32m32869421.6003\u001b[0m  \u001b[35m31636795.2083\u001b[0m  0.0337\n",
      "    187  \u001b[36m5622.2407\u001b[0m  \u001b[32m32828344.3307\u001b[0m  \u001b[35m31609586.8333\u001b[0m  0.0293\n",
      "    188  \u001b[36m5619.8413\u001b[0m  \u001b[32m32787670.2969\u001b[0m  \u001b[35m31582613.3750\u001b[0m  0.0303\n",
      "    189  \u001b[36m5617.4562\u001b[0m  \u001b[32m32747265.6094\u001b[0m  \u001b[35m31555812.3333\u001b[0m  0.0338\n",
      "    190  \u001b[36m5615.0888\u001b[0m  \u001b[32m32707113.7682\u001b[0m  \u001b[35m31529218.8333\u001b[0m  0.0294\n",
      "    191  \u001b[36m5612.7400\u001b[0m  \u001b[32m32667286.7292\u001b[0m  \u001b[35m31502850.0000\u001b[0m  0.0298\n",
      "    192  \u001b[36m5610.4155\u001b[0m  \u001b[32m32627854.4714\u001b[0m  \u001b[35m31476763.7500\u001b[0m  0.0343\n",
      "    193  \u001b[36m5608.1136\u001b[0m  \u001b[32m32588806.8490\u001b[0m  \u001b[35m31450938.5833\u001b[0m  0.0288\n",
      "    194  \u001b[36m5605.8348\u001b[0m  \u001b[32m32550135.3216\u001b[0m  \u001b[35m31425383.8750\u001b[0m  0.0283\n",
      "    195  \u001b[36m5603.5840\u001b[0m  \u001b[32m32511951.0898\u001b[0m  \u001b[35m31400155.0000\u001b[0m  0.0301\n",
      "    196  \u001b[36m5601.3836\u001b[0m  \u001b[32m32474295.7474\u001b[0m  \u001b[35m31375499.9167\u001b[0m  0.0291\n",
      "    197  \u001b[36m5599.2399\u001b[0m  \u001b[32m32437143.1198\u001b[0m  \u001b[35m31351488.9583\u001b[0m  0.0290\n",
      "    198  \u001b[36m5597.1462\u001b[0m  \u001b[32m32400470.3919\u001b[0m  \u001b[35m31328045.6250\u001b[0m  0.0373\n",
      "    199  \u001b[36m5595.1023\u001b[0m  \u001b[32m32364268.3984\u001b[0m  \u001b[35m31305169.2500\u001b[0m  0.0306\n",
      "    200  \u001b[36m5593.1029\u001b[0m  \u001b[32m32328510.3294\u001b[0m  \u001b[35m31282797.8333\u001b[0m  0.0334\n",
      "    201  \u001b[36m5591.1460\u001b[0m  \u001b[32m32293204.0417\u001b[0m  \u001b[35m31260913.0833\u001b[0m  0.0359\n",
      "    202  \u001b[36m5589.2323\u001b[0m  \u001b[32m32258372.7969\u001b[0m  \u001b[35m31239516.4167\u001b[0m  0.0307\n",
      "    203  \u001b[36m5587.3724\u001b[0m  \u001b[32m32224025.3516\u001b[0m  \u001b[35m31218732.0417\u001b[0m  0.0318\n",
      "    204  \u001b[36m5585.5684\u001b[0m  \u001b[32m32190143.5078\u001b[0m  \u001b[35m31198573.0833\u001b[0m  0.0354\n",
      "    205  \u001b[36m5583.8152\u001b[0m  \u001b[32m32156752.1068\u001b[0m  \u001b[35m31178992.2083\u001b[0m  0.0304\n",
      "    206  \u001b[36m5582.1120\u001b[0m  \u001b[32m32123935.6146\u001b[0m  \u001b[35m31159972.8333\u001b[0m  0.0309\n",
      "    207  \u001b[36m5580.4509\u001b[0m  \u001b[32m32091701.0378\u001b[0m  \u001b[35m31141432.6667\u001b[0m  0.0366\n",
      "    208  \u001b[36m5578.8273\u001b[0m  \u001b[32m32060027.6927\u001b[0m  \u001b[35m31123314.0000\u001b[0m  0.0301\n",
      "    209  \u001b[36m5577.2386\u001b[0m  \u001b[32m32028914.4349\u001b[0m  \u001b[35m31105591.6667\u001b[0m  0.0309\n",
      "    210  \u001b[36m5575.6799\u001b[0m  \u001b[32m31998354.9531\u001b[0m  \u001b[35m31088206.2917\u001b[0m  0.0363\n",
      "    211  \u001b[36m5574.1473\u001b[0m  \u001b[32m31968349.0638\u001b[0m  \u001b[35m31071114.5000\u001b[0m  0.0315\n",
      "    212  \u001b[36m5572.6374\u001b[0m  \u001b[32m31938854.2031\u001b[0m  \u001b[35m31054289.0000\u001b[0m  0.0300\n",
      "    213  \u001b[36m5571.1462\u001b[0m  \u001b[32m31909839.6576\u001b[0m  \u001b[35m31037668.1667\u001b[0m  0.0394\n",
      "    214  \u001b[36m5569.6720\u001b[0m  \u001b[32m31881226.9076\u001b[0m  \u001b[35m31021244.6250\u001b[0m  0.0298\n",
      "    215  \u001b[36m5568.2098\u001b[0m  \u001b[32m31852950.7891\u001b[0m  \u001b[35m31004958.9167\u001b[0m  0.0302\n",
      "    216  \u001b[36m5566.7623\u001b[0m  \u001b[32m31825008.1016\u001b[0m  \u001b[35m30988844.5000\u001b[0m  0.0323\n",
      "    217  \u001b[36m5565.3269\u001b[0m  \u001b[32m31797355.6016\u001b[0m  \u001b[35m30972865.9167\u001b[0m  0.0303\n",
      "    218  \u001b[36m5563.9058\u001b[0m  \u001b[32m31770001.7526\u001b[0m  \u001b[35m30957047.7917\u001b[0m  0.0310\n",
      "    219  \u001b[36m5562.5018\u001b[0m  \u001b[32m31743010.1198\u001b[0m  \u001b[35m30941427.8333\u001b[0m  0.0297\n",
      "    220  \u001b[36m5561.1152\u001b[0m  \u001b[32m31716381.7266\u001b[0m  \u001b[35m30926001.7917\u001b[0m  0.0295\n",
      "    221  \u001b[36m5559.7617\u001b[0m  \u001b[32m31690123.5234\u001b[0m  \u001b[35m30910952.5000\u001b[0m  0.0302\n",
      "    222  \u001b[36m5558.4428\u001b[0m  \u001b[32m31664213.3073\u001b[0m  \u001b[35m30896284.5833\u001b[0m  0.0341\n",
      "    223  \u001b[36m5557.1590\u001b[0m  \u001b[32m31638666.6836\u001b[0m  \u001b[35m30882015.8333\u001b[0m  0.0333\n",
      "    224  \u001b[36m5555.9069\u001b[0m  \u001b[32m31613466.6719\u001b[0m  \u001b[35m30868100.4583\u001b[0m  0.0362\n",
      "    225  \u001b[36m5554.6852\u001b[0m  \u001b[32m31588598.7031\u001b[0m  \u001b[35m30854524.8333\u001b[0m  0.0317\n",
      "    226  \u001b[36m5553.4919\u001b[0m  \u001b[32m31564058.3008\u001b[0m  \u001b[35m30841273.8333\u001b[0m  0.0328\n",
      "    227  \u001b[36m5552.3269\u001b[0m  \u001b[32m31539833.7083\u001b[0m  \u001b[35m30828333.7917\u001b[0m  0.0378\n",
      "    228  \u001b[36m5551.1936\u001b[0m  \u001b[32m31515969.2982\u001b[0m  \u001b[35m30815748.3333\u001b[0m  0.0333\n",
      "    229  \u001b[36m5550.0939\u001b[0m  \u001b[32m31492466.6654\u001b[0m  \u001b[35m30803540.5833\u001b[0m  0.0308\n",
      "    230  \u001b[36m5549.0260\u001b[0m  \u001b[32m31469331.8099\u001b[0m  \u001b[35m30791692.4167\u001b[0m  0.0370\n",
      "    231  \u001b[36m5547.9930\u001b[0m  \u001b[32m31446559.5365\u001b[0m  \u001b[35m30780228.0417\u001b[0m  0.0303\n",
      "    232  \u001b[36m5546.9920\u001b[0m  \u001b[32m31424174.8971\u001b[0m  \u001b[35m30769117.4583\u001b[0m  0.0301\n",
      "    233  \u001b[36m5546.0197\u001b[0m  \u001b[32m31402195.9141\u001b[0m  \u001b[35m30758332.2083\u001b[0m  0.0361\n",
      "    234  \u001b[36m5545.0755\u001b[0m  \u001b[32m31380603.3594\u001b[0m  \u001b[35m30747859.2083\u001b[0m  0.0300\n",
      "    235  \u001b[36m5544.1553\u001b[0m  \u001b[32m31359363.7409\u001b[0m  \u001b[35m30737657.5000\u001b[0m  0.0308\n",
      "    236  \u001b[36m5543.2577\u001b[0m  \u001b[32m31338490.1276\u001b[0m  \u001b[35m30727708.4167\u001b[0m  0.0403\n",
      "    237  \u001b[36m5542.3795\u001b[0m  \u001b[32m31317982.2422\u001b[0m  \u001b[35m30717972.0417\u001b[0m  0.0306\n",
      "    238  \u001b[36m5541.5198\u001b[0m  \u001b[32m31297806.9714\u001b[0m  \u001b[35m30708441.8333\u001b[0m  0.0300\n",
      "    239  \u001b[36m5540.6778\u001b[0m  \u001b[32m31277939.3542\u001b[0m  \u001b[35m30699109.0833\u001b[0m  0.0316\n",
      "    240  \u001b[36m5539.8513\u001b[0m  \u001b[32m31258373.3555\u001b[0m  \u001b[35m30689951.4583\u001b[0m  0.0309\n",
      "    241  \u001b[36m5539.0405\u001b[0m  \u001b[32m31239080.5417\u001b[0m  \u001b[35m30680969.8750\u001b[0m  0.0292\n",
      "    242  \u001b[36m5538.2438\u001b[0m  \u001b[32m31220054.2643\u001b[0m  \u001b[35m30672146.1667\u001b[0m  0.0305\n",
      "    243  \u001b[36m5537.4615\u001b[0m  \u001b[32m31201284.1250\u001b[0m  \u001b[35m30663480.4167\u001b[0m  0.0295\n",
      "    244  \u001b[36m5536.6927\u001b[0m  \u001b[32m31182755.1849\u001b[0m  \u001b[35m30654965.6667\u001b[0m  0.0373\n",
      "    245  \u001b[36m5535.9379\u001b[0m  \u001b[32m31164453.3359\u001b[0m  \u001b[35m30646609.3333\u001b[0m  0.0321\n",
      "    246  \u001b[36m5535.1963\u001b[0m  \u001b[32m31146374.6719\u001b[0m  \u001b[35m30638395.7917\u001b[0m  0.0321\n",
      "    247  \u001b[36m5534.4675\u001b[0m  \u001b[32m31128511.6224\u001b[0m  \u001b[35m30630330.2083\u001b[0m  0.0382\n",
      "    248  \u001b[36m5533.7512\u001b[0m  \u001b[32m31110855.8854\u001b[0m  \u001b[35m30622402.6667\u001b[0m  0.0303\n",
      "    249  \u001b[36m5533.0464\u001b[0m  \u001b[32m31093394.1888\u001b[0m  \u001b[35m30614600.1667\u001b[0m  0.0303\n",
      "    250  \u001b[36m5532.3552\u001b[0m  \u001b[32m31076121.9544\u001b[0m  \u001b[35m30606952.8750\u001b[0m  0.0343\n",
      "    251  \u001b[36m5531.6753\u001b[0m  \u001b[32m31059046.2617\u001b[0m  \u001b[35m30599433.5833\u001b[0m  0.0296\n",
      "    252  \u001b[36m5531.0070\u001b[0m  \u001b[32m31042146.5117\u001b[0m  \u001b[35m30592035.5417\u001b[0m  0.0293\n",
      "    253  \u001b[36m5530.3519\u001b[0m  \u001b[32m31025426.2318\u001b[0m  \u001b[35m30584790.6250\u001b[0m  0.0346\n",
      "    254  \u001b[36m5529.7061\u001b[0m  \u001b[32m31008878.8594\u001b[0m  \u001b[35m30577650.2083\u001b[0m  0.0290\n",
      "    255  \u001b[36m5529.0728\u001b[0m  \u001b[32m30992484.5911\u001b[0m  \u001b[35m30570643.3333\u001b[0m  0.0304\n",
      "    256  \u001b[36m5528.4510\u001b[0m  \u001b[32m30976258.7396\u001b[0m  \u001b[35m30563769.4167\u001b[0m  0.0349\n",
      "    257  \u001b[36m5527.8392\u001b[0m  \u001b[32m30960189.8034\u001b[0m  \u001b[35m30557005.2917\u001b[0m  0.0298\n",
      "    258  \u001b[36m5527.2393\u001b[0m  \u001b[32m30944281.5521\u001b[0m  \u001b[35m30550373.9167\u001b[0m  0.0294\n",
      "    259  \u001b[36m5526.6509\u001b[0m  \u001b[32m30928522.3672\u001b[0m  \u001b[35m30543869.7500\u001b[0m  0.0353\n",
      "    260  \u001b[36m5526.0722\u001b[0m  \u001b[32m30912913.7253\u001b[0m  \u001b[35m30537472.2500\u001b[0m  0.0339\n",
      "    261  \u001b[36m5525.5045\u001b[0m  \u001b[32m30897449.0651\u001b[0m  \u001b[35m30531201.7083\u001b[0m  0.0294\n",
      "    262  \u001b[36m5524.9476\u001b[0m  \u001b[32m30882118.7214\u001b[0m  \u001b[35m30525046.5417\u001b[0m  0.0389\n",
      "    263  \u001b[36m5524.4006\u001b[0m  \u001b[32m30866935.0521\u001b[0m  \u001b[35m30519004.2500\u001b[0m  0.0323\n",
      "    264  \u001b[36m5523.8639\u001b[0m  \u001b[32m30851886.1797\u001b[0m  \u001b[35m30513073.8333\u001b[0m  0.0305\n",
      "    265  \u001b[36m5523.3376\u001b[0m  \u001b[32m30836976.6628\u001b[0m  \u001b[35m30507257.6667\u001b[0m  0.0347\n",
      "    266  \u001b[36m5522.8212\u001b[0m  \u001b[32m30822195.1797\u001b[0m  \u001b[35m30501555.8333\u001b[0m  0.0315\n",
      "    267  \u001b[36m5522.3155\u001b[0m  \u001b[32m30807543.9831\u001b[0m  \u001b[35m30495967.9167\u001b[0m  0.0314\n",
      "    268  \u001b[36m5521.8193\u001b[0m  \u001b[32m30793022.1680\u001b[0m  \u001b[35m30490487.6250\u001b[0m  0.0354\n",
      "    269  \u001b[36m5521.3323\u001b[0m  \u001b[32m30778627.7878\u001b[0m  \u001b[35m30485108.0833\u001b[0m  0.0303\n",
      "    270  \u001b[36m5520.8541\u001b[0m  \u001b[32m30764343.1927\u001b[0m  \u001b[35m30479830.4167\u001b[0m  0.0290\n",
      "    271  \u001b[36m5520.3869\u001b[0m  \u001b[32m30750194.6745\u001b[0m  \u001b[35m30474674.5833\u001b[0m  0.0380\n",
      "    272  \u001b[36m5519.9288\u001b[0m  \u001b[32m30736165.0469\u001b[0m  \u001b[35m30469613.1667\u001b[0m  0.0306\n",
      "    273  \u001b[36m5519.4791\u001b[0m  \u001b[32m30722243.0521\u001b[0m  \u001b[35m30464652.7083\u001b[0m  0.0295\n",
      "    274  \u001b[36m5519.0390\u001b[0m  \u001b[32m30708434.9583\u001b[0m  \u001b[35m30459792.0000\u001b[0m  0.0353\n",
      "    275  \u001b[36m5518.6091\u001b[0m  \u001b[32m30694748.4766\u001b[0m  \u001b[35m30455043.5417\u001b[0m  0.0301\n",
      "    276  \u001b[36m5518.1861\u001b[0m  \u001b[32m30681156.3906\u001b[0m  \u001b[35m30450378.0833\u001b[0m  0.0285\n",
      "    277  \u001b[36m5517.7718\u001b[0m  \u001b[32m30667669.3932\u001b[0m  \u001b[35m30445806.5000\u001b[0m  0.0347\n",
      "    278  \u001b[36m5517.3660\u001b[0m  \u001b[32m30654283.2904\u001b[0m  \u001b[35m30441330.0000\u001b[0m  0.0296\n",
      "    279  \u001b[36m5516.9664\u001b[0m  \u001b[32m30640967.4622\u001b[0m  \u001b[35m30436914.6667\u001b[0m  0.0297\n",
      "    280  \u001b[36m5516.5707\u001b[0m  \u001b[32m30627701.1810\u001b[0m  \u001b[35m30432550.7917\u001b[0m  0.0363\n",
      "    281  \u001b[36m5516.1735\u001b[0m  \u001b[32m30614422.1797\u001b[0m  \u001b[35m30428173.0833\u001b[0m  0.0296\n",
      "    282  \u001b[36m5515.7594\u001b[0m  \u001b[32m30600936.1823\u001b[0m  \u001b[35m30423605.0833\u001b[0m  0.0297\n",
      "    283  \u001b[36m5515.2826\u001b[0m  \u001b[32m30586768.2005\u001b[0m  \u001b[35m30418342.5833\u001b[0m  0.0339\n",
      "    284  \u001b[36m5514.6003\u001b[0m  \u001b[32m30570330.8047\u001b[0m  \u001b[35m30410815.9167\u001b[0m  0.0296\n",
      "    285  \u001b[36m5513.4126\u001b[0m  \u001b[32m30547411.9948\u001b[0m  \u001b[35m30397717.6667\u001b[0m  0.0312\n",
      "    286  \u001b[36m5511.7843\u001b[0m  \u001b[32m30512067.9219\u001b[0m  \u001b[35m30379767.7500\u001b[0m  0.0289\n",
      "    287  \u001b[36m5511.3430\u001b[0m  \u001b[32m30475716.2839\u001b[0m  \u001b[35m30374900.7500\u001b[0m  0.0296\n",
      "    288  5511.4635  \u001b[32m30454946.5104\u001b[0m  30376228.5833  0.0288\n",
      "    289  5511.5965  \u001b[32m30436141.4219\u001b[0m  30377697.6667  0.0298\n",
      "    290  5511.6711  \u001b[32m30417688.5039\u001b[0m  30378517.7500  0.0301\n",
      "Stopping since RMSE has not improved in the last 5 epochs.\n",
      "[CV 2/3] END lr=0.001, module__activation=ELU(alpha=1.0), module__dropout=0, module__n_hidden_neurons_1=20, module__n_hidden_neurons_2=10, module__n_hidden_neurons_3=12, module__n_hidden_neurons_4=3; total time=   9.9s\n",
      "  epoch        RMSE      train_loss      valid_loss     dur\n",
      "-------  ----------  --------------  --------------  ------\n",
      "      1  \u001b[36m14941.8644\u001b[0m  \u001b[32m199109449.4583\u001b[0m  \u001b[35m223259328.6667\u001b[0m  0.0307\n",
      "      2  \u001b[36m14941.5159\u001b[0m  \u001b[32m199101762.4583\u001b[0m  \u001b[35m223248896.6667\u001b[0m  0.0285\n",
      "      3  \u001b[36m14940.8599\u001b[0m  \u001b[32m199088759.4167\u001b[0m  \u001b[35m223229292.3333\u001b[0m  0.0385\n",
      "      4  \u001b[36m14939.5539\u001b[0m  \u001b[32m199063144.8750\u001b[0m  \u001b[35m223190264.0000\u001b[0m  0.0291\n",
      "      5  \u001b[36m14937.0492\u001b[0m  \u001b[32m199012756.8750\u001b[0m  \u001b[35m223115441.6667\u001b[0m  0.0288\n",
      "      6  \u001b[36m14932.3622\u001b[0m  \u001b[32m198917178.5417\u001b[0m  \u001b[35m222975436.0000\u001b[0m  0.0381\n",
      "      7  \u001b[36m14923.7615\u001b[0m  \u001b[32m198739429.0417\u001b[0m  \u001b[35m222718654.0000\u001b[0m  0.0298\n",
      "      8  \u001b[36m14908.6235\u001b[0m  \u001b[32m198419519.7500\u001b[0m  \u001b[35m222267044.0000\u001b[0m  0.0307\n",
      "      9  \u001b[36m14883.2835\u001b[0m  \u001b[32m197871223.4167\u001b[0m  \u001b[35m221512122.0000\u001b[0m  0.0339\n",
      "     10  \u001b[36m14842.9620\u001b[0m  \u001b[32m196978756.6667\u001b[0m  \u001b[35m220313520.0000\u001b[0m  0.0288\n",
      "     11  \u001b[36m14781.9192\u001b[0m  \u001b[32m195599452.3750\u001b[0m  \u001b[35m218505135.3333\u001b[0m  0.0279\n",
      "     12  \u001b[36m14693.6313\u001b[0m  \u001b[32m193571507.4167\u001b[0m  \u001b[35m215902797.3333\u001b[0m  0.0331\n",
      "     13  \u001b[36m14571.2682\u001b[0m  \u001b[32m190727241.6250\u001b[0m  \u001b[35m212321876.3333\u001b[0m  0.0286\n",
      "     14  \u001b[36m14408.5502\u001b[0m  \u001b[32m186916622.7500\u001b[0m  \u001b[35m207606322.3333\u001b[0m  0.0293\n",
      "     15  \u001b[36m14201.0743\u001b[0m  \u001b[32m182043676.5729\u001b[0m  \u001b[35m201670523.0000\u001b[0m  0.0332\n",
      "     16  \u001b[36m13948.0683\u001b[0m  \u001b[32m176112291.0833\u001b[0m  \u001b[35m194548593.1667\u001b[0m  0.0281\n",
      "     17  \u001b[36m13654.3034\u001b[0m  \u001b[32m169272529.6302\u001b[0m  \u001b[35m186439993.8333\u001b[0m  0.0287\n",
      "     18  \u001b[36m13331.4827\u001b[0m  \u001b[32m161848035.6797\u001b[0m  \u001b[35m177728427.5000\u001b[0m  0.0343\n",
      "     19  \u001b[36m12997.8244\u001b[0m  \u001b[32m154315549.3945\u001b[0m  \u001b[35m168943436.0000\u001b[0m  0.0295\n",
      "     20  \u001b[36m12674.5155\u001b[0m  \u001b[32m147209650.8099\u001b[0m  \u001b[35m160643340.5833\u001b[0m  0.0281\n",
      "     21  \u001b[36m12379.1942\u001b[0m  \u001b[32m140959715.4062\u001b[0m  \u001b[35m153244451.3333\u001b[0m  0.0332\n",
      "     22  \u001b[36m12120.0112\u001b[0m  \u001b[32m135738425.3125\u001b[0m  \u001b[35m146894679.5833\u001b[0m  0.0273\n",
      "     23  \u001b[36m11895.3053\u001b[0m  \u001b[32m131446581.6250\u001b[0m  \u001b[35m141498295.7500\u001b[0m  0.0272\n",
      "     24  \u001b[36m11698.5544\u001b[0m  \u001b[32m127852907.5833\u001b[0m  \u001b[35m136856187.6667\u001b[0m  0.0284\n",
      "     25  \u001b[36m11523.0312\u001b[0m  \u001b[32m124741276.8750\u001b[0m  \u001b[35m132780244.2500\u001b[0m  0.0337\n",
      "     26  \u001b[36m11363.4956\u001b[0m  \u001b[32m121962040.2083\u001b[0m  \u001b[35m129129026.2500\u001b[0m  0.0298\n",
      "     27  \u001b[36m11216.1940\u001b[0m  \u001b[32m119421285.5417\u001b[0m  \u001b[35m125803013.4167\u001b[0m  0.0297\n",
      "     28  \u001b[36m11078.4537\u001b[0m  \u001b[32m117059812.7083\u001b[0m  \u001b[35m122732144.1667\u001b[0m  0.0343\n",
      "     29  \u001b[36m10948.3058\u001b[0m  \u001b[32m114838163.5417\u001b[0m  \u001b[35m119865394.9167\u001b[0m  0.0282\n",
      "     30  \u001b[36m10824.1497\u001b[0m  \u001b[32m112727012.0000\u001b[0m  \u001b[35m117162214.0000\u001b[0m  0.0273\n",
      "     31  \u001b[36m10704.3890\u001b[0m  \u001b[32m110699209.6667\u001b[0m  \u001b[35m114583946.2500\u001b[0m  0.0386\n",
      "     32  \u001b[36m10587.4412\u001b[0m  \u001b[32m108723879.2083\u001b[0m  \u001b[35m112093900.5833\u001b[0m  0.0283\n",
      "     33  \u001b[36m10472.0378\u001b[0m  \u001b[32m106785298.9167\u001b[0m  \u001b[35m109663565.3333\u001b[0m  0.0288\n",
      "     34  \u001b[36m10359.1092\u001b[0m  \u001b[32m104882867.2083\u001b[0m  \u001b[35m107311140.6667\u001b[0m  0.0346\n",
      "     35  \u001b[36m10248.7962\u001b[0m  \u001b[32m103045308.0833\u001b[0m  \u001b[35m105037827.0833\u001b[0m  0.0313\n",
      "     36  \u001b[36m10142.0325\u001b[0m  \u001b[32m101279143.6667\u001b[0m  \u001b[35m102860828.0833\u001b[0m  0.0293\n",
      "     37  \u001b[36m10039.9916\u001b[0m  \u001b[32m99613224.2083\u001b[0m  \u001b[35m100801430.9167\u001b[0m  0.0346\n",
      "     38  \u001b[36m9942.2448\u001b[0m  \u001b[32m98039070.9583\u001b[0m  \u001b[35m98848240.7917\u001b[0m  0.0281\n",
      "     39  \u001b[36m9848.6921\u001b[0m  \u001b[32m96547002.4583\u001b[0m  \u001b[35m96996736.5000\u001b[0m  0.0286\n",
      "     40  \u001b[36m9759.1840\u001b[0m  \u001b[32m95136030.5000\u001b[0m  \u001b[35m95241672.1250\u001b[0m  0.0346\n",
      "     41  \u001b[36m9673.4821\u001b[0m  \u001b[32m93800394.0417\u001b[0m  \u001b[35m93576244.5833\u001b[0m  0.0290\n",
      "     42  \u001b[36m9591.2373\u001b[0m  \u001b[32m92530735.1042\u001b[0m  \u001b[35m91991828.7500\u001b[0m  0.0285\n",
      "     43  \u001b[36m9511.9104\u001b[0m  \u001b[32m91314286.9583\u001b[0m  \u001b[35m90476438.0417\u001b[0m  0.0365\n",
      "     44  \u001b[36m9434.5548\u001b[0m  \u001b[32m90131520.2083\u001b[0m  \u001b[35m89010821.8750\u001b[0m  0.0278\n",
      "     45  \u001b[36m9357.4702\u001b[0m  \u001b[32m88959040.0833\u001b[0m  \u001b[35m87562243.3333\u001b[0m  0.0295\n",
      "     46  \u001b[36m9278.7866\u001b[0m  \u001b[32m87770895.0208\u001b[0m  \u001b[35m86095877.4583\u001b[0m  0.0330\n",
      "     47  \u001b[36m9196.9095\u001b[0m  \u001b[32m86545850.5000\u001b[0m  \u001b[35m84583152.1250\u001b[0m  0.0282\n",
      "     48  \u001b[36m9116.9912\u001b[0m  \u001b[32m85337245.4167\u001b[0m  \u001b[35m83119525.5208\u001b[0m  0.0283\n",
      "     49  \u001b[36m9039.5518\u001b[0m  \u001b[32m84186718.5417\u001b[0m  \u001b[35m81713488.1667\u001b[0m  0.0331\n",
      "     50  \u001b[36m8964.3601\u001b[0m  \u001b[32m83084862.3542\u001b[0m  \u001b[35m80359750.8542\u001b[0m  0.0271\n",
      "     51  \u001b[36m8891.2321\u001b[0m  \u001b[32m82023361.2083\u001b[0m  \u001b[35m79054008.3750\u001b[0m  0.0290\n",
      "     52  \u001b[36m8819.9170\u001b[0m  \u001b[32m80992310.0417\u001b[0m  \u001b[35m77790929.3333\u001b[0m  0.0337\n",
      "     53  \u001b[36m8750.3413\u001b[0m  \u001b[32m79982551.5417\u001b[0m  \u001b[35m76568479.4167\u001b[0m  0.0277\n",
      "     54  \u001b[36m8682.6507\u001b[0m  \u001b[32m78989643.7083\u001b[0m  \u001b[35m75388424.1667\u001b[0m  0.0282\n",
      "     55  \u001b[36m8617.0775\u001b[0m  \u001b[32m78019307.9167\u001b[0m  \u001b[35m74254023.2500\u001b[0m  0.0365\n",
      "     56  \u001b[36m8553.4143\u001b[0m  \u001b[32m77075200.0208\u001b[0m  \u001b[35m73160895.4583\u001b[0m  0.0280\n",
      "     57  \u001b[36m8491.3570\u001b[0m  \u001b[32m76157034.9583\u001b[0m  \u001b[35m72103145.9167\u001b[0m  0.0282\n",
      "     58  \u001b[36m8430.2460\u001b[0m  \u001b[32m75262271.8542\u001b[0m  \u001b[35m71069040.7708\u001b[0m  0.0334\n",
      "     59  \u001b[36m8369.8741\u001b[0m  \u001b[32m74386983.7500\u001b[0m  \u001b[35m70054794.1667\u001b[0m  0.0279\n",
      "     60  \u001b[36m8309.9045\u001b[0m  \u001b[32m73527628.8125\u001b[0m  \u001b[35m69054512.2708\u001b[0m  0.0295\n",
      "     61  \u001b[36m8249.5726\u001b[0m  \u001b[32m72676596.0625\u001b[0m  \u001b[35m68055441.9375\u001b[0m  0.0349\n",
      "     62  \u001b[36m8186.7854\u001b[0m  \u001b[32m71814066.1250\u001b[0m  \u001b[35m67023460.4583\u001b[0m  0.0330\n",
      "     63  \u001b[36m8119.1940\u001b[0m  \u001b[32m70893461.0000\u001b[0m  \u001b[35m65921314.6667\u001b[0m  0.0331\n",
      "     64  \u001b[36m8050.8991\u001b[0m  \u001b[32m69932053.2500\u001b[0m  \u001b[35m64816975.6458\u001b[0m  0.0386\n",
      "     65  \u001b[36m7984.6212\u001b[0m  \u001b[32m68995187.2292\u001b[0m  \u001b[35m63754176.1458\u001b[0m  0.0292\n",
      "     66  \u001b[36m7920.7505\u001b[0m  \u001b[32m68098926.1146\u001b[0m  \u001b[35m62738288.5417\u001b[0m  0.0300\n",
      "     67  \u001b[36m7859.4941\u001b[0m  \u001b[32m67233323.2188\u001b[0m  \u001b[35m61771651.3958\u001b[0m  0.0375\n",
      "     68  \u001b[36m7801.0822\u001b[0m  \u001b[32m66406734.0104\u001b[0m  \u001b[35m60856887.2917\u001b[0m  0.0323\n",
      "     69  \u001b[36m7744.5896\u001b[0m  \u001b[32m65623651.0625\u001b[0m  \u001b[35m59978664.2083\u001b[0m  0.0302\n",
      "     70  \u001b[36m7689.5178\u001b[0m  \u001b[32m64879297.4271\u001b[0m  \u001b[35m59128683.8750\u001b[0m  0.0371\n",
      "     71  \u001b[36m7635.7475\u001b[0m  \u001b[32m64170277.8333\u001b[0m  \u001b[35m58304642.0000\u001b[0m  0.0280\n",
      "     72  \u001b[36m7583.2755\u001b[0m  \u001b[32m63492683.0938\u001b[0m  \u001b[35m57506061.9167\u001b[0m  0.0282\n",
      "     73  \u001b[36m7532.0003\u001b[0m  \u001b[32m62839341.3229\u001b[0m  \u001b[35m56731027.7083\u001b[0m  0.0329\n",
      "     74  \u001b[36m7481.8169\u001b[0m  \u001b[32m62205442.9271\u001b[0m  \u001b[35m55977585.7917\u001b[0m  0.0281\n",
      "     75  \u001b[36m7432.6692\u001b[0m  \u001b[32m61587919.7292\u001b[0m  \u001b[35m55244568.3333\u001b[0m  0.0277\n",
      "     76  \u001b[36m7384.4845\u001b[0m  \u001b[32m60984429.8333\u001b[0m  \u001b[35m54530614.2500\u001b[0m  0.0336\n",
      "     77  \u001b[36m7337.2085\u001b[0m  \u001b[32m60392899.2292\u001b[0m  \u001b[35m53834624.1667\u001b[0m  0.0279\n",
      "     78  \u001b[36m7290.8011\u001b[0m  \u001b[32m59812526.8438\u001b[0m  \u001b[35m53155779.8333\u001b[0m  0.0276\n",
      "     79  \u001b[36m7245.2324\u001b[0m  \u001b[32m59242740.3229\u001b[0m  \u001b[35m52493393.0417\u001b[0m  0.0368\n",
      "     80  \u001b[36m7200.4719\u001b[0m  \u001b[32m58682862.9375\u001b[0m  \u001b[35m51846793.6250\u001b[0m  0.0280\n",
      "     81  \u001b[36m7156.4961\u001b[0m  \u001b[32m58132353.1979\u001b[0m  \u001b[35m51215430.9167\u001b[0m  0.0301\n",
      "     82  \u001b[36m7113.2845\u001b[0m  \u001b[32m57590888.8646\u001b[0m  \u001b[35m50598815.5000\u001b[0m  0.0331\n",
      "     83  \u001b[36m7070.8265\u001b[0m  \u001b[32m57058277.3958\u001b[0m  \u001b[35m49996590.2083\u001b[0m  0.0273\n",
      "     84  \u001b[36m7029.1098\u001b[0m  \u001b[32m56534373.0417\u001b[0m  \u001b[35m49408378.7083\u001b[0m  0.0281\n",
      "     85  \u001b[36m6988.1282\u001b[0m  \u001b[32m56019052.2292\u001b[0m  \u001b[35m48833935.0000\u001b[0m  0.0339\n",
      "     86  \u001b[36m6947.8754\u001b[0m  \u001b[32m55512260.2396\u001b[0m  \u001b[35m48272969.9167\u001b[0m  0.0285\n",
      "     87  \u001b[36m6908.3489\u001b[0m  \u001b[32m55013939.9896\u001b[0m  \u001b[35m47725283.6667\u001b[0m  0.0297\n",
      "     88  \u001b[36m6869.5394\u001b[0m  \u001b[32m54524045.7812\u001b[0m  \u001b[35m47190573.0833\u001b[0m  0.0351\n",
      "     89  \u001b[36m6831.4171\u001b[0m  \u001b[32m54042465.6250\u001b[0m  \u001b[35m46668257.9583\u001b[0m  0.0317\n",
      "     90  \u001b[36m6793.9561\u001b[0m  \u001b[32m53569076.2708\u001b[0m  \u001b[35m46157837.9167\u001b[0m  0.0294\n",
      "     91  \u001b[36m6757.1544\u001b[0m  \u001b[32m53103521.9896\u001b[0m  \u001b[35m45659131.9583\u001b[0m  0.0352\n",
      "     92  \u001b[36m6721.0130\u001b[0m  \u001b[32m52645658.3750\u001b[0m  \u001b[35m45172019.5000\u001b[0m  0.0302\n",
      "     93  \u001b[36m6685.5351\u001b[0m  \u001b[32m52195505.2500\u001b[0m  \u001b[35m44696379.4583\u001b[0m  0.0293\n",
      "     94  \u001b[36m6650.7230\u001b[0m  \u001b[32m51753083.6979\u001b[0m  \u001b[35m44232115.8750\u001b[0m  0.0346\n",
      "     95  \u001b[36m6616.5783\u001b[0m  \u001b[32m51318399.3229\u001b[0m  \u001b[35m43779106.6250\u001b[0m  0.0296\n",
      "     96  \u001b[36m6583.1044\u001b[0m  \u001b[32m50891349.5729\u001b[0m  \u001b[35m43337265.9167\u001b[0m  0.0301\n",
      "     97  \u001b[36m6550.3090\u001b[0m  \u001b[32m50471944.8542\u001b[0m  \u001b[35m42906549.1250\u001b[0m  0.0345\n",
      "     98  \u001b[36m6518.1970\u001b[0m  \u001b[32m50060202.6250\u001b[0m  \u001b[35m42486890.9583\u001b[0m  0.0298\n",
      "     99  \u001b[36m6486.7721\u001b[0m  \u001b[32m49656131.9167\u001b[0m  \u001b[35m42078215.6667\u001b[0m  0.0278\n",
      "    100  \u001b[36m6456.0372\u001b[0m  \u001b[32m49259684.9375\u001b[0m  \u001b[35m41680413.8750\u001b[0m  0.0333\n",
      "    101  \u001b[36m6425.9885\u001b[0m  \u001b[32m48870625.9167\u001b[0m  \u001b[35m41293328.8333\u001b[0m  0.0291\n",
      "    102  \u001b[36m6396.6282\u001b[0m  \u001b[32m48488890.1667\u001b[0m  \u001b[35m40916852.6250\u001b[0m  0.0282\n",
      "    103  \u001b[36m6367.9582\u001b[0m  \u001b[32m48114466.9948\u001b[0m  \u001b[35m40550892.0000\u001b[0m  0.0381\n",
      "    104  \u001b[36m6339.9795\u001b[0m  \u001b[32m47747366.6354\u001b[0m  \u001b[35m40195342.1250\u001b[0m  0.0283\n",
      "    105  \u001b[36m6312.6945\u001b[0m  \u001b[32m47387580.4323\u001b[0m  \u001b[35m39850112.3750\u001b[0m  0.0294\n",
      "    106  \u001b[36m6286.1069\u001b[0m  \u001b[32m47035159.5208\u001b[0m  \u001b[35m39515139.9167\u001b[0m  0.0336\n",
      "    107  \u001b[36m6260.2390\u001b[0m  \u001b[32m46690743.0417\u001b[0m  \u001b[35m39190592.2708\u001b[0m  0.0293\n",
      "    108  \u001b[36m6235.1202\u001b[0m  \u001b[32m46355869.9427\u001b[0m  \u001b[35m38876724.6458\u001b[0m  0.0282\n",
      "    109  \u001b[36m6210.7658\u001b[0m  \u001b[32m46031234.3021\u001b[0m  \u001b[35m38573613.6042\u001b[0m  0.0336\n",
      "    110  \u001b[36m6187.2310\u001b[0m  \u001b[32m45717282.6562\u001b[0m  \u001b[35m38281827.2917\u001b[0m  0.0285\n",
      "    111  \u001b[36m6164.6336\u001b[0m  \u001b[32m45415217.6146\u001b[0m  \u001b[35m38002706.7292\u001b[0m  0.0289\n",
      "    112  \u001b[36m6142.9872\u001b[0m  \u001b[32m45125856.6198\u001b[0m  \u001b[35m37736290.4792\u001b[0m  0.0341\n",
      "    113  \u001b[36m6122.2872\u001b[0m  \u001b[32m44850002.1042\u001b[0m  \u001b[35m37482397.9583\u001b[0m  0.0279\n",
      "    114  \u001b[36m6102.5277\u001b[0m  \u001b[32m44587724.0677\u001b[0m  \u001b[35m37240845.5625\u001b[0m  0.0276\n",
      "    115  \u001b[36m6083.7650\u001b[0m  \u001b[32m44338344.8125\u001b[0m  \u001b[35m37012192.4583\u001b[0m  0.0331\n",
      "    116  \u001b[36m6065.9463\u001b[0m  \u001b[32m44100734.6302\u001b[0m  \u001b[35m36795706.5417\u001b[0m  0.0278\n",
      "    117  \u001b[36m6049.0594\u001b[0m  \u001b[32m43873872.9115\u001b[0m  \u001b[35m36591118.5000\u001b[0m  0.0276\n",
      "    118  \u001b[36m6033.0321\u001b[0m  \u001b[32m43656909.0625\u001b[0m  \u001b[35m36397475.1667\u001b[0m  0.0282\n",
      "    119  \u001b[36m6017.7880\u001b[0m  \u001b[32m43449045.1250\u001b[0m  \u001b[35m36213769.7917\u001b[0m  0.0332\n",
      "    120  \u001b[36m6003.2584\u001b[0m  \u001b[32m43249514.1250\u001b[0m  \u001b[35m36039110.5625\u001b[0m  0.0278\n",
      "    121  \u001b[36m5989.3836\u001b[0m  \u001b[32m43057571.1198\u001b[0m  \u001b[35m35872716.2917\u001b[0m  0.0270\n",
      "    122  \u001b[36m5976.1155\u001b[0m  \u001b[32m42872558.1406\u001b[0m  \u001b[35m35713954.0833\u001b[0m  0.0337\n",
      "    123  \u001b[36m5963.4178\u001b[0m  \u001b[32m42694002.5260\u001b[0m  \u001b[35m35562351.9167\u001b[0m  0.0296\n",
      "    124  \u001b[36m5951.2731\u001b[0m  \u001b[32m42521462.5807\u001b[0m  \u001b[35m35417655.1875\u001b[0m  0.0297\n",
      "    125  \u001b[36m5939.6502\u001b[0m  \u001b[32m42354473.5990\u001b[0m  \u001b[35m35279446.5208\u001b[0m  0.0392\n",
      "    126  \u001b[36m5928.5145\u001b[0m  \u001b[32m42192644.2083\u001b[0m  \u001b[35m35147288.4375\u001b[0m  0.0277\n",
      "    127  \u001b[36m5917.8364\u001b[0m  \u001b[32m42035640.8516\u001b[0m  \u001b[35m35020787.1250\u001b[0m  0.0272\n",
      "    128  \u001b[36m5907.5890\u001b[0m  \u001b[32m41883176.8594\u001b[0m  \u001b[35m34899606.2083\u001b[0m  0.0293\n",
      "    129  \u001b[36m5897.7463\u001b[0m  \u001b[32m41734980.6641\u001b[0m  \u001b[35m34783409.9583\u001b[0m  0.0300\n",
      "    130  \u001b[36m5888.2887\u001b[0m  \u001b[32m41590848.6927\u001b[0m  \u001b[35m34671945.1042\u001b[0m  0.0303\n",
      "    131  \u001b[36m5879.1942\u001b[0m  \u001b[32m41450562.5026\u001b[0m  \u001b[35m34564925.0833\u001b[0m  0.0397\n",
      "    132  \u001b[36m5870.4436\u001b[0m  \u001b[32m41313923.1432\u001b[0m  \u001b[35m34462111.4375\u001b[0m  0.0297\n",
      "    133  \u001b[36m5862.0198\u001b[0m  \u001b[32m41180764.3594\u001b[0m  \u001b[35m34363278.6667\u001b[0m  0.0295\n",
      "    134  \u001b[36m5853.9078\u001b[0m  \u001b[32m41050907.0391\u001b[0m  \u001b[35m34268235.7083\u001b[0m  0.0349\n",
      "    135  \u001b[36m5846.0965\u001b[0m  \u001b[32m40924211.4896\u001b[0m  \u001b[35m34176841.3125\u001b[0m  0.0293\n",
      "    136  \u001b[36m5838.5693\u001b[0m  \u001b[32m40800528.6771\u001b[0m  \u001b[35m34088891.2917\u001b[0m  0.0305\n",
      "    137  \u001b[36m5831.3137\u001b[0m  \u001b[32m40679725.4714\u001b[0m  \u001b[35m34004220.2500\u001b[0m  0.0373\n",
      "    138  \u001b[36m5824.3173\u001b[0m  \u001b[32m40561676.2005\u001b[0m  \u001b[35m33922671.7083\u001b[0m  0.0297\n",
      "    139  \u001b[36m5817.5662\u001b[0m  \u001b[32m40446254.3828\u001b[0m  \u001b[35m33844075.8958\u001b[0m  0.0321\n",
      "    140  \u001b[36m5811.0498\u001b[0m  \u001b[32m40333345.5495\u001b[0m  \u001b[35m33768301.0833\u001b[0m  0.0365\n",
      "    141  \u001b[36m5804.7570\u001b[0m  \u001b[32m40222855.7630\u001b[0m  \u001b[35m33695200.2083\u001b[0m  0.0309\n",
      "    142  \u001b[36m5798.6761\u001b[0m  \u001b[32m40114675.8438\u001b[0m  \u001b[35m33624642.5000\u001b[0m  0.0323\n",
      "    143  \u001b[36m5792.7979\u001b[0m  \u001b[32m40008719.9922\u001b[0m  \u001b[35m33556505.6042\u001b[0m  0.0310\n",
      "    144  \u001b[36m5787.1140\u001b[0m  \u001b[32m39904892.6849\u001b[0m  \u001b[35m33490688.3958\u001b[0m  0.0304\n",
      "    145  \u001b[36m5781.6128\u001b[0m  \u001b[32m39803116.5000\u001b[0m  \u001b[35m33427048.2083\u001b[0m  0.0392\n",
      "    146  \u001b[36m5776.2893\u001b[0m  \u001b[32m39703301.7344\u001b[0m  \u001b[35m33365515.1042\u001b[0m  0.0313\n",
      "    147  \u001b[36m5771.1314\u001b[0m  \u001b[32m39605378.8438\u001b[0m  \u001b[35m33305959.2083\u001b[0m  0.0305\n",
      "    148  \u001b[36m5766.1337\u001b[0m  \u001b[32m39509275.6042\u001b[0m  \u001b[35m33248296.1667\u001b[0m  0.0358\n",
      "    149  \u001b[36m5761.2882\u001b[0m  \u001b[32m39414913.9531\u001b[0m  \u001b[35m33192439.9167\u001b[0m  0.0298\n",
      "    150  \u001b[36m5756.5886\u001b[0m  \u001b[32m39322233.3568\u001b[0m  \u001b[35m33138309.7917\u001b[0m  0.0306\n",
      "    151  \u001b[36m5752.0287\u001b[0m  \u001b[32m39231194.2292\u001b[0m  \u001b[35m33085832.3542\u001b[0m  0.0355\n",
      "    152  \u001b[36m5747.6103\u001b[0m  \u001b[32m39141912.3646\u001b[0m  \u001b[35m33035027.0625\u001b[0m  0.0293\n",
      "    153  \u001b[36m5743.3278\u001b[0m  \u001b[32m39054622.0677\u001b[0m  \u001b[35m32985815.1875\u001b[0m  0.0314\n",
      "    154  \u001b[36m5739.1749\u001b[0m  \u001b[32m38969263.1302\u001b[0m  \u001b[35m32938126.2708\u001b[0m  0.0360\n",
      "    155  \u001b[36m5735.1476\u001b[0m  \u001b[32m38885758.6172\u001b[0m  \u001b[35m32891916.4375\u001b[0m  0.0384\n",
      "    156  \u001b[36m5731.2435\u001b[0m  \u001b[32m38804373.4219\u001b[0m  \u001b[35m32847153.4167\u001b[0m  0.0375\n",
      "    157  \u001b[36m5727.4677\u001b[0m  \u001b[32m38725453.8073\u001b[0m  \u001b[35m32803887.2083\u001b[0m  0.0384\n",
      "    158  \u001b[36m5723.8157\u001b[0m  \u001b[32m38649162.2474\u001b[0m  \u001b[35m32762067.0000\u001b[0m  0.0389\n",
      "    159  \u001b[36m5720.2774\u001b[0m  \u001b[32m38575279.7448\u001b[0m  \u001b[35m32721573.5417\u001b[0m  0.0473\n",
      "    160  \u001b[36m5716.8455\u001b[0m  \u001b[32m38503579.0104\u001b[0m  \u001b[35m32682324.0417\u001b[0m  0.0396\n",
      "    161  \u001b[36m5713.5119\u001b[0m  \u001b[32m38433875.8542\u001b[0m  \u001b[35m32644219.5000\u001b[0m  0.0370\n",
      "    162  \u001b[36m5710.2765\u001b[0m  \u001b[32m38366134.4062\u001b[0m  \u001b[35m32607259.7917\u001b[0m  0.0293\n",
      "    163  \u001b[36m5707.1347\u001b[0m  \u001b[32m38300391.1849\u001b[0m  \u001b[35m32571387.7917\u001b[0m  0.0297\n",
      "    164  \u001b[36m5704.0820\u001b[0m  \u001b[32m38236515.1979\u001b[0m  \u001b[35m32536550.8125\u001b[0m  0.0342\n",
      "    165  \u001b[36m5701.1122\u001b[0m  \u001b[32m38174407.6719\u001b[0m  \u001b[35m32502679.8333\u001b[0m  0.0291\n",
      "    166  \u001b[36m5698.2341\u001b[0m  \u001b[32m38114049.7005\u001b[0m  \u001b[35m32469872.9583\u001b[0m  0.0293\n",
      "    167  \u001b[36m5695.4749\u001b[0m  \u001b[32m38055470.8385\u001b[0m  \u001b[35m32438436.3542\u001b[0m  0.0340\n",
      "    168  \u001b[36m5692.8293\u001b[0m  \u001b[32m37998633.4115\u001b[0m  \u001b[35m32408305.6250\u001b[0m  0.0299\n",
      "    169  \u001b[36m5690.2866\u001b[0m  \u001b[32m37943397.6510\u001b[0m  \u001b[35m32379363.5833\u001b[0m  0.0296\n",
      "    170  \u001b[36m5687.8363\u001b[0m  \u001b[32m37889689.8958\u001b[0m  \u001b[35m32351481.9167\u001b[0m  0.0342\n",
      "    171  \u001b[36m5685.4697\u001b[0m  \u001b[32m37837385.5495\u001b[0m  \u001b[35m32324565.0417\u001b[0m  0.0292\n",
      "    172  \u001b[36m5683.1808\u001b[0m  \u001b[32m37786372.9792\u001b[0m  \u001b[35m32298544.4792\u001b[0m  0.0284\n",
      "    173  \u001b[36m5680.9635\u001b[0m  \u001b[32m37736549.7917\u001b[0m  \u001b[35m32273346.3333\u001b[0m  0.0335\n",
      "    174  \u001b[36m5678.8124\u001b[0m  \u001b[32m37687862.3021\u001b[0m  \u001b[35m32248909.6667\u001b[0m  0.0288\n",
      "    175  \u001b[36m5676.7221\u001b[0m  \u001b[32m37640253.1797\u001b[0m  \u001b[35m32225173.5000\u001b[0m  0.0316\n",
      "    176  \u001b[36m5674.6891\u001b[0m  \u001b[32m37593667.3021\u001b[0m  \u001b[35m32202094.3333\u001b[0m  0.0345\n",
      "    177  \u001b[36m5672.7075\u001b[0m  \u001b[32m37548044.6562\u001b[0m  \u001b[35m32179611.3333\u001b[0m  0.0299\n",
      "    178  \u001b[36m5670.7758\u001b[0m  \u001b[32m37503312.3750\u001b[0m  \u001b[35m32157698.5833\u001b[0m  0.0304\n",
      "    179  \u001b[36m5668.8905\u001b[0m  \u001b[32m37459441.2812\u001b[0m  \u001b[35m32136318.8333\u001b[0m  0.0336\n",
      "    180  \u001b[36m5667.0498\u001b[0m  \u001b[32m37416413.1953\u001b[0m  \u001b[35m32115452.6250\u001b[0m  0.0299\n",
      "    181  \u001b[36m5665.2500\u001b[0m  \u001b[32m37374176.0990\u001b[0m  \u001b[35m32095058.0833\u001b[0m  0.0286\n",
      "    182  \u001b[36m5663.4881\u001b[0m  \u001b[32m37332695.0469\u001b[0m  \u001b[35m32075096.4167\u001b[0m  0.0354\n",
      "    183  \u001b[36m5661.7632\u001b[0m  \u001b[32m37291934.1302\u001b[0m  \u001b[35m32055560.5833\u001b[0m  0.0290\n",
      "    184  \u001b[36m5660.0721\u001b[0m  \u001b[32m37251893.5521\u001b[0m  \u001b[35m32036416.1250\u001b[0m  0.0347\n",
      "    185  \u001b[36m5658.4137\u001b[0m  \u001b[32m37212525.4531\u001b[0m  \u001b[35m32017645.8333\u001b[0m  0.0345\n",
      "    186  \u001b[36m5656.7850\u001b[0m  \u001b[32m37173818.6667\u001b[0m  \u001b[35m31999216.9583\u001b[0m  0.0329\n",
      "    187  \u001b[36m5655.1865\u001b[0m  \u001b[32m37135732.6146\u001b[0m  \u001b[35m31981133.9583\u001b[0m  0.0331\n",
      "    188  \u001b[36m5653.6157\u001b[0m  \u001b[32m37098266.1094\u001b[0m  \u001b[35m31963370.9167\u001b[0m  0.0349\n",
      "    189  \u001b[36m5652.0713\u001b[0m  \u001b[32m37061370.5156\u001b[0m  \u001b[35m31945907.4167\u001b[0m  0.0289\n",
      "    190  \u001b[36m5650.5517\u001b[0m  \u001b[32m37025049.4948\u001b[0m  \u001b[35m31928733.4792\u001b[0m  0.0290\n",
      "    191  \u001b[36m5649.0580\u001b[0m  \u001b[32m36989285.1198\u001b[0m  \u001b[35m31911855.0417\u001b[0m  0.0344\n",
      "    192  \u001b[36m5647.5859\u001b[0m  \u001b[32m36954048.2031\u001b[0m  \u001b[35m31895226.0417\u001b[0m  0.0298\n",
      "    193  \u001b[36m5646.1383\u001b[0m  \u001b[32m36919330.5573\u001b[0m  \u001b[35m31878877.1667\u001b[0m  0.0296\n",
      "    194  \u001b[36m5644.7143\u001b[0m  \u001b[32m36885123.8672\u001b[0m  \u001b[35m31862799.8125\u001b[0m  0.0341\n",
      "    195  \u001b[36m5643.3145\u001b[0m  \u001b[32m36851412.8958\u001b[0m  \u001b[35m31846995.7917\u001b[0m  0.0295\n",
      "    196  \u001b[36m5641.9374\u001b[0m  \u001b[32m36818192.8854\u001b[0m  \u001b[35m31831457.1667\u001b[0m  0.0278\n",
      "    197  \u001b[36m5640.5842\u001b[0m  \u001b[32m36785456.0130\u001b[0m  \u001b[35m31816190.5417\u001b[0m  0.0337\n",
      "    198  \u001b[36m5639.2524\u001b[0m  \u001b[32m36753183.7188\u001b[0m  \u001b[35m31801167.5625\u001b[0m  0.0285\n",
      "    199  \u001b[36m5637.9409\u001b[0m  \u001b[32m36721374.6667\u001b[0m  \u001b[35m31786378.9167\u001b[0m  0.0287\n",
      "    200  \u001b[36m5636.6501\u001b[0m  \u001b[32m36690006.7448\u001b[0m  \u001b[35m31771821.6250\u001b[0m  0.0393\n",
      "    201  \u001b[36m5635.3790\u001b[0m  \u001b[32m36659076.5651\u001b[0m  \u001b[35m31757494.9583\u001b[0m  0.0301\n",
      "    202  \u001b[36m5634.1253\u001b[0m  \u001b[32m36628577.8385\u001b[0m  \u001b[35m31743366.5833\u001b[0m  0.0303\n",
      "    203  \u001b[36m5632.8907\u001b[0m  \u001b[32m36598491.7135\u001b[0m  \u001b[35m31729460.6250\u001b[0m  0.0362\n",
      "    204  \u001b[36m5631.6740\u001b[0m  \u001b[32m36568811.6927\u001b[0m  \u001b[35m31715751.0000\u001b[0m  0.0322\n",
      "    205  \u001b[36m5630.4737\u001b[0m  \u001b[32m36539530.5521\u001b[0m  \u001b[35m31702235.9167\u001b[0m  0.0332\n",
      "    206  \u001b[36m5629.2897\u001b[0m  \u001b[32m36510644.9349\u001b[0m  \u001b[35m31688901.0000\u001b[0m  0.0348\n",
      "    207  \u001b[36m5628.1214\u001b[0m  \u001b[32m36482142.0911\u001b[0m  \u001b[35m31675751.9583\u001b[0m  0.0291\n",
      "    208  \u001b[36m5626.9695\u001b[0m  \u001b[32m36454018.1432\u001b[0m  \u001b[35m31662789.1250\u001b[0m  0.0290\n",
      "    209  \u001b[36m5625.8338\u001b[0m  \u001b[32m36426261.8854\u001b[0m  \u001b[35m31650006.8333\u001b[0m  0.0298\n",
      "    210  \u001b[36m5624.7131\u001b[0m  \u001b[32m36398864.0781\u001b[0m  \u001b[35m31637397.5000\u001b[0m  0.0288\n",
      "    211  \u001b[36m5623.6076\u001b[0m  \u001b[32m36371840.9323\u001b[0m  \u001b[35m31624961.4167\u001b[0m  0.0304\n",
      "    212  \u001b[36m5622.5162\u001b[0m  \u001b[32m36345161.6224\u001b[0m  \u001b[35m31612685.5000\u001b[0m  0.0398\n",
      "    213  \u001b[36m5621.4384\u001b[0m  \u001b[32m36318831.7630\u001b[0m  \u001b[35m31600570.5000\u001b[0m  0.0292\n",
      "    214  \u001b[36m5620.3742\u001b[0m  \u001b[32m36292842.4766\u001b[0m  \u001b[35m31588606.9167\u001b[0m  0.0290\n",
      "    215  \u001b[36m5619.3236\u001b[0m  \u001b[32m36267185.4271\u001b[0m  \u001b[35m31576794.9167\u001b[0m  0.0379\n",
      "    216  \u001b[36m5618.2857\u001b[0m  \u001b[32m36241863.6875\u001b[0m  \u001b[35m31565133.0833\u001b[0m  0.0296\n",
      "    217  \u001b[36m5617.2605\u001b[0m  \u001b[32m36216859.6510\u001b[0m  \u001b[35m31553618.7917\u001b[0m  0.0286\n",
      "    218  \u001b[36m5616.2470\u001b[0m  \u001b[32m36192178.3333\u001b[0m  \u001b[35m31542230.2500\u001b[0m  0.0343\n",
      "    219  \u001b[36m5615.2444\u001b[0m  \u001b[32m36167808.2604\u001b[0m  \u001b[35m31530970.0833\u001b[0m  0.0292\n",
      "    220  \u001b[36m5614.2552\u001b[0m  \u001b[32m36143747.1979\u001b[0m  \u001b[35m31519860.3750\u001b[0m  0.0290\n",
      "    221  \u001b[36m5613.2769\u001b[0m  \u001b[32m36119993.0260\u001b[0m  \u001b[35m31508874.5833\u001b[0m  0.0343\n",
      "    222  \u001b[36m5612.3084\u001b[0m  \u001b[32m36096536.5156\u001b[0m  \u001b[35m31498009.7500\u001b[0m  0.0300\n",
      "    223  \u001b[36m5611.3521\u001b[0m  \u001b[32m36073372.7500\u001b[0m  \u001b[35m31487272.8333\u001b[0m  0.0295\n",
      "    224  \u001b[36m5610.4069\u001b[0m  \u001b[32m36050503.8490\u001b[0m  \u001b[35m31476667.3333\u001b[0m  0.0356\n",
      "    225  \u001b[36m5609.4700\u001b[0m  \u001b[32m36027923.6276\u001b[0m  \u001b[35m31466156.5000\u001b[0m  0.0309\n",
      "    226  \u001b[36m5608.5444\u001b[0m  \u001b[32m36005615.0911\u001b[0m  \u001b[35m31455770.9167\u001b[0m  0.0291\n",
      "    227  \u001b[36m5607.6282\u001b[0m  \u001b[32m35983589.5052\u001b[0m  \u001b[35m31445491.6667\u001b[0m  0.0349\n",
      "    228  \u001b[36m5606.7217\u001b[0m  \u001b[32m35961839.9740\u001b[0m  \u001b[35m31435327.8333\u001b[0m  0.0301\n",
      "    229  \u001b[36m5605.8239\u001b[0m  \u001b[32m35940360.6094\u001b[0m  \u001b[35m31425263.0833\u001b[0m  0.0305\n",
      "    230  \u001b[36m5604.9350\u001b[0m  \u001b[32m35919133.8177\u001b[0m  \u001b[35m31415297.5833\u001b[0m  0.0353\n",
      "    231  \u001b[36m5604.0555\u001b[0m  \u001b[32m35898163.3698\u001b[0m  \u001b[35m31405437.3333\u001b[0m  0.0299\n",
      "    232  \u001b[36m5603.1834\u001b[0m  \u001b[32m35877443.5938\u001b[0m  \u001b[35m31395664.4583\u001b[0m  0.0311\n",
      "    233  \u001b[36m5602.3209\u001b[0m  \u001b[32m35856974.8724\u001b[0m  \u001b[35m31386002.0000\u001b[0m  0.0371\n",
      "    234  \u001b[36m5601.4655\u001b[0m  \u001b[32m35836743.1198\u001b[0m  \u001b[35m31376417.2917\u001b[0m  0.0304\n",
      "    235  \u001b[36m5600.6180\u001b[0m  \u001b[32m35816753.2969\u001b[0m  \u001b[35m31366921.7500\u001b[0m  0.0287\n",
      "    236  \u001b[36m5599.7771\u001b[0m  \u001b[32m35797009.9844\u001b[0m  \u001b[35m31357501.8333\u001b[0m  0.0350\n",
      "    237  \u001b[36m5598.9426\u001b[0m  \u001b[32m35777490.9375\u001b[0m  \u001b[35m31348158.9167\u001b[0m  0.0304\n",
      "    238  \u001b[36m5598.1145\u001b[0m  \u001b[32m35758205.0599\u001b[0m  \u001b[35m31338884.6667\u001b[0m  0.0299\n",
      "    239  \u001b[36m5597.2935\u001b[0m  \u001b[32m35739146.7135\u001b[0m  \u001b[35m31329692.8333\u001b[0m  0.0281\n",
      "    240  \u001b[36m5596.4780\u001b[0m  \u001b[32m35720310.2578\u001b[0m  \u001b[35m31320567.6250\u001b[0m  0.0288\n",
      "    241  \u001b[36m5595.6698\u001b[0m  \u001b[32m35701695.0938\u001b[0m  \u001b[35m31311517.5833\u001b[0m  0.0290\n",
      "    242  \u001b[36m5594.8671\u001b[0m  \u001b[32m35683292.0833\u001b[0m  \u001b[35m31302535.8333\u001b[0m  0.0346\n",
      "    243  \u001b[36m5594.0697\u001b[0m  \u001b[32m35665107.2891\u001b[0m  \u001b[35m31293614.5833\u001b[0m  0.0298\n",
      "    244  \u001b[36m5593.2794\u001b[0m  \u001b[32m35647129.5964\u001b[0m  \u001b[35m31284775.3333\u001b[0m  0.0300\n",
      "    245  \u001b[36m5592.4937\u001b[0m  \u001b[32m35629356.9062\u001b[0m  \u001b[35m31275986.7917\u001b[0m  0.0359\n",
      "    246  \u001b[36m5591.7139\u001b[0m  \u001b[32m35611792.7396\u001b[0m  \u001b[35m31267261.9583\u001b[0m  0.0309\n",
      "    247  \u001b[36m5590.9393\u001b[0m  \u001b[32m35594432.7188\u001b[0m  \u001b[35m31258601.5833\u001b[0m  0.0291\n",
      "    248  \u001b[36m5590.1699\u001b[0m  \u001b[32m35577270.0990\u001b[0m  \u001b[35m31250002.1250\u001b[0m  0.0307\n",
      "    249  \u001b[36m5589.4052\u001b[0m  \u001b[32m35560296.9661\u001b[0m  \u001b[35m31241451.3333\u001b[0m  0.0294\n",
      "    250  \u001b[36m5588.6447\u001b[0m  \u001b[32m35543508.6771\u001b[0m  \u001b[35m31232949.7500\u001b[0m  0.0294\n",
      "    251  \u001b[36m5587.8874\u001b[0m  \u001b[32m35526891.1589\u001b[0m  \u001b[35m31224481.1250\u001b[0m  0.0382\n",
      "    252  \u001b[36m5587.1318\u001b[0m  \u001b[32m35510434.7500\u001b[0m  \u001b[35m31216041.0000\u001b[0m  0.0308\n",
      "    253  \u001b[36m5586.3761\u001b[0m  \u001b[32m35494107.6042\u001b[0m  \u001b[35m31207597.3333\u001b[0m  0.0302\n",
      "    254  \u001b[36m5585.6149\u001b[0m  \u001b[32m35477856.7917\u001b[0m  \u001b[35m31199091.1667\u001b[0m  0.0299\n",
      "    255  \u001b[36m5584.8368\u001b[0m  \u001b[32m35461564.5911\u001b[0m  \u001b[35m31190402.2500\u001b[0m  0.0313\n",
      "    256  \u001b[36m5584.0167\u001b[0m  \u001b[32m35444983.7266\u001b[0m  \u001b[35m31181241.8333\u001b[0m  0.0353\n",
      "    257  \u001b[36m5583.0911\u001b[0m  \u001b[32m35427510.8672\u001b[0m  \u001b[35m31170907.2083\u001b[0m  0.0307\n",
      "    258  \u001b[36m5581.8909\u001b[0m  \u001b[32m35407619.6875\u001b[0m  \u001b[35m31157506.1667\u001b[0m  0.0291\n",
      "    259  \u001b[36m5580.0149\u001b[0m  \u001b[32m35381525.4583\u001b[0m  \u001b[35m31136566.3750\u001b[0m  0.0344\n",
      "    260  \u001b[36m5577.2640\u001b[0m  \u001b[32m35343544.7292\u001b[0m  \u001b[35m31105873.0417\u001b[0m  0.0290\n",
      "    261  \u001b[36m5575.7559\u001b[0m  \u001b[32m35304481.9427\u001b[0m  \u001b[35m31089053.9167\u001b[0m  0.0284\n",
      "    262  \u001b[36m5575.7312\u001b[0m  \u001b[32m35281377.2448\u001b[0m  \u001b[35m31088779.7083\u001b[0m  0.0285\n",
      "    263  5575.8083  \u001b[32m35258323.2344\u001b[0m  31089636.2083  0.0296\n",
      "    264  \u001b[36m5575.7240\u001b[0m  \u001b[32m35235770.7552\u001b[0m  \u001b[35m31088696.2083\u001b[0m  0.0290\n",
      "    265  \u001b[36m5575.5308\u001b[0m  \u001b[32m35214164.5677\u001b[0m  \u001b[35m31086545.0000\u001b[0m  0.0301\n",
      "Stopping since RMSE has not improved in the last 5 epochs.\n",
      "[CV 3/3] END lr=0.001, module__activation=ELU(alpha=1.0), module__dropout=0, module__n_hidden_neurons_1=20, module__n_hidden_neurons_2=10, module__n_hidden_neurons_3=12, module__n_hidden_neurons_4=3; total time=   8.9s\n",
      "  epoch       RMSE      train_loss     valid_loss     dur\n",
      "-------  ---------  --------------  -------------  ------\n",
      "      1  \u001b[36m7853.2508\u001b[0m  \u001b[32m246710828.3333\u001b[0m  \u001b[35m61673543.3333\u001b[0m  0.0304\n",
      "      2  \u001b[36m7852.5318\u001b[0m  \u001b[32m246697427.2500\u001b[0m  \u001b[35m61662255.3333\u001b[0m  0.0357\n",
      "      3  \u001b[36m7850.8331\u001b[0m  \u001b[32m246665919.3333\u001b[0m  \u001b[35m61635575.6667\u001b[0m  0.0295\n",
      "      4  \u001b[36m7846.9079\u001b[0m  \u001b[32m246591761.3333\u001b[0m  \u001b[35m61573958.3333\u001b[0m  0.0306\n",
      "      5  \u001b[36m7837.7709\u001b[0m  \u001b[32m246418511.0833\u001b[0m  \u001b[35m61430648.0000\u001b[0m  0.0396\n",
      "      6  \u001b[36m7817.6129\u001b[0m  \u001b[32m246023014.4167\u001b[0m  \u001b[35m61115072.6667\u001b[0m  0.0310\n",
      "      7  \u001b[36m7776.8094\u001b[0m  \u001b[32m245187444.3750\u001b[0m  \u001b[35m60478763.3333\u001b[0m  0.0316\n",
      "      8  \u001b[36m7701.0849\u001b[0m  \u001b[32m243572123.0833\u001b[0m  \u001b[35m59306712.6667\u001b[0m  0.0402\n",
      "      9  \u001b[36m7571.7974\u001b[0m  \u001b[32m240702559.7917\u001b[0m  \u001b[35m57332120.0000\u001b[0m  0.0319\n",
      "     10  \u001b[36m7368.5963\u001b[0m  \u001b[32m235994405.3750\u001b[0m  \u001b[35m54296211.3333\u001b[0m  0.0304\n",
      "     11  \u001b[36m7076.2920\u001b[0m  \u001b[32m228845795.5000\u001b[0m  \u001b[35m50073907.3333\u001b[0m  0.0349\n",
      "     12  \u001b[36m6699.4280\u001b[0m  \u001b[32m218828234.7083\u001b[0m  \u001b[35m44882332.3333\u001b[0m  0.0300\n",
      "     13  \u001b[36m6285.6462\u001b[0m  \u001b[32m205988295.5521\u001b[0m  \u001b[35m39509348.0833\u001b[0m  0.0302\n",
      "     14  \u001b[36m5945.3676\u001b[0m  \u001b[32m191164784.9271\u001b[0m  \u001b[35m35347392.1667\u001b[0m  0.0359\n",
      "     15  \u001b[36m5816.5705\u001b[0m  \u001b[32m176033179.0833\u001b[0m  \u001b[35m33832492.3333\u001b[0m  0.0305\n",
      "     16  5938.3853  \u001b[32m162443936.4167\u001b[0m  35264421.3333  0.0299\n",
      "     17  6204.5393  \u001b[32m151294060.8333\u001b[0m  38496309.3333  0.0302\n",
      "     18  6498.4574  \u001b[32m142353157.2500\u001b[0m  42229948.0000  0.0312\n",
      "     19  6764.6596  \u001b[32m135054009.8333\u001b[0m  45760617.1667  0.0348\n",
      "Stopping since RMSE has not improved in the last 5 epochs.\n",
      "[CV 1/3] END lr=0.001, module__activation=ELU(alpha=1.0), module__dropout=0, module__n_hidden_neurons_1=25, module__n_hidden_neurons_2=18, module__n_hidden_neurons_3=9, module__n_hidden_neurons_4=5; total time=   0.7s\n",
      "  epoch        RMSE      train_loss      valid_loss     dur\n",
      "-------  ----------  --------------  --------------  ------\n",
      "      1  \u001b[36m14942.2906\u001b[0m  \u001b[32m252362587.0417\u001b[0m  \u001b[35m223272040.6667\u001b[0m  0.0308\n",
      "      2  \u001b[36m14941.9094\u001b[0m  \u001b[32m252353868.6667\u001b[0m  \u001b[35m223260645.3333\u001b[0m  0.0347\n",
      "      3  \u001b[36m14941.0142\u001b[0m  \u001b[32m252335334.0000\u001b[0m  \u001b[35m223233892.6667\u001b[0m  0.0298\n",
      "      4  \u001b[36m14938.7641\u001b[0m  \u001b[32m252289948.5000\u001b[0m  \u001b[35m223166675.3333\u001b[0m  0.0308\n",
      "      5  \u001b[36m14932.9483\u001b[0m  \u001b[32m252173015.4167\u001b[0m  \u001b[35m222992932.3333\u001b[0m  0.0398\n",
      "      6  \u001b[36m14918.9040\u001b[0m  \u001b[32m251878906.0000\u001b[0m  \u001b[35m222573704.6667\u001b[0m  0.0298\n",
      "      7  \u001b[36m14888.3777\u001b[0m  \u001b[32m251207853.3333\u001b[0m  \u001b[35m221663797.3333\u001b[0m  0.0371\n",
      "      8  \u001b[36m14828.6938\u001b[0m  \u001b[32m249831428.7917\u001b[0m  \u001b[35m219890169.3333\u001b[0m  0.0362\n",
      "      9  \u001b[36m14722.6302\u001b[0m  \u001b[32m247284506.5833\u001b[0m  \u001b[35m216755854.3333\u001b[0m  0.0317\n",
      "     10  \u001b[36m14549.1124\u001b[0m  \u001b[32m242982099.5000\u001b[0m  \u001b[35m211676674.6667\u001b[0m  0.0307\n",
      "     11  \u001b[36m14285.8571\u001b[0m  \u001b[32m236293869.6667\u001b[0m  \u001b[35m204085728.8333\u001b[0m  0.0311\n",
      "     12  \u001b[36m13915.2429\u001b[0m  \u001b[32m226707241.2917\u001b[0m  \u001b[35m193633985.6667\u001b[0m  0.0311\n",
      "     13  \u001b[36m13434.5459\u001b[0m  \u001b[32m214098029.2188\u001b[0m  \u001b[35m180487008.6667\u001b[0m  0.0358\n",
      "     14  \u001b[36m12869.1538\u001b[0m  \u001b[32m199063700.7552\u001b[0m  \u001b[35m165615118.3333\u001b[0m  0.0312\n",
      "     15  \u001b[36m12278.9987\u001b[0m  \u001b[32m183100878.5716\u001b[0m  \u001b[35m150773798.0833\u001b[0m  0.0314\n",
      "     16  \u001b[36m11735.7662\u001b[0m  \u001b[32m168175869.2917\u001b[0m  \u001b[35m137728207.3333\u001b[0m  0.0461\n",
      "     17  \u001b[36m11275.3476\u001b[0m  \u001b[32m155548263.4167\u001b[0m  \u001b[35m127133469.0833\u001b[0m  0.0381\n",
      "     18  \u001b[36m10893.5566\u001b[0m  \u001b[32m145225996.5417\u001b[0m  \u001b[35m118669580.1667\u001b[0m  0.0377\n",
      "     19  \u001b[36m10574.6637\u001b[0m  \u001b[32m136718452.0000\u001b[0m  \u001b[35m111823519.8333\u001b[0m  0.0316\n",
      "     20  \u001b[36m10302.3803\u001b[0m  \u001b[32m129550614.7500\u001b[0m  \u001b[35m106139035.1667\u001b[0m  0.0309\n",
      "     21  \u001b[36m10063.4479\u001b[0m  \u001b[32m123347425.7500\u001b[0m  \u001b[35m101272982.0000\u001b[0m  0.0398\n",
      "     22  \u001b[36m9847.8733\u001b[0m  \u001b[32m117866218.2500\u001b[0m  \u001b[35m96980611.3333\u001b[0m  0.0315\n",
      "     23  \u001b[36m9652.1148\u001b[0m  \u001b[32m112923860.7500\u001b[0m  \u001b[35m93163322.6667\u001b[0m  0.0333\n",
      "     24  \u001b[36m9476.1342\u001b[0m  \u001b[32m108457246.4167\u001b[0m  \u001b[35m89797112.1667\u001b[0m  0.0398\n",
      "     25  \u001b[36m9318.4505\u001b[0m  \u001b[32m104400702.9167\u001b[0m  \u001b[35m86833523.1667\u001b[0m  0.0313\n",
      "     26  \u001b[36m9180.6579\u001b[0m  \u001b[32m100784240.3333\u001b[0m  \u001b[35m84284480.4167\u001b[0m  0.0322\n",
      "     27  \u001b[36m9060.4494\u001b[0m  \u001b[32m97616606.9167\u001b[0m  \u001b[35m82091743.6250\u001b[0m  0.0366\n",
      "     28  \u001b[36m8954.6109\u001b[0m  \u001b[32m94813724.2083\u001b[0m  \u001b[35m80185056.1250\u001b[0m  0.0312\n",
      "     29  \u001b[36m8858.7661\u001b[0m  \u001b[32m92289923.0000\u001b[0m  \u001b[35m78477737.8750\u001b[0m  0.0402\n",
      "     30  \u001b[36m8768.9457\u001b[0m  \u001b[32m89979118.9583\u001b[0m  \u001b[35m76894410.8125\u001b[0m  0.0322\n",
      "     31  \u001b[36m8680.7940\u001b[0m  \u001b[32m87808516.0000\u001b[0m  \u001b[35m75356185.8125\u001b[0m  0.0326\n",
      "     32  \u001b[36m8586.9105\u001b[0m  \u001b[32m85675762.1250\u001b[0m  \u001b[35m73735034.5833\u001b[0m  0.0414\n",
      "     33  \u001b[36m8476.4242\u001b[0m  \u001b[32m83407090.5417\u001b[0m  \u001b[35m71849766.1458\u001b[0m  0.0303\n",
      "     34  \u001b[36m8362.3169\u001b[0m  \u001b[32m80956004.2083\u001b[0m  \u001b[35m69928333.3125\u001b[0m  0.0310\n",
      "     35  \u001b[36m8255.2005\u001b[0m  \u001b[32m78642530.7917\u001b[0m  \u001b[35m68148338.0000\u001b[0m  0.0368\n",
      "     36  \u001b[36m8153.5609\u001b[0m  \u001b[32m76482209.8125\u001b[0m  \u001b[35m66480558.4375\u001b[0m  0.0315\n",
      "     37  \u001b[36m8055.8483\u001b[0m  \u001b[32m74436558.2500\u001b[0m  \u001b[35m64896689.0625\u001b[0m  0.0341\n",
      "     38  \u001b[36m7960.7198\u001b[0m  \u001b[32m72475210.7083\u001b[0m  \u001b[35m63373062.9583\u001b[0m  0.0316\n",
      "     39  \u001b[36m7864.8008\u001b[0m  \u001b[32m70561618.5833\u001b[0m  \u001b[35m61855094.9167\u001b[0m  0.0317\n",
      "     40  \u001b[36m7761.1999\u001b[0m  \u001b[32m68621170.3750\u001b[0m  \u001b[35m60236227.3958\u001b[0m  0.0366\n",
      "     41  \u001b[36m7650.3623\u001b[0m  \u001b[32m66579237.9375\u001b[0m  \u001b[35m58528038.3542\u001b[0m  0.0332\n",
      "     42  \u001b[36m7537.8989\u001b[0m  \u001b[32m64532925.4167\u001b[0m  \u001b[35m56819919.8333\u001b[0m  0.0334\n",
      "     43  \u001b[36m7429.6318\u001b[0m  \u001b[32m62536308.3333\u001b[0m  \u001b[35m55199428.2917\u001b[0m  0.0429\n",
      "     44  \u001b[36m7327.8657\u001b[0m  \u001b[32m60667342.8958\u001b[0m  \u001b[35m53697614.2917\u001b[0m  0.0321\n",
      "     45  \u001b[36m7232.4613\u001b[0m  \u001b[32m58921991.3125\u001b[0m  \u001b[35m52308498.2083\u001b[0m  0.0317\n",
      "     46  \u001b[36m7145.8606\u001b[0m  \u001b[32m57330819.3958\u001b[0m  \u001b[35m51063322.5833\u001b[0m  0.0387\n",
      "     47  \u001b[36m7067.4060\u001b[0m  \u001b[32m55903788.1250\u001b[0m  \u001b[35m49948233.0000\u001b[0m  0.0311\n",
      "     48  \u001b[36m6995.3004\u001b[0m  \u001b[32m54595728.8750\u001b[0m  \u001b[35m48934226.4167\u001b[0m  0.0366\n",
      "     49  \u001b[36m6928.4425\u001b[0m  \u001b[32m53385352.1458\u001b[0m  \u001b[35m48003316.6667\u001b[0m  0.0324\n",
      "     50  \u001b[36m6866.4401\u001b[0m  \u001b[32m52251691.0833\u001b[0m  \u001b[35m47148003.7500\u001b[0m  0.0317\n",
      "     51  \u001b[36m6809.5794\u001b[0m  \u001b[32m51206449.8542\u001b[0m  \u001b[35m46370374.8333\u001b[0m  0.0416\n",
      "     52  \u001b[36m6757.6188\u001b[0m  \u001b[32m50274840.7708\u001b[0m  \u001b[35m45665413.2500\u001b[0m  0.0330\n",
      "     53  \u001b[36m6709.8086\u001b[0m  \u001b[32m49444539.7083\u001b[0m  \u001b[35m45021529.3333\u001b[0m  0.0321\n",
      "     54  \u001b[36m6665.5355\u001b[0m  \u001b[32m48701523.1667\u001b[0m  \u001b[35m44429361.3333\u001b[0m  0.0365\n",
      "     55  \u001b[36m6624.3107\u001b[0m  \u001b[32m48033681.0625\u001b[0m  \u001b[35m43881494.0000\u001b[0m  0.0315\n",
      "     56  \u001b[36m6585.7650\u001b[0m  \u001b[32m47430493.5000\u001b[0m  \u001b[35m43372303.3333\u001b[0m  0.0318\n",
      "     57  \u001b[36m6549.6317\u001b[0m  \u001b[32m46883676.9583\u001b[0m  \u001b[35m42897678.5000\u001b[0m  0.0374\n",
      "     58  \u001b[36m6515.7001\u001b[0m  \u001b[32m46386026.6250\u001b[0m  \u001b[35m42454347.3333\u001b[0m  0.0322\n",
      "     59  \u001b[36m6483.8214\u001b[0m  \u001b[32m45931499.7500\u001b[0m  \u001b[35m42039938.6667\u001b[0m  0.0370\n",
      "     60  \u001b[36m6453.8922\u001b[0m  \u001b[32m45515696.2083\u001b[0m  \u001b[35m41652724.3333\u001b[0m  0.0327\n",
      "     61  \u001b[36m6425.8042\u001b[0m  \u001b[32m45134556.8333\u001b[0m  \u001b[35m41290958.1667\u001b[0m  0.0318\n",
      "     62  \u001b[36m6399.4453\u001b[0m  \u001b[32m44784312.3333\u001b[0m  \u001b[35m40952901.0000\u001b[0m  0.0370\n",
      "     63  \u001b[36m6374.7082\u001b[0m  \u001b[32m44461659.8750\u001b[0m  \u001b[35m40636905.1667\u001b[0m  0.0304\n",
      "     64  \u001b[36m6351.4883\u001b[0m  \u001b[32m44163645.6667\u001b[0m  \u001b[35m40341406.8333\u001b[0m  0.0302\n",
      "     65  \u001b[36m6329.6910\u001b[0m  \u001b[32m43887685.5417\u001b[0m  \u001b[35m40064987.6667\u001b[0m  0.0363\n",
      "     66  \u001b[36m6309.2424\u001b[0m  \u001b[32m43631515.2500\u001b[0m  \u001b[35m39806542.6667\u001b[0m  0.0335\n",
      "     67  \u001b[36m6290.0776\u001b[0m  \u001b[32m43393352.0000\u001b[0m  \u001b[35m39565074.4167\u001b[0m  0.0316\n",
      "     68  \u001b[36m6272.0973\u001b[0m  \u001b[32m43171267.6667\u001b[0m  \u001b[35m39339203.0833\u001b[0m  0.0368\n",
      "     69  \u001b[36m6255.2087\u001b[0m  \u001b[32m42963525.0000\u001b[0m  \u001b[35m39127635.6667\u001b[0m  0.0304\n",
      "     70  \u001b[36m6239.3253\u001b[0m  \u001b[32m42768571.3750\u001b[0m  \u001b[35m38929180.1667\u001b[0m  0.0320\n",
      "     71  \u001b[36m6224.3637\u001b[0m  \u001b[32m42585025.0417\u001b[0m  \u001b[35m38742702.2500\u001b[0m  0.0410\n",
      "     72  \u001b[36m6210.2448\u001b[0m  \u001b[32m42411599.1250\u001b[0m  \u001b[35m38567142.6667\u001b[0m  0.0363\n",
      "     73  \u001b[36m6196.8966\u001b[0m  \u001b[32m42247173.7083\u001b[0m  \u001b[35m38401528.3333\u001b[0m  0.0381\n",
      "     74  \u001b[36m6184.2481\u001b[0m  \u001b[32m42090707.2083\u001b[0m  \u001b[35m38244922.4167\u001b[0m  0.0343\n",
      "     75  \u001b[36m6172.2388\u001b[0m  \u001b[32m41941259.9167\u001b[0m  \u001b[35m38096532.5833\u001b[0m  0.0323\n",
      "     76  \u001b[36m6160.8139\u001b[0m  \u001b[32m41798169.4167\u001b[0m  \u001b[35m37955627.0000\u001b[0m  0.0409\n",
      "     77  \u001b[36m6149.9119\u001b[0m  \u001b[32m41660660.9583\u001b[0m  \u001b[35m37821414.8333\u001b[0m  0.0322\n",
      "     78  \u001b[36m6139.4791\u001b[0m  \u001b[32m41528106.3333\u001b[0m  \u001b[35m37693203.0000\u001b[0m  0.0313\n",
      "     79  \u001b[36m6129.4616\u001b[0m  \u001b[32m41399900.8333\u001b[0m  \u001b[35m37570299.8333\u001b[0m  0.0317\n",
      "     80  \u001b[36m6119.8013\u001b[0m  \u001b[32m41275412.6667\u001b[0m  \u001b[35m37451968.6667\u001b[0m  0.0315\n",
      "     81  \u001b[36m6110.4330\u001b[0m  \u001b[32m41154056.5833\u001b[0m  \u001b[35m37337390.2500\u001b[0m  0.0376\n",
      "     82  \u001b[36m6101.2861\u001b[0m  \u001b[32m41035245.2083\u001b[0m  \u001b[35m37225691.6667\u001b[0m  0.0311\n",
      "     83  \u001b[36m6092.2774\u001b[0m  \u001b[32m40918580.1667\u001b[0m  \u001b[35m37115841.1667\u001b[0m  0.0316\n",
      "     84  \u001b[36m6083.2817\u001b[0m  \u001b[32m40803538.5833\u001b[0m  \u001b[35m37006316.2500\u001b[0m  0.0378\n",
      "     85  \u001b[36m6074.1169\u001b[0m  \u001b[32m40688639.4167\u001b[0m  \u001b[35m36894893.7500\u001b[0m  0.0314\n",
      "     86  \u001b[36m6064.5425\u001b[0m  \u001b[32m40571454.8750\u001b[0m  \u001b[35m36778675.8333\u001b[0m  0.0323\n",
      "     87  \u001b[36m6054.3707\u001b[0m  \u001b[32m40448891.2500\u001b[0m  \u001b[35m36655402.0833\u001b[0m  0.0370\n",
      "     88  \u001b[36m6043.6234\u001b[0m  \u001b[32m40317951.2500\u001b[0m  \u001b[35m36525385.5000\u001b[0m  0.0322\n",
      "     89  \u001b[36m6032.4353\u001b[0m  \u001b[32m40178477.2708\u001b[0m  \u001b[35m36390277.7500\u001b[0m  0.0322\n",
      "     90  \u001b[36m6020.8830\u001b[0m  \u001b[32m40031627.8125\u001b[0m  \u001b[35m36251029.7917\u001b[0m  0.0379\n",
      "     91  \u001b[36m6009.0415\u001b[0m  \u001b[32m39878568.9792\u001b[0m  \u001b[35m36108581.5833\u001b[0m  0.0316\n",
      "     92  \u001b[36m5996.9189\u001b[0m  \u001b[32m39718926.5625\u001b[0m  \u001b[35m35963036.3750\u001b[0m  0.0319\n",
      "     93  \u001b[36m5984.7984\u001b[0m  \u001b[32m39552093.5833\u001b[0m  \u001b[35m35817810.9583\u001b[0m  0.0376\n",
      "     94  \u001b[36m5973.1305\u001b[0m  \u001b[32m39383781.6042\u001b[0m  \u001b[35m35678289.2500\u001b[0m  0.0317\n",
      "     95  \u001b[36m5962.0439\u001b[0m  \u001b[32m39220433.4375\u001b[0m  \u001b[35m35545967.2500\u001b[0m  0.0371\n",
      "     96  \u001b[36m5951.4899\u001b[0m  \u001b[32m39063245.9167\u001b[0m  \u001b[35m35420231.9375\u001b[0m  0.0325\n",
      "     97  \u001b[36m5941.4961\u001b[0m  \u001b[32m38910282.2500\u001b[0m  \u001b[35m35301373.6875\u001b[0m  0.0313\n",
      "     98  \u001b[36m5932.0786\u001b[0m  \u001b[32m38761323.5417\u001b[0m  \u001b[35m35189554.4583\u001b[0m  0.0365\n",
      "     99  \u001b[36m5923.2488\u001b[0m  \u001b[32m38617540.9792\u001b[0m  \u001b[35m35084875.1458\u001b[0m  0.0323\n",
      "    100  \u001b[36m5915.0009\u001b[0m  \u001b[32m38479610.4167\u001b[0m  \u001b[35m34987235.5208\u001b[0m  0.0317\n",
      "    101  \u001b[36m5907.3043\u001b[0m  \u001b[32m38347975.9896\u001b[0m  \u001b[35m34896244.6250\u001b[0m  0.0411\n",
      "    102  \u001b[36m5900.0569\u001b[0m  \u001b[32m38221830.8750\u001b[0m  \u001b[35m34810673.4583\u001b[0m  0.0321\n",
      "    103  \u001b[36m5893.1896\u001b[0m  \u001b[32m38100914.2083\u001b[0m  \u001b[35m34729686.4375\u001b[0m  0.0359\n",
      "    104  \u001b[36m5886.6670\u001b[0m  \u001b[32m37984661.3229\u001b[0m  \u001b[35m34652848.0000\u001b[0m  0.0311\n",
      "    105  \u001b[36m5880.4445\u001b[0m  \u001b[32m37872293.4479\u001b[0m  \u001b[35m34579628.2083\u001b[0m  0.0318\n",
      "    106  \u001b[36m5874.4787\u001b[0m  \u001b[32m37763332.1042\u001b[0m  \u001b[35m34509495.0417\u001b[0m  0.0375\n",
      "    107  \u001b[36m5868.7113\u001b[0m  \u001b[32m37657319.6979\u001b[0m  \u001b[35m34441768.6250\u001b[0m  0.0325\n",
      "    108  \u001b[36m5863.1118\u001b[0m  \u001b[32m37554122.1042\u001b[0m  \u001b[35m34376078.1250\u001b[0m  0.0317\n",
      "    109  \u001b[36m5857.6565\u001b[0m  \u001b[32m37453422.2396\u001b[0m  \u001b[35m34312137.1667\u001b[0m  0.0358\n",
      "    110  \u001b[36m5852.3277\u001b[0m  \u001b[32m37354925.1042\u001b[0m  \u001b[35m34249741.8750\u001b[0m  0.0306\n",
      "    111  \u001b[36m5847.1166\u001b[0m  \u001b[32m37258447.4167\u001b[0m  \u001b[35m34188771.9583\u001b[0m  0.0322\n",
      "    112  \u001b[36m5842.0130\u001b[0m  \u001b[32m37163884.8333\u001b[0m  \u001b[35m34129115.6458\u001b[0m  0.0367\n",
      "    113  \u001b[36m5836.9633\u001b[0m  \u001b[32m37070703.0208\u001b[0m  \u001b[35m34070139.1042\u001b[0m  0.0316\n",
      "    114  \u001b[36m5831.9674\u001b[0m  \u001b[32m36979161.0833\u001b[0m  \u001b[35m34011843.3333\u001b[0m  0.0313\n",
      "    115  \u001b[36m5827.0287\u001b[0m  \u001b[32m36889111.7083\u001b[0m  \u001b[35m33954265.8750\u001b[0m  0.0366\n",
      "    116  \u001b[36m5822.1463\u001b[0m  \u001b[32m36800354.1875\u001b[0m  \u001b[35m33897387.0833\u001b[0m  0.0311\n",
      "    117  \u001b[36m5817.3159\u001b[0m  \u001b[32m36712788.9375\u001b[0m  \u001b[35m33841161.2500\u001b[0m  0.0324\n",
      "    118  \u001b[36m5812.5358\u001b[0m  \u001b[32m36626314.8750\u001b[0m  \u001b[35m33785572.0000\u001b[0m  0.0365\n",
      "    119  \u001b[36m5807.8054\u001b[0m  \u001b[32m36540919.3333\u001b[0m  \u001b[35m33730601.3542\u001b[0m  0.0322\n",
      "    120  \u001b[36m5803.1347\u001b[0m  \u001b[32m36456766.1875\u001b[0m  \u001b[35m33676372.6250\u001b[0m  0.0370\n",
      "    121  \u001b[36m5798.5698\u001b[0m  \u001b[32m36374124.0417\u001b[0m  \u001b[35m33623413.1250\u001b[0m  0.0313\n",
      "    122  \u001b[36m5794.1426\u001b[0m  \u001b[32m36293216.5417\u001b[0m  \u001b[35m33572090.0000\u001b[0m  0.0320\n",
      "    123  \u001b[36m5789.8606\u001b[0m  \u001b[32m36214153.5417\u001b[0m  \u001b[35m33522485.0833\u001b[0m  0.0399\n",
      "    124  \u001b[36m5785.7950\u001b[0m  \u001b[32m36137374.2292\u001b[0m  \u001b[35m33475421.7083\u001b[0m  0.0322\n",
      "    125  \u001b[36m5781.9293\u001b[0m  \u001b[32m36063159.5729\u001b[0m  \u001b[35m33430704.6458\u001b[0m  0.0328\n",
      "    126  \u001b[36m5778.2253\u001b[0m  \u001b[32m35991415.8750\u001b[0m  \u001b[35m33387887.8750\u001b[0m  0.0391\n",
      "    127  \u001b[36m5774.6473\u001b[0m  \u001b[32m35921855.1458\u001b[0m  \u001b[35m33346553.0000\u001b[0m  0.0332\n",
      "    128  \u001b[36m5771.1737\u001b[0m  \u001b[32m35854245.3125\u001b[0m  \u001b[35m33306444.2500\u001b[0m  0.0330\n",
      "    129  \u001b[36m5767.7925\u001b[0m  \u001b[32m35788475.0208\u001b[0m  \u001b[35m33267432.3750\u001b[0m  0.0349\n",
      "    130  \u001b[36m5764.4927\u001b[0m  \u001b[32m35724458.3229\u001b[0m  \u001b[35m33229376.9583\u001b[0m  0.0331\n",
      "    131  \u001b[36m5761.2615\u001b[0m  \u001b[32m35662028.9688\u001b[0m  \u001b[35m33192132.5000\u001b[0m  0.0433\n",
      "    132  \u001b[36m5758.0893\u001b[0m  \u001b[32m35601040.2604\u001b[0m  \u001b[35m33155592.8333\u001b[0m  0.0330\n",
      "    133  \u001b[36m5754.9716\u001b[0m  \u001b[32m35541391.2708\u001b[0m  \u001b[35m33119699.2917\u001b[0m  0.0332\n",
      "    134  \u001b[36m5751.9056\u001b[0m  \u001b[32m35483053.2917\u001b[0m  \u001b[35m33084419.8750\u001b[0m  0.0397\n",
      "    135  \u001b[36m5748.8872\u001b[0m  \u001b[32m35425951.7708\u001b[0m  \u001b[35m33049701.2083\u001b[0m  0.0322\n",
      "    136  \u001b[36m5745.9121\u001b[0m  \u001b[32m35370005.4375\u001b[0m  \u001b[35m33015508.7917\u001b[0m  0.0318\n",
      "    137  \u001b[36m5742.9785\u001b[0m  \u001b[32m35315138.7083\u001b[0m  \u001b[35m32981800.4375\u001b[0m  0.0454\n",
      "    138  \u001b[36m5740.0836\u001b[0m  \u001b[32m35261294.0417\u001b[0m  \u001b[35m32948559.3750\u001b[0m  0.0365\n",
      "    139  \u001b[36m5737.2244\u001b[0m  \u001b[32m35208401.7500\u001b[0m  \u001b[35m32915742.7500\u001b[0m  0.0440\n",
      "    140  \u001b[36m5734.4008\u001b[0m  \u001b[32m35156433.6458\u001b[0m  \u001b[35m32883353.3750\u001b[0m  0.0362\n",
      "    141  \u001b[36m5731.6115\u001b[0m  \u001b[32m35105340.2083\u001b[0m  \u001b[35m32851369.0000\u001b[0m  0.0339\n",
      "    142  \u001b[36m5728.8549\u001b[0m  \u001b[32m35055075.6771\u001b[0m  \u001b[35m32819778.3333\u001b[0m  0.0336\n",
      "    143  \u001b[36m5726.1291\u001b[0m  \u001b[32m35005603.4167\u001b[0m  \u001b[35m32788556.1667\u001b[0m  0.0335\n",
      "    144  \u001b[36m5723.4320\u001b[0m  \u001b[32m34956868.5208\u001b[0m  \u001b[35m32757675.3542\u001b[0m  0.0434\n",
      "    145  \u001b[36m5720.7643\u001b[0m  \u001b[32m34908847.5000\u001b[0m  \u001b[35m32727144.8750\u001b[0m  0.0347\n",
      "    146  \u001b[36m5718.1228\u001b[0m  \u001b[32m34861507.0833\u001b[0m  \u001b[35m32696928.2500\u001b[0m  0.0343\n",
      "    147  \u001b[36m5715.5073\u001b[0m  \u001b[32m34814829.1458\u001b[0m  \u001b[35m32667027.0000\u001b[0m  0.0386\n",
      "    148  \u001b[36m5712.9182\u001b[0m  \u001b[32m34768786.6562\u001b[0m  \u001b[35m32637430.3333\u001b[0m  0.0405\n",
      "    149  \u001b[36m5710.3541\u001b[0m  \u001b[32m34723355.2917\u001b[0m  \u001b[35m32608142.5833\u001b[0m  0.0462\n",
      "    150  \u001b[36m5707.8141\u001b[0m  \u001b[32m34678526.3438\u001b[0m  \u001b[35m32579140.0833\u001b[0m  0.0411\n",
      "    151  \u001b[36m5705.2979\u001b[0m  \u001b[32m34634276.5938\u001b[0m  \u001b[35m32550427.1667\u001b[0m  0.0488\n",
      "    152  \u001b[36m5702.8063\u001b[0m  \u001b[32m34590593.2604\u001b[0m  \u001b[35m32521998.2500\u001b[0m  0.0444\n",
      "    153  \u001b[36m5700.3242\u001b[0m  \u001b[32m34547375.6250\u001b[0m  \u001b[35m32493694.3542\u001b[0m  0.0402\n",
      "    154  \u001b[36m5697.8564\u001b[0m  \u001b[32m34504691.4375\u001b[0m  \u001b[35m32465569.2917\u001b[0m  0.0324\n",
      "    155  \u001b[36m5695.4089\u001b[0m  \u001b[32m34462521.6667\u001b[0m  \u001b[35m32437681.0833\u001b[0m  0.0319\n",
      "    156  \u001b[36m5692.9825\u001b[0m  \u001b[32m34420854.9792\u001b[0m  \u001b[35m32410049.2917\u001b[0m  0.0382\n",
      "    157  \u001b[36m5690.5780\u001b[0m  \u001b[32m34379670.0938\u001b[0m  \u001b[35m32382678.1667\u001b[0m  0.0344\n",
      "    158  \u001b[36m5688.1964\u001b[0m  \u001b[32m34338951.0521\u001b[0m  \u001b[35m32355580.0625\u001b[0m  0.0322\n",
      "    159  \u001b[36m5685.8378\u001b[0m  \u001b[32m34298735.4583\u001b[0m  \u001b[35m32328755.3958\u001b[0m  0.0378\n",
      "    160  \u001b[36m5683.5060\u001b[0m  \u001b[32m34259022.2708\u001b[0m  \u001b[35m32302237.5417\u001b[0m  0.0321\n",
      "    161  \u001b[36m5681.1942\u001b[0m  \u001b[32m34219790.0625\u001b[0m  \u001b[35m32275966.0417\u001b[0m  0.0381\n",
      "    162  \u001b[36m5678.8969\u001b[0m  \u001b[32m34180991.8333\u001b[0m  \u001b[35m32249868.1250\u001b[0m  0.0322\n",
      "    163  \u001b[36m5676.6178\u001b[0m  \u001b[32m34142666.7708\u001b[0m  \u001b[35m32223989.6042\u001b[0m  0.0320\n",
      "    164  \u001b[36m5674.3611\u001b[0m  \u001b[32m34104806.6875\u001b[0m  \u001b[35m32198374.2917\u001b[0m  0.0372\n",
      "    165  \u001b[36m5672.1291\u001b[0m  \u001b[32m34067381.4271\u001b[0m  \u001b[35m32173050.2917\u001b[0m  0.0321\n",
      "    166  \u001b[36m5669.9122\u001b[0m  \u001b[32m34030341.1458\u001b[0m  \u001b[35m32147904.3333\u001b[0m  0.0318\n",
      "    167  \u001b[36m5667.7108\u001b[0m  \u001b[32m33993704.9479\u001b[0m  \u001b[35m32122945.5625\u001b[0m  0.0374\n",
      "    168  \u001b[36m5665.5296\u001b[0m  \u001b[32m33957480.4479\u001b[0m  \u001b[35m32098226.0000\u001b[0m  0.0317\n",
      "    169  \u001b[36m5663.3684\u001b[0m  \u001b[32m33921642.3229\u001b[0m  \u001b[35m32073742.0000\u001b[0m  0.0323\n",
      "    170  \u001b[36m5661.2310\u001b[0m  \u001b[32m33886193.6146\u001b[0m  \u001b[35m32049535.9583\u001b[0m  0.0366\n",
      "    171  \u001b[36m5659.1158\u001b[0m  \u001b[32m33851122.1562\u001b[0m  \u001b[35m32025593.6667\u001b[0m  0.0321\n",
      "    172  \u001b[36m5657.0234\u001b[0m  \u001b[32m33816413.2604\u001b[0m  \u001b[35m32001913.7917\u001b[0m  0.0340\n",
      "    173  \u001b[36m5654.9523\u001b[0m  \u001b[32m33782060.9792\u001b[0m  \u001b[35m31978485.7708\u001b[0m  0.0322\n",
      "    174  \u001b[36m5652.8858\u001b[0m  \u001b[32m33747967.7917\u001b[0m  \u001b[35m31955119.9375\u001b[0m  0.0325\n",
      "    175  \u001b[36m5650.8265\u001b[0m  \u001b[32m33714262.6875\u001b[0m  \u001b[35m31931839.5000\u001b[0m  0.0365\n",
      "    176  \u001b[36m5648.7845\u001b[0m  \u001b[32m33680998.8125\u001b[0m  \u001b[35m31908764.7083\u001b[0m  0.0327\n",
      "    177  \u001b[36m5646.7667\u001b[0m  \u001b[32m33648165.8333\u001b[0m  \u001b[35m31885972.3125\u001b[0m  0.0329\n",
      "    178  \u001b[36m5644.7769\u001b[0m  \u001b[32m33615735.2708\u001b[0m  \u001b[35m31863506.5417\u001b[0m  0.0424\n",
      "    179  \u001b[36m5642.8176\u001b[0m  \u001b[32m33583691.2292\u001b[0m  \u001b[35m31841387.2500\u001b[0m  0.0373\n",
      "    180  \u001b[36m5640.8859\u001b[0m  \u001b[32m33552028.3750\u001b[0m  \u001b[35m31819593.6667\u001b[0m  0.0343\n",
      "    181  \u001b[36m5638.9894\u001b[0m  \u001b[32m33520741.1354\u001b[0m  \u001b[35m31798204.3750\u001b[0m  0.0322\n",
      "    182  \u001b[36m5637.1367\u001b[0m  \u001b[32m33489815.7083\u001b[0m  \u001b[35m31777308.4583\u001b[0m  0.0310\n",
      "    183  \u001b[36m5635.3273\u001b[0m  \u001b[32m33459241.0417\u001b[0m  \u001b[35m31756913.9167\u001b[0m  0.0360\n",
      "    184  \u001b[36m5633.5578\u001b[0m  \u001b[32m33429024.6875\u001b[0m  \u001b[35m31736974.3750\u001b[0m  0.0312\n",
      "    185  \u001b[36m5631.8269\u001b[0m  \u001b[32m33399141.3750\u001b[0m  \u001b[35m31717474.9583\u001b[0m  0.0337\n",
      "    186  \u001b[36m5630.1337\u001b[0m  \u001b[32m33369599.9375\u001b[0m  \u001b[35m31698404.2917\u001b[0m  0.0368\n",
      "    187  \u001b[36m5628.4771\u001b[0m  \u001b[32m33340381.0000\u001b[0m  \u001b[35m31679753.7500\u001b[0m  0.0333\n",
      "    188  \u001b[36m5626.8521\u001b[0m  \u001b[32m33311464.2708\u001b[0m  \u001b[35m31661465.5417\u001b[0m  0.0330\n",
      "    189  \u001b[36m5625.2559\u001b[0m  \u001b[32m33282835.1146\u001b[0m  \u001b[35m31643505.5417\u001b[0m  0.0391\n",
      "    190  \u001b[36m5623.6863\u001b[0m  \u001b[32m33254516.7083\u001b[0m  \u001b[35m31625848.2917\u001b[0m  0.0304\n",
      "    191  \u001b[36m5622.1496\u001b[0m  \u001b[32m33226491.2083\u001b[0m  \u001b[35m31608564.4583\u001b[0m  0.0310\n",
      "    192  \u001b[36m5620.6439\u001b[0m  \u001b[32m33198754.7083\u001b[0m  \u001b[35m31591638.0417\u001b[0m  0.0360\n",
      "    193  \u001b[36m5619.1706\u001b[0m  \u001b[32m33171301.4271\u001b[0m  \u001b[35m31575076.5833\u001b[0m  0.0317\n",
      "    194  \u001b[36m5617.7293\u001b[0m  \u001b[32m33144128.5833\u001b[0m  \u001b[35m31558883.2917\u001b[0m  0.0421\n",
      "    195  \u001b[36m5616.3148\u001b[0m  \u001b[32m33117225.1042\u001b[0m  \u001b[35m31542990.2083\u001b[0m  0.0343\n",
      "    196  \u001b[36m5614.9267\u001b[0m  \u001b[32m33090627.4479\u001b[0m  \u001b[35m31527403.2917\u001b[0m  0.0352\n",
      "    197  \u001b[36m5613.5662\u001b[0m  \u001b[32m33064338.8021\u001b[0m  \u001b[35m31512123.5000\u001b[0m  0.0414\n",
      "    198  \u001b[36m5612.2340\u001b[0m  \u001b[32m33038347.9792\u001b[0m  \u001b[35m31497170.5417\u001b[0m  0.0315\n",
      "    199  \u001b[36m5610.9295\u001b[0m  \u001b[32m33012650.6771\u001b[0m  \u001b[35m31482529.5000\u001b[0m  0.0306\n",
      "    200  \u001b[36m5609.6524\u001b[0m  \u001b[32m32987230.7083\u001b[0m  \u001b[35m31468199.5000\u001b[0m  0.0371\n",
      "    201  \u001b[36m5608.4016\u001b[0m  \u001b[32m32962080.2500\u001b[0m  \u001b[35m31454168.3333\u001b[0m  0.0330\n",
      "    202  \u001b[36m5607.1745\u001b[0m  \u001b[32m32937193.6146\u001b[0m  \u001b[35m31440405.7083\u001b[0m  0.0393\n",
      "    203  \u001b[36m5605.9406\u001b[0m  \u001b[32m32912443.8021\u001b[0m  \u001b[35m31426572.2500\u001b[0m  0.0328\n",
      "    204  \u001b[36m5604.6889\u001b[0m  \u001b[32m32887807.3958\u001b[0m  \u001b[35m31412539.5417\u001b[0m  0.0327\n",
      "    205  \u001b[36m5603.4327\u001b[0m  \u001b[32m32863386.2917\u001b[0m  \u001b[35m31398458.6667\u001b[0m  0.0423\n",
      "    206  \u001b[36m5602.1890\u001b[0m  \u001b[32m32839157.7500\u001b[0m  \u001b[35m31384524.6667\u001b[0m  0.0330\n",
      "    207  \u001b[36m5600.9692\u001b[0m  \u001b[32m32815114.6250\u001b[0m  \u001b[35m31370855.3750\u001b[0m  0.0321\n",
      "    208  \u001b[36m5599.7752\u001b[0m  \u001b[32m32791268.6562\u001b[0m  \u001b[35m31357483.5833\u001b[0m  0.0371\n",
      "    209  \u001b[36m5598.6107\u001b[0m  \u001b[32m32767613.1250\u001b[0m  \u001b[35m31344439.5000\u001b[0m  0.0311\n",
      "    210  \u001b[36m5597.4764\u001b[0m  \u001b[32m32744133.3958\u001b[0m  \u001b[35m31331740.6667\u001b[0m  0.0318\n",
      "    211  \u001b[36m5596.3604\u001b[0m  \u001b[32m32720780.7083\u001b[0m  \u001b[35m31319248.7917\u001b[0m  0.0310\n",
      "    212  \u001b[36m5595.2344\u001b[0m  \u001b[32m32697426.1250\u001b[0m  \u001b[35m31306647.8333\u001b[0m  0.0313\n",
      "    213  \u001b[36m5594.1042\u001b[0m  \u001b[32m32674170.5521\u001b[0m  \u001b[35m31294002.9167\u001b[0m  0.0412\n",
      "    214  \u001b[36m5592.9854\u001b[0m  \u001b[32m32651041.8125\u001b[0m  \u001b[35m31281486.7500\u001b[0m  0.0318\n",
      "    215  \u001b[36m5591.8872\u001b[0m  \u001b[32m32628022.8229\u001b[0m  \u001b[35m31269202.6667\u001b[0m  0.0322\n",
      "    216  \u001b[36m5590.8159\u001b[0m  \u001b[32m32605097.8438\u001b[0m  \u001b[35m31257220.1667\u001b[0m  0.0345\n",
      "    217  \u001b[36m5589.7608\u001b[0m  \u001b[32m32582204.7396\u001b[0m  \u001b[35m31245425.4583\u001b[0m  0.0319\n",
      "    218  \u001b[36m5588.6959\u001b[0m  \u001b[32m32559219.3750\u001b[0m  \u001b[35m31233524.2500\u001b[0m  0.0321\n",
      "    219  \u001b[36m5587.6235\u001b[0m  \u001b[32m32536207.7188\u001b[0m  \u001b[35m31221540.6667\u001b[0m  0.0420\n",
      "    220  \u001b[36m5586.5616\u001b[0m  \u001b[32m32513202.3125\u001b[0m  \u001b[35m31209672.2917\u001b[0m  0.0335\n",
      "    221  \u001b[36m5585.5177\u001b[0m  \u001b[32m32490198.4062\u001b[0m  \u001b[35m31198008.3333\u001b[0m  0.0357\n",
      "    222  \u001b[36m5584.5007\u001b[0m  \u001b[32m32467210.7292\u001b[0m  \u001b[35m31186647.9583\u001b[0m  0.0405\n",
      "    223  \u001b[36m5583.5138\u001b[0m  \u001b[32m32444253.1354\u001b[0m  \u001b[35m31175626.9167\u001b[0m  0.0350\n",
      "    224  \u001b[36m5582.5586\u001b[0m  \u001b[32m32421322.3021\u001b[0m  \u001b[35m31164959.8333\u001b[0m  0.0405\n",
      "    225  \u001b[36m5581.6164\u001b[0m  \u001b[32m32398361.7604\u001b[0m  \u001b[35m31154444.4583\u001b[0m  0.0313\n",
      "    226  \u001b[36m5580.6666\u001b[0m  \u001b[32m32375300.5938\u001b[0m  \u001b[35m31143839.5000\u001b[0m  0.0311\n",
      "    227  \u001b[36m5579.6975\u001b[0m  \u001b[32m32352148.4896\u001b[0m  \u001b[35m31133024.8750\u001b[0m  0.0368\n",
      "    228  \u001b[36m5578.7059\u001b[0m  \u001b[32m32328857.6250\u001b[0m  \u001b[35m31121958.9167\u001b[0m  0.0313\n",
      "    229  \u001b[36m5577.7090\u001b[0m  \u001b[32m32305517.3229\u001b[0m  \u001b[35m31110835.7083\u001b[0m  0.0310\n",
      "    230  \u001b[36m5576.6865\u001b[0m  \u001b[32m32281972.1042\u001b[0m  \u001b[35m31099432.5000\u001b[0m  0.0344\n",
      "    231  \u001b[36m5575.6456\u001b[0m  \u001b[32m32258055.7708\u001b[0m  \u001b[35m31087822.5417\u001b[0m  0.0320\n",
      "    232  \u001b[36m5574.6212\u001b[0m  \u001b[32m32233870.5312\u001b[0m  \u001b[35m31076403.6667\u001b[0m  0.0375\n",
      "    233  \u001b[36m5573.6399\u001b[0m  \u001b[32m32209463.5312\u001b[0m  \u001b[35m31065462.5000\u001b[0m  0.0357\n",
      "    234  \u001b[36m5572.7098\u001b[0m  \u001b[32m32184866.4583\u001b[0m  \u001b[35m31055091.8333\u001b[0m  0.0366\n",
      "    235  \u001b[36m5571.8297\u001b[0m  \u001b[32m32160124.7500\u001b[0m  \u001b[35m31045283.9583\u001b[0m  0.0407\n",
      "    236  \u001b[36m5570.9951\u001b[0m  \u001b[32m32135269.9896\u001b[0m  \u001b[35m31035985.8750\u001b[0m  0.0314\n",
      "    237  \u001b[36m5570.1986\u001b[0m  \u001b[32m32110351.6667\u001b[0m  \u001b[35m31027112.0833\u001b[0m  0.0319\n",
      "    238  \u001b[36m5569.4244\u001b[0m  \u001b[32m32085404.8333\u001b[0m  \u001b[35m31018486.9167\u001b[0m  0.0314\n",
      "    239  \u001b[36m5568.5926\u001b[0m  \u001b[32m32059829.3750\u001b[0m  \u001b[35m31009223.9167\u001b[0m  0.0324\n",
      "    240  \u001b[36m5567.7119\u001b[0m  \u001b[32m32033541.3542\u001b[0m  \u001b[35m30999414.0000\u001b[0m  0.0409\n",
      "    241  \u001b[36m5566.8433\u001b[0m  \u001b[32m32006804.6250\u001b[0m  \u001b[35m30989744.2500\u001b[0m  0.0329\n",
      "    242  \u001b[36m5565.9881\u001b[0m  \u001b[32m31979552.6354\u001b[0m  \u001b[35m30980223.4167\u001b[0m  0.0326\n",
      "    243  \u001b[36m5565.1221\u001b[0m  \u001b[32m31951545.1458\u001b[0m  \u001b[35m30970582.6250\u001b[0m  0.0403\n",
      "    244  \u001b[36m5564.2615\u001b[0m  \u001b[32m31922955.6146\u001b[0m  \u001b[35m30961003.7917\u001b[0m  0.0344\n",
      "    245  \u001b[36m5563.4372\u001b[0m  \u001b[32m31893956.5521\u001b[0m  \u001b[35m30951835.0833\u001b[0m  0.0398\n",
      "    246  \u001b[36m5562.6612\u001b[0m  \u001b[32m31864640.7396\u001b[0m  \u001b[35m30943199.5000\u001b[0m  0.0333\n",
      "    247  \u001b[36m5561.9268\u001b[0m  \u001b[32m31835022.7917\u001b[0m  \u001b[35m30935029.8333\u001b[0m  0.0333\n",
      "    248  \u001b[36m5561.2162\u001b[0m  \u001b[32m31805204.3125\u001b[0m  \u001b[35m30927125.5833\u001b[0m  0.0418\n",
      "    249  \u001b[36m5560.5160\u001b[0m  \u001b[32m31775200.4583\u001b[0m  \u001b[35m30919341.2500\u001b[0m  0.0325\n",
      "    250  \u001b[36m5559.8077\u001b[0m  \u001b[32m31744981.0000\u001b[0m  \u001b[35m30911464.8333\u001b[0m  0.0326\n",
      "    251  \u001b[36m5559.0740\u001b[0m  \u001b[32m31714104.4167\u001b[0m  \u001b[35m30903302.9167\u001b[0m  0.0415\n",
      "    252  \u001b[36m5558.3681\u001b[0m  \u001b[32m31682765.3125\u001b[0m  \u001b[35m30895457.2500\u001b[0m  0.0328\n",
      "    253  \u001b[36m5557.7837\u001b[0m  \u001b[32m31651351.5312\u001b[0m  \u001b[35m30888960.3333\u001b[0m  0.0373\n",
      "    254  \u001b[36m5557.2921\u001b[0m  \u001b[32m31620131.3646\u001b[0m  \u001b[35m30883495.6667\u001b[0m  0.0323\n",
      "    255  \u001b[36m5556.8394\u001b[0m  \u001b[32m31588906.8750\u001b[0m  \u001b[35m30878464.0833\u001b[0m  0.0323\n",
      "    256  \u001b[36m5556.4233\u001b[0m  \u001b[32m31557762.2396\u001b[0m  \u001b[35m30873838.7083\u001b[0m  0.0413\n",
      "    257  \u001b[36m5556.0873\u001b[0m  \u001b[32m31526992.8333\u001b[0m  \u001b[35m30870106.0000\u001b[0m  0.0330\n",
      "    258  \u001b[36m5555.7853\u001b[0m  \u001b[32m31496324.1250\u001b[0m  \u001b[35m30866750.0833\u001b[0m  0.0333\n",
      "    259  \u001b[36m5555.4960\u001b[0m  \u001b[32m31465748.6667\u001b[0m  \u001b[35m30863535.2083\u001b[0m  0.0381\n",
      "    260  \u001b[36m5555.2179\u001b[0m  \u001b[32m31435271.8542\u001b[0m  \u001b[35m30860444.5833\u001b[0m  0.0327\n",
      "    261  \u001b[36m5554.9418\u001b[0m  \u001b[32m31404894.8854\u001b[0m  \u001b[35m30857378.0000\u001b[0m  0.0327\n",
      "    262  \u001b[36m5554.6652\u001b[0m  \u001b[32m31374559.3333\u001b[0m  \u001b[35m30854307.4583\u001b[0m  0.0321\n",
      "    263  \u001b[36m5554.3957\u001b[0m  \u001b[32m31344210.6458\u001b[0m  \u001b[35m30851314.5833\u001b[0m  0.0320\n",
      "    264  \u001b[36m5554.1552\u001b[0m  \u001b[32m31314057.6667\u001b[0m  \u001b[35m30848639.9167\u001b[0m  0.0416\n",
      "    265  \u001b[36m5553.9793\u001b[0m  \u001b[32m31284507.5000\u001b[0m  \u001b[35m30846684.9167\u001b[0m  0.0325\n",
      "    266  \u001b[36m5553.8633\u001b[0m  \u001b[32m31255289.4375\u001b[0m  \u001b[35m30845396.5000\u001b[0m  0.0321\n",
      "    267  \u001b[36m5553.7589\u001b[0m  \u001b[32m31226306.5208\u001b[0m  \u001b[35m30844236.7083\u001b[0m  0.0364\n",
      "    268  \u001b[36m5553.6563\u001b[0m  \u001b[32m31197861.3646\u001b[0m  \u001b[35m30843097.0833\u001b[0m  0.0322\n",
      "    269  \u001b[36m5553.5724\u001b[0m  \u001b[32m31169839.8750\u001b[0m  \u001b[35m30842165.9583\u001b[0m  0.0316\n",
      "Stopping since RMSE has not improved in the last 5 epochs.\n",
      "[CV 2/3] END lr=0.001, module__activation=ELU(alpha=1.0), module__dropout=0, module__n_hidden_neurons_1=25, module__n_hidden_neurons_2=18, module__n_hidden_neurons_3=9, module__n_hidden_neurons_4=5; total time=  10.0s\n",
      "  epoch        RMSE      train_loss      valid_loss     dur\n",
      "-------  ----------  --------------  --------------  ------\n",
      "      1  \u001b[36m14942.0197\u001b[0m  \u001b[32m199115260.4167\u001b[0m  \u001b[35m223263956.6667\u001b[0m  0.0351\n",
      "      2  \u001b[36m14941.3633\u001b[0m  \u001b[32m199102106.0417\u001b[0m  \u001b[35m223244332.3333\u001b[0m  0.0386\n",
      "      3  \u001b[36m14939.9995\u001b[0m  \u001b[32m199075670.3750\u001b[0m  \u001b[35m223203579.0000\u001b[0m  0.0332\n",
      "      4  \u001b[36m14937.1446\u001b[0m  \u001b[32m199020353.6667\u001b[0m  \u001b[35m223118279.0000\u001b[0m  0.0330\n",
      "      5  \u001b[36m14930.9949\u001b[0m  \u001b[32m198902062.9583\u001b[0m  \u001b[35m222934609.3333\u001b[0m  0.0326\n",
      "      6  \u001b[36m14917.9645\u001b[0m  \u001b[32m198647152.5417\u001b[0m  \u001b[35m222545655.6667\u001b[0m  0.0337\n",
      "      7  \u001b[36m14892.1547\u001b[0m  \u001b[32m198124594.0833\u001b[0m  \u001b[35m221776286.6667\u001b[0m  0.0358\n",
      "      8  \u001b[36m14844.8687\u001b[0m  \u001b[32m197133165.5000\u001b[0m  \u001b[35m220370128.6667\u001b[0m  0.0316\n",
      "      9  \u001b[36m14764.3977\u001b[0m  \u001b[32m195394749.9167\u001b[0m  \u001b[35m217987422.0000\u001b[0m  0.0344\n",
      "     10  \u001b[36m14636.4958\u001b[0m  \u001b[32m192565550.8333\u001b[0m  \u001b[35m214227004.3333\u001b[0m  0.0371\n",
      "     11  \u001b[36m14446.1588\u001b[0m  \u001b[32m188280381.4375\u001b[0m  \u001b[35m208691481.6667\u001b[0m  0.0312\n",
      "     12  \u001b[36m14181.3128\u001b[0m  \u001b[32m182250791.1250\u001b[0m  \u001b[35m201109635.0000\u001b[0m  0.0304\n",
      "     13  \u001b[36m13838.8040\u001b[0m  \u001b[32m174416979.9062\u001b[0m  \u001b[35m191512478.8333\u001b[0m  0.0346\n",
      "     14  \u001b[36m13431.8815\u001b[0m  \u001b[32m165127812.0339\u001b[0m  \u001b[35m180415439.4167\u001b[0m  0.0306\n",
      "     15  \u001b[36m12994.7078\u001b[0m  \u001b[32m155239704.4974\u001b[0m  \u001b[35m168862428.2500\u001b[0m  0.0299\n",
      "     16  \u001b[36m12574.9440\u001b[0m  \u001b[32m145941211.2682\u001b[0m  \u001b[35m158129213.0417\u001b[0m  0.0363\n",
      "     17  \u001b[36m12210.2023\u001b[0m  \u001b[32m138197008.3958\u001b[0m  \u001b[35m149089029.7500\u001b[0m  0.0349\n",
      "     18  \u001b[36m11908.2788\u001b[0m  \u001b[32m132194922.1667\u001b[0m  \u001b[35m141807100.7500\u001b[0m  0.0409\n",
      "     19  \u001b[36m11655.9060\u001b[0m  \u001b[32m127489467.2500\u001b[0m  \u001b[35m135860151.1667\u001b[0m  0.0342\n",
      "     20  \u001b[36m11437.5378\u001b[0m  \u001b[32m123579834.5000\u001b[0m  \u001b[35m130817272.6667\u001b[0m  0.0362\n",
      "     21  \u001b[36m11242.0941\u001b[0m  \u001b[32m120152808.0000\u001b[0m  \u001b[35m126384695.6667\u001b[0m  0.0393\n",
      "     22  \u001b[36m11062.4102\u001b[0m  \u001b[32m117037927.0833\u001b[0m  \u001b[35m122376912.1667\u001b[0m  0.0350\n",
      "     23  \u001b[36m10893.5875\u001b[0m  \u001b[32m114135625.7500\u001b[0m  \u001b[35m118670254.5000\u001b[0m  0.0337\n",
      "     24  \u001b[36m10731.7618\u001b[0m  \u001b[32m111374294.2500\u001b[0m  \u001b[35m115170705.0000\u001b[0m  0.0347\n",
      "     25  \u001b[36m10574.6232\u001b[0m  \u001b[32m108707413.7083\u001b[0m  \u001b[35m111822664.3333\u001b[0m  0.0364\n",
      "     26  \u001b[36m10421.3243\u001b[0m  \u001b[32m106128746.6667\u001b[0m  \u001b[35m108604005.7500\u001b[0m  0.0383\n",
      "     27  \u001b[36m10272.5393\u001b[0m  \u001b[32m103648967.7500\u001b[0m  \u001b[35m105525067.9167\u001b[0m  0.0324\n",
      "     28  \u001b[36m10129.4237\u001b[0m  \u001b[32m101287603.3750\u001b[0m  \u001b[35m102605225.4167\u001b[0m  0.0322\n",
      "     29  \u001b[36m9992.0973\u001b[0m  \u001b[32m99057158.6667\u001b[0m  \u001b[35m99842007.1667\u001b[0m  0.0363\n",
      "     30  \u001b[36m9860.5505\u001b[0m  \u001b[32m96956869.1875\u001b[0m  \u001b[35m97230450.2500\u001b[0m  0.0313\n",
      "     31  \u001b[36m9734.8097\u001b[0m  \u001b[32m94982964.7292\u001b[0m  \u001b[35m94766515.1667\u001b[0m  0.0310\n",
      "     32  \u001b[36m9615.5811\u001b[0m  \u001b[32m93141351.1875\u001b[0m  \u001b[35m92459412.5833\u001b[0m  0.0377\n",
      "     33  \u001b[36m9502.1678\u001b[0m  \u001b[32m91422384.4583\u001b[0m  \u001b[35m90291185.6250\u001b[0m  0.0333\n",
      "     34  \u001b[36m9392.8121\u001b[0m  \u001b[32m89791749.4792\u001b[0m  \u001b[35m88224917.7083\u001b[0m  0.0323\n",
      "     35  \u001b[36m9284.5678\u001b[0m  \u001b[32m88197788.6875\u001b[0m  \u001b[35m86203207.1250\u001b[0m  0.0306\n",
      "     36  \u001b[36m9174.1877\u001b[0m  \u001b[32m86588176.5208\u001b[0m  \u001b[35m84165710.0625\u001b[0m  0.0327\n",
      "     37  \u001b[36m9065.7125\u001b[0m  \u001b[32m84969093.5625\u001b[0m  \u001b[35m82187142.6042\u001b[0m  0.0414\n",
      "     38  \u001b[36m8961.2111\u001b[0m  \u001b[32m83424754.4375\u001b[0m  \u001b[35m80303306.2083\u001b[0m  0.0318\n",
      "     39  \u001b[36m8860.4609\u001b[0m  \u001b[32m81947070.1667\u001b[0m  \u001b[35m78507765.2500\u001b[0m  0.0333\n",
      "     40  \u001b[36m8763.3108\u001b[0m  \u001b[32m80521478.8125\u001b[0m  \u001b[35m76795613.0833\u001b[0m  0.0379\n",
      "     41  \u001b[36m8669.8941\u001b[0m  \u001b[32m79139819.5625\u001b[0m  \u001b[35m75167064.5833\u001b[0m  0.0328\n",
      "     42  \u001b[36m8580.2270\u001b[0m  \u001b[32m77805284.5208\u001b[0m  \u001b[35m73620295.1250\u001b[0m  0.0320\n",
      "     43  \u001b[36m8493.2411\u001b[0m  \u001b[32m76513701.2083\u001b[0m  \u001b[35m72135141.7083\u001b[0m  0.0377\n",
      "     44  \u001b[36m8407.9767\u001b[0m  \u001b[32m75258840.7292\u001b[0m  \u001b[35m70694074.4792\u001b[0m  0.0316\n",
      "     45  \u001b[36m8324.2201\u001b[0m  \u001b[32m74039163.8542\u001b[0m  \u001b[35m69292634.0000\u001b[0m  0.0415\n",
      "     46  \u001b[36m8241.8532\u001b[0m  \u001b[32m72856282.3958\u001b[0m  \u001b[35m67928140.3542\u001b[0m  0.0322\n",
      "     47  \u001b[36m8160.6598\u001b[0m  \u001b[32m71707362.8125\u001b[0m  \u001b[35m66596368.1250\u001b[0m  0.0315\n",
      "     48  \u001b[36m8080.2819\u001b[0m  \u001b[32m70587648.7708\u001b[0m  \u001b[35m65290955.3333\u001b[0m  0.0410\n",
      "     49  \u001b[36m7999.9612\u001b[0m  \u001b[32m69489707.4688\u001b[0m  \u001b[35m63999380.7500\u001b[0m  0.0314\n",
      "     50  \u001b[36m7917.7221\u001b[0m  \u001b[32m68395615.8854\u001b[0m  \u001b[35m62690325.8333\u001b[0m  0.0316\n",
      "     51  \u001b[36m7833.1692\u001b[0m  \u001b[32m67272925.0938\u001b[0m  \u001b[35m61358537.2292\u001b[0m  0.0411\n",
      "     52  \u001b[36m7749.4844\u001b[0m  \u001b[32m66138600.4167\u001b[0m  \u001b[35m60054503.1250\u001b[0m  0.0311\n",
      "     53  \u001b[36m7667.9168\u001b[0m  \u001b[32m65017215.0000\u001b[0m  \u001b[35m58796950.7917\u001b[0m  0.0388\n",
      "     54  \u001b[36m7590.2535\u001b[0m  \u001b[32m63932367.3542\u001b[0m  \u001b[35m57611950.6458\u001b[0m  0.0323\n",
      "     55  \u001b[36m7515.4561\u001b[0m  \u001b[32m62911219.4792\u001b[0m  \u001b[35m56482080.2917\u001b[0m  0.0311\n",
      "     56  \u001b[36m7443.2044\u001b[0m  \u001b[32m61950089.1250\u001b[0m  \u001b[35m55401292.6667\u001b[0m  0.0410\n",
      "     57  \u001b[36m7373.2880\u001b[0m  \u001b[32m61039713.6458\u001b[0m  \u001b[35m54365370.7917\u001b[0m  0.0315\n",
      "     58  \u001b[36m7305.4259\u001b[0m  \u001b[32m60171590.6562\u001b[0m  \u001b[35m53369247.4583\u001b[0m  0.0334\n",
      "     59  \u001b[36m7239.4527\u001b[0m  \u001b[32m59335964.8958\u001b[0m  \u001b[35m52409677.0833\u001b[0m  0.0385\n",
      "     60  \u001b[36m7175.2829\u001b[0m  \u001b[32m58527011.6250\u001b[0m  \u001b[35m51484684.9583\u001b[0m  0.0322\n",
      "     61  \u001b[36m7112.8416\u001b[0m  \u001b[32m57742530.9688\u001b[0m  \u001b[35m50592522.2500\u001b[0m  0.0417\n",
      "     62  \u001b[36m7052.0434\u001b[0m  \u001b[32m56979548.4167\u001b[0m  \u001b[35m49731317.0833\u001b[0m  0.0312\n",
      "     63  \u001b[36m6992.8100\u001b[0m  \u001b[32m56235599.5312\u001b[0m  \u001b[35m48899388.7083\u001b[0m  0.0316\n",
      "     64  \u001b[36m6935.0804\u001b[0m  \u001b[32m55509157.6458\u001b[0m  \u001b[35m48095336.5833\u001b[0m  0.0377\n",
      "     65  \u001b[36m6878.8066\u001b[0m  \u001b[32m54799324.5833\u001b[0m  \u001b[35m47317979.9167\u001b[0m  0.0315\n",
      "     66  \u001b[36m6823.9546\u001b[0m  \u001b[32m54105392.0521\u001b[0m  \u001b[35m46566354.2500\u001b[0m  0.0334\n",
      "     67  \u001b[36m6770.4975\u001b[0m  \u001b[32m53426822.0833\u001b[0m  \u001b[35m45839637.2083\u001b[0m  0.0407\n",
      "     68  \u001b[36m6718.4138\u001b[0m  \u001b[32m52763152.8542\u001b[0m  \u001b[35m45137083.0000\u001b[0m  0.0314\n",
      "     69  \u001b[36m6667.6872\u001b[0m  \u001b[32m52113961.2188\u001b[0m  \u001b[35m44458052.5417\u001b[0m  0.0314\n",
      "     70  \u001b[36m6618.4249\u001b[0m  \u001b[32m51480080.3854\u001b[0m  \u001b[35m43803547.0000\u001b[0m  0.0380\n",
      "     71  \u001b[36m6571.0203\u001b[0m  \u001b[32m50864257.4375\u001b[0m  \u001b[35m43178313.0833\u001b[0m  0.0347\n",
      "     72  \u001b[36m6525.4211\u001b[0m  \u001b[32m50267810.2188\u001b[0m  \u001b[35m42581123.2083\u001b[0m  0.0371\n",
      "     73  \u001b[36m6481.5220\u001b[0m  \u001b[32m49691316.2188\u001b[0m  \u001b[35m42010125.8750\u001b[0m  0.0325\n",
      "     74  \u001b[36m6439.2214\u001b[0m  \u001b[32m49133619.8958\u001b[0m  \u001b[35m41463573.7083\u001b[0m  0.0337\n",
      "     75  \u001b[36m6398.4382\u001b[0m  \u001b[32m48592904.3958\u001b[0m  \u001b[35m40940005.8333\u001b[0m  0.0429\n",
      "     76  \u001b[36m6359.1116\u001b[0m  \u001b[32m48068657.7396\u001b[0m  \u001b[35m40438300.4167\u001b[0m  0.0315\n",
      "     77  \u001b[36m6321.2239\u001b[0m  \u001b[32m47561564.0833\u001b[0m  \u001b[35m39957871.3333\u001b[0m  0.0307\n",
      "     78  \u001b[36m6284.7880\u001b[0m  \u001b[32m47071554.5000\u001b[0m  \u001b[35m39498564.4583\u001b[0m  0.0404\n",
      "     79  \u001b[36m6249.7443\u001b[0m  \u001b[32m46597525.1354\u001b[0m  \u001b[35m39059303.6667\u001b[0m  0.0307\n",
      "     80  \u001b[36m6216.0396\u001b[0m  \u001b[32m46138278.8958\u001b[0m  \u001b[35m38639150.2917\u001b[0m  0.0308\n",
      "     81  \u001b[36m6183.6332\u001b[0m  \u001b[32m45692956.6042\u001b[0m  \u001b[35m38237319.7917\u001b[0m  0.0329\n",
      "     82  \u001b[36m6152.4958\u001b[0m  \u001b[32m45260958.9896\u001b[0m  \u001b[35m37853204.3750\u001b[0m  0.0378\n",
      "     83  \u001b[36m6122.6141\u001b[0m  \u001b[32m44842522.1042\u001b[0m  \u001b[35m37486405.4583\u001b[0m  0.0367\n",
      "     84  \u001b[36m6093.9905\u001b[0m  \u001b[32m44439028.4479\u001b[0m  \u001b[35m37136719.3333\u001b[0m  0.0307\n",
      "     85  \u001b[36m6066.6379\u001b[0m  \u001b[32m44050894.2188\u001b[0m  \u001b[35m36804094.0000\u001b[0m  0.0293\n",
      "     86  \u001b[36m6040.6063\u001b[0m  \u001b[32m43677505.1406\u001b[0m  \u001b[35m36488922.9583\u001b[0m  0.0358\n",
      "     87  \u001b[36m6015.8258\u001b[0m  \u001b[32m43318098.0833\u001b[0m  \u001b[35m36190158.2917\u001b[0m  0.0302\n",
      "     88  \u001b[36m5992.2310\u001b[0m  \u001b[32m42971676.3333\u001b[0m  \u001b[35m35906832.5833\u001b[0m  0.0308\n",
      "     89  \u001b[36m5969.7641\u001b[0m  \u001b[32m42637462.2760\u001b[0m  \u001b[35m35638082.3333\u001b[0m  0.0349\n",
      "     90  \u001b[36m5948.3699\u001b[0m  \u001b[32m42314777.9427\u001b[0m  \u001b[35m35383103.9583\u001b[0m  0.0295\n",
      "     91  \u001b[36m5928.0024\u001b[0m  \u001b[32m42002994.5781\u001b[0m  \u001b[35m35141214.7500\u001b[0m  0.0301\n",
      "     92  \u001b[36m5908.6320\u001b[0m  \u001b[32m41702385.8958\u001b[0m  \u001b[35m34911934.4583\u001b[0m  0.0351\n",
      "     93  \u001b[36m5890.3008\u001b[0m  \u001b[32m41413506.5260\u001b[0m  \u001b[35m34695644.2083\u001b[0m  0.0315\n",
      "     94  \u001b[36m5873.1188\u001b[0m  \u001b[32m41137179.2396\u001b[0m  \u001b[35m34493524.8333\u001b[0m  0.0307\n",
      "     95  \u001b[36m5857.0832\u001b[0m  \u001b[32m40873107.6562\u001b[0m  \u001b[35m34305423.2083\u001b[0m  0.0358\n",
      "     96  \u001b[36m5842.0832\u001b[0m  \u001b[32m40620692.8281\u001b[0m  \u001b[35m34129938.0833\u001b[0m  0.0306\n",
      "     97  \u001b[36m5828.0199\u001b[0m  \u001b[32m40379281.0052\u001b[0m  \u001b[35m33965815.2917\u001b[0m  0.0314\n",
      "     98  \u001b[36m5814.8087\u001b[0m  \u001b[32m40148434.8490\u001b[0m  \u001b[35m33811998.6250\u001b[0m  0.0421\n",
      "     99  \u001b[36m5802.3740\u001b[0m  \u001b[32m39927834.9740\u001b[0m  \u001b[35m33667544.9167\u001b[0m  0.0322\n",
      "    100  \u001b[36m5790.6482\u001b[0m  \u001b[32m39716625.8333\u001b[0m  \u001b[35m33531606.8750\u001b[0m  0.0333\n",
      "    101  \u001b[36m5779.5742\u001b[0m  \u001b[32m39514310.7161\u001b[0m  \u001b[35m33403476.2500\u001b[0m  0.0334\n",
      "    102  \u001b[36m5769.0984\u001b[0m  \u001b[32m39320171.1250\u001b[0m  \u001b[35m33282495.7500\u001b[0m  0.0310\n",
      "    103  \u001b[36m5759.1770\u001b[0m  \u001b[32m39133565.9557\u001b[0m  \u001b[35m33168120.5417\u001b[0m  0.0397\n",
      "    104  \u001b[36m5749.7673\u001b[0m  \u001b[32m38953983.7474\u001b[0m  \u001b[35m33059824.6250\u001b[0m  0.0331\n",
      "    105  \u001b[36m5740.8529\u001b[0m  \u001b[32m38780870.0208\u001b[0m  \u001b[35m32957391.5625\u001b[0m  0.0314\n",
      "    106  \u001b[36m5732.4140\u001b[0m  \u001b[32m38613857.3490\u001b[0m  \u001b[35m32860570.3750\u001b[0m  0.0371\n",
      "    107  \u001b[36m5724.4114\u001b[0m  \u001b[32m38452493.4557\u001b[0m  \u001b[35m32768883.5000\u001b[0m  0.0318\n",
      "    108  \u001b[36m5716.8131\u001b[0m  \u001b[32m38296438.7344\u001b[0m  \u001b[35m32681953.0417\u001b[0m  0.0296\n",
      "    109  \u001b[36m5709.5891\u001b[0m  \u001b[32m38145344.0651\u001b[0m  \u001b[35m32599409.8750\u001b[0m  0.0372\n",
      "    110  \u001b[36m5702.7137\u001b[0m  \u001b[32m37998912.9427\u001b[0m  \u001b[35m32520944.5625\u001b[0m  0.0333\n",
      "    111  \u001b[36m5696.1620\u001b[0m  \u001b[32m37856885.0417\u001b[0m  \u001b[35m32446263.4583\u001b[0m  0.0388\n",
      "    112  \u001b[36m5689.9141\u001b[0m  \u001b[32m37719027.2474\u001b[0m  \u001b[35m32375123.3333\u001b[0m  0.0324\n",
      "    113  \u001b[36m5683.9485\u001b[0m  \u001b[32m37585108.3333\u001b[0m  \u001b[35m32307268.1667\u001b[0m  0.0311\n",
      "    114  \u001b[36m5678.2490\u001b[0m  \u001b[32m37454960.2005\u001b[0m  \u001b[35m32242511.1042\u001b[0m  0.0364\n",
      "    115  \u001b[36m5672.8002\u001b[0m  \u001b[32m37328465.5729\u001b[0m  \u001b[35m32180661.1458\u001b[0m  0.0322\n",
      "    116  \u001b[36m5667.5905\u001b[0m  \u001b[32m37205550.4583\u001b[0m  \u001b[35m32121580.9792\u001b[0m  0.0313\n",
      "    117  \u001b[36m5662.6164\u001b[0m  \u001b[32m37086507.4401\u001b[0m  \u001b[35m32065224.6458\u001b[0m  0.0391\n",
      "    118  \u001b[36m5657.8860\u001b[0m  \u001b[32m36972298.2786\u001b[0m  \u001b[35m32011676.1250\u001b[0m  0.0326\n",
      "    119  \u001b[36m5653.3988\u001b[0m  \u001b[32m36863540.7214\u001b[0m  \u001b[35m31960915.9792\u001b[0m  0.0324\n",
      "    120  \u001b[36m5649.1642\u001b[0m  \u001b[32m36760045.2318\u001b[0m  \u001b[35m31913054.8542\u001b[0m  0.0377\n",
      "    121  \u001b[36m5645.1912\u001b[0m  \u001b[32m36661871.8529\u001b[0m  \u001b[35m31868184.0417\u001b[0m  0.0311\n",
      "    122  \u001b[36m5641.5181\u001b[0m  \u001b[32m36569276.2279\u001b[0m  \u001b[35m31826725.6458\u001b[0m  0.0329\n",
      "    123  \u001b[36m5638.1231\u001b[0m  \u001b[32m36481813.8880\u001b[0m  \u001b[35m31788432.2917\u001b[0m  0.0314\n",
      "    124  \u001b[36m5634.9722\u001b[0m  \u001b[32m36398989.0365\u001b[0m  \u001b[35m31752911.7917\u001b[0m  0.0315\n",
      "    125  \u001b[36m5632.0364\u001b[0m  \u001b[32m36320532.1081\u001b[0m  \u001b[35m31719835.2083\u001b[0m  0.0412\n",
      "    126  \u001b[36m5629.2907\u001b[0m  \u001b[32m36246161.0651\u001b[0m  \u001b[35m31688916.2708\u001b[0m  0.0357\n",
      "    127  \u001b[36m5626.7348\u001b[0m  \u001b[32m36175554.3359\u001b[0m  \u001b[35m31660140.1667\u001b[0m  0.0327\n",
      "    128  \u001b[36m5624.3515\u001b[0m  \u001b[32m36108361.8828\u001b[0m  \u001b[35m31633330.2292\u001b[0m  0.0382\n",
      "    129  \u001b[36m5622.1183\u001b[0m  \u001b[32m36044233.8424\u001b[0m  \u001b[35m31608214.3750\u001b[0m  0.0316\n",
      "    130  \u001b[36m5620.0162\u001b[0m  \u001b[32m35982826.9870\u001b[0m  \u001b[35m31584579.0833\u001b[0m  0.0326\n",
      "    131  \u001b[36m5618.0310\u001b[0m  \u001b[32m35923858.6497\u001b[0m  \u001b[35m31562270.0833\u001b[0m  0.0368\n",
      "    132  \u001b[36m5616.1558\u001b[0m  \u001b[32m35867091.0573\u001b[0m  \u001b[35m31541206.7917\u001b[0m  0.0324\n",
      "    133  \u001b[36m5614.3810\u001b[0m  \u001b[32m35812349.9089\u001b[0m  \u001b[35m31521272.0000\u001b[0m  0.0374\n",
      "    134  \u001b[36m5612.6956\u001b[0m  \u001b[32m35759460.9661\u001b[0m  \u001b[35m31502350.5833\u001b[0m  0.0320\n",
      "    135  \u001b[36m5611.0912\u001b[0m  \u001b[32m35708275.9089\u001b[0m  \u001b[35m31484343.6667\u001b[0m  0.0312\n",
      "    136  \u001b[36m5609.5583\u001b[0m  \u001b[32m35658709.3112\u001b[0m  \u001b[35m31467143.0000\u001b[0m  0.0397\n",
      "    137  \u001b[36m5608.0965\u001b[0m  \u001b[32m35610644.1979\u001b[0m  \u001b[35m31450742.9167\u001b[0m  0.0321\n",
      "    138  \u001b[36m5606.6969\u001b[0m  \u001b[32m35563981.0859\u001b[0m  \u001b[35m31435051.7083\u001b[0m  0.0330\n",
      "    139  \u001b[36m5605.3546\u001b[0m  \u001b[32m35518618.8346\u001b[0m  \u001b[35m31419999.5000\u001b[0m  0.0421\n",
      "    140  \u001b[36m5604.0648\u001b[0m  \u001b[32m35474480.4583\u001b[0m  \u001b[35m31405540.9583\u001b[0m  0.0327\n",
      "    141  \u001b[36m5602.8236\u001b[0m  \u001b[32m35431496.5000\u001b[0m  \u001b[35m31391631.4167\u001b[0m  0.0317\n",
      "    142  \u001b[36m5601.6267\u001b[0m  \u001b[32m35389591.3099\u001b[0m  \u001b[35m31378220.5833\u001b[0m  0.0332\n",
      "    143  \u001b[36m5600.4707\u001b[0m  \u001b[32m35348722.6380\u001b[0m  \u001b[35m31365271.5417\u001b[0m  0.0326\n",
      "    144  \u001b[36m5599.3535\u001b[0m  \u001b[32m35308829.3099\u001b[0m  \u001b[35m31352759.1250\u001b[0m  0.0421\n",
      "    145  \u001b[36m5598.2703\u001b[0m  \u001b[32m35269865.5651\u001b[0m  \u001b[35m31340628.7917\u001b[0m  0.0334\n",
      "    146  \u001b[36m5597.2216\u001b[0m  \u001b[32m35231794.6120\u001b[0m  \u001b[35m31328892.4583\u001b[0m  0.0377\n",
      "    147  \u001b[36m5596.2037\u001b[0m  \u001b[32m35194577.5130\u001b[0m  \u001b[35m31317497.0833\u001b[0m  0.0402\n",
      "    148  \u001b[36m5595.2153\u001b[0m  \u001b[32m35158176.0781\u001b[0m  \u001b[35m31306435.4167\u001b[0m  0.0376\n",
      "    149  \u001b[36m5594.2547\u001b[0m  \u001b[32m35122560.9362\u001b[0m  \u001b[35m31295688.0833\u001b[0m  0.0442\n",
      "    150  \u001b[36m5593.3198\u001b[0m  \u001b[32m35087689.7279\u001b[0m  \u001b[35m31285225.2500\u001b[0m  0.0452\n",
      "    151  \u001b[36m5592.4072\u001b[0m  \u001b[32m35053529.6510\u001b[0m  \u001b[35m31275020.7500\u001b[0m  0.0455\n",
      "    152  \u001b[36m5591.5148\u001b[0m  \u001b[32m35020054.8255\u001b[0m  \u001b[35m31265039.2500\u001b[0m  0.0415\n",
      "    153  \u001b[36m5590.6427\u001b[0m  \u001b[32m34987238.0078\u001b[0m  \u001b[35m31255283.3333\u001b[0m  0.0477\n",
      "    154  \u001b[36m5589.7880\u001b[0m  \u001b[32m34955083.0078\u001b[0m  \u001b[35m31245732.4167\u001b[0m  0.0398\n",
      "    155  \u001b[36m5588.9511\u001b[0m  \u001b[32m34923574.8841\u001b[0m  \u001b[35m31236374.5000\u001b[0m  0.0370\n",
      "    156  \u001b[36m5588.1301\u001b[0m  \u001b[32m34892689.8438\u001b[0m  \u001b[35m31227198.3333\u001b[0m  0.0410\n",
      "    157  \u001b[36m5587.3251\u001b[0m  \u001b[32m34862413.3047\u001b[0m  \u001b[35m31218202.4167\u001b[0m  0.0313\n",
      "    158  \u001b[36m5586.5352\u001b[0m  \u001b[32m34832722.4479\u001b[0m  \u001b[35m31209372.7500\u001b[0m  0.0307\n",
      "    159  \u001b[36m5585.7585\u001b[0m  \u001b[32m34803605.7969\u001b[0m  \u001b[35m31200698.8333\u001b[0m  0.0311\n",
      "    160  \u001b[36m5584.9958\u001b[0m  \u001b[32m34775039.9232\u001b[0m  \u001b[35m31192180.2500\u001b[0m  0.0315\n",
      "    161  \u001b[36m5584.2444\u001b[0m  \u001b[32m34747013.6458\u001b[0m  \u001b[35m31183786.1250\u001b[0m  0.0389\n",
      "    162  \u001b[36m5583.5057\u001b[0m  \u001b[32m34719509.6263\u001b[0m  \u001b[35m31175535.8333\u001b[0m  0.0311\n",
      "    163  \u001b[36m5582.7787\u001b[0m  \u001b[32m34692498.5273\u001b[0m  \u001b[35m31167420.2917\u001b[0m  0.0314\n",
      "    164  \u001b[36m5582.0613\u001b[0m  \u001b[32m34665976.4297\u001b[0m  \u001b[35m31159409.1667\u001b[0m  0.0374\n",
      "    165  \u001b[36m5581.3534\u001b[0m  \u001b[32m34639917.4271\u001b[0m  \u001b[35m31151506.7917\u001b[0m  0.0369\n",
      "    166  \u001b[36m5580.6557\u001b[0m  \u001b[32m34614314.7057\u001b[0m  \u001b[35m31143715.7083\u001b[0m  0.0311\n",
      "    167  \u001b[36m5579.9658\u001b[0m  \u001b[32m34589150.6510\u001b[0m  \u001b[35m31136017.5833\u001b[0m  0.0364\n",
      "    168  \u001b[36m5579.2840\u001b[0m  \u001b[32m34564415.6510\u001b[0m  \u001b[35m31128410.2500\u001b[0m  0.0326\n",
      "    169  \u001b[36m5578.6097\u001b[0m  \u001b[32m34540091.4583\u001b[0m  \u001b[35m31120886.3333\u001b[0m  0.0330\n",
      "    170  \u001b[36m5577.9425\u001b[0m  \u001b[32m34516167.9245\u001b[0m  \u001b[35m31113441.8333\u001b[0m  0.0315\n",
      "    171  \u001b[36m5577.2816\u001b[0m  \u001b[32m34492632.7904\u001b[0m  \u001b[35m31106070.6250\u001b[0m  0.0320\n",
      "    172  \u001b[36m5576.6268\u001b[0m  \u001b[32m34469464.9779\u001b[0m  \u001b[35m31098766.6250\u001b[0m  0.0376\n",
      "    173  \u001b[36m5575.9751\u001b[0m  \u001b[32m34446657.2812\u001b[0m  \u001b[35m31091499.8750\u001b[0m  0.0450\n",
      "    174  \u001b[36m5575.3276\u001b[0m  \u001b[32m34424189.8711\u001b[0m  \u001b[35m31084280.0833\u001b[0m  0.0323\n",
      "    175  \u001b[36m5574.6837\u001b[0m  \u001b[32m34402040.8255\u001b[0m  \u001b[35m31077097.5000\u001b[0m  0.0410\n",
      "    176  \u001b[36m5574.0407\u001b[0m  \u001b[32m34380195.7474\u001b[0m  \u001b[35m31069930.7917\u001b[0m  0.0320\n",
      "    177  \u001b[36m5573.3991\u001b[0m  \u001b[32m34358632.6602\u001b[0m  \u001b[35m31062779.4583\u001b[0m  0.0386\n",
      "    178  \u001b[36m5572.7564\u001b[0m  \u001b[32m34337337.3932\u001b[0m  \u001b[35m31055612.3333\u001b[0m  0.0408\n",
      "    179  \u001b[36m5572.1120\u001b[0m  \u001b[32m34316277.9375\u001b[0m  \u001b[35m31048434.3333\u001b[0m  0.0439\n",
      "    180  \u001b[36m5571.4650\u001b[0m  \u001b[32m34295424.7109\u001b[0m  \u001b[35m31041219.8333\u001b[0m  0.0318\n",
      "    181  \u001b[36m5570.8111\u001b[0m  \u001b[32m34274744.5495\u001b[0m  \u001b[35m31033935.5417\u001b[0m  0.0329\n",
      "    182  \u001b[36m5570.1490\u001b[0m  \u001b[32m34254194.6432\u001b[0m  \u001b[35m31026563.1250\u001b[0m  0.0334\n",
      "    183  \u001b[36m5569.4759\u001b[0m  \u001b[32m34233716.3021\u001b[0m  \u001b[35m31019059.2083\u001b[0m  0.0322\n",
      "    184  \u001b[36m5568.7860\u001b[0m  \u001b[32m34213244.8750\u001b[0m  \u001b[35m31011377.7083\u001b[0m  0.0328\n",
      "    185  \u001b[36m5568.0733\u001b[0m  \u001b[32m34192706.3060\u001b[0m  \u001b[35m31003438.5833\u001b[0m  0.0377\n",
      "    186  \u001b[36m5567.3299\u001b[0m  \u001b[32m34171998.8086\u001b[0m  \u001b[35m30995161.5833\u001b[0m  0.0326\n",
      "    187  \u001b[36m5566.5472\u001b[0m  \u001b[32m34150978.5495\u001b[0m  \u001b[35m30986446.4167\u001b[0m  0.0324\n",
      "    188  \u001b[36m5565.7115\u001b[0m  \u001b[32m34129479.5742\u001b[0m  \u001b[35m30977143.1667\u001b[0m  0.0419\n",
      "    189  \u001b[36m5564.8087\u001b[0m  \u001b[32m34107298.5443\u001b[0m  \u001b[35m30967095.8333\u001b[0m  0.0323\n",
      "    190  \u001b[36m5563.8303\u001b[0m  \u001b[32m34084243.3086\u001b[0m  \u001b[35m30956207.4167\u001b[0m  0.0322\n",
      "    191  \u001b[36m5562.7777\u001b[0m  \u001b[32m34060202.9401\u001b[0m  \u001b[35m30944497.0833\u001b[0m  0.0341\n",
      "    192  \u001b[36m5561.6852\u001b[0m  \u001b[32m34035270.7057\u001b[0m  \u001b[35m30932340.7917\u001b[0m  0.0400\n",
      "    193  \u001b[36m5560.6417\u001b[0m  \u001b[32m34009916.3620\u001b[0m  \u001b[35m30920735.8333\u001b[0m  0.0494\n",
      "    194  \u001b[36m5559.7290\u001b[0m  \u001b[32m33985084.4766\u001b[0m  \u001b[35m30910585.3333\u001b[0m  0.0356\n",
      "    195  \u001b[36m5558.9330\u001b[0m  \u001b[32m33960664.5573\u001b[0m  \u001b[35m30901737.6250\u001b[0m  0.0357\n",
      "    196  \u001b[36m5558.2560\u001b[0m  \u001b[32m33936306.3255\u001b[0m  \u001b[35m30894209.4167\u001b[0m  0.0319\n",
      "    197  \u001b[36m5557.7334\u001b[0m  \u001b[32m33912544.3841\u001b[0m  \u001b[35m30888398.1250\u001b[0m  0.0322\n",
      "    198  \u001b[36m5557.3481\u001b[0m  \u001b[32m33889758.9609\u001b[0m  \u001b[35m30884115.5833\u001b[0m  0.0383\n",
      "    199  \u001b[36m5557.0256\u001b[0m  \u001b[32m33867662.7161\u001b[0m  \u001b[35m30880533.8333\u001b[0m  0.0316\n",
      "    200  \u001b[36m5556.7071\u001b[0m  \u001b[32m33846036.7552\u001b[0m  \u001b[35m30876992.1667\u001b[0m  0.0329\n",
      "    201  \u001b[36m5556.3688\u001b[0m  \u001b[32m33824867.3880\u001b[0m  \u001b[35m30873234.0833\u001b[0m  0.0388\n",
      "    202  \u001b[36m5556.0029\u001b[0m  \u001b[32m33804165.2057\u001b[0m  \u001b[35m30869167.5000\u001b[0m  0.0315\n",
      "    203  \u001b[36m5555.6002\u001b[0m  \u001b[32m33783812.7630\u001b[0m  \u001b[35m30864694.1667\u001b[0m  0.0315\n",
      "    204  \u001b[36m5555.1648\u001b[0m  \u001b[32m33763786.2578\u001b[0m  \u001b[35m30859855.3333\u001b[0m  0.0374\n",
      "    205  \u001b[36m5554.7052\u001b[0m  \u001b[32m33744043.3203\u001b[0m  \u001b[35m30854749.4167\u001b[0m  0.0325\n",
      "    206  \u001b[36m5554.2229\u001b[0m  \u001b[32m33724554.2161\u001b[0m  \u001b[35m30849392.5000\u001b[0m  0.0423\n",
      "    207  \u001b[36m5553.7207\u001b[0m  \u001b[32m33705277.0000\u001b[0m  \u001b[35m30843814.3333\u001b[0m  0.0318\n",
      "    208  \u001b[36m5553.2007\u001b[0m  \u001b[32m33686207.8984\u001b[0m  \u001b[35m30838036.3333\u001b[0m  0.0316\n",
      "    209  \u001b[36m5552.6612\u001b[0m  \u001b[32m33667313.6875\u001b[0m  \u001b[35m30832043.9167\u001b[0m  0.0367\n",
      "    210  \u001b[36m5552.1050\u001b[0m  \u001b[32m33648593.3177\u001b[0m  \u001b[35m30825869.5000\u001b[0m  0.0314\n",
      "    211  \u001b[36m5551.5302\u001b[0m  \u001b[32m33630026.9505\u001b[0m  \u001b[35m30819488.8333\u001b[0m  0.0311\n",
      "    212  \u001b[36m5550.9385\u001b[0m  \u001b[32m33611603.9740\u001b[0m  \u001b[35m30812920.6667\u001b[0m  0.0401\n",
      "    213  \u001b[36m5550.3292\u001b[0m  \u001b[32m33593307.7526\u001b[0m  \u001b[35m30806155.2500\u001b[0m  0.0315\n",
      "    214  \u001b[36m5549.7022\u001b[0m  \u001b[32m33575137.8958\u001b[0m  \u001b[35m30799196.0833\u001b[0m  0.0311\n",
      "    215  \u001b[36m5549.0563\u001b[0m  \u001b[32m33557074.6719\u001b[0m  \u001b[35m30792030.0000\u001b[0m  0.0381\n",
      "    216  \u001b[36m5548.3920\u001b[0m  \u001b[32m33539115.0651\u001b[0m  \u001b[35m30784655.6667\u001b[0m  0.0324\n",
      "    217  \u001b[36m5547.7071\u001b[0m  \u001b[32m33521242.0625\u001b[0m  \u001b[35m30777056.4167\u001b[0m  0.0325\n",
      "    218  \u001b[36m5547.0021\u001b[0m  \u001b[32m33503450.6250\u001b[0m  \u001b[35m30769235.3333\u001b[0m  0.0319\n",
      "    219  \u001b[36m5546.2764\u001b[0m  \u001b[32m33485729.3594\u001b[0m  \u001b[35m30761181.0833\u001b[0m  0.0336\n",
      "    220  \u001b[36m5545.5281\u001b[0m  \u001b[32m33468064.7630\u001b[0m  \u001b[35m30752883.9167\u001b[0m  0.0452\n",
      "    221  \u001b[36m5544.7559\u001b[0m  \u001b[32m33450452.6250\u001b[0m  \u001b[35m30744317.0417\u001b[0m  0.0430\n",
      "    222  \u001b[36m5543.9601\u001b[0m  \u001b[32m33432879.7630\u001b[0m  \u001b[35m30735491.9583\u001b[0m  0.0376\n",
      "    223  \u001b[36m5543.1377\u001b[0m  \u001b[32m33415326.9948\u001b[0m  \u001b[35m30726376.0833\u001b[0m  0.0312\n",
      "    224  \u001b[36m5542.2900\u001b[0m  \u001b[32m33397799.2474\u001b[0m  \u001b[35m30716978.7500\u001b[0m  0.0334\n",
      "    225  \u001b[36m5541.4143\u001b[0m  \u001b[32m33380285.1120\u001b[0m  \u001b[35m30707269.4167\u001b[0m  0.0326\n",
      "    226  \u001b[36m5540.5088\u001b[0m  \u001b[32m33362759.9531\u001b[0m  \u001b[35m30697236.3333\u001b[0m  0.0315\n",
      "    227  \u001b[36m5539.5742\u001b[0m  \u001b[32m33345229.2656\u001b[0m  \u001b[35m30686884.4583\u001b[0m  0.0312\n",
      "    228  \u001b[36m5538.6085\u001b[0m  \u001b[32m33327672.2448\u001b[0m  \u001b[35m30676184.3750\u001b[0m  0.0407\n",
      "    229  \u001b[36m5537.6119\u001b[0m  \u001b[32m33310092.4401\u001b[0m  \u001b[35m30665144.8333\u001b[0m  0.0328\n",
      "    230  \u001b[36m5536.5809\u001b[0m  \u001b[32m33292459.3750\u001b[0m  \u001b[35m30653728.6250\u001b[0m  0.0315\n",
      "    231  \u001b[36m5535.5173\u001b[0m  \u001b[32m33274786.1667\u001b[0m  \u001b[35m30641951.9583\u001b[0m  0.0366\n",
      "    232  \u001b[36m5534.4217\u001b[0m  \u001b[32m33257059.3333\u001b[0m  \u001b[35m30629822.6667\u001b[0m  0.0347\n",
      "    233  \u001b[36m5533.3240\u001b[0m  \u001b[32m33239345.2266\u001b[0m  \u001b[35m30617676.9583\u001b[0m  0.0342\n",
      "    234  \u001b[36m5532.2467\u001b[0m  \u001b[32m33221714.3125\u001b[0m  \u001b[35m30605754.5833\u001b[0m  0.0328\n",
      "    235  \u001b[36m5531.2087\u001b[0m  \u001b[32m33204208.6510\u001b[0m  \u001b[35m30594269.2917\u001b[0m  0.0344\n",
      "    236  \u001b[36m5530.2287\u001b[0m  \u001b[32m33186899.6042\u001b[0m  \u001b[35m30583428.7500\u001b[0m  0.0397\n",
      "    237  \u001b[36m5529.3030\u001b[0m  \u001b[32m33169813.8906\u001b[0m  \u001b[35m30573193.1667\u001b[0m  0.0341\n",
      "    238  \u001b[36m5528.4240\u001b[0m  \u001b[32m33152945.5312\u001b[0m  \u001b[35m30563472.5000\u001b[0m  0.0340\n",
      "    239  \u001b[36m5527.5817\u001b[0m  \u001b[32m33136300.8151\u001b[0m  \u001b[35m30554161.7917\u001b[0m  0.0388\n",
      "    240  \u001b[36m5526.7681\u001b[0m  \u001b[32m33119871.5521\u001b[0m  \u001b[35m30545164.7500\u001b[0m  0.0346\n",
      "    241  \u001b[36m5525.9709\u001b[0m  \u001b[32m33103632.9036\u001b[0m  \u001b[35m30536353.2083\u001b[0m  0.0369\n",
      "    242  \u001b[36m5525.1836\u001b[0m  \u001b[32m33087578.6276\u001b[0m  \u001b[35m30527652.5000\u001b[0m  0.0322\n",
      "    243  \u001b[36m5524.4020\u001b[0m  \u001b[32m33071697.5443\u001b[0m  \u001b[35m30519020.1250\u001b[0m  0.0323\n",
      "    244  \u001b[36m5523.6234\u001b[0m  \u001b[32m33055982.1797\u001b[0m  \u001b[35m30510417.5417\u001b[0m  0.0372\n",
      "    245  \u001b[36m5522.8427\u001b[0m  \u001b[32m33040402.6719\u001b[0m  \u001b[35m30501789.5417\u001b[0m  0.0326\n",
      "    246  \u001b[36m5522.0578\u001b[0m  \u001b[32m33024966.3776\u001b[0m  \u001b[35m30493122.7917\u001b[0m  0.0336\n",
      "    247  \u001b[36m5521.2680\u001b[0m  \u001b[32m33009654.3490\u001b[0m  \u001b[35m30484399.7917\u001b[0m  0.0375\n",
      "    248  \u001b[36m5520.4715\u001b[0m  \u001b[32m32994452.9740\u001b[0m  \u001b[35m30475608.5417\u001b[0m  0.0382\n",
      "    249  \u001b[36m5519.6679\u001b[0m  \u001b[32m32979356.5990\u001b[0m  \u001b[35m30466733.1667\u001b[0m  0.0328\n",
      "    250  \u001b[36m5518.8566\u001b[0m  \u001b[32m32964355.8568\u001b[0m  \u001b[35m30457780.7083\u001b[0m  0.0321\n",
      "    251  \u001b[36m5518.0364\u001b[0m  \u001b[32m32949437.3672\u001b[0m  \u001b[35m30448723.7500\u001b[0m  0.0318\n",
      "    252  \u001b[36m5517.2060\u001b[0m  \u001b[32m32934601.6380\u001b[0m  \u001b[35m30439562.5000\u001b[0m  0.0376\n",
      "    253  \u001b[36m5516.3657\u001b[0m  \u001b[32m32919823.9427\u001b[0m  \u001b[35m30430287.8333\u001b[0m  0.0323\n",
      "    254  \u001b[36m5515.5141\u001b[0m  \u001b[32m32905116.6589\u001b[0m  \u001b[35m30420897.5417\u001b[0m  0.0328\n",
      "    255  \u001b[36m5514.6501\u001b[0m  \u001b[32m32890454.9818\u001b[0m  \u001b[35m30411366.7917\u001b[0m  0.0380\n",
      "    256  \u001b[36m5513.7748\u001b[0m  \u001b[32m32875839.1328\u001b[0m  \u001b[35m30401709.3750\u001b[0m  0.0318\n",
      "    257  \u001b[36m5512.8844\u001b[0m  \u001b[32m32861252.3932\u001b[0m  \u001b[35m30391893.7083\u001b[0m  0.0326\n",
      "    258  \u001b[36m5511.9806\u001b[0m  \u001b[32m32846697.3307\u001b[0m  \u001b[35m30381929.6667\u001b[0m  0.0383\n",
      "    259  \u001b[36m5511.0614\u001b[0m  \u001b[32m32832157.0026\u001b[0m  \u001b[35m30371798.2917\u001b[0m  0.0329\n",
      "    260  \u001b[36m5510.1258\u001b[0m  \u001b[32m32817629.6302\u001b[0m  \u001b[35m30361485.3333\u001b[0m  0.0382\n",
      "    261  \u001b[36m5509.1734\u001b[0m  \u001b[32m32803106.6224\u001b[0m  \u001b[35m30350991.9583\u001b[0m  0.0320\n",
      "    262  \u001b[36m5508.2024\u001b[0m  \u001b[32m32788573.8073\u001b[0m  \u001b[35m30340295.7083\u001b[0m  0.0326\n",
      "    263  \u001b[36m5507.2136\u001b[0m  \u001b[32m32774032.4792\u001b[0m  \u001b[35m30329399.9583\u001b[0m  0.0392\n",
      "    264  \u001b[36m5506.2038\u001b[0m  \u001b[32m32759470.0677\u001b[0m  \u001b[35m30318281.0833\u001b[0m  0.0324\n",
      "    265  \u001b[36m5505.1741\u001b[0m  \u001b[32m32744875.7865\u001b[0m  \u001b[35m30306937.9167\u001b[0m  0.0319\n",
      "    266  \u001b[36m5504.1215\u001b[0m  \u001b[32m32730252.1146\u001b[0m  \u001b[35m30295355.2500\u001b[0m  0.0405\n",
      "    267  \u001b[36m5503.0493\u001b[0m  \u001b[32m32715583.5052\u001b[0m  \u001b[35m30283549.3333\u001b[0m  0.0326\n",
      "    268  \u001b[36m5501.9727\u001b[0m  \u001b[32m32700907.2734\u001b[0m  \u001b[35m30271704.1250\u001b[0m  0.0317\n",
      "    269  \u001b[36m5500.9054\u001b[0m  \u001b[32m32686269.0052\u001b[0m  \u001b[35m30259960.7083\u001b[0m  0.0379\n",
      "    270  \u001b[36m5499.8604\u001b[0m  \u001b[32m32671693.3646\u001b[0m  \u001b[35m30248463.4167\u001b[0m  0.0329\n",
      "    271  \u001b[36m5498.8499\u001b[0m  \u001b[32m32657226.9010\u001b[0m  \u001b[35m30237349.0000\u001b[0m  0.0331\n",
      "    272  \u001b[36m5497.8820\u001b[0m  \u001b[32m32642896.4635\u001b[0m  \u001b[35m30226707.4167\u001b[0m  0.0332\n",
      "    273  \u001b[36m5496.9495\u001b[0m  \u001b[32m32628717.4010\u001b[0m  \u001b[35m30216454.7083\u001b[0m  0.0312\n",
      "    274  \u001b[36m5496.0489\u001b[0m  \u001b[32m32614687.5339\u001b[0m  \u001b[35m30206554.8750\u001b[0m  0.0411\n",
      "    275  \u001b[36m5495.1775\u001b[0m  \u001b[32m32600811.6953\u001b[0m  \u001b[35m30196977.4583\u001b[0m  0.0339\n",
      "    276  \u001b[36m5494.3263\u001b[0m  \u001b[32m32587081.1484\u001b[0m  \u001b[35m30187620.1667\u001b[0m  0.0351\n",
      "    277  \u001b[36m5493.4891\u001b[0m  \u001b[32m32573488.2109\u001b[0m  \u001b[35m30178419.7083\u001b[0m  0.0381\n",
      "    278  \u001b[36m5492.6615\u001b[0m  \u001b[32m32560024.3177\u001b[0m  \u001b[35m30169328.5833\u001b[0m  0.0335\n",
      "    279  \u001b[36m5491.8407\u001b[0m  \u001b[32m32546691.6875\u001b[0m  \u001b[35m30160313.1667\u001b[0m  0.0321\n",
      "    280  \u001b[36m5491.0239\u001b[0m  \u001b[32m32533486.4141\u001b[0m  \u001b[35m30151342.2500\u001b[0m  0.0324\n",
      "    281  \u001b[36m5490.2095\u001b[0m  \u001b[32m32520392.4271\u001b[0m  \u001b[35m30142399.6667\u001b[0m  0.0318\n",
      "    282  \u001b[36m5489.3956\u001b[0m  \u001b[32m32507419.9349\u001b[0m  \u001b[35m30133466.8750\u001b[0m  0.0372\n",
      "    283  \u001b[36m5488.5811\u001b[0m  \u001b[32m32494555.3776\u001b[0m  \u001b[35m30124523.4167\u001b[0m  0.0321\n",
      "    284  \u001b[36m5487.7677\u001b[0m  \u001b[32m32481800.2995\u001b[0m  \u001b[35m30115597.2500\u001b[0m  0.0319\n",
      "    285  \u001b[36m5486.9534\u001b[0m  \u001b[32m32469147.2240\u001b[0m  \u001b[35m30106659.0000\u001b[0m  0.0413\n",
      "    286  \u001b[36m5486.1387\u001b[0m  \u001b[32m32456593.1953\u001b[0m  \u001b[35m30097717.3750\u001b[0m  0.0346\n",
      "    287  \u001b[36m5485.3235\u001b[0m  \u001b[32m32444139.6484\u001b[0m  \u001b[35m30088774.6667\u001b[0m  0.0415\n",
      "    288  \u001b[36m5484.5076\u001b[0m  \u001b[32m32431774.2760\u001b[0m  \u001b[35m30079823.1250\u001b[0m  0.0344\n",
      "    289  \u001b[36m5483.6905\u001b[0m  \u001b[32m32419506.0052\u001b[0m  \u001b[35m30070859.0833\u001b[0m  0.0329\n",
      "    290  \u001b[36m5482.8742\u001b[0m  \u001b[32m32407316.9948\u001b[0m  \u001b[35m30061908.6667\u001b[0m  0.0384\n",
      "    291  \u001b[36m5482.0564\u001b[0m  \u001b[32m32395220.6615\u001b[0m  \u001b[35m30052941.6667\u001b[0m  0.0326\n",
      "    292  \u001b[36m5481.2380\u001b[0m  \u001b[32m32383204.3776\u001b[0m  \u001b[35m30043970.8750\u001b[0m  0.0330\n",
      "    293  \u001b[36m5480.4204\u001b[0m  \u001b[32m32371272.1458\u001b[0m  \u001b[35m30035006.2917\u001b[0m  0.0414\n",
      "    294  \u001b[36m5479.6020\u001b[0m  \u001b[32m32359415.3932\u001b[0m  \u001b[35m30026034.7917\u001b[0m  0.0327\n",
      "    295  \u001b[36m5478.7833\u001b[0m  \u001b[32m32347640.8698\u001b[0m  \u001b[35m30017065.5417\u001b[0m  0.0331\n",
      "    296  \u001b[36m5477.9640\u001b[0m  \u001b[32m32335937.8099\u001b[0m  \u001b[35m30008091.3750\u001b[0m  0.0329\n",
      "    297  \u001b[36m5477.1451\u001b[0m  \u001b[32m32324306.2760\u001b[0m  \u001b[35m29999117.9167\u001b[0m  0.0320\n",
      "    298  \u001b[36m5476.3263\u001b[0m  \u001b[32m32312744.9427\u001b[0m  \u001b[35m29990148.9583\u001b[0m  0.0426\n",
      "    299  \u001b[36m5475.5076\u001b[0m  \u001b[32m32301258.9818\u001b[0m  \u001b[35m29981184.3333\u001b[0m  0.0328\n",
      "    300  \u001b[36m5474.6879\u001b[0m  \u001b[32m32289843.0599\u001b[0m  \u001b[35m29972207.6250\u001b[0m  0.0325\n",
      "    301  \u001b[36m5473.8690\u001b[0m  \u001b[32m32278488.4427\u001b[0m  \u001b[35m29963243.7500\u001b[0m  0.0386\n",
      "    302  \u001b[36m5473.0505\u001b[0m  \u001b[32m32267200.4714\u001b[0m  \u001b[35m29954284.7083\u001b[0m  0.0328\n",
      "    303  \u001b[36m5472.2323\u001b[0m  \u001b[32m32255972.9245\u001b[0m  \u001b[35m29945326.0417\u001b[0m  0.0324\n",
      "    304  \u001b[36m5471.4146\u001b[0m  \u001b[32m32244814.5130\u001b[0m  \u001b[35m29936376.7083\u001b[0m  0.0359\n",
      "    305  \u001b[36m5470.5963\u001b[0m  \u001b[32m32233712.7057\u001b[0m  \u001b[35m29927424.6667\u001b[0m  0.0322\n",
      "    306  \u001b[36m5469.7793\u001b[0m  \u001b[32m32222673.2995\u001b[0m  \u001b[35m29918485.8750\u001b[0m  0.0414\n",
      "    307  \u001b[36m5468.9626\u001b[0m  \u001b[32m32211689.5130\u001b[0m  \u001b[35m29909550.7083\u001b[0m  0.0341\n",
      "    308  \u001b[36m5468.1461\u001b[0m  \u001b[32m32200763.4010\u001b[0m  \u001b[35m29900621.4583\u001b[0m  0.0338\n",
      "    309  \u001b[36m5467.3306\u001b[0m  \u001b[32m32189895.1094\u001b[0m  \u001b[35m29891703.3750\u001b[0m  0.0383\n",
      "    310  \u001b[36m5466.5148\u001b[0m  \u001b[32m32179082.1927\u001b[0m  \u001b[35m29882786.2917\u001b[0m  0.0337\n",
      "    311  \u001b[36m5465.7011\u001b[0m  \u001b[32m32168321.5990\u001b[0m  \u001b[35m29873889.2500\u001b[0m  0.0332\n",
      "    312  \u001b[36m5464.8866\u001b[0m  \u001b[32m32157612.5495\u001b[0m  \u001b[35m29864987.4167\u001b[0m  0.0359\n",
      "    313  \u001b[36m5464.0738\u001b[0m  \u001b[32m32146954.1198\u001b[0m  \u001b[35m29856101.9583\u001b[0m  0.0326\n",
      "    314  \u001b[36m5463.2615\u001b[0m  \u001b[32m32136354.9609\u001b[0m  \u001b[35m29847225.1250\u001b[0m  0.0380\n",
      "    315  \u001b[36m5462.4493\u001b[0m  \u001b[32m32125797.9115\u001b[0m  \u001b[35m29838353.4167\u001b[0m  0.0334\n",
      "    316  \u001b[36m5461.6388\u001b[0m  \u001b[32m32115295.2292\u001b[0m  \u001b[35m29829498.2917\u001b[0m  0.0318\n",
      "    317  \u001b[36m5460.8283\u001b[0m  \u001b[32m32104837.3464\u001b[0m  \u001b[35m29820645.1250\u001b[0m  0.0376\n",
      "    318  \u001b[36m5460.0196\u001b[0m  \u001b[32m32094426.0885\u001b[0m  \u001b[35m29811811.5833\u001b[0m  0.0323\n",
      "    319  \u001b[36m5459.2111\u001b[0m  \u001b[32m32084062.1693\u001b[0m  \u001b[35m29802986.5833\u001b[0m  0.0319\n",
      "    320  \u001b[36m5458.4034\u001b[0m  \u001b[32m32073746.6875\u001b[0m  \u001b[35m29794167.5000\u001b[0m  0.0359\n",
      "    321  \u001b[36m5457.5967\u001b[0m  \u001b[32m32063473.1589\u001b[0m  \u001b[35m29785362.6250\u001b[0m  0.0312\n",
      "    322  \u001b[36m5456.7917\u001b[0m  \u001b[32m32053244.4896\u001b[0m  \u001b[35m29776575.7083\u001b[0m  0.0308\n",
      "    323  \u001b[36m5455.9868\u001b[0m  \u001b[32m32043056.3880\u001b[0m  \u001b[35m29767791.5000\u001b[0m  0.0364\n",
      "    324  \u001b[36m5455.1827\u001b[0m  \u001b[32m32032911.5104\u001b[0m  \u001b[35m29759019.1250\u001b[0m  0.0314\n",
      "    325  \u001b[36m5454.3803\u001b[0m  \u001b[32m32022808.7708\u001b[0m  \u001b[35m29750265.6667\u001b[0m  0.0317\n",
      "    326  \u001b[36m5453.5781\u001b[0m  \u001b[32m32012748.0312\u001b[0m  \u001b[35m29741515.5000\u001b[0m  0.0324\n",
      "    327  \u001b[36m5452.7771\u001b[0m  \u001b[32m32002733.0391\u001b[0m  \u001b[35m29732779.8333\u001b[0m  0.0313\n",
      "    328  \u001b[36m5451.9774\u001b[0m  \u001b[32m31992750.8385\u001b[0m  \u001b[35m29724058.4167\u001b[0m  0.0417\n",
      "    329  \u001b[36m5451.1782\u001b[0m  \u001b[32m31982806.0703\u001b[0m  \u001b[35m29715342.9167\u001b[0m  0.0341\n",
      "    330  \u001b[36m5450.3800\u001b[0m  \u001b[32m31972905.8307\u001b[0m  \u001b[35m29706642.2500\u001b[0m  0.0327\n",
      "    331  \u001b[36m5449.5818\u001b[0m  \u001b[32m31963039.6979\u001b[0m  \u001b[35m29697943.7500\u001b[0m  0.0385\n",
      "    332  \u001b[36m5448.7861\u001b[0m  \u001b[32m31953212.7656\u001b[0m  \u001b[35m29689270.3333\u001b[0m  0.0324\n",
      "    333  \u001b[36m5447.9906\u001b[0m  \u001b[32m31943420.7031\u001b[0m  \u001b[35m29680605.2500\u001b[0m  0.0315\n",
      "    334  \u001b[36m5447.1965\u001b[0m  \u001b[32m31933666.4297\u001b[0m  \u001b[35m29671947.6250\u001b[0m  0.0382\n",
      "    335  \u001b[36m5446.4027\u001b[0m  \u001b[32m31923951.5677\u001b[0m  \u001b[35m29663302.2083\u001b[0m  0.0327\n",
      "    336  \u001b[36m5445.6098\u001b[0m  \u001b[32m31914269.3333\u001b[0m  \u001b[35m29654666.4167\u001b[0m  0.0328\n",
      "    337  \u001b[36m5444.8179\u001b[0m  \u001b[32m31904619.2786\u001b[0m  \u001b[35m29646043.2917\u001b[0m  0.0326\n",
      "    338  \u001b[36m5444.0272\u001b[0m  \u001b[32m31895003.2448\u001b[0m  \u001b[35m29637429.8750\u001b[0m  0.0315\n",
      "    339  \u001b[36m5443.2364\u001b[0m  \u001b[32m31885424.8385\u001b[0m  \u001b[35m29628823.2500\u001b[0m  0.0363\n",
      "    340  \u001b[36m5442.4478\u001b[0m  \u001b[32m31875874.2969\u001b[0m  \u001b[35m29620236.1667\u001b[0m  0.0334\n",
      "    341  \u001b[36m5441.6588\u001b[0m  \u001b[32m31866366.2292\u001b[0m  \u001b[35m29611652.2917\u001b[0m  0.0407\n",
      "    342  \u001b[36m5440.8722\u001b[0m  \u001b[32m31856890.3047\u001b[0m  \u001b[35m29603090.0833\u001b[0m  0.0389\n",
      "    343  \u001b[36m5440.0853\u001b[0m  \u001b[32m31847436.6120\u001b[0m  \u001b[35m29594528.6667\u001b[0m  0.0332\n",
      "    344  \u001b[36m5439.2994\u001b[0m  \u001b[32m31838026.4271\u001b[0m  \u001b[35m29585975.4167\u001b[0m  0.0373\n",
      "    345  \u001b[36m5438.5151\u001b[0m  \u001b[32m31828638.4688\u001b[0m  \u001b[35m29577443.7083\u001b[0m  0.0346\n",
      "    346  \u001b[36m5437.7304\u001b[0m  \u001b[32m31819289.5026\u001b[0m  \u001b[35m29568910.2500\u001b[0m  0.0334\n",
      "    347  \u001b[36m5436.9468\u001b[0m  \u001b[32m31809968.9479\u001b[0m  \u001b[35m29560388.1667\u001b[0m  0.0372\n",
      "    348  \u001b[36m5436.1643\u001b[0m  \u001b[32m31800679.7917\u001b[0m  \u001b[35m29551885.5417\u001b[0m  0.0324\n",
      "    349  \u001b[36m5435.3833\u001b[0m  \u001b[32m31791423.0911\u001b[0m  \u001b[35m29543392.6667\u001b[0m  0.0335\n",
      "    350  \u001b[36m5434.6015\u001b[0m  \u001b[32m31782191.6771\u001b[0m  \u001b[35m29534893.1667\u001b[0m  0.0373\n",
      "    351  \u001b[36m5433.8215\u001b[0m  \u001b[32m31772995.3880\u001b[0m  \u001b[35m29526417.2917\u001b[0m  0.0322\n",
      "    352  \u001b[36m5433.0426\u001b[0m  \u001b[32m31763832.0026\u001b[0m  \u001b[35m29517954.2500\u001b[0m  0.0344\n",
      "    353  \u001b[36m5432.2636\u001b[0m  \u001b[32m31754698.2422\u001b[0m  \u001b[35m29509486.2083\u001b[0m  0.0333\n",
      "    354  \u001b[36m5431.4865\u001b[0m  \u001b[32m31745593.8203\u001b[0m  \u001b[35m29501044.2083\u001b[0m  0.0341\n",
      "    355  \u001b[36m5430.7112\u001b[0m  \u001b[32m31736516.6745\u001b[0m  \u001b[35m29492620.8333\u001b[0m  0.0390\n",
      "    356  \u001b[36m5429.9378\u001b[0m  \u001b[32m31727471.4115\u001b[0m  \u001b[35m29484224.9167\u001b[0m  0.0351\n",
      "    357  \u001b[36m5429.1677\u001b[0m  \u001b[32m31718451.9609\u001b[0m  \u001b[35m29475860.5417\u001b[0m  0.0326\n",
      "    358  \u001b[36m5428.3992\u001b[0m  \u001b[32m31709465.9401\u001b[0m  \u001b[35m29467518.8750\u001b[0m  0.0458\n",
      "    359  \u001b[36m5427.6345\u001b[0m  \u001b[32m31700507.9844\u001b[0m  \u001b[35m29459217.3333\u001b[0m  0.0324\n",
      "    360  \u001b[36m5426.8715\u001b[0m  \u001b[32m31691579.9245\u001b[0m  \u001b[35m29450938.0833\u001b[0m  0.0336\n",
      "    361  \u001b[36m5426.1108\u001b[0m  \u001b[32m31682680.9245\u001b[0m  \u001b[35m29442680.7500\u001b[0m  0.0321\n",
      "    362  \u001b[36m5425.3529\u001b[0m  \u001b[32m31673807.4115\u001b[0m  \u001b[35m29434454.4167\u001b[0m  0.0322\n",
      "    363  \u001b[36m5424.5982\u001b[0m  \u001b[32m31664968.8802\u001b[0m  \u001b[35m29426265.7083\u001b[0m  0.0373\n",
      "    364  \u001b[36m5423.8453\u001b[0m  \u001b[32m31656153.8333\u001b[0m  \u001b[35m29418100.4583\u001b[0m  0.0325\n",
      "    365  \u001b[36m5423.0960\u001b[0m  \u001b[32m31647368.7083\u001b[0m  \u001b[35m29409970.4167\u001b[0m  0.0334\n",
      "    366  \u001b[36m5422.3488\u001b[0m  \u001b[32m31638610.6172\u001b[0m  \u001b[35m29401867.7500\u001b[0m  0.0388\n",
      "    367  \u001b[36m5421.6040\u001b[0m  \u001b[32m31629884.0000\u001b[0m  \u001b[35m29393791.2083\u001b[0m  0.0325\n",
      "    368  \u001b[36m5420.8625\u001b[0m  \u001b[32m31621188.7083\u001b[0m  \u001b[35m29385748.7500\u001b[0m  0.0326\n",
      "    369  \u001b[36m5420.1227\u001b[0m  \u001b[32m31612516.9714\u001b[0m  \u001b[35m29377728.2083\u001b[0m  0.0339\n",
      "    370  \u001b[36m5419.3861\u001b[0m  \u001b[32m31603878.9219\u001b[0m  \u001b[35m29369744.0833\u001b[0m  0.0312\n",
      "    371  \u001b[36m5418.6522\u001b[0m  \u001b[32m31595265.0026\u001b[0m  \u001b[35m29361795.9583\u001b[0m  0.0378\n",
      "    372  \u001b[36m5417.9206\u001b[0m  \u001b[32m31586682.7188\u001b[0m  \u001b[35m29353863.3333\u001b[0m  0.0322\n",
      "    373  \u001b[36m5417.1919\u001b[0m  \u001b[32m31578127.8698\u001b[0m  \u001b[35m29345967.1667\u001b[0m  0.0320\n",
      "    374  \u001b[36m5416.4658\u001b[0m  \u001b[32m31569595.8411\u001b[0m  \u001b[35m29338103.6250\u001b[0m  0.0384\n",
      "    375  \u001b[36m5415.7430\u001b[0m  \u001b[32m31561098.2292\u001b[0m  \u001b[35m29330272.0833\u001b[0m  0.0327\n",
      "    376  \u001b[36m5415.0228\u001b[0m  \u001b[32m31552633.4271\u001b[0m  \u001b[35m29322472.5833\u001b[0m  0.0317\n",
      "    377  \u001b[36m5414.3068\u001b[0m  \u001b[32m31544199.8542\u001b[0m  \u001b[35m29314719.0417\u001b[0m  0.0368\n",
      "    378  \u001b[36m5413.5934\u001b[0m  \u001b[32m31535808.9245\u001b[0m  \u001b[35m29306994.3333\u001b[0m  0.0313\n",
      "    379  \u001b[36m5412.8833\u001b[0m  \u001b[32m31527442.5000\u001b[0m  \u001b[35m29299305.0417\u001b[0m  0.0322\n",
      "    380  \u001b[36m5412.1750\u001b[0m  \u001b[32m31519117.3490\u001b[0m  \u001b[35m29291637.0833\u001b[0m  0.0332\n",
      "    381  \u001b[36m5411.4693\u001b[0m  \u001b[32m31510822.5859\u001b[0m  \u001b[35m29284000.6250\u001b[0m  0.0323\n",
      "    382  \u001b[36m5410.7665\u001b[0m  \u001b[32m31502557.9974\u001b[0m  \u001b[35m29276396.9583\u001b[0m  0.0410\n",
      "    383  \u001b[36m5410.0667\u001b[0m  \u001b[32m31494331.8880\u001b[0m  \u001b[35m29268820.7083\u001b[0m  0.0313\n",
      "    384  \u001b[36m5409.3695\u001b[0m  \u001b[32m31486139.5781\u001b[0m  \u001b[35m29261276.9583\u001b[0m  0.0321\n",
      "    385  \u001b[36m5408.6732\u001b[0m  \u001b[32m31477979.1615\u001b[0m  \u001b[35m29253745.8333\u001b[0m  0.0378\n",
      "    386  \u001b[36m5407.9795\u001b[0m  \u001b[32m31469854.2917\u001b[0m  \u001b[35m29246244.6250\u001b[0m  0.0312\n",
      "    387  \u001b[36m5407.2877\u001b[0m  \u001b[32m31461757.3438\u001b[0m  \u001b[35m29238762.2917\u001b[0m  0.0332\n",
      "    388  \u001b[36m5406.5989\u001b[0m  \u001b[32m31453695.9609\u001b[0m  \u001b[35m29231312.5833\u001b[0m  0.0391\n",
      "    389  \u001b[36m5405.9123\u001b[0m  \u001b[32m31445666.9896\u001b[0m  \u001b[35m29223887.8333\u001b[0m  0.0327\n",
      "    390  \u001b[36m5405.2271\u001b[0m  \u001b[32m31437673.0625\u001b[0m  \u001b[35m29216480.7500\u001b[0m  0.0324\n",
      "    391  \u001b[36m5404.5442\u001b[0m  \u001b[32m31429715.2526\u001b[0m  \u001b[35m29209101.0417\u001b[0m  0.0343\n",
      "    392  \u001b[36m5403.8644\u001b[0m  \u001b[32m31421783.5286\u001b[0m  \u001b[35m29201747.0833\u001b[0m  0.0342\n",
      "    393  \u001b[36m5403.1848\u001b[0m  \u001b[32m31413886.6484\u001b[0m  \u001b[35m29194402.8333\u001b[0m  0.0435\n",
      "    394  \u001b[36m5402.5076\u001b[0m  \u001b[32m31406020.5365\u001b[0m  \u001b[35m29187089.8750\u001b[0m  0.0350\n",
      "    395  \u001b[36m5401.8328\u001b[0m  \u001b[32m31398178.8359\u001b[0m  \u001b[35m29179796.8333\u001b[0m  0.0350\n",
      "    396  \u001b[36m5401.1608\u001b[0m  \u001b[32m31390370.2708\u001b[0m  \u001b[35m29172540.2500\u001b[0m  0.0441\n",
      "    397  \u001b[36m5400.4909\u001b[0m  \u001b[32m31382585.2344\u001b[0m  \u001b[35m29165300.2500\u001b[0m  0.0325\n",
      "    398  \u001b[36m5399.8213\u001b[0m  \u001b[32m31374829.1771\u001b[0m  \u001b[35m29158071.5417\u001b[0m  0.0377\n",
      "    399  \u001b[36m5399.1549\u001b[0m  \u001b[32m31367101.7995\u001b[0m  \u001b[35m29150875.2917\u001b[0m  0.0328\n",
      "    400  \u001b[36m5398.4892\u001b[0m  \u001b[32m31359396.2552\u001b[0m  \u001b[35m29143686.5833\u001b[0m  0.0340\n",
      "    401  \u001b[36m5397.8242\u001b[0m  \u001b[32m31351710.7812\u001b[0m  \u001b[35m29136507.2917\u001b[0m  0.0379\n",
      "    402  \u001b[36m5397.1613\u001b[0m  \u001b[32m31344057.7109\u001b[0m  \u001b[35m29129351.5417\u001b[0m  0.0310\n",
      "    403  \u001b[36m5396.4996\u001b[0m  \u001b[32m31336421.7344\u001b[0m  \u001b[35m29122208.5000\u001b[0m  0.0307\n",
      "    404  \u001b[36m5395.8404\u001b[0m  \u001b[32m31328812.8516\u001b[0m  \u001b[35m29115092.2083\u001b[0m  0.0403\n",
      "    405  \u001b[36m5395.1816\u001b[0m  \u001b[32m31321229.3672\u001b[0m  \u001b[35m29107984.5000\u001b[0m  0.0309\n",
      "    406  \u001b[36m5394.5256\u001b[0m  \u001b[32m31313663.8724\u001b[0m  \u001b[35m29100906.0833\u001b[0m  0.0321\n",
      "    407  \u001b[36m5393.8715\u001b[0m  \u001b[32m31306123.7448\u001b[0m  \u001b[35m29093847.7500\u001b[0m  0.0376\n",
      "    408  \u001b[36m5393.2180\u001b[0m  \u001b[32m31298610.2786\u001b[0m  \u001b[35m29086801.2917\u001b[0m  0.0314\n",
      "    409  \u001b[36m5392.5677\u001b[0m  \u001b[32m31291115.0807\u001b[0m  \u001b[35m29079784.7500\u001b[0m  0.0308\n",
      "    410  \u001b[36m5391.9190\u001b[0m  \u001b[32m31283646.9219\u001b[0m  \u001b[35m29072788.2917\u001b[0m  0.0314\n",
      "    411  \u001b[36m5391.2731\u001b[0m  \u001b[32m31276197.4661\u001b[0m  \u001b[35m29065824.0833\u001b[0m  0.0313\n",
      "    412  \u001b[36m5390.6289\u001b[0m  \u001b[32m31268778.8620\u001b[0m  \u001b[35m29058878.6667\u001b[0m  0.0403\n",
      "    413  \u001b[36m5389.9865\u001b[0m  \u001b[32m31261380.6641\u001b[0m  \u001b[35m29051952.1667\u001b[0m  0.0313\n",
      "    414  \u001b[36m5389.3480\u001b[0m  \u001b[32m31254007.7943\u001b[0m  \u001b[35m29045070.9167\u001b[0m  0.0319\n",
      "    415  \u001b[36m5388.7095\u001b[0m  \u001b[32m31246658.4062\u001b[0m  \u001b[35m29038189.2500\u001b[0m  0.0397\n",
      "    416  \u001b[36m5388.0737\u001b[0m  \u001b[32m31239330.7188\u001b[0m  \u001b[35m29031337.5417\u001b[0m  0.0321\n",
      "    417  \u001b[36m5387.4400\u001b[0m  \u001b[32m31232029.1745\u001b[0m  \u001b[35m29024510.0833\u001b[0m  0.0382\n",
      "    418  \u001b[36m5386.8091\u001b[0m  \u001b[32m31224756.6146\u001b[0m  \u001b[35m29017712.2500\u001b[0m  0.0415\n",
      "    419  \u001b[36m5386.1799\u001b[0m  \u001b[32m31217511.3776\u001b[0m  \u001b[35m29010933.5833\u001b[0m  0.0379\n",
      "    420  \u001b[36m5385.5531\u001b[0m  \u001b[32m31210284.8203\u001b[0m  \u001b[35m29004181.8333\u001b[0m  0.0474\n",
      "    421  \u001b[36m5384.9284\u001b[0m  \u001b[32m31203091.0938\u001b[0m  \u001b[35m28997451.7500\u001b[0m  0.0415\n",
      "    422  \u001b[36m5384.3040\u001b[0m  \u001b[32m31195923.3906\u001b[0m  \u001b[35m28990732.3333\u001b[0m  0.0462\n",
      "    423  \u001b[36m5383.6828\u001b[0m  \u001b[32m31188777.8906\u001b[0m  \u001b[35m28984039.9167\u001b[0m  0.0420\n",
      "    424  \u001b[36m5383.0623\u001b[0m  \u001b[32m31181664.1589\u001b[0m  \u001b[35m28977357.4583\u001b[0m  0.0433\n",
      "    425  \u001b[36m5382.4435\u001b[0m  \u001b[32m31174572.8229\u001b[0m  \u001b[35m28970699.7917\u001b[0m  0.0351\n",
      "    426  \u001b[36m5381.8263\u001b[0m  \u001b[32m31167504.7969\u001b[0m  \u001b[35m28964053.5417\u001b[0m  0.0323\n",
      "    427  \u001b[36m5381.2103\u001b[0m  \u001b[32m31160463.6615\u001b[0m  \u001b[35m28957422.4167\u001b[0m  0.0373\n",
      "    428  \u001b[36m5380.5946\u001b[0m  \u001b[32m31153441.6172\u001b[0m  \u001b[35m28950797.9167\u001b[0m  0.0326\n",
      "    429  \u001b[36m5379.9809\u001b[0m  \u001b[32m31146449.6250\u001b[0m  \u001b[35m28944193.1667\u001b[0m  0.0371\n",
      "    430  \u001b[36m5379.3689\u001b[0m  \u001b[32m31139475.6380\u001b[0m  \u001b[35m28937613.0833\u001b[0m  0.0380\n",
      "    431  \u001b[36m5378.7582\u001b[0m  \u001b[32m31132528.9609\u001b[0m  \u001b[35m28931037.2500\u001b[0m  0.0326\n",
      "    432  \u001b[36m5378.1482\u001b[0m  \u001b[32m31125609.5651\u001b[0m  \u001b[35m28924478.1250\u001b[0m  0.0381\n",
      "    433  \u001b[36m5377.5394\u001b[0m  \u001b[32m31118711.2448\u001b[0m  \u001b[35m28917931.0000\u001b[0m  0.0320\n",
      "    434  \u001b[36m5376.9324\u001b[0m  \u001b[32m31111835.8385\u001b[0m  \u001b[35m28911401.0000\u001b[0m  0.0312\n",
      "    435  \u001b[36m5376.3266\u001b[0m  \u001b[32m31104985.2526\u001b[0m  \u001b[35m28904887.4583\u001b[0m  0.0364\n",
      "    436  \u001b[36m5375.7217\u001b[0m  \u001b[32m31098150.8516\u001b[0m  \u001b[35m28898385.7917\u001b[0m  0.0317\n",
      "    437  \u001b[36m5375.1182\u001b[0m  \u001b[32m31091347.4036\u001b[0m  \u001b[35m28891893.9167\u001b[0m  0.0320\n",
      "    438  \u001b[36m5374.5147\u001b[0m  \u001b[32m31084561.0703\u001b[0m  \u001b[35m28885408.1250\u001b[0m  0.0315\n",
      "    439  \u001b[36m5373.9125\u001b[0m  \u001b[32m31077796.1979\u001b[0m  \u001b[35m28878937.3333\u001b[0m  0.0316\n",
      "    440  \u001b[36m5373.3111\u001b[0m  \u001b[32m31071047.9036\u001b[0m  \u001b[35m28872472.4583\u001b[0m  0.0367\n",
      "    441  \u001b[36m5372.7103\u001b[0m  \u001b[32m31064324.2109\u001b[0m  \u001b[35m28866016.5417\u001b[0m  0.0316\n",
      "    442  \u001b[36m5372.1108\u001b[0m  \u001b[32m31057611.0417\u001b[0m  \u001b[35m28859571.5000\u001b[0m  0.0382\n",
      "    443  \u001b[36m5371.5106\u001b[0m  \u001b[32m31050923.2943\u001b[0m  \u001b[35m28853125.9167\u001b[0m  0.0401\n",
      "    444  \u001b[36m5370.9107\u001b[0m  \u001b[32m31044252.7214\u001b[0m  \u001b[35m28846683.3333\u001b[0m  0.0315\n",
      "    445  \u001b[36m5370.3125\u001b[0m  \u001b[32m31037604.8828\u001b[0m  \u001b[35m28840253.4583\u001b[0m  0.0323\n",
      "    446  \u001b[36m5369.7127\u001b[0m  \u001b[32m31030968.1198\u001b[0m  \u001b[35m28833812.5833\u001b[0m  0.0363\n",
      "    447  \u001b[36m5369.1141\u001b[0m  \u001b[32m31024348.3021\u001b[0m  \u001b[35m28827388.6667\u001b[0m  0.0345\n",
      "    448  \u001b[36m5368.5164\u001b[0m  \u001b[32m31017740.8125\u001b[0m  \u001b[35m28820967.0000\u001b[0m  0.0386\n",
      "    449  \u001b[36m5367.9186\u001b[0m  \u001b[32m31011160.6146\u001b[0m  \u001b[35m28814549.1667\u001b[0m  0.0325\n",
      "    450  \u001b[36m5367.3211\u001b[0m  \u001b[32m31004590.1224\u001b[0m  \u001b[35m28808135.5833\u001b[0m  0.0332\n",
      "    451  \u001b[36m5366.7254\u001b[0m  \u001b[32m30998037.7604\u001b[0m  \u001b[35m28801741.9167\u001b[0m  0.0413\n",
      "    452  \u001b[36m5366.1288\u001b[0m  \u001b[32m30991504.2188\u001b[0m  \u001b[35m28795339.4583\u001b[0m  0.0331\n",
      "    453  \u001b[36m5365.5335\u001b[0m  \u001b[32m30984980.1094\u001b[0m  \u001b[35m28788950.3333\u001b[0m  0.0337\n",
      "    454  \u001b[36m5364.9393\u001b[0m  \u001b[32m30978470.4479\u001b[0m  \u001b[35m28782571.2917\u001b[0m  0.0372\n",
      "    455  \u001b[36m5364.3453\u001b[0m  \u001b[32m30971978.5990\u001b[0m  \u001b[35m28776200.1250\u001b[0m  0.0333\n",
      "    456  \u001b[36m5363.7524\u001b[0m  \u001b[32m30965503.0026\u001b[0m  \u001b[35m28769837.2917\u001b[0m  0.0424\n",
      "    457  \u001b[36m5363.1597\u001b[0m  \u001b[32m30959041.5443\u001b[0m  \u001b[35m28763485.2500\u001b[0m  0.0330\n",
      "    458  \u001b[36m5362.5686\u001b[0m  \u001b[32m30952594.3047\u001b[0m  \u001b[35m28757142.1667\u001b[0m  0.0329\n",
      "    459  \u001b[36m5361.9778\u001b[0m  \u001b[32m30946169.3542\u001b[0m  \u001b[35m28750804.3750\u001b[0m  0.0376\n",
      "    460  \u001b[36m5361.3884\u001b[0m  \u001b[32m30939753.8359\u001b[0m  \u001b[35m28744485.0417\u001b[0m  0.0316\n",
      "    461  \u001b[36m5360.7999\u001b[0m  \u001b[32m30933354.4062\u001b[0m  \u001b[35m28738174.5833\u001b[0m  0.0348\n",
      "    462  \u001b[36m5360.2127\u001b[0m  \u001b[32m30926968.4740\u001b[0m  \u001b[35m28731881.7500\u001b[0m  0.0396\n",
      "    463  \u001b[36m5359.6254\u001b[0m  \u001b[32m30920600.3151\u001b[0m  \u001b[35m28725586.2917\u001b[0m  0.0442\n",
      "    464  \u001b[36m5359.0397\u001b[0m  \u001b[32m30914247.0339\u001b[0m  \u001b[35m28719306.2917\u001b[0m  0.0460\n",
      "    465  \u001b[36m5358.4548\u001b[0m  \u001b[32m30907909.5026\u001b[0m  \u001b[35m28713037.0833\u001b[0m  0.0341\n",
      "    466  \u001b[36m5357.8705\u001b[0m  \u001b[32m30901589.5625\u001b[0m  \u001b[35m28706775.2917\u001b[0m  0.0389\n",
      "    467  \u001b[36m5357.2868\u001b[0m  \u001b[32m30895278.2552\u001b[0m  \u001b[35m28700525.2917\u001b[0m  0.0326\n",
      "    468  \u001b[36m5356.7044\u001b[0m  \u001b[32m30888986.0312\u001b[0m  \u001b[35m28694281.8750\u001b[0m  0.0341\n",
      "    469  \u001b[36m5356.1219\u001b[0m  \u001b[32m30882702.1120\u001b[0m  \u001b[35m28688043.0000\u001b[0m  0.0461\n",
      "    470  \u001b[36m5355.5409\u001b[0m  \u001b[32m30876439.6562\u001b[0m  \u001b[35m28681819.4583\u001b[0m  0.0339\n",
      "    471  \u001b[36m5354.9601\u001b[0m  \u001b[32m30870187.4974\u001b[0m  \u001b[35m28675596.5000\u001b[0m  0.0329\n",
      "    472  \u001b[36m5354.3806\u001b[0m  \u001b[32m30863953.4635\u001b[0m  \u001b[35m28669392.0417\u001b[0m  0.0334\n",
      "    473  \u001b[36m5353.8009\u001b[0m  \u001b[32m30857726.5443\u001b[0m  \u001b[35m28663185.2083\u001b[0m  0.0329\n",
      "    474  \u001b[36m5353.2220\u001b[0m  \u001b[32m30851517.7604\u001b[0m  \u001b[35m28656988.8750\u001b[0m  0.0378\n",
      "    475  \u001b[36m5352.6442\u001b[0m  \u001b[32m30845320.5938\u001b[0m  \u001b[35m28650801.5833\u001b[0m  0.0335\n",
      "    476  \u001b[36m5352.0675\u001b[0m  \u001b[32m30839139.3854\u001b[0m  \u001b[35m28644626.5833\u001b[0m  0.0327\n",
      "    477  \u001b[36m5351.4904\u001b[0m  \u001b[32m30832969.5625\u001b[0m  \u001b[35m28638450.3750\u001b[0m  0.0404\n",
      "    478  \u001b[36m5350.9152\u001b[0m  \u001b[32m30826815.4219\u001b[0m  \u001b[35m28632292.7083\u001b[0m  0.0314\n",
      "    479  \u001b[36m5350.3400\u001b[0m  \u001b[32m30820677.5234\u001b[0m  \u001b[35m28626136.9167\u001b[0m  0.0316\n",
      "    480  \u001b[36m5349.7654\u001b[0m  \u001b[32m30814548.3646\u001b[0m  \u001b[35m28619991.3750\u001b[0m  0.0376\n",
      "    481  \u001b[36m5349.1915\u001b[0m  \u001b[32m30808435.0625\u001b[0m  \u001b[35m28613852.4583\u001b[0m  0.0322\n",
      "    482  \u001b[36m5348.6187\u001b[0m  \u001b[32m30802333.3203\u001b[0m  \u001b[35m28607721.1667\u001b[0m  0.0310\n",
      "    483  \u001b[36m5348.0464\u001b[0m  \u001b[32m30796243.5885\u001b[0m  \u001b[35m28601599.7500\u001b[0m  0.0332\n",
      "    484  \u001b[36m5347.4749\u001b[0m  \u001b[32m30790166.1927\u001b[0m  \u001b[35m28595486.8750\u001b[0m  0.0323\n",
      "    485  \u001b[36m5346.9036\u001b[0m  \u001b[32m30784099.7708\u001b[0m  \u001b[35m28589377.8333\u001b[0m  0.0424\n",
      "    486  \u001b[36m5346.3339\u001b[0m  \u001b[32m30778052.7526\u001b[0m  \u001b[35m28583283.2917\u001b[0m  0.0331\n",
      "    487  \u001b[36m5345.7645\u001b[0m  \u001b[32m30772013.5052\u001b[0m  \u001b[35m28577199.8333\u001b[0m  0.0325\n",
      "    488  \u001b[36m5345.1965\u001b[0m  \u001b[32m30765988.6172\u001b[0m  \u001b[35m28571125.5000\u001b[0m  0.0417\n",
      "    489  \u001b[36m5344.6287\u001b[0m  \u001b[32m30759977.3828\u001b[0m  \u001b[35m28565055.3958\u001b[0m  0.0357\n",
      "    490  \u001b[36m5344.0621\u001b[0m  \u001b[32m30753978.6641\u001b[0m  \u001b[35m28558999.1250\u001b[0m  0.0351\n",
      "    491  \u001b[36m5343.4962\u001b[0m  \u001b[32m30747987.5964\u001b[0m  \u001b[35m28552949.8333\u001b[0m  0.0306\n",
      "    492  \u001b[36m5342.9305\u001b[0m  \u001b[32m30742007.9740\u001b[0m  \u001b[35m28546907.3750\u001b[0m  0.0309\n",
      "    493  \u001b[36m5342.3663\u001b[0m  \u001b[32m30736045.6875\u001b[0m  \u001b[35m28540875.3125\u001b[0m  0.0353\n",
      "    494  \u001b[36m5341.8025\u001b[0m  \u001b[32m30730096.9062\u001b[0m  \u001b[35m28534853.1042\u001b[0m  0.0314\n",
      "    495  \u001b[36m5341.2403\u001b[0m  \u001b[32m30724152.9323\u001b[0m  \u001b[35m28528849.1250\u001b[0m  0.0304\n",
      "    496  \u001b[36m5340.6780\u001b[0m  \u001b[32m30718226.3438\u001b[0m  \u001b[35m28522843.8333\u001b[0m  0.0359\n",
      "    497  \u001b[36m5340.1169\u001b[0m  \u001b[32m30712307.5911\u001b[0m  \u001b[35m28516847.5000\u001b[0m  0.0307\n",
      "    498  \u001b[36m5339.5558\u001b[0m  \u001b[32m30706401.3672\u001b[0m  \u001b[35m28510855.4375\u001b[0m  0.0312\n",
      "    499  \u001b[36m5338.9963\u001b[0m  \u001b[32m30700504.3203\u001b[0m  \u001b[35m28504882.3750\u001b[0m  0.0354\n",
      "    500  \u001b[36m5338.4367\u001b[0m  \u001b[32m30694623.6641\u001b[0m  \u001b[35m28498907.8542\u001b[0m  0.0321\n",
      "    501  \u001b[36m5337.8788\u001b[0m  \u001b[32m30688751.7500\u001b[0m  \u001b[35m28492948.7500\u001b[0m  0.0326\n",
      "    502  \u001b[36m5337.3205\u001b[0m  \u001b[32m30682893.5651\u001b[0m  \u001b[35m28486990.0625\u001b[0m  0.0372\n",
      "    503  \u001b[36m5336.7631\u001b[0m  \u001b[32m30677038.8021\u001b[0m  \u001b[35m28481038.0833\u001b[0m  0.0318\n",
      "    504  \u001b[36m5336.2046\u001b[0m  \u001b[32m30671199.9245\u001b[0m  \u001b[35m28475079.2500\u001b[0m  0.0309\n",
      "    505  \u001b[36m5335.6475\u001b[0m  \u001b[32m30665370.9323\u001b[0m  \u001b[35m28469133.5833\u001b[0m  0.0392\n",
      "    506  \u001b[36m5335.0908\u001b[0m  \u001b[32m30659551.8021\u001b[0m  \u001b[35m28463193.3750\u001b[0m  0.0332\n",
      "    507  \u001b[36m5334.5333\u001b[0m  \u001b[32m30653745.4219\u001b[0m  \u001b[35m28457246.1250\u001b[0m  0.0390\n",
      "    508  \u001b[36m5333.9777\u001b[0m  \u001b[32m30647948.3516\u001b[0m  \u001b[35m28451316.7500\u001b[0m  0.0333\n",
      "    509  \u001b[36m5333.4216\u001b[0m  \u001b[32m30642155.5156\u001b[0m  \u001b[35m28445387.1667\u001b[0m  0.0336\n",
      "    510  \u001b[36m5332.8679\u001b[0m  \u001b[32m30636379.3229\u001b[0m  \u001b[35m28439480.4375\u001b[0m  0.0379\n",
      "    511  \u001b[36m5332.3141\u001b[0m  \u001b[32m30630612.8255\u001b[0m  \u001b[35m28433572.6250\u001b[0m  0.0320\n",
      "    512  \u001b[36m5331.7612\u001b[0m  \u001b[32m30624859.9245\u001b[0m  \u001b[35m28427677.6250\u001b[0m  0.0317\n",
      "    513  \u001b[36m5331.2087\u001b[0m  \u001b[32m30619111.7604\u001b[0m  \u001b[35m28421788.5417\u001b[0m  0.0366\n",
      "    514  \u001b[36m5330.6570\u001b[0m  \u001b[32m30613376.4375\u001b[0m  \u001b[35m28415901.6250\u001b[0m  0.0330\n",
      "    515  \u001b[36m5330.1062\u001b[0m  \u001b[32m30607650.3880\u001b[0m  \u001b[35m28410034.6875\u001b[0m  0.0323\n",
      "    516  \u001b[36m5329.5559\u001b[0m  \u001b[32m30601937.1484\u001b[0m  \u001b[35m28404164.7917\u001b[0m  0.0312\n",
      "    517  \u001b[36m5329.0074\u001b[0m  \u001b[32m30596234.9141\u001b[0m  \u001b[35m28398322.0000\u001b[0m  0.0309\n",
      "    518  \u001b[36m5328.4639\u001b[0m  \u001b[32m30590551.4219\u001b[0m  \u001b[35m28392529.5833\u001b[0m  0.0394\n",
      "    519  \u001b[36m5327.9264\u001b[0m  \u001b[32m30584890.9115\u001b[0m  \u001b[35m28386799.4167\u001b[0m  0.0324\n",
      "    520  \u001b[36m5327.3943\u001b[0m  \u001b[32m30579251.2292\u001b[0m  \u001b[35m28381131.6458\u001b[0m  0.0332\n",
      "    521  \u001b[36m5326.8676\u001b[0m  \u001b[32m30573627.4089\u001b[0m  \u001b[35m28375516.5000\u001b[0m  0.0418\n",
      "    522  \u001b[36m5326.3438\u001b[0m  \u001b[32m30568019.3906\u001b[0m  \u001b[35m28369937.8750\u001b[0m  0.0327\n",
      "    523  \u001b[36m5325.8248\u001b[0m  \u001b[32m30562427.4375\u001b[0m  \u001b[35m28364407.1250\u001b[0m  0.0322\n",
      "    524  \u001b[36m5325.3086\u001b[0m  \u001b[32m30556849.6328\u001b[0m  \u001b[35m28358910.9583\u001b[0m  0.0386\n",
      "    525  \u001b[36m5324.7958\u001b[0m  \u001b[32m30551290.3854\u001b[0m  \u001b[35m28353450.9792\u001b[0m  0.0325\n",
      "    526  \u001b[36m5324.2855\u001b[0m  \u001b[32m30545748.1094\u001b[0m  \u001b[35m28348017.9583\u001b[0m  0.0319\n",
      "    527  \u001b[36m5323.7782\u001b[0m  \u001b[32m30540222.0573\u001b[0m  \u001b[35m28342613.1458\u001b[0m  0.0327\n",
      "    528  \u001b[36m5323.2732\u001b[0m  \u001b[32m30534707.2682\u001b[0m  \u001b[35m28337235.5833\u001b[0m  0.0326\n",
      "    529  \u001b[36m5322.7701\u001b[0m  \u001b[32m30529215.3958\u001b[0m  \u001b[35m28331883.6667\u001b[0m  0.0368\n",
      "    530  \u001b[36m5322.2696\u001b[0m  \u001b[32m30523737.2786\u001b[0m  \u001b[35m28326554.3125\u001b[0m  0.0331\n",
      "    531  \u001b[36m5321.7709\u001b[0m  \u001b[32m30518268.1042\u001b[0m  \u001b[35m28321245.7500\u001b[0m  0.0333\n",
      "    532  \u001b[36m5321.2745\u001b[0m  \u001b[32m30512813.3672\u001b[0m  \u001b[35m28315961.9167\u001b[0m  0.0440\n",
      "    533  \u001b[36m5320.7795\u001b[0m  \u001b[32m30507375.8411\u001b[0m  \u001b[35m28310692.9583\u001b[0m  0.0320\n",
      "    534  \u001b[36m5320.2870\u001b[0m  \u001b[32m30501951.1589\u001b[0m  \u001b[35m28305453.5000\u001b[0m  0.0326\n",
      "    535  \u001b[36m5319.7949\u001b[0m  \u001b[32m30496537.1771\u001b[0m  \u001b[35m28300220.6250\u001b[0m  0.0329\n",
      "    536  \u001b[36m5319.3054\u001b[0m  \u001b[32m30491147.1120\u001b[0m  \u001b[35m28295009.8750\u001b[0m  0.0310\n",
      "    537  \u001b[36m5318.8170\u001b[0m  \u001b[32m30485764.0729\u001b[0m  \u001b[35m28289812.2708\u001b[0m  0.0414\n",
      "    538  \u001b[36m5318.3300\u001b[0m  \u001b[32m30480393.1745\u001b[0m  \u001b[35m28284632.4792\u001b[0m  0.0318\n",
      "    539  \u001b[36m5317.8439\u001b[0m  \u001b[32m30475041.6797\u001b[0m  \u001b[35m28279463.7500\u001b[0m  0.0318\n",
      "    540  \u001b[36m5317.3597\u001b[0m  \u001b[32m30469696.4635\u001b[0m  \u001b[35m28274314.9792\u001b[0m  0.0386\n",
      "    541  \u001b[36m5316.8767\u001b[0m  \u001b[32m30464369.6979\u001b[0m  \u001b[35m28269178.1667\u001b[0m  0.0324\n",
      "    542  \u001b[36m5316.3956\u001b[0m  \u001b[32m30459050.1641\u001b[0m  \u001b[35m28264062.8750\u001b[0m  0.0332\n",
      "    543  \u001b[36m5315.9150\u001b[0m  \u001b[32m30453744.8542\u001b[0m  \u001b[35m28258950.7083\u001b[0m  0.0374\n",
      "    544  \u001b[36m5315.4356\u001b[0m  \u001b[32m30448452.6849\u001b[0m  \u001b[35m28253856.0833\u001b[0m  0.0336\n",
      "    545  \u001b[36m5314.9570\u001b[0m  \u001b[32m30443174.4089\u001b[0m  \u001b[35m28248766.0833\u001b[0m  0.0375\n",
      "    546  \u001b[36m5314.4798\u001b[0m  \u001b[32m30437907.0208\u001b[0m  \u001b[35m28243696.3750\u001b[0m  0.0331\n",
      "    547  \u001b[36m5314.0036\u001b[0m  \u001b[32m30432651.3385\u001b[0m  \u001b[35m28238633.5833\u001b[0m  0.0341\n",
      "    548  \u001b[36m5313.5290\u001b[0m  \u001b[32m30427402.7318\u001b[0m  \u001b[35m28233590.7917\u001b[0m  0.0398\n",
      "    549  \u001b[36m5313.0551\u001b[0m  \u001b[32m30422173.4453\u001b[0m  \u001b[35m28228554.6667\u001b[0m  0.0329\n",
      "    550  \u001b[36m5312.5815\u001b[0m  \u001b[32m30416953.5417\u001b[0m  \u001b[35m28223523.7917\u001b[0m  0.0330\n",
      "    551  \u001b[36m5312.1092\u001b[0m  \u001b[32m30411746.6823\u001b[0m  \u001b[35m28218504.7292\u001b[0m  0.0382\n",
      "    552  \u001b[36m5311.6385\u001b[0m  \u001b[32m30406552.8359\u001b[0m  \u001b[35m28213500.5833\u001b[0m  0.0358\n",
      "    553  \u001b[36m5311.1684\u001b[0m  \u001b[32m30401364.8672\u001b[0m  \u001b[35m28208508.8333\u001b[0m  0.0371\n",
      "    554  \u001b[36m5310.6986\u001b[0m  \u001b[32m30396189.2344\u001b[0m  \u001b[35m28203521.4583\u001b[0m  0.0368\n",
      "    555  \u001b[36m5310.2301\u001b[0m  \u001b[32m30391025.2188\u001b[0m  \u001b[35m28198544.9167\u001b[0m  0.0358\n",
      "    556  \u001b[36m5309.7633\u001b[0m  \u001b[32m30385871.3411\u001b[0m  \u001b[35m28193585.2083\u001b[0m  0.0385\n",
      "    557  \u001b[36m5309.2962\u001b[0m  \u001b[32m30380731.2786\u001b[0m  \u001b[35m28188626.5417\u001b[0m  0.0330\n",
      "    558  \u001b[36m5308.8304\u001b[0m  \u001b[32m30375596.6745\u001b[0m  \u001b[35m28183680.5208\u001b[0m  0.0319\n",
      "    559  \u001b[36m5308.3655\u001b[0m  \u001b[32m30370482.3333\u001b[0m  \u001b[35m28178744.1667\u001b[0m  0.0327\n",
      "    560  \u001b[36m5307.9013\u001b[0m  \u001b[32m30365370.8099\u001b[0m  \u001b[35m28173817.2708\u001b[0m  0.0333\n",
      "    561  \u001b[36m5307.4378\u001b[0m  \u001b[32m30360276.0990\u001b[0m  \u001b[35m28168895.6250\u001b[0m  0.0368\n",
      "    562  \u001b[36m5306.9748\u001b[0m  \u001b[32m30355183.7526\u001b[0m  \u001b[35m28163983.0833\u001b[0m  0.0314\n",
      "    563  \u001b[36m5306.5137\u001b[0m  \u001b[32m30350108.3099\u001b[0m  \u001b[35m28159088.2500\u001b[0m  0.0318\n",
      "    564  \u001b[36m5306.0530\u001b[0m  \u001b[32m30345033.0000\u001b[0m  \u001b[35m28154196.6667\u001b[0m  0.0356\n",
      "    565  \u001b[36m5305.5923\u001b[0m  \u001b[32m30339975.7656\u001b[0m  \u001b[35m28149309.6042\u001b[0m  0.0316\n",
      "    566  \u001b[36m5305.1309\u001b[0m  \u001b[32m30334924.0104\u001b[0m  \u001b[35m28144413.1250\u001b[0m  0.0316\n",
      "    567  \u001b[36m5304.6706\u001b[0m  \u001b[32m30329884.8307\u001b[0m  \u001b[35m28139532.7083\u001b[0m  0.0406\n",
      "    568  \u001b[36m5304.2112\u001b[0m  \u001b[32m30324852.9401\u001b[0m  \u001b[35m28134656.4583\u001b[0m  0.0332\n",
      "    569  \u001b[36m5303.7521\u001b[0m  \u001b[32m30319834.4557\u001b[0m  \u001b[35m28129784.5417\u001b[0m  0.0325\n",
      "    570  \u001b[36m5303.2933\u001b[0m  \u001b[32m30314824.3750\u001b[0m  \u001b[35m28124919.9583\u001b[0m  0.0374\n",
      "    571  \u001b[36m5302.8345\u001b[0m  \u001b[32m30309822.3594\u001b[0m  \u001b[35m28120054.1875\u001b[0m  0.0397\n",
      "    572  \u001b[36m5302.3778\u001b[0m  \u001b[32m30304833.2982\u001b[0m  \u001b[35m28115211.5833\u001b[0m  0.0340\n",
      "    573  \u001b[36m5301.9210\u001b[0m  \u001b[32m30299849.7682\u001b[0m  \u001b[35m28110366.5833\u001b[0m  0.0327\n",
      "    574  \u001b[36m5301.4649\u001b[0m  \u001b[32m30294878.8125\u001b[0m  \u001b[35m28105531.1250\u001b[0m  0.0364\n",
      "    575  \u001b[36m5301.0107\u001b[0m  \u001b[32m30289913.1133\u001b[0m  \u001b[35m28100714.6667\u001b[0m  0.0472\n",
      "    576  \u001b[36m5300.5600\u001b[0m  \u001b[32m30284963.2435\u001b[0m  \u001b[35m28095935.8958\u001b[0m  0.0345\n",
      "    577  \u001b[36m5300.1126\u001b[0m  \u001b[32m30280024.9297\u001b[0m  \u001b[35m28091195.4583\u001b[0m  0.0374\n",
      "    578  \u001b[36m5299.6685\u001b[0m  \u001b[32m30275091.5143\u001b[0m  \u001b[35m28086485.5833\u001b[0m  0.0339\n",
      "    579  \u001b[36m5299.2256\u001b[0m  \u001b[32m30270172.5260\u001b[0m  \u001b[35m28081793.5208\u001b[0m  0.0365\n",
      "    580  \u001b[36m5298.7872\u001b[0m  \u001b[32m30265262.1484\u001b[0m  \u001b[35m28077145.4167\u001b[0m  0.0423\n",
      "    581  \u001b[36m5298.3494\u001b[0m  \u001b[32m30260354.9453\u001b[0m  \u001b[35m28072506.5833\u001b[0m  0.0363\n",
      "    582  \u001b[36m5297.9128\u001b[0m  \u001b[32m30255468.0690\u001b[0m  \u001b[35m28067881.1875\u001b[0m  0.0403\n",
      "    583  \u001b[36m5297.4788\u001b[0m  \u001b[32m30250587.1966\u001b[0m  \u001b[35m28063285.1042\u001b[0m  0.0334\n",
      "    584  \u001b[36m5297.0458\u001b[0m  \u001b[32m30245711.1250\u001b[0m  \u001b[35m28058691.8958\u001b[0m  0.0326\n",
      "    585  \u001b[36m5296.6140\u001b[0m  \u001b[32m30240845.8672\u001b[0m  \u001b[35m28054122.6875\u001b[0m  0.0395\n",
      "    586  \u001b[36m5296.1835\u001b[0m  \u001b[32m30235991.5729\u001b[0m  \u001b[35m28049559.8542\u001b[0m  0.0333\n",
      "    587  \u001b[36m5295.7540\u001b[0m  \u001b[32m30231143.9661\u001b[0m  \u001b[35m28045011.2500\u001b[0m  0.0329\n",
      "    588  \u001b[36m5295.3253\u001b[0m  \u001b[32m30226307.9922\u001b[0m  \u001b[35m28040468.5833\u001b[0m  0.0391\n",
      "    589  \u001b[36m5294.8972\u001b[0m  \u001b[32m30221479.3125\u001b[0m  \u001b[35m28035935.2500\u001b[0m  0.0353\n",
      "    590  \u001b[36m5294.4705\u001b[0m  \u001b[32m30216665.0039\u001b[0m  \u001b[35m28031417.1250\u001b[0m  0.0432\n",
      "    591  \u001b[36m5294.0444\u001b[0m  \u001b[32m30211844.1536\u001b[0m  \u001b[35m28026908.2083\u001b[0m  0.0340\n",
      "    592  \u001b[36m5293.6188\u001b[0m  \u001b[32m30207042.3867\u001b[0m  \u001b[35m28022399.2917\u001b[0m  0.0335\n",
      "    593  \u001b[36m5293.1941\u001b[0m  \u001b[32m30202249.6966\u001b[0m  \u001b[35m28017901.5208\u001b[0m  0.0413\n",
      "    594  \u001b[36m5292.7692\u001b[0m  \u001b[32m30197463.9193\u001b[0m  \u001b[35m28013405.3542\u001b[0m  0.0332\n",
      "    595  \u001b[36m5292.3448\u001b[0m  \u001b[32m30192685.7891\u001b[0m  \u001b[35m28008913.7917\u001b[0m  0.0384\n",
      "    596  \u001b[36m5291.9208\u001b[0m  \u001b[32m30187913.9062\u001b[0m  \u001b[35m28004425.2917\u001b[0m  0.0327\n",
      "    597  \u001b[36m5291.4973\u001b[0m  \u001b[32m30183153.2396\u001b[0m  \u001b[35m27999943.1250\u001b[0m  0.0319\n",
      "    598  \u001b[36m5291.0740\u001b[0m  \u001b[32m30178404.1953\u001b[0m  \u001b[35m27995463.8333\u001b[0m  0.0367\n",
      "    599  \u001b[36m5290.6506\u001b[0m  \u001b[32m30173650.6849\u001b[0m  \u001b[35m27990983.7500\u001b[0m  0.0324\n",
      "    600  \u001b[36m5290.2289\u001b[0m  \u001b[32m30168909.1107\u001b[0m  \u001b[35m27986522.9583\u001b[0m  0.0338\n",
      "    601  \u001b[36m5289.8062\u001b[0m  \u001b[32m30164177.9844\u001b[0m  \u001b[35m27982050.4375\u001b[0m  0.0413\n",
      "    602  \u001b[36m5289.3856\u001b[0m  \u001b[32m30159457.7474\u001b[0m  \u001b[35m27977601.7500\u001b[0m  0.0331\n",
      "    603  \u001b[36m5288.9649\u001b[0m  \u001b[32m30154743.9974\u001b[0m  \u001b[35m27973149.0000\u001b[0m  0.0388\n",
      "    604  \u001b[36m5288.5444\u001b[0m  \u001b[32m30150035.1953\u001b[0m  \u001b[35m27968700.4583\u001b[0m  0.0331\n",
      "    605  \u001b[36m5288.1256\u001b[0m  \u001b[32m30145333.7031\u001b[0m  \u001b[35m27964271.9167\u001b[0m  0.0325\n",
      "    606  \u001b[36m5287.7059\u001b[0m  \u001b[32m30140637.2057\u001b[0m  \u001b[35m27959834.2292\u001b[0m  0.0390\n",
      "    607  \u001b[36m5287.2880\u001b[0m  \u001b[32m30135950.1484\u001b[0m  \u001b[35m27955413.5208\u001b[0m  0.0388\n",
      "    608  \u001b[36m5286.8700\u001b[0m  \u001b[32m30131270.4141\u001b[0m  \u001b[35m27950994.2917\u001b[0m  0.0334\n",
      "    609  \u001b[36m5286.4527\u001b[0m  \u001b[32m30126598.3398\u001b[0m  \u001b[35m27946582.8333\u001b[0m  0.0379\n",
      "    610  \u001b[36m5286.0359\u001b[0m  \u001b[32m30121932.3151\u001b[0m  \u001b[35m27942177.5833\u001b[0m  0.0332\n",
      "    611  \u001b[36m5285.6188\u001b[0m  \u001b[32m30117284.0365\u001b[0m  \u001b[35m27937767.7917\u001b[0m  0.0373\n",
      "    612  \u001b[36m5285.2033\u001b[0m  \u001b[32m30112628.9401\u001b[0m  \u001b[35m27933374.6250\u001b[0m  0.0321\n",
      "    613  \u001b[36m5284.7874\u001b[0m  \u001b[32m30107986.7565\u001b[0m  \u001b[35m27928979.6875\u001b[0m  0.0354\n",
      "    614  \u001b[36m5284.3730\u001b[0m  \u001b[32m30103347.4206\u001b[0m  \u001b[35m27924597.3333\u001b[0m  0.0393\n",
      "    615  \u001b[36m5283.9582\u001b[0m  \u001b[32m30098721.0990\u001b[0m  \u001b[35m27920214.0417\u001b[0m  0.0306\n",
      "    616  \u001b[36m5283.5448\u001b[0m  \u001b[32m30094094.7201\u001b[0m  \u001b[35m27915843.4583\u001b[0m  0.0313\n",
      "    617  \u001b[36m5283.1309\u001b[0m  \u001b[32m30089480.5547\u001b[0m  \u001b[35m27911470.5833\u001b[0m  0.0376\n",
      "    618  \u001b[36m5282.7175\u001b[0m  \u001b[32m30084868.4089\u001b[0m  \u001b[35m27907104.1875\u001b[0m  0.0331\n",
      "    619  \u001b[36m5282.3050\u001b[0m  \u001b[32m30080264.9648\u001b[0m  \u001b[35m27902748.4167\u001b[0m  0.0328\n",
      "    620  \u001b[36m5281.8928\u001b[0m  \u001b[32m30075670.0807\u001b[0m  \u001b[35m27898393.2917\u001b[0m  0.0334\n",
      "    621  \u001b[36m5281.4810\u001b[0m  \u001b[32m30071077.4583\u001b[0m  \u001b[35m27894042.7500\u001b[0m  0.0329\n",
      "    622  \u001b[36m5281.0703\u001b[0m  \u001b[32m30066492.4401\u001b[0m  \u001b[35m27889704.3750\u001b[0m  0.0422\n",
      "    623  \u001b[36m5280.6598\u001b[0m  \u001b[32m30061917.5495\u001b[0m  \u001b[35m27885365.5833\u001b[0m  0.0316\n",
      "    624  \u001b[36m5280.2490\u001b[0m  \u001b[32m30057347.8216\u001b[0m  \u001b[35m27881027.3750\u001b[0m  0.0304\n",
      "    625  \u001b[36m5279.8396\u001b[0m  \u001b[32m30052781.0182\u001b[0m  \u001b[35m27876706.8958\u001b[0m  0.0378\n",
      "    626  \u001b[36m5279.4295\u001b[0m  \u001b[32m30048224.0469\u001b[0m  \u001b[35m27872376.3125\u001b[0m  0.0319\n",
      "    627  \u001b[36m5279.0211\u001b[0m  \u001b[32m30043670.7487\u001b[0m  \u001b[35m27868064.1042\u001b[0m  0.0335\n",
      "    628  \u001b[36m5278.6125\u001b[0m  \u001b[32m30039126.4818\u001b[0m  \u001b[35m27863748.6042\u001b[0m  0.0369\n",
      "    629  \u001b[36m5278.2048\u001b[0m  \u001b[32m30034585.2057\u001b[0m  \u001b[35m27859443.7083\u001b[0m  0.0324\n",
      "    630  \u001b[36m5277.7963\u001b[0m  \u001b[32m30030047.7695\u001b[0m  \u001b[35m27855134.7500\u001b[0m  0.0364\n",
      "    631  \u001b[36m5277.3893\u001b[0m  \u001b[32m30025526.5000\u001b[0m  \u001b[35m27850837.8333\u001b[0m  0.0313\n",
      "    632  \u001b[36m5276.9834\u001b[0m  \u001b[32m30021001.3477\u001b[0m  \u001b[35m27846553.9167\u001b[0m  0.0318\n",
      "    633  \u001b[36m5276.5769\u001b[0m  \u001b[32m30016486.1432\u001b[0m  \u001b[35m27842263.4583\u001b[0m  0.0366\n",
      "    634  \u001b[36m5276.1711\u001b[0m  \u001b[32m30011971.7708\u001b[0m  \u001b[35m27837982.7292\u001b[0m  0.0327\n",
      "    635  \u001b[36m5275.7665\u001b[0m  \u001b[32m30007472.1146\u001b[0m  \u001b[35m27833711.7083\u001b[0m  0.0317\n",
      "    636  \u001b[36m5275.3608\u001b[0m  \u001b[32m30002976.1159\u001b[0m  \u001b[35m27829432.6875\u001b[0m  0.0367\n",
      "    637  \u001b[36m5274.9569\u001b[0m  \u001b[32m29998479.0898\u001b[0m  \u001b[35m27825169.5417\u001b[0m  0.0313\n",
      "    638  \u001b[36m5274.5533\u001b[0m  \u001b[32m29993992.0443\u001b[0m  \u001b[35m27820909.5625\u001b[0m  0.0314\n",
      "    639  \u001b[36m5274.1500\u001b[0m  \u001b[32m29989514.4609\u001b[0m  \u001b[35m27816657.3333\u001b[0m  0.0406\n",
      "    640  \u001b[36m5273.7471\u001b[0m  \u001b[32m29985035.4518\u001b[0m  \u001b[35m27812407.6042\u001b[0m  0.0321\n",
      "    641  \u001b[36m5273.3452\u001b[0m  \u001b[32m29980564.8490\u001b[0m  \u001b[35m27808170.3750\u001b[0m  0.0330\n",
      "    642  \u001b[36m5272.9438\u001b[0m  \u001b[32m29976105.6484\u001b[0m  \u001b[35m27803937.1458\u001b[0m  0.0325\n",
      "    643  \u001b[36m5272.5432\u001b[0m  \u001b[32m29971648.5573\u001b[0m  \u001b[35m27799709.1042\u001b[0m  0.0318\n",
      "    644  \u001b[36m5272.1426\u001b[0m  \u001b[32m29967189.8958\u001b[0m  \u001b[35m27795487.1667\u001b[0m  0.0403\n",
      "    645  \u001b[36m5271.7434\u001b[0m  \u001b[32m29962744.7474\u001b[0m  \u001b[35m27791276.7917\u001b[0m  0.0316\n",
      "    646  \u001b[36m5271.3435\u001b[0m  \u001b[32m29958303.0846\u001b[0m  \u001b[35m27787060.5833\u001b[0m  0.0313\n",
      "    647  \u001b[36m5270.9455\u001b[0m  \u001b[32m29953864.5938\u001b[0m  \u001b[35m27782865.1042\u001b[0m  0.0371\n",
      "    648  \u001b[36m5270.5476\u001b[0m  \u001b[32m29949437.1380\u001b[0m  \u001b[35m27778671.0000\u001b[0m  0.0301\n",
      "    649  \u001b[36m5270.1499\u001b[0m  \u001b[32m29945008.8125\u001b[0m  \u001b[35m27774478.8750\u001b[0m  0.0309\n",
      "    650  \u001b[36m5269.7529\u001b[0m  \u001b[32m29940589.2891\u001b[0m  \u001b[35m27770297.4583\u001b[0m  0.0405\n",
      "    651  \u001b[36m5269.3565\u001b[0m  \u001b[32m29936172.7148\u001b[0m  \u001b[35m27766120.5417\u001b[0m  0.0299\n",
      "    652  \u001b[36m5268.9606\u001b[0m  \u001b[32m29931761.3958\u001b[0m  \u001b[35m27761945.8958\u001b[0m  0.0317\n",
      "    653  \u001b[36m5268.5649\u001b[0m  \u001b[32m29927354.7852\u001b[0m  \u001b[35m27757776.3125\u001b[0m  0.0361\n",
      "    654  \u001b[36m5268.1703\u001b[0m  \u001b[32m29922953.4427\u001b[0m  \u001b[35m27753619.7292\u001b[0m  0.0299\n",
      "    655  \u001b[36m5267.7758\u001b[0m  \u001b[32m29918563.6263\u001b[0m  \u001b[35m27749461.1458\u001b[0m  0.0318\n",
      "    656  \u001b[36m5267.3819\u001b[0m  \u001b[32m29914172.4036\u001b[0m  \u001b[35m27745311.7083\u001b[0m  0.0365\n",
      "    657  \u001b[36m5266.9876\u001b[0m  \u001b[32m29909787.3255\u001b[0m  \u001b[35m27741159.3125\u001b[0m  0.0329\n",
      "    658  \u001b[36m5266.5951\u001b[0m  \u001b[32m29905408.1133\u001b[0m  \u001b[35m27737023.2917\u001b[0m  0.0325\n",
      "    659  \u001b[36m5266.2026\u001b[0m  \u001b[32m29901032.5612\u001b[0m  \u001b[35m27732890.9167\u001b[0m  0.0304\n",
      "    660  \u001b[36m5265.8110\u001b[0m  \u001b[32m29896660.9102\u001b[0m  \u001b[35m27728763.2083\u001b[0m  0.0301\n",
      "    661  \u001b[36m5265.4191\u001b[0m  \u001b[32m29892297.2135\u001b[0m  \u001b[35m27724638.0417\u001b[0m  0.0377\n",
      "    662  \u001b[36m5265.0278\u001b[0m  \u001b[32m29887936.4766\u001b[0m  \u001b[35m27720516.5000\u001b[0m  0.0318\n",
      "    663  \u001b[36m5264.6369\u001b[0m  \u001b[32m29883576.3906\u001b[0m  \u001b[35m27716400.7500\u001b[0m  0.0329\n",
      "    664  \u001b[36m5264.2468\u001b[0m  \u001b[32m29879225.1016\u001b[0m  \u001b[35m27712294.4583\u001b[0m  0.0408\n",
      "    665  \u001b[36m5263.8571\u001b[0m  \u001b[32m29874875.2253\u001b[0m  \u001b[35m27708192.9167\u001b[0m  0.0309\n",
      "    666  \u001b[36m5263.4681\u001b[0m  \u001b[32m29870539.0599\u001b[0m  \u001b[35m27704093.7083\u001b[0m  0.0301\n",
      "    667  \u001b[36m5263.0795\u001b[0m  \u001b[32m29866195.7005\u001b[0m  \u001b[35m27700004.5417\u001b[0m  0.0372\n",
      "    668  \u001b[36m5262.6906\u001b[0m  \u001b[32m29861866.2396\u001b[0m  \u001b[35m27695912.9583\u001b[0m  0.0319\n",
      "    669  \u001b[36m5262.3027\u001b[0m  \u001b[32m29857536.1667\u001b[0m  \u001b[35m27691830.7292\u001b[0m  0.0310\n",
      "    670  \u001b[36m5261.9154\u001b[0m  \u001b[32m29853218.1693\u001b[0m  \u001b[35m27687756.7083\u001b[0m  0.0366\n",
      "    671  \u001b[36m5261.5291\u001b[0m  \u001b[32m29848896.1615\u001b[0m  \u001b[35m27683687.5208\u001b[0m  0.0310\n",
      "    672  \u001b[36m5261.1421\u001b[0m  \u001b[32m29844578.3672\u001b[0m  \u001b[35m27679616.5625\u001b[0m  0.0305\n",
      "    673  \u001b[36m5260.7568\u001b[0m  \u001b[32m29840269.1914\u001b[0m  \u001b[35m27675561.9375\u001b[0m  0.0368\n",
      "    674  \u001b[36m5260.3703\u001b[0m  \u001b[32m29835959.1719\u001b[0m  \u001b[35m27671495.2083\u001b[0m  0.0310\n",
      "    675  \u001b[36m5259.9863\u001b[0m  \u001b[32m29831645.2904\u001b[0m  \u001b[35m27667455.4583\u001b[0m  0.0323\n",
      "    676  \u001b[36m5259.6015\u001b[0m  \u001b[32m29827341.1706\u001b[0m  \u001b[35m27663408.2917\u001b[0m  0.0319\n",
      "    677  \u001b[36m5259.2188\u001b[0m  \u001b[32m29823034.8490\u001b[0m  \u001b[35m27659382.2083\u001b[0m  0.0323\n",
      "    678  \u001b[36m5258.8358\u001b[0m  \u001b[32m29818728.3060\u001b[0m  \u001b[35m27655354.7917\u001b[0m  0.0361\n",
      "    679  \u001b[36m5258.4528\u001b[0m  \u001b[32m29814423.6302\u001b[0m  \u001b[35m27651325.0833\u001b[0m  0.0303\n",
      "    680  \u001b[36m5258.0711\u001b[0m  \u001b[32m29810121.1354\u001b[0m  \u001b[35m27647310.7083\u001b[0m  0.0318\n",
      "    681  \u001b[36m5257.6900\u001b[0m  \u001b[32m29805822.9115\u001b[0m  \u001b[35m27643302.7292\u001b[0m  0.0403\n",
      "    682  \u001b[36m5257.3088\u001b[0m  \u001b[32m29801516.4557\u001b[0m  \u001b[35m27639296.4583\u001b[0m  0.0302\n",
      "    683  \u001b[36m5256.9282\u001b[0m  \u001b[32m29797214.4870\u001b[0m  \u001b[35m27635294.3750\u001b[0m  0.0311\n",
      "    684  \u001b[36m5256.5487\u001b[0m  \u001b[32m29792910.1654\u001b[0m  \u001b[35m27631303.0833\u001b[0m  0.0335\n",
      "    685  \u001b[36m5256.1689\u001b[0m  \u001b[32m29788605.0208\u001b[0m  \u001b[35m27627312.4375\u001b[0m  0.0339\n",
      "    686  \u001b[36m5255.7905\u001b[0m  \u001b[32m29784304.0312\u001b[0m  \u001b[35m27623330.7083\u001b[0m  0.0501\n",
      "    687  \u001b[36m5255.4119\u001b[0m  \u001b[32m29779999.1562\u001b[0m  \u001b[35m27619354.9792\u001b[0m  0.0393\n",
      "    688  \u001b[36m5255.0349\u001b[0m  \u001b[32m29775694.9297\u001b[0m  \u001b[35m27615389.2917\u001b[0m  0.0390\n",
      "    689  \u001b[36m5254.6568\u001b[0m  \u001b[32m29771391.6367\u001b[0m  \u001b[35m27611418.8125\u001b[0m  0.0518\n",
      "    690  \u001b[36m5254.2800\u001b[0m  \u001b[32m29767084.8385\u001b[0m  \u001b[35m27607458.3125\u001b[0m  0.0405\n",
      "    691  \u001b[36m5253.9052\u001b[0m  \u001b[32m29762778.4232\u001b[0m  \u001b[35m27603519.3333\u001b[0m  0.0452\n",
      "    692  \u001b[36m5253.5285\u001b[0m  \u001b[32m29758468.9674\u001b[0m  \u001b[35m27599566.0000\u001b[0m  0.0348\n",
      "    693  \u001b[36m5253.1545\u001b[0m  \u001b[32m29754160.9245\u001b[0m  \u001b[35m27595631.9583\u001b[0m  0.0326\n",
      "    694  \u001b[36m5252.7793\u001b[0m  \u001b[32m29749850.5534\u001b[0m  \u001b[35m27591690.8958\u001b[0m  0.0316\n",
      "    695  \u001b[36m5252.4061\u001b[0m  \u001b[32m29745535.6615\u001b[0m  \u001b[35m27587773.7917\u001b[0m  0.0307\n",
      "    696  \u001b[36m5252.0341\u001b[0m  \u001b[32m29741222.7852\u001b[0m  \u001b[35m27583862.5000\u001b[0m  0.0358\n",
      "    697  \u001b[36m5251.6616\u001b[0m  \u001b[32m29736903.5586\u001b[0m  \u001b[35m27579949.1667\u001b[0m  0.0328\n",
      "    698  \u001b[36m5251.2901\u001b[0m  \u001b[32m29732589.1276\u001b[0m  \u001b[35m27576049.1875\u001b[0m  0.0352\n",
      "    699  \u001b[36m5250.9197\u001b[0m  \u001b[32m29728262.2057\u001b[0m  \u001b[35m27572157.9792\u001b[0m  0.0433\n",
      "    700  \u001b[36m5250.5484\u001b[0m  \u001b[32m29723936.7109\u001b[0m  \u001b[35m27568259.1250\u001b[0m  0.0345\n",
      "    701  \u001b[36m5250.1773\u001b[0m  \u001b[32m29719615.5352\u001b[0m  \u001b[35m27564363.4792\u001b[0m  0.0365\n",
      "    702  \u001b[36m5249.8082\u001b[0m  \u001b[32m29715278.3047\u001b[0m  \u001b[35m27560483.4583\u001b[0m  0.0367\n",
      "    703  \u001b[36m5249.4379\u001b[0m  \u001b[32m29710948.7474\u001b[0m  \u001b[35m27556598.8958\u001b[0m  0.0342\n",
      "    704  \u001b[36m5249.0675\u001b[0m  \u001b[32m29706608.7760\u001b[0m  \u001b[35m27552706.8333\u001b[0m  0.0383\n",
      "    705  \u001b[36m5248.6983\u001b[0m  \u001b[32m29702266.6042\u001b[0m  \u001b[35m27548835.5208\u001b[0m  0.0331\n",
      "    706  \u001b[36m5248.3293\u001b[0m  \u001b[32m29697922.8268\u001b[0m  \u001b[35m27544959.1250\u001b[0m  0.0311\n",
      "    707  \u001b[36m5247.9598\u001b[0m  \u001b[32m29693574.4844\u001b[0m  \u001b[35m27541082.7292\u001b[0m  0.0398\n",
      "    708  \u001b[36m5247.5916\u001b[0m  \u001b[32m29689219.9688\u001b[0m  \u001b[35m27537217.6458\u001b[0m  0.0310\n",
      "    709  \u001b[36m5247.2235\u001b[0m  \u001b[32m29684866.4701\u001b[0m  \u001b[35m27533352.6250\u001b[0m  0.0317\n",
      "    710  \u001b[36m5246.8552\u001b[0m  \u001b[32m29680501.8997\u001b[0m  \u001b[35m27529491.8750\u001b[0m  0.0312\n",
      "    711  \u001b[36m5246.4876\u001b[0m  \u001b[32m29676130.6641\u001b[0m  \u001b[35m27525632.5000\u001b[0m  0.0317\n",
      "    712  \u001b[36m5246.1201\u001b[0m  \u001b[32m29671755.7396\u001b[0m  \u001b[35m27521776.2500\u001b[0m  0.0383\n",
      "    713  \u001b[36m5245.7526\u001b[0m  \u001b[32m29667378.2539\u001b[0m  \u001b[35m27517920.9375\u001b[0m  0.0327\n",
      "    714  \u001b[36m5245.3852\u001b[0m  \u001b[32m29662993.0938\u001b[0m  \u001b[35m27514067.5833\u001b[0m  0.0327\n",
      "    715  \u001b[36m5245.0184\u001b[0m  \u001b[32m29658598.1576\u001b[0m  \u001b[35m27510220.9583\u001b[0m  0.0430\n",
      "    716  \u001b[36m5244.6521\u001b[0m  \u001b[32m29654201.8268\u001b[0m  \u001b[35m27506375.5417\u001b[0m  0.0363\n",
      "    717  \u001b[36m5244.2851\u001b[0m  \u001b[32m29649792.5104\u001b[0m  \u001b[35m27502525.6250\u001b[0m  0.0380\n",
      "    718  \u001b[36m5243.9186\u001b[0m  \u001b[32m29645389.1615\u001b[0m  \u001b[35m27498683.1667\u001b[0m  0.0326\n",
      "    719  \u001b[36m5243.5524\u001b[0m  \u001b[32m29640969.9805\u001b[0m  \u001b[35m27494845.1250\u001b[0m  0.0321\n",
      "    720  \u001b[36m5243.1862\u001b[0m  \u001b[32m29636547.3724\u001b[0m  \u001b[35m27491003.0000\u001b[0m  0.0365\n",
      "    721  \u001b[36m5242.8200\u001b[0m  \u001b[32m29632113.2526\u001b[0m  \u001b[35m27487163.9375\u001b[0m  0.0318\n",
      "    722  \u001b[36m5242.4550\u001b[0m  \u001b[32m29627671.0365\u001b[0m  \u001b[35m27483333.8333\u001b[0m  0.0325\n",
      "    723  \u001b[36m5242.0891\u001b[0m  \u001b[32m29623218.7174\u001b[0m  \u001b[35m27479499.1875\u001b[0m  0.0367\n",
      "    724  \u001b[36m5241.7241\u001b[0m  \u001b[32m29618754.8268\u001b[0m  \u001b[35m27475669.6667\u001b[0m  0.0305\n",
      "    725  \u001b[36m5241.3586\u001b[0m  \u001b[32m29614282.9271\u001b[0m  \u001b[35m27471838.8750\u001b[0m  0.0312\n",
      "    726  \u001b[36m5240.9930\u001b[0m  \u001b[32m29609799.2161\u001b[0m  \u001b[35m27468008.9792\u001b[0m  0.0355\n",
      "    727  \u001b[36m5240.6284\u001b[0m  \u001b[32m29605306.7799\u001b[0m  \u001b[35m27464185.4792\u001b[0m  0.0309\n",
      "    728  \u001b[36m5240.2639\u001b[0m  \u001b[32m29600801.4401\u001b[0m  \u001b[35m27460365.6250\u001b[0m  0.0310\n",
      "    729  \u001b[36m5239.8977\u001b[0m  \u001b[32m29596285.8385\u001b[0m  \u001b[35m27456528.0208\u001b[0m  0.0356\n",
      "    730  \u001b[36m5239.5330\u001b[0m  \u001b[32m29591766.4844\u001b[0m  \u001b[35m27452705.3333\u001b[0m  0.0303\n",
      "    731  \u001b[36m5239.1679\u001b[0m  \u001b[32m29587230.1510\u001b[0m  \u001b[35m27448881.4583\u001b[0m  0.0324\n",
      "    732  \u001b[36m5238.8035\u001b[0m  \u001b[32m29582680.0234\u001b[0m  \u001b[35m27445060.1042\u001b[0m  0.0385\n",
      "    733  \u001b[36m5238.4374\u001b[0m  \u001b[32m29578118.3307\u001b[0m  \u001b[35m27441227.6875\u001b[0m  0.0348\n",
      "    734  \u001b[36m5238.0731\u001b[0m  \u001b[32m29573539.8971\u001b[0m  \u001b[35m27437410.1875\u001b[0m  0.0374\n",
      "    735  \u001b[36m5237.7079\u001b[0m  \u001b[32m29568948.0586\u001b[0m  \u001b[35m27433584.5417\u001b[0m  0.0307\n",
      "    736  \u001b[36m5237.3423\u001b[0m  \u001b[32m29564346.7956\u001b[0m  \u001b[35m27429753.2083\u001b[0m  0.0306\n",
      "    737  \u001b[36m5236.9770\u001b[0m  \u001b[32m29559730.0286\u001b[0m  \u001b[35m27425928.1042\u001b[0m  0.0337\n",
      "    738  \u001b[36m5236.6117\u001b[0m  \u001b[32m29555093.0768\u001b[0m  \u001b[35m27422099.8333\u001b[0m  0.0307\n",
      "    739  \u001b[36m5236.2460\u001b[0m  \u001b[32m29550445.7109\u001b[0m  \u001b[35m27418272.7917\u001b[0m  0.0310\n",
      "    740  \u001b[36m5235.8806\u001b[0m  \u001b[32m29545786.4961\u001b[0m  \u001b[35m27414445.7708\u001b[0m  0.0367\n",
      "    741  \u001b[36m5235.5151\u001b[0m  \u001b[32m29541112.1458\u001b[0m  \u001b[35m27410620.5833\u001b[0m  0.0317\n",
      "    742  \u001b[36m5235.1495\u001b[0m  \u001b[32m29536420.3451\u001b[0m  \u001b[35m27406789.7500\u001b[0m  0.0323\n",
      "    743  \u001b[36m5234.7835\u001b[0m  \u001b[32m29531714.1380\u001b[0m  \u001b[35m27402956.8125\u001b[0m  0.0378\n",
      "    744  \u001b[36m5234.4174\u001b[0m  \u001b[32m29526986.6667\u001b[0m  \u001b[35m27399124.8125\u001b[0m  0.0316\n",
      "    745  \u001b[36m5234.0510\u001b[0m  \u001b[32m29522244.1367\u001b[0m  \u001b[35m27395291.8750\u001b[0m  0.0318\n",
      "    746  \u001b[36m5233.6857\u001b[0m  \u001b[32m29517489.3581\u001b[0m  \u001b[35m27391467.5208\u001b[0m  0.0402\n",
      "    747  \u001b[36m5233.3194\u001b[0m  \u001b[32m29512714.8060\u001b[0m  \u001b[35m27387630.2500\u001b[0m  0.0335\n",
      "    748  \u001b[36m5232.9533\u001b[0m  \u001b[32m29507918.0885\u001b[0m  \u001b[35m27383801.3125\u001b[0m  0.0337\n",
      "    749  \u001b[36m5232.5871\u001b[0m  \u001b[32m29503106.5625\u001b[0m  \u001b[35m27379968.3750\u001b[0m  0.0319\n",
      "    750  \u001b[36m5232.2211\u001b[0m  \u001b[32m29498283.1836\u001b[0m  \u001b[35m27376138.0417\u001b[0m  0.0313\n",
      "    751  \u001b[36m5231.8545\u001b[0m  \u001b[32m29493432.2018\u001b[0m  \u001b[35m27372300.7917\u001b[0m  0.0402\n",
      "    752  \u001b[36m5231.4877\u001b[0m  \u001b[32m29488566.3789\u001b[0m  \u001b[35m27368462.3958\u001b[0m  0.0309\n",
      "    753  \u001b[36m5231.1207\u001b[0m  \u001b[32m29483686.6615\u001b[0m  \u001b[35m27364624.5833\u001b[0m  0.0315\n",
      "    754  \u001b[36m5230.7544\u001b[0m  \u001b[32m29478784.6302\u001b[0m  \u001b[35m27360791.8542\u001b[0m  0.0371\n",
      "    755  \u001b[36m5230.3891\u001b[0m  \u001b[32m29473857.0156\u001b[0m  \u001b[35m27356969.6250\u001b[0m  0.0320\n",
      "    756  \u001b[36m5230.0243\u001b[0m  \u001b[32m29468893.0273\u001b[0m  \u001b[35m27353154.0625\u001b[0m  0.0317\n",
      "    757  \u001b[36m5229.6593\u001b[0m  \u001b[32m29463896.3672\u001b[0m  \u001b[35m27349336.9583\u001b[0m  0.0381\n",
      "    758  \u001b[36m5229.2950\u001b[0m  \u001b[32m29458864.9844\u001b[0m  \u001b[35m27345524.6250\u001b[0m  0.0320\n",
      "    759  \u001b[36m5228.9293\u001b[0m  \u001b[32m29453790.8997\u001b[0m  \u001b[35m27341702.9583\u001b[0m  0.0342\n",
      "    760  \u001b[36m5228.5633\u001b[0m  \u001b[32m29448692.6719\u001b[0m  \u001b[35m27337876.7917\u001b[0m  0.0387\n",
      "    761  \u001b[36m5228.1959\u001b[0m  \u001b[32m29443584.4948\u001b[0m  \u001b[35m27334032.7083\u001b[0m  0.0321\n",
      "    762  \u001b[36m5227.8277\u001b[0m  \u001b[32m29438466.5052\u001b[0m  \u001b[35m27330180.5417\u001b[0m  0.0403\n",
      "    763  \u001b[36m5227.4585\u001b[0m  \u001b[32m29433339.0182\u001b[0m  \u001b[35m27326321.8542\u001b[0m  0.0332\n",
      "    764  \u001b[36m5227.0915\u001b[0m  \u001b[32m29428190.4193\u001b[0m  \u001b[35m27322484.7500\u001b[0m  0.0316\n",
      "    765  \u001b[36m5226.7234\u001b[0m  \u001b[32m29423032.3438\u001b[0m  \u001b[35m27318637.6250\u001b[0m  0.0381\n",
      "    766  \u001b[36m5226.3561\u001b[0m  \u001b[32m29417856.1406\u001b[0m  \u001b[35m27314797.6667\u001b[0m  0.0314\n",
      "    767  \u001b[36m5225.9895\u001b[0m  \u001b[32m29412670.2773\u001b[0m  \u001b[35m27310963.1458\u001b[0m  0.0330\n",
      "    768  \u001b[36m5225.6228\u001b[0m  \u001b[32m29407466.5247\u001b[0m  \u001b[35m27307133.1667\u001b[0m  0.0338\n",
      "    769  \u001b[36m5225.2573\u001b[0m  \u001b[32m29402241.8229\u001b[0m  \u001b[35m27303314.6667\u001b[0m  0.0321\n",
      "    770  \u001b[36m5224.8927\u001b[0m  \u001b[32m29397004.8281\u001b[0m  \u001b[35m27299502.9167\u001b[0m  0.0378\n",
      "    771  \u001b[36m5224.5285\u001b[0m  \u001b[32m29391753.8034\u001b[0m  \u001b[35m27295698.8542\u001b[0m  0.0337\n",
      "    772  \u001b[36m5224.1654\u001b[0m  \u001b[32m29386479.9609\u001b[0m  \u001b[35m27291906.1667\u001b[0m  0.0316\n",
      "    773  \u001b[36m5223.8034\u001b[0m  \u001b[32m29381190.0781\u001b[0m  \u001b[35m27288123.5417\u001b[0m  0.0382\n",
      "    774  \u001b[36m5223.4418\u001b[0m  \u001b[32m29375888.3464\u001b[0m  \u001b[35m27284345.3333\u001b[0m  0.0322\n",
      "    775  \u001b[36m5223.0817\u001b[0m  \u001b[32m29370564.8190\u001b[0m  \u001b[35m27280584.0417\u001b[0m  0.0370\n",
      "    776  \u001b[36m5222.7227\u001b[0m  \u001b[32m29365220.5156\u001b[0m  \u001b[35m27276830.8750\u001b[0m  0.0325\n",
      "    777  \u001b[36m5222.3634\u001b[0m  \u001b[32m29359859.8203\u001b[0m  \u001b[35m27273079.6667\u001b[0m  0.0321\n",
      "    778  \u001b[36m5222.0057\u001b[0m  \u001b[32m29354496.7695\u001b[0m  \u001b[35m27269343.7708\u001b[0m  0.0380\n",
      "    779  \u001b[36m5221.6480\u001b[0m  \u001b[32m29349150.9714\u001b[0m  \u001b[35m27265607.1458\u001b[0m  0.0334\n",
      "    780  \u001b[36m5221.2918\u001b[0m  \u001b[32m29343809.3125\u001b[0m  \u001b[35m27261888.9583\u001b[0m  0.0318\n",
      "    781  \u001b[36m5220.9378\u001b[0m  \u001b[32m29338483.7422\u001b[0m  \u001b[35m27258191.6250\u001b[0m  0.0381\n",
      "    782  \u001b[36m5220.5848\u001b[0m  \u001b[32m29333171.5833\u001b[0m  \u001b[35m27254506.8958\u001b[0m  0.0323\n",
      "    783  \u001b[36m5220.2347\u001b[0m  \u001b[32m29327865.4284\u001b[0m  \u001b[35m27250849.6250\u001b[0m  0.0337\n",
      "    784  \u001b[36m5219.8858\u001b[0m  \u001b[32m29322570.2734\u001b[0m  \u001b[35m27247207.2917\u001b[0m  0.0373\n",
      "    785  \u001b[36m5219.5402\u001b[0m  \u001b[32m29317283.1589\u001b[0m  \u001b[35m27243600.4167\u001b[0m  0.0317\n",
      "    786  \u001b[36m5219.1955\u001b[0m  \u001b[32m29311999.8958\u001b[0m  \u001b[35m27240002.3958\u001b[0m  0.0315\n",
      "    787  \u001b[36m5218.8541\u001b[0m  \u001b[32m29306722.0456\u001b[0m  \u001b[35m27236437.3958\u001b[0m  0.0375\n",
      "    788  \u001b[36m5218.5149\u001b[0m  \u001b[32m29301448.1797\u001b[0m  \u001b[35m27232897.5208\u001b[0m  0.0313\n",
      "    789  \u001b[36m5218.1775\u001b[0m  \u001b[32m29296180.7240\u001b[0m  \u001b[35m27229378.0208\u001b[0m  0.0374\n",
      "    790  \u001b[36m5217.8423\u001b[0m  \u001b[32m29290915.1966\u001b[0m  \u001b[35m27225875.3125\u001b[0m  0.0322\n",
      "    791  \u001b[36m5217.5090\u001b[0m  \u001b[32m29285651.8164\u001b[0m  \u001b[35m27222400.7292\u001b[0m  0.0317\n",
      "    792  \u001b[36m5217.1784\u001b[0m  \u001b[32m29280388.4336\u001b[0m  \u001b[35m27218950.2708\u001b[0m  0.0364\n",
      "    793  \u001b[36m5216.8502\u001b[0m  \u001b[32m29275130.2747\u001b[0m  \u001b[35m27215524.2500\u001b[0m  0.0341\n",
      "    794  \u001b[36m5216.5239\u001b[0m  \u001b[32m29269867.9036\u001b[0m  \u001b[35m27212122.1042\u001b[0m  0.0323\n",
      "    795  \u001b[36m5216.1996\u001b[0m  \u001b[32m29264611.6536\u001b[0m  \u001b[35m27208738.0625\u001b[0m  0.0371\n",
      "    796  \u001b[36m5215.8779\u001b[0m  \u001b[32m29259356.8867\u001b[0m  \u001b[35m27205381.8750\u001b[0m  0.0323\n",
      "    797  \u001b[36m5215.5588\u001b[0m  \u001b[32m29254094.5260\u001b[0m  \u001b[35m27202053.9792\u001b[0m  0.0375\n",
      "    798  \u001b[36m5215.2413\u001b[0m  \u001b[32m29248829.4896\u001b[0m  \u001b[35m27198741.4375\u001b[0m  0.0309\n",
      "    799  \u001b[36m5214.9276\u001b[0m  \u001b[32m29243562.2318\u001b[0m  \u001b[35m27195468.5000\u001b[0m  0.0312\n",
      "    800  \u001b[36m5214.6164\u001b[0m  \u001b[32m29238280.7240\u001b[0m  \u001b[35m27192225.3958\u001b[0m  0.0356\n",
      "    801  \u001b[36m5214.3080\u001b[0m  \u001b[32m29232990.1419\u001b[0m  \u001b[35m27189006.5833\u001b[0m  0.0305\n",
      "    802  \u001b[36m5214.0010\u001b[0m  \u001b[32m29227688.3464\u001b[0m  \u001b[35m27185804.9792\u001b[0m  0.0318\n",
      "    803  \u001b[36m5213.6979\u001b[0m  \u001b[32m29222374.4479\u001b[0m  \u001b[35m27182646.6667\u001b[0m  0.0371\n",
      "    804  \u001b[36m5213.3960\u001b[0m  \u001b[32m29217052.7682\u001b[0m  \u001b[35m27179498.3333\u001b[0m  0.0360\n",
      "    805  \u001b[36m5213.0964\u001b[0m  \u001b[32m29211719.5742\u001b[0m  \u001b[35m27176376.0833\u001b[0m  0.0317\n",
      "    806  \u001b[36m5212.7987\u001b[0m  \u001b[32m29206370.6029\u001b[0m  \u001b[35m27173268.3542\u001b[0m  0.0360\n",
      "    807  \u001b[36m5212.5032\u001b[0m  \u001b[32m29201016.4922\u001b[0m  \u001b[35m27170189.1875\u001b[0m  0.0308\n",
      "    808  \u001b[36m5212.2093\u001b[0m  \u001b[32m29195649.8828\u001b[0m  \u001b[35m27167124.6250\u001b[0m  0.0311\n",
      "    809  \u001b[36m5211.9179\u001b[0m  \u001b[32m29190270.5039\u001b[0m  \u001b[35m27164087.6250\u001b[0m  0.0369\n",
      "    810  \u001b[36m5211.6285\u001b[0m  \u001b[32m29184871.0195\u001b[0m  \u001b[35m27161072.5208\u001b[0m  0.0311\n",
      "    811  \u001b[36m5211.3405\u001b[0m  \u001b[32m29179458.5456\u001b[0m  \u001b[35m27158070.4583\u001b[0m  0.0313\n",
      "    812  \u001b[36m5211.0550\u001b[0m  \u001b[32m29174038.9323\u001b[0m  \u001b[35m27155092.6875\u001b[0m  0.0326\n",
      "    813  \u001b[36m5210.7706\u001b[0m  \u001b[32m29168600.2695\u001b[0m  \u001b[35m27152131.4167\u001b[0m  0.0327\n",
      "    814  \u001b[36m5210.4892\u001b[0m  \u001b[32m29163148.4271\u001b[0m  \u001b[35m27149197.0208\u001b[0m  0.0404\n",
      "    815  \u001b[36m5210.2090\u001b[0m  \u001b[32m29157683.9323\u001b[0m  \u001b[35m27146275.6458\u001b[0m  0.0328\n",
      "    816  \u001b[36m5209.9311\u001b[0m  \u001b[32m29152198.7344\u001b[0m  \u001b[35m27143378.9792\u001b[0m  0.0336\n",
      "    817  \u001b[36m5209.6555\u001b[0m  \u001b[32m29146700.4388\u001b[0m  \u001b[35m27140511.4583\u001b[0m  0.0360\n",
      "    818  \u001b[36m5209.3806\u001b[0m  \u001b[32m29141190.4128\u001b[0m  \u001b[35m27137645.5625\u001b[0m  0.0309\n",
      "    819  \u001b[36m5209.1076\u001b[0m  \u001b[32m29135665.9661\u001b[0m  \u001b[35m27134802.7708\u001b[0m  0.0313\n",
      "    820  \u001b[36m5208.8350\u001b[0m  \u001b[32m29130133.4232\u001b[0m  \u001b[35m27131963.3542\u001b[0m  0.0384\n",
      "    821  \u001b[36m5208.5643\u001b[0m  \u001b[32m29124604.7891\u001b[0m  \u001b[35m27129141.5208\u001b[0m  0.0337\n",
      "    822  \u001b[36m5208.2942\u001b[0m  \u001b[32m29119078.2031\u001b[0m  \u001b[35m27126328.0000\u001b[0m  0.0326\n",
      "    823  \u001b[36m5208.0261\u001b[0m  \u001b[32m29113547.0547\u001b[0m  \u001b[35m27123532.7083\u001b[0m  0.0381\n",
      "    824  \u001b[36m5207.7588\u001b[0m  \u001b[32m29108010.1628\u001b[0m  \u001b[35m27120753.7500\u001b[0m  0.0320\n",
      "    825  \u001b[36m5207.4931\u001b[0m  \u001b[32m29102474.0677\u001b[0m  \u001b[35m27117984.2500\u001b[0m  0.0371\n",
      "    826  \u001b[36m5207.2302\u001b[0m  \u001b[32m29096938.0690\u001b[0m  \u001b[35m27115243.1250\u001b[0m  0.0336\n",
      "    827  \u001b[36m5206.9671\u001b[0m  \u001b[32m29091398.1628\u001b[0m  \u001b[35m27112508.1667\u001b[0m  0.0352\n",
      "    828  \u001b[36m5206.7064\u001b[0m  \u001b[32m29085862.0299\u001b[0m  \u001b[35m27109792.6667\u001b[0m  0.0385\n",
      "    829  \u001b[36m5206.4462\u001b[0m  \u001b[32m29080350.7031\u001b[0m  \u001b[35m27107081.7292\u001b[0m  0.0335\n",
      "    830  \u001b[36m5206.1892\u001b[0m  \u001b[32m29074858.4076\u001b[0m  \u001b[35m27104406.1458\u001b[0m  0.0330\n",
      "    831  \u001b[36m5205.9357\u001b[0m  \u001b[32m29069372.3255\u001b[0m  \u001b[35m27101766.3125\u001b[0m  0.0402\n",
      "    832  \u001b[36m5205.6836\u001b[0m  \u001b[32m29063912.5755\u001b[0m  \u001b[35m27099141.9792\u001b[0m  0.0373\n",
      "    833  \u001b[36m5205.4356\u001b[0m  \u001b[32m29058472.0638\u001b[0m  \u001b[35m27096561.1667\u001b[0m  0.0442\n",
      "    834  \u001b[36m5205.1903\u001b[0m  \u001b[32m29053047.3503\u001b[0m  \u001b[35m27094005.1458\u001b[0m  0.0342\n",
      "    835  \u001b[36m5204.9482\u001b[0m  \u001b[32m29047638.5456\u001b[0m  \u001b[35m27091485.1042\u001b[0m  0.0340\n",
      "    836  \u001b[36m5204.7096\u001b[0m  \u001b[32m29042248.2253\u001b[0m  \u001b[35m27089003.3750\u001b[0m  0.0403\n",
      "    837  \u001b[36m5204.4740\u001b[0m  \u001b[32m29036868.5651\u001b[0m  \u001b[35m27086550.8542\u001b[0m  0.0329\n",
      "    838  \u001b[36m5204.2415\u001b[0m  \u001b[32m29031498.1289\u001b[0m  \u001b[35m27084130.5208\u001b[0m  0.0374\n",
      "    839  \u001b[36m5204.0129\u001b[0m  \u001b[32m29026143.0143\u001b[0m  \u001b[35m27081750.5417\u001b[0m  0.0340\n",
      "    840  \u001b[36m5203.7871\u001b[0m  \u001b[32m29020806.0703\u001b[0m  \u001b[35m27079398.6250\u001b[0m  0.0316\n",
      "    841  \u001b[36m5203.5632\u001b[0m  \u001b[32m29015472.6120\u001b[0m  \u001b[35m27077069.2083\u001b[0m  0.0352\n",
      "    842  \u001b[36m5203.3426\u001b[0m  \u001b[32m29010154.9857\u001b[0m  \u001b[35m27074773.4583\u001b[0m  0.0315\n",
      "    843  \u001b[36m5203.1252\u001b[0m  \u001b[32m29004842.6120\u001b[0m  \u001b[35m27072510.9792\u001b[0m  0.0320\n",
      "    844  \u001b[36m5202.9101\u001b[0m  \u001b[32m28999535.9427\u001b[0m  \u001b[35m27070273.6042\u001b[0m  0.0370\n",
      "    845  \u001b[36m5202.6980\u001b[0m  \u001b[32m28994239.9531\u001b[0m  \u001b[35m27068067.3958\u001b[0m  0.0310\n",
      "    846  \u001b[36m5202.4886\u001b[0m  \u001b[32m28988950.9062\u001b[0m  \u001b[35m27065888.2500\u001b[0m  0.0311\n",
      "    847  \u001b[36m5202.2805\u001b[0m  \u001b[32m28983664.4336\u001b[0m  \u001b[35m27063722.1042\u001b[0m  0.0355\n",
      "    848  \u001b[36m5202.0763\u001b[0m  \u001b[32m28978386.9089\u001b[0m  \u001b[35m27061597.2083\u001b[0m  0.0310\n",
      "    849  \u001b[36m5201.8743\u001b[0m  \u001b[32m28973116.9232\u001b[0m  \u001b[35m27059495.6667\u001b[0m  0.0321\n",
      "    850  \u001b[36m5201.6738\u001b[0m  \u001b[32m28967849.6497\u001b[0m  \u001b[35m27057410.4583\u001b[0m  0.0371\n",
      "    851  \u001b[36m5201.4767\u001b[0m  \u001b[32m28962585.5000\u001b[0m  \u001b[35m27055361.1667\u001b[0m  0.0318\n",
      "    852  \u001b[36m5201.2814\u001b[0m  \u001b[32m28957330.6562\u001b[0m  \u001b[35m27053330.2292\u001b[0m  0.0371\n",
      "    853  \u001b[36m5201.0889\u001b[0m  \u001b[32m28952073.9948\u001b[0m  \u001b[35m27051323.9167\u001b[0m  0.0332\n",
      "    854  \u001b[36m5200.8984\u001b[0m  \u001b[32m28946816.3359\u001b[0m  \u001b[35m27049344.0417\u001b[0m  0.0314\n",
      "    855  \u001b[36m5200.7107\u001b[0m  \u001b[32m28941561.4349\u001b[0m  \u001b[35m27047390.0208\u001b[0m  0.0356\n",
      "    856  \u001b[36m5200.5246\u001b[0m  \u001b[32m28936308.4688\u001b[0m  \u001b[35m27045453.3125\u001b[0m  0.0315\n",
      "    857  \u001b[36m5200.3413\u001b[0m  \u001b[32m28931058.7448\u001b[0m  \u001b[35m27043549.9167\u001b[0m  0.0316\n",
      "    858  \u001b[36m5200.1585\u001b[0m  \u001b[32m28925804.9766\u001b[0m  \u001b[35m27041647.5833\u001b[0m  0.0367\n",
      "    859  \u001b[36m5199.9760\u001b[0m  \u001b[32m28920571.5352\u001b[0m  \u001b[35m27039750.8333\u001b[0m  0.0308\n",
      "    860  \u001b[36m5199.7956\u001b[0m  \u001b[32m28915347.8750\u001b[0m  \u001b[35m27037876.4375\u001b[0m  0.0359\n",
      "    861  \u001b[36m5199.6171\u001b[0m  \u001b[32m28910137.0430\u001b[0m  \u001b[35m27036018.5833\u001b[0m  0.0366\n",
      "    862  \u001b[36m5199.4402\u001b[0m  \u001b[32m28904945.0130\u001b[0m  \u001b[35m27034178.0625\u001b[0m  0.0320\n",
      "    863  \u001b[36m5199.2640\u001b[0m  \u001b[32m28899762.9805\u001b[0m  \u001b[35m27032347.5625\u001b[0m  0.0310\n",
      "    864  \u001b[36m5199.0907\u001b[0m  \u001b[32m28894591.6003\u001b[0m  \u001b[35m27030541.6667\u001b[0m  0.0331\n",
      "    865  \u001b[36m5198.9178\u001b[0m  \u001b[32m28889426.9336\u001b[0m  \u001b[35m27028747.6458\u001b[0m  0.0317\n",
      "    866  \u001b[36m5198.7481\u001b[0m  \u001b[32m28884269.1784\u001b[0m  \u001b[35m27026982.0417\u001b[0m  0.0421\n",
      "    867  \u001b[36m5198.5792\u001b[0m  \u001b[32m28879122.5690\u001b[0m  \u001b[35m27025225.1667\u001b[0m  0.0318\n",
      "    868  \u001b[36m5198.4123\u001b[0m  \u001b[32m28873980.7526\u001b[0m  \u001b[35m27023489.7292\u001b[0m  0.0319\n",
      "    869  \u001b[36m5198.2472\u001b[0m  \u001b[32m28868848.6406\u001b[0m  \u001b[35m27021772.4583\u001b[0m  0.0328\n",
      "    870  \u001b[36m5198.0829\u001b[0m  \u001b[32m28863719.3138\u001b[0m  \u001b[35m27020068.0625\u001b[0m  0.0321\n",
      "    871  \u001b[36m5197.9205\u001b[0m  \u001b[32m28858589.2109\u001b[0m  \u001b[35m27018378.3125\u001b[0m  0.0344\n",
      "    872  \u001b[36m5197.7611\u001b[0m  \u001b[32m28853475.0260\u001b[0m  \u001b[35m27016718.0833\u001b[0m  0.0420\n",
      "    873  \u001b[36m5197.6012\u001b[0m  \u001b[32m28848356.8763\u001b[0m  \u001b[35m27015057.7917\u001b[0m  0.0326\n",
      "    874  \u001b[36m5197.4426\u001b[0m  \u001b[32m28843243.2786\u001b[0m  \u001b[35m27013412.3333\u001b[0m  0.0327\n",
      "    875  \u001b[36m5197.2872\u001b[0m  \u001b[32m28838131.0378\u001b[0m  \u001b[35m27011794.6875\u001b[0m  0.0341\n",
      "    876  \u001b[36m5197.1323\u001b[0m  \u001b[32m28833023.0039\u001b[0m  \u001b[35m27010183.9167\u001b[0m  0.0328\n",
      "    877  \u001b[36m5196.9797\u001b[0m  \u001b[32m28827918.3281\u001b[0m  \u001b[35m27008596.6042\u001b[0m  0.0427\n",
      "    878  \u001b[36m5196.8283\u001b[0m  \u001b[32m28822812.7643\u001b[0m  \u001b[35m27007024.8333\u001b[0m  0.0323\n",
      "    879  \u001b[36m5196.6787\u001b[0m  \u001b[32m28817703.9258\u001b[0m  \u001b[35m27005469.8750\u001b[0m  0.0324\n",
      "    880  \u001b[36m5196.5302\u001b[0m  \u001b[32m28812601.4388\u001b[0m  \u001b[35m27003927.8125\u001b[0m  0.0388\n",
      "    881  \u001b[36m5196.3832\u001b[0m  \u001b[32m28807489.5208\u001b[0m  \u001b[35m27002397.1250\u001b[0m  0.0348\n",
      "    882  \u001b[36m5196.2377\u001b[0m  \u001b[32m28802388.3268\u001b[0m  \u001b[35m27000884.8750\u001b[0m  0.0358\n",
      "    883  \u001b[36m5196.0941\u001b[0m  \u001b[32m28797276.7656\u001b[0m  \u001b[35m26999395.3125\u001b[0m  0.0322\n",
      "    884  \u001b[36m5195.9521\u001b[0m  \u001b[32m28792165.9714\u001b[0m  \u001b[35m26997918.0417\u001b[0m  0.0341\n",
      "    885  \u001b[36m5195.8108\u001b[0m  \u001b[32m28787055.4935\u001b[0m  \u001b[35m26996449.5417\u001b[0m  0.0381\n",
      "    886  \u001b[36m5195.6722\u001b[0m  \u001b[32m28781940.7331\u001b[0m  \u001b[35m26995010.3958\u001b[0m  0.0339\n",
      "    887  \u001b[36m5195.5333\u001b[0m  \u001b[32m28776819.2344\u001b[0m  \u001b[35m26993566.2083\u001b[0m  0.0337\n",
      "    888  \u001b[36m5195.3978\u001b[0m  \u001b[32m28771701.4362\u001b[0m  \u001b[35m26992156.7500\u001b[0m  0.0412\n",
      "    889  \u001b[36m5195.2630\u001b[0m  \u001b[32m28766577.1693\u001b[0m  \u001b[35m26990756.8958\u001b[0m  0.0315\n",
      "    890  \u001b[36m5195.1300\u001b[0m  \u001b[32m28761448.2786\u001b[0m  \u001b[35m26989376.7292\u001b[0m  0.0336\n",
      "    891  \u001b[36m5194.9986\u001b[0m  \u001b[32m28756314.6107\u001b[0m  \u001b[35m26988009.5833\u001b[0m  0.0339\n",
      "    892  \u001b[36m5194.8690\u001b[0m  \u001b[32m28751172.1016\u001b[0m  \u001b[35m26986663.8958\u001b[0m  0.0341\n",
      "    893  \u001b[36m5194.7412\u001b[0m  \u001b[32m28746031.4479\u001b[0m  \u001b[35m26985336.1042\u001b[0m  0.0375\n",
      "    894  \u001b[36m5194.6136\u001b[0m  \u001b[32m28740881.9245\u001b[0m  \u001b[35m26984011.1875\u001b[0m  0.0327\n",
      "    895  \u001b[36m5194.4877\u001b[0m  \u001b[32m28735725.1263\u001b[0m  \u001b[35m26982702.5417\u001b[0m  0.0333\n",
      "    896  \u001b[36m5194.3639\u001b[0m  \u001b[32m28730563.2422\u001b[0m  \u001b[35m26981418.1042\u001b[0m  0.0379\n",
      "    897  \u001b[36m5194.2407\u001b[0m  \u001b[32m28725394.4974\u001b[0m  \u001b[35m26980135.1250\u001b[0m  0.0327\n",
      "    898  \u001b[36m5194.1182\u001b[0m  \u001b[32m28720220.2617\u001b[0m  \u001b[35m26978863.0625\u001b[0m  0.0326\n",
      "    899  \u001b[36m5193.9971\u001b[0m  \u001b[32m28715039.5456\u001b[0m  \u001b[35m26977607.5417\u001b[0m  0.0314\n",
      "    900  \u001b[36m5193.8770\u001b[0m  \u001b[32m28709854.1224\u001b[0m  \u001b[35m26976355.3958\u001b[0m  0.0314\n",
      "    901  \u001b[36m5193.7568\u001b[0m  \u001b[32m28704661.9401\u001b[0m  \u001b[35m26975109.1875\u001b[0m  0.0369\n",
      "    902  \u001b[36m5193.6371\u001b[0m  \u001b[32m28699462.2018\u001b[0m  \u001b[35m26973866.9167\u001b[0m  0.0322\n",
      "    903  \u001b[36m5193.5177\u001b[0m  \u001b[32m28694251.5312\u001b[0m  \u001b[35m26972627.1250\u001b[0m  0.0332\n",
      "    904  \u001b[36m5193.3998\u001b[0m  \u001b[32m28689036.1445\u001b[0m  \u001b[35m26971402.3542\u001b[0m  0.0383\n",
      "    905  \u001b[36m5193.2818\u001b[0m  \u001b[32m28683813.9219\u001b[0m  \u001b[35m26970175.6250\u001b[0m  0.0329\n",
      "    906  \u001b[36m5193.1642\u001b[0m  \u001b[32m28678586.1328\u001b[0m  \u001b[35m26968954.7500\u001b[0m  0.0330\n",
      "    907  \u001b[36m5193.0477\u001b[0m  \u001b[32m28673345.9206\u001b[0m  \u001b[35m26967743.5625\u001b[0m  0.0391\n",
      "    908  \u001b[36m5192.9321\u001b[0m  \u001b[32m28668102.1159\u001b[0m  \u001b[35m26966544.1458\u001b[0m  0.0320\n",
      "    909  \u001b[36m5192.8164\u001b[0m  \u001b[32m28662846.7240\u001b[0m  \u001b[35m26965341.3750\u001b[0m  0.0317\n",
      "    910  \u001b[36m5192.7012\u001b[0m  \u001b[32m28657587.7188\u001b[0m  \u001b[35m26964149.1667\u001b[0m  0.0321\n",
      "    911  \u001b[36m5192.5870\u001b[0m  \u001b[32m28652320.4115\u001b[0m  \u001b[35m26962958.1250\u001b[0m  0.0317\n",
      "    912  \u001b[36m5192.4732\u001b[0m  \u001b[32m28647044.6146\u001b[0m  \u001b[35m26961776.3542\u001b[0m  0.0374\n",
      "    913  \u001b[36m5192.3596\u001b[0m  \u001b[32m28641757.2982\u001b[0m  \u001b[35m26960599.3958\u001b[0m  0.0332\n",
      "    914  \u001b[36m5192.2475\u001b[0m  \u001b[32m28636463.0716\u001b[0m  \u001b[35m26959433.6250\u001b[0m  0.0342\n",
      "    915  \u001b[36m5192.1356\u001b[0m  \u001b[32m28631162.6263\u001b[0m  \u001b[35m26958271.2292\u001b[0m  0.0394\n",
      "    916  \u001b[36m5192.0239\u001b[0m  \u001b[32m28625854.8490\u001b[0m  \u001b[35m26957111.9375\u001b[0m  0.0380\n",
      "    917  \u001b[36m5191.9129\u001b[0m  \u001b[32m28620534.3698\u001b[0m  \u001b[35m26955959.4792\u001b[0m  0.0425\n",
      "    918  \u001b[36m5191.8028\u001b[0m  \u001b[32m28615208.8464\u001b[0m  \u001b[35m26954815.3958\u001b[0m  0.0337\n",
      "    919  \u001b[36m5191.6941\u001b[0m  \u001b[32m28609871.4674\u001b[0m  \u001b[35m26953686.2500\u001b[0m  0.0329\n",
      "    920  \u001b[36m5191.5847\u001b[0m  \u001b[32m28604526.0130\u001b[0m  \u001b[35m26952552.9167\u001b[0m  0.0375\n",
      "    921  \u001b[36m5191.4767\u001b[0m  \u001b[32m28599173.4232\u001b[0m  \u001b[35m26951428.3750\u001b[0m  0.0311\n",
      "    922  \u001b[36m5191.3688\u001b[0m  \u001b[32m28593804.6745\u001b[0m  \u001b[35m26950308.5833\u001b[0m  0.0317\n",
      "    923  \u001b[36m5191.2627\u001b[0m  \u001b[32m28588435.2917\u001b[0m  \u001b[35m26949208.7917\u001b[0m  0.0372\n",
      "    924  \u001b[36m5191.1556\u001b[0m  \u001b[32m28583048.8984\u001b[0m  \u001b[35m26948095.1458\u001b[0m  0.0324\n",
      "    925  \u001b[36m5191.0502\u001b[0m  \u001b[32m28577662.5703\u001b[0m  \u001b[35m26947000.7708\u001b[0m  0.0349\n",
      "    926  \u001b[36m5190.9452\u001b[0m  \u001b[32m28572261.6745\u001b[0m  \u001b[35m26945911.8542\u001b[0m  0.0328\n",
      "    927  \u001b[36m5190.8412\u001b[0m  \u001b[32m28566841.3958\u001b[0m  \u001b[35m26944831.9792\u001b[0m  0.0326\n",
      "    928  \u001b[36m5190.7377\u001b[0m  \u001b[32m28561425.4336\u001b[0m  \u001b[35m26943758.1458\u001b[0m  0.0371\n",
      "    929  \u001b[36m5190.6341\u001b[0m  \u001b[32m28555996.0807\u001b[0m  \u001b[35m26942683.8542\u001b[0m  0.0335\n",
      "    930  \u001b[36m5190.5314\u001b[0m  \u001b[32m28550558.0885\u001b[0m  \u001b[35m26941617.0208\u001b[0m  0.0333\n",
      "    931  \u001b[36m5190.4291\u001b[0m  \u001b[32m28545107.7161\u001b[0m  \u001b[35m26940555.2500\u001b[0m  0.0424\n",
      "    932  \u001b[36m5190.3273\u001b[0m  \u001b[32m28539647.7448\u001b[0m  \u001b[35m26939498.5417\u001b[0m  0.0316\n",
      "Stopping since RMSE has not improved in the last 5 epochs.\n",
      "[CV 3/3] END lr=0.001, module__activation=ELU(alpha=1.0), module__dropout=0, module__n_hidden_neurons_1=25, module__n_hidden_neurons_2=18, module__n_hidden_neurons_3=9, module__n_hidden_neurons_4=5; total time=  34.6s\n",
      "  epoch       RMSE      train_loss     valid_loss     dur\n",
      "-------  ---------  --------------  -------------  ------\n",
      "      1  \u001b[36m7853.3262\u001b[0m  \u001b[32m246707317.2500\u001b[0m  \u001b[35m61674728.0000\u001b[0m  0.0378\n",
      "      2  \u001b[36m7853.3162\u001b[0m  246708429.8333  \u001b[35m61674579.6667\u001b[0m  0.0352\n",
      "      3  \u001b[36m7853.3063\u001b[0m  \u001b[32m246707311.7500\u001b[0m  \u001b[35m61674420.6667\u001b[0m  0.0364\n",
      "      4  \u001b[36m7853.2956\u001b[0m  \u001b[32m246706289.5833\u001b[0m  \u001b[35m61674245.6667\u001b[0m  0.0306\n",
      "      5  \u001b[36m7853.2826\u001b[0m  246707144.5000  \u001b[35m61674050.0000\u001b[0m  0.0370\n",
      "Stopping since RMSE has not improved in the last 5 epochs.\n",
      "[CV 1/3] END lr=0.0001, module__activation=LeakyReLU(negative_slope=0.01), module__dropout=0.5, module__n_hidden_neurons_1=25, module__n_hidden_neurons_2=10, module__n_hidden_neurons_3=12, module__n_hidden_neurons_4=7; total time=   0.2s\n",
      "  epoch        RMSE      train_loss      valid_loss     dur\n",
      "-------  ----------  --------------  --------------  ------\n",
      "      1  \u001b[36m14942.6493\u001b[0m  \u001b[32m252370516.6667\u001b[0m  \u001b[35m223282777.3333\u001b[0m  0.0333\n",
      "      2  \u001b[36m14942.6466\u001b[0m  \u001b[32m252370410.0833\u001b[0m  \u001b[35m223282701.3333\u001b[0m  0.0318\n",
      "      3  \u001b[36m14942.6445\u001b[0m  \u001b[32m252370099.0833\u001b[0m  \u001b[35m223282620.3333\u001b[0m  0.0306\n",
      "      4  \u001b[36m14942.6418\u001b[0m  \u001b[32m252370053.0000\u001b[0m  \u001b[35m223282536.6667\u001b[0m  0.0312\n",
      "      5  \u001b[36m14942.6381\u001b[0m  252370102.5833  \u001b[35m223282440.0000\u001b[0m  0.0409\n",
      "Stopping since RMSE has not improved in the last 5 epochs.\n",
      "[CV 2/3] END lr=0.0001, module__activation=LeakyReLU(negative_slope=0.01), module__dropout=0.5, module__n_hidden_neurons_1=25, module__n_hidden_neurons_2=10, module__n_hidden_neurons_3=12, module__n_hidden_neurons_4=7; total time=   0.2s\n",
      "  epoch        RMSE      train_loss      valid_loss     dur\n",
      "-------  ----------  --------------  --------------  ------\n",
      "      1  \u001b[36m14942.5476\u001b[0m  \u001b[32m199125011.4167\u001b[0m  \u001b[35m223279714.6667\u001b[0m  0.0319\n",
      "      2  \u001b[36m14942.5438\u001b[0m  199125070.7917  \u001b[35m223279604.6667\u001b[0m  0.0319\n",
      "      3  \u001b[36m14942.5395\u001b[0m  \u001b[32m199124466.5000\u001b[0m  \u001b[35m223279484.3333\u001b[0m  0.0326\n",
      "      4  \u001b[36m14942.5369\u001b[0m  199124566.6250  \u001b[35m223279392.6667\u001b[0m  0.0369\n",
      "      5  \u001b[36m14942.5326\u001b[0m  \u001b[32m199124274.2500\u001b[0m  \u001b[35m223279280.0000\u001b[0m  0.0310\n",
      "Stopping since RMSE has not improved in the last 5 epochs.\n",
      "[CV 3/3] END lr=0.0001, module__activation=LeakyReLU(negative_slope=0.01), module__dropout=0.5, module__n_hidden_neurons_1=25, module__n_hidden_neurons_2=10, module__n_hidden_neurons_3=12, module__n_hidden_neurons_4=7; total time=   0.2s\n",
      "  epoch       RMSE      train_loss     valid_loss     dur\n",
      "-------  ---------  --------------  -------------  ------\n",
      "      1  \u001b[36m7852.9342\u001b[0m  \u001b[32m246697684.2500\u001b[0m  \u001b[35m61668573.6667\u001b[0m  0.0321\n",
      "      2  \u001b[36m7852.9151\u001b[0m  \u001b[32m246697387.5417\u001b[0m  \u001b[35m61668279.6667\u001b[0m  0.0308\n",
      "      3  \u001b[36m7852.8968\u001b[0m  \u001b[32m246696640.7917\u001b[0m  \u001b[35m61667986.3333\u001b[0m  0.0317\n",
      "      4  \u001b[36m7852.8769\u001b[0m  \u001b[32m246696183.7917\u001b[0m  \u001b[35m61667675.6667\u001b[0m  0.0478\n",
      "      5  \u001b[36m7852.8555\u001b[0m  \u001b[32m246695208.3750\u001b[0m  \u001b[35m61667338.0000\u001b[0m  0.0300\n",
      "Stopping since RMSE has not improved in the last 5 epochs.\n",
      "[CV 1/3] END lr=0.0001, module__activation=ELU(alpha=1.0), module__dropout=0.2, module__n_hidden_neurons_1=20, module__n_hidden_neurons_2=14, module__n_hidden_neurons_3=12, module__n_hidden_neurons_4=3; total time=   0.2s\n",
      "  epoch        RMSE      train_loss      valid_loss     dur\n",
      "-------  ----------  --------------  --------------  ------\n",
      "      1  \u001b[36m14942.7425\u001b[0m  \u001b[32m252373423.2500\u001b[0m  \u001b[35m223285536.6667\u001b[0m  0.0399\n",
      "      2  \u001b[36m14942.7253\u001b[0m  \u001b[32m252372549.2500\u001b[0m  \u001b[35m223285046.0000\u001b[0m  0.0379\n",
      "      3  \u001b[36m14942.7109\u001b[0m  \u001b[32m252372500.2917\u001b[0m  \u001b[35m223284600.0000\u001b[0m  0.0399\n",
      "      4  \u001b[36m14942.6953\u001b[0m  \u001b[32m252372024.9583\u001b[0m  \u001b[35m223284128.3333\u001b[0m  0.0401\n",
      "      5  \u001b[36m14942.6809\u001b[0m  \u001b[32m252371650.2500\u001b[0m  \u001b[35m223283700.6667\u001b[0m  0.0403\n",
      "Stopping since RMSE has not improved in the last 5 epochs.\n",
      "[CV 2/3] END lr=0.0001, module__activation=ELU(alpha=1.0), module__dropout=0.2, module__n_hidden_neurons_1=20, module__n_hidden_neurons_2=14, module__n_hidden_neurons_3=12, module__n_hidden_neurons_4=3; total time=   0.3s\n",
      "  epoch        RMSE      train_loss      valid_loss     dur\n",
      "-------  ----------  --------------  --------------  ------\n",
      "      1  \u001b[36m14942.1583\u001b[0m  \u001b[32m199114120.2083\u001b[0m  \u001b[35m223268093.0000\u001b[0m  0.0317\n",
      "      2  \u001b[36m14942.1471\u001b[0m  \u001b[32m199113405.6667\u001b[0m  \u001b[35m223267749.3333\u001b[0m  0.0303\n",
      "      3  \u001b[36m14942.1343\u001b[0m  \u001b[32m199113227.8750\u001b[0m  \u001b[35m223267371.6667\u001b[0m  0.0308\n",
      "      4  \u001b[36m14942.1225\u001b[0m  \u001b[32m199113214.5000\u001b[0m  \u001b[35m223267040.0000\u001b[0m  0.0391\n",
      "      5  \u001b[36m14942.1096\u001b[0m  \u001b[32m199112145.0833\u001b[0m  \u001b[35m223266636.0000\u001b[0m  0.0315\n",
      "Stopping since RMSE has not improved in the last 5 epochs.\n",
      "[CV 3/3] END lr=0.0001, module__activation=ELU(alpha=1.0), module__dropout=0.2, module__n_hidden_neurons_1=20, module__n_hidden_neurons_2=14, module__n_hidden_neurons_3=12, module__n_hidden_neurons_4=3; total time=   0.2s\n",
      "  epoch        RMSE      train_loss      valid_loss     dur\n",
      "-------  ----------  --------------  --------------  ------\n",
      "      1  \u001b[36m16116.5331\u001b[0m  \u001b[32m210147467.3889\u001b[0m  \u001b[35m259742621.3333\u001b[0m  0.0528\n",
      "      2  \u001b[36m16115.4793\u001b[0m  \u001b[32m210130887.6944\u001b[0m  \u001b[35m259708694.4444\u001b[0m  0.0491\n",
      "      3  \u001b[36m16110.4880\u001b[0m  \u001b[32m210055534.6111\u001b[0m  \u001b[35m259547788.4444\u001b[0m  0.0501\n",
      "      4  \u001b[36m16091.3895\u001b[0m  \u001b[32m209738872.6944\u001b[0m  \u001b[35m258932823.1111\u001b[0m  0.0465\n",
      "      5  \u001b[36m16033.5623\u001b[0m  \u001b[32m208686434.4167\u001b[0m  \u001b[35m257075120.0000\u001b[0m  0.0454\n",
      "      6  \u001b[36m15891.2892\u001b[0m  \u001b[32m205883023.1667\u001b[0m  \u001b[35m252533070.6667\u001b[0m  0.0456\n",
      "      7  \u001b[36m15598.3763\u001b[0m  \u001b[32m199755581.3889\u001b[0m  \u001b[35m243309322.3333\u001b[0m  0.0537\n",
      "      8  \u001b[36m15088.6066\u001b[0m  \u001b[32m188643948.6944\u001b[0m  \u001b[35m227666046.0000\u001b[0m  0.0506\n",
      "      9  \u001b[36m14353.9107\u001b[0m  \u001b[32m172231942.9549\u001b[0m  \u001b[35m206034745.8889\u001b[0m  0.0548\n",
      "     10  \u001b[36m13520.8526\u001b[0m  \u001b[32m153512765.9983\u001b[0m  \u001b[35m182813441.4444\u001b[0m  0.0470\n",
      "     11  \u001b[36m12791.3177\u001b[0m  \u001b[32m137897607.4306\u001b[0m  \u001b[35m163617813.1111\u001b[0m  0.0511\n",
      "     12  \u001b[36m12228.7380\u001b[0m  \u001b[32m127420544.8889\u001b[0m  \u001b[35m149542048.2778\u001b[0m  0.0504\n",
      "     13  \u001b[36m11786.2998\u001b[0m  \u001b[32m120110433.3333\u001b[0m  \u001b[35m138916862.6667\u001b[0m  0.0489\n",
      "     14  \u001b[36m11417.8944\u001b[0m  \u001b[32m114337152.1944\u001b[0m  \u001b[35m130368308.1111\u001b[0m  0.0465\n",
      "     15  \u001b[36m11094.6665\u001b[0m  \u001b[32m109402931.4167\u001b[0m  \u001b[35m123091635.8889\u001b[0m  0.0422\n",
      "     16  \u001b[36m10799.4889\u001b[0m  \u001b[32m104994839.8889\u001b[0m  \u001b[35m116628965.5556\u001b[0m  0.0430\n",
      "     17  \u001b[36m10526.9832\u001b[0m  \u001b[32m101006284.0833\u001b[0m  \u001b[35m110817365.2778\u001b[0m  0.0446\n",
      "     18  \u001b[36m10276.5730\u001b[0m  \u001b[32m97442322.7639\u001b[0m  \u001b[35m105607948.3056\u001b[0m  0.0456\n",
      "     19  \u001b[36m10048.4160\u001b[0m  \u001b[32m94320077.1111\u001b[0m  \u001b[35m100970656.1111\u001b[0m  0.0576\n",
      "     20  \u001b[36m9840.5207\u001b[0m  \u001b[32m91563031.3889\u001b[0m  \u001b[35m96835849.5556\u001b[0m  0.0449\n",
      "     21  \u001b[36m9646.7673\u001b[0m  \u001b[32m89004585.9722\u001b[0m  \u001b[35m93060117.4306\u001b[0m  0.0542\n",
      "     22  \u001b[36m9451.6513\u001b[0m  \u001b[32m86359207.6111\u001b[0m  \u001b[35m89333719.7917\u001b[0m  0.0465\n",
      "     23  \u001b[36m9253.1659\u001b[0m  \u001b[32m83454890.8194\u001b[0m  \u001b[35m85621071.5833\u001b[0m  0.0445\n",
      "     24  \u001b[36m9060.6053\u001b[0m  \u001b[32m80715543.4028\u001b[0m  \u001b[35m82094562.7778\u001b[0m  0.0442\n",
      "     25  \u001b[36m8875.6683\u001b[0m  \u001b[32m78150239.1944\u001b[0m  \u001b[35m78777478.0417\u001b[0m  0.0494\n",
      "     26  \u001b[36m8699.0606\u001b[0m  \u001b[32m75733300.6111\u001b[0m  \u001b[35m75673659.1667\u001b[0m  0.0518\n",
      "     27  \u001b[36m8530.1034\u001b[0m  \u001b[32m73459962.0347\u001b[0m  \u001b[35m72762665.8333\u001b[0m  0.0434\n",
      "     28  \u001b[36m8367.3422\u001b[0m  \u001b[32m71327878.2708\u001b[0m  \u001b[35m70012417.1528\u001b[0m  0.0496\n",
      "     29  \u001b[36m8210.8212\u001b[0m  \u001b[32m69337498.9792\u001b[0m  \u001b[35m67417588.0278\u001b[0m  0.0446\n",
      "     30  \u001b[36m8060.7771\u001b[0m  \u001b[32m67483854.1736\u001b[0m  \u001b[35m64976136.5556\u001b[0m  0.0521\n",
      "     31  \u001b[36m7917.1401\u001b[0m  \u001b[32m65749982.2222\u001b[0m  \u001b[35m62681111.2500\u001b[0m  0.0434\n",
      "     32  \u001b[36m7779.5766\u001b[0m  \u001b[32m64119096.5556\u001b[0m  \u001b[35m60521810.5278\u001b[0m  0.0441\n",
      "     33  \u001b[36m7647.6540\u001b[0m  \u001b[32m62575574.1458\u001b[0m  \u001b[35m58486609.0278\u001b[0m  0.0453\n",
      "     34  \u001b[36m7520.8356\u001b[0m  \u001b[32m61105948.5625\u001b[0m  \u001b[35m56562969.0556\u001b[0m  0.0434\n",
      "     35  \u001b[36m7398.6374\u001b[0m  \u001b[32m59701205.1875\u001b[0m  \u001b[35m54739841.0000\u001b[0m  0.0440\n",
      "     36  \u001b[36m7280.6860\u001b[0m  \u001b[32m58354383.1806\u001b[0m  \u001b[35m53008387.6111\u001b[0m  0.0430\n",
      "     37  \u001b[36m7166.6824\u001b[0m  \u001b[32m57061179.1458\u001b[0m  \u001b[35m51361333.5556\u001b[0m  0.0484\n",
      "     38  \u001b[36m7056.4300\u001b[0m  \u001b[32m55818662.7222\u001b[0m  \u001b[35m49793201.0278\u001b[0m  0.0429\n",
      "     39  \u001b[36m6949.8066\u001b[0m  \u001b[32m54624958.5278\u001b[0m  \u001b[35m48299812.3333\u001b[0m  0.0486\n",
      "     40  \u001b[36m6846.7522\u001b[0m  \u001b[32m53478856.6597\u001b[0m  \u001b[35m46878020.1389\u001b[0m  0.0425\n",
      "     41  \u001b[36m6747.2522\u001b[0m  \u001b[32m52379616.0417\u001b[0m  \u001b[35m45525413.4444\u001b[0m  0.0509\n",
      "     42  \u001b[36m6651.3145\u001b[0m  \u001b[32m51326883.3889\u001b[0m  \u001b[35m44239983.6111\u001b[0m  0.0479\n",
      "     43  \u001b[36m6558.9481\u001b[0m  \u001b[32m50320328.5000\u001b[0m  \u001b[35m43019806.7222\u001b[0m  0.0490\n",
      "     44  \u001b[36m6470.1988\u001b[0m  \u001b[32m49359495.7639\u001b[0m  \u001b[35m41863471.5000\u001b[0m  0.0496\n",
      "     45  \u001b[36m6385.1146\u001b[0m  \u001b[32m48444098.1806\u001b[0m  \u001b[35m40769687.6111\u001b[0m  0.0553\n",
      "     46  \u001b[36m6303.7322\u001b[0m  \u001b[32m47573557.7639\u001b[0m  \u001b[35m39737041.1111\u001b[0m  0.0443\n",
      "     47  \u001b[36m6226.0922\u001b[0m  \u001b[32m46747366.2014\u001b[0m  \u001b[35m38764219.8611\u001b[0m  0.0496\n",
      "     48  \u001b[36m6152.2133\u001b[0m  \u001b[32m45965338.4792\u001b[0m  \u001b[35m37849730.8611\u001b[0m  0.0441\n",
      "     49  \u001b[36m6082.1460\u001b[0m  \u001b[32m45228222.5451\u001b[0m  \u001b[35m36992497.7778\u001b[0m  0.0486\n",
      "     50  \u001b[36m6015.9734\u001b[0m  \u001b[32m44538133.0243\u001b[0m  \u001b[35m36191940.0278\u001b[0m  0.0433\n",
      "     51  \u001b[36m5953.8495\u001b[0m  \u001b[32m43899174.1736\u001b[0m  \u001b[35m35448317.3056\u001b[0m  0.0493\n",
      "     52  \u001b[36m5896.1353\u001b[0m  \u001b[32m43315700.0104\u001b[0m  \u001b[35m34764412.1389\u001b[0m  0.0445\n",
      "     53  \u001b[36m5843.0564\u001b[0m  \u001b[32m42788475.3160\u001b[0m  \u001b[35m34141309.6944\u001b[0m  0.0500\n",
      "     54  \u001b[36m5794.5064\u001b[0m  \u001b[32m42314190.7812\u001b[0m  \u001b[35m33576303.5278\u001b[0m  0.0441\n",
      "     55  \u001b[36m5750.2652\u001b[0m  \u001b[32m41888604.2639\u001b[0m  \u001b[35m33065548.6389\u001b[0m  0.0495\n",
      "     56  \u001b[36m5710.2158\u001b[0m  \u001b[32m41507959.6562\u001b[0m  \u001b[35m32606563.4444\u001b[0m  0.0453\n",
      "     57  \u001b[36m5674.1272\u001b[0m  \u001b[32m41167447.6111\u001b[0m  \u001b[35m32195720.5000\u001b[0m  0.0500\n",
      "     58  \u001b[36m5641.5976\u001b[0m  \u001b[32m40861460.6181\u001b[0m  \u001b[35m31827626.2222\u001b[0m  0.0459\n",
      "     59  \u001b[36m5612.2514\u001b[0m  \u001b[32m40584504.5139\u001b[0m  \u001b[35m31497366.5833\u001b[0m  0.0494\n",
      "     60  \u001b[36m5585.7288\u001b[0m  \u001b[32m40332315.9132\u001b[0m  \u001b[35m31200362.4444\u001b[0m  0.0445\n",
      "     61  \u001b[36m5561.6979\u001b[0m  \u001b[32m40101514.7014\u001b[0m  \u001b[35m30932483.5000\u001b[0m  0.0492\n",
      "     62  \u001b[36m5539.8616\u001b[0m  \u001b[32m39888956.7083\u001b[0m  \u001b[35m30690062.9444\u001b[0m  0.0450\n",
      "     63  \u001b[36m5519.9645\u001b[0m  \u001b[32m39692687.2066\u001b[0m  \u001b[35m30470009.4167\u001b[0m  0.0498\n",
      "     64  \u001b[36m5501.7793\u001b[0m  \u001b[32m39511676.3090\u001b[0m  \u001b[35m30269576.3056\u001b[0m  0.0437\n",
      "     65  \u001b[36m5485.1634\u001b[0m  \u001b[32m39344665.5139\u001b[0m  \u001b[35m30087019.7222\u001b[0m  0.0509\n",
      "     66  \u001b[36m5470.0000\u001b[0m  \u001b[32m39190160.1319\u001b[0m  \u001b[35m29920901.6389\u001b[0m  0.0441\n",
      "     67  \u001b[36m5456.1419\u001b[0m  \u001b[32m39046436.3819\u001b[0m  \u001b[35m29769487.4444\u001b[0m  0.0462\n",
      "     68  \u001b[36m5443.4463\u001b[0m  \u001b[32m38912393.1528\u001b[0m  \u001b[35m29631107.4722\u001b[0m  0.0460\n",
      "     69  \u001b[36m5431.7964\u001b[0m  \u001b[32m38787371.4410\u001b[0m  \u001b[35m29504411.8056\u001b[0m  0.0510\n",
      "     70  \u001b[36m5421.0827\u001b[0m  \u001b[32m38670269.2535\u001b[0m  \u001b[35m29388139.1111\u001b[0m  0.0470\n",
      "     71  \u001b[36m5411.2087\u001b[0m  \u001b[32m38560186.6910\u001b[0m  \u001b[35m29281180.3889\u001b[0m  0.0493\n",
      "     72  \u001b[36m5402.0911\u001b[0m  \u001b[32m38456513.5139\u001b[0m  \u001b[35m29182590.4722\u001b[0m  0.0428\n",
      "     73  \u001b[36m5393.6642\u001b[0m  \u001b[32m38358834.3733\u001b[0m  \u001b[35m29091612.9444\u001b[0m  0.0441\n",
      "     74  \u001b[36m5385.8970\u001b[0m  \u001b[32m38266596.1285\u001b[0m  \u001b[35m29007885.8056\u001b[0m  0.0439\n",
      "     75  \u001b[36m5378.7367\u001b[0m  \u001b[32m38179204.1319\u001b[0m  \u001b[35m28930805.4444\u001b[0m  0.0487\n",
      "     76  \u001b[36m5372.1117\u001b[0m  \u001b[32m38096060.5417\u001b[0m  \u001b[35m28859584.6111\u001b[0m  0.0426\n",
      "     77  \u001b[36m5365.9698\u001b[0m  \u001b[32m38016690.6024\u001b[0m  \u001b[35m28793631.0000\u001b[0m  0.0476\n",
      "     78  \u001b[36m5360.2621\u001b[0m  \u001b[32m37940646.1024\u001b[0m  \u001b[35m28732411.6667\u001b[0m  0.0436\n",
      "     79  \u001b[36m5354.9431\u001b[0m  \u001b[32m37867577.7049\u001b[0m  \u001b[35m28675419.2778\u001b[0m  0.0433\n",
      "     80  \u001b[36m5349.9720\u001b[0m  \u001b[32m37797218.5382\u001b[0m  \u001b[35m28622201.6111\u001b[0m  0.0436\n",
      "     81  \u001b[36m5345.3114\u001b[0m  \u001b[32m37729373.1302\u001b[0m  \u001b[35m28572355.5000\u001b[0m  0.0427\n",
      "     82  \u001b[36m5340.9344\u001b[0m  \u001b[32m37663867.2205\u001b[0m  \u001b[35m28525576.8056\u001b[0m  0.0501\n",
      "     83  \u001b[36m5336.8112\u001b[0m  \u001b[32m37600525.5191\u001b[0m  \u001b[35m28481553.8333\u001b[0m  0.0454\n",
      "     84  \u001b[36m5332.9249\u001b[0m  \u001b[32m37539184.8542\u001b[0m  \u001b[35m28440087.8611\u001b[0m  0.0494\n",
      "     85  \u001b[36m5329.2542\u001b[0m  \u001b[32m37479713.7326\u001b[0m  \u001b[35m28400949.0000\u001b[0m  0.0440\n",
      "     86  \u001b[36m5325.7816\u001b[0m  \u001b[32m37422002.0938\u001b[0m  \u001b[35m28363946.9722\u001b[0m  0.0496\n",
      "     87  \u001b[36m5322.4940\u001b[0m  \u001b[32m37365968.6458\u001b[0m  \u001b[35m28328944.8333\u001b[0m  0.0447\n",
      "     88  \u001b[36m5319.3759\u001b[0m  \u001b[32m37311505.8212\u001b[0m  \u001b[35m28295760.0833\u001b[0m  0.0491\n",
      "     89  \u001b[36m5316.4138\u001b[0m  \u001b[32m37258536.3681\u001b[0m  \u001b[35m28264255.3056\u001b[0m  0.0461\n",
      "     90  \u001b[36m5313.5980\u001b[0m  \u001b[32m37206988.6337\u001b[0m  \u001b[35m28234324.3611\u001b[0m  0.0547\n",
      "     91  \u001b[36m5310.9157\u001b[0m  \u001b[32m37156796.2413\u001b[0m  \u001b[35m28205826.7778\u001b[0m  0.0497\n",
      "     92  \u001b[36m5308.3561\u001b[0m  \u001b[32m37107879.5764\u001b[0m  \u001b[35m28178644.0556\u001b[0m  0.0476\n",
      "     93  \u001b[36m5305.9054\u001b[0m  \u001b[32m37060170.4444\u001b[0m  \u001b[35m28152630.8889\u001b[0m  0.0444\n",
      "     94  \u001b[36m5303.5579\u001b[0m  \u001b[32m37013590.4861\u001b[0m  \u001b[35m28127725.9167\u001b[0m  0.0529\n",
      "     95  \u001b[36m5301.3034\u001b[0m  \u001b[32m36968044.2326\u001b[0m  \u001b[35m28103819.1389\u001b[0m  0.0450\n",
      "     96  \u001b[36m5299.1339\u001b[0m  \u001b[32m36923498.9601\u001b[0m  \u001b[35m28080822.6667\u001b[0m  0.0506\n",
      "     97  \u001b[36m5297.0456\u001b[0m  \u001b[32m36879917.5955\u001b[0m  \u001b[35m28058692.1111\u001b[0m  0.0475\n",
      "     98  \u001b[36m5295.0324\u001b[0m  \u001b[32m36837275.8854\u001b[0m  \u001b[35m28037368.3333\u001b[0m  0.0455\n",
      "     99  \u001b[36m5293.0891\u001b[0m  \u001b[32m36795531.1667\u001b[0m  \u001b[35m28016793.2500\u001b[0m  0.0452\n",
      "    100  \u001b[36m5291.2125\u001b[0m  \u001b[32m36754652.5694\u001b[0m  \u001b[35m27996927.6944\u001b[0m  0.0503\n",
      "    101  \u001b[36m5289.3977\u001b[0m  \u001b[32m36714608.7986\u001b[0m  \u001b[35m27977727.5278\u001b[0m  0.0450\n",
      "    102  \u001b[36m5287.6409\u001b[0m  \u001b[32m36675366.1615\u001b[0m  \u001b[35m27959147.6389\u001b[0m  0.0479\n",
      "    103  \u001b[36m5285.9398\u001b[0m  \u001b[32m36636890.0434\u001b[0m  \u001b[35m27941160.8889\u001b[0m  0.0448\n",
      "    104  \u001b[36m5284.2895\u001b[0m  \u001b[32m36599102.7708\u001b[0m  \u001b[35m27923716.8611\u001b[0m  0.0503\n",
      "    105  \u001b[36m5282.6834\u001b[0m  \u001b[32m36561918.1319\u001b[0m  \u001b[35m27906741.8333\u001b[0m  0.0481\n",
      "    106  \u001b[36m5281.1063\u001b[0m  \u001b[32m36525239.1632\u001b[0m  \u001b[35m27890084.2500\u001b[0m  0.0493\n",
      "    107  \u001b[36m5279.5517\u001b[0m  \u001b[32m36488996.9375\u001b[0m  \u001b[35m27873663.0833\u001b[0m  0.0455\n",
      "    108  \u001b[36m5278.0095\u001b[0m  \u001b[32m36453108.0608\u001b[0m  \u001b[35m27857381.1667\u001b[0m  0.0503\n",
      "    109  \u001b[36m5276.4672\u001b[0m  \u001b[32m36417466.4045\u001b[0m  \u001b[35m27841102.3889\u001b[0m  0.0448\n",
      "    110  \u001b[36m5274.9083\u001b[0m  \u001b[32m36381914.7760\u001b[0m  \u001b[35m27824655.6667\u001b[0m  0.0524\n",
      "    111  \u001b[36m5273.3079\u001b[0m  \u001b[32m36346220.4323\u001b[0m  \u001b[35m27807775.8611\u001b[0m  0.0447\n",
      "    112  \u001b[36m5271.6220\u001b[0m  \u001b[32m36309990.0469\u001b[0m  \u001b[35m27789999.5556\u001b[0m  0.0501\n",
      "    113  \u001b[36m5269.7744\u001b[0m  \u001b[32m36272572.3889\u001b[0m  \u001b[35m27770520.0000\u001b[0m  0.0444\n",
      "    114  \u001b[36m5267.6181\u001b[0m  \u001b[32m36232807.6493\u001b[0m  \u001b[35m27747798.6111\u001b[0m  0.0455\n",
      "    115  \u001b[36m5264.9068\u001b[0m  \u001b[32m36188735.1892\u001b[0m  \u001b[35m27719245.5556\u001b[0m  0.0421\n",
      "    116  \u001b[36m5261.4017\u001b[0m  \u001b[32m36138161.1354\u001b[0m  \u001b[35m27682348.8889\u001b[0m  0.0508\n",
      "    117  \u001b[36m5257.6626\u001b[0m  \u001b[32m36083975.4236\u001b[0m  \u001b[35m27643018.7222\u001b[0m  0.0433\n",
      "    118  \u001b[36m5255.0395\u001b[0m  \u001b[32m36037329.6424\u001b[0m  \u001b[35m27615441.8333\u001b[0m  0.0512\n",
      "    119  \u001b[36m5253.5186\u001b[0m  \u001b[32m35996538.8924\u001b[0m  \u001b[35m27599454.7500\u001b[0m  0.0442\n",
      "    120  \u001b[36m5252.5550\u001b[0m  \u001b[32m35955677.1806\u001b[0m  \u001b[35m27589333.8611\u001b[0m  0.0439\n",
      "    121  \u001b[36m5251.8168\u001b[0m  \u001b[32m35915313.7170\u001b[0m  \u001b[35m27581581.5556\u001b[0m  0.0424\n",
      "    122  \u001b[36m5251.1317\u001b[0m  \u001b[32m35875627.1736\u001b[0m  \u001b[35m27574385.6667\u001b[0m  0.0491\n",
      "    123  \u001b[36m5250.4221\u001b[0m  \u001b[32m35836610.9236\u001b[0m  \u001b[35m27566930.6667\u001b[0m  0.0446\n",
      "    124  \u001b[36m5249.6545\u001b[0m  \u001b[32m35798225.8003\u001b[0m  \u001b[35m27558870.2778\u001b[0m  0.0502\n",
      "    125  \u001b[36m5248.8220\u001b[0m  \u001b[32m35760430.6701\u001b[0m  \u001b[35m27550131.7222\u001b[0m  0.0422\n",
      "    126  \u001b[36m5247.9257\u001b[0m  \u001b[32m35723208.2292\u001b[0m  \u001b[35m27540723.1944\u001b[0m  0.0539\n",
      "    127  \u001b[36m5246.9706\u001b[0m  \u001b[32m35686525.0590\u001b[0m  \u001b[35m27530702.7778\u001b[0m  0.0442\n",
      "    128  \u001b[36m5245.9670\u001b[0m  \u001b[32m35650371.7361\u001b[0m  \u001b[35m27520170.5000\u001b[0m  0.0492\n",
      "    129  \u001b[36m5244.9236\u001b[0m  \u001b[32m35614733.2656\u001b[0m  \u001b[35m27509224.9722\u001b[0m  0.0424\n",
      "    130  \u001b[36m5243.8493\u001b[0m  \u001b[32m35579596.4080\u001b[0m  \u001b[35m27497953.2222\u001b[0m  0.0453\n",
      "    131  \u001b[36m5242.7483\u001b[0m  \u001b[32m35544949.6719\u001b[0m  \u001b[35m27486411.4444\u001b[0m  0.0470\n",
      "    132  \u001b[36m5241.6284\u001b[0m  \u001b[32m35510785.3750\u001b[0m  \u001b[35m27474667.5000\u001b[0m  0.0515\n",
      "    133  \u001b[36m5240.4914\u001b[0m  \u001b[32m35477094.3177\u001b[0m  \u001b[35m27462751.2778\u001b[0m  0.0487\n",
      "    134  \u001b[36m5239.3412\u001b[0m  \u001b[32m35443866.0208\u001b[0m  \u001b[35m27450695.8889\u001b[0m  0.0474\n",
      "    135  \u001b[36m5238.1779\u001b[0m  \u001b[32m35411091.3941\u001b[0m  \u001b[35m27438509.3889\u001b[0m  0.0538\n",
      "    136  \u001b[36m5237.0049\u001b[0m  \u001b[32m35378759.6215\u001b[0m  \u001b[35m27426219.4444\u001b[0m  0.0530\n",
      "    137  \u001b[36m5235.8212\u001b[0m  \u001b[32m35346861.0972\u001b[0m  \u001b[35m27413822.6667\u001b[0m  0.0485\n",
      "    138  \u001b[36m5234.6263\u001b[0m  \u001b[32m35315378.7656\u001b[0m  \u001b[35m27401313.9167\u001b[0m  0.0528\n",
      "    139  \u001b[36m5233.4182\u001b[0m  \u001b[32m35284294.6632\u001b[0m  \u001b[35m27388664.6111\u001b[0m  0.0475\n",
      "    140  \u001b[36m5232.1961\u001b[0m  \u001b[32m35253594.7760\u001b[0m  \u001b[35m27375876.3056\u001b[0m  0.0557\n",
      "    141  \u001b[36m5230.9563\u001b[0m  \u001b[32m35223255.5764\u001b[0m  \u001b[35m27362905.3889\u001b[0m  0.0470\n",
      "    142  \u001b[36m5229.6969\u001b[0m  \u001b[32m35193259.8611\u001b[0m  \u001b[35m27349729.5556\u001b[0m  0.0522\n",
      "    143  \u001b[36m5228.4149\u001b[0m  \u001b[32m35163568.9236\u001b[0m  \u001b[35m27336319.7222\u001b[0m  0.0478\n",
      "    144  \u001b[36m5227.1042\u001b[0m  \u001b[32m35134039.8403\u001b[0m  \u001b[35m27322617.8611\u001b[0m  0.0542\n",
      "    145  \u001b[36m5225.7579\u001b[0m  \u001b[32m35104603.9896\u001b[0m  \u001b[35m27308545.3333\u001b[0m  0.0469\n",
      "    146  \u001b[36m5224.3668\u001b[0m  \u001b[32m35075218.5729\u001b[0m  \u001b[35m27294007.9167\u001b[0m  0.0466\n",
      "    147  \u001b[36m5222.9229\u001b[0m  \u001b[32m35045761.3976\u001b[0m  \u001b[35m27278925.6944\u001b[0m  0.0526\n",
      "    148  \u001b[36m5221.4192\u001b[0m  \u001b[32m35016134.7361\u001b[0m  \u001b[35m27263216.9444\u001b[0m  0.0471\n",
      "    149  \u001b[36m5219.8492\u001b[0m  \u001b[32m34986307.2760\u001b[0m  \u001b[35m27246826.2222\u001b[0m  0.0511\n",
      "    150  \u001b[36m5218.2240\u001b[0m  \u001b[32m34956261.0017\u001b[0m  \u001b[35m27229860.8333\u001b[0m  0.0457\n",
      "    151  \u001b[36m5216.5456\u001b[0m  \u001b[32m34926102.3316\u001b[0m  \u001b[35m27212347.6944\u001b[0m  0.0433\n",
      "    152  \u001b[36m5214.8120\u001b[0m  \u001b[32m34896084.8681\u001b[0m  \u001b[35m27194265.2500\u001b[0m  0.0459\n",
      "    153  \u001b[36m5213.0317\u001b[0m  \u001b[32m34866446.0885\u001b[0m  \u001b[35m27175699.2222\u001b[0m  0.0450\n",
      "    154  \u001b[36m5211.2106\u001b[0m  \u001b[32m34837214.2309\u001b[0m  \u001b[35m27156715.0000\u001b[0m  0.0449\n",
      "    155  \u001b[36m5209.3585\u001b[0m  \u001b[32m34808312.2951\u001b[0m  \u001b[35m27137414.5000\u001b[0m  0.0425\n",
      "    156  \u001b[36m5207.5474\u001b[0m  \u001b[32m34779770.2483\u001b[0m  \u001b[35m27118547.3056\u001b[0m  0.0492\n",
      "    157  \u001b[36m5205.9312\u001b[0m  \u001b[32m34751911.0226\u001b[0m  \u001b[35m27101723.0278\u001b[0m  0.0443\n",
      "    158  \u001b[36m5204.5957\u001b[0m  \u001b[32m34725069.1545\u001b[0m  \u001b[35m27087816.3889\u001b[0m  0.0503\n",
      "    159  \u001b[36m5203.5288\u001b[0m  \u001b[32m34699346.0573\u001b[0m  \u001b[35m27076710.9444\u001b[0m  0.0457\n",
      "    160  \u001b[36m5202.6632\u001b[0m  \u001b[32m34674688.5677\u001b[0m  \u001b[35m27067706.0556\u001b[0m  0.0471\n",
      "    161  \u001b[36m5201.9254\u001b[0m  \u001b[32m34650979.4740\u001b[0m  \u001b[35m27060028.5556\u001b[0m  0.0447\n",
      "    162  \u001b[36m5201.2702\u001b[0m  \u001b[32m34628184.0556\u001b[0m  \u001b[35m27053212.7222\u001b[0m  0.0502\n",
      "    163  \u001b[36m5200.6726\u001b[0m  \u001b[32m34606245.5208\u001b[0m  \u001b[35m27046993.7222\u001b[0m  0.0464\n",
      "    164  \u001b[36m5200.1175\u001b[0m  \u001b[32m34585058.7031\u001b[0m  \u001b[35m27041219.8333\u001b[0m  0.0546\n",
      "    165  \u001b[36m5199.5931\u001b[0m  \u001b[32m34564550.7830\u001b[0m  \u001b[35m27035768.5556\u001b[0m  0.0470\n",
      "    166  \u001b[36m5199.0943\u001b[0m  \u001b[32m34544657.4167\u001b[0m  \u001b[35m27030580.7500\u001b[0m  0.0509\n",
      "    167  \u001b[36m5198.6139\u001b[0m  \u001b[32m34525301.5139\u001b[0m  \u001b[35m27025586.8333\u001b[0m  0.0451\n",
      "    168  \u001b[36m5198.1497\u001b[0m  \u001b[32m34506436.3802\u001b[0m  \u001b[35m27020760.2222\u001b[0m  0.0495\n",
      "    169  \u001b[36m5197.6989\u001b[0m  \u001b[32m34488016.9948\u001b[0m  \u001b[35m27016074.6389\u001b[0m  0.0437\n",
      "    170  \u001b[36m5197.2581\u001b[0m  \u001b[32m34470004.1597\u001b[0m  \u001b[35m27011490.0000\u001b[0m  0.0460\n",
      "    171  \u001b[36m5196.8244\u001b[0m  \u001b[32m34452360.4965\u001b[0m  \u001b[35m27006984.7778\u001b[0m  0.0484\n",
      "    172  \u001b[36m5196.3976\u001b[0m  \u001b[32m34435075.7500\u001b[0m  \u001b[35m27002547.3889\u001b[0m  0.0535\n",
      "    173  \u001b[36m5195.9761\u001b[0m  \u001b[32m34418113.6701\u001b[0m  \u001b[35m26998165.2222\u001b[0m  0.0446\n",
      "    174  \u001b[36m5195.5595\u001b[0m  \u001b[32m34401468.8142\u001b[0m  \u001b[35m26993838.3889\u001b[0m  0.0523\n",
      "    175  \u001b[36m5195.1474\u001b[0m  \u001b[32m34385112.4219\u001b[0m  \u001b[35m26989551.9167\u001b[0m  0.0452\n",
      "    176  \u001b[36m5194.7383\u001b[0m  \u001b[32m34369032.3472\u001b[0m  \u001b[35m26985305.1944\u001b[0m  0.0507\n",
      "    177  \u001b[36m5194.3346\u001b[0m  \u001b[32m34353209.0764\u001b[0m  \u001b[35m26981111.0278\u001b[0m  0.0426\n",
      "    178  \u001b[36m5193.9342\u001b[0m  \u001b[32m34337631.1233\u001b[0m  \u001b[35m26976952.1389\u001b[0m  0.0509\n",
      "    179  \u001b[36m5193.5373\u001b[0m  \u001b[32m34322293.8108\u001b[0m  \u001b[35m26972829.7778\u001b[0m  0.0471\n",
      "    180  \u001b[36m5193.1443\u001b[0m  \u001b[32m34307173.6788\u001b[0m  \u001b[35m26968746.6667\u001b[0m  0.0450\n",
      "    181  \u001b[36m5192.7528\u001b[0m  \u001b[32m34292265.7674\u001b[0m  \u001b[35m26964682.4444\u001b[0m  0.0452\n",
      "    182  \u001b[36m5192.3667\u001b[0m  \u001b[32m34277565.2066\u001b[0m  \u001b[35m26960672.7778\u001b[0m  0.0513\n",
      "    183  \u001b[36m5191.9825\u001b[0m  \u001b[32m34263058.7170\u001b[0m  \u001b[35m26956684.6111\u001b[0m  0.0460\n",
      "    184  \u001b[36m5191.6019\u001b[0m  \u001b[32m34248743.3021\u001b[0m  \u001b[35m26952732.6111\u001b[0m  0.0478\n",
      "    185  \u001b[36m5191.2243\u001b[0m  \u001b[32m34234615.9427\u001b[0m  \u001b[35m26948811.8056\u001b[0m  0.0437\n",
      "    186  \u001b[36m5190.8496\u001b[0m  \u001b[32m34220660.0243\u001b[0m  \u001b[35m26944919.5833\u001b[0m  0.0498\n",
      "    187  \u001b[36m5190.4776\u001b[0m  \u001b[32m34206867.5069\u001b[0m  \u001b[35m26941055.4444\u001b[0m  0.0457\n",
      "    188  \u001b[36m5190.1083\u001b[0m  \u001b[32m34193243.3438\u001b[0m  \u001b[35m26937225.7778\u001b[0m  0.0496\n",
      "    189  \u001b[36m5189.7412\u001b[0m  \u001b[32m34179780.3924\u001b[0m  \u001b[35m26933414.2500\u001b[0m  0.0451\n",
      "    190  \u001b[36m5189.3778\u001b[0m  \u001b[32m34166471.0156\u001b[0m  \u001b[35m26929642.5833\u001b[0m  0.0505\n",
      "    191  \u001b[36m5189.0161\u001b[0m  \u001b[32m34153309.3056\u001b[0m  \u001b[35m26925884.9444\u001b[0m  0.0480\n",
      "    192  \u001b[36m5188.6572\u001b[0m  \u001b[32m34140293.2951\u001b[0m  \u001b[35m26922162.3056\u001b[0m  0.0572\n",
      "    193  \u001b[36m5188.3001\u001b[0m  \u001b[32m34127415.6042\u001b[0m  \u001b[35m26918457.0000\u001b[0m  0.0639\n",
      "    194  \u001b[36m5187.9449\u001b[0m  \u001b[32m34114677.7153\u001b[0m  \u001b[35m26914769.1667\u001b[0m  0.0618\n",
      "    195  \u001b[36m5187.5913\u001b[0m  \u001b[32m34102068.0399\u001b[0m  \u001b[35m26911105.0556\u001b[0m  0.0656\n",
      "    196  \u001b[36m5187.2405\u001b[0m  \u001b[32m34089588.3941\u001b[0m  \u001b[35m26907463.1111\u001b[0m  0.0464\n",
      "    197  \u001b[36m5186.8914\u001b[0m  \u001b[32m34077237.6146\u001b[0m  \u001b[35m26903840.6111\u001b[0m  0.0470\n",
      "    198  \u001b[36m5186.5434\u001b[0m  \u001b[32m34065006.1840\u001b[0m  \u001b[35m26900234.0556\u001b[0m  0.0454\n",
      "    199  \u001b[36m5186.1978\u001b[0m  \u001b[32m34052893.8264\u001b[0m  \u001b[35m26896649.2778\u001b[0m  0.0510\n",
      "    200  \u001b[36m5185.8529\u001b[0m  \u001b[32m34040892.3385\u001b[0m  \u001b[35m26893068.0556\u001b[0m  0.0474\n",
      "    201  \u001b[36m5185.5106\u001b[0m  \u001b[32m34029014.4844\u001b[0m  \u001b[35m26889519.8889\u001b[0m  0.0514\n",
      "    202  \u001b[36m5185.1687\u001b[0m  \u001b[32m34017239.5104\u001b[0m  \u001b[35m26885972.8889\u001b[0m  0.0472\n",
      "    203  \u001b[36m5184.8279\u001b[0m  \u001b[32m34005575.7309\u001b[0m  \u001b[35m26882440.7778\u001b[0m  0.0471\n",
      "    204  \u001b[36m5184.4874\u001b[0m  \u001b[32m33994009.4878\u001b[0m  \u001b[35m26878908.0556\u001b[0m  0.0456\n",
      "    205  \u001b[36m5184.1468\u001b[0m  \u001b[32m33982547.8264\u001b[0m  \u001b[35m26875374.7222\u001b[0m  0.0517\n",
      "    206  \u001b[36m5183.8057\u001b[0m  \u001b[32m33971186.8299\u001b[0m  \u001b[35m26871840.6111\u001b[0m  0.0472\n",
      "    207  \u001b[36m5183.4664\u001b[0m  \u001b[32m33959923.2222\u001b[0m  \u001b[35m26868321.3333\u001b[0m  0.0522\n",
      "    208  \u001b[36m5183.1265\u001b[0m  \u001b[32m33948753.7587\u001b[0m  \u001b[35m26864799.1667\u001b[0m  0.0457\n",
      "    209  \u001b[36m5182.7855\u001b[0m  \u001b[32m33937666.2031\u001b[0m  \u001b[35m26861264.5000\u001b[0m  0.0460\n",
      "    210  \u001b[36m5182.4436\u001b[0m  \u001b[32m33926672.3733\u001b[0m  \u001b[35m26857725.5556\u001b[0m  0.0452\n",
      "    211  \u001b[36m5182.1005\u001b[0m  \u001b[32m33915764.7135\u001b[0m  \u001b[35m26854165.0278\u001b[0m  0.0436\n",
      "    212  \u001b[36m5181.7584\u001b[0m  \u001b[32m33904934.5590\u001b[0m  \u001b[35m26850620.1667\u001b[0m  0.0563\n",
      "    213  \u001b[36m5181.4137\u001b[0m  \u001b[32m33894183.3212\u001b[0m  \u001b[35m26847050.8333\u001b[0m  0.0559\n",
      "    214  \u001b[36m5181.0155\u001b[0m  \u001b[32m33883456.3542\u001b[0m  \u001b[35m26842922.0556\u001b[0m  0.0518\n",
      "    215  \u001b[36m5180.1203\u001b[0m  \u001b[32m33871873.7795\u001b[0m  \u001b[35m26833642.1667\u001b[0m  0.0534\n",
      "    216  \u001b[36m5177.8403\u001b[0m  \u001b[32m33856212.3038\u001b[0m  \u001b[35m26810030.5556\u001b[0m  0.0539\n",
      "    217  \u001b[36m5174.4851\u001b[0m  \u001b[32m33832056.1840\u001b[0m  \u001b[35m26775295.8333\u001b[0m  0.0480\n",
      "    218  \u001b[36m5171.0759\u001b[0m  \u001b[32m33803306.4375\u001b[0m  \u001b[35m26740025.7222\u001b[0m  0.0529\n",
      "    219  \u001b[36m5168.3303\u001b[0m  \u001b[32m33778788.9983\u001b[0m  \u001b[35m26711636.2222\u001b[0m  0.0459\n",
      "    220  \u001b[36m5166.1429\u001b[0m  \u001b[32m33757328.6528\u001b[0m  \u001b[35m26689033.8889\u001b[0m  0.0521\n",
      "    221  \u001b[36m5164.3861\u001b[0m  \u001b[32m33737692.0538\u001b[0m  \u001b[35m26670883.4444\u001b[0m  0.0477\n",
      "    222  \u001b[36m5162.9466\u001b[0m  \u001b[32m33719236.5330\u001b[0m  \u001b[35m26656019.3889\u001b[0m  0.0468\n",
      "    223  \u001b[36m5161.7402\u001b[0m  \u001b[32m33701639.5208\u001b[0m  \u001b[35m26643563.2222\u001b[0m  0.0482\n",
      "    224  \u001b[36m5160.7058\u001b[0m  \u001b[32m33684720.9965\u001b[0m  \u001b[35m26632883.3889\u001b[0m  0.0607\n",
      "    225  \u001b[36m5159.7961\u001b[0m  \u001b[32m33668347.6267\u001b[0m  \u001b[35m26623494.6389\u001b[0m  0.0544\n",
      "    226  \u001b[36m5158.9794\u001b[0m  \u001b[32m33652433.3108\u001b[0m  \u001b[35m26615069.8611\u001b[0m  0.0477\n",
      "    227  \u001b[36m5158.2290\u001b[0m  \u001b[32m33636900.4045\u001b[0m  \u001b[35m26607327.5278\u001b[0m  0.0516\n",
      "    228  \u001b[36m5157.5258\u001b[0m  \u001b[32m33621679.4462\u001b[0m  \u001b[35m26600072.8056\u001b[0m  0.0463\n",
      "    229  \u001b[36m5156.8545\u001b[0m  \u001b[32m33606721.0451\u001b[0m  \u001b[35m26593147.6944\u001b[0m  0.0530\n",
      "    230  \u001b[36m5156.2005\u001b[0m  \u001b[32m33591982.7326\u001b[0m  \u001b[35m26586404.9722\u001b[0m  0.0460\n",
      "    231  \u001b[36m5155.5574\u001b[0m  \u001b[32m33577442.0052\u001b[0m  \u001b[35m26579772.3611\u001b[0m  0.0459\n",
      "    232  \u001b[36m5154.9157\u001b[0m  \u001b[32m33563067.4740\u001b[0m  \u001b[35m26573154.6944\u001b[0m  0.0452\n",
      "    233  \u001b[36m5154.2705\u001b[0m  \u001b[32m33548842.2587\u001b[0m  \u001b[35m26566503.1944\u001b[0m  0.0510\n",
      "    234  \u001b[36m5153.6170\u001b[0m  \u001b[32m33534750.1458\u001b[0m  \u001b[35m26559765.1111\u001b[0m  0.0445\n",
      "    235  \u001b[36m5152.9524\u001b[0m  \u001b[32m33520780.9740\u001b[0m  \u001b[35m26552918.4722\u001b[0m  0.0491\n",
      "    236  \u001b[36m5152.2746\u001b[0m  \u001b[32m33506918.2691\u001b[0m  \u001b[35m26545934.3056\u001b[0m  0.0455\n",
      "    237  \u001b[36m5151.5833\u001b[0m  \u001b[32m33493154.8715\u001b[0m  \u001b[35m26538808.5833\u001b[0m  0.0438\n",
      "    238  \u001b[36m5150.8760\u001b[0m  \u001b[32m33479487.6545\u001b[0m  \u001b[35m26531523.3889\u001b[0m  0.0464\n",
      "    239  \u001b[36m5150.1526\u001b[0m  \u001b[32m33465899.2066\u001b[0m  \u001b[35m26524075.2222\u001b[0m  0.0448\n",
      "    240  \u001b[36m5149.4134\u001b[0m  \u001b[32m33452383.7014\u001b[0m  \u001b[35m26516458.1389\u001b[0m  0.0452\n",
      "    241  \u001b[36m5148.6577\u001b[0m  \u001b[32m33438938.5538\u001b[0m  \u001b[35m26508676.8889\u001b[0m  0.0451\n",
      "    242  \u001b[36m5147.8914\u001b[0m  \u001b[32m33425558.5729\u001b[0m  \u001b[35m26500785.5556\u001b[0m  0.0450\n",
      "    243  \u001b[36m5147.1149\u001b[0m  \u001b[32m33412242.7552\u001b[0m  \u001b[35m26492792.6944\u001b[0m  0.0537\n",
      "    244  \u001b[36m5146.3290\u001b[0m  \u001b[32m33398982.2274\u001b[0m  \u001b[35m26484700.9722\u001b[0m  0.0540\n",
      "    245  \u001b[36m5145.5293\u001b[0m  \u001b[32m33385755.6667\u001b[0m  \u001b[35m26476470.5000\u001b[0m  0.0483\n",
      "    246  \u001b[36m5144.7136\u001b[0m  \u001b[32m33372560.4705\u001b[0m  \u001b[35m26468078.1389\u001b[0m  0.0437\n",
      "    247  \u001b[36m5143.8810\u001b[0m  \u001b[32m33359393.4115\u001b[0m  \u001b[35m26459515.0833\u001b[0m  0.0500\n",
      "    248  \u001b[36m5143.0291\u001b[0m  \u001b[32m33346238.6858\u001b[0m  \u001b[35m26450748.6111\u001b[0m  0.0443\n",
      "    249  \u001b[36m5142.1573\u001b[0m  \u001b[32m33333091.9878\u001b[0m  \u001b[35m26441783.0278\u001b[0m  0.0442\n",
      "    250  \u001b[36m5141.2617\u001b[0m  \u001b[32m33319945.3819\u001b[0m  \u001b[35m26432571.6944\u001b[0m  0.0450\n",
      "    251  \u001b[36m5140.3412\u001b[0m  \u001b[32m33306781.0521\u001b[0m  \u001b[35m26423105.4444\u001b[0m  0.0448\n",
      "    252  \u001b[36m5139.3941\u001b[0m  \u001b[32m33293598.8542\u001b[0m  \u001b[35m26413372.0833\u001b[0m  0.0541\n",
      "    253  \u001b[36m5138.4200\u001b[0m  \u001b[32m33280377.7066\u001b[0m  \u001b[35m26403359.4722\u001b[0m  0.0457\n",
      "    254  \u001b[36m5137.4190\u001b[0m  \u001b[32m33267119.3299\u001b[0m  \u001b[35m26393073.3611\u001b[0m  0.0466\n",
      "    255  \u001b[36m5136.3869\u001b[0m  \u001b[32m33253804.8837\u001b[0m  \u001b[35m26382467.8056\u001b[0m  0.0457\n",
      "    256  \u001b[36m5135.3220\u001b[0m  \u001b[32m33240412.7656\u001b[0m  \u001b[35m26371532.8056\u001b[0m  0.0468\n",
      "    257  \u001b[36m5134.2191\u001b[0m  \u001b[32m33226940.6719\u001b[0m  \u001b[35m26360209.9167\u001b[0m  0.0536\n",
      "    258  \u001b[36m5133.0763\u001b[0m  \u001b[32m33213365.0955\u001b[0m  \u001b[35m26348473.1389\u001b[0m  0.0462\n",
      "    259  \u001b[36m5131.8897\u001b[0m  \u001b[32m33199670.5799\u001b[0m  \u001b[35m26336288.9444\u001b[0m  0.0533\n",
      "    260  \u001b[36m5130.6549\u001b[0m  \u001b[32m33185856.7934\u001b[0m  \u001b[35m26323619.3333\u001b[0m  0.0475\n",
      "    261  \u001b[36m5129.3805\u001b[0m  \u001b[32m33171897.9566\u001b[0m  \u001b[35m26310544.5556\u001b[0m  0.0525\n",
      "    262  \u001b[36m5128.0991\u001b[0m  \u001b[32m33157864.1997\u001b[0m  \u001b[35m26297398.3750\u001b[0m  0.0440\n",
      "    263  \u001b[36m5126.8661\u001b[0m  \u001b[32m33143863.8924\u001b[0m  \u001b[35m26284755.8889\u001b[0m  0.0462\n",
      "    264  \u001b[36m5125.7210\u001b[0m  \u001b[32m33130013.4358\u001b[0m  \u001b[35m26273018.0556\u001b[0m  0.0445\n",
      "    265  \u001b[36m5124.6719\u001b[0m  \u001b[32m33116396.0503\u001b[0m  \u001b[35m26262258.5694\u001b[0m  0.0512\n",
      "    266  \u001b[36m5123.7057\u001b[0m  \u001b[32m33102986.2344\u001b[0m  \u001b[35m26252362.5556\u001b[0m  0.0463\n",
      "    267  \u001b[36m5122.7971\u001b[0m  \u001b[32m33089759.9809\u001b[0m  \u001b[35m26243052.3472\u001b[0m  0.0520\n",
      "    268  \u001b[36m5121.9213\u001b[0m  \u001b[32m33076700.1094\u001b[0m  \u001b[35m26234076.2222\u001b[0m  0.0469\n",
      "    269  \u001b[36m5121.0538\u001b[0m  \u001b[32m33063765.3247\u001b[0m  \u001b[35m26225189.0278\u001b[0m  0.0505\n",
      "    270  \u001b[36m5120.1832\u001b[0m  \u001b[32m33050952.6823\u001b[0m  \u001b[35m26216275.4722\u001b[0m  0.0434\n",
      "    271  \u001b[36m5119.3031\u001b[0m  \u001b[32m33038240.0938\u001b[0m  \u001b[35m26207265.5000\u001b[0m  0.0471\n",
      "    272  \u001b[36m5118.4144\u001b[0m  \u001b[32m33025627.0278\u001b[0m  \u001b[35m26198162.9861\u001b[0m  0.0465\n",
      "    273  \u001b[36m5117.5127\u001b[0m  \u001b[32m33013108.9184\u001b[0m  \u001b[35m26188937.4306\u001b[0m  0.0503\n",
      "    274  \u001b[36m5116.6034\u001b[0m  \u001b[32m33000676.0903\u001b[0m  \u001b[35m26179631.2083\u001b[0m  0.0468\n",
      "    275  \u001b[36m5115.6855\u001b[0m  \u001b[32m32988320.4514\u001b[0m  \u001b[35m26170237.2500\u001b[0m  0.0521\n",
      "    276  \u001b[36m5114.7608\u001b[0m  \u001b[32m32976040.6649\u001b[0m  \u001b[35m26160777.0556\u001b[0m  0.0457\n",
      "    277  \u001b[36m5113.8310\u001b[0m  \u001b[32m32963825.8976\u001b[0m  \u001b[35m26151267.0000\u001b[0m  0.0457\n",
      "    278  \u001b[36m5112.8972\u001b[0m  \u001b[32m32951679.2118\u001b[0m  \u001b[35m26141719.5694\u001b[0m  0.0459\n",
      "    279  \u001b[36m5111.9599\u001b[0m  \u001b[32m32939593.3021\u001b[0m  \u001b[35m26132130.2222\u001b[0m  0.0519\n",
      "    280  \u001b[36m5111.0183\u001b[0m  \u001b[32m32927565.1389\u001b[0m  \u001b[35m26122508.3333\u001b[0m  0.0456\n",
      "    281  \u001b[36m5110.0740\u001b[0m  \u001b[32m32915599.8542\u001b[0m  \u001b[35m26112859.0278\u001b[0m  0.0529\n",
      "    282  \u001b[36m5109.1267\u001b[0m  \u001b[32m32903682.2240\u001b[0m  \u001b[35m26103178.9861\u001b[0m  0.0461\n",
      "    283  \u001b[36m5108.1774\u001b[0m  \u001b[32m32891820.9132\u001b[0m  \u001b[35m26093474.6389\u001b[0m  0.0469\n",
      "    284  \u001b[36m5107.2255\u001b[0m  \u001b[32m32880004.6684\u001b[0m  \u001b[35m26083749.0278\u001b[0m  0.0453\n",
      "    285  \u001b[36m5106.2703\u001b[0m  \u001b[32m32868237.1806\u001b[0m  \u001b[35m26073997.5000\u001b[0m  0.0508\n",
      "    286  \u001b[36m5105.3129\u001b[0m  \u001b[32m32856525.5312\u001b[0m  \u001b[35m26064222.2222\u001b[0m  0.0453\n",
      "    287  \u001b[36m5104.3538\u001b[0m  \u001b[32m32844851.5990\u001b[0m  \u001b[35m26054427.9444\u001b[0m  0.0516\n",
      "    288  \u001b[36m5103.3922\u001b[0m  \u001b[32m32833225.2917\u001b[0m  \u001b[35m26044612.6111\u001b[0m  0.0487\n",
      "    289  \u001b[36m5102.4290\u001b[0m  \u001b[32m32821640.4462\u001b[0m  \u001b[35m26034781.4444\u001b[0m  0.0529\n",
      "    290  \u001b[36m5101.4612\u001b[0m  \u001b[32m32810095.4444\u001b[0m  \u001b[35m26024906.1389\u001b[0m  0.0473\n",
      "    291  \u001b[36m5100.4915\u001b[0m  \u001b[32m32798598.0642\u001b[0m  \u001b[35m26015015.0556\u001b[0m  0.0681\n",
      "    292  \u001b[36m5099.5196\u001b[0m  \u001b[32m32787136.0677\u001b[0m  \u001b[35m26005100.8333\u001b[0m  0.0492\n",
      "    293  \u001b[36m5098.5453\u001b[0m  \u001b[32m32775715.5191\u001b[0m  \u001b[35m25995163.1806\u001b[0m  0.0494\n",
      "    294  \u001b[36m5097.5675\u001b[0m  \u001b[32m32764333.5608\u001b[0m  \u001b[35m25985193.8056\u001b[0m  0.0487\n",
      "    295  \u001b[36m5096.5879\u001b[0m  \u001b[32m32752988.1858\u001b[0m  \u001b[35m25975207.7361\u001b[0m  0.0486\n",
      "    296  \u001b[36m5095.6036\u001b[0m  \u001b[32m32741682.3455\u001b[0m  \u001b[35m25965176.3194\u001b[0m  0.0484\n",
      "    297  \u001b[36m5094.6181\u001b[0m  \u001b[32m32730417.5434\u001b[0m  \u001b[35m25955133.8611\u001b[0m  0.0525\n",
      "    298  \u001b[36m5093.6292\u001b[0m  \u001b[32m32719180.8802\u001b[0m  \u001b[35m25945058.0556\u001b[0m  0.0484\n",
      "    299  \u001b[36m5092.6378\u001b[0m  \u001b[32m32707982.3542\u001b[0m  \u001b[35m25934960.2083\u001b[0m  0.0481\n",
      "    300  \u001b[36m5091.6426\u001b[0m  \u001b[32m32696822.8837\u001b[0m  \u001b[35m25924823.9444\u001b[0m  0.0549\n",
      "    301  \u001b[36m5090.6448\u001b[0m  \u001b[32m32685692.4566\u001b[0m  \u001b[35m25914666.6944\u001b[0m  0.0494\n",
      "    302  \u001b[36m5089.6446\u001b[0m  \u001b[32m32674605.7049\u001b[0m  \u001b[35m25904483.3472\u001b[0m  0.0473\n",
      "    303  \u001b[36m5088.6419\u001b[0m  \u001b[32m32663550.5503\u001b[0m  \u001b[35m25894274.5556\u001b[0m  0.0459\n",
      "    304  \u001b[36m5087.6352\u001b[0m  \u001b[32m32652523.0417\u001b[0m  \u001b[35m25884033.2500\u001b[0m  0.0502\n",
      "    305  \u001b[36m5086.6266\u001b[0m  \u001b[32m32641531.8854\u001b[0m  \u001b[35m25873769.3056\u001b[0m  0.0457\n",
      "    306  \u001b[36m5085.6148\u001b[0m  \u001b[32m32630577.3767\u001b[0m  \u001b[35m25863478.3194\u001b[0m  0.0537\n",
      "    307  \u001b[36m5084.6007\u001b[0m  \u001b[32m32619654.6927\u001b[0m  \u001b[35m25853165.0556\u001b[0m  0.0477\n",
      "    308  \u001b[36m5083.5838\u001b[0m  \u001b[32m32608763.3021\u001b[0m  \u001b[35m25842822.1944\u001b[0m  0.0521\n",
      "    309  \u001b[36m5082.5643\u001b[0m  \u001b[32m32597904.7170\u001b[0m  \u001b[35m25832458.5278\u001b[0m  0.0465\n",
      "    310  \u001b[36m5081.5413\u001b[0m  \u001b[32m32587077.5417\u001b[0m  \u001b[35m25822062.7778\u001b[0m  0.0469\n",
      "    311  \u001b[36m5080.5161\u001b[0m  \u001b[32m32576286.7639\u001b[0m  \u001b[35m25811645.5556\u001b[0m  0.0450\n",
      "    312  \u001b[36m5079.4895\u001b[0m  \u001b[32m32565527.9826\u001b[0m  \u001b[35m25801213.8056\u001b[0m  0.0509\n",
      "    313  \u001b[36m5078.4592\u001b[0m  \u001b[32m32554796.4931\u001b[0m  \u001b[35m25790749.8889\u001b[0m  0.0439\n",
      "    314  \u001b[36m5077.4277\u001b[0m  \u001b[32m32544099.2535\u001b[0m  \u001b[35m25780272.3056\u001b[0m  0.0481\n",
      "    315  \u001b[36m5076.3930\u001b[0m  \u001b[32m32533435.8403\u001b[0m  \u001b[35m25769766.3056\u001b[0m  0.0447\n",
      "    316  \u001b[36m5075.3561\u001b[0m  \u001b[32m32522800.4653\u001b[0m  \u001b[35m25759241.7500\u001b[0m  0.0466\n",
      "    317  \u001b[36m5074.3181\u001b[0m  \u001b[32m32512203.7795\u001b[0m  \u001b[35m25748704.8750\u001b[0m  0.0438\n",
      "    318  \u001b[36m5073.2798\u001b[0m  \u001b[32m32501636.5885\u001b[0m  \u001b[35m25738166.9167\u001b[0m  0.0510\n",
      "    319  \u001b[36m5072.2427\u001b[0m  \u001b[32m32491098.3767\u001b[0m  \u001b[35m25727650.1111\u001b[0m  0.0469\n",
      "    320  \u001b[36m5071.2066\u001b[0m  \u001b[32m32480597.6910\u001b[0m  \u001b[35m25717135.4861\u001b[0m  0.0523\n",
      "    321  \u001b[36m5070.1720\u001b[0m  \u001b[32m32470124.0139\u001b[0m  \u001b[35m25706645.9722\u001b[0m  0.0463\n",
      "    322  \u001b[36m5069.1392\u001b[0m  \u001b[32m32459687.2778\u001b[0m  \u001b[35m25696173.1667\u001b[0m  0.0530\n",
      "    323  \u001b[36m5068.1075\u001b[0m  \u001b[32m32449281.5590\u001b[0m  \u001b[35m25685713.0972\u001b[0m  0.0446\n",
      "    324  \u001b[36m5067.0798\u001b[0m  \u001b[32m32438904.9288\u001b[0m  \u001b[35m25675298.7222\u001b[0m  0.0467\n",
      "    325  \u001b[36m5066.0547\u001b[0m  \u001b[32m32428562.7153\u001b[0m  \u001b[35m25664910.8333\u001b[0m  0.0471\n",
      "    326  \u001b[36m5065.0337\u001b[0m  \u001b[32m32418256.0330\u001b[0m  \u001b[35m25654565.8056\u001b[0m  0.0527\n",
      "    327  \u001b[36m5064.0160\u001b[0m  \u001b[32m32407979.3958\u001b[0m  \u001b[35m25644255.9028\u001b[0m  0.0471\n",
      "    328  \u001b[36m5063.0025\u001b[0m  \u001b[32m32397734.8021\u001b[0m  \u001b[35m25633993.2778\u001b[0m  0.0580\n",
      "    329  \u001b[36m5061.9921\u001b[0m  \u001b[32m32387526.8403\u001b[0m  \u001b[35m25623763.8889\u001b[0m  0.0454\n",
      "    330  \u001b[36m5060.9867\u001b[0m  \u001b[32m32377346.5278\u001b[0m  \u001b[35m25613583.9306\u001b[0m  0.0491\n",
      "    331  \u001b[36m5059.9844\u001b[0m  \u001b[32m32367202.9201\u001b[0m  \u001b[35m25603440.1250\u001b[0m  0.0501\n",
      "    332  \u001b[36m5058.9859\u001b[0m  \u001b[32m32357098.0243\u001b[0m  \u001b[35m25593337.0278\u001b[0m  0.0544\n",
      "    333  \u001b[36m5057.9931\u001b[0m  \u001b[32m32347019.4861\u001b[0m  \u001b[35m25583291.1944\u001b[0m  0.0494\n",
      "    334  \u001b[36m5057.0031\u001b[0m  \u001b[32m32336976.5590\u001b[0m  \u001b[35m25573280.0556\u001b[0m  0.0522\n",
      "    335  \u001b[36m5056.0198\u001b[0m  \u001b[32m32326970.9444\u001b[0m  \u001b[35m25563337.7361\u001b[0m  0.0505\n",
      "    336  \u001b[36m5055.0450\u001b[0m  \u001b[32m32317008.6562\u001b[0m  \u001b[35m25553481.0556\u001b[0m  0.0484\n",
      "    337  \u001b[36m5054.0770\u001b[0m  \u001b[32m32307090.1736\u001b[0m  \u001b[35m25543693.3056\u001b[0m  0.0531\n",
      "    338  \u001b[36m5053.1145\u001b[0m  \u001b[32m32297215.3003\u001b[0m  \u001b[35m25533965.9028\u001b[0m  0.0540\n",
      "    339  \u001b[36m5052.1597\u001b[0m  \u001b[32m32287385.3177\u001b[0m  \u001b[35m25524317.7222\u001b[0m  0.0501\n",
      "    340  \u001b[36m5051.2149\u001b[0m  \u001b[32m32277608.5208\u001b[0m  \u001b[35m25514771.8472\u001b[0m  0.0493\n",
      "    341  \u001b[36m5050.2780\u001b[0m  \u001b[32m32267882.1493\u001b[0m  \u001b[35m25505309.3889\u001b[0m  0.0565\n",
      "    342  \u001b[36m5049.3477\u001b[0m  \u001b[32m32258200.0417\u001b[0m  \u001b[35m25495913.7500\u001b[0m  0.0485\n",
      "    343  \u001b[36m5048.4223\u001b[0m  \u001b[32m32248565.4878\u001b[0m  \u001b[35m25486568.0278\u001b[0m  0.0480\n",
      "    344  \u001b[36m5047.5024\u001b[0m  \u001b[32m32238969.9306\u001b[0m  \u001b[35m25477278.5833\u001b[0m  0.0471\n",
      "    345  \u001b[36m5046.5897\u001b[0m  \u001b[32m32229424.8368\u001b[0m  \u001b[35m25468069.7917\u001b[0m  0.0524\n",
      "    346  \u001b[36m5045.6825\u001b[0m  \u001b[32m32219924.9236\u001b[0m  \u001b[35m25458912.0556\u001b[0m  0.0472\n",
      "    347  \u001b[36m5044.7811\u001b[0m  \u001b[32m32210471.6076\u001b[0m  \u001b[35m25449815.3333\u001b[0m  0.0513\n",
      "    348  \u001b[36m5043.8846\u001b[0m  \u001b[32m32201056.8785\u001b[0m  \u001b[35m25440772.2361\u001b[0m  0.0480\n",
      "    349  \u001b[36m5042.9951\u001b[0m  \u001b[32m32191693.3403\u001b[0m  \u001b[35m25431798.1944\u001b[0m  0.0524\n",
      "    350  \u001b[36m5042.1115\u001b[0m  \u001b[32m32182377.3438\u001b[0m  \u001b[35m25422886.9444\u001b[0m  0.0465\n",
      "    351  \u001b[36m5041.2324\u001b[0m  \u001b[32m32173101.5278\u001b[0m  \u001b[35m25414024.8750\u001b[0m  0.0542\n",
      "    352  \u001b[36m5040.3563\u001b[0m  \u001b[32m32163869.6927\u001b[0m  \u001b[35m25405191.3194\u001b[0m  0.0482\n",
      "    353  \u001b[36m5039.4853\u001b[0m  \u001b[32m32154678.5417\u001b[0m  \u001b[35m25396413.1806\u001b[0m  0.0536\n",
      "    354  \u001b[36m5038.6187\u001b[0m  \u001b[32m32145535.8681\u001b[0m  \u001b[35m25387679.3472\u001b[0m  0.0491\n",
      "    355  \u001b[36m5037.7549\u001b[0m  \u001b[32m32136432.8056\u001b[0m  \u001b[35m25378977.2778\u001b[0m  0.0523\n",
      "    356  \u001b[36m5036.8961\u001b[0m  \u001b[32m32127368.9219\u001b[0m  \u001b[35m25370322.6944\u001b[0m  0.0469\n",
      "    357  \u001b[36m5036.0401\u001b[0m  \u001b[32m32118348.5000\u001b[0m  \u001b[35m25361700.4167\u001b[0m  0.0478\n",
      "    358  \u001b[36m5035.1884\u001b[0m  \u001b[32m32109364.8524\u001b[0m  \u001b[35m25353122.5278\u001b[0m  0.0481\n",
      "    359  \u001b[36m5034.3409\u001b[0m  \u001b[32m32100424.5938\u001b[0m  \u001b[35m25344589.0000\u001b[0m  0.0523\n",
      "    360  \u001b[36m5033.4968\u001b[0m  \u001b[32m32091520.1042\u001b[0m  \u001b[35m25336090.3889\u001b[0m  0.0467\n",
      "    361  \u001b[36m5032.6558\u001b[0m  \u001b[32m32082657.5174\u001b[0m  \u001b[35m25327622.5972\u001b[0m  0.0491\n",
      "    362  \u001b[36m5031.8203\u001b[0m  \u001b[32m32073836.9306\u001b[0m  \u001b[35m25319217.5694\u001b[0m  0.0550\n",
      "    363  \u001b[36m5030.9896\u001b[0m  \u001b[32m32065053.9375\u001b[0m  \u001b[35m25310858.8750\u001b[0m  0.0468\n",
      "    364  \u001b[36m5030.1642\u001b[0m  \u001b[32m32056314.1128\u001b[0m  \u001b[35m25302553.2222\u001b[0m  0.0508\n",
      "    365  \u001b[36m5029.3427\u001b[0m  \u001b[32m32047612.3906\u001b[0m  \u001b[35m25294288.2500\u001b[0m  0.0479\n",
      "    366  \u001b[36m5028.5242\u001b[0m  \u001b[32m32038952.3819\u001b[0m  \u001b[35m25286056.5556\u001b[0m  0.0531\n",
      "    367  \u001b[36m5027.7076\u001b[0m  \u001b[32m32030325.9514\u001b[0m  \u001b[35m25277841.8333\u001b[0m  0.0487\n",
      "    368  \u001b[36m5026.8933\u001b[0m  \u001b[32m32021732.4601\u001b[0m  \u001b[35m25269657.5417\u001b[0m  0.0523\n",
      "    369  \u001b[36m5026.0816\u001b[0m  \u001b[32m32013172.9931\u001b[0m  \u001b[35m25261496.5972\u001b[0m  0.0530\n",
      "    370  \u001b[36m5025.2733\u001b[0m  \u001b[32m32004648.6406\u001b[0m  \u001b[35m25253371.5278\u001b[0m  0.0523\n",
      "    371  \u001b[36m5024.4681\u001b[0m  \u001b[32m31996159.4809\u001b[0m  \u001b[35m25245280.5972\u001b[0m  0.0486\n",
      "    372  \u001b[36m5023.6644\u001b[0m  \u001b[32m31987703.0729\u001b[0m  \u001b[35m25237205.2500\u001b[0m  0.0512\n",
      "    373  \u001b[36m5022.8621\u001b[0m  \u001b[32m31979278.4444\u001b[0m  \u001b[35m25229147.0556\u001b[0m  0.0478\n",
      "    374  \u001b[36m5022.0631\u001b[0m  \u001b[32m31970880.8993\u001b[0m  \u001b[35m25221118.1250\u001b[0m  0.0520\n",
      "    375  \u001b[36m5021.2660\u001b[0m  \u001b[32m31962513.9583\u001b[0m  \u001b[35m25213111.9722\u001b[0m  0.0464\n",
      "    376  \u001b[36m5020.4697\u001b[0m  \u001b[32m31954178.9497\u001b[0m  \u001b[35m25205116.4444\u001b[0m  0.0580\n",
      "    377  \u001b[36m5019.6749\u001b[0m  \u001b[32m31945873.4010\u001b[0m  \u001b[35m25197134.7222\u001b[0m  0.0490\n",
      "    378  \u001b[36m5018.8833\u001b[0m  \u001b[32m31937603.6128\u001b[0m  \u001b[35m25189189.4444\u001b[0m  0.0496\n",
      "    379  \u001b[36m5018.0925\u001b[0m  \u001b[32m31929363.2778\u001b[0m  \u001b[35m25181251.7778\u001b[0m  0.0485\n",
      "    380  \u001b[36m5017.3041\u001b[0m  \u001b[32m31921152.0399\u001b[0m  \u001b[35m25173338.3889\u001b[0m  0.0482\n",
      "    381  \u001b[36m5016.5173\u001b[0m  \u001b[32m31912970.7066\u001b[0m  \u001b[35m25165446.8750\u001b[0m  0.0546\n",
      "    382  \u001b[36m5015.7326\u001b[0m  \u001b[32m31904814.1059\u001b[0m  \u001b[35m25157572.5000\u001b[0m  0.0479\n",
      "    383  \u001b[36m5014.9508\u001b[0m  \u001b[32m31896698.8212\u001b[0m  \u001b[35m25149730.9722\u001b[0m  0.0545\n",
      "    384  \u001b[36m5014.1711\u001b[0m  \u001b[32m31888603.7274\u001b[0m  \u001b[35m25141911.6806\u001b[0m  0.0476\n",
      "    385  \u001b[36m5013.3939\u001b[0m  \u001b[32m31880538.2170\u001b[0m  \u001b[35m25134116.8333\u001b[0m  0.0699\n",
      "    386  \u001b[36m5012.6167\u001b[0m  \u001b[32m31872501.9497\u001b[0m  \u001b[35m25126324.6944\u001b[0m  0.0609\n",
      "    387  \u001b[36m5011.8432\u001b[0m  \u001b[32m31864497.7622\u001b[0m  \u001b[35m25118570.8750\u001b[0m  0.0636\n",
      "    388  \u001b[36m5011.0711\u001b[0m  \u001b[32m31856522.9410\u001b[0m  \u001b[35m25110834.2639\u001b[0m  0.0662\n",
      "    389  \u001b[36m5010.3004\u001b[0m  \u001b[32m31848574.0538\u001b[0m  \u001b[35m25103111.7361\u001b[0m  0.0575\n",
      "    390  \u001b[36m5009.5325\u001b[0m  \u001b[32m31840653.3611\u001b[0m  \u001b[35m25095415.9167\u001b[0m  0.0484\n",
      "    391  \u001b[36m5008.7669\u001b[0m  \u001b[32m31832760.4358\u001b[0m  \u001b[35m25087746.8889\u001b[0m  0.0474\n",
      "    392  \u001b[36m5008.0032\u001b[0m  \u001b[32m31824899.2795\u001b[0m  \u001b[35m25080095.9028\u001b[0m  0.0496\n",
      "    393  \u001b[36m5007.2418\u001b[0m  \u001b[32m31817061.4878\u001b[0m  \u001b[35m25072470.5694\u001b[0m  0.0540\n",
      "    394  \u001b[36m5006.4818\u001b[0m  \u001b[32m31809252.1111\u001b[0m  \u001b[35m25064858.9861\u001b[0m  0.0489\n",
      "    395  \u001b[36m5005.7245\u001b[0m  \u001b[32m31801471.4010\u001b[0m  \u001b[35m25057280.2083\u001b[0m  0.0540\n",
      "    396  \u001b[36m5004.9691\u001b[0m  \u001b[32m31793716.2569\u001b[0m  \u001b[35m25049714.0972\u001b[0m  0.0479\n",
      "    397  \u001b[36m5004.2152\u001b[0m  \u001b[32m31785987.4271\u001b[0m  \u001b[35m25042170.0278\u001b[0m  0.0524\n",
      "    398  \u001b[36m5003.4620\u001b[0m  \u001b[32m31778286.9965\u001b[0m  \u001b[35m25034632.9444\u001b[0m  0.0481\n",
      "    399  \u001b[36m5002.7121\u001b[0m  \u001b[32m31770611.3090\u001b[0m  \u001b[35m25027127.0278\u001b[0m  0.0524\n",
      "    400  \u001b[36m5001.9638\u001b[0m  \u001b[32m31762968.7656\u001b[0m  \u001b[35m25019641.3889\u001b[0m  0.0475\n",
      "    401  \u001b[36m5001.2167\u001b[0m  \u001b[32m31755345.8854\u001b[0m  \u001b[35m25012167.3194\u001b[0m  0.0485\n",
      "    402  \u001b[36m5000.4714\u001b[0m  \u001b[32m31747745.8125\u001b[0m  \u001b[35m25004714.9583\u001b[0m  0.0475\n",
      "    403  \u001b[36m4999.7282\u001b[0m  \u001b[32m31740173.8142\u001b[0m  \u001b[35m24997283.6806\u001b[0m  0.0522\n",
      "    404  \u001b[36m4998.9863\u001b[0m  \u001b[32m31732630.3889\u001b[0m  \u001b[35m24989864.0833\u001b[0m  0.0486\n",
      "    405  \u001b[36m4998.2459\u001b[0m  \u001b[32m31725109.5833\u001b[0m  \u001b[35m24982463.5417\u001b[0m  0.0609\n",
      "    406  \u001b[36m4997.5074\u001b[0m  \u001b[32m31717614.6059\u001b[0m  \u001b[35m24975083.4167\u001b[0m  0.0546\n",
      "    407  \u001b[36m4996.7712\u001b[0m  \u001b[32m31710142.3854\u001b[0m  \u001b[35m24967722.2778\u001b[0m  0.0485\n",
      "    408  \u001b[36m4996.0376\u001b[0m  \u001b[32m31702704.0122\u001b[0m  \u001b[35m24960390.9444\u001b[0m  0.0547\n",
      "    409  \u001b[36m4995.3048\u001b[0m  \u001b[32m31695281.2257\u001b[0m  \u001b[35m24953069.0417\u001b[0m  0.0478\n",
      "    410  \u001b[36m4994.5727\u001b[0m  \u001b[32m31687889.1285\u001b[0m  \u001b[35m24945757.8333\u001b[0m  0.0535\n",
      "    411  \u001b[36m4993.8444\u001b[0m  \u001b[32m31680520.0990\u001b[0m  \u001b[35m24938480.9444\u001b[0m  0.0593\n",
      "    412  \u001b[36m4993.1161\u001b[0m  \u001b[32m31673175.2587\u001b[0m  \u001b[35m24931208.9306\u001b[0m  0.0635\n",
      "    413  \u001b[36m4992.3908\u001b[0m  \u001b[32m31665850.8455\u001b[0m  \u001b[35m24923961.6111\u001b[0m  0.0545\n",
      "    414  \u001b[36m4991.6673\u001b[0m  \u001b[32m31658554.0312\u001b[0m  \u001b[35m24916739.5556\u001b[0m  0.0520\n",
      "    415  \u001b[36m4990.9438\u001b[0m  \u001b[32m31651276.3872\u001b[0m  \u001b[35m24909520.0000\u001b[0m  0.0631\n",
      "    416  \u001b[36m4990.2230\u001b[0m  \u001b[32m31644029.2674\u001b[0m  \u001b[35m24902324.8472\u001b[0m  0.0583\n",
      "    417  \u001b[36m4989.5030\u001b[0m  \u001b[32m31636795.3403\u001b[0m  \u001b[35m24895139.5278\u001b[0m  0.0543\n",
      "    418  \u001b[36m4988.7850\u001b[0m  \u001b[32m31629588.8872\u001b[0m  \u001b[35m24887974.4861\u001b[0m  0.0477\n",
      "    419  \u001b[36m4988.0696\u001b[0m  \u001b[32m31622409.3160\u001b[0m  \u001b[35m24880837.6111\u001b[0m  0.0518\n",
      "    420  \u001b[36m4987.3550\u001b[0m  \u001b[32m31615246.6684\u001b[0m  \u001b[35m24873711.3333\u001b[0m  0.0511\n",
      "    421  \u001b[36m4986.6410\u001b[0m  \u001b[32m31608103.7326\u001b[0m  \u001b[35m24866588.7222\u001b[0m  0.0540\n",
      "    422  \u001b[36m4985.9294\u001b[0m  \u001b[32m31600982.9670\u001b[0m  \u001b[35m24859492.9861\u001b[0m  0.0498\n",
      "    423  \u001b[36m4985.2200\u001b[0m  \u001b[32m31593886.6406\u001b[0m  \u001b[35m24852417.6389\u001b[0m  0.0516\n",
      "    424  \u001b[36m4984.5116\u001b[0m  \u001b[32m31586811.4149\u001b[0m  \u001b[35m24845356.5278\u001b[0m  0.0557\n",
      "    425  \u001b[36m4983.8056\u001b[0m  \u001b[32m31579757.6007\u001b[0m  \u001b[35m24838315.2083\u001b[0m  0.0495\n",
      "    426  \u001b[36m4983.0990\u001b[0m  \u001b[32m31572718.8177\u001b[0m  \u001b[35m24831277.8056\u001b[0m  0.0495\n",
      "    427  \u001b[36m4982.3960\u001b[0m  \u001b[32m31565706.2014\u001b[0m  \u001b[35m24824271.3472\u001b[0m  0.0479\n",
      "    428  \u001b[36m4981.6937\u001b[0m  \u001b[32m31558708.1597\u001b[0m  \u001b[35m24817269.0972\u001b[0m  0.0539\n",
      "    429  \u001b[36m4980.9929\u001b[0m  \u001b[32m31551739.0885\u001b[0m  \u001b[35m24810287.9444\u001b[0m  0.0498\n",
      "    430  \u001b[36m4980.2938\u001b[0m  \u001b[32m31544782.9965\u001b[0m  \u001b[35m24803324.1944\u001b[0m  0.0551\n",
      "    431  \u001b[36m4979.5948\u001b[0m  \u001b[32m31537848.5573\u001b[0m  \u001b[35m24796363.6806\u001b[0m  0.0492\n",
      "    432  \u001b[36m4978.8975\u001b[0m  \u001b[32m31530935.0660\u001b[0m  \u001b[35m24789420.8611\u001b[0m  0.0552\n",
      "    433  \u001b[36m4978.2009\u001b[0m  \u001b[32m31524038.8785\u001b[0m  \u001b[35m24782485.0000\u001b[0m  0.0579\n",
      "    434  \u001b[36m4977.5074\u001b[0m  \u001b[32m31517167.8750\u001b[0m  \u001b[35m24775579.7083\u001b[0m  0.0541\n",
      "    435  \u001b[36m4976.8144\u001b[0m  \u001b[32m31510314.6267\u001b[0m  \u001b[35m24768682.0278\u001b[0m  0.0554\n",
      "    436  \u001b[36m4976.1236\u001b[0m  \u001b[32m31503483.2049\u001b[0m  \u001b[35m24761805.5694\u001b[0m  0.0485\n",
      "    437  \u001b[36m4975.4332\u001b[0m  \u001b[32m31496670.5503\u001b[0m  \u001b[35m24754939.8472\u001b[0m  0.0526\n",
      "    438  \u001b[36m4974.7458\u001b[0m  \u001b[32m31489878.3194\u001b[0m  \u001b[35m24748094.1111\u001b[0m  0.0483\n",
      "    439  \u001b[36m4974.0589\u001b[0m  \u001b[32m31483100.2396\u001b[0m  \u001b[35m24741263.4028\u001b[0m  0.0493\n",
      "    440  \u001b[36m4973.3731\u001b[0m  \u001b[32m31476342.5642\u001b[0m  \u001b[35m24734441.8611\u001b[0m  0.0478\n",
      "    441  \u001b[36m4972.6900\u001b[0m  \u001b[32m31469608.9514\u001b[0m  \u001b[35m24727647.2361\u001b[0m  0.0572\n",
      "    442  \u001b[36m4972.0076\u001b[0m  \u001b[32m31462893.9219\u001b[0m  \u001b[35m24720860.5417\u001b[0m  0.0565\n",
      "    443  \u001b[36m4971.3268\u001b[0m  \u001b[32m31456191.2934\u001b[0m  \u001b[35m24714089.8750\u001b[0m  0.0520\n",
      "    444  \u001b[36m4970.6466\u001b[0m  \u001b[32m31449512.2257\u001b[0m  \u001b[35m24707329.7083\u001b[0m  0.0559\n",
      "    445  \u001b[36m4969.9682\u001b[0m  \u001b[32m31442849.0382\u001b[0m  \u001b[35m24700586.3333\u001b[0m  0.0513\n",
      "    446  \u001b[36m4969.2923\u001b[0m  \u001b[32m31436205.6146\u001b[0m  \u001b[35m24693866.8333\u001b[0m  0.0512\n",
      "    447  \u001b[36m4968.6175\u001b[0m  \u001b[32m31429577.8646\u001b[0m  \u001b[35m24687159.1667\u001b[0m  0.0514\n",
      "    448  \u001b[36m4967.9444\u001b[0m  \u001b[32m31422967.2604\u001b[0m  \u001b[35m24680470.8333\u001b[0m  0.0659\n",
      "    449  \u001b[36m4967.2721\u001b[0m  \u001b[32m31416371.8299\u001b[0m  \u001b[35m24673792.2500\u001b[0m  0.0536\n",
      "    450  \u001b[36m4966.6023\u001b[0m  \u001b[32m31409798.2396\u001b[0m  \u001b[35m24667136.5972\u001b[0m  0.0559\n",
      "    451  \u001b[36m4965.9321\u001b[0m  \u001b[32m31403237.0590\u001b[0m  \u001b[35m24660484.1944\u001b[0m  0.0522\n",
      "    452  \u001b[36m4965.2654\u001b[0m  \u001b[32m31396690.8385\u001b[0m  \u001b[35m24653858.4861\u001b[0m  0.0512\n",
      "    453  \u001b[36m4964.5995\u001b[0m  \u001b[32m31390165.4149\u001b[0m  \u001b[35m24647247.9306\u001b[0m  0.0544\n",
      "    454  \u001b[36m4963.9341\u001b[0m  \u001b[32m31383647.5174\u001b[0m  \u001b[35m24640643.9722\u001b[0m  0.0485\n",
      "    455  \u001b[36m4963.2705\u001b[0m  \u001b[32m31377150.7726\u001b[0m  \u001b[35m24634052.8333\u001b[0m  0.0531\n",
      "    456  \u001b[36m4962.6074\u001b[0m  \u001b[32m31370663.2622\u001b[0m  \u001b[35m24627473.8889\u001b[0m  0.0476\n",
      "    457  \u001b[36m4961.9468\u001b[0m  \u001b[32m31364193.1128\u001b[0m  \u001b[35m24620917.5278\u001b[0m  0.0489\n",
      "    458  \u001b[36m4961.2863\u001b[0m  \u001b[32m31357735.2778\u001b[0m  \u001b[35m24614363.0417\u001b[0m  0.0483\n",
      "    459  \u001b[36m4960.6274\u001b[0m  \u001b[32m31351292.6042\u001b[0m  \u001b[35m24607824.4167\u001b[0m  0.0536\n",
      "    460  \u001b[36m4959.9694\u001b[0m  \u001b[32m31344862.5920\u001b[0m  \u001b[35m24601296.8194\u001b[0m  0.0479\n",
      "    461  \u001b[36m4959.3129\u001b[0m  \u001b[32m31338446.9653\u001b[0m  \u001b[35m24594782.5833\u001b[0m  0.0547\n",
      "    462  \u001b[36m4958.6565\u001b[0m  \u001b[32m31332042.4774\u001b[0m  \u001b[35m24588274.4167\u001b[0m  0.0495\n",
      "    463  \u001b[36m4958.0026\u001b[0m  \u001b[32m31325649.8472\u001b[0m  \u001b[35m24581790.3750\u001b[0m  0.0477\n",
      "    464  \u001b[36m4957.3495\u001b[0m  \u001b[32m31319272.7726\u001b[0m  \u001b[35m24575312.0694\u001b[0m  0.0472\n",
      "    465  \u001b[36m4956.6981\u001b[0m  \u001b[32m31312907.9861\u001b[0m  \u001b[35m24568854.0278\u001b[0m  0.0552\n",
      "    466  \u001b[36m4956.0464\u001b[0m  \u001b[32m31306548.4566\u001b[0m  \u001b[35m24562397.9167\u001b[0m  0.0511\n",
      "    467  \u001b[36m4955.3965\u001b[0m  \u001b[32m31300207.2500\u001b[0m  \u001b[35m24555954.0000\u001b[0m  0.0580\n",
      "    468  \u001b[36m4954.7492\u001b[0m  \u001b[32m31293872.9948\u001b[0m  \u001b[35m24549537.9306\u001b[0m  0.0525\n",
      "    469  \u001b[36m4954.1025\u001b[0m  \u001b[32m31287550.8472\u001b[0m  \u001b[35m24543131.1389\u001b[0m  0.0506\n",
      "    470  \u001b[36m4953.4572\u001b[0m  \u001b[32m31281236.9375\u001b[0m  \u001b[35m24536736.5556\u001b[0m  0.0562\n",
      "    471  \u001b[36m4952.8117\u001b[0m  \u001b[32m31274930.6424\u001b[0m  \u001b[35m24530345.2917\u001b[0m  0.0521\n",
      "    472  \u001b[36m4952.1688\u001b[0m  \u001b[32m31268639.9444\u001b[0m  \u001b[35m24523975.8750\u001b[0m  0.0551\n",
      "    473  \u001b[36m4951.5260\u001b[0m  \u001b[32m31262355.1510\u001b[0m  \u001b[35m24517611.6667\u001b[0m  0.0505\n",
      "    474  \u001b[36m4950.8860\u001b[0m  \u001b[32m31256081.3038\u001b[0m  \u001b[35m24511272.1944\u001b[0m  0.0520\n",
      "    475  \u001b[36m4950.2459\u001b[0m  \u001b[32m31249816.2153\u001b[0m  \u001b[35m24504933.8889\u001b[0m  0.0488\n",
      "    476  \u001b[36m4949.6071\u001b[0m  \u001b[32m31243554.6858\u001b[0m  \u001b[35m24498611.8750\u001b[0m  0.0565\n",
      "    477  \u001b[36m4948.9694\u001b[0m  \u001b[32m31237307.4010\u001b[0m  \u001b[35m24492297.6250\u001b[0m  0.0503\n",
      "    478  \u001b[36m4948.3329\u001b[0m  \u001b[32m31231061.6493\u001b[0m  \u001b[35m24485999.1667\u001b[0m  0.0563\n",
      "    479  \u001b[36m4947.6976\u001b[0m  \u001b[32m31224824.6806\u001b[0m  \u001b[35m24479711.7222\u001b[0m  0.0582\n",
      "    480  \u001b[36m4947.0634\u001b[0m  \u001b[32m31218598.9774\u001b[0m  \u001b[35m24473433.6667\u001b[0m  0.0509\n",
      "    481  \u001b[36m4946.4302\u001b[0m  \u001b[32m31212375.2257\u001b[0m  \u001b[35m24467170.0278\u001b[0m  0.0609\n",
      "    482  \u001b[36m4945.7972\u001b[0m  \u001b[32m31206159.2795\u001b[0m  \u001b[35m24460910.2778\u001b[0m  0.0564\n",
      "    483  \u001b[36m4945.1657\u001b[0m  \u001b[32m31199951.6875\u001b[0m  \u001b[35m24454662.7083\u001b[0m  0.0565\n",
      "    484  \u001b[36m4944.5352\u001b[0m  \u001b[32m31193749.4253\u001b[0m  \u001b[35m24448426.7778\u001b[0m  0.0622\n",
      "    485  \u001b[36m4943.9053\u001b[0m  \u001b[32m31187549.8750\u001b[0m  \u001b[35m24442199.0139\u001b[0m  0.0565\n",
      "    486  \u001b[36m4943.2771\u001b[0m  \u001b[32m31181362.6597\u001b[0m  \u001b[35m24435988.1944\u001b[0m  0.0548\n",
      "    487  \u001b[36m4942.6493\u001b[0m  \u001b[32m31175171.0694\u001b[0m  \u001b[35m24429780.4444\u001b[0m  0.0486\n",
      "    488  \u001b[36m4942.0229\u001b[0m  \u001b[32m31168986.8038\u001b[0m  \u001b[35m24423588.2778\u001b[0m  0.0501\n",
      "    489  \u001b[36m4941.3968\u001b[0m  \u001b[32m31162806.4167\u001b[0m  \u001b[35m24417402.4167\u001b[0m  0.0485\n",
      "    490  \u001b[36m4940.7722\u001b[0m  \u001b[32m31156630.8056\u001b[0m  \u001b[35m24411232.8194\u001b[0m  0.0526\n",
      "    491  \u001b[36m4940.1482\u001b[0m  \u001b[32m31150451.0764\u001b[0m  \u001b[35m24405064.9583\u001b[0m  0.0488\n",
      "    492  \u001b[36m4939.5261\u001b[0m  \u001b[32m31144278.5122\u001b[0m  \u001b[35m24398917.2778\u001b[0m  0.0489\n",
      "    493  \u001b[36m4938.9049\u001b[0m  \u001b[32m31138109.9444\u001b[0m  \u001b[35m24392784.3056\u001b[0m  0.0490\n",
      "    494  \u001b[36m4938.2855\u001b[0m  \u001b[32m31131942.0503\u001b[0m  \u001b[35m24386665.0694\u001b[0m  0.0503\n",
      "    495  \u001b[36m4937.6671\u001b[0m  \u001b[32m31125772.9514\u001b[0m  \u001b[35m24380556.9444\u001b[0m  0.0551\n",
      "    496  \u001b[36m4937.0511\u001b[0m  \u001b[32m31119608.3941\u001b[0m  \u001b[35m24374475.2361\u001b[0m  0.0494\n",
      "    497  \u001b[36m4936.4368\u001b[0m  \u001b[32m31113439.8594\u001b[0m  \u001b[35m24368407.1389\u001b[0m  0.0496\n",
      "    498  \u001b[36m4935.8231\u001b[0m  \u001b[32m31107276.1146\u001b[0m  \u001b[35m24362347.2639\u001b[0m  0.0491\n",
      "    499  \u001b[36m4935.2094\u001b[0m  \u001b[32m31101108.3924\u001b[0m  \u001b[35m24356290.9167\u001b[0m  0.0522\n",
      "    500  \u001b[36m4934.5966\u001b[0m  \u001b[32m31094945.5069\u001b[0m  \u001b[35m24350242.7778\u001b[0m  0.0473\n",
      "    501  \u001b[36m4933.9840\u001b[0m  \u001b[32m31088780.6771\u001b[0m  \u001b[35m24344198.4722\u001b[0m  0.0543\n",
      "    502  \u001b[36m4933.3702\u001b[0m  \u001b[32m31082611.9062\u001b[0m  \u001b[35m24338144.2917\u001b[0m  0.0495\n",
      "    503  \u001b[36m4932.7601\u001b[0m  \u001b[32m31076447.3628\u001b[0m  \u001b[35m24332122.2222\u001b[0m  0.0539\n",
      "    504  \u001b[36m4932.1500\u001b[0m  \u001b[32m31070276.6493\u001b[0m  \u001b[35m24326106.4583\u001b[0m  0.0487\n",
      "    505  \u001b[36m4931.5432\u001b[0m  \u001b[32m31064110.6910\u001b[0m  \u001b[35m24320118.8333\u001b[0m  0.0496\n",
      "    506  \u001b[36m4930.9360\u001b[0m  \u001b[32m31057932.1684\u001b[0m  \u001b[35m24314130.3056\u001b[0m  0.0491\n",
      "    507  \u001b[36m4930.3314\u001b[0m  \u001b[32m31051755.0243\u001b[0m  \u001b[35m24308166.9167\u001b[0m  0.0597\n",
      "    508  \u001b[36m4929.7286\u001b[0m  \u001b[32m31045574.4219\u001b[0m  \u001b[35m24302224.4444\u001b[0m  0.0506\n",
      "    509  \u001b[36m4929.1253\u001b[0m  \u001b[32m31039386.4115\u001b[0m  \u001b[35m24296276.2222\u001b[0m  0.0494\n",
      "    510  \u001b[36m4928.5251\u001b[0m  \u001b[32m31033193.0035\u001b[0m  \u001b[35m24290359.8889\u001b[0m  0.0508\n",
      "    511  \u001b[36m4927.9261\u001b[0m  \u001b[32m31026995.3438\u001b[0m  \u001b[35m24284456.0556\u001b[0m  0.0504\n",
      "    512  \u001b[36m4927.3305\u001b[0m  \u001b[32m31020800.0590\u001b[0m  \u001b[35m24278587.6944\u001b[0m  0.0566\n",
      "    513  \u001b[36m4926.7360\u001b[0m  \u001b[32m31014610.2344\u001b[0m  \u001b[35m24272728.3611\u001b[0m  0.0489\n",
      "    514  \u001b[36m4926.1395\u001b[0m  \u001b[32m31008418.8524\u001b[0m  \u001b[35m24266849.5278\u001b[0m  0.0554\n",
      "    515  \u001b[36m4925.5424\u001b[0m  \u001b[32m31002240.6215\u001b[0m  \u001b[35m24260968.9167\u001b[0m  0.0520\n",
      "    516  \u001b[36m4924.9422\u001b[0m  \u001b[32m30996061.4965\u001b[0m  \u001b[35m24255055.3194\u001b[0m  0.0578\n",
      "    517  \u001b[36m4924.3404\u001b[0m  \u001b[32m30989887.2795\u001b[0m  \u001b[35m24249128.9028\u001b[0m  0.0536\n",
      "    518  \u001b[36m4923.7376\u001b[0m  \u001b[32m30983721.8021\u001b[0m  \u001b[35m24243191.6389\u001b[0m  0.0532\n",
      "    519  \u001b[36m4923.1323\u001b[0m  \u001b[32m30977560.2031\u001b[0m  \u001b[35m24237233.5556\u001b[0m  0.0559\n",
      "    520  \u001b[36m4922.5250\u001b[0m  \u001b[32m30971406.2396\u001b[0m  \u001b[35m24231255.4861\u001b[0m  0.0515\n",
      "    521  \u001b[36m4921.9167\u001b[0m  \u001b[32m30965253.8247\u001b[0m  \u001b[35m24225264.1667\u001b[0m  0.0552\n",
      "    522  \u001b[36m4921.3080\u001b[0m  \u001b[32m30959110.5955\u001b[0m  \u001b[35m24219270.5694\u001b[0m  0.0502\n",
      "    523  \u001b[36m4920.6967\u001b[0m  \u001b[32m30952966.0035\u001b[0m  \u001b[35m24213258.8333\u001b[0m  0.0583\n",
      "    524  \u001b[36m4920.0856\u001b[0m  \u001b[32m30946829.5694\u001b[0m  \u001b[35m24207244.7361\u001b[0m  0.0494\n",
      "    525  \u001b[36m4919.4731\u001b[0m  \u001b[32m30940697.1441\u001b[0m  \u001b[35m24201215.6389\u001b[0m  0.0564\n",
      "    526  \u001b[36m4918.8606\u001b[0m  \u001b[32m30934570.0417\u001b[0m  \u001b[35m24195189.2917\u001b[0m  0.0488\n",
      "    527  \u001b[36m4918.2458\u001b[0m  \u001b[32m30928441.7917\u001b[0m  \u001b[35m24189141.6389\u001b[0m  0.0476\n",
      "    528  \u001b[36m4917.6317\u001b[0m  \u001b[32m30922321.8924\u001b[0m  \u001b[35m24183101.1806\u001b[0m  0.0541\n",
      "    529  \u001b[36m4917.0160\u001b[0m  \u001b[32m30916205.9740\u001b[0m  \u001b[35m24177046.5278\u001b[0m  0.0485\n",
      "    530  \u001b[36m4916.3979\u001b[0m  \u001b[32m30910084.4983\u001b[0m  \u001b[35m24170968.6528\u001b[0m  0.0586\n",
      "    531  \u001b[36m4915.7781\u001b[0m  \u001b[32m30903962.8785\u001b[0m  \u001b[35m24164874.2222\u001b[0m  0.0495\n",
      "    532  \u001b[36m4915.1557\u001b[0m  \u001b[32m30897847.8438\u001b[0m  \u001b[35m24158755.0556\u001b[0m  0.0535\n",
      "    533  \u001b[36m4914.5305\u001b[0m  \u001b[32m30891733.2257\u001b[0m  \u001b[35m24152610.6944\u001b[0m  0.0499\n",
      "    534  \u001b[36m4913.9033\u001b[0m  \u001b[32m30885616.0729\u001b[0m  \u001b[35m24146446.1111\u001b[0m  0.0561\n",
      "    535  \u001b[36m4913.2739\u001b[0m  \u001b[32m30879500.2135\u001b[0m  \u001b[35m24140259.5000\u001b[0m  0.0494\n",
      "    536  \u001b[36m4912.6431\u001b[0m  \u001b[32m30873387.3455\u001b[0m  \u001b[35m24134063.7361\u001b[0m  0.0614\n",
      "    537  \u001b[36m4912.0120\u001b[0m  \u001b[32m30867273.0451\u001b[0m  \u001b[35m24127859.1806\u001b[0m  0.0554\n",
      "    538  \u001b[36m4911.3790\u001b[0m  \u001b[32m30861161.6580\u001b[0m  \u001b[35m24121644.0694\u001b[0m  0.0497\n",
      "    539  \u001b[36m4910.7458\u001b[0m  \u001b[32m30855038.8889\u001b[0m  \u001b[35m24115424.6944\u001b[0m  0.0489\n",
      "    540  \u001b[36m4910.1112\u001b[0m  \u001b[32m30848924.9271\u001b[0m  \u001b[35m24109190.5000\u001b[0m  0.0479\n",
      "    541  \u001b[36m4909.4759\u001b[0m  \u001b[32m30842806.8455\u001b[0m  \u001b[35m24102950.0556\u001b[0m  0.0524\n",
      "    542  \u001b[36m4908.8392\u001b[0m  \u001b[32m30836686.5035\u001b[0m  \u001b[35m24096701.0000\u001b[0m  0.0485\n",
      "    543  \u001b[36m4908.2019\u001b[0m  \u001b[32m30830559.4774\u001b[0m  \u001b[35m24090445.3056\u001b[0m  0.0507\n",
      "    544  \u001b[36m4907.5658\u001b[0m  \u001b[32m30824438.4983\u001b[0m  \u001b[35m24084200.7917\u001b[0m  0.0498\n",
      "    545  \u001b[36m4906.9267\u001b[0m  \u001b[32m30818304.7535\u001b[0m  \u001b[35m24077930.5972\u001b[0m  0.0556\n",
      "    546  \u001b[36m4906.2874\u001b[0m  \u001b[32m30812172.3524\u001b[0m  \u001b[35m24071657.5000\u001b[0m  0.0498\n",
      "    547  \u001b[36m4905.6465\u001b[0m  \u001b[32m30806032.9358\u001b[0m  \u001b[35m24065365.9306\u001b[0m  0.0545\n",
      "    548  \u001b[36m4905.0042\u001b[0m  \u001b[32m30799888.8733\u001b[0m  \u001b[35m24059067.5694\u001b[0m  0.0483\n",
      "    549  \u001b[36m4904.3613\u001b[0m  \u001b[32m30793740.2969\u001b[0m  \u001b[35m24052758.9444\u001b[0m  0.0520\n",
      "    550  \u001b[36m4903.7159\u001b[0m  \u001b[32m30787583.6510\u001b[0m  \u001b[35m24046432.1667\u001b[0m  0.0465\n",
      "    551  \u001b[36m4903.0719\u001b[0m  \u001b[32m30781426.2361\u001b[0m  \u001b[35m24040115.6111\u001b[0m  0.0564\n",
      "    552  \u001b[36m4902.4263\u001b[0m  \u001b[32m30775258.3524\u001b[0m  \u001b[35m24033781.6528\u001b[0m  0.0516\n",
      "    553  \u001b[36m4901.7782\u001b[0m  \u001b[32m30769084.2049\u001b[0m  \u001b[35m24027429.0694\u001b[0m  0.0513\n",
      "    554  \u001b[36m4901.1297\u001b[0m  \u001b[32m30762899.4497\u001b[0m  \u001b[35m24021069.3333\u001b[0m  0.0499\n",
      "    555  \u001b[36m4900.4798\u001b[0m  \u001b[32m30756714.2188\u001b[0m  \u001b[35m24014702.5000\u001b[0m  0.0516\n",
      "    556  \u001b[36m4899.8282\u001b[0m  \u001b[32m30750519.6684\u001b[0m  \u001b[35m24008317.0139\u001b[0m  0.0526\n",
      "    557  \u001b[36m4899.1758\u001b[0m  \u001b[32m30744312.0000\u001b[0m  \u001b[35m24001923.9167\u001b[0m  0.0471\n",
      "    558  \u001b[36m4898.5218\u001b[0m  \u001b[32m30738100.4271\u001b[0m  \u001b[35m23995515.0000\u001b[0m  0.0501\n",
      "    559  \u001b[36m4897.8663\u001b[0m  \u001b[32m30731873.8142\u001b[0m  \u001b[35m23989093.0556\u001b[0m  0.0475\n",
      "    560  \u001b[36m4897.2108\u001b[0m  \u001b[32m30725636.9167\u001b[0m  \u001b[35m23982672.2500\u001b[0m  0.0547\n",
      "    561  \u001b[36m4896.5574\u001b[0m  \u001b[32m30719392.8090\u001b[0m  \u001b[35m23976272.9722\u001b[0m  0.0479\n",
      "    562  \u001b[36m4895.9044\u001b[0m  \u001b[32m30713137.9010\u001b[0m  \u001b[35m23969877.9167\u001b[0m  0.0493\n",
      "    563  \u001b[36m4895.2516\u001b[0m  \u001b[32m30706871.1528\u001b[0m  \u001b[35m23963487.9722\u001b[0m  0.0485\n",
      "    564  \u001b[36m4894.5999\u001b[0m  \u001b[32m30700596.0799\u001b[0m  \u001b[35m23957109.8194\u001b[0m  0.0590\n",
      "    565  \u001b[36m4893.9481\u001b[0m  \u001b[32m30694304.7031\u001b[0m  \u001b[35m23950725.7500\u001b[0m  0.0485\n",
      "    566  \u001b[36m4893.2958\u001b[0m  \u001b[32m30688001.0833\u001b[0m  \u001b[35m23944344.5833\u001b[0m  0.0511\n",
      "    567  \u001b[36m4892.6428\u001b[0m  \u001b[32m30681678.0174\u001b[0m  \u001b[35m23937953.4444\u001b[0m  0.0629\n",
      "    568  \u001b[36m4891.9894\u001b[0m  \u001b[32m30675345.1875\u001b[0m  \u001b[35m23931561.2778\u001b[0m  0.0595\n",
      "    569  \u001b[36m4891.3366\u001b[0m  \u001b[32m30668992.1840\u001b[0m  \u001b[35m23925170.7222\u001b[0m  0.0636\n",
      "    570  \u001b[36m4890.6828\u001b[0m  \u001b[32m30662622.4549\u001b[0m  \u001b[35m23918779.6667\u001b[0m  0.0628\n",
      "    571  \u001b[36m4890.0282\u001b[0m  \u001b[32m30656236.5712\u001b[0m  \u001b[35m23912377.5833\u001b[0m  0.0494\n",
      "    572  \u001b[36m4889.3746\u001b[0m  \u001b[32m30649828.5035\u001b[0m  \u001b[35m23905982.1667\u001b[0m  0.0545\n",
      "    573  \u001b[36m4888.7201\u001b[0m  \u001b[32m30643404.4531\u001b[0m  \u001b[35m23899584.4444\u001b[0m  0.0489\n",
      "    574  \u001b[36m4888.0651\u001b[0m  \u001b[32m30636952.4097\u001b[0m  \u001b[35m23893180.5833\u001b[0m  0.0564\n",
      "    575  \u001b[36m4887.4106\u001b[0m  \u001b[32m30630484.5573\u001b[0m  \u001b[35m23886782.5139\u001b[0m  0.0489\n",
      "    576  \u001b[36m4886.7558\u001b[0m  \u001b[32m30624017.1441\u001b[0m  \u001b[35m23880380.3333\u001b[0m  0.0535\n",
      "    577  \u001b[36m4886.0968\u001b[0m  \u001b[32m30617552.4201\u001b[0m  \u001b[35m23873939.7778\u001b[0m  0.0490\n",
      "    578  \u001b[36m4885.4318\u001b[0m  \u001b[32m30611083.8003\u001b[0m  \u001b[35m23867441.9583\u001b[0m  0.0549\n",
      "    579  \u001b[36m4884.7592\u001b[0m  \u001b[32m30604615.7101\u001b[0m  \u001b[35m23860870.4167\u001b[0m  0.0486\n",
      "    580  \u001b[36m4884.0799\u001b[0m  \u001b[32m30598146.1267\u001b[0m  \u001b[35m23854237.5139\u001b[0m  0.0550\n",
      "    581  \u001b[36m4883.3933\u001b[0m  \u001b[32m30591681.9913\u001b[0m  \u001b[35m23847529.8750\u001b[0m  0.0571\n",
      "    582  \u001b[36m4882.7001\u001b[0m  \u001b[32m30585214.8663\u001b[0m  \u001b[35m23840757.5556\u001b[0m  0.0500\n",
      "    583  \u001b[36m4882.0010\u001b[0m  \u001b[32m30578748.4236\u001b[0m  \u001b[35m23833933.3611\u001b[0m  0.0556\n",
      "    584  \u001b[36m4881.2945\u001b[0m  \u001b[32m30572277.1198\u001b[0m  \u001b[35m23827038.1667\u001b[0m  0.0512\n",
      "    585  \u001b[36m4880.5832\u001b[0m  \u001b[32m30565811.5260\u001b[0m  \u001b[35m23820092.9444\u001b[0m  0.0543\n",
      "    586  \u001b[36m4879.8658\u001b[0m  \u001b[32m30559338.9149\u001b[0m  \u001b[35m23813088.2361\u001b[0m  0.0484\n",
      "    587  \u001b[36m4879.1417\u001b[0m  \u001b[32m30552862.8906\u001b[0m  \u001b[35m23806023.5278\u001b[0m  0.0593\n",
      "    588  \u001b[36m4878.4124\u001b[0m  \u001b[32m30546392.1094\u001b[0m  \u001b[35m23798908.6528\u001b[0m  0.0520\n",
      "    589  \u001b[36m4877.6765\u001b[0m  \u001b[32m30539912.7934\u001b[0m  \u001b[35m23791727.1944\u001b[0m  0.0496\n",
      "    590  \u001b[36m4876.9328\u001b[0m  \u001b[32m30533429.1285\u001b[0m  \u001b[35m23784477.0833\u001b[0m  0.0492\n",
      "    591  \u001b[36m4876.1856\u001b[0m  \u001b[32m30526940.1892\u001b[0m  \u001b[35m23777186.9306\u001b[0m  0.0488\n",
      "    592  \u001b[36m4875.4321\u001b[0m  \u001b[32m30520450.2552\u001b[0m  \u001b[35m23769836.7222\u001b[0m  0.0505\n",
      "    593  \u001b[36m4874.6733\u001b[0m  \u001b[32m30513951.9132\u001b[0m  \u001b[35m23762440.5000\u001b[0m  0.0515\n",
      "    594  \u001b[36m4873.9071\u001b[0m  \u001b[32m30507445.3559\u001b[0m  \u001b[35m23754971.7639\u001b[0m  0.0595\n",
      "    595  \u001b[36m4873.1360\u001b[0m  \u001b[32m30500932.7014\u001b[0m  \u001b[35m23747456.2778\u001b[0m  0.0490\n",
      "    596  \u001b[36m4872.3582\u001b[0m  \u001b[32m30494415.6510\u001b[0m  \u001b[35m23739871.8056\u001b[0m  0.0549\n",
      "    597  \u001b[36m4871.5743\u001b[0m  \u001b[32m30487887.6250\u001b[0m  \u001b[35m23732234.4028\u001b[0m  0.0511\n",
      "    598  \u001b[36m4870.7833\u001b[0m  \u001b[32m30481350.4201\u001b[0m  \u001b[35m23724529.0000\u001b[0m  0.0651\n",
      "    599  \u001b[36m4869.9860\u001b[0m  \u001b[32m30474803.5816\u001b[0m  \u001b[35m23716764.1389\u001b[0m  0.0599\n",
      "    600  \u001b[36m4869.1847\u001b[0m  \u001b[32m30468245.8038\u001b[0m  \u001b[35m23708959.5972\u001b[0m  0.0522\n",
      "    601  \u001b[36m4868.3817\u001b[0m  \u001b[32m30461674.4965\u001b[0m  \u001b[35m23701141.5833\u001b[0m  0.0589\n",
      "    602  \u001b[36m4867.5832\u001b[0m  \u001b[32m30455096.1580\u001b[0m  \u001b[35m23693366.1944\u001b[0m  0.0563\n",
      "    603  \u001b[36m4866.7911\u001b[0m  \u001b[32m30448524.1944\u001b[0m  \u001b[35m23685651.6389\u001b[0m  0.0563\n",
      "    604  \u001b[36m4866.0031\u001b[0m  \u001b[32m30441949.1111\u001b[0m  \u001b[35m23677987.3056\u001b[0m  0.0482\n",
      "    605  \u001b[36m4865.2176\u001b[0m  \u001b[32m30435370.7257\u001b[0m  \u001b[35m23670342.6250\u001b[0m  0.0510\n",
      "    606  \u001b[36m4864.4334\u001b[0m  \u001b[32m30428787.0347\u001b[0m  \u001b[35m23662713.7917\u001b[0m  0.0539\n",
      "    607  \u001b[36m4863.6501\u001b[0m  \u001b[32m30422205.8507\u001b[0m  \u001b[35m23655092.4444\u001b[0m  0.0515\n",
      "    608  \u001b[36m4862.8671\u001b[0m  \u001b[32m30415621.1372\u001b[0m  \u001b[35m23647475.8056\u001b[0m  0.0502\n",
      "    609  \u001b[36m4862.0817\u001b[0m  \u001b[32m30409033.3924\u001b[0m  \u001b[35m23639839.7500\u001b[0m  0.0495\n",
      "    610  \u001b[36m4861.2978\u001b[0m  \u001b[32m30402449.6233\u001b[0m  \u001b[35m23632217.0833\u001b[0m  0.0565\n",
      "    611  \u001b[36m4860.5119\u001b[0m  \u001b[32m30395857.0590\u001b[0m  \u001b[35m23624577.8333\u001b[0m  0.0490\n",
      "    612  \u001b[36m4859.7253\u001b[0m  \u001b[32m30389269.0451\u001b[0m  \u001b[35m23616929.2083\u001b[0m  0.0551\n",
      "    613  \u001b[36m4858.9373\u001b[0m  \u001b[32m30382673.9375\u001b[0m  \u001b[35m23609271.5833\u001b[0m  0.0495\n",
      "    614  \u001b[36m4858.1482\u001b[0m  \u001b[32m30376080.6181\u001b[0m  \u001b[35m23601603.0833\u001b[0m  0.0528\n",
      "    615  \u001b[36m4857.3590\u001b[0m  \u001b[32m30369490.2222\u001b[0m  \u001b[35m23593934.3194\u001b[0m  0.0556\n",
      "    616  \u001b[36m4856.5685\u001b[0m  \u001b[32m30362893.6007\u001b[0m  \u001b[35m23586258.3611\u001b[0m  0.0572\n",
      "    617  \u001b[36m4855.7768\u001b[0m  \u001b[32m30356293.3177\u001b[0m  \u001b[35m23578566.2778\u001b[0m  0.0570\n",
      "    618  \u001b[36m4854.9842\u001b[0m  \u001b[32m30349695.7448\u001b[0m  \u001b[35m23570871.6667\u001b[0m  0.0513\n",
      "    619  \u001b[36m4854.1899\u001b[0m  \u001b[32m30343096.1493\u001b[0m  \u001b[35m23563161.1667\u001b[0m  0.0567\n",
      "    620  \u001b[36m4853.3951\u001b[0m  \u001b[32m30336492.7083\u001b[0m  \u001b[35m23555446.1389\u001b[0m  0.0516\n",
      "    621  \u001b[36m4852.6005\u001b[0m  \u001b[32m30329885.7743\u001b[0m  \u001b[35m23547730.0694\u001b[0m  0.0557\n",
      "    622  \u001b[36m4851.8044\u001b[0m  \u001b[32m30323278.1788\u001b[0m  \u001b[35m23540004.9167\u001b[0m  0.0514\n",
      "    623  \u001b[36m4851.0073\u001b[0m  \u001b[32m30316668.2847\u001b[0m  \u001b[35m23532269.3472\u001b[0m  0.0609\n",
      "    624  \u001b[36m4850.2089\u001b[0m  \u001b[32m30310056.5608\u001b[0m  \u001b[35m23524525.9861\u001b[0m  0.0574\n",
      "    625  \u001b[36m4849.4097\u001b[0m  \u001b[32m30303441.1892\u001b[0m  \u001b[35m23516772.3472\u001b[0m  0.0530\n",
      "    626  \u001b[36m4848.6105\u001b[0m  \u001b[32m30296828.7153\u001b[0m  \u001b[35m23509024.7639\u001b[0m  0.0527\n",
      "    627  \u001b[36m4847.8108\u001b[0m  \u001b[32m30290206.0885\u001b[0m  \u001b[35m23501271.5139\u001b[0m  0.0530\n",
      "    628  \u001b[36m4847.0098\u001b[0m  \u001b[32m30283583.1389\u001b[0m  \u001b[35m23493503.6389\u001b[0m  0.0522\n",
      "    629  \u001b[36m4846.2076\u001b[0m  \u001b[32m30276961.7240\u001b[0m  \u001b[35m23485729.1389\u001b[0m  0.0582\n",
      "    630  \u001b[36m4845.4052\u001b[0m  \u001b[32m30270333.5694\u001b[0m  \u001b[35m23477951.6667\u001b[0m  0.0524\n",
      "    631  \u001b[36m4844.6011\u001b[0m  \u001b[32m30263702.2535\u001b[0m  \u001b[35m23470159.6806\u001b[0m  0.0523\n",
      "    632  \u001b[36m4843.7956\u001b[0m  \u001b[32m30257070.6285\u001b[0m  \u001b[35m23462356.6250\u001b[0m  0.0524\n",
      "    633  \u001b[36m4842.9896\u001b[0m  \u001b[32m30250434.0122\u001b[0m  \u001b[35m23454549.4167\u001b[0m  0.0652\n",
      "    634  \u001b[36m4842.1819\u001b[0m  \u001b[32m30243795.6701\u001b[0m  \u001b[35m23446725.8611\u001b[0m  0.0526\n",
      "    635  \u001b[36m4841.3723\u001b[0m  \u001b[32m30237152.6354\u001b[0m  \u001b[35m23438884.1250\u001b[0m  0.0530\n",
      "    636  \u001b[36m4840.5626\u001b[0m  \u001b[32m30230506.6528\u001b[0m  \u001b[35m23431046.4444\u001b[0m  0.0673\n",
      "    637  \u001b[36m4839.7519\u001b[0m  \u001b[32m30223859.2431\u001b[0m  \u001b[35m23423197.7083\u001b[0m  0.0545\n",
      "    638  \u001b[36m4838.9404\u001b[0m  \u001b[32m30217204.7691\u001b[0m  \u001b[35m23415340.6667\u001b[0m  0.0518\n",
      "    639  \u001b[36m4838.1273\u001b[0m  \u001b[32m30210551.9462\u001b[0m  \u001b[35m23407476.8750\u001b[0m  0.0524\n",
      "    640  \u001b[36m4837.3148\u001b[0m  \u001b[32m30203895.0677\u001b[0m  \u001b[35m23399616.5833\u001b[0m  0.0549\n",
      "    641  \u001b[36m4836.5012\u001b[0m  \u001b[32m30197232.9913\u001b[0m  \u001b[35m23391743.6528\u001b[0m  0.0786\n",
      "    642  \u001b[36m4835.6865\u001b[0m  \u001b[32m30190569.3142\u001b[0m  \u001b[35m23383862.6389\u001b[0m  0.0550\n",
      "    643  \u001b[36m4834.8704\u001b[0m  \u001b[32m30183897.7812\u001b[0m  \u001b[35m23375968.4028\u001b[0m  0.0824\n",
      "    644  \u001b[36m4834.0536\u001b[0m  \u001b[32m30177229.1927\u001b[0m  \u001b[35m23368075.3889\u001b[0m  0.0916\n",
      "    645  \u001b[36m4833.2383\u001b[0m  \u001b[32m30170556.1024\u001b[0m  \u001b[35m23360192.3333\u001b[0m  0.0508\n",
      "    646  \u001b[36m4832.4207\u001b[0m  \u001b[32m30163873.0781\u001b[0m  \u001b[35m23352288.0694\u001b[0m  0.0546\n",
      "    647  \u001b[36m4831.6020\u001b[0m  \u001b[32m30157188.8368\u001b[0m  \u001b[35m23344377.3333\u001b[0m  0.0602\n",
      "    648  \u001b[36m4830.7838\u001b[0m  \u001b[32m30150504.0017\u001b[0m  \u001b[35m23336472.9583\u001b[0m  0.0515\n",
      "    649  \u001b[36m4829.9646\u001b[0m  \u001b[32m30143813.8663\u001b[0m  \u001b[35m23328555.9722\u001b[0m  0.0564\n",
      "    650  \u001b[36m4829.1440\u001b[0m  \u001b[32m30137115.3646\u001b[0m  \u001b[35m23320632.8611\u001b[0m  0.0515\n",
      "    651  \u001b[36m4828.3235\u001b[0m  \u001b[32m30130421.5885\u001b[0m  \u001b[35m23312707.5972\u001b[0m  0.0513\n",
      "    652  \u001b[36m4827.5020\u001b[0m  \u001b[32m30123720.0260\u001b[0m  \u001b[35m23304778.8194\u001b[0m  0.0507\n",
      "    653  \u001b[36m4826.6800\u001b[0m  \u001b[32m30117011.6319\u001b[0m  \u001b[35m23296841.5833\u001b[0m  0.0568\n",
      "    654  \u001b[36m4825.8566\u001b[0m  \u001b[32m30110302.9444\u001b[0m  \u001b[35m23288892.7222\u001b[0m  0.0499\n",
      "    655  \u001b[36m4825.0326\u001b[0m  \u001b[32m30103583.4149\u001b[0m  \u001b[35m23280939.5139\u001b[0m  0.0503\n",
      "    656  \u001b[36m4824.2077\u001b[0m  \u001b[32m30096869.2708\u001b[0m  \u001b[35m23272978.3889\u001b[0m  0.0558\n",
      "    657  \u001b[36m4823.3830\u001b[0m  \u001b[32m30090143.1892\u001b[0m  \u001b[35m23265025.2639\u001b[0m  0.0618\n",
      "    658  \u001b[36m4822.5562\u001b[0m  \u001b[32m30083416.2396\u001b[0m  \u001b[35m23257047.0694\u001b[0m  0.0572\n",
      "    659  \u001b[36m4821.7300\u001b[0m  \u001b[32m30076687.5868\u001b[0m  \u001b[35m23249077.5000\u001b[0m  0.0527\n",
      "    660  \u001b[36m4820.9028\u001b[0m  \u001b[32m30069953.7535\u001b[0m  \u001b[35m23241106.0694\u001b[0m  0.0550\n",
      "    661  \u001b[36m4820.0755\u001b[0m  \u001b[32m30063213.0521\u001b[0m  \u001b[35m23233129.0556\u001b[0m  0.0551\n",
      "    662  \u001b[36m4819.2470\u001b[0m  \u001b[32m30056466.4028\u001b[0m  \u001b[35m23225140.1944\u001b[0m  0.0490\n",
      "    663  \u001b[36m4818.4172\u001b[0m  \u001b[32m30049718.2656\u001b[0m  \u001b[35m23217144.9583\u001b[0m  0.0544\n",
      "    664  \u001b[36m4817.5869\u001b[0m  \u001b[32m30042967.2639\u001b[0m  \u001b[35m23209144.1111\u001b[0m  0.0523\n",
      "    665  \u001b[36m4816.7566\u001b[0m  \u001b[32m30036213.2309\u001b[0m  \u001b[35m23201143.0278\u001b[0m  0.0522\n",
      "    666  \u001b[36m4815.9246\u001b[0m  \u001b[32m30029451.4757\u001b[0m  \u001b[35m23193132.6250\u001b[0m  0.0504\n",
      "    667  \u001b[36m4815.0921\u001b[0m  \u001b[32m30022681.6372\u001b[0m  \u001b[35m23185110.6667\u001b[0m  0.0555\n",
      "    668  \u001b[36m4814.2594\u001b[0m  \u001b[32m30015912.5920\u001b[0m  \u001b[35m23177093.3889\u001b[0m  0.0519\n",
      "    669  \u001b[36m4813.4252\u001b[0m  \u001b[32m30009139.1667\u001b[0m  \u001b[35m23169062.1250\u001b[0m  0.0533\n",
      "    670  \u001b[36m4812.5895\u001b[0m  \u001b[32m30002355.6684\u001b[0m  \u001b[35m23161018.4583\u001b[0m  0.0507\n",
      "    671  \u001b[36m4811.7537\u001b[0m  \u001b[32m29995574.0799\u001b[0m  \u001b[35m23152975.2083\u001b[0m  0.0494\n",
      "    672  \u001b[36m4810.9182\u001b[0m  \u001b[32m29988785.4201\u001b[0m  \u001b[35m23144932.9306\u001b[0m  0.0551\n",
      "    673  \u001b[36m4810.0819\u001b[0m  \u001b[32m29981990.4514\u001b[0m  \u001b[35m23136887.0833\u001b[0m  0.0516\n",
      "    674  \u001b[36m4809.2438\u001b[0m  \u001b[32m29975193.1580\u001b[0m  \u001b[35m23128824.8889\u001b[0m  0.0501\n",
      "    675  \u001b[36m4808.4051\u001b[0m  \u001b[32m29968387.4479\u001b[0m  \u001b[35m23120758.6806\u001b[0m  0.0493\n",
      "    676  \u001b[36m4807.5665\u001b[0m  \u001b[32m29961578.1354\u001b[0m  \u001b[35m23112694.4583\u001b[0m  0.0545\n",
      "    677  \u001b[36m4806.7267\u001b[0m  \u001b[32m29954766.3889\u001b[0m  \u001b[35m23104622.0000\u001b[0m  0.0497\n",
      "    678  \u001b[36m4805.8860\u001b[0m  \u001b[32m29947949.2847\u001b[0m  \u001b[35m23096540.4444\u001b[0m  0.0537\n",
      "    679  \u001b[36m4805.0442\u001b[0m  \u001b[32m29941122.4774\u001b[0m  \u001b[35m23088450.1528\u001b[0m  0.0487\n",
      "    680  \u001b[36m4804.2015\u001b[0m  \u001b[32m29934293.1476\u001b[0m  \u001b[35m23080352.6944\u001b[0m  0.0532\n",
      "    681  \u001b[36m4803.3580\u001b[0m  \u001b[32m29927460.4861\u001b[0m  \u001b[35m23072248.4861\u001b[0m  0.0479\n",
      "    682  \u001b[36m4802.5131\u001b[0m  \u001b[32m29920621.5868\u001b[0m  \u001b[35m23064133.9444\u001b[0m  0.0484\n",
      "    683  \u001b[36m4801.6676\u001b[0m  \u001b[32m29913776.6788\u001b[0m  \u001b[35m23056012.7778\u001b[0m  0.0522\n",
      "    684  \u001b[36m4800.8220\u001b[0m  \u001b[32m29906930.8663\u001b[0m  \u001b[35m23047890.8333\u001b[0m  0.0491\n",
      "    685  \u001b[36m4799.9740\u001b[0m  \u001b[32m29900073.4271\u001b[0m  \u001b[35m23039748.7361\u001b[0m  0.0470\n",
      "    686  \u001b[36m4799.1268\u001b[0m  \u001b[32m29893212.4028\u001b[0m  \u001b[35m23031616.9028\u001b[0m  0.0487\n",
      "    687  \u001b[36m4798.2784\u001b[0m  \u001b[32m29886348.3524\u001b[0m  \u001b[35m23023476.3889\u001b[0m  0.0547\n",
      "    688  \u001b[36m4797.4297\u001b[0m  \u001b[32m29879478.3351\u001b[0m  \u001b[35m23015330.4444\u001b[0m  0.0482\n",
      "    689  \u001b[36m4796.5796\u001b[0m  \u001b[32m29872603.9167\u001b[0m  \u001b[35m23007175.4028\u001b[0m  0.0516\n",
      "    690  \u001b[36m4795.7287\u001b[0m  \u001b[32m29865723.7552\u001b[0m  \u001b[35m22999013.5139\u001b[0m  0.0495\n",
      "    691  \u001b[36m4794.8775\u001b[0m  \u001b[32m29858834.6042\u001b[0m  \u001b[35m22990850.6667\u001b[0m  0.0541\n",
      "    692  \u001b[36m4794.0246\u001b[0m  \u001b[32m29851942.2899\u001b[0m  \u001b[35m22982672.0556\u001b[0m  0.0482\n",
      "    693  \u001b[36m4793.1722\u001b[0m  \u001b[32m29845046.6250\u001b[0m  \u001b[35m22974498.9167\u001b[0m  0.0482\n",
      "    694  \u001b[36m4792.3182\u001b[0m  \u001b[32m29838141.3333\u001b[0m  \u001b[35m22966316.1389\u001b[0m  0.0576\n",
      "    695  \u001b[36m4791.4630\u001b[0m  \u001b[32m29831233.6597\u001b[0m  \u001b[35m22958117.1944\u001b[0m  0.0589\n",
      "    696  \u001b[36m4790.6077\u001b[0m  \u001b[32m29824321.2448\u001b[0m  \u001b[35m22949922.6389\u001b[0m  0.0509\n",
      "    697  \u001b[36m4789.7522\u001b[0m  \u001b[32m29817403.8628\u001b[0m  \u001b[35m22941726.7778\u001b[0m  0.0501\n",
      "    698  \u001b[36m4788.8951\u001b[0m  \u001b[32m29810478.9132\u001b[0m  \u001b[35m22933516.3611\u001b[0m  0.0576\n",
      "    699  \u001b[36m4788.0376\u001b[0m  \u001b[32m29803545.1788\u001b[0m  \u001b[35m22925303.3472\u001b[0m  0.0508\n",
      "    700  \u001b[36m4787.1787\u001b[0m  \u001b[32m29796608.7292\u001b[0m  \u001b[35m22917080.3472\u001b[0m  0.0543\n",
      "    701  \u001b[36m4786.3201\u001b[0m  \u001b[32m29789664.3160\u001b[0m  \u001b[35m22908856.1250\u001b[0m  0.0516\n",
      "    702  \u001b[36m4785.4594\u001b[0m  \u001b[32m29782715.6771\u001b[0m  \u001b[35m22900622.1806\u001b[0m  0.0597\n",
      "    703  \u001b[36m4784.5993\u001b[0m  \u001b[32m29775760.9809\u001b[0m  \u001b[35m22892387.7917\u001b[0m  0.0493\n",
      "    704  \u001b[36m4783.7368\u001b[0m  \u001b[32m29768800.7413\u001b[0m  \u001b[35m22884140.9167\u001b[0m  0.0567\n",
      "    705  \u001b[36m4782.8747\u001b[0m  \u001b[32m29761836.0451\u001b[0m  \u001b[35m22875886.6111\u001b[0m  0.0494\n",
      "    706  \u001b[36m4782.0111\u001b[0m  \u001b[32m29754862.0365\u001b[0m  \u001b[35m22867629.6389\u001b[0m  0.0505\n",
      "    707  \u001b[36m4781.1478\u001b[0m  \u001b[32m29747884.3385\u001b[0m  \u001b[35m22859374.9167\u001b[0m  0.0544\n",
      "    708  \u001b[36m4780.2835\u001b[0m  \u001b[32m29740900.8403\u001b[0m  \u001b[35m22851109.2500\u001b[0m  0.0494\n",
      "    709  \u001b[36m4779.4169\u001b[0m  \u001b[32m29733911.0694\u001b[0m  \u001b[35m22842826.3889\u001b[0m  0.0531\n",
      "    710  \u001b[36m4778.5506\u001b[0m  \u001b[32m29726910.8594\u001b[0m  \u001b[35m22834546.5833\u001b[0m  0.0521\n",
      "    711  \u001b[36m4777.6840\u001b[0m  \u001b[32m29719907.9948\u001b[0m  \u001b[35m22826264.8333\u001b[0m  0.0594\n",
      "    712  \u001b[36m4776.8167\u001b[0m  \u001b[32m29712899.4306\u001b[0m  \u001b[35m22817979.1667\u001b[0m  0.0515\n",
      "    713  \u001b[36m4775.9483\u001b[0m  \u001b[32m29705885.4410\u001b[0m  \u001b[35m22809682.5139\u001b[0m  0.0536\n",
      "    714  \u001b[36m4775.0784\u001b[0m  \u001b[32m29698860.4896\u001b[0m  \u001b[35m22801374.1111\u001b[0m  0.0492\n",
      "    715  \u001b[36m4774.2078\u001b[0m  \u001b[32m29691835.8785\u001b[0m  \u001b[35m22793060.2361\u001b[0m  0.0513\n",
      "    716  \u001b[36m4773.3374\u001b[0m  \u001b[32m29684798.4479\u001b[0m  \u001b[35m22784747.6667\u001b[0m  0.0544\n",
      "    717  \u001b[36m4772.4654\u001b[0m  \u001b[32m29677761.1181\u001b[0m  \u001b[35m22776427.3889\u001b[0m  0.0494\n",
      "    718  \u001b[36m4771.5924\u001b[0m  \u001b[32m29670714.7500\u001b[0m  \u001b[35m22768093.5278\u001b[0m  0.0532\n",
      "    719  \u001b[36m4770.7182\u001b[0m  \u001b[32m29663658.2934\u001b[0m  \u001b[35m22759752.8889\u001b[0m  0.0481\n",
      "    720  \u001b[36m4769.8436\u001b[0m  \u001b[32m29656600.8854\u001b[0m  \u001b[35m22751408.0972\u001b[0m  0.0541\n",
      "    721  \u001b[36m4768.9687\u001b[0m  \u001b[32m29649532.5747\u001b[0m  \u001b[35m22743062.9167\u001b[0m  0.0510\n",
      "    722  \u001b[36m4768.0919\u001b[0m  \u001b[32m29642456.8472\u001b[0m  \u001b[35m22734699.3194\u001b[0m  0.0545\n",
      "    723  \u001b[36m4767.2147\u001b[0m  \u001b[32m29635379.0434\u001b[0m  \u001b[35m22726336.4306\u001b[0m  0.0484\n",
      "    724  \u001b[36m4766.3361\u001b[0m  \u001b[32m29628292.7934\u001b[0m  \u001b[35m22717960.9861\u001b[0m  0.0543\n",
      "    725  \u001b[36m4765.4578\u001b[0m  \u001b[32m29621197.6632\u001b[0m  \u001b[35m22709588.2917\u001b[0m  0.0498\n",
      "    726  \u001b[36m4764.5776\u001b[0m  \u001b[32m29614097.2431\u001b[0m  \u001b[35m22701199.3472\u001b[0m  0.0495\n",
      "    727  \u001b[36m4763.6975\u001b[0m  \u001b[32m29606989.3750\u001b[0m  \u001b[35m22692815.0139\u001b[0m  0.0478\n",
      "    728  \u001b[36m4762.8168\u001b[0m  \u001b[32m29599877.8438\u001b[0m  \u001b[35m22684421.6111\u001b[0m  0.0579\n",
      "    729  \u001b[36m4761.9336\u001b[0m  \u001b[32m29592755.8403\u001b[0m  \u001b[35m22676013.0972\u001b[0m  0.0471\n",
      "    730  \u001b[36m4761.0501\u001b[0m  \u001b[32m29585627.0642\u001b[0m  \u001b[35m22667599.6806\u001b[0m  0.0488\n",
      "    731  \u001b[36m4760.1664\u001b[0m  \u001b[32m29578490.5625\u001b[0m  \u001b[35m22659183.9167\u001b[0m  0.0543\n",
      "    732  \u001b[36m4759.2827\u001b[0m  \u001b[32m29571351.3073\u001b[0m  \u001b[35m22650772.0694\u001b[0m  0.0475\n",
      "    733  \u001b[36m4758.3972\u001b[0m  \u001b[32m29564203.3160\u001b[0m  \u001b[35m22642343.4861\u001b[0m  0.0479\n",
      "    734  \u001b[36m4757.5109\u001b[0m  \u001b[32m29557048.7951\u001b[0m  \u001b[35m22633908.7778\u001b[0m  0.0476\n",
      "    735  \u001b[36m4756.6232\u001b[0m  \u001b[32m29549884.0833\u001b[0m  \u001b[35m22625463.2500\u001b[0m  0.0536\n",
      "    736  \u001b[36m4755.7353\u001b[0m  \u001b[32m29542712.6753\u001b[0m  \u001b[35m22617016.1389\u001b[0m  0.0469\n",
      "    737  \u001b[36m4754.8468\u001b[0m  \u001b[32m29535536.9028\u001b[0m  \u001b[35m22608568.7778\u001b[0m  0.0525\n",
      "    738  \u001b[36m4753.9569\u001b[0m  \u001b[32m29528352.3385\u001b[0m  \u001b[35m22600106.8611\u001b[0m  0.0478\n",
      "    739  \u001b[36m4753.0668\u001b[0m  \u001b[32m29521158.1059\u001b[0m  \u001b[35m22591645.5278\u001b[0m  0.0490\n",
      "    740  \u001b[36m4752.1751\u001b[0m  \u001b[32m29513962.0069\u001b[0m  \u001b[35m22583167.4444\u001b[0m  0.0493\n",
      "    741  \u001b[36m4751.2832\u001b[0m  \u001b[32m29506751.3438\u001b[0m  \u001b[35m22574690.0833\u001b[0m  0.0525\n",
      "    742  \u001b[36m4750.3886\u001b[0m  \u001b[32m29499541.4236\u001b[0m  \u001b[35m22566192.6944\u001b[0m  0.0474\n",
      "    743  \u001b[36m4749.4956\u001b[0m  \u001b[32m29492317.8715\u001b[0m  \u001b[35m22557708.1667\u001b[0m  0.0533\n",
      "    744  \u001b[36m4748.6006\u001b[0m  \u001b[32m29485085.5191\u001b[0m  \u001b[35m22549208.0694\u001b[0m  0.0491\n",
      "    745  \u001b[36m4747.7060\u001b[0m  \u001b[32m29477848.4323\u001b[0m  \u001b[35m22540714.5972\u001b[0m  0.0508\n",
      "    746  \u001b[36m4746.8101\u001b[0m  \u001b[32m29470601.1424\u001b[0m  \u001b[35m22532208.3472\u001b[0m  0.0708\n",
      "    747  \u001b[36m4745.9142\u001b[0m  \u001b[32m29463347.2361\u001b[0m  \u001b[35m22523700.1528\u001b[0m  0.0643\n",
      "    748  \u001b[36m4745.0176\u001b[0m  \u001b[32m29456084.1597\u001b[0m  \u001b[35m22515189.2083\u001b[0m  0.0640\n",
      "    749  \u001b[36m4744.1206\u001b[0m  \u001b[32m29448812.1510\u001b[0m  \u001b[35m22506677.2778\u001b[0m  0.0668\n",
      "    750  \u001b[36m4743.2217\u001b[0m  \u001b[32m29441530.8160\u001b[0m  \u001b[35m22498153.3750\u001b[0m  0.0521\n",
      "    751  \u001b[36m4742.3231\u001b[0m  \u001b[32m29434241.8455\u001b[0m  \u001b[35m22489628.7778\u001b[0m  0.0557\n",
      "    752  \u001b[36m4741.4243\u001b[0m  \u001b[32m29426942.5955\u001b[0m  \u001b[35m22481104.4167\u001b[0m  0.0519\n",
      "    753  \u001b[36m4740.5242\u001b[0m  \u001b[32m29419638.3073\u001b[0m  \u001b[35m22472570.9861\u001b[0m  0.0534\n",
      "    754  \u001b[36m4739.6259\u001b[0m  \u001b[32m29412323.2708\u001b[0m  \u001b[35m22464051.0000\u001b[0m  0.0502\n",
      "    755  \u001b[36m4738.7251\u001b[0m  \u001b[32m29404997.8212\u001b[0m  \u001b[35m22455514.0833\u001b[0m  0.0568\n",
      "    756  \u001b[36m4737.8236\u001b[0m  \u001b[32m29397660.9410\u001b[0m  \u001b[35m22446971.0139\u001b[0m  0.0570\n",
      "    757  \u001b[36m4736.9214\u001b[0m  \u001b[32m29390316.0851\u001b[0m  \u001b[35m22438424.5139\u001b[0m  0.0494\n",
      "    758  \u001b[36m4736.0182\u001b[0m  \u001b[32m29382965.2587\u001b[0m  \u001b[35m22429869.7500\u001b[0m  0.0569\n",
      "    759  \u001b[36m4735.1146\u001b[0m  \u001b[32m29375603.5425\u001b[0m  \u001b[35m22421309.4028\u001b[0m  0.0506\n",
      "    760  \u001b[36m4734.2110\u001b[0m  \u001b[32m29368234.3160\u001b[0m  \u001b[35m22412752.8056\u001b[0m  0.0540\n",
      "    761  \u001b[36m4733.3067\u001b[0m  \u001b[32m29360855.4705\u001b[0m  \u001b[35m22404189.9306\u001b[0m  0.0480\n",
      "    762  \u001b[36m4732.4011\u001b[0m  \u001b[32m29353461.9297\u001b[0m  \u001b[35m22395619.1389\u001b[0m  0.0497\n",
      "    763  \u001b[36m4731.4936\u001b[0m  \u001b[32m29346061.9722\u001b[0m  \u001b[35m22387032.9722\u001b[0m  0.0502\n",
      "    764  \u001b[36m4730.5869\u001b[0m  \u001b[32m29338651.8793\u001b[0m  \u001b[35m22378453.0000\u001b[0m  0.0531\n",
      "    765  \u001b[36m4729.6810\u001b[0m  \u001b[32m29331234.0373\u001b[0m  \u001b[35m22369882.3333\u001b[0m  0.0519\n",
      "    766  \u001b[36m4728.7724\u001b[0m  \u001b[32m29323805.5087\u001b[0m  \u001b[35m22361289.9583\u001b[0m  0.0563\n",
      "    767  \u001b[36m4727.8638\u001b[0m  \u001b[32m29316367.1250\u001b[0m  \u001b[35m22352699.3194\u001b[0m  0.0543\n",
      "    768  \u001b[36m4726.9538\u001b[0m  \u001b[32m29308918.8958\u001b[0m  \u001b[35m22344092.1389\u001b[0m  0.0493\n",
      "    769  \u001b[36m4726.0430\u001b[0m  \u001b[32m29301456.8576\u001b[0m  \u001b[35m22335483.3472\u001b[0m  0.0519\n",
      "    770  \u001b[36m4725.1320\u001b[0m  \u001b[32m29293993.2474\u001b[0m  \u001b[35m22326872.6111\u001b[0m  0.0479\n",
      "    771  \u001b[36m4724.2197\u001b[0m  \u001b[32m29286513.1424\u001b[0m  \u001b[35m22318254.0278\u001b[0m  0.0545\n",
      "    772  \u001b[36m4723.3069\u001b[0m  \u001b[32m29279023.0764\u001b[0m  \u001b[35m22309630.4167\u001b[0m  0.0495\n",
      "    773  \u001b[36m4722.3937\u001b[0m  \u001b[32m29271523.3394\u001b[0m  \u001b[35m22301004.3472\u001b[0m  0.0532\n",
      "    774  \u001b[36m4721.4799\u001b[0m  \u001b[32m29264016.3247\u001b[0m  \u001b[35m22292370.4722\u001b[0m  0.0485\n",
      "    775  \u001b[36m4720.5654\u001b[0m  \u001b[32m29256493.7309\u001b[0m  \u001b[35m22283738.1111\u001b[0m  0.0532\n",
      "    776  \u001b[36m4719.6502\u001b[0m  \u001b[32m29248965.7014\u001b[0m  \u001b[35m22275099.3194\u001b[0m  0.0491\n",
      "    777  \u001b[36m4718.7337\u001b[0m  \u001b[32m29241419.7500\u001b[0m  \u001b[35m22266447.4722\u001b[0m  0.0592\n",
      "    778  \u001b[36m4717.8158\u001b[0m  \u001b[32m29233870.1797\u001b[0m  \u001b[35m22257785.4722\u001b[0m  0.0513\n",
      "    779  \u001b[36m4716.8979\u001b[0m  \u001b[32m29226305.9236\u001b[0m  \u001b[35m22249124.0417\u001b[0m  0.0495\n",
      "    780  \u001b[36m4715.9788\u001b[0m  \u001b[32m29218733.7934\u001b[0m  \u001b[35m22240458.2500\u001b[0m  0.0470\n",
      "    781  \u001b[36m4715.0595\u001b[0m  \u001b[32m29211150.1354\u001b[0m  \u001b[35m22231790.3889\u001b[0m  0.0494\n",
      "    782  \u001b[36m4714.1423\u001b[0m  \u001b[32m29203555.1727\u001b[0m  \u001b[35m22223135.8889\u001b[0m  0.0548\n",
      "    783  \u001b[36m4713.2248\u001b[0m  \u001b[32m29195945.9523\u001b[0m  \u001b[35m22214488.5417\u001b[0m  0.0511\n",
      "    784  \u001b[36m4712.3071\u001b[0m  \u001b[32m29188326.1476\u001b[0m  \u001b[35m22205842.0556\u001b[0m  0.0524\n",
      "    785  \u001b[36m4711.3890\u001b[0m  \u001b[32m29180690.2248\u001b[0m  \u001b[35m22197184.4097\u001b[0m  0.0526\n",
      "    786  \u001b[36m4710.4696\u001b[0m  \u001b[32m29173041.5373\u001b[0m  \u001b[35m22188522.9028\u001b[0m  0.0575\n",
      "    787  \u001b[36m4709.5499\u001b[0m  \u001b[32m29165382.2951\u001b[0m  \u001b[35m22179860.3472\u001b[0m  0.0526\n",
      "    788  \u001b[36m4708.6278\u001b[0m  \u001b[32m29157712.2248\u001b[0m  \u001b[35m22171176.7639\u001b[0m  0.0486\n",
      "    789  \u001b[36m4707.7050\u001b[0m  \u001b[32m29150026.6406\u001b[0m  \u001b[35m22162485.7083\u001b[0m  0.0483\n",
      "    790  \u001b[36m4706.7811\u001b[0m  \u001b[32m29142330.5538\u001b[0m  \u001b[35m22153787.2083\u001b[0m  0.0532\n",
      "    791  \u001b[36m4705.8559\u001b[0m  \u001b[32m29134618.7257\u001b[0m  \u001b[35m22145079.0556\u001b[0m  0.0475\n",
      "    792  \u001b[36m4704.9298\u001b[0m  \u001b[32m29126896.6441\u001b[0m  \u001b[35m22136362.3472\u001b[0m  0.0533\n",
      "    793  \u001b[36m4704.0023\u001b[0m  \u001b[32m29119158.1866\u001b[0m  \u001b[35m22127636.8125\u001b[0m  0.0486\n",
      "    794  \u001b[36m4703.0739\u001b[0m  \u001b[32m29111405.6962\u001b[0m  \u001b[35m22118902.7917\u001b[0m  0.0522\n",
      "    795  \u001b[36m4702.1446\u001b[0m  \u001b[32m29103639.1215\u001b[0m  \u001b[35m22110162.5972\u001b[0m  0.0534\n",
      "    796  \u001b[36m4701.2143\u001b[0m  \u001b[32m29095860.6667\u001b[0m  \u001b[35m22101417.8611\u001b[0m  0.0533\n",
      "    797  \u001b[36m4700.2804\u001b[0m  \u001b[32m29088062.4280\u001b[0m  \u001b[35m22092635.6528\u001b[0m  0.0571\n",
      "    798  \u001b[36m4699.3448\u001b[0m  \u001b[32m29080251.3003\u001b[0m  \u001b[35m22083844.1944\u001b[0m  0.0475\n",
      "    799  \u001b[36m4698.4074\u001b[0m  \u001b[32m29072428.4575\u001b[0m  \u001b[35m22075031.3958\u001b[0m  0.0491\n",
      "    800  \u001b[36m4697.4683\u001b[0m  \u001b[32m29064591.8073\u001b[0m  \u001b[35m22066207.2014\u001b[0m  0.0476\n",
      "    801  \u001b[36m4696.5283\u001b[0m  \u001b[32m29056745.4323\u001b[0m  \u001b[35m22057377.0417\u001b[0m  0.0543\n",
      "    802  \u001b[36m4695.5873\u001b[0m  \u001b[32m29048878.7378\u001b[0m  \u001b[35m22048540.3264\u001b[0m  0.0493\n",
      "    803  \u001b[36m4694.6457\u001b[0m  \u001b[32m29040997.7326\u001b[0m  \u001b[35m22039699.0972\u001b[0m  0.0495\n",
      "    804  \u001b[36m4693.7015\u001b[0m  \u001b[32m29033098.8802\u001b[0m  \u001b[35m22030835.8542\u001b[0m  0.0492\n",
      "    805  \u001b[36m4692.7578\u001b[0m  \u001b[32m29025189.9670\u001b[0m  \u001b[35m22021975.4514\u001b[0m  0.0587\n",
      "    806  \u001b[36m4691.8129\u001b[0m  \u001b[32m29017259.5972\u001b[0m  \u001b[35m22013108.3194\u001b[0m  0.0494\n",
      "    807  \u001b[36m4690.8673\u001b[0m  \u001b[32m29009315.1988\u001b[0m  \u001b[35m22004236.1250\u001b[0m  0.0499\n",
      "    808  \u001b[36m4689.9205\u001b[0m  \u001b[32m29001353.2135\u001b[0m  \u001b[35m21995354.5278\u001b[0m  0.0592\n",
      "    809  \u001b[36m4688.9734\u001b[0m  \u001b[32m28993371.2795\u001b[0m  \u001b[35m21986468.1458\u001b[0m  0.0510\n",
      "    810  \u001b[36m4688.0252\u001b[0m  \u001b[32m28985377.7552\u001b[0m  \u001b[35m21977581.2083\u001b[0m  0.0565\n",
      "    811  \u001b[36m4687.0761\u001b[0m  \u001b[32m28977362.0816\u001b[0m  \u001b[35m21968680.4444\u001b[0m  0.0489\n",
      "    812  \u001b[36m4686.1272\u001b[0m  \u001b[32m28969332.8073\u001b[0m  \u001b[35m21959787.8333\u001b[0m  0.0546\n",
      "    813  \u001b[36m4685.1764\u001b[0m  \u001b[32m28961279.3516\u001b[0m  \u001b[35m21950880.2778\u001b[0m  0.0496\n",
      "    814  \u001b[36m4684.2259\u001b[0m  \u001b[32m28953205.8585\u001b[0m  \u001b[35m21941971.1667\u001b[0m  0.0549\n",
      "    815  \u001b[36m4683.2743\u001b[0m  \u001b[32m28945117.1155\u001b[0m  \u001b[35m21933058.5139\u001b[0m  0.0586\n",
      "    816  \u001b[36m4682.3225\u001b[0m  \u001b[32m28937006.4115\u001b[0m  \u001b[35m21924143.0000\u001b[0m  0.0501\n",
      "    817  \u001b[36m4681.3701\u001b[0m  \u001b[32m28928877.4774\u001b[0m  \u001b[35m21915227.1875\u001b[0m  0.0513\n",
      "    818  \u001b[36m4680.4177\u001b[0m  \u001b[32m28920725.2569\u001b[0m  \u001b[35m21906310.6111\u001b[0m  0.0492\n",
      "    819  \u001b[36m4679.4647\u001b[0m  \u001b[32m28912554.7760\u001b[0m  \u001b[35m21897391.1944\u001b[0m  0.0537\n",
      "    820  \u001b[36m4678.5122\u001b[0m  \u001b[32m28904360.1102\u001b[0m  \u001b[35m21888475.7083\u001b[0m  0.0483\n",
      "    821  \u001b[36m4677.5583\u001b[0m  \u001b[32m28896142.0799\u001b[0m  \u001b[35m21879554.0833\u001b[0m  0.0555\n",
      "    822  \u001b[36m4676.6043\u001b[0m  \u001b[32m28887904.9549\u001b[0m  \u001b[35m21870629.8056\u001b[0m  0.0507\n",
      "    823  \u001b[36m4675.6501\u001b[0m  \u001b[32m28879641.9809\u001b[0m  \u001b[35m21861702.6597\u001b[0m  0.0513\n",
      "    824  \u001b[36m4674.6955\u001b[0m  \u001b[32m28871359.3932\u001b[0m  \u001b[35m21852776.2917\u001b[0m  0.0512\n",
      "    825  \u001b[36m4673.7398\u001b[0m  \u001b[32m28863052.5208\u001b[0m  \u001b[35m21843841.3264\u001b[0m  0.0554\n",
      "    826  \u001b[36m4672.7840\u001b[0m  \u001b[32m28854721.7014\u001b[0m  \u001b[35m21834910.1944\u001b[0m  0.0483\n",
      "    827  \u001b[36m4671.8271\u001b[0m  \u001b[32m28846367.9427\u001b[0m  \u001b[35m21825966.6875\u001b[0m  0.0506\n",
      "    828  \u001b[36m4670.8699\u001b[0m  \u001b[32m28837989.2214\u001b[0m  \u001b[35m21817026.3333\u001b[0m  0.0562\n",
      "    829  \u001b[36m4669.9128\u001b[0m  \u001b[32m28829585.1102\u001b[0m  \u001b[35m21808086.2083\u001b[0m  0.0495\n",
      "    830  \u001b[36m4668.9551\u001b[0m  \u001b[32m28821156.7240\u001b[0m  \u001b[35m21799142.5208\u001b[0m  0.0554\n",
      "    831  \u001b[36m4667.9957\u001b[0m  \u001b[32m28812700.2170\u001b[0m  \u001b[35m21790183.4444\u001b[0m  0.0483\n",
      "    832  \u001b[36m4667.0359\u001b[0m  \u001b[32m28804216.1762\u001b[0m  \u001b[35m21781223.7639\u001b[0m  0.0541\n",
      "    833  \u001b[36m4666.0729\u001b[0m  \u001b[32m28795716.0035\u001b[0m  \u001b[35m21772233.9583\u001b[0m  0.0520\n",
      "    834  \u001b[36m4665.1056\u001b[0m  \u001b[32m28787200.8576\u001b[0m  \u001b[35m21763208.1181\u001b[0m  0.0536\n",
      "    835  \u001b[36m4664.1364\u001b[0m  \u001b[32m28778673.9688\u001b[0m  \u001b[35m21754167.0139\u001b[0m  0.0503\n",
      "    836  \u001b[36m4663.1648\u001b[0m  \u001b[32m28770134.9418\u001b[0m  \u001b[35m21745107.2083\u001b[0m  0.0553\n",
      "    837  \u001b[36m4662.1937\u001b[0m  \u001b[32m28761587.6345\u001b[0m  \u001b[35m21736050.7778\u001b[0m  0.0495\n",
      "    838  \u001b[36m4661.2215\u001b[0m  \u001b[32m28753019.9132\u001b[0m  \u001b[35m21726988.2500\u001b[0m  0.0483\n",
      "    839  \u001b[36m4660.2493\u001b[0m  \u001b[32m28744444.3681\u001b[0m  \u001b[35m21717923.3472\u001b[0m  0.0489\n",
      "    840  \u001b[36m4659.2763\u001b[0m  \u001b[32m28735851.6285\u001b[0m  \u001b[35m21708858.2708\u001b[0m  0.0553\n",
      "    841  \u001b[36m4658.3044\u001b[0m  \u001b[32m28727242.6858\u001b[0m  \u001b[35m21699802.5347\u001b[0m  0.0643\n",
      "    842  \u001b[36m4657.3353\u001b[0m  \u001b[32m28718612.2214\u001b[0m  \u001b[35m21690771.7500\u001b[0m  0.0500\n",
      "    843  \u001b[36m4656.3658\u001b[0m  \u001b[32m28709963.1597\u001b[0m  \u001b[35m21681744.7778\u001b[0m  0.0505\n",
      "    844  \u001b[36m4655.3979\u001b[0m  \u001b[32m28701292.8767\u001b[0m  \u001b[35m21672728.0833\u001b[0m  0.0503\n",
      "    845  \u001b[36m4654.4301\u001b[0m  \u001b[32m28692600.3924\u001b[0m  \u001b[35m21663720.9306\u001b[0m  0.0531\n",
      "    846  \u001b[36m4653.4624\u001b[0m  \u001b[32m28683887.3299\u001b[0m  \u001b[35m21654711.0139\u001b[0m  0.0488\n",
      "    847  \u001b[36m4652.4967\u001b[0m  \u001b[32m28675153.6502\u001b[0m  \u001b[35m21645724.5903\u001b[0m  0.0541\n",
      "    848  \u001b[36m4651.5307\u001b[0m  \u001b[32m28666398.9427\u001b[0m  \u001b[35m21636737.0000\u001b[0m  0.0493\n",
      "    849  \u001b[36m4650.5660\u001b[0m  \u001b[32m28657626.3003\u001b[0m  \u001b[35m21627763.5972\u001b[0m  0.0498\n",
      "    850  \u001b[36m4649.6021\u001b[0m  \u001b[32m28648827.2231\u001b[0m  \u001b[35m21618799.5833\u001b[0m  0.0539\n",
      "    851  \u001b[36m4648.6387\u001b[0m  \u001b[32m28640007.6727\u001b[0m  \u001b[35m21609841.1944\u001b[0m  0.0497\n",
      "    852  \u001b[36m4647.6771\u001b[0m  \u001b[32m28631163.6832\u001b[0m  \u001b[35m21600899.2361\u001b[0m  0.0498\n",
      "    853  \u001b[36m4646.7160\u001b[0m  \u001b[32m28622297.8672\u001b[0m  \u001b[35m21591969.3333\u001b[0m  0.0566\n",
      "    854  \u001b[36m4645.7559\u001b[0m  \u001b[32m28613411.7274\u001b[0m  \u001b[35m21583048.8194\u001b[0m  0.0550\n",
      "    855  \u001b[36m4644.7971\u001b[0m  \u001b[32m28604502.6875\u001b[0m  \u001b[35m21574140.5278\u001b[0m  0.0505\n",
      "    856  \u001b[36m4643.8391\u001b[0m  \u001b[32m28595568.8819\u001b[0m  \u001b[35m21565243.0000\u001b[0m  0.0549\n",
      "    857  \u001b[36m4642.8829\u001b[0m  \u001b[32m28586610.0312\u001b[0m  \u001b[35m21556360.7361\u001b[0m  0.0489\n",
      "    858  \u001b[36m4641.9278\u001b[0m  \u001b[32m28577629.5443\u001b[0m  \u001b[35m21547491.3056\u001b[0m  0.0519\n",
      "    859  \u001b[36m4640.9727\u001b[0m  \u001b[32m28568626.7248\u001b[0m  \u001b[35m21538627.3681\u001b[0m  0.0487\n",
      "    860  \u001b[36m4640.0183\u001b[0m  \u001b[32m28559596.6302\u001b[0m  \u001b[35m21529768.9722\u001b[0m  0.0561\n",
      "    861  \u001b[36m4639.0611\u001b[0m  \u001b[32m28550550.9792\u001b[0m  \u001b[35m21520885.6667\u001b[0m  0.0493\n",
      "    862  \u001b[36m4638.1033\u001b[0m  \u001b[32m28541490.1267\u001b[0m  \u001b[35m21512003.5000\u001b[0m  0.0516\n",
      "    863  \u001b[36m4637.1401\u001b[0m  \u001b[32m28532423.3385\u001b[0m  \u001b[35m21503068.7917\u001b[0m  0.0562\n",
      "    864  \u001b[36m4636.1741\u001b[0m  \u001b[32m28523361.2248\u001b[0m  \u001b[35m21494110.9028\u001b[0m  0.0537\n",
      "    865  \u001b[36m4635.2077\u001b[0m  \u001b[32m28514300.5582\u001b[0m  \u001b[35m21485149.0556\u001b[0m  0.0568\n",
      "    866  \u001b[36m4634.2387\u001b[0m  \u001b[32m28505245.3116\u001b[0m  \u001b[35m21476170.5417\u001b[0m  0.0511\n",
      "    867  \u001b[36m4633.2718\u001b[0m  \u001b[32m28496193.6389\u001b[0m  \u001b[35m21467208.5903\u001b[0m  0.0537\n",
      "    868  \u001b[36m4632.3048\u001b[0m  \u001b[32m28487141.3767\u001b[0m  \u001b[35m21458247.0833\u001b[0m  0.0475\n",
      "    869  \u001b[36m4631.3378\u001b[0m  \u001b[32m28478092.4731\u001b[0m  \u001b[35m21449290.7847\u001b[0m  0.0494\n",
      "    870  \u001b[36m4630.3719\u001b[0m  \u001b[32m28469038.0608\u001b[0m  \u001b[35m21440344.6389\u001b[0m  0.0495\n",
      "    871  \u001b[36m4629.4047\u001b[0m  \u001b[32m28459985.4583\u001b[0m  \u001b[35m21431388.8194\u001b[0m  0.0539\n",
      "    872  \u001b[36m4628.4399\u001b[0m  \u001b[32m28450928.7804\u001b[0m  \u001b[35m21422455.0486\u001b[0m  0.0505\n",
      "    873  \u001b[36m4627.4749\u001b[0m  \u001b[32m28441873.3047\u001b[0m  \u001b[35m21413524.8056\u001b[0m  0.0498\n",
      "    874  \u001b[36m4626.5123\u001b[0m  \u001b[32m28432816.5069\u001b[0m  \u001b[35m21404614.5417\u001b[0m  0.0553\n",
      "    875  \u001b[36m4625.5493\u001b[0m  \u001b[32m28423753.6059\u001b[0m  \u001b[35m21395705.1944\u001b[0m  0.0477\n",
      "    876  \u001b[36m4624.5878\u001b[0m  \u001b[32m28414691.6536\u001b[0m  \u001b[35m21386810.4444\u001b[0m  0.0493\n",
      "    877  \u001b[36m4623.6267\u001b[0m  \u001b[32m28405621.5191\u001b[0m  \u001b[35m21377923.8750\u001b[0m  0.0543\n",
      "    878  \u001b[36m4622.6665\u001b[0m  \u001b[32m28396543.9323\u001b[0m  \u001b[35m21369046.6944\u001b[0m  0.0554\n",
      "    879  \u001b[36m4621.7062\u001b[0m  \u001b[32m28387463.7908\u001b[0m  \u001b[35m21360168.4583\u001b[0m  0.0496\n",
      "    880  \u001b[36m4620.7443\u001b[0m  \u001b[32m28378375.7214\u001b[0m  \u001b[35m21351276.2639\u001b[0m  0.0549\n",
      "    881  \u001b[36m4619.7835\u001b[0m  \u001b[32m28369286.6901\u001b[0m  \u001b[35m21342399.3611\u001b[0m  0.0524\n",
      "    882  \u001b[36m4618.8245\u001b[0m  \u001b[32m28360189.8003\u001b[0m  \u001b[35m21333541.2361\u001b[0m  0.0554\n",
      "    883  \u001b[36m4617.8683\u001b[0m  \u001b[32m28351086.1094\u001b[0m  \u001b[35m21324706.4861\u001b[0m  0.0588\n",
      "    884  \u001b[36m4616.9124\u001b[0m  \u001b[32m28341972.0460\u001b[0m  \u001b[35m21315881.8194\u001b[0m  0.0510\n",
      "    885  \u001b[36m4615.9593\u001b[0m  \u001b[32m28332853.4097\u001b[0m  \u001b[35m21307079.3194\u001b[0m  0.0579\n",
      "    886  \u001b[36m4615.0060\u001b[0m  \u001b[32m28323719.4948\u001b[0m  \u001b[35m21298281.2708\u001b[0m  0.0494\n",
      "    887  \u001b[36m4614.0522\u001b[0m  \u001b[32m28314578.2856\u001b[0m  \u001b[35m21289478.1319\u001b[0m  0.0557\n",
      "    888  \u001b[36m4613.1009\u001b[0m  \u001b[32m28305432.1059\u001b[0m  \u001b[35m21280699.5764\u001b[0m  0.0498\n",
      "    889  \u001b[36m4612.1498\u001b[0m  \u001b[32m28296276.2682\u001b[0m  \u001b[35m21271926.4792\u001b[0m  0.0541\n",
      "    890  \u001b[36m4611.1988\u001b[0m  \u001b[32m28287111.1910\u001b[0m  \u001b[35m21263152.3889\u001b[0m  0.0507\n",
      "    891  \u001b[36m4610.2488\u001b[0m  \u001b[32m28277935.0217\u001b[0m  \u001b[35m21254394.9444\u001b[0m  0.0554\n",
      "    892  \u001b[36m4609.3010\u001b[0m  \u001b[32m28268747.6016\u001b[0m  \u001b[35m21245655.5764\u001b[0m  0.0547\n",
      "    893  \u001b[36m4608.3529\u001b[0m  \u001b[32m28259557.9470\u001b[0m  \u001b[35m21236916.2222\u001b[0m  0.0497\n",
      "    894  \u001b[36m4607.4079\u001b[0m  \u001b[32m28250352.4766\u001b[0m  \u001b[35m21228209.0694\u001b[0m  0.0497\n",
      "    895  \u001b[36m4606.4659\u001b[0m  \u001b[32m28241138.2127\u001b[0m  \u001b[35m21219529.2639\u001b[0m  0.0508\n",
      "    896  \u001b[36m4605.5262\u001b[0m  \u001b[32m28231906.7231\u001b[0m  \u001b[35m21210873.1389\u001b[0m  0.0566\n",
      "    897  \u001b[36m4604.5892\u001b[0m  \u001b[32m28222661.6519\u001b[0m  \u001b[35m21202242.9167\u001b[0m  0.0482\n",
      "    898  \u001b[36m4603.6542\u001b[0m  \u001b[32m28213400.9783\u001b[0m  \u001b[35m21193632.6389\u001b[0m  0.0501\n",
      "    899  \u001b[36m4602.7212\u001b[0m  \u001b[32m28204125.7891\u001b[0m  \u001b[35m21185040.1111\u001b[0m  0.0500\n",
      "    900  \u001b[36m4601.7903\u001b[0m  \u001b[32m28194834.3281\u001b[0m  \u001b[35m21176476.2639\u001b[0m  0.0548\n",
      "    901  \u001b[36m4600.8630\u001b[0m  \u001b[32m28185527.3194\u001b[0m  \u001b[35m21167938.7917\u001b[0m  0.0489\n",
      "    902  \u001b[36m4599.9363\u001b[0m  \u001b[32m28176203.1450\u001b[0m  \u001b[35m21159415.1528\u001b[0m  0.0540\n",
      "    903  \u001b[36m4599.0129\u001b[0m  \u001b[32m28166862.5208\u001b[0m  \u001b[35m21150917.2569\u001b[0m  0.0492\n",
      "    904  \u001b[36m4598.0907\u001b[0m  \u001b[32m28157510.6823\u001b[0m  \u001b[35m21142438.4306\u001b[0m  0.0499\n",
      "    905  \u001b[36m4597.1707\u001b[0m  \u001b[32m28148137.5981\u001b[0m  \u001b[35m21133978.1806\u001b[0m  0.0530\n",
      "    906  \u001b[36m4596.2517\u001b[0m  \u001b[32m28138750.0773\u001b[0m  \u001b[35m21125530.7639\u001b[0m  0.0497\n",
      "    907  \u001b[36m4595.3363\u001b[0m  \u001b[32m28129346.1233\u001b[0m  \u001b[35m21117116.3194\u001b[0m  0.0546\n",
      "    908  \u001b[36m4594.4216\u001b[0m  \u001b[32m28119925.1050\u001b[0m  \u001b[35m21108708.5486\u001b[0m  0.0485\n",
      "    909  \u001b[36m4593.5072\u001b[0m  \u001b[32m28110489.9193\u001b[0m  \u001b[35m21100307.4375\u001b[0m  0.0522\n",
      "    910  \u001b[36m4592.5932\u001b[0m  \u001b[32m28101048.0434\u001b[0m  \u001b[35m21091911.0972\u001b[0m  0.0519\n",
      "    911  \u001b[36m4591.6783\u001b[0m  \u001b[32m28091587.8837\u001b[0m  \u001b[35m21083508.6528\u001b[0m  0.0558\n",
      "    912  \u001b[36m4590.7627\u001b[0m  \u001b[32m28082121.2795\u001b[0m  \u001b[35m21075101.2639\u001b[0m  0.0476\n",
      "    913  \u001b[36m4589.8436\u001b[0m  \u001b[32m28072645.4505\u001b[0m  \u001b[35m21066663.4375\u001b[0m  0.0540\n",
      "    914  \u001b[36m4588.9249\u001b[0m  \u001b[32m28063163.9306\u001b[0m  \u001b[35m21058234.4236\u001b[0m  0.0538\n",
      "    915  \u001b[36m4588.0061\u001b[0m  \u001b[32m28053670.5417\u001b[0m  \u001b[35m21049801.0972\u001b[0m  0.0540\n",
      "    916  \u001b[36m4587.0871\u001b[0m  \u001b[32m28044174.2969\u001b[0m  \u001b[35m21041369.7222\u001b[0m  0.0535\n",
      "    917  \u001b[36m4586.1657\u001b[0m  \u001b[32m28034662.7847\u001b[0m  \u001b[35m21032914.3472\u001b[0m  0.0510\n",
      "    918  \u001b[36m4585.2415\u001b[0m  \u001b[32m28025150.3359\u001b[0m  \u001b[35m21024438.9306\u001b[0m  0.0496\n",
      "    919  \u001b[36m4584.3163\u001b[0m  \u001b[32m28015636.7135\u001b[0m  \u001b[35m21015957.2222\u001b[0m  0.0505\n",
      "    920  \u001b[36m4583.3900\u001b[0m  \u001b[32m28006116.3863\u001b[0m  \u001b[35m21007464.5208\u001b[0m  0.0541\n",
      "    921  \u001b[36m4582.4620\u001b[0m  \u001b[32m27996594.9401\u001b[0m  \u001b[35m20998957.8958\u001b[0m  0.0502\n",
      "    922  \u001b[36m4581.5349\u001b[0m  \u001b[32m27987065.1554\u001b[0m  \u001b[35m20990461.6181\u001b[0m  0.0517\n",
      "    923  \u001b[36m4580.6074\u001b[0m  \u001b[32m27977529.2222\u001b[0m  \u001b[35m20981964.6250\u001b[0m  0.0506\n",
      "    924  \u001b[36m4579.6821\u001b[0m  \u001b[32m27967989.2205\u001b[0m  \u001b[35m20973486.9861\u001b[0m  0.0547\n",
      "    925  \u001b[36m4578.7564\u001b[0m  \u001b[32m27958431.8967\u001b[0m  \u001b[35m20965008.5833\u001b[0m  0.0501\n",
      "    926  \u001b[36m4577.8335\u001b[0m  \u001b[32m27948866.3160\u001b[0m  \u001b[35m20956560.2431\u001b[0m  0.0548\n",
      "    927  \u001b[36m4576.9134\u001b[0m  \u001b[32m27939284.6042\u001b[0m  \u001b[35m20948136.0000\u001b[0m  0.0497\n",
      "    928  \u001b[36m4575.9954\u001b[0m  \u001b[32m27929695.0503\u001b[0m  \u001b[35m20939731.9583\u001b[0m  0.0589\n",
      "    929  \u001b[36m4575.0788\u001b[0m  \u001b[32m27920080.0938\u001b[0m  \u001b[35m20931345.8056\u001b[0m  0.0623\n",
      "    930  \u001b[36m4574.1627\u001b[0m  \u001b[32m27910451.4392\u001b[0m  \u001b[35m20922962.0556\u001b[0m  0.0592\n",
      "    931  \u001b[36m4573.2494\u001b[0m  \u001b[32m27900807.2257\u001b[0m  \u001b[35m20914609.9444\u001b[0m  0.0700\n",
      "    932  \u001b[36m4572.3368\u001b[0m  \u001b[32m27891137.0269\u001b[0m  \u001b[35m20906264.8611\u001b[0m  0.0673\n",
      "    933  \u001b[36m4571.4263\u001b[0m  \u001b[32m27881454.8368\u001b[0m  \u001b[35m20897936.5417\u001b[0m  0.0497\n",
      "    934  \u001b[36m4570.5157\u001b[0m  \u001b[32m27871746.1198\u001b[0m  \u001b[35m20889615.2639\u001b[0m  0.0556\n",
      "    935  \u001b[36m4569.6109\u001b[0m  \u001b[32m27862027.9401\u001b[0m  \u001b[35m20881343.8611\u001b[0m  0.0482\n",
      "    936  \u001b[36m4568.7108\u001b[0m  \u001b[32m27852280.2222\u001b[0m  \u001b[35m20873117.3750\u001b[0m  0.0490\n",
      "    937  \u001b[36m4567.8139\u001b[0m  \u001b[32m27842503.4748\u001b[0m  \u001b[35m20864922.7014\u001b[0m  0.0496\n",
      "    938  \u001b[36m4566.9200\u001b[0m  \u001b[32m27832694.0425\u001b[0m  \u001b[35m20856758.2639\u001b[0m  0.0552\n",
      "    939  \u001b[36m4566.0302\u001b[0m  \u001b[32m27822856.7925\u001b[0m  \u001b[35m20848631.2222\u001b[0m  0.0479\n",
      "    940  \u001b[36m4565.1429\u001b[0m  \u001b[32m27812986.7951\u001b[0m  \u001b[35m20840530.1667\u001b[0m  0.0511\n",
      "    941  \u001b[36m4564.2585\u001b[0m  \u001b[32m27803089.0998\u001b[0m  \u001b[35m20832456.5694\u001b[0m  0.0543\n",
      "    942  \u001b[36m4563.3762\u001b[0m  \u001b[32m27793154.1806\u001b[0m  \u001b[35m20824400.8750\u001b[0m  0.0484\n",
      "    943  \u001b[36m4562.4943\u001b[0m  \u001b[32m27783189.7205\u001b[0m  \u001b[35m20816353.0417\u001b[0m  0.0539\n",
      "    944  \u001b[36m4561.6111\u001b[0m  \u001b[32m27773187.6528\u001b[0m  \u001b[35m20808297.4444\u001b[0m  0.0476\n",
      "    945  \u001b[36m4560.7274\u001b[0m  \u001b[32m27763154.4288\u001b[0m  \u001b[35m20800235.6111\u001b[0m  0.0491\n",
      "    946  \u001b[36m4559.8432\u001b[0m  \u001b[32m27753088.4358\u001b[0m  \u001b[35m20792171.6528\u001b[0m  0.0475\n",
      "    947  \u001b[36m4558.9582\u001b[0m  \u001b[32m27742986.3655\u001b[0m  \u001b[35m20784099.3125\u001b[0m  0.0564\n",
      "    948  \u001b[36m4558.0724\u001b[0m  \u001b[32m27732844.5200\u001b[0m  \u001b[35m20776026.9167\u001b[0m  0.0477\n",
      "    949  \u001b[36m4557.1862\u001b[0m  \u001b[32m27722670.6988\u001b[0m  \u001b[35m20767948.0347\u001b[0m  0.0550\n",
      "    950  \u001b[36m4556.2998\u001b[0m  \u001b[32m27712452.1259\u001b[0m  \u001b[35m20759869.7778\u001b[0m  0.0578\n",
      "    951  \u001b[36m4555.4124\u001b[0m  \u001b[32m27702197.3038\u001b[0m  \u001b[35m20751780.7778\u001b[0m  0.0548\n",
      "    952  \u001b[36m4554.5257\u001b[0m  \u001b[32m27691900.3628\u001b[0m  \u001b[35m20743703.7153\u001b[0m  0.0471\n",
      "    953  \u001b[36m4553.6368\u001b[0m  \u001b[32m27681564.4045\u001b[0m  \u001b[35m20735608.3750\u001b[0m  0.0483\n",
      "    954  \u001b[36m4552.7488\u001b[0m  \u001b[32m27671188.6198\u001b[0m  \u001b[35m20727519.4792\u001b[0m  0.0528\n",
      "    955  \u001b[36m4551.8598\u001b[0m  \u001b[32m27660768.5538\u001b[0m  \u001b[35m20719427.4583\u001b[0m  0.0470\n",
      "    956  \u001b[36m4550.9707\u001b[0m  \u001b[32m27650303.4392\u001b[0m  \u001b[35m20711335.0486\u001b[0m  0.0493\n",
      "    957  \u001b[36m4550.0800\u001b[0m  \u001b[32m27639796.4887\u001b[0m  \u001b[35m20703228.8403\u001b[0m  0.0480\n",
      "    958  \u001b[36m4549.1892\u001b[0m  \u001b[32m27629239.0677\u001b[0m  \u001b[35m20695122.6250\u001b[0m  0.0482\n",
      "    959  \u001b[36m4548.2984\u001b[0m  \u001b[32m27618640.9783\u001b[0m  \u001b[35m20687019.7708\u001b[0m  0.0465\n",
      "    960  \u001b[36m4547.4061\u001b[0m  \u001b[32m27607990.7708\u001b[0m  \u001b[35m20678899.9931\u001b[0m  0.0556\n",
      "    961  \u001b[36m4546.5129\u001b[0m  \u001b[32m27597297.9332\u001b[0m  \u001b[35m20670782.1042\u001b[0m  0.0597\n",
      "    962  \u001b[36m4545.6183\u001b[0m  \u001b[32m27586551.8872\u001b[0m  \u001b[35m20662643.2569\u001b[0m  0.0503\n",
      "    963  \u001b[36m4544.7222\u001b[0m  \u001b[32m27575763.6519\u001b[0m  \u001b[35m20654499.1875\u001b[0m  0.0498\n",
      "    964  \u001b[36m4543.8253\u001b[0m  \u001b[32m27564921.8906\u001b[0m  \u001b[35m20646348.1319\u001b[0m  0.0552\n",
      "    965  \u001b[36m4542.9279\u001b[0m  \u001b[32m27554030.8333\u001b[0m  \u001b[35m20638194.2153\u001b[0m  0.0509\n",
      "    966  \u001b[36m4542.0273\u001b[0m  \u001b[32m27543090.3950\u001b[0m  \u001b[35m20630012.8194\u001b[0m  0.0536\n",
      "    967  \u001b[36m4541.1278\u001b[0m  \u001b[32m27532096.4957\u001b[0m  \u001b[35m20621842.5000\u001b[0m  0.0509\n",
      "    968  \u001b[36m4540.2280\u001b[0m  \u001b[32m27521046.2231\u001b[0m  \u001b[35m20613669.6806\u001b[0m  0.0515\n",
      "    969  \u001b[36m4539.3262\u001b[0m  \u001b[32m27509950.1502\u001b[0m  \u001b[35m20605483.8056\u001b[0m  0.0464\n",
      "    970  \u001b[36m4538.4255\u001b[0m  \u001b[32m27498793.0443\u001b[0m  \u001b[35m20597306.4167\u001b[0m  0.0484\n",
      "    971  \u001b[36m4537.5240\u001b[0m  \u001b[32m27487579.5833\u001b[0m  \u001b[35m20589122.2569\u001b[0m  0.0522\n",
      "    972  \u001b[36m4536.6223\u001b[0m  \u001b[32m27476311.6536\u001b[0m  \u001b[35m20580942.7639\u001b[0m  0.0475\n",
      "    973  \u001b[36m4535.7202\u001b[0m  \u001b[32m27464984.9280\u001b[0m  \u001b[35m20572757.4583\u001b[0m  0.0565\n",
      "    974  \u001b[36m4534.8177\u001b[0m  \u001b[32m27453602.4427\u001b[0m  \u001b[35m20564571.7222\u001b[0m  0.0515\n",
      "    975  \u001b[36m4533.9157\u001b[0m  \u001b[32m27442162.5747\u001b[0m  \u001b[35m20556393.5694\u001b[0m  0.0549\n",
      "    976  \u001b[36m4533.0136\u001b[0m  \u001b[32m27430658.5304\u001b[0m  \u001b[35m20548210.6806\u001b[0m  0.0501\n",
      "    977  \u001b[36m4532.1136\u001b[0m  \u001b[32m27419099.3715\u001b[0m  \u001b[35m20540051.4028\u001b[0m  0.0598\n",
      "    978  \u001b[36m4531.2160\u001b[0m  \u001b[32m27407476.7083\u001b[0m  \u001b[35m20531917.0417\u001b[0m  0.0532\n",
      "    979  \u001b[36m4530.3216\u001b[0m  \u001b[32m27395785.3733\u001b[0m  \u001b[35m20523814.7500\u001b[0m  0.0634\n",
      "    980  \u001b[36m4529.4300\u001b[0m  \u001b[32m27384025.2543\u001b[0m  \u001b[35m20515734.4722\u001b[0m  0.0564\n",
      "    981  \u001b[36m4528.5397\u001b[0m  \u001b[32m27372195.4175\u001b[0m  \u001b[35m20507675.4583\u001b[0m  0.0496\n",
      "    982  \u001b[36m4527.6526\u001b[0m  \u001b[32m27360296.4991\u001b[0m  \u001b[35m20499637.4722\u001b[0m  0.0508\n",
      "    983  \u001b[36m4526.7668\u001b[0m  \u001b[32m27348330.4514\u001b[0m  \u001b[35m20491618.6042\u001b[0m  0.0502\n",
      "    984  \u001b[36m4525.8838\u001b[0m  \u001b[32m27336291.2569\u001b[0m  \u001b[35m20483625.3056\u001b[0m  0.0560\n",
      "    985  \u001b[36m4525.0028\u001b[0m  \u001b[32m27324178.4132\u001b[0m  \u001b[35m20475651.9583\u001b[0m  0.0525\n",
      "    986  \u001b[36m4524.1240\u001b[0m  \u001b[32m27311993.6198\u001b[0m  \u001b[35m20467697.1250\u001b[0m  0.0597\n",
      "    987  \u001b[36m4523.2473\u001b[0m  \u001b[32m27299738.1450\u001b[0m  \u001b[35m20459767.0486\u001b[0m  0.0515\n",
      "    988  \u001b[36m4522.3737\u001b[0m  \u001b[32m27287409.4792\u001b[0m  \u001b[35m20451861.5417\u001b[0m  0.0506\n",
      "    989  \u001b[36m4521.5020\u001b[0m  \u001b[32m27275004.2856\u001b[0m  \u001b[35m20443979.6597\u001b[0m  0.0552\n",
      "    990  \u001b[36m4520.6367\u001b[0m  \u001b[32m27262531.2578\u001b[0m  \u001b[35m20436158.4167\u001b[0m  0.0503\n",
      "    991  \u001b[36m4519.7794\u001b[0m  \u001b[32m27249964.0139\u001b[0m  \u001b[35m20428403.2222\u001b[0m  0.0510\n",
      "    992  \u001b[36m4518.9277\u001b[0m  \u001b[32m27237302.6849\u001b[0m  \u001b[35m20420706.9375\u001b[0m  0.0504\n",
      "    993  \u001b[36m4518.0808\u001b[0m  \u001b[32m27224533.6163\u001b[0m  \u001b[35m20413055.8194\u001b[0m  0.0590\n",
      "    994  \u001b[36m4517.2385\u001b[0m  \u001b[32m27211667.8307\u001b[0m  \u001b[35m20405444.3958\u001b[0m  0.0509\n",
      "    995  \u001b[36m4516.4021\u001b[0m  \u001b[32m27198695.9288\u001b[0m  \u001b[35m20397886.7778\u001b[0m  0.0540\n",
      "    996  \u001b[36m4515.5669\u001b[0m  \u001b[32m27185612.7804\u001b[0m  \u001b[35m20390344.0208\u001b[0m  0.0493\n",
      "    997  \u001b[36m4514.7339\u001b[0m  \u001b[32m27172424.5686\u001b[0m  \u001b[35m20382823.1042\u001b[0m  0.0504\n",
      "    998  \u001b[36m4513.9072\u001b[0m  \u001b[32m27159127.9896\u001b[0m  \u001b[35m20375356.9583\u001b[0m  0.0541\n",
      "    999  \u001b[36m4513.0854\u001b[0m  \u001b[32m27145707.7257\u001b[0m  \u001b[35m20367940.1806\u001b[0m  0.0489\n",
      "   1000  \u001b[36m4512.2739\u001b[0m  \u001b[32m27132174.9766\u001b[0m  \u001b[35m20360619.6319\u001b[0m  0.0546\n",
      "   1001  \u001b[36m4511.4787\u001b[0m  \u001b[32m27118519.7448\u001b[0m  \u001b[35m20353440.5903\u001b[0m  0.0493\n",
      "   1002  \u001b[36m4510.7075\u001b[0m  \u001b[32m27104716.5894\u001b[0m  \u001b[35m20346482.1806\u001b[0m  0.0593\n",
      "   1003  \u001b[36m4509.9703\u001b[0m  \u001b[32m27090750.4019\u001b[0m  \u001b[35m20339830.4861\u001b[0m  0.0503\n",
      "   1004  \u001b[36m4509.2815\u001b[0m  \u001b[32m27076595.2943\u001b[0m  \u001b[35m20333619.3889\u001b[0m  0.0577\n",
      "   1005  \u001b[36m4508.6610\u001b[0m  \u001b[32m27062202.9470\u001b[0m  \u001b[35m20328021.8056\u001b[0m  0.0529\n",
      "   1006  \u001b[36m4508.0974\u001b[0m  \u001b[32m27047425.3099\u001b[0m  \u001b[35m20322943.5903\u001b[0m  0.0562\n",
      "   1007  \u001b[36m4507.4316\u001b[0m  \u001b[32m27032229.1736\u001b[0m  \u001b[35m20316941.4861\u001b[0m  0.0550\n",
      "   1008  \u001b[36m4506.6611\u001b[0m  \u001b[32m27017293.5191\u001b[0m  \u001b[35m20309992.8611\u001b[0m  0.0504\n",
      "   1009  \u001b[36m4505.8402\u001b[0m  \u001b[32m27002530.9835\u001b[0m  \u001b[35m20302594.8472\u001b[0m  0.0558\n",
      "   1010  \u001b[36m4505.0236\u001b[0m  \u001b[32m26987881.9141\u001b[0m  \u001b[35m20295238.7292\u001b[0m  0.0483\n",
      "   1011  \u001b[36m4504.2231\u001b[0m  \u001b[32m26973239.4531\u001b[0m  \u001b[35m20288026.3889\u001b[0m  0.0502\n",
      "   1012  \u001b[36m4503.4391\u001b[0m  \u001b[32m26958541.1293\u001b[0m  \u001b[35m20280962.6944\u001b[0m  0.0496\n",
      "   1013  \u001b[36m4502.6699\u001b[0m  \u001b[32m26943775.3759\u001b[0m  \u001b[35m20274036.3403\u001b[0m  0.0565\n",
      "   1014  \u001b[36m4501.9163\u001b[0m  \u001b[32m26928927.2509\u001b[0m  \u001b[35m20267249.3056\u001b[0m  0.0501\n",
      "   1015  \u001b[36m4501.1730\u001b[0m  \u001b[32m26913974.9479\u001b[0m  \u001b[35m20260557.9306\u001b[0m  0.0562\n",
      "   1016  \u001b[36m4500.4466\u001b[0m  \u001b[32m26898913.3220\u001b[0m  \u001b[35m20254019.1042\u001b[0m  0.0496\n",
      "   1017  \u001b[36m4499.7395\u001b[0m  \u001b[32m26883723.6979\u001b[0m  \u001b[35m20247656.4722\u001b[0m  0.0493\n",
      "   1018  \u001b[36m4499.0610\u001b[0m  \u001b[32m26868389.9201\u001b[0m  \u001b[35m20241549.7083\u001b[0m  0.0488\n",
      "   1019  \u001b[36m4498.4235\u001b[0m  \u001b[32m26852878.9358\u001b[0m  \u001b[35m20235814.9444\u001b[0m  0.0659\n",
      "   1020  \u001b[36m4497.8448\u001b[0m  \u001b[32m26837145.2431\u001b[0m  \u001b[35m20230609.4444\u001b[0m  0.0506\n",
      "   1021  \u001b[36m4497.3566\u001b[0m  \u001b[32m26821159.1033\u001b[0m  \u001b[35m20226217.8472\u001b[0m  0.0497\n",
      "   1022  \u001b[36m4496.9650\u001b[0m  \u001b[32m26804824.4939\u001b[0m  \u001b[35m20222693.0278\u001b[0m  0.0655\n",
      "   1023  \u001b[36m4496.4161\u001b[0m  \u001b[32m26787828.4488\u001b[0m  \u001b[35m20217758.8056\u001b[0m  0.0531\n",
      "   1024  \u001b[36m4495.7713\u001b[0m  \u001b[32m26771306.3351\u001b[0m  \u001b[35m20211960.8889\u001b[0m  0.0510\n",
      "   1025  \u001b[36m4495.0264\u001b[0m  \u001b[32m26754973.1753\u001b[0m  \u001b[35m20205261.9306\u001b[0m  0.0559\n",
      "   1026  \u001b[36m4494.2530\u001b[0m  \u001b[32m26738869.1155\u001b[0m  \u001b[35m20198311.2292\u001b[0m  0.0616\n",
      "   1027  \u001b[36m4493.4984\u001b[0m  \u001b[32m26722870.5825\u001b[0m  \u001b[35m20191526.5208\u001b[0m  0.0551\n",
      "   1028  \u001b[36m4492.7920\u001b[0m  \u001b[32m26706895.5087\u001b[0m  \u001b[35m20185182.2361\u001b[0m  0.0554\n",
      "   1029  \u001b[36m4492.1463\u001b[0m  \u001b[32m26690883.8168\u001b[0m  \u001b[35m20179377.3472\u001b[0m  0.0633\n",
      "   1030  \u001b[36m4491.5823\u001b[0m  \u001b[32m26674778.0747\u001b[0m  \u001b[35m20174311.7639\u001b[0m  0.0529\n",
      "   1031  \u001b[36m4491.1239\u001b[0m  \u001b[32m26658529.7049\u001b[0m  \u001b[35m20170192.4167\u001b[0m  0.0492\n",
      "   1032  \u001b[36m4490.8086\u001b[0m  \u001b[32m26642094.3220\u001b[0m  \u001b[35m20167359.2917\u001b[0m  0.0567\n",
      "   1033  \u001b[36m4490.6672\u001b[0m  \u001b[32m26625388.8186\u001b[0m  \u001b[35m20166091.0278\u001b[0m  0.0512\n",
      "   1034  4490.6717  \u001b[32m26608312.4444\u001b[0m  20166131.7222  0.0520\n",
      "   1035  \u001b[36m4490.5739\u001b[0m  \u001b[32m26590704.9983\u001b[0m  \u001b[35m20165254.8333\u001b[0m  0.0492\n",
      "   1036  \u001b[36m4490.2289\u001b[0m  \u001b[32m26572964.8438\u001b[0m  \u001b[35m20162155.8194\u001b[0m  0.0555\n",
      "   1037  \u001b[36m4489.8508\u001b[0m  \u001b[32m26555653.7977\u001b[0m  \u001b[35m20158761.3819\u001b[0m  0.0516\n",
      "   1038  \u001b[36m4489.5231\u001b[0m  \u001b[32m26538448.4774\u001b[0m  \u001b[35m20155820.0278\u001b[0m  0.0529\n",
      "   1039  \u001b[36m4489.1378\u001b[0m  \u001b[32m26521040.9531\u001b[0m  \u001b[35m20152357.6250\u001b[0m  0.0548\n",
      "   1040  \u001b[36m4488.6677\u001b[0m  \u001b[32m26503637.7101\u001b[0m  \u001b[35m20148139.0069\u001b[0m  0.0496\n",
      "   1041  \u001b[36m4488.0628\u001b[0m  \u001b[32m26486147.7951\u001b[0m  \u001b[35m20142706.4306\u001b[0m  0.0539\n",
      "   1042  \u001b[36m4487.4743\u001b[0m  \u001b[32m26468859.0269\u001b[0m  \u001b[35m20137425.3750\u001b[0m  0.0504\n",
      "   1043  \u001b[36m4486.9417\u001b[0m  \u001b[32m26451600.4210\u001b[0m  \u001b[35m20132641.9792\u001b[0m  0.0495\n",
      "   1044  \u001b[36m4486.3562\u001b[0m  \u001b[32m26434142.7483\u001b[0m  \u001b[35m20127390.8611\u001b[0m  0.0510\n",
      "   1045  \u001b[36m4485.7004\u001b[0m  \u001b[32m26416693.5226\u001b[0m  \u001b[35m20121506.6806\u001b[0m  0.0565\n",
      "   1046  \u001b[36m4485.0672\u001b[0m  \u001b[32m26399359.5069\u001b[0m  \u001b[35m20115827.1528\u001b[0m  0.0479\n",
      "   1047  \u001b[36m4484.4940\u001b[0m  \u001b[32m26382017.9028\u001b[0m  \u001b[35m20110688.8611\u001b[0m  0.0491\n",
      "   1048  \u001b[36m4483.9512\u001b[0m  \u001b[32m26364585.2934\u001b[0m  \u001b[35m20105818.5903\u001b[0m  0.0493\n",
      "   1049  \u001b[36m4483.2511\u001b[0m  \u001b[32m26346875.2431\u001b[0m  \u001b[35m20099539.1528\u001b[0m  0.0560\n",
      "   1050  \u001b[36m4482.4435\u001b[0m  \u001b[32m26329302.6233\u001b[0m  \u001b[35m20092299.5764\u001b[0m  0.0494\n",
      "   1051  \u001b[36m4481.6044\u001b[0m  \u001b[32m26311854.9280\u001b[0m  \u001b[35m20084781.9583\u001b[0m  0.0554\n",
      "   1052  \u001b[36m4480.7584\u001b[0m  \u001b[32m26294430.3967\u001b[0m  \u001b[35m20077196.8403\u001b[0m  0.0529\n",
      "   1053  \u001b[36m4479.9230\u001b[0m  \u001b[32m26277003.2726\u001b[0m  \u001b[35m20069709.6806\u001b[0m  0.0502\n",
      "   1054  \u001b[36m4479.1048\u001b[0m  \u001b[32m26259553.9583\u001b[0m  \u001b[35m20062379.7083\u001b[0m  0.0571\n",
      "   1055  \u001b[36m4478.2948\u001b[0m  \u001b[32m26242066.2535\u001b[0m  \u001b[35m20055124.6528\u001b[0m  0.0515\n",
      "   1056  \u001b[36m4477.4680\u001b[0m  \u001b[32m26224507.4479\u001b[0m  \u001b[35m20047719.6319\u001b[0m  0.0524\n",
      "   1057  \u001b[36m4476.6353\u001b[0m  \u001b[32m26206908.1719\u001b[0m  \u001b[35m20040264.2500\u001b[0m  0.0498\n",
      "   1058  \u001b[36m4475.8085\u001b[0m  \u001b[32m26189259.1736\u001b[0m  \u001b[35m20032861.2500\u001b[0m  0.0589\n",
      "   1059  \u001b[36m4474.9963\u001b[0m  \u001b[32m26171542.6814\u001b[0m  \u001b[35m20025594.0556\u001b[0m  0.0636\n",
      "   1060  \u001b[36m4474.2119\u001b[0m  \u001b[32m26153748.3533\u001b[0m  \u001b[35m20018572.0833\u001b[0m  0.0507\n",
      "   1061  \u001b[36m4473.4658\u001b[0m  \u001b[32m26135853.2674\u001b[0m  \u001b[35m20011898.9167\u001b[0m  0.0555\n",
      "   1062  \u001b[36m4472.7826\u001b[0m  \u001b[32m26117839.4583\u001b[0m  \u001b[35m20005781.5417\u001b[0m  0.0510\n",
      "   1063  \u001b[36m4472.1903\u001b[0m  \u001b[32m26099672.8464\u001b[0m  \u001b[35m20000485.7361\u001b[0m  0.0562\n",
      "   1064  \u001b[36m4471.6892\u001b[0m  \u001b[32m26081313.5365\u001b[0m  \u001b[35m19996006.9167\u001b[0m  0.0633\n",
      "   1065  \u001b[36m4471.0536\u001b[0m  \u001b[32m26062597.7066\u001b[0m  \u001b[35m19990319.4097\u001b[0m  0.0514\n",
      "   1066  \u001b[36m4470.1693\u001b[0m  \u001b[32m26043822.2127\u001b[0m  \u001b[35m19982413.9792\u001b[0m  0.0579\n",
      "   1067  \u001b[36m4469.2147\u001b[0m  \u001b[32m26025276.0651\u001b[0m  \u001b[35m19973881.3056\u001b[0m  0.0512\n",
      "   1068  \u001b[36m4468.2666\u001b[0m  \u001b[32m26006798.7109\u001b[0m  \u001b[35m19965405.6597\u001b[0m  0.0577\n",
      "   1069  \u001b[36m4467.3547\u001b[0m  \u001b[32m25988323.8047\u001b[0m  \u001b[35m19957257.0556\u001b[0m  0.0509\n",
      "   1070  \u001b[36m4466.4740\u001b[0m  \u001b[32m25969801.4366\u001b[0m  \u001b[35m19949390.6528\u001b[0m  0.0518\n",
      "   1071  \u001b[36m4465.5633\u001b[0m  \u001b[32m25951195.9019\u001b[0m  \u001b[35m19941256.3333\u001b[0m  0.0480\n",
      "   1072  \u001b[36m4464.6353\u001b[0m  \u001b[32m25932567.8012\u001b[0m  \u001b[35m19932971.6111\u001b[0m  0.0547\n",
      "   1073  \u001b[36m4463.7063\u001b[0m  \u001b[32m25913915.1024\u001b[0m  \u001b[35m19924674.5139\u001b[0m  0.0504\n",
      "   1074  \u001b[36m4462.7792\u001b[0m  \u001b[32m25895218.7413\u001b[0m  \u001b[35m19916398.2917\u001b[0m  0.0520\n",
      "   1075  \u001b[36m4461.8539\u001b[0m  \u001b[32m25876482.3585\u001b[0m  \u001b[35m19908138.3264\u001b[0m  0.0504\n",
      "   1076  \u001b[36m4460.9282\u001b[0m  \u001b[32m25857690.7778\u001b[0m  \u001b[35m19899879.1111\u001b[0m  0.0514\n",
      "   1077  \u001b[36m4460.0027\u001b[0m  \u001b[32m25838845.1233\u001b[0m  \u001b[35m19891624.5972\u001b[0m  0.0602\n",
      "   1078  \u001b[36m4459.0755\u001b[0m  \u001b[32m25819946.2439\u001b[0m  \u001b[35m19883355.3403\u001b[0m  0.0509\n",
      "   1079  \u001b[36m4458.1489\u001b[0m  \u001b[32m25800999.1042\u001b[0m  \u001b[35m19875089.8194\u001b[0m  0.0528\n",
      "   1080  \u001b[36m4457.2245\u001b[0m  \u001b[32m25782005.1762\u001b[0m  \u001b[35m19866851.1250\u001b[0m  0.0574\n",
      "   1081  \u001b[36m4456.3009\u001b[0m  \u001b[32m25762948.4089\u001b[0m  \u001b[35m19858618.9097\u001b[0m  0.0553\n",
      "   1082  \u001b[36m4455.3801\u001b[0m  \u001b[32m25743837.5807\u001b[0m  \u001b[35m19850409.3819\u001b[0m  0.0475\n",
      "   1083  \u001b[36m4454.4589\u001b[0m  \u001b[32m25724670.9045\u001b[0m  \u001b[35m19842201.9792\u001b[0m  0.0537\n",
      "   1084  \u001b[36m4453.5442\u001b[0m  \u001b[32m25705448.2648\u001b[0m  \u001b[35m19834057.1806\u001b[0m  0.0488\n",
      "   1085  \u001b[36m4452.6388\u001b[0m  \u001b[32m25686152.4670\u001b[0m  \u001b[35m19825989.8611\u001b[0m  0.0489\n",
      "   1086  \u001b[36m4451.7439\u001b[0m  \u001b[32m25666779.6241\u001b[0m  \u001b[35m19818023.0764\u001b[0m  0.0545\n",
      "   1087  \u001b[36m4450.8539\u001b[0m  \u001b[32m25647323.6458\u001b[0m  \u001b[35m19810099.3264\u001b[0m  0.0495\n",
      "   1088  \u001b[36m4449.9730\u001b[0m  \u001b[32m25627799.1389\u001b[0m  \u001b[35m19802260.2222\u001b[0m  0.0537\n",
      "   1089  \u001b[36m4449.0990\u001b[0m  \u001b[32m25608188.0512\u001b[0m  \u001b[35m19794479.4722\u001b[0m  0.0474\n",
      "   1090  \u001b[36m4448.2255\u001b[0m  \u001b[32m25588488.5868\u001b[0m  \u001b[35m19786709.9722\u001b[0m  0.0542\n",
      "   1091  \u001b[36m4447.3534\u001b[0m  \u001b[32m25568721.3047\u001b[0m  \u001b[35m19778951.1181\u001b[0m  0.0505\n",
      "   1092  \u001b[36m4446.4797\u001b[0m  \u001b[32m25548886.5590\u001b[0m  \u001b[35m19771180.3750\u001b[0m  0.0548\n",
      "   1093  \u001b[36m4445.6052\u001b[0m  \u001b[32m25528982.4722\u001b[0m  \u001b[35m19763405.2083\u001b[0m  0.0481\n",
      "   1094  \u001b[36m4444.7315\u001b[0m  \u001b[32m25509013.6424\u001b[0m  \u001b[35m19755638.8889\u001b[0m  0.0509\n",
      "   1095  \u001b[36m4443.8614\u001b[0m  \u001b[32m25488980.6606\u001b[0m  \u001b[35m19747902.9792\u001b[0m  0.0527\n",
      "   1096  \u001b[36m4442.9934\u001b[0m  \u001b[32m25468885.8707\u001b[0m  \u001b[35m19740188.7778\u001b[0m  0.0620\n",
      "   1097  \u001b[36m4442.1126\u001b[0m  \u001b[32m25448704.5104\u001b[0m  \u001b[35m19732365.3125\u001b[0m  0.0517\n",
      "   1098  \u001b[36m4441.2235\u001b[0m  \u001b[32m25428516.3073\u001b[0m  \u001b[35m19724466.0139\u001b[0m  0.0507\n",
      "   1099  \u001b[36m4440.3342\u001b[0m  \u001b[32m25408342.5156\u001b[0m  \u001b[35m19716567.8611\u001b[0m  0.0518\n",
      "   1100  \u001b[36m4439.4493\u001b[0m  \u001b[32m25388165.0365\u001b[0m  \u001b[35m19708710.0833\u001b[0m  0.0479\n",
      "   1101  \u001b[36m4438.5637\u001b[0m  \u001b[32m25367966.7179\u001b[0m  \u001b[35m19700847.4097\u001b[0m  0.0520\n",
      "   1102  \u001b[36m4437.6681\u001b[0m  \u001b[32m25347756.7595\u001b[0m  \u001b[35m19692896.9861\u001b[0m  0.0479\n",
      "   1103  \u001b[36m4436.7632\u001b[0m  \u001b[32m25327541.9488\u001b[0m  \u001b[35m19684867.0069\u001b[0m  0.0504\n",
      "   1104  \u001b[36m4435.8546\u001b[0m  \u001b[32m25307326.2257\u001b[0m  \u001b[35m19676805.8889\u001b[0m  0.0488\n",
      "   1105  \u001b[36m4434.9455\u001b[0m  \u001b[32m25287109.4549\u001b[0m  \u001b[35m19668742.7153\u001b[0m  0.0536\n",
      "   1106  \u001b[36m4434.0381\u001b[0m  \u001b[32m25266883.3056\u001b[0m  \u001b[35m19660693.7917\u001b[0m  0.0508\n",
      "   1107  \u001b[36m4433.1337\u001b[0m  \u001b[32m25246646.7778\u001b[0m  \u001b[35m19652672.5139\u001b[0m  0.0557\n",
      "   1108  \u001b[36m4432.2349\u001b[0m  \u001b[32m25226389.7214\u001b[0m  \u001b[35m19644704.4722\u001b[0m  0.0514\n",
      "   1109  \u001b[36m4431.3407\u001b[0m  \u001b[32m25206111.2760\u001b[0m  \u001b[35m19636782.2778\u001b[0m  0.0509\n",
      "   1110  \u001b[36m4430.4519\u001b[0m  \u001b[32m25185814.2839\u001b[0m  \u001b[35m19628904.2708\u001b[0m  0.0547\n",
      "   1111  \u001b[36m4429.5670\u001b[0m  \u001b[32m25165489.9792\u001b[0m  \u001b[35m19621060.5694\u001b[0m  0.0592\n",
      "   1112  \u001b[36m4428.6845\u001b[0m  \u001b[32m25145134.8411\u001b[0m  \u001b[35m19613248.0417\u001b[0m  0.0718\n",
      "   1113  \u001b[36m4427.8096\u001b[0m  \u001b[32m25124764.2092\u001b[0m  \u001b[35m19605500.3472\u001b[0m  0.0695\n",
      "   1114  \u001b[36m4426.9409\u001b[0m  \u001b[32m25104361.1840\u001b[0m  \u001b[35m19597807.7778\u001b[0m  0.0620\n",
      "   1115  \u001b[36m4426.0764\u001b[0m  \u001b[32m25083924.4462\u001b[0m  \u001b[35m19590152.6528\u001b[0m  0.0545\n",
      "   1116  \u001b[36m4425.2168\u001b[0m  \u001b[32m25063460.7066\u001b[0m  \u001b[35m19582545.5000\u001b[0m  0.0487\n",
      "   1117  \u001b[36m4424.3680\u001b[0m  \u001b[32m25042962.3377\u001b[0m  \u001b[35m19575033.0139\u001b[0m  0.0508\n",
      "   1118  \u001b[36m4423.5273\u001b[0m  \u001b[32m25022426.3351\u001b[0m  \u001b[35m19567593.4306\u001b[0m  0.0509\n",
      "   1119  \u001b[36m4422.6983\u001b[0m  \u001b[32m25001850.8090\u001b[0m  \u001b[35m19560258.4583\u001b[0m  0.0535\n",
      "   1120  \u001b[36m4421.8781\u001b[0m  \u001b[32m24981224.4123\u001b[0m  \u001b[35m19553006.5278\u001b[0m  0.0500\n",
      "   1121  \u001b[36m4421.0677\u001b[0m  \u001b[32m24960547.6944\u001b[0m  \u001b[35m19545838.5972\u001b[0m  0.0499\n",
      "   1122  \u001b[36m4420.2670\u001b[0m  \u001b[32m24939824.2153\u001b[0m  \u001b[35m19538757.5972\u001b[0m  0.0536\n",
      "   1123  \u001b[36m4419.4751\u001b[0m  \u001b[32m24919039.1172\u001b[0m  \u001b[35m19531759.3056\u001b[0m  0.0494\n",
      "   1124  \u001b[36m4418.6926\u001b[0m  \u001b[32m24898205.4714\u001b[0m  \u001b[35m19524842.9167\u001b[0m  0.0516\n",
      "   1125  \u001b[36m4417.9178\u001b[0m  \u001b[32m24877315.5556\u001b[0m  \u001b[35m19517996.7431\u001b[0m  0.0494\n",
      "   1126  \u001b[36m4417.1484\u001b[0m  \u001b[32m24856365.8438\u001b[0m  \u001b[35m19511201.3194\u001b[0m  0.0537\n",
      "   1127  \u001b[36m4416.3872\u001b[0m  \u001b[32m24835359.8542\u001b[0m  \u001b[35m19504477.3750\u001b[0m  0.0500\n",
      "   1128  \u001b[36m4415.6343\u001b[0m  \u001b[32m24814301.1415\u001b[0m  \u001b[35m19497824.6250\u001b[0m  0.0555\n",
      "   1129  \u001b[36m4414.8803\u001b[0m  \u001b[32m24793164.7873\u001b[0m  \u001b[35m19491168.4375\u001b[0m  0.0489\n",
      "   1130  \u001b[36m4414.1271\u001b[0m  \u001b[32m24771972.4323\u001b[0m  \u001b[35m19484518.0694\u001b[0m  0.0550\n",
      "   1131  \u001b[36m4413.3767\u001b[0m  \u001b[32m24750735.9392\u001b[0m  \u001b[35m19477893.1458\u001b[0m  0.0525\n",
      "   1132  \u001b[36m4412.6294\u001b[0m  \u001b[32m24729436.4531\u001b[0m  \u001b[35m19471299.0000\u001b[0m  0.0542\n",
      "   1133  \u001b[36m4411.8862\u001b[0m  \u001b[32m24708077.9470\u001b[0m  \u001b[35m19464739.2083\u001b[0m  0.0515\n",
      "   1134  \u001b[36m4411.1479\u001b[0m  \u001b[32m24686664.9010\u001b[0m  \u001b[35m19458227.8472\u001b[0m  0.0497\n",
      "   1135  \u001b[36m4410.4161\u001b[0m  \u001b[32m24665190.3177\u001b[0m  \u001b[35m19451771.3125\u001b[0m  0.0555\n",
      "   1136  \u001b[36m4409.6900\u001b[0m  \u001b[32m24643651.2943\u001b[0m  \u001b[35m19445365.1111\u001b[0m  0.0505\n",
      "   1137  \u001b[36m4408.9711\u001b[0m  \u001b[32m24622053.1623\u001b[0m  \u001b[35m19439026.3819\u001b[0m  0.0499\n",
      "   1138  \u001b[36m4408.2588\u001b[0m  \u001b[32m24600389.1970\u001b[0m  \u001b[35m19432746.1806\u001b[0m  0.0494\n",
      "   1139  \u001b[36m4407.5533\u001b[0m  \u001b[32m24578661.6050\u001b[0m  \u001b[35m19426525.7569\u001b[0m  0.0536\n",
      "   1140  \u001b[36m4406.8547\u001b[0m  \u001b[32m24556860.4583\u001b[0m  \u001b[35m19420369.9583\u001b[0m  0.0486\n",
      "   1141  \u001b[36m4406.1652\u001b[0m  \u001b[32m24535001.3733\u001b[0m  \u001b[35m19414292.9722\u001b[0m  0.0624\n",
      "   1142  \u001b[36m4405.4834\u001b[0m  \u001b[32m24513070.5660\u001b[0m  \u001b[35m19408285.6806\u001b[0m  0.0614\n",
      "   1143  \u001b[36m4404.8071\u001b[0m  \u001b[32m24491068.6328\u001b[0m  \u001b[35m19402326.1667\u001b[0m  0.0498\n",
      "   1144  \u001b[36m4404.1383\u001b[0m  \u001b[32m24468999.5512\u001b[0m  \u001b[35m19396432.9583\u001b[0m  0.0492\n",
      "   1145  \u001b[36m4403.4759\u001b[0m  \u001b[32m24446859.3220\u001b[0m  \u001b[35m19390600.9444\u001b[0m  0.0494\n",
      "   1146  \u001b[36m4402.8207\u001b[0m  \u001b[32m24424653.8134\u001b[0m  \u001b[35m19384830.5972\u001b[0m  0.0585\n",
      "   1147  \u001b[36m4402.1729\u001b[0m  \u001b[32m24402375.6406\u001b[0m  \u001b[35m19379122.6528\u001b[0m  0.0508\n",
      "   1148  \u001b[36m4401.5293\u001b[0m  \u001b[32m24380028.8220\u001b[0m  \u001b[35m19373462.5556\u001b[0m  0.0513\n",
      "   1149  \u001b[36m4400.8947\u001b[0m  \u001b[32m24357611.1085\u001b[0m  \u001b[35m19367875.9028\u001b[0m  0.0492\n",
      "   1150  \u001b[36m4400.2675\u001b[0m  \u001b[32m24335121.0642\u001b[0m  \u001b[35m19362352.8403\u001b[0m  0.0538\n",
      "   1151  \u001b[36m4399.6484\u001b[0m  \u001b[32m24312562.5391\u001b[0m  \u001b[35m19356904.7361\u001b[0m  0.0479\n",
      "   1152  \u001b[36m4399.0410\u001b[0m  \u001b[32m24289952.4410\u001b[0m  \u001b[35m19351562.9861\u001b[0m  0.0637\n",
      "   1153  \u001b[36m4398.4488\u001b[0m  \u001b[32m24267278.3003\u001b[0m  \u001b[35m19346352.0139\u001b[0m  0.0499\n",
      "   1154  \u001b[36m4397.8740\u001b[0m  \u001b[32m24244541.7804\u001b[0m  \u001b[35m19341296.2361\u001b[0m  0.0522\n",
      "   1155  \u001b[36m4397.3133\u001b[0m  \u001b[32m24221744.8550\u001b[0m  \u001b[35m19336361.4306\u001b[0m  0.0506\n",
      "   1156  \u001b[36m4396.7681\u001b[0m  \u001b[32m24198885.4870\u001b[0m  \u001b[35m19331569.7986\u001b[0m  0.0506\n",
      "   1157  \u001b[36m4396.2388\u001b[0m  \u001b[32m24175963.8802\u001b[0m  \u001b[35m19326917.7014\u001b[0m  0.0557\n",
      "   1158  \u001b[36m4395.7040\u001b[0m  \u001b[32m24152951.8681\u001b[0m  \u001b[35m19322213.1458\u001b[0m  0.0563\n",
      "   1159  \u001b[36m4395.1592\u001b[0m  \u001b[32m24129941.7161\u001b[0m  \u001b[35m19317423.2986\u001b[0m  0.0700\n",
      "   1160  \u001b[36m4394.6112\u001b[0m  \u001b[32m24106955.3247\u001b[0m  \u001b[35m19312609.7222\u001b[0m  0.0567\n",
      "   1161  \u001b[36m4394.0674\u001b[0m  \u001b[32m24083994.6823\u001b[0m  \u001b[35m19307828.6736\u001b[0m  0.0546\n",
      "   1162  \u001b[36m4393.5271\u001b[0m  \u001b[32m24061044.9835\u001b[0m  \u001b[35m19303078.8750\u001b[0m  0.0621\n",
      "   1163  \u001b[36m4392.9928\u001b[0m  \u001b[32m24038098.3750\u001b[0m  \u001b[35m19298385.1319\u001b[0m  0.0502\n",
      "   1164  \u001b[36m4392.4620\u001b[0m  \u001b[32m24015160.3941\u001b[0m  \u001b[35m19293723.2569\u001b[0m  0.0586\n",
      "   1165  \u001b[36m4391.9374\u001b[0m  \u001b[32m23992225.5260\u001b[0m  \u001b[35m19289115.6667\u001b[0m  0.0498\n",
      "   1166  \u001b[36m4391.4144\u001b[0m  \u001b[32m23969285.7865\u001b[0m  \u001b[35m19284523.2778\u001b[0m  0.0537\n",
      "   1167  \u001b[36m4390.8949\u001b[0m  \u001b[32m23946357.6814\u001b[0m  \u001b[35m19279957.8542\u001b[0m  0.0509\n",
      "   1168  \u001b[36m4390.3756\u001b[0m  \u001b[32m23923423.1962\u001b[0m  \u001b[35m19275395.9236\u001b[0m  0.0520\n",
      "   1169  \u001b[36m4389.8574\u001b[0m  \u001b[32m23900500.0234\u001b[0m  \u001b[35m19270847.4792\u001b[0m  0.0560\n",
      "   1170  \u001b[36m4389.3437\u001b[0m  \u001b[32m23877599.7830\u001b[0m  \u001b[35m19266338.3125\u001b[0m  0.0527\n",
      "   1171  \u001b[36m4388.8358\u001b[0m  \u001b[32m23854730.0391\u001b[0m  \u001b[35m19261878.3194\u001b[0m  0.0533\n",
      "   1172  \u001b[36m4388.3366\u001b[0m  \u001b[32m23831889.0825\u001b[0m  \u001b[35m19257497.1806\u001b[0m  0.0637\n",
      "   1173  \u001b[36m4387.8473\u001b[0m  \u001b[32m23809062.9852\u001b[0m  \u001b[35m19253204.6806\u001b[0m  0.0571\n",
      "   1174  \u001b[36m4387.3662\u001b[0m  \u001b[32m23786258.1693\u001b[0m  \u001b[35m19248980.5833\u001b[0m  0.0546\n",
      "   1175  \u001b[36m4386.8962\u001b[0m  \u001b[32m23763474.3576\u001b[0m  \u001b[35m19244858.4306\u001b[0m  0.0556\n",
      "   1176  \u001b[36m4386.4348\u001b[0m  \u001b[32m23740714.8220\u001b[0m  \u001b[35m19240811.2083\u001b[0m  0.0579\n",
      "   1177  \u001b[36m4385.9909\u001b[0m  \u001b[32m23717979.1454\u001b[0m  \u001b[35m19236917.2708\u001b[0m  0.0494\n",
      "   1178  \u001b[36m4385.5732\u001b[0m  \u001b[32m23695256.5074\u001b[0m  \u001b[35m19233248.5000\u001b[0m  0.0535\n",
      "   1179  \u001b[36m4385.1780\u001b[0m  \u001b[32m23672535.6628\u001b[0m  \u001b[35m19229787.3194\u001b[0m  0.0571\n",
      "   1180  \u001b[36m4384.8035\u001b[0m  \u001b[32m23649825.4475\u001b[0m  \u001b[35m19226501.7847\u001b[0m  0.0525\n",
      "   1181  \u001b[36m4384.4480\u001b[0m  \u001b[32m23627116.4891\u001b[0m  \u001b[35m19223383.6944\u001b[0m  0.0576\n",
      "   1182  \u001b[36m4384.1093\u001b[0m  \u001b[32m23604412.5720\u001b[0m  \u001b[35m19220416.0694\u001b[0m  0.0509\n",
      "   1183  \u001b[36m4383.7874\u001b[0m  \u001b[32m23581711.5690\u001b[0m  \u001b[35m19217592.5278\u001b[0m  0.0552\n",
      "   1184  \u001b[36m4383.4806\u001b[0m  \u001b[32m23559015.9996\u001b[0m  \u001b[35m19214900.3194\u001b[0m  0.0540\n",
      "   1185  \u001b[36m4383.1833\u001b[0m  \u001b[32m23536316.9731\u001b[0m  \u001b[35m19212295.7917\u001b[0m  0.0521\n",
      "   1186  \u001b[36m4382.9029\u001b[0m  \u001b[32m23513627.2253\u001b[0m  \u001b[35m19209835.7431\u001b[0m  0.0538\n",
      "   1187  \u001b[36m4382.6339\u001b[0m  \u001b[32m23490938.5573\u001b[0m  \u001b[35m19207480.0208\u001b[0m  0.0548\n",
      "   1188  \u001b[36m4382.3793\u001b[0m  \u001b[32m23468251.7786\u001b[0m  \u001b[35m19205244.4861\u001b[0m  0.0585\n",
      "   1189  \u001b[36m4382.1378\u001b[0m  \u001b[32m23445570.8633\u001b[0m  \u001b[35m19203132.5486\u001b[0m  0.0524\n",
      "   1190  \u001b[36m4381.9096\u001b[0m  \u001b[32m23422891.5321\u001b[0m  \u001b[35m19201133.6806\u001b[0m  0.0587\n",
      "   1191  \u001b[36m4381.6949\u001b[0m  \u001b[32m23400218.0178\u001b[0m  \u001b[35m19199247.0694\u001b[0m  0.0522\n",
      "   1192  \u001b[36m4381.4927\u001b[0m  \u001b[32m23377540.7435\u001b[0m  \u001b[35m19197479.9444\u001b[0m  0.0563\n",
      "   1193  \u001b[36m4381.3046\u001b[0m  \u001b[32m23354868.2652\u001b[0m  \u001b[35m19195829.7222\u001b[0m  0.0529\n",
      "   1194  \u001b[36m4381.1295\u001b[0m  \u001b[32m23332193.1489\u001b[0m  \u001b[35m19194297.3889\u001b[0m  0.0527\n",
      "   1195  \u001b[36m4380.9691\u001b[0m  \u001b[32m23309520.2101\u001b[0m  \u001b[35m19192893.1250\u001b[0m  0.0600\n",
      "   1196  \u001b[36m4380.8216\u001b[0m  \u001b[32m23286840.8911\u001b[0m  \u001b[35m19191597.9861\u001b[0m  0.0523\n",
      "   1197  \u001b[36m4380.6892\u001b[0m  \u001b[32m23264162.6871\u001b[0m  \u001b[35m19190437.0625\u001b[0m  0.0534\n",
      "   1198  \u001b[36m4380.5712\u001b[0m  \u001b[32m23241477.9566\u001b[0m  \u001b[35m19189406.8819\u001b[0m  0.0516\n",
      "   1199  \u001b[36m4380.4680\u001b[0m  \u001b[32m23218793.8416\u001b[0m  \u001b[35m19188501.8611\u001b[0m  0.0555\n",
      "   1200  \u001b[36m4380.3790\u001b[0m  \u001b[32m23196099.4570\u001b[0m  \u001b[35m19187720.2431\u001b[0m  0.0494\n",
      "   1201  \u001b[36m4380.3030\u001b[0m  \u001b[32m23173397.9032\u001b[0m  \u001b[35m19187053.8681\u001b[0m  0.0549\n",
      "   1202  \u001b[36m4380.2420\u001b[0m  \u001b[32m23150692.4028\u001b[0m  \u001b[35m19186517.8472\u001b[0m  0.0587\n",
      "   1203  \u001b[36m4380.1963\u001b[0m  \u001b[32m23127983.1997\u001b[0m  \u001b[35m19186118.9167\u001b[0m  0.0515\n",
      "   1204  \u001b[36m4380.1678\u001b[0m  \u001b[32m23105268.7431\u001b[0m  \u001b[35m19185870.2986\u001b[0m  0.0566\n",
      "   1205  \u001b[36m4380.1537\u001b[0m  \u001b[32m23082544.0864\u001b[0m  \u001b[35m19185748.8611\u001b[0m  0.0533\n",
      "   1206  4380.1559  \u001b[32m23059808.9158\u001b[0m  19185764.7292  0.0552\n",
      "Stopping since RMSE has not improved in the last 5 epochs.\n"
     ]
    },
    {
     "data": {
      "text/plain": [
       "RandomizedSearchCV(cv=3,\n",
       "                   estimator=<class 'skorch.regressor.NeuralNetRegressor'>[uninitialized](\n",
       "  module=Model(\n",
       "    (layer1): Linear(in_features=5, out_features=4, bias=True)\n",
       "    (dp): Dropout(p=0, inplace=False)\n",
       "    (layer2): Linear(in_features=4, out_features=3, bias=True)\n",
       "    (layer3): Linear(in_features=3, out_features=3, bias=True)\n",
       "    (layer4): Linear(in_features=3, out_features=3, bi...\n",
       "                   param_distributions={'lr': [0.001, 0.0001],\n",
       "                                        'module__activation': [LeakyReLU(negative_slope=0.01),\n",
       "                                                               Tanh(), ReLU(),\n",
       "                                                               ELU(alpha=1.0)],\n",
       "                                        'module__dropout': [0, 0.2, 0.5],\n",
       "                                        'module__n_hidden_neurons_1': range(15, 30, 5),\n",
       "                                        'module__n_hidden_neurons_2': range(10, 20, 4),\n",
       "                                        'module__n_hidden_neurons_3': range(6, 13, 3),\n",
       "                                        'module__n_hidden_neurons_4': range(3, 8, 2)},\n",
       "                   scoring='neg_root_mean_squared_error', verbose=3)"
      ]
     },
     "execution_count": 252,
     "metadata": {},
     "output_type": "execute_result"
    }
   ],
   "source": [
    "grid = RandomizedSearchCV(skorch_regressor, params, cv=3, scoring=\"neg_root_mean_squared_error\", verbose=3) \n",
    "grid.fit(features_train, target_train.reshape(-1, 1)) "
   ]
  },
  {
   "cell_type": "code",
   "execution_count": 253,
   "id": "4be04e7d",
   "metadata": {},
   "outputs": [
    {
     "data": {
      "text/plain": [
       "{'module__n_hidden_neurons_4': 5,\n",
       " 'module__n_hidden_neurons_3': 9,\n",
       " 'module__n_hidden_neurons_2': 18,\n",
       " 'module__n_hidden_neurons_1': 25,\n",
       " 'module__dropout': 0,\n",
       " 'module__activation': ELU(alpha=1.0),\n",
       " 'lr': 0.001}"
      ]
     },
     "execution_count": 253,
     "metadata": {},
     "output_type": "execute_result"
    }
   ],
   "source": [
    "grid.best_params_"
   ]
  },
  {
   "cell_type": "code",
   "execution_count": 255,
   "id": "70117c2b",
   "metadata": {},
   "outputs": [],
   "source": [
    "final_net = Model(25, 18, 9, 5, 0, nn.ELU())"
   ]
  },
  {
   "cell_type": "code",
   "execution_count": 265,
   "id": "f297bd53",
   "metadata": {},
   "outputs": [
    {
     "name": "stdout",
     "output_type": "stream",
     "text": [
      "RMSE - 4743.006008851348\n",
      "RMSE - 4736.595401762747\n",
      "RMSE - 4719.22896244715\n",
      "RMSE - 4704.570331071691\n",
      "RMSE - 4664.737077263841\n",
      "RMSE - 4641.404097899686\n",
      "RMSE - 4612.649780765932\n",
      "RMSE - 4603.297296503888\n",
      "RMSE - 4581.833912310659\n",
      "RMSE - 4560.1929783727355\n",
      "RMSE - 4544.557184148968\n",
      "RMSE - 4524.731373241952\n",
      "RMSE - 4501.272931071831\n",
      "RMSE - 4480.045758694882\n",
      "RMSE - 4457.774332556551\n",
      "RMSE - 4435.259631633756\n",
      "RMSE - 4410.76750690852\n",
      "RMSE - 4380.7771000131925\n",
      "RMSE - 4352.307204230878\n",
      "RMSE - 4319.540716326216\n",
      "RMSE - 4296.156654499461\n"
     ]
    }
   ],
   "source": [
    "optimizer = torch.optim.Adam(final_net.parameters(), lr=0.001)\n",
    "\n",
    "loss = nn.L1Loss()\n",
    "\n",
    "num_epochs = 800\n",
    "        \n",
    "for epoch in range(num_epochs):\n",
    "    optimizer.zero_grad()\n",
    "    \n",
    "    preds = final_net.forward(features_train).flatten()\n",
    "\n",
    "    loss_value = loss(preds, target_train)\n",
    "\n",
    "    loss_value.backward()\n",
    "\n",
    "    optimizer.step()\n",
    "\n",
    "    if epoch % 40 == 0 or epoch == num_epochs - 1:\n",
    "        final_net.eval()\n",
    "        test_preds = final_net.forward(features_test)\n",
    "        mse = mean_squared_error(target_test.detach().numpy(), test_preds.detach().numpy())\n",
    "        rmse = mse ** 0.5\n",
    "        print('RMSE -', rmse)\n",
    "                "
   ]
  },
  {
   "cell_type": "code",
   "execution_count": 266,
   "id": "fbd3b6b1",
   "metadata": {},
   "outputs": [
    {
     "name": "stdout",
     "output_type": "stream",
     "text": [
      "    Target         Preds\n",
      "0   2856.0   2828.000977\n",
      "1  25390.0  18883.132812\n",
      "2   2983.0   2985.605713\n",
      "3  24020.0  20770.062500\n",
      "4   3158.0   3124.079590\n"
     ]
    }
   ],
   "source": [
    "plot_data = pd.DataFrame(target_test)\n",
    "plot_data['Preds'] = test_preds.detach().numpy()\n",
    "plot_data.columns = ['Target', 'Preds']\n",
    "print(plot_data.head())"
   ]
  },
  {
   "cell_type": "code",
   "execution_count": 267,
   "id": "775e7f67",
   "metadata": {},
   "outputs": [
    {
     "data": {
      "text/plain": [
       "Text(0, 0.5, 'Температура звезды')"
      ]
     },
     "execution_count": 267,
     "metadata": {},
     "output_type": "execute_result"
    },
    {
     "data": {
      "text/plain": [
       "<Figure size 864x864 with 0 Axes>"
      ]
     },
     "metadata": {},
     "output_type": "display_data"
    },
    {
     "data": {
      "image/png": "[encoded data removed]",
      "text/plain": [
       "<Figure size 432x288 with 1 Axes>"
      ]
     },
     "metadata": {
      "needs_background": "light"
     },
     "output_type": "display_data"
    }
   ],
   "source": [
    "plt.figure(figsize=(12, 12))\n",
    "fig = plot_data.loc[:12].plot(kind='bar')\n",
    "fig.set_xlabel('Номер звезды в таблице данных')\n",
    "fig.set_ylabel('Температура звезды')"
   ]
  },
  {
   "cell_type": "markdown",
   "id": "accurate-infrastructure",
   "metadata": {},
   "source": [
    "## Выводы"
   ]
  },
  {
   "cell_type": "markdown",
   "id": "4a860727",
   "metadata": {},
   "source": [
    "Как можно заметить, новая и усложненная модель показывает более лучшие результаты. В нее был добавлен dropout, новый слой и функция активации. "
   ]
  }
 ],
 "metadata": {
  "ExecuteTimeLog": [
   {
    "duration": 357,
    "start_time": "2022-09-08T17:50:00.657Z"
   },
   {
    "duration": 86,
    "start_time": "2022-09-08T17:50:39.064Z"
   },
   {
    "duration": 9,
    "start_time": "2022-09-08T17:51:42.196Z"
   },
   {
    "duration": 10,
    "start_time": "2022-09-08T17:51:46.208Z"
   },
   {
    "duration": 4,
    "start_time": "2022-09-08T17:57:38.472Z"
   },
   {
    "duration": 5,
    "start_time": "2022-09-08T17:57:57.863Z"
   },
   {
    "duration": 379,
    "start_time": "2022-09-08T17:59:33.231Z"
   },
   {
    "duration": 5,
    "start_time": "2022-09-08T18:01:31.327Z"
   },
   {
    "duration": 629,
    "start_time": "2022-09-08T18:01:38.703Z"
   },
   {
    "duration": 554,
    "start_time": "2022-09-08T18:02:11.281Z"
   },
   {
    "duration": 346,
    "start_time": "2022-09-08T18:02:32.180Z"
   },
   {
    "duration": 485,
    "start_time": "2022-09-08T18:03:01.332Z"
   },
   {
    "duration": 75,
    "start_time": "2022-09-08T18:04:19.215Z"
   },
   {
    "duration": 6,
    "start_time": "2022-09-08T18:04:47.227Z"
   },
   {
    "duration": 8,
    "start_time": "2022-09-08T18:05:03.322Z"
   },
   {
    "duration": 6,
    "start_time": "2022-09-08T18:06:02.255Z"
   },
   {
    "duration": 398,
    "start_time": "2022-09-08T18:06:31.615Z"
   },
   {
    "duration": 407,
    "start_time": "2022-09-08T18:07:02.207Z"
   },
   {
    "duration": 496,
    "start_time": "2022-09-08T18:07:09.067Z"
   },
   {
    "duration": 313,
    "start_time": "2022-09-08T18:08:43.407Z"
   },
   {
    "duration": 483,
    "start_time": "2022-09-08T18:08:52.287Z"
   },
   {
    "duration": 656,
    "start_time": "2022-09-08T18:09:04.028Z"
   },
   {
    "duration": 4,
    "start_time": "2022-09-08T18:09:44.727Z"
   },
   {
    "duration": 3,
    "start_time": "2022-09-08T18:09:50.531Z"
   },
   {
    "duration": 341,
    "start_time": "2022-09-08T18:10:35.622Z"
   },
   {
    "duration": 572,
    "start_time": "2022-09-08T18:11:25.727Z"
   },
   {
    "duration": 366,
    "start_time": "2022-09-08T18:12:22.855Z"
   },
   {
    "duration": 226,
    "start_time": "2022-09-08T18:12:40.043Z"
   },
   {
    "duration": 271,
    "start_time": "2022-09-08T18:13:05.083Z"
   },
   {
    "duration": 250,
    "start_time": "2022-09-08T18:13:37.400Z"
   },
   {
    "duration": 263,
    "start_time": "2022-09-08T18:13:43.698Z"
   },
   {
    "duration": 229,
    "start_time": "2022-09-08T18:13:58.830Z"
   },
   {
    "duration": 232,
    "start_time": "2022-09-08T18:14:16.133Z"
   },
   {
    "duration": 4,
    "start_time": "2022-09-08T18:14:51.159Z"
   },
   {
    "duration": 242,
    "start_time": "2022-09-08T18:15:30.715Z"
   },
   {
    "duration": 3,
    "start_time": "2022-09-08T18:18:10.859Z"
   },
   {
    "duration": 4,
    "start_time": "2022-09-08T18:18:12.666Z"
   },
   {
    "duration": 444,
    "start_time": "2022-09-08T18:18:27.614Z"
   },
   {
    "duration": 12,
    "start_time": "2022-09-08T18:19:47.615Z"
   },
   {
    "duration": 13,
    "start_time": "2022-09-08T18:19:57.743Z"
   },
   {
    "duration": 5,
    "start_time": "2022-09-08T18:20:19.891Z"
   },
   {
    "duration": 5,
    "start_time": "2022-09-08T18:20:24.250Z"
   },
   {
    "duration": 582,
    "start_time": "2022-09-08T18:20:31.231Z"
   },
   {
    "duration": 5,
    "start_time": "2022-09-08T18:21:56.694Z"
   },
   {
    "duration": 5,
    "start_time": "2022-09-08T18:21:58.746Z"
   },
   {
    "duration": 442,
    "start_time": "2022-09-08T18:22:20.654Z"
   },
   {
    "duration": 12,
    "start_time": "2022-09-08T18:22:40.197Z"
   },
   {
    "duration": 5,
    "start_time": "2022-09-08T18:22:46.736Z"
   },
   {
    "duration": 4,
    "start_time": "2022-09-08T18:22:49.768Z"
   },
   {
    "duration": 5,
    "start_time": "2022-09-08T18:23:22.227Z"
   },
   {
    "duration": 4,
    "start_time": "2022-09-08T18:23:23.846Z"
   },
   {
    "duration": 4,
    "start_time": "2022-09-08T18:23:58.939Z"
   },
   {
    "duration": 4,
    "start_time": "2022-09-08T18:24:00.026Z"
   },
   {
    "duration": 4,
    "start_time": "2022-09-08T18:24:07.330Z"
   },
   {
    "duration": 421,
    "start_time": "2022-09-08T18:24:22.814Z"
   },
   {
    "duration": 19,
    "start_time": "2022-09-08T18:25:56.946Z"
   },
   {
    "duration": 7,
    "start_time": "2022-09-08T18:27:01.738Z"
   },
   {
    "duration": 6,
    "start_time": "2022-09-08T18:27:06.138Z"
   },
   {
    "duration": 6,
    "start_time": "2022-09-08T18:27:17.654Z"
   },
   {
    "duration": 425,
    "start_time": "2022-09-08T18:29:19.665Z"
   },
   {
    "duration": 8,
    "start_time": "2022-09-08T18:30:18.922Z"
   },
   {
    "duration": 3,
    "start_time": "2022-09-08T18:30:58.506Z"
   },
   {
    "duration": 24,
    "start_time": "2022-09-08T18:32:24.686Z"
   },
   {
    "duration": 9,
    "start_time": "2022-09-08T18:33:11.778Z"
   },
   {
    "duration": 36,
    "start_time": "2022-09-08T18:33:27.317Z"
   },
   {
    "duration": 13,
    "start_time": "2022-09-08T18:33:28.515Z"
   },
   {
    "duration": 5,
    "start_time": "2022-09-08T18:33:32.234Z"
   },
   {
    "duration": 336,
    "start_time": "2022-09-08T18:33:32.865Z"
   },
   {
    "duration": 268,
    "start_time": "2022-09-08T18:33:35.593Z"
   },
   {
    "duration": 5,
    "start_time": "2022-09-08T18:33:38.453Z"
   },
   {
    "duration": 4,
    "start_time": "2022-09-08T18:33:40.026Z"
   },
   {
    "duration": 438,
    "start_time": "2022-09-08T18:33:40.657Z"
   },
   {
    "duration": 21,
    "start_time": "2022-09-08T18:33:45.001Z"
   },
   {
    "duration": 6,
    "start_time": "2022-09-08T18:33:46.818Z"
   },
   {
    "duration": 10,
    "start_time": "2022-09-08T18:33:47.405Z"
   },
   {
    "duration": 9,
    "start_time": "2022-09-08T18:39:11.369Z"
   },
   {
    "duration": 115,
    "start_time": "2022-09-08T18:39:19.633Z"
   },
   {
    "duration": 116,
    "start_time": "2022-09-08T18:41:13.346Z"
   },
   {
    "duration": 120,
    "start_time": "2022-09-08T18:41:30.925Z"
   },
   {
    "duration": 148,
    "start_time": "2022-09-08T18:41:49.578Z"
   },
   {
    "duration": 162,
    "start_time": "2022-09-08T18:42:01.869Z"
   },
   {
    "duration": 176,
    "start_time": "2022-09-08T18:42:08.409Z"
   },
   {
    "duration": 244,
    "start_time": "2022-09-08T18:42:15.525Z"
   },
   {
    "duration": 210,
    "start_time": "2022-09-08T18:42:27.305Z"
   },
   {
    "duration": 208,
    "start_time": "2022-09-08T18:42:48.588Z"
   },
   {
    "duration": 409,
    "start_time": "2022-09-08T18:43:01.737Z"
   },
   {
    "duration": 142,
    "start_time": "2022-09-08T18:43:11.333Z"
   },
   {
    "duration": 128,
    "start_time": "2022-09-08T18:43:20.313Z"
   },
   {
    "duration": 6,
    "start_time": "2022-09-08T18:46:58.320Z"
   },
   {
    "duration": 12,
    "start_time": "2022-09-08T18:46:59.461Z"
   },
   {
    "duration": 11,
    "start_time": "2022-09-08T18:47:09.639Z"
   },
   {
    "duration": 4,
    "start_time": "2022-09-08T18:48:33.637Z"
   },
   {
    "duration": 9,
    "start_time": "2022-09-08T18:48:34.208Z"
   },
   {
    "duration": 3,
    "start_time": "2022-09-08T18:49:51.449Z"
   },
   {
    "duration": 4,
    "start_time": "2022-09-08T18:50:17.537Z"
   },
   {
    "duration": 3,
    "start_time": "2022-09-08T18:50:36.852Z"
   },
   {
    "duration": 2,
    "start_time": "2022-09-08T18:50:56.356Z"
   },
   {
    "duration": 1458,
    "start_time": "2022-09-08T21:06:20.703Z"
   },
   {
    "duration": 86,
    "start_time": "2022-09-08T21:06:22.163Z"
   },
   {
    "duration": 15,
    "start_time": "2022-09-08T21:06:22.552Z"
   },
   {
    "duration": 5,
    "start_time": "2022-09-08T21:06:23.516Z"
   },
   {
    "duration": 370,
    "start_time": "2022-09-08T21:06:24.024Z"
   },
   {
    "duration": 261,
    "start_time": "2022-09-08T21:06:24.860Z"
   },
   {
    "duration": 5,
    "start_time": "2022-09-08T21:06:25.827Z"
   },
   {
    "duration": 4,
    "start_time": "2022-09-08T21:06:26.388Z"
   },
   {
    "duration": 513,
    "start_time": "2022-09-08T21:06:27.524Z"
   },
   {
    "duration": 19,
    "start_time": "2022-09-08T21:06:28.904Z"
   },
   {
    "duration": 6,
    "start_time": "2022-09-08T21:06:29.535Z"
   },
   {
    "duration": 6,
    "start_time": "2022-09-08T21:06:29.988Z"
   },
   {
    "duration": 120,
    "start_time": "2022-09-08T21:06:30.500Z"
   },
   {
    "duration": 6,
    "start_time": "2022-09-08T21:06:32.164Z"
   },
   {
    "duration": 9,
    "start_time": "2022-09-08T21:06:32.732Z"
   },
   {
    "duration": 4,
    "start_time": "2022-09-08T21:06:33.508Z"
   },
   {
    "duration": 10,
    "start_time": "2022-09-08T21:06:34.364Z"
   },
   {
    "duration": 5,
    "start_time": "2022-09-08T21:06:36.176Z"
   },
   {
    "duration": 6,
    "start_time": "2022-09-08T21:06:37.320Z"
   },
   {
    "duration": 3,
    "start_time": "2022-09-08T21:06:39.017Z"
   },
   {
    "duration": 3,
    "start_time": "2022-09-08T21:06:39.540Z"
   },
   {
    "duration": 22877,
    "start_time": "2022-09-08T21:10:11.616Z"
   },
   {
    "duration": 4701,
    "start_time": "2022-09-08T21:10:36.704Z"
   },
   {
    "duration": 1773,
    "start_time": "2022-09-08T21:11:24.128Z"
   },
   {
    "duration": 3,
    "start_time": "2022-09-08T21:11:55.713Z"
   },
   {
    "duration": 20801,
    "start_time": "2022-09-10T13:17:13.599Z"
   },
   {
    "duration": 2089,
    "start_time": "2022-09-10T13:17:34.403Z"
   },
   {
    "duration": 2809,
    "start_time": "2022-09-10T13:17:44.840Z"
   },
   {
    "duration": 80,
    "start_time": "2022-09-10T13:17:50.707Z"
   },
   {
    "duration": 2603,
    "start_time": "2022-09-10T13:17:51.948Z"
   },
   {
    "duration": 5,
    "start_time": "2022-09-10T13:17:59.855Z"
   },
   {
    "duration": 393,
    "start_time": "2022-09-10T13:18:00.418Z"
   },
   {
    "duration": 254,
    "start_time": "2022-09-10T13:18:01.293Z"
   },
   {
    "duration": 4,
    "start_time": "2022-09-10T13:18:02.682Z"
   },
   {
    "duration": 4,
    "start_time": "2022-09-10T13:18:03.223Z"
   },
   {
    "duration": 560,
    "start_time": "2022-09-10T13:18:03.930Z"
   },
   {
    "duration": 24,
    "start_time": "2022-09-10T13:18:06.915Z"
   },
   {
    "duration": 6,
    "start_time": "2022-09-10T13:18:07.524Z"
   },
   {
    "duration": 7,
    "start_time": "2022-09-10T13:18:08.120Z"
   },
   {
    "duration": 140,
    "start_time": "2022-09-10T13:18:09.042Z"
   },
   {
    "duration": 7,
    "start_time": "2022-09-10T13:18:13.657Z"
   },
   {
    "duration": 11,
    "start_time": "2022-09-10T13:18:14.340Z"
   },
   {
    "duration": 3,
    "start_time": "2022-09-10T13:18:14.937Z"
   },
   {
    "duration": 11,
    "start_time": "2022-09-10T13:18:15.540Z"
   },
   {
    "duration": 5,
    "start_time": "2022-09-10T13:18:16.305Z"
   },
   {
    "duration": 5,
    "start_time": "2022-09-10T13:18:17.214Z"
   },
   {
    "duration": 4,
    "start_time": "2022-09-10T13:18:28.982Z"
   },
   {
    "duration": 6,
    "start_time": "2022-09-10T13:18:29.461Z"
   },
   {
    "duration": 5,
    "start_time": "2022-09-10T13:18:30.860Z"
   },
   {
    "duration": 5,
    "start_time": "2022-09-10T13:25:49.968Z"
   },
   {
    "duration": 2,
    "start_time": "2022-09-10T13:25:51.273Z"
   },
   {
    "duration": 153,
    "start_time": "2022-09-10T13:25:56.390Z"
   },
   {
    "duration": 2020,
    "start_time": "2022-09-10T14:34:16.961Z"
   },
   {
    "duration": 1776,
    "start_time": "2022-09-10T14:34:18.984Z"
   },
   {
    "duration": 36,
    "start_time": "2022-09-10T14:34:20.762Z"
   },
   {
    "duration": 11,
    "start_time": "2022-09-10T14:34:20.800Z"
   },
   {
    "duration": 6,
    "start_time": "2022-09-10T14:34:20.812Z"
   },
   {
    "duration": 390,
    "start_time": "2022-09-10T14:34:20.819Z"
   },
   {
    "duration": 282,
    "start_time": "2022-09-10T14:34:21.211Z"
   },
   {
    "duration": 4,
    "start_time": "2022-09-10T14:34:21.495Z"
   },
   {
    "duration": 11,
    "start_time": "2022-09-10T14:34:21.500Z"
   },
   {
    "duration": 577,
    "start_time": "2022-09-10T14:34:21.513Z"
   },
   {
    "duration": 20,
    "start_time": "2022-09-10T14:34:22.091Z"
   },
   {
    "duration": 5,
    "start_time": "2022-09-10T14:34:22.113Z"
   },
   {
    "duration": 6,
    "start_time": "2022-09-10T14:34:22.119Z"
   },
   {
    "duration": 137,
    "start_time": "2022-09-10T14:34:22.147Z"
   },
   {
    "duration": 5,
    "start_time": "2022-09-10T14:34:22.285Z"
   },
   {
    "duration": 13,
    "start_time": "2022-09-10T14:34:22.292Z"
   },
   {
    "duration": 17,
    "start_time": "2022-09-10T14:34:22.306Z"
   },
   {
    "duration": 10,
    "start_time": "2022-09-10T14:34:22.324Z"
   },
   {
    "duration": 6,
    "start_time": "2022-09-10T14:34:22.336Z"
   },
   {
    "duration": 16,
    "start_time": "2022-09-10T14:34:22.346Z"
   },
   {
    "duration": 6,
    "start_time": "2022-09-10T14:34:22.363Z"
   },
   {
    "duration": 6,
    "start_time": "2022-09-10T14:34:22.370Z"
   },
   {
    "duration": 135,
    "start_time": "2022-09-10T14:34:22.378Z"
   },
   {
    "duration": 0,
    "start_time": "2022-09-10T14:34:22.515Z"
   },
   {
    "duration": 0,
    "start_time": "2022-09-10T14:34:22.515Z"
   },
   {
    "duration": 0,
    "start_time": "2022-09-10T14:34:22.517Z"
   },
   {
    "duration": 3,
    "start_time": "2022-09-10T14:34:49.202Z"
   },
   {
    "duration": 6,
    "start_time": "2022-09-10T14:35:22.311Z"
   },
   {
    "duration": 12,
    "start_time": "2022-09-10T14:40:48.329Z"
   },
   {
    "duration": 3,
    "start_time": "2022-09-10T14:40:52.152Z"
   },
   {
    "duration": 11,
    "start_time": "2022-09-10T14:40:52.914Z"
   },
   {
    "duration": 18,
    "start_time": "2022-09-10T14:41:33.576Z"
   },
   {
    "duration": 5,
    "start_time": "2022-09-10T14:43:00.800Z"
   },
   {
    "duration": 3,
    "start_time": "2022-09-10T14:43:01.580Z"
   },
   {
    "duration": 504,
    "start_time": "2022-09-10T14:43:02.264Z"
   },
   {
    "duration": 55,
    "start_time": "2022-09-10T14:44:18.472Z"
   },
   {
    "duration": 273,
    "start_time": "2022-09-10T14:44:33.790Z"
   },
   {
    "duration": 390,
    "start_time": "2022-09-10T14:48:42.063Z"
   },
   {
    "duration": 363,
    "start_time": "2022-09-10T14:51:00.304Z"
   },
   {
    "duration": 320,
    "start_time": "2022-09-10T14:52:30.036Z"
   },
   {
    "duration": 6,
    "start_time": "2022-09-10T14:53:30.754Z"
   },
   {
    "duration": 2258,
    "start_time": "2022-09-10T14:53:31.619Z"
   },
   {
    "duration": 1987,
    "start_time": "2022-09-10T14:54:00.678Z"
   },
   {
    "duration": 329,
    "start_time": "2022-09-10T15:00:05.352Z"
   },
   {
    "duration": 126,
    "start_time": "2022-09-10T15:00:24.718Z"
   },
   {
    "duration": 140,
    "start_time": "2022-09-10T15:00:39.439Z"
   },
   {
    "duration": 3,
    "start_time": "2022-09-10T15:07:38.193Z"
   },
   {
    "duration": 5,
    "start_time": "2022-09-10T15:07:38.929Z"
   },
   {
    "duration": 11,
    "start_time": "2022-09-10T15:07:39.690Z"
   },
   {
    "duration": 4,
    "start_time": "2022-09-10T15:07:47.892Z"
   },
   {
    "duration": 5,
    "start_time": "2022-09-10T15:07:49.633Z"
   },
   {
    "duration": 4,
    "start_time": "2022-09-10T15:07:51.218Z"
   },
   {
    "duration": 3,
    "start_time": "2022-09-10T15:07:51.756Z"
   },
   {
    "duration": 2,
    "start_time": "2022-09-10T15:07:52.877Z"
   },
   {
    "duration": 6,
    "start_time": "2022-09-10T15:07:53.905Z"
   },
   {
    "duration": 4,
    "start_time": "2022-09-10T15:07:54.779Z"
   },
   {
    "duration": 4,
    "start_time": "2022-09-10T15:07:55.690Z"
   },
   {
    "duration": 1080,
    "start_time": "2022-09-10T15:07:57.378Z"
   },
   {
    "duration": 19,
    "start_time": "2022-09-10T15:11:08.771Z"
   },
   {
    "duration": 58,
    "start_time": "2022-09-10T15:11:23.543Z"
   },
   {
    "duration": 394,
    "start_time": "2022-09-10T15:11:32.160Z"
   },
   {
    "duration": 21,
    "start_time": "2022-09-10T15:11:47.615Z"
   },
   {
    "duration": 26,
    "start_time": "2022-09-10T15:11:50.343Z"
   },
   {
    "duration": 16,
    "start_time": "2022-09-10T15:11:54.597Z"
   },
   {
    "duration": 16,
    "start_time": "2022-09-10T15:13:01.054Z"
   },
   {
    "duration": 3,
    "start_time": "2022-09-10T15:13:53.713Z"
   },
   {
    "duration": 10,
    "start_time": "2022-09-10T15:14:23.750Z"
   },
   {
    "duration": 9,
    "start_time": "2022-09-10T15:14:32.625Z"
   },
   {
    "duration": 18,
    "start_time": "2022-09-10T15:15:51.290Z"
   },
   {
    "duration": 9,
    "start_time": "2022-09-10T15:15:56.517Z"
   },
   {
    "duration": 12,
    "start_time": "2022-09-10T15:16:41.619Z"
   },
   {
    "duration": 7,
    "start_time": "2022-09-10T15:16:55.093Z"
   },
   {
    "duration": 8,
    "start_time": "2022-09-10T15:17:02.089Z"
   },
   {
    "duration": 7,
    "start_time": "2022-09-10T15:20:08.134Z"
   },
   {
    "duration": 913,
    "start_time": "2022-09-10T15:21:18.092Z"
   },
   {
    "duration": 202,
    "start_time": "2022-09-10T15:21:31.616Z"
   },
   {
    "duration": 8,
    "start_time": "2022-09-10T15:26:41.006Z"
   },
   {
    "duration": 15,
    "start_time": "2022-09-10T15:26:44.138Z"
   },
   {
    "duration": 5,
    "start_time": "2022-09-10T15:26:50.974Z"
   },
   {
    "duration": 18,
    "start_time": "2022-09-10T15:26:50.982Z"
   },
   {
    "duration": 4,
    "start_time": "2022-09-10T15:26:51.167Z"
   },
   {
    "duration": 6,
    "start_time": "2022-09-10T15:26:51.394Z"
   },
   {
    "duration": 4,
    "start_time": "2022-09-10T15:26:52.444Z"
   },
   {
    "duration": 11,
    "start_time": "2022-09-10T15:26:54.439Z"
   },
   {
    "duration": 6,
    "start_time": "2022-09-10T15:26:55.444Z"
   },
   {
    "duration": 1441,
    "start_time": "2022-09-10T15:27:08.911Z"
   },
   {
    "duration": 7,
    "start_time": "2022-09-10T15:27:33.710Z"
   },
   {
    "duration": 12,
    "start_time": "2022-09-10T15:27:34.118Z"
   },
   {
    "duration": 1925,
    "start_time": "2022-09-10T15:27:35.247Z"
   },
   {
    "duration": 11,
    "start_time": "2022-09-10T15:27:37.250Z"
   },
   {
    "duration": 8,
    "start_time": "2022-09-10T15:27:43.109Z"
   },
   {
    "duration": 300,
    "start_time": "2022-09-10T15:27:46.100Z"
   },
   {
    "duration": 23654,
    "start_time": "2022-09-10T18:26:45.120Z"
   },
   {
    "duration": 2241,
    "start_time": "2022-09-10T18:27:08.777Z"
   },
   {
    "duration": 0,
    "start_time": "2022-09-10T18:27:11.020Z"
   },
   {
    "duration": 0,
    "start_time": "2022-09-10T18:27:11.021Z"
   },
   {
    "duration": 0,
    "start_time": "2022-09-10T18:27:11.022Z"
   },
   {
    "duration": 0,
    "start_time": "2022-09-10T18:27:11.023Z"
   },
   {
    "duration": 0,
    "start_time": "2022-09-10T18:27:11.024Z"
   },
   {
    "duration": 0,
    "start_time": "2022-09-10T18:27:11.025Z"
   },
   {
    "duration": 0,
    "start_time": "2022-09-10T18:27:11.026Z"
   },
   {
    "duration": 0,
    "start_time": "2022-09-10T18:27:11.027Z"
   },
   {
    "duration": 0,
    "start_time": "2022-09-10T18:27:11.028Z"
   },
   {
    "duration": 0,
    "start_time": "2022-09-10T18:27:11.029Z"
   },
   {
    "duration": 0,
    "start_time": "2022-09-10T18:27:11.030Z"
   },
   {
    "duration": 0,
    "start_time": "2022-09-10T18:27:11.030Z"
   },
   {
    "duration": 0,
    "start_time": "2022-09-10T18:27:11.031Z"
   },
   {
    "duration": 0,
    "start_time": "2022-09-10T18:27:11.032Z"
   },
   {
    "duration": 0,
    "start_time": "2022-09-10T18:27:11.033Z"
   },
   {
    "duration": 0,
    "start_time": "2022-09-10T18:27:11.034Z"
   },
   {
    "duration": 0,
    "start_time": "2022-09-10T18:27:11.036Z"
   },
   {
    "duration": 0,
    "start_time": "2022-09-10T18:27:11.037Z"
   },
   {
    "duration": 0,
    "start_time": "2022-09-10T18:27:11.038Z"
   },
   {
    "duration": 0,
    "start_time": "2022-09-10T18:27:11.069Z"
   },
   {
    "duration": 1,
    "start_time": "2022-09-10T18:27:11.070Z"
   },
   {
    "duration": 0,
    "start_time": "2022-09-10T18:27:11.072Z"
   },
   {
    "duration": 0,
    "start_time": "2022-09-10T18:27:11.074Z"
   },
   {
    "duration": 0,
    "start_time": "2022-09-10T18:27:11.076Z"
   },
   {
    "duration": 0,
    "start_time": "2022-09-10T18:27:11.076Z"
   },
   {
    "duration": 0,
    "start_time": "2022-09-10T18:27:11.080Z"
   },
   {
    "duration": 2082,
    "start_time": "2022-09-10T18:28:14.460Z"
   },
   {
    "duration": 78,
    "start_time": "2022-09-10T18:28:18.249Z"
   },
   {
    "duration": 13,
    "start_time": "2022-09-10T18:28:19.122Z"
   },
   {
    "duration": 5,
    "start_time": "2022-09-10T18:28:19.550Z"
   },
   {
    "duration": 494,
    "start_time": "2022-09-10T18:28:19.755Z"
   },
   {
    "duration": 291,
    "start_time": "2022-09-10T18:28:20.251Z"
   },
   {
    "duration": 4,
    "start_time": "2022-09-10T18:28:20.544Z"
   },
   {
    "duration": 5,
    "start_time": "2022-09-10T18:28:20.590Z"
   },
   {
    "duration": 675,
    "start_time": "2022-09-10T18:28:20.753Z"
   },
   {
    "duration": 21,
    "start_time": "2022-09-10T18:28:21.430Z"
   },
   {
    "duration": 9,
    "start_time": "2022-09-10T18:28:21.494Z"
   },
   {
    "duration": 6,
    "start_time": "2022-09-10T18:28:21.698Z"
   },
   {
    "duration": 155,
    "start_time": "2022-09-10T18:28:21.899Z"
   },
   {
    "duration": 6,
    "start_time": "2022-09-10T18:28:22.471Z"
   },
   {
    "duration": 11,
    "start_time": "2022-09-10T18:28:22.693Z"
   },
   {
    "duration": 2712,
    "start_time": "2022-09-10T18:28:22.895Z"
   },
   {
    "duration": 310,
    "start_time": "2022-09-10T18:28:25.609Z"
   },
   {
    "duration": 13,
    "start_time": "2022-09-10T18:28:25.920Z"
   },
   {
    "duration": 10,
    "start_time": "2022-09-10T18:28:25.936Z"
   },
   {
    "duration": 8,
    "start_time": "2022-09-10T18:28:25.948Z"
   },
   {
    "duration": 8,
    "start_time": "2022-09-10T18:28:25.958Z"
   },
   {
    "duration": 11,
    "start_time": "2022-09-10T18:28:25.968Z"
   },
   {
    "duration": 11,
    "start_time": "2022-09-10T18:28:52.660Z"
   },
   {
    "duration": 4,
    "start_time": "2022-09-10T18:28:53.559Z"
   },
   {
    "duration": 2433,
    "start_time": "2022-09-10T18:28:54.248Z"
   },
   {
    "duration": 142,
    "start_time": "2022-09-10T18:28:59.086Z"
   },
   {
    "duration": 16,
    "start_time": "2022-09-10T18:29:05.192Z"
   },
   {
    "duration": 14,
    "start_time": "2022-09-10T18:29:16.534Z"
   },
   {
    "duration": 11,
    "start_time": "2022-09-10T18:29:46.200Z"
   },
   {
    "duration": 1625,
    "start_time": "2022-09-10T18:30:19.358Z"
   },
   {
    "duration": 7,
    "start_time": "2022-09-10T18:30:27.651Z"
   },
   {
    "duration": 208,
    "start_time": "2022-09-10T18:30:33.846Z"
   },
   {
    "duration": 4,
    "start_time": "2022-09-10T18:34:11.515Z"
   },
   {
    "duration": 5,
    "start_time": "2022-09-10T18:39:23.946Z"
   },
   {
    "duration": 17,
    "start_time": "2022-09-10T18:39:26.006Z"
   },
   {
    "duration": 8,
    "start_time": "2022-09-10T18:39:51.172Z"
   },
   {
    "duration": 24,
    "start_time": "2022-09-10T18:39:53.355Z"
   },
   {
    "duration": 21,
    "start_time": "2022-09-10T18:40:57.367Z"
   },
   {
    "duration": 7,
    "start_time": "2022-09-10T18:41:07.962Z"
   },
   {
    "duration": 25,
    "start_time": "2022-09-10T18:41:09.351Z"
   },
   {
    "duration": 4,
    "start_time": "2022-09-10T18:42:50.541Z"
   },
   {
    "duration": 5,
    "start_time": "2022-09-10T18:43:41.292Z"
   },
   {
    "duration": 19,
    "start_time": "2022-09-10T18:43:43.007Z"
   },
   {
    "duration": 5,
    "start_time": "2022-09-10T18:51:05.459Z"
   },
   {
    "duration": 17,
    "start_time": "2022-09-10T18:51:06.239Z"
   },
   {
    "duration": 5,
    "start_time": "2022-09-10T18:51:57.743Z"
   },
   {
    "duration": 22,
    "start_time": "2022-09-10T18:51:58.099Z"
   },
   {
    "duration": 5,
    "start_time": "2022-09-10T18:52:23.859Z"
   },
   {
    "duration": 15,
    "start_time": "2022-09-10T18:52:24.518Z"
   },
   {
    "duration": 32,
    "start_time": "2022-09-10T18:52:37.163Z"
   },
   {
    "duration": 8,
    "start_time": "2022-09-10T18:53:17.997Z"
   },
   {
    "duration": 10,
    "start_time": "2022-09-10T18:53:18.748Z"
   },
   {
    "duration": 9,
    "start_time": "2022-09-10T18:53:32.995Z"
   },
   {
    "duration": 15,
    "start_time": "2022-09-10T18:53:33.444Z"
   },
   {
    "duration": 22155,
    "start_time": "2022-09-12T16:32:59.408Z"
   },
   {
    "duration": 2177,
    "start_time": "2022-09-12T16:33:30.102Z"
   },
   {
    "duration": 2166,
    "start_time": "2022-09-12T16:33:43.549Z"
   },
   {
    "duration": 92,
    "start_time": "2022-09-12T16:33:51.493Z"
   },
   {
    "duration": 2101,
    "start_time": "2022-09-13T15:12:19.216Z"
   },
   {
    "duration": 70,
    "start_time": "2022-09-13T15:12:24.059Z"
   },
   {
    "duration": 12,
    "start_time": "2022-09-13T15:12:24.412Z"
   },
   {
    "duration": 5,
    "start_time": "2022-09-13T15:12:24.859Z"
   },
   {
    "duration": 423,
    "start_time": "2022-09-13T15:12:25.074Z"
   },
   {
    "duration": 301,
    "start_time": "2022-09-13T15:12:25.500Z"
   },
   {
    "duration": 5,
    "start_time": "2022-09-13T15:12:25.817Z"
   },
   {
    "duration": 3,
    "start_time": "2022-09-13T15:12:26.059Z"
   },
   {
    "duration": 590,
    "start_time": "2022-09-13T15:12:26.246Z"
   },
   {
    "duration": 23,
    "start_time": "2022-09-13T15:12:26.838Z"
   },
   {
    "duration": 6,
    "start_time": "2022-09-13T15:12:26.978Z"
   },
   {
    "duration": 6,
    "start_time": "2022-09-13T15:12:27.185Z"
   },
   {
    "duration": 141,
    "start_time": "2022-09-13T15:12:27.390Z"
   },
   {
    "duration": 5,
    "start_time": "2022-09-13T15:12:28.164Z"
   },
   {
    "duration": 11,
    "start_time": "2022-09-13T15:12:28.542Z"
   },
   {
    "duration": 4,
    "start_time": "2022-09-13T15:12:28.861Z"
   },
   {
    "duration": 9,
    "start_time": "2022-09-13T15:12:29.708Z"
   },
   {
    "duration": 2034,
    "start_time": "2022-09-13T15:12:30.065Z"
   },
   {
    "duration": 12,
    "start_time": "2022-09-13T15:12:32.101Z"
   },
   {
    "duration": 15,
    "start_time": "2022-09-13T15:12:32.114Z"
   },
   {
    "duration": 6,
    "start_time": "2022-09-13T15:12:32.131Z"
   },
   {
    "duration": 3,
    "start_time": "2022-09-13T15:12:51.670Z"
   },
   {
    "duration": 6,
    "start_time": "2022-09-13T15:12:52.652Z"
   },
   {
    "duration": 4,
    "start_time": "2022-09-13T15:12:53.767Z"
   },
   {
    "duration": 1422,
    "start_time": "2022-09-13T15:12:59.511Z"
   },
   {
    "duration": 7,
    "start_time": "2022-09-13T15:13:10.572Z"
   },
   {
    "duration": 2389,
    "start_time": "2022-09-13T15:13:12.882Z"
   },
   {
    "duration": 5,
    "start_time": "2022-09-13T15:17:55.471Z"
   },
   {
    "duration": 147,
    "start_time": "2022-09-13T15:18:12.401Z"
   },
   {
    "duration": 24582,
    "start_time": "2022-09-14T21:09:47.509Z"
   },
   {
    "duration": 5044,
    "start_time": "2022-09-14T21:10:12.093Z"
   },
   {
    "duration": 2316,
    "start_time": "2022-09-14T21:10:30.202Z"
   },
   {
    "duration": 78,
    "start_time": "2022-09-14T21:11:30.541Z"
   },
   {
    "duration": 12,
    "start_time": "2022-09-14T21:11:34.400Z"
   },
   {
    "duration": 5,
    "start_time": "2022-09-14T21:11:38.309Z"
   },
   {
    "duration": 382,
    "start_time": "2022-09-14T21:11:39.011Z"
   },
   {
    "duration": 204,
    "start_time": "2022-09-14T21:11:39.441Z"
   },
   {
    "duration": 5,
    "start_time": "2022-09-14T21:11:40.121Z"
   },
   {
    "duration": 3,
    "start_time": "2022-09-14T21:11:40.404Z"
   },
   {
    "duration": 587,
    "start_time": "2022-09-14T21:11:40.635Z"
   },
   {
    "duration": 20,
    "start_time": "2022-09-14T21:11:42.957Z"
   },
   {
    "duration": 7,
    "start_time": "2022-09-14T21:11:43.365Z"
   },
   {
    "duration": 6,
    "start_time": "2022-09-14T21:11:43.897Z"
   },
   {
    "duration": 126,
    "start_time": "2022-09-14T21:11:44.682Z"
   },
   {
    "duration": 5,
    "start_time": "2022-09-14T21:11:48.955Z"
   },
   {
    "duration": 10,
    "start_time": "2022-09-14T21:11:49.665Z"
   },
   {
    "duration": 4,
    "start_time": "2022-09-14T21:11:53.921Z"
   },
   {
    "duration": 10,
    "start_time": "2022-09-14T21:11:54.449Z"
   },
   {
    "duration": 5,
    "start_time": "2022-09-14T21:11:55.005Z"
   },
   {
    "duration": 5,
    "start_time": "2022-09-14T21:11:55.696Z"
   },
   {
    "duration": 4,
    "start_time": "2022-09-14T21:11:58.917Z"
   },
   {
    "duration": 3,
    "start_time": "2022-09-14T21:11:59.270Z"
   },
   {
    "duration": 2,
    "start_time": "2022-09-14T21:12:33.418Z"
   },
   {
    "duration": 7,
    "start_time": "2022-09-14T21:13:05.198Z"
   },
   {
    "duration": 4,
    "start_time": "2022-09-14T21:13:14.458Z"
   },
   {
    "duration": 5,
    "start_time": "2022-09-14T21:20:31.305Z"
   },
   {
    "duration": 138,
    "start_time": "2022-09-14T21:20:33.074Z"
   },
   {
    "duration": 28,
    "start_time": "2022-09-14T21:20:36.596Z"
   },
   {
    "duration": 5,
    "start_time": "2022-09-14T21:21:06.849Z"
   },
   {
    "duration": 11,
    "start_time": "2022-09-14T21:21:07.795Z"
   },
   {
    "duration": 1066,
    "start_time": "2022-09-14T21:21:09.042Z"
   },
   {
    "duration": 1024,
    "start_time": "2022-09-14T21:21:43.281Z"
   },
   {
    "duration": 5,
    "start_time": "2022-09-14T21:24:49.429Z"
   },
   {
    "duration": 3,
    "start_time": "2022-09-14T21:24:50.140Z"
   },
   {
    "duration": 5,
    "start_time": "2022-09-14T21:24:55.498Z"
   },
   {
    "duration": 1256,
    "start_time": "2022-09-14T21:25:22.340Z"
   },
   {
    "duration": 16,
    "start_time": "2022-09-14T21:37:14.260Z"
   },
   {
    "duration": 1528,
    "start_time": "2022-09-14T21:37:21.169Z"
   },
   {
    "duration": 1329,
    "start_time": "2022-09-14T21:38:36.179Z"
   },
   {
    "duration": 3,
    "start_time": "2022-09-14T21:39:54.771Z"
   },
   {
    "duration": 25,
    "start_time": "2022-09-14T21:40:27.697Z"
   },
   {
    "duration": 1356,
    "start_time": "2022-09-14T21:40:44.440Z"
   },
   {
    "duration": 1320,
    "start_time": "2022-09-14T21:42:10.980Z"
   },
   {
    "duration": 15,
    "start_time": "2022-09-14T21:43:16.223Z"
   },
   {
    "duration": 1562,
    "start_time": "2022-09-14T21:43:27.228Z"
   },
   {
    "duration": 1299,
    "start_time": "2022-09-14T21:44:36.707Z"
   },
   {
    "duration": 7,
    "start_time": "2022-09-14T21:46:06.412Z"
   },
   {
    "duration": 190,
    "start_time": "2022-09-14T21:46:07.203Z"
   },
   {
    "duration": 10,
    "start_time": "2022-09-14T21:46:38.291Z"
   },
   {
    "duration": 1449,
    "start_time": "2022-09-14T21:46:41.359Z"
   },
   {
    "duration": 7,
    "start_time": "2022-09-14T21:46:57.595Z"
   },
   {
    "duration": 183,
    "start_time": "2022-09-14T21:46:58.419Z"
   },
   {
    "duration": 184,
    "start_time": "2022-09-14T21:49:15.527Z"
   },
   {
    "duration": 205,
    "start_time": "2022-09-14T21:51:34.535Z"
   },
   {
    "duration": 198,
    "start_time": "2022-09-14T21:51:46.891Z"
   },
   {
    "duration": 216,
    "start_time": "2022-09-14T21:51:53.139Z"
   },
   {
    "duration": 23867,
    "start_time": "2022-09-16T10:16:35.649Z"
   },
   {
    "duration": 2791,
    "start_time": "2022-09-16T10:16:59.518Z"
   },
   {
    "duration": 0,
    "start_time": "2022-09-16T10:17:02.311Z"
   },
   {
    "duration": 0,
    "start_time": "2022-09-16T10:17:02.312Z"
   },
   {
    "duration": 0,
    "start_time": "2022-09-16T10:17:02.313Z"
   },
   {
    "duration": 0,
    "start_time": "2022-09-16T10:17:02.314Z"
   },
   {
    "duration": 0,
    "start_time": "2022-09-16T10:17:02.315Z"
   },
   {
    "duration": 0,
    "start_time": "2022-09-16T10:17:02.316Z"
   },
   {
    "duration": 0,
    "start_time": "2022-09-16T10:17:02.317Z"
   },
   {
    "duration": 0,
    "start_time": "2022-09-16T10:17:02.318Z"
   },
   {
    "duration": 0,
    "start_time": "2022-09-16T10:17:02.319Z"
   },
   {
    "duration": 0,
    "start_time": "2022-09-16T10:17:02.320Z"
   },
   {
    "duration": 0,
    "start_time": "2022-09-16T10:17:02.320Z"
   },
   {
    "duration": 0,
    "start_time": "2022-09-16T10:17:02.321Z"
   },
   {
    "duration": 0,
    "start_time": "2022-09-16T10:17:02.322Z"
   },
   {
    "duration": 0,
    "start_time": "2022-09-16T10:17:02.323Z"
   },
   {
    "duration": 0,
    "start_time": "2022-09-16T10:17:02.324Z"
   },
   {
    "duration": 0,
    "start_time": "2022-09-16T10:17:02.325Z"
   },
   {
    "duration": 0,
    "start_time": "2022-09-16T10:17:02.326Z"
   },
   {
    "duration": 0,
    "start_time": "2022-09-16T10:17:02.327Z"
   },
   {
    "duration": 0,
    "start_time": "2022-09-16T10:17:02.327Z"
   },
   {
    "duration": 0,
    "start_time": "2022-09-16T10:17:02.328Z"
   },
   {
    "duration": 0,
    "start_time": "2022-09-16T10:17:02.329Z"
   },
   {
    "duration": 0,
    "start_time": "2022-09-16T10:17:02.330Z"
   },
   {
    "duration": 0,
    "start_time": "2022-09-16T10:17:02.331Z"
   },
   {
    "duration": 10,
    "start_time": "2022-09-16T10:18:02.412Z"
   },
   {
    "duration": 1748,
    "start_time": "2022-09-16T10:18:11.501Z"
   },
   {
    "duration": 2006,
    "start_time": "2022-09-16T10:18:13.251Z"
   },
   {
    "duration": 85,
    "start_time": "2022-09-16T10:18:17.497Z"
   },
   {
    "duration": 12,
    "start_time": "2022-09-16T10:18:18.152Z"
   },
   {
    "duration": 4,
    "start_time": "2022-09-16T10:18:18.457Z"
   },
   {
    "duration": 391,
    "start_time": "2022-09-16T10:18:18.612Z"
   },
   {
    "duration": 251,
    "start_time": "2022-09-16T10:18:19.005Z"
   },
   {
    "duration": 5,
    "start_time": "2022-09-16T10:18:19.258Z"
   },
   {
    "duration": 4,
    "start_time": "2022-09-16T10:18:19.439Z"
   },
   {
    "duration": 511,
    "start_time": "2022-09-16T10:18:19.750Z"
   },
   {
    "duration": 19,
    "start_time": "2022-09-16T10:18:20.263Z"
   },
   {
    "duration": 6,
    "start_time": "2022-09-16T10:18:20.441Z"
   },
   {
    "duration": 6,
    "start_time": "2022-09-16T10:18:20.593Z"
   },
   {
    "duration": 124,
    "start_time": "2022-09-16T10:18:20.759Z"
   },
   {
    "duration": 5,
    "start_time": "2022-09-16T10:18:21.260Z"
   },
   {
    "duration": 14,
    "start_time": "2022-09-16T10:18:21.423Z"
   },
   {
    "duration": 4,
    "start_time": "2022-09-16T10:18:21.773Z"
   },
   {
    "duration": 8,
    "start_time": "2022-09-16T10:18:22.555Z"
   },
   {
    "duration": 4,
    "start_time": "2022-09-16T10:18:22.730Z"
   },
   {
    "duration": 4,
    "start_time": "2022-09-16T10:18:23.296Z"
   },
   {
    "duration": 3,
    "start_time": "2022-09-16T10:18:23.444Z"
   },
   {
    "duration": 3,
    "start_time": "2022-09-16T10:18:24.180Z"
   },
   {
    "duration": 3,
    "start_time": "2022-09-16T10:18:25.266Z"
   },
   {
    "duration": 5,
    "start_time": "2022-09-16T10:18:29.442Z"
   },
   {
    "duration": 4,
    "start_time": "2022-09-16T10:18:29.577Z"
   },
   {
    "duration": 132,
    "start_time": "2022-09-16T10:22:06.412Z"
   },
   {
    "duration": 5,
    "start_time": "2022-09-16T10:22:32.593Z"
   },
   {
    "duration": 3,
    "start_time": "2022-09-16T10:22:33.063Z"
   },
   {
    "duration": 2,
    "start_time": "2022-09-16T10:22:33.743Z"
   },
   {
    "duration": 15,
    "start_time": "2022-09-16T10:22:34.212Z"
   },
   {
    "duration": 2534,
    "start_time": "2022-09-16T15:39:55.202Z"
   },
   {
    "duration": 30229,
    "start_time": "2022-09-16T15:40:00.987Z"
   },
   {
    "duration": 4138,
    "start_time": "2022-09-16T15:41:10.066Z"
   },
   {
    "duration": 85,
    "start_time": "2022-09-16T15:41:19.469Z"
   },
   {
    "duration": 13,
    "start_time": "2022-09-16T15:41:23.603Z"
   },
   {
    "duration": 7,
    "start_time": "2022-09-16T15:41:26.273Z"
   },
   {
    "duration": 531,
    "start_time": "2022-09-16T15:41:26.565Z"
   },
   {
    "duration": 324,
    "start_time": "2022-09-16T15:44:02.118Z"
   },
   {
    "duration": 6,
    "start_time": "2022-09-16T15:44:03.237Z"
   },
   {
    "duration": 4,
    "start_time": "2022-09-16T15:44:03.827Z"
   },
   {
    "duration": 665,
    "start_time": "2022-09-16T15:44:05.314Z"
   },
   {
    "duration": 475,
    "start_time": "2022-09-16T15:44:40.666Z"
   },
   {
    "duration": 21,
    "start_time": "2022-09-16T15:44:42.290Z"
   },
   {
    "duration": 6,
    "start_time": "2022-09-16T15:44:42.891Z"
   },
   {
    "duration": 6,
    "start_time": "2022-09-16T15:44:45.584Z"
   },
   {
    "duration": 150,
    "start_time": "2022-09-16T15:44:46.021Z"
   },
   {
    "duration": 4,
    "start_time": "2022-09-16T15:45:45.283Z"
   },
   {
    "duration": 10,
    "start_time": "2022-09-16T15:45:46.502Z"
   },
   {
    "duration": 4,
    "start_time": "2022-09-16T15:45:47.145Z"
   },
   {
    "duration": 5,
    "start_time": "2022-09-16T15:45:52.039Z"
   },
   {
    "duration": 3,
    "start_time": "2022-09-16T15:45:53.234Z"
   },
   {
    "duration": 4,
    "start_time": "2022-09-16T15:45:53.859Z"
   },
   {
    "duration": 5,
    "start_time": "2022-09-16T15:45:54.552Z"
   },
   {
    "duration": 34,
    "start_time": "2022-09-16T15:46:05.996Z"
   },
   {
    "duration": 12,
    "start_time": "2022-09-16T15:46:06.805Z"
   },
   {
    "duration": 6,
    "start_time": "2022-09-16T15:46:07.358Z"
   },
   {
    "duration": 431,
    "start_time": "2022-09-16T15:46:07.602Z"
   },
   {
    "duration": 273,
    "start_time": "2022-09-16T15:46:08.035Z"
   },
   {
    "duration": 5,
    "start_time": "2022-09-16T15:46:08.845Z"
   },
   {
    "duration": 4,
    "start_time": "2022-09-16T15:46:09.394Z"
   },
   {
    "duration": 642,
    "start_time": "2022-09-16T15:46:10.329Z"
   },
   {
    "duration": 24,
    "start_time": "2022-09-16T15:46:12.223Z"
   },
   {
    "duration": 7,
    "start_time": "2022-09-16T15:46:12.646Z"
   },
   {
    "duration": 6,
    "start_time": "2022-09-16T15:46:13.232Z"
   },
   {
    "duration": 159,
    "start_time": "2022-09-16T15:46:13.771Z"
   },
   {
    "duration": 3,
    "start_time": "2022-09-16T15:46:17.458Z"
   },
   {
    "duration": 9,
    "start_time": "2022-09-16T15:46:20.601Z"
   },
   {
    "duration": 5,
    "start_time": "2022-09-16T15:46:21.550Z"
   },
   {
    "duration": 7,
    "start_time": "2022-09-16T15:46:23.359Z"
   },
   {
    "duration": 3,
    "start_time": "2022-09-16T15:46:23.920Z"
   },
   {
    "duration": 171,
    "start_time": "2022-09-16T15:51:04.621Z"
   },
   {
    "duration": 16,
    "start_time": "2022-09-16T15:51:48.855Z"
   },
   {
    "duration": 15,
    "start_time": "2022-09-16T15:52:43.263Z"
   },
   {
    "duration": 16,
    "start_time": "2022-09-16T15:52:54.414Z"
   },
   {
    "duration": 33,
    "start_time": "2022-09-16T15:53:58.337Z"
   },
   {
    "duration": 15,
    "start_time": "2022-09-16T15:53:59.844Z"
   },
   {
    "duration": 4,
    "start_time": "2022-09-16T15:54:00.276Z"
   },
   {
    "duration": 5,
    "start_time": "2022-09-16T15:54:01.195Z"
   },
   {
    "duration": 410,
    "start_time": "2022-09-16T15:54:01.810Z"
   },
   {
    "duration": 289,
    "start_time": "2022-09-16T15:54:02.223Z"
   },
   {
    "duration": 5,
    "start_time": "2022-09-16T15:54:03.039Z"
   },
   {
    "duration": 4,
    "start_time": "2022-09-16T15:54:03.243Z"
   },
   {
    "duration": 745,
    "start_time": "2022-09-16T15:54:03.663Z"
   },
   {
    "duration": 17,
    "start_time": "2022-09-16T15:54:04.411Z"
   },
   {
    "duration": 8,
    "start_time": "2022-09-16T15:54:04.564Z"
   },
   {
    "duration": 6,
    "start_time": "2022-09-16T15:54:04.831Z"
   },
   {
    "duration": 146,
    "start_time": "2022-09-16T15:54:05.212Z"
   },
   {
    "duration": 10,
    "start_time": "2022-09-16T15:54:06.797Z"
   },
   {
    "duration": 4,
    "start_time": "2022-09-16T15:54:07.299Z"
   },
   {
    "duration": 6,
    "start_time": "2022-09-16T15:54:07.916Z"
   },
   {
    "duration": 4,
    "start_time": "2022-09-16T15:54:09.743Z"
   },
   {
    "duration": 3,
    "start_time": "2022-09-16T15:54:10.112Z"
   },
   {
    "duration": 10,
    "start_time": "2022-09-16T15:54:13.733Z"
   },
   {
    "duration": 14,
    "start_time": "2022-09-16T15:54:23.195Z"
   },
   {
    "duration": 17,
    "start_time": "2022-09-16T15:55:12.819Z"
   },
   {
    "duration": 4,
    "start_time": "2022-09-16T15:58:10.700Z"
   },
   {
    "duration": 28,
    "start_time": "2022-09-16T15:58:29.549Z"
   },
   {
    "duration": 12,
    "start_time": "2022-09-16T15:58:57.904Z"
   },
   {
    "duration": 15,
    "start_time": "2022-09-16T15:59:35.920Z"
   },
   {
    "duration": 16,
    "start_time": "2022-09-16T15:59:59.612Z"
   },
   {
    "duration": 15,
    "start_time": "2022-09-16T16:02:50.402Z"
   },
   {
    "duration": 28,
    "start_time": "2022-09-16T16:03:35.676Z"
   },
   {
    "duration": 9,
    "start_time": "2022-09-16T16:04:43.263Z"
   },
   {
    "duration": 9,
    "start_time": "2022-09-16T16:04:50.109Z"
   },
   {
    "duration": 9,
    "start_time": "2022-09-16T16:05:09.094Z"
   },
   {
    "duration": 34,
    "start_time": "2022-09-16T16:06:08.814Z"
   },
   {
    "duration": 11,
    "start_time": "2022-09-16T16:06:09.593Z"
   },
   {
    "duration": 4,
    "start_time": "2022-09-16T16:06:09.795Z"
   },
   {
    "duration": 5,
    "start_time": "2022-09-16T16:06:10.323Z"
   },
   {
    "duration": 457,
    "start_time": "2022-09-16T16:06:10.579Z"
   },
   {
    "duration": 294,
    "start_time": "2022-09-16T16:06:11.038Z"
   },
   {
    "duration": 6,
    "start_time": "2022-09-16T16:06:11.561Z"
   },
   {
    "duration": 4,
    "start_time": "2022-09-16T16:06:11.928Z"
   },
   {
    "duration": 479,
    "start_time": "2022-09-16T16:06:12.528Z"
   },
   {
    "duration": 18,
    "start_time": "2022-09-16T16:06:13.365Z"
   },
   {
    "duration": 6,
    "start_time": "2022-09-16T16:06:13.565Z"
   },
   {
    "duration": 7,
    "start_time": "2022-09-16T16:06:13.848Z"
   },
   {
    "duration": 126,
    "start_time": "2022-09-16T16:06:14.108Z"
   },
   {
    "duration": 9,
    "start_time": "2022-09-16T16:06:15.222Z"
   },
   {
    "duration": 4,
    "start_time": "2022-09-16T16:06:16.841Z"
   },
   {
    "duration": 5,
    "start_time": "2022-09-16T16:06:17.483Z"
   },
   {
    "duration": 3,
    "start_time": "2022-09-16T16:06:19.182Z"
   },
   {
    "duration": 3,
    "start_time": "2022-09-16T16:06:20.430Z"
   },
   {
    "duration": 14,
    "start_time": "2022-09-16T16:06:21.659Z"
   },
   {
    "duration": 12,
    "start_time": "2022-09-16T16:06:23.028Z"
   },
   {
    "duration": 10,
    "start_time": "2022-09-16T16:06:25.546Z"
   },
   {
    "duration": 10,
    "start_time": "2022-09-16T16:06:36.659Z"
   },
   {
    "duration": 3,
    "start_time": "2022-09-16T16:08:20.372Z"
   },
   {
    "duration": 50,
    "start_time": "2022-09-16T16:08:20.604Z"
   },
   {
    "duration": 25,
    "start_time": "2022-09-16T16:08:20.830Z"
   },
   {
    "duration": 143,
    "start_time": "2022-09-16T16:08:21.214Z"
   },
   {
    "duration": 14,
    "start_time": "2022-09-16T16:08:34.951Z"
   },
   {
    "duration": 4,
    "start_time": "2022-09-16T16:09:17.721Z"
   },
   {
    "duration": 1180,
    "start_time": "2022-09-16T16:09:29.373Z"
   },
   {
    "duration": 7,
    "start_time": "2022-09-16T16:09:51.875Z"
   },
   {
    "duration": 395,
    "start_time": "2022-09-16T16:10:18.245Z"
   },
   {
    "duration": 5,
    "start_time": "2022-09-16T16:10:37.550Z"
   },
   {
    "duration": 4,
    "start_time": "2022-09-16T16:10:38.157Z"
   },
   {
    "duration": 2,
    "start_time": "2022-09-16T16:10:38.739Z"
   },
   {
    "duration": 1437,
    "start_time": "2022-09-16T16:10:39.525Z"
   },
   {
    "duration": 1514,
    "start_time": "2022-09-16T16:10:47.743Z"
   },
   {
    "duration": 1288,
    "start_time": "2022-09-16T16:12:17.869Z"
   },
   {
    "duration": 17,
    "start_time": "2022-09-16T16:16:27.912Z"
   },
   {
    "duration": 4150,
    "start_time": "2022-09-16T16:17:09.467Z"
   },
   {
    "duration": 150,
    "start_time": "2022-09-16T16:17:23.107Z"
   },
   {
    "duration": 12,
    "start_time": "2022-09-16T16:19:15.512Z"
   },
   {
    "duration": 3,
    "start_time": "2022-09-16T16:19:52.146Z"
   },
   {
    "duration": 12,
    "start_time": "2022-09-16T16:20:04.388Z"
   },
   {
    "duration": 3,
    "start_time": "2022-09-16T16:20:33.815Z"
   },
   {
    "duration": 13,
    "start_time": "2022-09-16T16:20:37.990Z"
   },
   {
    "duration": 5,
    "start_time": "2022-09-16T16:22:10.095Z"
   },
   {
    "duration": 4,
    "start_time": "2022-09-16T16:22:11.713Z"
   },
   {
    "duration": 13,
    "start_time": "2022-09-16T16:22:13.066Z"
   },
   {
    "duration": 13,
    "start_time": "2022-09-16T16:22:19.202Z"
   },
   {
    "duration": 14,
    "start_time": "2022-09-16T16:23:12.463Z"
   },
   {
    "duration": 15,
    "start_time": "2022-09-16T16:25:11.550Z"
   },
   {
    "duration": 4,
    "start_time": "2022-09-16T16:25:21.822Z"
   },
   {
    "duration": 12,
    "start_time": "2022-09-16T16:25:27.198Z"
   },
   {
    "duration": 5,
    "start_time": "2022-09-16T16:26:11.258Z"
   },
   {
    "duration": 10,
    "start_time": "2022-09-16T16:26:21.227Z"
   },
   {
    "duration": 95,
    "start_time": "2022-09-16T16:26:41.009Z"
   },
   {
    "duration": 8,
    "start_time": "2022-09-16T16:28:05.769Z"
   },
   {
    "duration": 16,
    "start_time": "2022-09-16T16:28:06.464Z"
   },
   {
    "duration": 4,
    "start_time": "2022-09-16T16:28:06.861Z"
   },
   {
    "duration": 3,
    "start_time": "2022-09-16T16:28:51.411Z"
   },
   {
    "duration": 4,
    "start_time": "2022-09-16T16:28:58.495Z"
   },
   {
    "duration": 3,
    "start_time": "2022-09-16T16:29:03.320Z"
   },
   {
    "duration": 5,
    "start_time": "2022-09-16T16:29:03.895Z"
   },
   {
    "duration": 5,
    "start_time": "2022-09-16T16:29:04.909Z"
   },
   {
    "duration": 94,
    "start_time": "2022-09-16T16:29:05.918Z"
   },
   {
    "duration": 7,
    "start_time": "2022-09-16T16:37:26.669Z"
   },
   {
    "duration": 11,
    "start_time": "2022-09-16T16:37:27.137Z"
   },
   {
    "duration": 3,
    "start_time": "2022-09-16T16:38:45.820Z"
   },
   {
    "duration": 12,
    "start_time": "2022-09-16T16:38:46.295Z"
   },
   {
    "duration": 21,
    "start_time": "2022-09-16T16:38:59.840Z"
   },
   {
    "duration": 3,
    "start_time": "2022-09-16T16:39:22.703Z"
   },
   {
    "duration": 4,
    "start_time": "2022-09-16T16:39:23.141Z"
   },
   {
    "duration": 4,
    "start_time": "2022-09-16T16:39:30.109Z"
   },
   {
    "duration": 4,
    "start_time": "2022-09-16T16:39:30.791Z"
   },
   {
    "duration": 4,
    "start_time": "2022-09-16T16:39:31.549Z"
   },
   {
    "duration": 74,
    "start_time": "2022-09-16T16:39:32.459Z"
   },
   {
    "duration": 4,
    "start_time": "2022-09-16T16:52:49.073Z"
   },
   {
    "duration": 70,
    "start_time": "2022-09-16T16:52:49.550Z"
   },
   {
    "duration": 11,
    "start_time": "2022-09-16T16:57:39.206Z"
   },
   {
    "duration": 12,
    "start_time": "2022-09-16T16:59:24.591Z"
   },
   {
    "duration": 4,
    "start_time": "2022-09-16T17:01:50.593Z"
   },
   {
    "duration": 69,
    "start_time": "2022-09-16T17:01:52.493Z"
   },
   {
    "duration": 3,
    "start_time": "2022-09-16T17:03:31.960Z"
   },
   {
    "duration": 17,
    "start_time": "2022-09-16T17:03:32.400Z"
   },
   {
    "duration": 2,
    "start_time": "2022-09-16T17:03:50.058Z"
   },
   {
    "duration": 16,
    "start_time": "2022-09-16T17:03:52.839Z"
   },
   {
    "duration": 3,
    "start_time": "2022-09-16T17:04:08.293Z"
   },
   {
    "duration": 18,
    "start_time": "2022-09-16T17:04:08.890Z"
   },
   {
    "duration": 6,
    "start_time": "2022-09-16T17:05:13.743Z"
   },
   {
    "duration": 3,
    "start_time": "2022-09-16T17:05:14.052Z"
   },
   {
    "duration": 16,
    "start_time": "2022-09-16T17:05:14.315Z"
   },
   {
    "duration": 3,
    "start_time": "2022-09-16T17:05:18.652Z"
   },
   {
    "duration": 4,
    "start_time": "2022-09-16T17:05:18.945Z"
   },
   {
    "duration": 3,
    "start_time": "2022-09-16T17:05:20.683Z"
   },
   {
    "duration": 3,
    "start_time": "2022-09-16T17:05:21.219Z"
   },
   {
    "duration": 5,
    "start_time": "2022-09-16T17:05:21.840Z"
   },
   {
    "duration": 71,
    "start_time": "2022-09-16T17:05:22.353Z"
   },
   {
    "duration": 7,
    "start_time": "2022-09-16T17:05:56.881Z"
   },
   {
    "duration": 3,
    "start_time": "2022-09-16T17:06:07.085Z"
   },
   {
    "duration": 16,
    "start_time": "2022-09-16T17:06:07.794Z"
   },
   {
    "duration": 3,
    "start_time": "2022-09-16T17:06:57.313Z"
   },
   {
    "duration": 3,
    "start_time": "2022-09-16T17:07:00.937Z"
   },
   {
    "duration": 4,
    "start_time": "2022-09-16T17:07:01.326Z"
   },
   {
    "duration": 4,
    "start_time": "2022-09-16T17:07:01.952Z"
   },
   {
    "duration": 74,
    "start_time": "2022-09-16T17:07:02.774Z"
   },
   {
    "duration": 17,
    "start_time": "2022-09-16T17:08:48.064Z"
   },
   {
    "duration": 77,
    "start_time": "2022-09-16T17:09:16.030Z"
   },
   {
    "duration": 5,
    "start_time": "2022-09-16T17:12:52.906Z"
   },
   {
    "duration": 3,
    "start_time": "2022-09-16T17:12:53.489Z"
   },
   {
    "duration": 3,
    "start_time": "2022-09-16T17:13:22.557Z"
   },
   {
    "duration": 3,
    "start_time": "2022-09-16T17:13:23.047Z"
   },
   {
    "duration": 3,
    "start_time": "2022-09-16T17:13:24.278Z"
   },
   {
    "duration": 3,
    "start_time": "2022-09-16T17:13:24.803Z"
   },
   {
    "duration": 4,
    "start_time": "2022-09-16T17:13:25.484Z"
   },
   {
    "duration": 85,
    "start_time": "2022-09-16T17:13:26.229Z"
   },
   {
    "duration": 6,
    "start_time": "2022-09-16T17:14:57.721Z"
   },
   {
    "duration": 2,
    "start_time": "2022-09-16T17:14:58.701Z"
   },
   {
    "duration": 11,
    "start_time": "2022-09-16T17:15:07.326Z"
   },
   {
    "duration": 3,
    "start_time": "2022-09-16T17:15:07.614Z"
   },
   {
    "duration": 4,
    "start_time": "2022-09-16T17:15:12.418Z"
   },
   {
    "duration": 4,
    "start_time": "2022-09-16T17:15:12.787Z"
   },
   {
    "duration": 4,
    "start_time": "2022-09-16T17:15:13.529Z"
   },
   {
    "duration": 3,
    "start_time": "2022-09-16T17:15:14.055Z"
   },
   {
    "duration": 4,
    "start_time": "2022-09-16T17:15:14.779Z"
   },
   {
    "duration": 87,
    "start_time": "2022-09-16T17:15:16.664Z"
   },
   {
    "duration": 384,
    "start_time": "2022-09-16T17:15:33.487Z"
   },
   {
    "duration": 6,
    "start_time": "2022-09-16T17:16:35.506Z"
   },
   {
    "duration": 354,
    "start_time": "2022-09-16T17:16:50.942Z"
   },
   {
    "duration": 3,
    "start_time": "2022-09-16T17:17:24.331Z"
   },
   {
    "duration": 4,
    "start_time": "2022-09-16T17:17:24.848Z"
   },
   {
    "duration": 15,
    "start_time": "2022-09-16T17:17:25.475Z"
   },
   {
    "duration": 322,
    "start_time": "2022-09-16T17:17:26.218Z"
   },
   {
    "duration": 3,
    "start_time": "2022-09-16T17:18:11.029Z"
   },
   {
    "duration": 5,
    "start_time": "2022-09-16T17:18:11.496Z"
   },
   {
    "duration": 64,
    "start_time": "2022-09-16T17:18:12.464Z"
   },
   {
    "duration": 3,
    "start_time": "2022-09-16T17:18:46.924Z"
   },
   {
    "duration": 4,
    "start_time": "2022-09-16T17:18:47.566Z"
   },
   {
    "duration": 357,
    "start_time": "2022-09-16T17:18:48.044Z"
   },
   {
    "duration": 6,
    "start_time": "2022-09-16T17:23:05.104Z"
   },
   {
    "duration": 3,
    "start_time": "2022-09-16T17:23:05.670Z"
   },
   {
    "duration": 10,
    "start_time": "2022-09-16T17:23:21.755Z"
   },
   {
    "duration": 5,
    "start_time": "2022-09-16T17:23:26.198Z"
   },
   {
    "duration": 3,
    "start_time": "2022-09-16T17:23:27.111Z"
   },
   {
    "duration": 3,
    "start_time": "2022-09-16T17:23:27.832Z"
   },
   {
    "duration": 3,
    "start_time": "2022-09-16T17:23:36.849Z"
   },
   {
    "duration": 3,
    "start_time": "2022-09-16T17:23:37.307Z"
   },
   {
    "duration": 5,
    "start_time": "2022-09-16T17:23:38.246Z"
   },
   {
    "duration": 68,
    "start_time": "2022-09-16T17:23:39.046Z"
   },
   {
    "duration": 6,
    "start_time": "2022-09-16T17:24:06.682Z"
   },
   {
    "duration": 3,
    "start_time": "2022-09-16T17:24:07.287Z"
   },
   {
    "duration": 11,
    "start_time": "2022-09-16T17:24:07.760Z"
   },
   {
    "duration": 11,
    "start_time": "2022-09-16T17:24:14.140Z"
   },
   {
    "duration": 3,
    "start_time": "2022-09-16T17:24:40.856Z"
   },
   {
    "duration": 10,
    "start_time": "2022-09-16T17:24:41.260Z"
   },
   {
    "duration": 5,
    "start_time": "2022-09-16T17:24:58.970Z"
   },
   {
    "duration": 3,
    "start_time": "2022-09-16T17:24:59.644Z"
   },
   {
    "duration": 3,
    "start_time": "2022-09-16T17:25:00.312Z"
   },
   {
    "duration": 3,
    "start_time": "2022-09-16T17:25:02.716Z"
   },
   {
    "duration": 3,
    "start_time": "2022-09-16T17:25:03.223Z"
   },
   {
    "duration": 5,
    "start_time": "2022-09-16T17:25:03.882Z"
   },
   {
    "duration": 127,
    "start_time": "2022-09-16T17:25:05.029Z"
   },
   {
    "duration": 5,
    "start_time": "2022-09-16T17:25:27.291Z"
   },
   {
    "duration": 3,
    "start_time": "2022-09-16T17:25:27.472Z"
   },
   {
    "duration": 3,
    "start_time": "2022-09-16T17:25:27.694Z"
   },
   {
    "duration": 3,
    "start_time": "2022-09-16T17:25:28.194Z"
   },
   {
    "duration": 3,
    "start_time": "2022-09-16T17:25:28.513Z"
   },
   {
    "duration": 4,
    "start_time": "2022-09-16T17:25:28.724Z"
   },
   {
    "duration": 118,
    "start_time": "2022-09-16T17:25:29.799Z"
   },
   {
    "duration": 5,
    "start_time": "2022-09-16T17:25:55.442Z"
   },
   {
    "duration": 3,
    "start_time": "2022-09-16T17:25:55.691Z"
   },
   {
    "duration": 3,
    "start_time": "2022-09-16T17:25:55.923Z"
   },
   {
    "duration": 3,
    "start_time": "2022-09-16T17:25:56.164Z"
   },
   {
    "duration": 3,
    "start_time": "2022-09-16T17:25:56.629Z"
   },
   {
    "duration": 4,
    "start_time": "2022-09-16T17:25:56.808Z"
   },
   {
    "duration": 53893,
    "start_time": "2022-09-16T17:25:57.002Z"
   },
   {
    "duration": 4,
    "start_time": "2022-09-16T17:28:54.666Z"
   },
   {
    "duration": 3,
    "start_time": "2022-09-16T17:29:28.784Z"
   },
   {
    "duration": 4,
    "start_time": "2022-09-16T17:29:29.567Z"
   },
   {
    "duration": 141582,
    "start_time": "2022-09-16T17:29:30.165Z"
   },
   {
    "duration": 5,
    "start_time": "2022-09-16T17:32:31.521Z"
   },
   {
    "duration": 1296,
    "start_time": "2022-09-16T17:33:36.062Z"
   },
   {
    "duration": 3,
    "start_time": "2022-09-16T17:35:12.765Z"
   },
   {
    "duration": 2091,
    "start_time": "2022-09-16T17:35:48.356Z"
   },
   {
    "duration": 1888,
    "start_time": "2022-09-16T17:35:52.979Z"
   },
   {
    "duration": 2362,
    "start_time": "2022-09-16T17:36:01.791Z"
   },
   {
    "duration": 2216,
    "start_time": "2022-09-16T17:36:10.340Z"
   },
   {
    "duration": 2266,
    "start_time": "2022-09-16T17:36:15.686Z"
   },
   {
    "duration": 4467,
    "start_time": "2022-09-16T17:36:28.292Z"
   },
   {
    "duration": 3960,
    "start_time": "2022-09-16T17:36:39.194Z"
   },
   {
    "duration": 4242,
    "start_time": "2022-09-16T17:36:45.922Z"
   },
   {
    "duration": 4156,
    "start_time": "2022-09-16T17:36:55.514Z"
   },
   {
    "duration": 4303,
    "start_time": "2022-09-16T17:37:01.865Z"
   },
   {
    "duration": 8,
    "start_time": "2022-09-16T17:37:11.630Z"
   },
   {
    "duration": 207,
    "start_time": "2022-09-16T17:37:13.075Z"
   },
   {
    "duration": 54,
    "start_time": "2022-09-17T17:08:21.991Z"
   },
   {
    "duration": 3,
    "start_time": "2022-09-17T17:08:27.620Z"
   }
  ],
  "kernelspec": {
   "display_name": "Python 3 (ipykernel)",
   "language": "python",
   "name": "python3"
  },
  "language_info": {
   "codemirror_mode": {
    "name": "ipython",
    "version": 3
   },
   "file_extension": ".py",
   "mimetype": "text/x-python",
   "name": "python",
   "nbconvert_exporter": "python",
   "pygments_lexer": "ipython3",
   "version": "3.9.5"
  },
  "toc": {
   "base_numbering": 1,
   "nav_menu": {},
   "number_sections": false,
   "sideBar": true,
   "skip_h1_title": false,
   "title_cell": "Table of Contents",
   "title_sidebar": "Contents",
   "toc_cell": false,
   "toc_position": {},
   "toc_section_display": true,
   "toc_window_display": false
  },
  "varInspector": {
   "cols": {
    "lenName": 16,
    "lenType": 16,
    "lenVar": 40
   },
   "kernels_config": {
    "python": {
     "delete_cmd_postfix": "",
     "delete_cmd_prefix": "del ",
     "library": "var_list.py",
     "varRefreshCmd": "print(var_dic_list())"
    },
    "r": {
     "delete_cmd_postfix": ") ",
     "delete_cmd_prefix": "rm(",
     "library": "var_list.r",
     "varRefreshCmd": "cat(var_dic_list()) "
    }
   },
   "types_to_exclude": [
    "module",
    "function",
    "builtin_function_or_method",
    "instance",
    "_Feature"
   ],
   "window_display": false
  }
 },
 "nbformat": 4,
 "nbformat_minor": 5
}
