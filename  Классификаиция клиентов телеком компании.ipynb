{
 "cells": [
  {
   "cell_type": "markdown",
   "metadata": {},
   "source": [
    "# Рекомендация тарифов"
   ]
  },
  {
   "cell_type": "markdown",
   "metadata": {},
   "source": [
    "В вашем распоряжении данные о поведении клиентов, которые уже перешли на эти тарифы (из проекта курса «Статистический анализ данных»). Нужно построить модель для задачи классификации, которая выберет подходящий тариф. Предобработка данных не понадобится — вы её уже сделали.\n",
    "\n",
    "Постройте модель с максимально большим значением *accuracy*. Чтобы сдать проект успешно, нужно довести долю правильных ответов по крайней мере до 0.75. Проверьте *accuracy* на тестовой выборке самостоятельно."
   ]
  },
  {
   "cell_type": "code",
   "execution_count": 1,
   "metadata": {},
   "outputs": [],
   "source": [
    "import pandas as pd "
   ]
  },
  {
   "cell_type": "markdown",
   "metadata": {},
   "source": [
    "## Откройте и изучите файл"
   ]
  },
  {
   "cell_type": "code",
   "execution_count": 2,
   "metadata": {},
   "outputs": [],
   "source": [
    "data = pd.read_csv('/datasets/users_behavior.csv')"
   ]
  },
  {
   "cell_type": "code",
   "execution_count": 3,
   "metadata": {},
   "outputs": [
    {
     "data": {
      "text/html": [
       "<div>\n",
       "<style scoped>\n",
       "    .dataframe tbody tr th:only-of-type {\n",
       "        vertical-align: middle;\n",
       "    }\n",
       "\n",
       "    .dataframe tbody tr th {\n",
       "        vertical-align: top;\n",
       "    }\n",
       "\n",
       "    .dataframe thead th {\n",
       "        text-align: right;\n",
       "    }\n",
       "</style>\n",
       "<table border=\"1\" class=\"dataframe\">\n",
       "  <thead>\n",
       "    <tr style=\"text-align: right;\">\n",
       "      <th></th>\n",
       "      <th>calls</th>\n",
       "      <th>minutes</th>\n",
       "      <th>messages</th>\n",
       "      <th>mb_used</th>\n",
       "      <th>is_ultra</th>\n",
       "    </tr>\n",
       "  </thead>\n",
       "  <tbody>\n",
       "    <tr>\n",
       "      <td>0</td>\n",
       "      <td>40.0</td>\n",
       "      <td>311.90</td>\n",
       "      <td>83.0</td>\n",
       "      <td>19915.42</td>\n",
       "      <td>0</td>\n",
       "    </tr>\n",
       "    <tr>\n",
       "      <td>1</td>\n",
       "      <td>85.0</td>\n",
       "      <td>516.75</td>\n",
       "      <td>56.0</td>\n",
       "      <td>22696.96</td>\n",
       "      <td>0</td>\n",
       "    </tr>\n",
       "    <tr>\n",
       "      <td>2</td>\n",
       "      <td>77.0</td>\n",
       "      <td>467.66</td>\n",
       "      <td>86.0</td>\n",
       "      <td>21060.45</td>\n",
       "      <td>0</td>\n",
       "    </tr>\n",
       "    <tr>\n",
       "      <td>3</td>\n",
       "      <td>106.0</td>\n",
       "      <td>745.53</td>\n",
       "      <td>81.0</td>\n",
       "      <td>8437.39</td>\n",
       "      <td>1</td>\n",
       "    </tr>\n",
       "    <tr>\n",
       "      <td>4</td>\n",
       "      <td>66.0</td>\n",
       "      <td>418.74</td>\n",
       "      <td>1.0</td>\n",
       "      <td>14502.75</td>\n",
       "      <td>0</td>\n",
       "    </tr>\n",
       "    <tr>\n",
       "      <td>5</td>\n",
       "      <td>58.0</td>\n",
       "      <td>344.56</td>\n",
       "      <td>21.0</td>\n",
       "      <td>15823.37</td>\n",
       "      <td>0</td>\n",
       "    </tr>\n",
       "    <tr>\n",
       "      <td>6</td>\n",
       "      <td>57.0</td>\n",
       "      <td>431.64</td>\n",
       "      <td>20.0</td>\n",
       "      <td>3738.90</td>\n",
       "      <td>1</td>\n",
       "    </tr>\n",
       "    <tr>\n",
       "      <td>7</td>\n",
       "      <td>15.0</td>\n",
       "      <td>132.40</td>\n",
       "      <td>6.0</td>\n",
       "      <td>21911.60</td>\n",
       "      <td>0</td>\n",
       "    </tr>\n",
       "    <tr>\n",
       "      <td>8</td>\n",
       "      <td>7.0</td>\n",
       "      <td>43.39</td>\n",
       "      <td>3.0</td>\n",
       "      <td>2538.67</td>\n",
       "      <td>1</td>\n",
       "    </tr>\n",
       "    <tr>\n",
       "      <td>9</td>\n",
       "      <td>90.0</td>\n",
       "      <td>665.41</td>\n",
       "      <td>38.0</td>\n",
       "      <td>17358.61</td>\n",
       "      <td>0</td>\n",
       "    </tr>\n",
       "  </tbody>\n",
       "</table>\n",
       "</div>"
      ],
      "text/plain": [
       "   calls  minutes  messages   mb_used  is_ultra\n",
       "0   40.0   311.90      83.0  19915.42         0\n",
       "1   85.0   516.75      56.0  22696.96         0\n",
       "2   77.0   467.66      86.0  21060.45         0\n",
       "3  106.0   745.53      81.0   8437.39         1\n",
       "4   66.0   418.74       1.0  14502.75         0\n",
       "5   58.0   344.56      21.0  15823.37         0\n",
       "6   57.0   431.64      20.0   3738.90         1\n",
       "7   15.0   132.40       6.0  21911.60         0\n",
       "8    7.0    43.39       3.0   2538.67         1\n",
       "9   90.0   665.41      38.0  17358.61         0"
      ]
     },
     "metadata": {},
     "output_type": "display_data"
    }
   ],
   "source": [
    "display(data.head(10))"
   ]
  },
  {
   "cell_type": "code",
   "execution_count": 4,
   "metadata": {},
   "outputs": [
    {
     "name": "stdout",
     "output_type": "stream",
     "text": [
      "<class 'pandas.core.frame.DataFrame'>\n",
      "RangeIndex: 3214 entries, 0 to 3213\n",
      "Data columns (total 5 columns):\n",
      "calls       3214 non-null float64\n",
      "minutes     3214 non-null float64\n",
      "messages    3214 non-null float64\n",
      "mb_used     3214 non-null float64\n",
      "is_ultra    3214 non-null int64\n",
      "dtypes: float64(4), int64(1)\n",
      "memory usage: 125.7 KB\n"
     ]
    }
   ],
   "source": [
    "data.info()"
   ]
  },
  {
   "cell_type": "code",
   "execution_count": 5,
   "metadata": {},
   "outputs": [
    {
     "data": {
      "text/html": [
       "<div>\n",
       "<style scoped>\n",
       "    .dataframe tbody tr th:only-of-type {\n",
       "        vertical-align: middle;\n",
       "    }\n",
       "\n",
       "    .dataframe tbody tr th {\n",
       "        vertical-align: top;\n",
       "    }\n",
       "\n",
       "    .dataframe thead th {\n",
       "        text-align: right;\n",
       "    }\n",
       "</style>\n",
       "<table border=\"1\" class=\"dataframe\">\n",
       "  <thead>\n",
       "    <tr style=\"text-align: right;\">\n",
       "      <th></th>\n",
       "      <th>calls</th>\n",
       "      <th>minutes</th>\n",
       "      <th>messages</th>\n",
       "      <th>mb_used</th>\n",
       "      <th>is_ultra</th>\n",
       "    </tr>\n",
       "  </thead>\n",
       "  <tbody>\n",
       "    <tr>\n",
       "      <td>count</td>\n",
       "      <td>3214.00</td>\n",
       "      <td>3214.00</td>\n",
       "      <td>3214.00</td>\n",
       "      <td>3214.00</td>\n",
       "      <td>3214.00</td>\n",
       "    </tr>\n",
       "    <tr>\n",
       "      <td>mean</td>\n",
       "      <td>63.04</td>\n",
       "      <td>438.21</td>\n",
       "      <td>38.28</td>\n",
       "      <td>17207.67</td>\n",
       "      <td>0.31</td>\n",
       "    </tr>\n",
       "    <tr>\n",
       "      <td>std</td>\n",
       "      <td>33.24</td>\n",
       "      <td>234.57</td>\n",
       "      <td>36.15</td>\n",
       "      <td>7570.97</td>\n",
       "      <td>0.46</td>\n",
       "    </tr>\n",
       "    <tr>\n",
       "      <td>min</td>\n",
       "      <td>0.00</td>\n",
       "      <td>0.00</td>\n",
       "      <td>0.00</td>\n",
       "      <td>0.00</td>\n",
       "      <td>0.00</td>\n",
       "    </tr>\n",
       "    <tr>\n",
       "      <td>25%</td>\n",
       "      <td>40.00</td>\n",
       "      <td>274.58</td>\n",
       "      <td>9.00</td>\n",
       "      <td>12491.90</td>\n",
       "      <td>0.00</td>\n",
       "    </tr>\n",
       "    <tr>\n",
       "      <td>50%</td>\n",
       "      <td>62.00</td>\n",
       "      <td>430.60</td>\n",
       "      <td>30.00</td>\n",
       "      <td>16943.24</td>\n",
       "      <td>0.00</td>\n",
       "    </tr>\n",
       "    <tr>\n",
       "      <td>75%</td>\n",
       "      <td>82.00</td>\n",
       "      <td>571.93</td>\n",
       "      <td>57.00</td>\n",
       "      <td>21424.70</td>\n",
       "      <td>1.00</td>\n",
       "    </tr>\n",
       "    <tr>\n",
       "      <td>max</td>\n",
       "      <td>244.00</td>\n",
       "      <td>1632.06</td>\n",
       "      <td>224.00</td>\n",
       "      <td>49745.73</td>\n",
       "      <td>1.00</td>\n",
       "    </tr>\n",
       "  </tbody>\n",
       "</table>\n",
       "</div>"
      ],
      "text/plain": [
       "         calls  minutes  messages   mb_used  is_ultra\n",
       "count  3214.00  3214.00   3214.00   3214.00   3214.00\n",
       "mean     63.04   438.21     38.28  17207.67      0.31\n",
       "std      33.24   234.57     36.15   7570.97      0.46\n",
       "min       0.00     0.00      0.00      0.00      0.00\n",
       "25%      40.00   274.58      9.00  12491.90      0.00\n",
       "50%      62.00   430.60     30.00  16943.24      0.00\n",
       "75%      82.00   571.93     57.00  21424.70      1.00\n",
       "max     244.00  1632.06    224.00  49745.73      1.00"
      ]
     },
     "execution_count": 5,
     "metadata": {},
     "output_type": "execute_result"
    }
   ],
   "source": [
    "data.describe().round(2)"
   ]
  },
  {
   "cell_type": "markdown",
   "metadata": {},
   "source": [
    "## Разбейте данные на выборки"
   ]
  },
  {
   "cell_type": "code",
   "execution_count": 6,
   "metadata": {},
   "outputs": [],
   "source": [
    "from sklearn.model_selection import train_test_split"
   ]
  },
  {
   "cell_type": "code",
   "execution_count": 7,
   "metadata": {},
   "outputs": [],
   "source": [
    "features = data.drop('is_ultra', axis=1)\n",
    "target = data['is_ultra']"
   ]
  },
  {
   "cell_type": "code",
   "execution_count": 8,
   "metadata": {},
   "outputs": [],
   "source": [
    "features_train, features_valid, target_train, target_valid = train_test_split(\n",
    "    features, target, test_size=0.4,train_size=0.6, random_state=123)\n",
    "\n",
    "features_test, features_valid, target_test, target_valid = train_test_split(features_valid,target_valid,test_size = 0.25) \n"
   ]
  },
  {
   "cell_type": "markdown",
   "metadata": {},
   "source": [
    "## Исследуйте модели"
   ]
  },
  {
   "cell_type": "code",
   "execution_count": 9,
   "metadata": {},
   "outputs": [],
   "source": [
    "from sklearn.tree import DecisionTreeClassifier\n",
    "from sklearn.ensemble import RandomForestClassifier\n",
    "from sklearn.linear_model import LogisticRegression\n",
    "from sklearn.metrics import accuracy_score"
   ]
  },
  {
   "cell_type": "markdown",
   "metadata": {},
   "source": [
    "Начнем с модели дерева решений: исследуем некоторую глубину моделей"
   ]
  },
  {
   "cell_type": "code",
   "execution_count": 10,
   "metadata": {},
   "outputs": [
    {
     "name": "stdout",
     "output_type": "stream",
     "text": [
      "Accuracy лучшей модели: 0.8043478260869565\n",
      "Характеристика лучшей модели: \n",
      " DecisionTreeClassifier(class_weight=None, criterion='gini', max_depth=3,\n",
      "                       max_features=None, max_leaf_nodes=None,\n",
      "                       min_impurity_decrease=0.0, min_impurity_split=None,\n",
      "                       min_samples_leaf=1, min_samples_split=2,\n",
      "                       min_weight_fraction_leaf=0.0, presort=False,\n",
      "                       random_state=123, splitter='best')\n"
     ]
    }
   ],
   "source": [
    "best_model = None\n",
    "best_result = 0\n",
    "for depth in range(1, 6):\n",
    "    decision_tree_model = DecisionTreeClassifier(random_state=123, max_depth= depth)\n",
    "    decision_tree_model.fit(features_train, target_train) \n",
    "    predictions = decision_tree_model.predict(features_valid) \n",
    "    result = accuracy_score(target_valid, predictions)\n",
    "    if result > best_result:\n",
    "        best_model = decision_tree_model\n",
    "        best_result = result\n",
    "        \n",
    "print(\"Accuracy лучшей модели:\", best_result)\n",
    "print('Характеристика лучшей модели:', '\\n', best_model)"
   ]
  },
  {
   "cell_type": "markdown",
   "metadata": {},
   "source": [
    "Теперь разберемся с RandomForest. Здесь рассмотрим количество деревьев"
   ]
  },
  {
   "cell_type": "code",
   "execution_count": 11,
   "metadata": {},
   "outputs": [
    {
     "name": "stdout",
     "output_type": "stream",
     "text": [
      "Accuracy наилучшей модели на валидационной выборке: 0.782608695652174\n",
      "Характеристика лучшей модели: \n",
      " RandomForestClassifier(bootstrap=True, class_weight=None, criterion='gini',\n",
      "                       max_depth=None, max_features='auto', max_leaf_nodes=None,\n",
      "                       min_impurity_decrease=0.0, min_impurity_split=None,\n",
      "                       min_samples_leaf=1, min_samples_split=2,\n",
      "                       min_weight_fraction_leaf=0.0, n_estimators=10,\n",
      "                       n_jobs=None, oob_score=False, random_state=123,\n",
      "                       verbose=0, warm_start=False)\n"
     ]
    }
   ],
   "source": [
    "best_model = None\n",
    "best_result = 0\n",
    "for est in range(10, 20, 50):\n",
    "    RandomForest_model = RandomForestClassifier(random_state=123, n_estimators= est) \n",
    "    RandomForest_model.fit(features_train, target_train) \n",
    "    result = RandomForest_model.score(features_valid, target_valid)\n",
    "    if result > best_result:\n",
    "        best_model = RandomForest_model \n",
    "        best_result = result\n",
    "print(\"Accuracy наилучшей модели на валидационной выборке:\", best_result)\n",
    "print('Характеристика лучшей модели:', '\\n', best_model)"
   ]
  },
  {
   "cell_type": "markdown",
   "metadata": {},
   "source": [
    "Поскольку стоит задача классификации теперь надо рассмотреть модель логистической регресси. "
   ]
  },
  {
   "cell_type": "code",
   "execution_count": 12,
   "metadata": {},
   "outputs": [
    {
     "name": "stdout",
     "output_type": "stream",
     "text": [
      "Accuracy 0.6863354037267081\n"
     ]
    },
    {
     "name": "stderr",
     "output_type": "stream",
     "text": [
      "/opt/conda/lib/python3.7/site-packages/sklearn/linear_model/logistic.py:432: FutureWarning: Default solver will be changed to 'lbfgs' in 0.22. Specify a solver to silence this warning.\n",
      "  FutureWarning)\n"
     ]
    }
   ],
   "source": [
    "LogisticRegression_model = LogisticRegression(random_state=123)\n",
    "LogisticRegression_model.fit(features_train, target_train)\n",
    "print('Accuracy',LogisticRegression_model.score(features_valid, target_valid))"
   ]
  },
  {
   "cell_type": "markdown",
   "metadata": {},
   "source": [
    "Такая точность не подходит под ТЗ"
   ]
  },
  {
   "cell_type": "markdown",
   "metadata": {},
   "source": [
    "## Проверьте модель на тестовой выборке"
   ]
  },
  {
   "cell_type": "markdown",
   "metadata": {},
   "source": [
    "Результат модели дерева решений на тестовой выборке:"
   ]
  },
  {
   "cell_type": "code",
   "execution_count": 16,
   "metadata": {},
   "outputs": [
    {
     "data": {
      "text/plain": [
       "0.7977178423236515"
      ]
     },
     "execution_count": 16,
     "metadata": {},
     "output_type": "execute_result"
    }
   ],
   "source": [
    "decision_tree_model.score(features_test, target_test)"
   ]
  },
  {
   "cell_type": "markdown",
   "metadata": {},
   "source": [
    "Данная модель уже удовлетворяет условиям технического задания. Попробуем улучшить результат с другими моделями."
   ]
  },
  {
   "cell_type": "markdown",
   "metadata": {},
   "source": [
    "Результат модели Random Forest на тестовой выборке:"
   ]
  },
  {
   "cell_type": "code",
   "execution_count": 17,
   "metadata": {},
   "outputs": [
    {
     "data": {
      "text/plain": [
       "0.8008298755186722"
      ]
     },
     "execution_count": 17,
     "metadata": {},
     "output_type": "execute_result"
    }
   ],
   "source": [
    "RandomForest_model.score(features_test, target_test)"
   ]
  },
  {
   "cell_type": "markdown",
   "metadata": {},
   "source": [
    "И наконец логистическая регрессия:"
   ]
  },
  {
   "cell_type": "code",
   "execution_count": 27,
   "metadata": {},
   "outputs": [
    {
     "data": {
      "text/plain": [
       "0.7157676348547718"
      ]
     },
     "execution_count": 27,
     "metadata": {},
     "output_type": "execute_result"
    }
   ],
   "source": [
    "\n",
    "LogisticRegression_model.score(features_test, target_test)"
   ]
  },
  {
   "cell_type": "markdown",
   "metadata": {},
   "source": [
    "## (бонус) Проверьте модели на адекватность"
   ]
  },
  {
   "cell_type": "markdown",
   "metadata": {},
   "source": [
    "Тепрь еще раз оценим каждую модель, но уже по нескольким другим метрикам из инструментария SKLearn "
   ]
  },
  {
   "cell_type": "code",
   "execution_count": 23,
   "metadata": {},
   "outputs": [],
   "source": [
    "from sklearn.metrics import accuracy_score\n",
    "from sklearn.metrics import roc_auc_score\n",
    "from sklearn.metrics import f1_score"
   ]
  },
  {
   "cell_type": "code",
   "execution_count": 25,
   "metadata": {},
   "outputs": [
    {
     "name": "stdout",
     "output_type": "stream",
     "text": [
      "accuracy: 0.7977178423236515\n",
      "roc_auc: 0.7094555298792068\n",
      "f1 score: 0.7839116956966985\n"
     ]
    }
   ],
   "source": [
    "print('accuracy:', accuracy_score(target_test, decision_tree_model.predict(features_test)))\n",
    "print('roc_auc:', roc_auc_score(target_test, decision_tree_model.predict(features_test)))\n",
    "print('f1 score:', f1_score(target_test, decision_tree_model.predict(features_test),average='weighted'))"
   ]
  },
  {
   "cell_type": "code",
   "execution_count": 26,
   "metadata": {},
   "outputs": [
    {
     "name": "stdout",
     "output_type": "stream",
     "text": [
      "accuracy: 0.8008298755186722\n",
      "roc_auc: 0.7287325204967602\n",
      "f1 score: 0.7925202602552947\n"
     ]
    }
   ],
   "source": [
    "print('accuracy:', accuracy_score(target_test, RandomForest_model.predict(features_test)))\n",
    "print('roc_auc:', roc_auc_score(target_test, RandomForest_model.predict(features_test)))\n",
    "print('f1 score:', f1_score(target_test, RandomForest_model.predict(features_test),average='weighted'))"
   ]
  },
  {
   "cell_type": "code",
   "execution_count": 28,
   "metadata": {},
   "outputs": [
    {
     "name": "stdout",
     "output_type": "stream",
     "text": [
      "accuracy: 0.7157676348547718\n",
      "roc_auc: 0.5316805541973968\n",
      "f1 score: 0.6239569945597264\n"
     ]
    }
   ],
   "source": [
    "print('accuracy:', accuracy_score(target_test, LogisticRegression_model.predict(features_test)))\n",
    "print('roc_auc:', roc_auc_score(target_test, LogisticRegression_model.predict(features_test)))\n",
    "print('f1 score:', f1_score(target_test, LogisticRegression_model.predict(features_test),average='weighted'))"
   ]
  },
  {
   "cell_type": "markdown",
   "metadata": {},
   "source": [
    "## Вывод"
   ]
  },
  {
   "cell_type": "markdown",
   "metadata": {},
   "source": [
    "Итак, показатели моделей DecisionTree и RandomForest достаточно успешно прошли тесты другими метриками, а вот логистическая регрессия неплохо показавшая себя на тестовой выборке совсем провалила остальные \"зачеты\"."
   ]
  }
 ],
 "metadata": {
  "ExecuteTimeLog": [
   {
    "duration": 588,
    "start_time": "2022-01-14T18:26:41.632Z"
   },
   {
    "duration": 21,
    "start_time": "2022-01-14T18:26:43.573Z"
   },
   {
    "duration": 19,
    "start_time": "2022-01-14T18:26:51.897Z"
   },
   {
    "duration": 8,
    "start_time": "2022-01-14T18:27:02.046Z"
   },
   {
    "duration": 22,
    "start_time": "2022-01-14T18:27:11.323Z"
   },
   {
    "duration": 22,
    "start_time": "2022-01-14T18:27:18.737Z"
   },
   {
    "duration": 258,
    "start_time": "2022-01-14T18:38:12.108Z"
   },
   {
    "duration": 449,
    "start_time": "2022-01-14T18:38:15.707Z"
   },
   {
    "duration": 263,
    "start_time": "2022-01-14T18:38:16.753Z"
   },
   {
    "duration": 209,
    "start_time": "2022-01-14T18:40:58.208Z"
   },
   {
    "duration": 204,
    "start_time": "2022-01-14T18:41:08.807Z"
   },
   {
    "duration": 4,
    "start_time": "2022-01-14T18:45:57.301Z"
   },
   {
    "duration": 826,
    "start_time": "2022-01-15T08:39:27.448Z"
   },
   {
    "duration": 25,
    "start_time": "2022-01-15T08:39:28.278Z"
   },
   {
    "duration": 24,
    "start_time": "2022-01-15T08:39:28.306Z"
   },
   {
    "duration": 9,
    "start_time": "2022-01-15T08:39:28.333Z"
   },
   {
    "duration": 47,
    "start_time": "2022-01-15T08:39:28.364Z"
   },
   {
    "duration": 632,
    "start_time": "2022-01-15T08:39:28.413Z"
   },
   {
    "duration": 6,
    "start_time": "2022-01-15T08:39:29.048Z"
   },
   {
    "duration": 474,
    "start_time": "2022-01-15T08:39:29.065Z"
   },
   {
    "duration": 300,
    "start_time": "2022-01-15T08:39:53.190Z"
   },
   {
    "duration": 278,
    "start_time": "2022-01-15T08:40:03.155Z"
   },
   {
    "duration": 280,
    "start_time": "2022-01-15T08:40:58.487Z"
   },
   {
    "duration": 254,
    "start_time": "2022-01-15T08:44:12.147Z"
   },
   {
    "duration": 3,
    "start_time": "2022-01-15T08:44:55.820Z"
   },
   {
    "duration": 270,
    "start_time": "2022-01-15T08:44:56.414Z"
   },
   {
    "duration": 268,
    "start_time": "2022-01-15T08:51:52.410Z"
   },
   {
    "duration": 300,
    "start_time": "2022-01-15T08:52:04.912Z"
   },
   {
    "duration": 275,
    "start_time": "2022-01-15T08:52:31.380Z"
   },
   {
    "duration": 760,
    "start_time": "2022-01-15T09:48:59.191Z"
   },
   {
    "duration": 28,
    "start_time": "2022-01-15T09:48:59.954Z"
   },
   {
    "duration": 25,
    "start_time": "2022-01-15T09:48:59.985Z"
   },
   {
    "duration": 8,
    "start_time": "2022-01-15T09:49:00.013Z"
   },
   {
    "duration": 68,
    "start_time": "2022-01-15T09:49:00.024Z"
   },
   {
    "duration": 570,
    "start_time": "2022-01-15T09:49:00.095Z"
   },
   {
    "duration": 6,
    "start_time": "2022-01-15T09:49:00.669Z"
   },
   {
    "duration": 5,
    "start_time": "2022-01-15T09:59:48.186Z"
   },
   {
    "duration": 10,
    "start_time": "2022-01-15T09:59:49.033Z"
   },
   {
    "duration": 437,
    "start_time": "2022-01-15T10:00:23.556Z"
   },
   {
    "duration": 53,
    "start_time": "2022-01-15T10:09:58.394Z"
   },
   {
    "duration": 36,
    "start_time": "2022-01-15T10:15:12.004Z"
   },
   {
    "duration": 42,
    "start_time": "2022-01-15T10:16:11.638Z"
   },
   {
    "duration": 36,
    "start_time": "2022-01-15T10:16:42.195Z"
   },
   {
    "duration": 37,
    "start_time": "2022-01-15T10:17:11.784Z"
   },
   {
    "duration": 358,
    "start_time": "2022-01-15T10:23:23.286Z"
   },
   {
    "duration": 345,
    "start_time": "2022-01-15T10:23:52.082Z"
   },
   {
    "duration": 25,
    "start_time": "2022-01-15T10:38:57.365Z"
   },
   {
    "duration": 9,
    "start_time": "2022-01-15T10:43:37.480Z"
   },
   {
    "duration": 14,
    "start_time": "2022-01-15T10:45:29.513Z"
   },
   {
    "duration": 56,
    "start_time": "2022-01-15T10:46:28.144Z"
   },
   {
    "duration": 53,
    "start_time": "2022-01-15T10:46:33.679Z"
   },
   {
    "duration": 19,
    "start_time": "2022-01-15T10:49:17.020Z"
   },
   {
    "duration": 77,
    "start_time": "2022-01-15T10:49:29.085Z"
   },
   {
    "duration": 125,
    "start_time": "2022-01-15T10:49:35.686Z"
   },
   {
    "duration": 298,
    "start_time": "2022-01-15T10:49:39.794Z"
   },
   {
    "duration": 407,
    "start_time": "2022-01-15T10:49:50.294Z"
   },
   {
    "duration": 19,
    "start_time": "2022-01-15T10:50:05.005Z"
   },
   {
    "duration": 17,
    "start_time": "2022-01-15T10:50:09.441Z"
   },
   {
    "duration": 15,
    "start_time": "2022-01-15T10:50:14.014Z"
   },
   {
    "duration": 12,
    "start_time": "2022-01-15T10:50:17.715Z"
   },
   {
    "duration": 268,
    "start_time": "2022-01-15T10:51:21.110Z"
   },
   {
    "duration": 119,
    "start_time": "2022-01-15T10:51:41.947Z"
   },
   {
    "duration": 120,
    "start_time": "2022-01-15T10:51:56.447Z"
   },
   {
    "duration": 87,
    "start_time": "2022-01-15T10:52:19.313Z"
   },
   {
    "duration": 65,
    "start_time": "2022-01-15T10:52:34.978Z"
   },
   {
    "duration": 67,
    "start_time": "2022-01-15T10:52:44.804Z"
   },
   {
    "duration": 547,
    "start_time": "2022-01-17T15:02:15.948Z"
   },
   {
    "duration": 18,
    "start_time": "2022-01-17T15:02:16.497Z"
   },
   {
    "duration": 17,
    "start_time": "2022-01-17T15:02:16.517Z"
   },
   {
    "duration": 10,
    "start_time": "2022-01-17T15:02:16.536Z"
   },
   {
    "duration": 26,
    "start_time": "2022-01-17T15:02:16.547Z"
   },
   {
    "duration": 453,
    "start_time": "2022-01-17T15:02:16.575Z"
   },
   {
    "duration": 4,
    "start_time": "2022-01-17T15:02:17.029Z"
   },
   {
    "duration": 10,
    "start_time": "2022-01-17T15:02:17.034Z"
   },
   {
    "duration": 34,
    "start_time": "2022-01-17T15:02:17.046Z"
   },
   {
    "duration": 37,
    "start_time": "2022-01-17T15:02:17.082Z"
   },
   {
    "duration": 44,
    "start_time": "2022-01-17T15:02:17.121Z"
   },
   {
    "duration": 10,
    "start_time": "2022-01-17T15:02:17.166Z"
   },
   {
    "duration": 10,
    "start_time": "2022-01-17T15:02:17.199Z"
   },
   {
    "duration": 44,
    "start_time": "2022-01-17T15:02:17.211Z"
   },
   {
    "duration": 10,
    "start_time": "2022-01-17T15:02:17.256Z"
   },
   {
    "duration": 6,
    "start_time": "2022-01-17T15:20:20.890Z"
   },
   {
    "duration": 42,
    "start_time": "2022-01-17T15:20:23.946Z"
   },
   {
    "duration": 3,
    "start_time": "2022-01-17T15:23:24.098Z"
   },
   {
    "duration": 6,
    "start_time": "2022-01-17T15:24:11.874Z"
   },
   {
    "duration": 816,
    "start_time": "2022-01-17T15:36:20.410Z"
   },
   {
    "duration": 610,
    "start_time": "2022-01-17T15:36:24.606Z"
   },
   {
    "duration": 420,
    "start_time": "2022-01-17T15:36:25.519Z"
   },
   {
    "duration": 3,
    "start_time": "2022-01-17T15:36:32.862Z"
   },
   {
    "duration": 11,
    "start_time": "2022-01-17T15:36:35.266Z"
   },
   {
    "duration": 11,
    "start_time": "2022-01-17T15:37:48.990Z"
   },
   {
    "duration": 17,
    "start_time": "2022-01-17T15:39:05.298Z"
   },
   {
    "duration": 5,
    "start_time": "2022-01-17T15:40:08.006Z"
   },
   {
    "duration": 10,
    "start_time": "2022-01-17T15:40:36.366Z"
   }
  ],
  "kernelspec": {
   "display_name": "Python 3 (ipykernel)",
   "language": "python",
   "name": "python3"
  },
  "language_info": {
   "codemirror_mode": {
    "name": "ipython",
    "version": 3
   },
   "file_extension": ".py",
   "mimetype": "text/x-python",
   "name": "python",
   "nbconvert_exporter": "python",
   "pygments_lexer": "ipython3",
   "version": "3.9.5"
  },
  "toc": {
   "base_numbering": 1,
   "nav_menu": {},
   "number_sections": true,
   "sideBar": true,
   "skip_h1_title": true,
   "title_cell": "Table of Contents",
   "title_sidebar": "Contents",
   "toc_cell": false,
   "toc_position": {},
   "toc_section_display": true,
   "toc_window_display": false
  }
 },
 "nbformat": 4,
 "nbformat_minor": 2
}
